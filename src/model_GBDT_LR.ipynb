{
 "cells": [
  {
   "cell_type": "code",
   "execution_count": 24,
   "id": "e010b4b9",
   "metadata": {},
   "outputs": [],
   "source": [
    "from datetime import datetime\n",
    "import matplotlib.dates as mdates\n",
    "import pandas as pd\n",
    "import matplotlib.pyplot as plt\n",
    "import numpy as np\n",
    "import seaborn as sns\n",
    "import pygeohash as pgh\n",
    "from sklearn import preprocessing\n",
    "from sklearn.linear_model import LogisticRegression\n",
    "from sklearn.model_selection import train_test_split\n",
    "from sklearn.metrics import accuracy_score\n",
    "from sklearn.metrics import confusion_matrix\n",
    "\n",
    "from sktools import GradientBoostingFeatureGenerator\n",
    "from sklearn.datasets import make_classification\n",
    "from sklearn.pipeline import Pipeline\n",
    "\n"
   ]
  },
  {
   "cell_type": "code",
   "execution_count": 25,
   "id": "0c6e4ade",
   "metadata": {},
   "outputs": [],
   "source": [
    "df = pd.read_csv(r'D:\\UCL\\Term3\\tbx-flaring-shihao\\data\\final_data\\final_df.csv')"
   ]
  },
  {
   "cell_type": "code",
   "execution_count": 26,
   "id": "79d1eeb0",
   "metadata": {},
   "outputs": [
    {
     "data": {
      "text/plain": [
       "Index(['Unnamed: 0', 'subbasin', 'county', 'tst_permit_date',\n",
       "       'tst_permit_published_date', 'tst_spud_date', 'tst_completion_date',\n",
       "       'tst_fracfocus_jobstart_date', 'tst_fracfocus_jobend_date', 'lat',\n",
       "       'long', 'wells', 'area_m2', 'tst_first_detection_date', 'company_type',\n",
       "       'wellpad_vintage_year', 'flare_t_start', 'flare_t_end', 'comp_diff',\n",
       "       'spud_diff', 'permit_diff', 'detection_diff', 'power', 'rad', 'aq_date',\n",
       "       't_diff', 'days_diffs', 'pad_status'],\n",
       "      dtype='object')"
      ]
     },
     "execution_count": 26,
     "metadata": {},
     "output_type": "execute_result"
    }
   ],
   "source": [
    "df1 = df.drop(columns=['Unnamed: 0.1','api','state','basin','style','wellpads_id','Unnamed: 0.2','id_','confidence','source_id','spatial_group','temporal_group','X','Y','best_estimate_diff'])\n",
    "df1.columns"
   ]
  },
  {
   "cell_type": "code",
   "execution_count": 27,
   "id": "15991d83",
   "metadata": {},
   "outputs": [],
   "source": [
    "df1['aq_date'] = pd.to_datetime(df1['aq_date'], format='%Y%m%d %H:%M')\n",
    "df1['flare_t_start'] = pd.to_datetime(df1['flare_t_start'], format='%Y%m%d %H:%M')\n",
    "df1['flare_t_end'] = pd.to_datetime(df1['flare_t_end'], format='%Y%m%d %H:%M')\n",
    "df1['flare_t_start_tillnow'] = pd.to_datetime(\"today\").date() - df1['flare_t_start'].dt.date\n",
    "df1['flare_t_end_tillnow'] = pd.to_datetime(\"today\").date() - df1['flare_t_end'].dt.date\n",
    "\n",
    "df1['flaring_event_tillnow'] = pd.to_datetime(\"today\").date() - df1['aq_date'].dt.date\n",
    "\n",
    "df1['flaring_event_till3month_fromnow'] = df1['flaring_event_tillnow'].apply(lambda x: 1 if x >np.timedelta64(180, 'D') else 0)# 10,100...  slightly lower acc, but 180 still above 80%+\n",
    "\n",
    "df1 = df1.drop(columns=['tst_permit_date','tst_permit_published_date','tst_spud_date','tst_completion_date','tst_fracfocus_jobstart_date','tst_fracfocus_jobend_date','tst_first_detection_date','t_diff','flare_t_start','flare_t_end','aq_date'])\n",
    "\n",
    "df1['flare_t_start_tillnow'] = df1['flare_t_start_tillnow']/np.timedelta64(1, 'D')\n",
    "df1['flare_t_end_tillnow']= df1['flare_t_end_tillnow']/np.timedelta64(1, 'D')\n",
    "df1['flaring_event_tillnow'] = df1['flaring_event_tillnow']/np.timedelta64(1, 'D')"
   ]
  },
  {
   "cell_type": "code",
   "execution_count": 28,
   "id": "db142f12",
   "metadata": {},
   "outputs": [
    {
     "data": {
      "text/html": [
       "<div>\n",
       "<style scoped>\n",
       "    .dataframe tbody tr th:only-of-type {\n",
       "        vertical-align: middle;\n",
       "    }\n",
       "\n",
       "    .dataframe tbody tr th {\n",
       "        vertical-align: top;\n",
       "    }\n",
       "\n",
       "    .dataframe thead th {\n",
       "        text-align: right;\n",
       "    }\n",
       "</style>\n",
       "<table border=\"1\" class=\"dataframe\">\n",
       "  <thead>\n",
       "    <tr style=\"text-align: right;\">\n",
       "      <th></th>\n",
       "      <th>Unnamed: 0</th>\n",
       "      <th>subbasin</th>\n",
       "      <th>county</th>\n",
       "      <th>lat</th>\n",
       "      <th>long</th>\n",
       "      <th>wells</th>\n",
       "      <th>area_m2</th>\n",
       "      <th>company_type</th>\n",
       "      <th>wellpad_vintage_year</th>\n",
       "      <th>comp_diff</th>\n",
       "      <th>...</th>\n",
       "      <th>permit_diff</th>\n",
       "      <th>detection_diff</th>\n",
       "      <th>power</th>\n",
       "      <th>rad</th>\n",
       "      <th>days_diffs</th>\n",
       "      <th>pad_status</th>\n",
       "      <th>flare_t_start_tillnow</th>\n",
       "      <th>flare_t_end_tillnow</th>\n",
       "      <th>flaring_event_tillnow</th>\n",
       "      <th>flaring_event_till3month_fromnow</th>\n",
       "    </tr>\n",
       "  </thead>\n",
       "  <tbody>\n",
       "    <tr>\n",
       "      <th>0</th>\n",
       "      <td>90222</td>\n",
       "      <td>Delaware</td>\n",
       "      <td>Loving</td>\n",
       "      <td>31.9281</td>\n",
       "      <td>-103.6350</td>\n",
       "      <td>3</td>\n",
       "      <td>22543.56642</td>\n",
       "      <td>Private</td>\n",
       "      <td>2022</td>\n",
       "      <td>62.0</td>\n",
       "      <td>...</td>\n",
       "      <td>103.0</td>\n",
       "      <td>140.0</td>\n",
       "      <td>0.240971</td>\n",
       "      <td>0.447881</td>\n",
       "      <td>123.0</td>\n",
       "      <td>4</td>\n",
       "      <td>2857.0</td>\n",
       "      <td>2809.0</td>\n",
       "      <td>2857.0</td>\n",
       "      <td>1</td>\n",
       "    </tr>\n",
       "    <tr>\n",
       "      <th>1</th>\n",
       "      <td>90222</td>\n",
       "      <td>Delaware</td>\n",
       "      <td>Loving</td>\n",
       "      <td>31.9281</td>\n",
       "      <td>-103.6350</td>\n",
       "      <td>3</td>\n",
       "      <td>22543.56642</td>\n",
       "      <td>Private</td>\n",
       "      <td>2022</td>\n",
       "      <td>62.0</td>\n",
       "      <td>...</td>\n",
       "      <td>103.0</td>\n",
       "      <td>140.0</td>\n",
       "      <td>0.731796</td>\n",
       "      <td>0.384363</td>\n",
       "      <td>1.0</td>\n",
       "      <td>4</td>\n",
       "      <td>2857.0</td>\n",
       "      <td>2809.0</td>\n",
       "      <td>2855.0</td>\n",
       "      <td>1</td>\n",
       "    </tr>\n",
       "    <tr>\n",
       "      <th>2</th>\n",
       "      <td>90222</td>\n",
       "      <td>Delaware</td>\n",
       "      <td>Loving</td>\n",
       "      <td>31.9281</td>\n",
       "      <td>-103.6350</td>\n",
       "      <td>3</td>\n",
       "      <td>22543.56642</td>\n",
       "      <td>Private</td>\n",
       "      <td>2022</td>\n",
       "      <td>62.0</td>\n",
       "      <td>...</td>\n",
       "      <td>103.0</td>\n",
       "      <td>140.0</td>\n",
       "      <td>0.998371</td>\n",
       "      <td>0.413679</td>\n",
       "      <td>2.0</td>\n",
       "      <td>4</td>\n",
       "      <td>2857.0</td>\n",
       "      <td>2809.0</td>\n",
       "      <td>2853.0</td>\n",
       "      <td>1</td>\n",
       "    </tr>\n",
       "    <tr>\n",
       "      <th>3</th>\n",
       "      <td>90222</td>\n",
       "      <td>Delaware</td>\n",
       "      <td>Loving</td>\n",
       "      <td>31.9281</td>\n",
       "      <td>-103.6350</td>\n",
       "      <td>3</td>\n",
       "      <td>22543.56642</td>\n",
       "      <td>Private</td>\n",
       "      <td>2022</td>\n",
       "      <td>62.0</td>\n",
       "      <td>...</td>\n",
       "      <td>103.0</td>\n",
       "      <td>140.0</td>\n",
       "      <td>0.822643</td>\n",
       "      <td>0.408657</td>\n",
       "      <td>0.0</td>\n",
       "      <td>4</td>\n",
       "      <td>2857.0</td>\n",
       "      <td>2809.0</td>\n",
       "      <td>2853.0</td>\n",
       "      <td>1</td>\n",
       "    </tr>\n",
       "    <tr>\n",
       "      <th>4</th>\n",
       "      <td>90222</td>\n",
       "      <td>Delaware</td>\n",
       "      <td>Loving</td>\n",
       "      <td>31.9281</td>\n",
       "      <td>-103.6350</td>\n",
       "      <td>3</td>\n",
       "      <td>22543.56642</td>\n",
       "      <td>Private</td>\n",
       "      <td>2022</td>\n",
       "      <td>62.0</td>\n",
       "      <td>...</td>\n",
       "      <td>103.0</td>\n",
       "      <td>140.0</td>\n",
       "      <td>0.370339</td>\n",
       "      <td>0.395678</td>\n",
       "      <td>0.0</td>\n",
       "      <td>4</td>\n",
       "      <td>2857.0</td>\n",
       "      <td>2809.0</td>\n",
       "      <td>2852.0</td>\n",
       "      <td>1</td>\n",
       "    </tr>\n",
       "    <tr>\n",
       "      <th>...</th>\n",
       "      <td>...</td>\n",
       "      <td>...</td>\n",
       "      <td>...</td>\n",
       "      <td>...</td>\n",
       "      <td>...</td>\n",
       "      <td>...</td>\n",
       "      <td>...</td>\n",
       "      <td>...</td>\n",
       "      <td>...</td>\n",
       "      <td>...</td>\n",
       "      <td>...</td>\n",
       "      <td>...</td>\n",
       "      <td>...</td>\n",
       "      <td>...</td>\n",
       "      <td>...</td>\n",
       "      <td>...</td>\n",
       "      <td>...</td>\n",
       "      <td>...</td>\n",
       "      <td>...</td>\n",
       "      <td>...</td>\n",
       "      <td>...</td>\n",
       "    </tr>\n",
       "    <tr>\n",
       "      <th>2421</th>\n",
       "      <td>89875</td>\n",
       "      <td>Midland</td>\n",
       "      <td>Dawson</td>\n",
       "      <td>32.8602</td>\n",
       "      <td>-101.7362</td>\n",
       "      <td>1</td>\n",
       "      <td>11059.22690</td>\n",
       "      <td>Private</td>\n",
       "      <td>2021</td>\n",
       "      <td>NaN</td>\n",
       "      <td>...</td>\n",
       "      <td>NaN</td>\n",
       "      <td>NaN</td>\n",
       "      <td>NaN</td>\n",
       "      <td>NaN</td>\n",
       "      <td>NaN</td>\n",
       "      <td>4</td>\n",
       "      <td>NaN</td>\n",
       "      <td>NaN</td>\n",
       "      <td>NaN</td>\n",
       "      <td>0</td>\n",
       "    </tr>\n",
       "    <tr>\n",
       "      <th>2422</th>\n",
       "      <td>90172</td>\n",
       "      <td>Delaware</td>\n",
       "      <td>Loving</td>\n",
       "      <td>31.9281</td>\n",
       "      <td>-103.6398</td>\n",
       "      <td>3</td>\n",
       "      <td>21532.55194</td>\n",
       "      <td>Public</td>\n",
       "      <td>2022</td>\n",
       "      <td>NaN</td>\n",
       "      <td>...</td>\n",
       "      <td>NaN</td>\n",
       "      <td>NaN</td>\n",
       "      <td>NaN</td>\n",
       "      <td>NaN</td>\n",
       "      <td>NaN</td>\n",
       "      <td>4</td>\n",
       "      <td>NaN</td>\n",
       "      <td>NaN</td>\n",
       "      <td>NaN</td>\n",
       "      <td>0</td>\n",
       "    </tr>\n",
       "    <tr>\n",
       "      <th>2423</th>\n",
       "      <td>90175</td>\n",
       "      <td>Delaware</td>\n",
       "      <td>Loving</td>\n",
       "      <td>31.9281</td>\n",
       "      <td>-103.6397</td>\n",
       "      <td>3</td>\n",
       "      <td>21532.55194</td>\n",
       "      <td>Public</td>\n",
       "      <td>2022</td>\n",
       "      <td>NaN</td>\n",
       "      <td>...</td>\n",
       "      <td>NaN</td>\n",
       "      <td>NaN</td>\n",
       "      <td>NaN</td>\n",
       "      <td>NaN</td>\n",
       "      <td>NaN</td>\n",
       "      <td>4</td>\n",
       "      <td>NaN</td>\n",
       "      <td>NaN</td>\n",
       "      <td>NaN</td>\n",
       "      <td>0</td>\n",
       "    </tr>\n",
       "    <tr>\n",
       "      <th>2424</th>\n",
       "      <td>90183</td>\n",
       "      <td>Delaware</td>\n",
       "      <td>Loving</td>\n",
       "      <td>31.9281</td>\n",
       "      <td>-103.6398</td>\n",
       "      <td>3</td>\n",
       "      <td>21532.55194</td>\n",
       "      <td>Public</td>\n",
       "      <td>2022</td>\n",
       "      <td>NaN</td>\n",
       "      <td>...</td>\n",
       "      <td>NaN</td>\n",
       "      <td>NaN</td>\n",
       "      <td>NaN</td>\n",
       "      <td>NaN</td>\n",
       "      <td>NaN</td>\n",
       "      <td>4</td>\n",
       "      <td>NaN</td>\n",
       "      <td>NaN</td>\n",
       "      <td>NaN</td>\n",
       "      <td>0</td>\n",
       "    </tr>\n",
       "    <tr>\n",
       "      <th>2425</th>\n",
       "      <td>90194</td>\n",
       "      <td>NaN</td>\n",
       "      <td>Crane</td>\n",
       "      <td>31.4943</td>\n",
       "      <td>-102.6074</td>\n",
       "      <td>1</td>\n",
       "      <td>10534.11706</td>\n",
       "      <td>Private</td>\n",
       "      <td>2022</td>\n",
       "      <td>NaN</td>\n",
       "      <td>...</td>\n",
       "      <td>NaN</td>\n",
       "      <td>NaN</td>\n",
       "      <td>NaN</td>\n",
       "      <td>NaN</td>\n",
       "      <td>NaN</td>\n",
       "      <td>6</td>\n",
       "      <td>NaN</td>\n",
       "      <td>NaN</td>\n",
       "      <td>NaN</td>\n",
       "      <td>0</td>\n",
       "    </tr>\n",
       "  </tbody>\n",
       "</table>\n",
       "<p>2426 rows × 21 columns</p>\n",
       "</div>"
      ],
      "text/plain": [
       "      Unnamed: 0  subbasin  county      lat      long  wells      area_m2  \\\n",
       "0          90222  Delaware  Loving  31.9281 -103.6350      3  22543.56642   \n",
       "1          90222  Delaware  Loving  31.9281 -103.6350      3  22543.56642   \n",
       "2          90222  Delaware  Loving  31.9281 -103.6350      3  22543.56642   \n",
       "3          90222  Delaware  Loving  31.9281 -103.6350      3  22543.56642   \n",
       "4          90222  Delaware  Loving  31.9281 -103.6350      3  22543.56642   \n",
       "...          ...       ...     ...      ...       ...    ...          ...   \n",
       "2421       89875   Midland  Dawson  32.8602 -101.7362      1  11059.22690   \n",
       "2422       90172  Delaware  Loving  31.9281 -103.6398      3  21532.55194   \n",
       "2423       90175  Delaware  Loving  31.9281 -103.6397      3  21532.55194   \n",
       "2424       90183  Delaware  Loving  31.9281 -103.6398      3  21532.55194   \n",
       "2425       90194       NaN   Crane  31.4943 -102.6074      1  10534.11706   \n",
       "\n",
       "     company_type  wellpad_vintage_year  comp_diff  ...  permit_diff  \\\n",
       "0         Private                  2022       62.0  ...        103.0   \n",
       "1         Private                  2022       62.0  ...        103.0   \n",
       "2         Private                  2022       62.0  ...        103.0   \n",
       "3         Private                  2022       62.0  ...        103.0   \n",
       "4         Private                  2022       62.0  ...        103.0   \n",
       "...           ...                   ...        ...  ...          ...   \n",
       "2421      Private                  2021        NaN  ...          NaN   \n",
       "2422       Public                  2022        NaN  ...          NaN   \n",
       "2423       Public                  2022        NaN  ...          NaN   \n",
       "2424       Public                  2022        NaN  ...          NaN   \n",
       "2425      Private                  2022        NaN  ...          NaN   \n",
       "\n",
       "      detection_diff     power       rad  days_diffs  pad_status  \\\n",
       "0              140.0  0.240971  0.447881       123.0           4   \n",
       "1              140.0  0.731796  0.384363         1.0           4   \n",
       "2              140.0  0.998371  0.413679         2.0           4   \n",
       "3              140.0  0.822643  0.408657         0.0           4   \n",
       "4              140.0  0.370339  0.395678         0.0           4   \n",
       "...              ...       ...       ...         ...         ...   \n",
       "2421             NaN       NaN       NaN         NaN           4   \n",
       "2422             NaN       NaN       NaN         NaN           4   \n",
       "2423             NaN       NaN       NaN         NaN           4   \n",
       "2424             NaN       NaN       NaN         NaN           4   \n",
       "2425             NaN       NaN       NaN         NaN           6   \n",
       "\n",
       "      flare_t_start_tillnow  flare_t_end_tillnow  flaring_event_tillnow  \\\n",
       "0                    2857.0               2809.0                 2857.0   \n",
       "1                    2857.0               2809.0                 2855.0   \n",
       "2                    2857.0               2809.0                 2853.0   \n",
       "3                    2857.0               2809.0                 2853.0   \n",
       "4                    2857.0               2809.0                 2852.0   \n",
       "...                     ...                  ...                    ...   \n",
       "2421                    NaN                  NaN                    NaN   \n",
       "2422                    NaN                  NaN                    NaN   \n",
       "2423                    NaN                  NaN                    NaN   \n",
       "2424                    NaN                  NaN                    NaN   \n",
       "2425                    NaN                  NaN                    NaN   \n",
       "\n",
       "      flaring_event_till3month_fromnow  \n",
       "0                                    1  \n",
       "1                                    1  \n",
       "2                                    1  \n",
       "3                                    1  \n",
       "4                                    1  \n",
       "...                                ...  \n",
       "2421                                 0  \n",
       "2422                                 0  \n",
       "2423                                 0  \n",
       "2424                                 0  \n",
       "2425                                 0  \n",
       "\n",
       "[2426 rows x 21 columns]"
      ]
     },
     "execution_count": 28,
     "metadata": {},
     "output_type": "execute_result"
    }
   ],
   "source": [
    "df1"
   ]
  },
  {
   "cell_type": "code",
   "execution_count": 29,
   "id": "dbbf8cde",
   "metadata": {},
   "outputs": [],
   "source": [
    "df_LR = df1.drop(columns=['flaring_event_tillnow','flare_t_start_tillnow','Unnamed: 0','wellpad_vintage_year'])\n",
    "#df_LR = df1.drop(columns=['flaring_event_tillnow','flare_t_start_tillnow'])"
   ]
  },
  {
   "cell_type": "code",
   "execution_count": 30,
   "id": "c599d2db",
   "metadata": {},
   "outputs": [
    {
     "name": "stderr",
     "output_type": "stream",
     "text": [
      "C:\\Users\\Shihao Zhou\\AppData\\Local\\Temp\\ipykernel_9048\\2404936151.py:5: DeprecationWarning: `np.bool` is a deprecated alias for the builtin `bool`. To silence this warning, use `bool` by itself. Doing this will not modify any behavior and is safe. If you specifically wanted the numpy scalar type, use `np.bool_` here.\n",
      "Deprecated in NumPy 1.20; for more details and guidance: https://numpy.org/devdocs/release/1.20.0-notes.html#deprecations\n",
      "  mask = np.zeros_like(corr_tb, dtype=np.bool)\n"
     ]
    },
    {
     "data": {
      "image/png": "[encoded data removed]",
      "text/plain": [
       "<Figure size 792x648 with 2 Axes>"
      ]
     },
     "metadata": {
      "needs_background": "light"
     },
     "output_type": "display_data"
    }
   ],
   "source": [
    "# create correlation table\n",
    "corr_tb = df_LR.corr()\n",
    "\n",
    "# create mask\n",
    "mask = np.zeros_like(corr_tb, dtype=np.bool)\n",
    "mask[np.triu_indices_from(mask, k=0)] = True\n",
    "\n",
    "# generate colormap\n",
    "cmap = sns.diverging_palette(220, 10, as_cmap=True)\n",
    "\n",
    "# initialise figure\n",
    "f, ax = plt.subplots(figsize=(11, 9))\n",
    "\n",
    "# draw heatmap\n",
    "sns.heatmap(corr_tb, mask=mask, cmap=cmap, center=0, \n",
    "            annot=True, square=True, linewidths=.5) \n",
    "\n",
    "# show figure\n",
    "plt.show()"
   ]
  },
  {
   "cell_type": "code",
   "execution_count": 31,
   "id": "1f5e1f2f",
   "metadata": {},
   "outputs": [],
   "source": [
    "#df_LR['geohash']=df_LR.apply(lambda x: pgh.encode(x.lat, x.long, precision=5), axis=1)\n"
   ]
  },
  {
   "cell_type": "code",
   "execution_count": 32,
   "id": "cb8a8bcb",
   "metadata": {},
   "outputs": [],
   "source": [
    "df_LR = pd.get_dummies(df_LR,drop_first = True)"
   ]
  },
  {
   "cell_type": "code",
   "execution_count": 33,
   "id": "71962c50",
   "metadata": {},
   "outputs": [],
   "source": [
    "#df_LR = df_LR.drop(columns=['lat','long'])"
   ]
  },
  {
   "cell_type": "code",
   "execution_count": 34,
   "id": "9073e16d",
   "metadata": {},
   "outputs": [
    {
     "data": {
      "text/plain": [
       "lat                                    0\n",
       "long                                   0\n",
       "wells                                  0\n",
       "area_m2                                0\n",
       "comp_diff                           1640\n",
       "spud_diff                            850\n",
       "permit_diff                          850\n",
       "detection_diff                       904\n",
       "power                                869\n",
       "rad                                  869\n",
       "days_diffs                           869\n",
       "pad_status                             0\n",
       "flare_t_end_tillnow                  850\n",
       "flaring_event_till3month_fromnow       0\n",
       "subbasin_Midland                       0\n",
       "county_Borden                          0\n",
       "county_Chaves                          0\n",
       "county_Cochran                         0\n",
       "county_Crane                           0\n",
       "county_Crockett                        0\n",
       "county_Crosby                          0\n",
       "county_Culberson                       0\n",
       "county_Dawson                          0\n",
       "county_Dickens                         0\n",
       "county_Ector                           0\n",
       "county_Eddy                            0\n",
       "county_Fisher                          0\n",
       "county_Gaines                          0\n",
       "county_Garza                           0\n",
       "county_Glasscock                       0\n",
       "county_Hockley                         0\n",
       "county_Howard                          0\n",
       "county_Irion                           0\n",
       "county_Kent                            0\n",
       "county_Lea                             0\n",
       "county_Loving                          0\n",
       "county_Martin                          0\n",
       "county_Midland                         0\n",
       "county_Mitchell                        0\n",
       "county_Pecos                           0\n",
       "county_Reagan                          0\n",
       "county_Reeves                          0\n",
       "county_Scurry                          0\n",
       "county_Upton                           0\n",
       "county_Ward                            0\n",
       "county_Winkler                         0\n",
       "county_Yoakum                          0\n",
       "company_type_Public                    0\n",
       "dtype: int64"
      ]
     },
     "execution_count": 34,
     "metadata": {},
     "output_type": "execute_result"
    }
   ],
   "source": [
    "df_LR.isnull().sum()"
   ]
  },
  {
   "cell_type": "code",
   "execution_count": 35,
   "id": "ea6cf74d",
   "metadata": {},
   "outputs": [],
   "source": [
    "df_LR = df_LR.fillna(df_LR.mean())"
   ]
  },
  {
   "cell_type": "code",
   "execution_count": 36,
   "id": "13af1ee3",
   "metadata": {},
   "outputs": [],
   "source": [
    "X = df_LR.loc[:, df_LR.columns != 'flaring_event_till3month_fromnow']\n",
    "y = df_LR.loc[:, df_LR.columns == 'flaring_event_till3month_fromnow']\n",
    "X_train, X_test, y_train, y_test = train_test_split(X, y, test_size=0.33, random_state=0)"
   ]
  },
  {
   "cell_type": "code",
   "execution_count": 37,
   "id": "59ddf5d6",
   "metadata": {},
   "outputs": [
    {
     "name": "stderr",
     "output_type": "stream",
     "text": [
      "D:\\Anaconda3\\lib\\site-packages\\sklearn\\ensemble\\_gb.py:494: DataConversionWarning: A column-vector y was passed when a 1d array was expected. Please change the shape of y to (n_samples, ), for example using ravel().\n",
      "  y = column_or_1d(y, warn=True)\n",
      "D:\\Anaconda3\\lib\\site-packages\\sklearn\\base.py:443: UserWarning: X has feature names, but DecisionTreeRegressor was fitted without feature names\n",
      "  warnings.warn(\n",
      "D:\\Anaconda3\\lib\\site-packages\\sklearn\\base.py:443: UserWarning: X has feature names, but DecisionTreeRegressor was fitted without feature names\n",
      "  warnings.warn(\n",
      "D:\\Anaconda3\\lib\\site-packages\\sklearn\\utils\\validation.py:593: FutureWarning: np.matrix usage is deprecated in 1.0 and will raise a TypeError in 1.2. Please convert to a numpy array with np.asarray. For more information see: https://numpy.org/doc/stable/reference/generated/numpy.matrix.html\n",
      "  warnings.warn(\n",
      "D:\\Anaconda3\\lib\\site-packages\\sklearn\\utils\\validation.py:993: DataConversionWarning: A column-vector y was passed when a 1d array was expected. Please change the shape of y to (n_samples, ), for example using ravel().\n",
      "  y = column_or_1d(y, warn=True)\n",
      "D:\\Anaconda3\\lib\\site-packages\\sklearn\\linear_model\\_logistic.py:814: ConvergenceWarning: lbfgs failed to converge (status=1):\n",
      "STOP: TOTAL NO. of ITERATIONS REACHED LIMIT.\n",
      "\n",
      "Increase the number of iterations (max_iter) or scale the data as shown in:\n",
      "    https://scikit-learn.org/stable/modules/preprocessing.html\n",
      "Please also refer to the documentation for alternative solver options:\n",
      "    https://scikit-learn.org/stable/modules/linear_model.html#logistic-regression\n",
      "  n_iter_i = _check_optimize_result(\n",
      "D:\\Anaconda3\\lib\\site-packages\\sklearn\\base.py:443: UserWarning: X has feature names, but DecisionTreeRegressor was fitted without feature names\n",
      "  warnings.warn(\n",
      "D:\\Anaconda3\\lib\\site-packages\\sklearn\\utils\\validation.py:593: FutureWarning: np.matrix usage is deprecated in 1.0 and will raise a TypeError in 1.2. Please convert to a numpy array with np.asarray. For more information see: https://numpy.org/doc/stable/reference/generated/numpy.matrix.html\n",
      "  warnings.warn(\n"
     ]
    }
   ],
   "source": [
    "gbf = GradientBoostingFeatureGenerator()\n",
    "lr = LogisticRegression()\n",
    "\n",
    "pipe = Pipeline([(\"gb_features\", gbf), (\"logistic\", lr)])\n",
    "\n",
    "pipe.fit(X_train, y_train)\n",
    "\n",
    "y_pred_prob = pipe.predict_proba(X_test)\n"
   ]
  },
  {
   "cell_type": "code",
   "execution_count": 38,
   "id": "36f691a6",
   "metadata": {},
   "outputs": [
    {
     "data": {
      "text/plain": [
       "array([[9.15126043e-01, 8.48739571e-02],\n",
       "       [5.52747081e-02, 9.44725292e-01],\n",
       "       [5.15037061e-01, 4.84962939e-01],\n",
       "       ...,\n",
       "       [7.71649146e-01, 2.28350854e-01],\n",
       "       [8.17128681e-01, 1.82871319e-01],\n",
       "       [9.90516593e-08, 9.99999901e-01]])"
      ]
     },
     "execution_count": 38,
     "metadata": {},
     "output_type": "execute_result"
    }
   ],
   "source": [
    "y_pred_prob"
   ]
  },
  {
   "cell_type": "code",
   "execution_count": 39,
   "id": "06708c90",
   "metadata": {},
   "outputs": [
    {
     "name": "stderr",
     "output_type": "stream",
     "text": [
      "D:\\Anaconda3\\lib\\site-packages\\sklearn\\base.py:443: UserWarning: X has feature names, but DecisionTreeRegressor was fitted without feature names\n",
      "  warnings.warn(\n",
      "D:\\Anaconda3\\lib\\site-packages\\sklearn\\utils\\validation.py:593: FutureWarning: np.matrix usage is deprecated in 1.0 and will raise a TypeError in 1.2. Please convert to a numpy array with np.asarray. For more information see: https://numpy.org/doc/stable/reference/generated/numpy.matrix.html\n",
      "  warnings.warn(\n"
     ]
    }
   ],
   "source": [
    "y_pred_new_threshold = (pipe.predict_proba(X_test)[:,1]>=0.6).astype(int)\n"
   ]
  },
  {
   "cell_type": "code",
   "execution_count": 40,
   "id": "2665ecfc",
   "metadata": {},
   "outputs": [
    {
     "name": "stdout",
     "output_type": "stream",
     "text": [
      "The accuracy of GBDT & logistic regression on test set: 92.13%.\n"
     ]
    }
   ],
   "source": [
    "\n",
    "score =accuracy_score(y_test,y_pred_new_threshold)\n",
    "print(f\"The accuracy of GBDT & logistic regression on test set: {score:.2%}.\")"
   ]
  },
  {
   "cell_type": "code",
   "execution_count": 42,
   "id": "d27ef66d",
   "metadata": {},
   "outputs": [
    {
     "data": {
      "text/plain": [
       "0.9261195482866044"
      ]
     },
     "execution_count": 42,
     "metadata": {},
     "output_type": "execute_result"
    }
   ],
   "source": [
    "from sklearn.metrics import roc_auc_score\n",
    "\n",
    "roc_auc = roc_auc_score(y_test, y_pred_new_threshold)\n",
    "roc_auc"
   ]
  },
  {
   "cell_type": "code",
   "execution_count": 44,
   "id": "9fb5817b",
   "metadata": {},
   "outputs": [
    {
     "data": {
      "text/plain": [
       "0.9321851453175457"
      ]
     },
     "execution_count": 44,
     "metadata": {},
     "output_type": "execute_result"
    }
   ],
   "source": [
    "from sklearn.metrics import f1_score\n",
    "\n",
    "f1_score(y_test, y_pred_new_threshold)"
   ]
  },
  {
   "cell_type": "code",
   "execution_count": null,
   "id": "9f6224d7",
   "metadata": {},
   "outputs": [],
   "source": []
  }
 ],
 "metadata": {
  "kernelspec": {
   "display_name": "Python 3 (ipykernel)",
   "language": "python",
   "name": "python3"
  },
  "language_info": {
   "codemirror_mode": {
    "name": "ipython",
    "version": 3
   },
   "file_extension": ".py",
   "mimetype": "text/x-python",
   "name": "python",
   "nbconvert_exporter": "python",
   "pygments_lexer": "ipython3",
   "version": "3.9.12"
  }
 },
 "nbformat": 4,
 "nbformat_minor": 5
}
