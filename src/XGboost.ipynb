{
 "cells": [
  {
   "cell_type": "code",
   "execution_count": 1,
   "id": "4b02c3da",
   "metadata": {},
   "outputs": [],
   "source": [
    "from datetime import date\n",
    "from datetime import datetime\n",
    "import matplotlib.dates as mdates\n",
    "import pandas as pd\n",
    "import matplotlib.pyplot as plt\n",
    "import numpy as np\n",
    "import seaborn as sns\n",
    "import os\n",
    "import glob\n",
    "from tqdm.notebook import tqdm\n",
    "import random\n",
    "import xgboost\n",
    "from sklearn.preprocessing import StandardScaler\n",
    "from sklearn.metrics import mean_absolute_error\n",
    "from xgboost import XGBRegressor\n",
    "from sklearn.model_selection import train_test_split\n",
    "from sklearn.model_selection import GridSearchCV"
   ]
  },
  {
   "cell_type": "code",
   "execution_count": 2,
   "id": "0244969b",
   "metadata": {},
   "outputs": [
    {
     "data": {
      "text/html": [
       "<div>\n",
       "<style scoped>\n",
       "    .dataframe tbody tr th:only-of-type {\n",
       "        vertical-align: middle;\n",
       "    }\n",
       "\n",
       "    .dataframe tbody tr th {\n",
       "        vertical-align: top;\n",
       "    }\n",
       "\n",
       "    .dataframe thead th {\n",
       "        text-align: right;\n",
       "    }\n",
       "</style>\n",
       "<table border=\"1\" class=\"dataframe\">\n",
       "  <thead>\n",
       "    <tr style=\"text-align: right;\">\n",
       "      <th></th>\n",
       "      <th>Unnamed: 0.1</th>\n",
       "      <th>Unnamed: 0</th>\n",
       "      <th>api</th>\n",
       "      <th>state</th>\n",
       "      <th>basin</th>\n",
       "      <th>subbasin</th>\n",
       "      <th>county</th>\n",
       "      <th>source</th>\n",
       "      <th>geom</th>\n",
       "      <th>tst_permit_date</th>\n",
       "      <th>...</th>\n",
       "      <th>X</th>\n",
       "      <th>Y</th>\n",
       "      <th>spatial_group</th>\n",
       "      <th>aq_date</th>\n",
       "      <th>power</th>\n",
       "      <th>t_diff</th>\n",
       "      <th>days_diffs</th>\n",
       "      <th>temporal_group</th>\n",
       "      <th>color</th>\n",
       "      <th>pad_status</th>\n",
       "    </tr>\n",
       "  </thead>\n",
       "  <tbody>\n",
       "    <tr>\n",
       "      <th>0</th>\n",
       "      <td>0</td>\n",
       "      <td>84655</td>\n",
       "      <td>4231741500</td>\n",
       "      <td>Texas</td>\n",
       "      <td>Permian</td>\n",
       "      <td>Midland</td>\n",
       "      <td>Martin</td>\n",
       "      <td>tx_trrc_permit_master</td>\n",
       "      <td>0101000020110F00005C064BE41DA965C137B978CC67D9...</td>\n",
       "      <td>2018/6/8</td>\n",
       "      <td>...</td>\n",
       "      <td>-11356485.39</td>\n",
       "      <td>3781904.457</td>\n",
       "      <td>1001.0</td>\n",
       "      <td>2019/7/3 7:42</td>\n",
       "      <td>2.53</td>\n",
       "      <td>68 days 22:24:00</td>\n",
       "      <td>68.0</td>\n",
       "      <td>1.0</td>\n",
       "      <td>#5c62b5</td>\n",
       "      <td>6</td>\n",
       "    </tr>\n",
       "    <tr>\n",
       "      <th>1</th>\n",
       "      <td>1</td>\n",
       "      <td>36846</td>\n",
       "      <td>4231743234</td>\n",
       "      <td>Texas</td>\n",
       "      <td>Permian</td>\n",
       "      <td>Midland</td>\n",
       "      <td>Martin</td>\n",
       "      <td>tx_trrc_permit_master</td>\n",
       "      <td>0101000020110F000064C96CA8AEA865C1C051E8489BD9...</td>\n",
       "      <td>2020/9/21</td>\n",
       "      <td>...</td>\n",
       "      <td>-11356341.34</td>\n",
       "      <td>3781628.244</td>\n",
       "      <td>1001.0</td>\n",
       "      <td>2022/4/4 7:31</td>\n",
       "      <td>1.62</td>\n",
       "      <td>910 days 23:31:00</td>\n",
       "      <td>910.0</td>\n",
       "      <td>3.0</td>\n",
       "      <td>#bdb542</td>\n",
       "      <td>6</td>\n",
       "    </tr>\n",
       "    <tr>\n",
       "      <th>2</th>\n",
       "      <td>2</td>\n",
       "      <td>52945</td>\n",
       "      <td>4231743224</td>\n",
       "      <td>Texas</td>\n",
       "      <td>Permian</td>\n",
       "      <td>Midland</td>\n",
       "      <td>Martin</td>\n",
       "      <td>tx_trrc_permit_master</td>\n",
       "      <td>0101000020110F000035FE5F0F89A865C149E567C4BFD9...</td>\n",
       "      <td>2020/9/14</td>\n",
       "      <td>...</td>\n",
       "      <td>-11355947.27</td>\n",
       "      <td>3781688.718</td>\n",
       "      <td>1001.0</td>\n",
       "      <td>2022/4/4 8:22</td>\n",
       "      <td>1.78</td>\n",
       "      <td>0 days 00:51:00</td>\n",
       "      <td>0.0</td>\n",
       "      <td>3.0</td>\n",
       "      <td>#bdb542</td>\n",
       "      <td>6</td>\n",
       "    </tr>\n",
       "    <tr>\n",
       "      <th>3</th>\n",
       "      <td>3</td>\n",
       "      <td>52945</td>\n",
       "      <td>4231743224</td>\n",
       "      <td>Texas</td>\n",
       "      <td>Permian</td>\n",
       "      <td>Midland</td>\n",
       "      <td>Martin</td>\n",
       "      <td>tx_trrc_permit_master</td>\n",
       "      <td>0101000020110F000035FE5F0F89A865C149E567C4BFD9...</td>\n",
       "      <td>2020/9/14</td>\n",
       "      <td>...</td>\n",
       "      <td>-11356166.57</td>\n",
       "      <td>3781358.742</td>\n",
       "      <td>1001.0</td>\n",
       "      <td>2022/4/4 9:13</td>\n",
       "      <td>0.79</td>\n",
       "      <td>0 days 00:51:00</td>\n",
       "      <td>0.0</td>\n",
       "      <td>3.0</td>\n",
       "      <td>#bdb542</td>\n",
       "      <td>6</td>\n",
       "    </tr>\n",
       "    <tr>\n",
       "      <th>4</th>\n",
       "      <td>4</td>\n",
       "      <td>52945</td>\n",
       "      <td>4231743224</td>\n",
       "      <td>Texas</td>\n",
       "      <td>Permian</td>\n",
       "      <td>Midland</td>\n",
       "      <td>Martin</td>\n",
       "      <td>tx_trrc_permit_master</td>\n",
       "      <td>0101000020110F000035FE5F0F89A865C149E567C4BFD9...</td>\n",
       "      <td>2020/9/14</td>\n",
       "      <td>...</td>\n",
       "      <td>-11355972.88</td>\n",
       "      <td>3781675.572</td>\n",
       "      <td>1001.0</td>\n",
       "      <td>2022/4/6 19:04</td>\n",
       "      <td>5.49</td>\n",
       "      <td>2 days 09:51:00</td>\n",
       "      <td>2.0</td>\n",
       "      <td>3.0</td>\n",
       "      <td>#bdb542</td>\n",
       "      <td>6</td>\n",
       "    </tr>\n",
       "    <tr>\n",
       "      <th>...</th>\n",
       "      <td>...</td>\n",
       "      <td>...</td>\n",
       "      <td>...</td>\n",
       "      <td>...</td>\n",
       "      <td>...</td>\n",
       "      <td>...</td>\n",
       "      <td>...</td>\n",
       "      <td>...</td>\n",
       "      <td>...</td>\n",
       "      <td>...</td>\n",
       "      <td>...</td>\n",
       "      <td>...</td>\n",
       "      <td>...</td>\n",
       "      <td>...</td>\n",
       "      <td>...</td>\n",
       "      <td>...</td>\n",
       "      <td>...</td>\n",
       "      <td>...</td>\n",
       "      <td>...</td>\n",
       "      <td>...</td>\n",
       "      <td>...</td>\n",
       "    </tr>\n",
       "    <tr>\n",
       "      <th>74710</th>\n",
       "      <td>74710</td>\n",
       "      <td>51784</td>\n",
       "      <td>4231743271</td>\n",
       "      <td>Texas</td>\n",
       "      <td>Permian</td>\n",
       "      <td>Midland</td>\n",
       "      <td>Martin</td>\n",
       "      <td>tx_trrc_permit_master</td>\n",
       "      <td>0101000020110F000020AF7E73DFB165C138EB72D03215...</td>\n",
       "      <td>2020/11/2</td>\n",
       "      <td>...</td>\n",
       "      <td>-11374859.12</td>\n",
       "      <td>3811744.057</td>\n",
       "      <td>1646.0</td>\n",
       "      <td>2021/6/15 8:12</td>\n",
       "      <td>1.12</td>\n",
       "      <td>0 days 00:00:00</td>\n",
       "      <td>0.0</td>\n",
       "      <td>2.0</td>\n",
       "      <td>#e587e8</td>\n",
       "      <td>4</td>\n",
       "    </tr>\n",
       "    <tr>\n",
       "      <th>74711</th>\n",
       "      <td>74711</td>\n",
       "      <td>51784</td>\n",
       "      <td>4231743271</td>\n",
       "      <td>Texas</td>\n",
       "      <td>Permian</td>\n",
       "      <td>Midland</td>\n",
       "      <td>Martin</td>\n",
       "      <td>tx_trrc_permit_master</td>\n",
       "      <td>0101000020110F000020AF7E73DFB165C138EB72D03215...</td>\n",
       "      <td>2020/11/2</td>\n",
       "      <td>...</td>\n",
       "      <td>-11374736.89</td>\n",
       "      <td>3811619.904</td>\n",
       "      <td>1646.0</td>\n",
       "      <td>2021/6/16 7:54</td>\n",
       "      <td>0.84</td>\n",
       "      <td>0 days 23:42:00</td>\n",
       "      <td>0.0</td>\n",
       "      <td>2.0</td>\n",
       "      <td>#e587e8</td>\n",
       "      <td>4</td>\n",
       "    </tr>\n",
       "    <tr>\n",
       "      <th>74712</th>\n",
       "      <td>74712</td>\n",
       "      <td>51784</td>\n",
       "      <td>4231743271</td>\n",
       "      <td>Texas</td>\n",
       "      <td>Permian</td>\n",
       "      <td>Midland</td>\n",
       "      <td>Martin</td>\n",
       "      <td>tx_trrc_permit_master</td>\n",
       "      <td>0101000020110F000020AF7E73DFB165C138EB72D03215...</td>\n",
       "      <td>2020/11/2</td>\n",
       "      <td>...</td>\n",
       "      <td>-11374565.46</td>\n",
       "      <td>3811748.142</td>\n",
       "      <td>1646.0</td>\n",
       "      <td>2021/6/16 8:48</td>\n",
       "      <td>0.70</td>\n",
       "      <td>0 days 00:54:00</td>\n",
       "      <td>0.0</td>\n",
       "      <td>2.0</td>\n",
       "      <td>#e587e8</td>\n",
       "      <td>4</td>\n",
       "    </tr>\n",
       "    <tr>\n",
       "      <th>74713</th>\n",
       "      <td>74713</td>\n",
       "      <td>51784</td>\n",
       "      <td>4231743271</td>\n",
       "      <td>Texas</td>\n",
       "      <td>Permian</td>\n",
       "      <td>Midland</td>\n",
       "      <td>Martin</td>\n",
       "      <td>tx_trrc_permit_master</td>\n",
       "      <td>0101000020110F000020AF7E73DFB165C138EB72D03215...</td>\n",
       "      <td>2020/11/2</td>\n",
       "      <td>...</td>\n",
       "      <td>-11374848.10</td>\n",
       "      <td>3811828.539</td>\n",
       "      <td>1646.0</td>\n",
       "      <td>2021/6/16 9:36</td>\n",
       "      <td>0.88</td>\n",
       "      <td>0 days 00:48:00</td>\n",
       "      <td>0.0</td>\n",
       "      <td>2.0</td>\n",
       "      <td>#e587e8</td>\n",
       "      <td>4</td>\n",
       "    </tr>\n",
       "    <tr>\n",
       "      <th>74714</th>\n",
       "      <td>74714</td>\n",
       "      <td>51784</td>\n",
       "      <td>4231743271</td>\n",
       "      <td>Texas</td>\n",
       "      <td>Permian</td>\n",
       "      <td>Midland</td>\n",
       "      <td>Martin</td>\n",
       "      <td>tx_trrc_permit_master</td>\n",
       "      <td>0101000020110F000020AF7E73DFB165C138EB72D03215...</td>\n",
       "      <td>2020/11/2</td>\n",
       "      <td>...</td>\n",
       "      <td>-11374775.07</td>\n",
       "      <td>3811750.647</td>\n",
       "      <td>1646.0</td>\n",
       "      <td>2021/6/17 7:36</td>\n",
       "      <td>0.72</td>\n",
       "      <td>0 days 22:00:00</td>\n",
       "      <td>0.0</td>\n",
       "      <td>2.0</td>\n",
       "      <td>#e587e8</td>\n",
       "      <td>4</td>\n",
       "    </tr>\n",
       "  </tbody>\n",
       "</table>\n",
       "<p>74715 rows × 63 columns</p>\n",
       "</div>"
      ],
      "text/plain": [
       "       Unnamed: 0.1  Unnamed: 0         api  state    basin subbasin  county  \\\n",
       "0                 0       84655  4231741500  Texas  Permian  Midland  Martin   \n",
       "1                 1       36846  4231743234  Texas  Permian  Midland  Martin   \n",
       "2                 2       52945  4231743224  Texas  Permian  Midland  Martin   \n",
       "3                 3       52945  4231743224  Texas  Permian  Midland  Martin   \n",
       "4                 4       52945  4231743224  Texas  Permian  Midland  Martin   \n",
       "...             ...         ...         ...    ...      ...      ...     ...   \n",
       "74710         74710       51784  4231743271  Texas  Permian  Midland  Martin   \n",
       "74711         74711       51784  4231743271  Texas  Permian  Midland  Martin   \n",
       "74712         74712       51784  4231743271  Texas  Permian  Midland  Martin   \n",
       "74713         74713       51784  4231743271  Texas  Permian  Midland  Martin   \n",
       "74714         74714       51784  4231743271  Texas  Permian  Midland  Martin   \n",
       "\n",
       "                      source  \\\n",
       "0      tx_trrc_permit_master   \n",
       "1      tx_trrc_permit_master   \n",
       "2      tx_trrc_permit_master   \n",
       "3      tx_trrc_permit_master   \n",
       "4      tx_trrc_permit_master   \n",
       "...                      ...   \n",
       "74710  tx_trrc_permit_master   \n",
       "74711  tx_trrc_permit_master   \n",
       "74712  tx_trrc_permit_master   \n",
       "74713  tx_trrc_permit_master   \n",
       "74714  tx_trrc_permit_master   \n",
       "\n",
       "                                                    geom tst_permit_date  ...  \\\n",
       "0      0101000020110F00005C064BE41DA965C137B978CC67D9...        2018/6/8  ...   \n",
       "1      0101000020110F000064C96CA8AEA865C1C051E8489BD9...       2020/9/21  ...   \n",
       "2      0101000020110F000035FE5F0F89A865C149E567C4BFD9...       2020/9/14  ...   \n",
       "3      0101000020110F000035FE5F0F89A865C149E567C4BFD9...       2020/9/14  ...   \n",
       "4      0101000020110F000035FE5F0F89A865C149E567C4BFD9...       2020/9/14  ...   \n",
       "...                                                  ...             ...  ...   \n",
       "74710  0101000020110F000020AF7E73DFB165C138EB72D03215...       2020/11/2  ...   \n",
       "74711  0101000020110F000020AF7E73DFB165C138EB72D03215...       2020/11/2  ...   \n",
       "74712  0101000020110F000020AF7E73DFB165C138EB72D03215...       2020/11/2  ...   \n",
       "74713  0101000020110F000020AF7E73DFB165C138EB72D03215...       2020/11/2  ...   \n",
       "74714  0101000020110F000020AF7E73DFB165C138EB72D03215...       2020/11/2  ...   \n",
       "\n",
       "                 X            Y spatial_group         aq_date power  \\\n",
       "0     -11356485.39  3781904.457        1001.0   2019/7/3 7:42  2.53   \n",
       "1     -11356341.34  3781628.244        1001.0   2022/4/4 7:31  1.62   \n",
       "2     -11355947.27  3781688.718        1001.0   2022/4/4 8:22  1.78   \n",
       "3     -11356166.57  3781358.742        1001.0   2022/4/4 9:13  0.79   \n",
       "4     -11355972.88  3781675.572        1001.0  2022/4/6 19:04  5.49   \n",
       "...            ...          ...           ...             ...   ...   \n",
       "74710 -11374859.12  3811744.057        1646.0  2021/6/15 8:12  1.12   \n",
       "74711 -11374736.89  3811619.904        1646.0  2021/6/16 7:54  0.84   \n",
       "74712 -11374565.46  3811748.142        1646.0  2021/6/16 8:48  0.70   \n",
       "74713 -11374848.10  3811828.539        1646.0  2021/6/16 9:36  0.88   \n",
       "74714 -11374775.07  3811750.647        1646.0  2021/6/17 7:36  0.72   \n",
       "\n",
       "                  t_diff days_diffs temporal_group    color  pad_status  \n",
       "0       68 days 22:24:00       68.0            1.0  #5c62b5           6  \n",
       "1      910 days 23:31:00      910.0            3.0  #bdb542           6  \n",
       "2        0 days 00:51:00        0.0            3.0  #bdb542           6  \n",
       "3        0 days 00:51:00        0.0            3.0  #bdb542           6  \n",
       "4        2 days 09:51:00        2.0            3.0  #bdb542           6  \n",
       "...                  ...        ...            ...      ...         ...  \n",
       "74710    0 days 00:00:00        0.0            2.0  #e587e8           4  \n",
       "74711    0 days 23:42:00        0.0            2.0  #e587e8           4  \n",
       "74712    0 days 00:54:00        0.0            2.0  #e587e8           4  \n",
       "74713    0 days 00:48:00        0.0            2.0  #e587e8           4  \n",
       "74714    0 days 22:00:00        0.0            2.0  #e587e8           4  \n",
       "\n",
       "[74715 rows x 63 columns]"
      ]
     },
     "execution_count": 2,
     "metadata": {},
     "output_type": "execute_result"
    }
   ],
   "source": [
    "path = r'D:\\UCL\\Term3\\tbx-flaring-shihao\\src\\notebooks\\original_dataset_merged_RNN.csv' \n",
    "df = pd.read_csv(path)\n",
    "df"
   ]
  },
  {
   "cell_type": "code",
   "execution_count": 3,
   "id": "ca3d8ae7",
   "metadata": {},
   "outputs": [
    {
     "data": {
      "text/html": [
       "<div>\n",
       "<style scoped>\n",
       "    .dataframe tbody tr th:only-of-type {\n",
       "        vertical-align: middle;\n",
       "    }\n",
       "\n",
       "    .dataframe tbody tr th {\n",
       "        vertical-align: top;\n",
       "    }\n",
       "\n",
       "    .dataframe thead th {\n",
       "        text-align: right;\n",
       "    }\n",
       "</style>\n",
       "<table border=\"1\" class=\"dataframe\">\n",
       "  <thead>\n",
       "    <tr style=\"text-align: right;\">\n",
       "      <th></th>\n",
       "      <th>tst_permit_date</th>\n",
       "      <th>tst_permit_published_date</th>\n",
       "      <th>tst_spud_date</th>\n",
       "      <th>tst_completion_date</th>\n",
       "      <th>tst_fracfocus_jobstart_date</th>\n",
       "      <th>tst_fracfocus_jobend_date</th>\n",
       "      <th>wellpad_code</th>\n",
       "      <th>parent_operator_co</th>\n",
       "      <th>lat</th>\n",
       "      <th>long</th>\n",
       "      <th>...</th>\n",
       "      <th>comp_diff</th>\n",
       "      <th>spud_diff</th>\n",
       "      <th>permit_diff</th>\n",
       "      <th>detection_diff</th>\n",
       "      <th>BRIGHTNESS</th>\n",
       "      <th>ACQ_DATE</th>\n",
       "      <th>FRP</th>\n",
       "      <th>days_diffs</th>\n",
       "      <th>temporal_group</th>\n",
       "      <th>pad_status</th>\n",
       "    </tr>\n",
       "  </thead>\n",
       "  <tbody>\n",
       "    <tr>\n",
       "      <th>0</th>\n",
       "      <td>2018/6/8</td>\n",
       "      <td>2018/6/10 0:00</td>\n",
       "      <td>2018/7/14</td>\n",
       "      <td>2019/4/28</td>\n",
       "      <td>2019/3/21</td>\n",
       "      <td>2019/4/11</td>\n",
       "      <td>9txqyd3v</td>\n",
       "      <td>CROWNQUEST OPERATING</td>\n",
       "      <td>32.1372</td>\n",
       "      <td>-102.0163</td>\n",
       "      <td>...</td>\n",
       "      <td>66.0</td>\n",
       "      <td>354</td>\n",
       "      <td>390.0</td>\n",
       "      <td>423</td>\n",
       "      <td>302.01</td>\n",
       "      <td>2019/7/3</td>\n",
       "      <td>2.53</td>\n",
       "      <td>68.0</td>\n",
       "      <td>1.0</td>\n",
       "      <td>6</td>\n",
       "    </tr>\n",
       "    <tr>\n",
       "      <th>1</th>\n",
       "      <td>2020/9/21</td>\n",
       "      <td>2020/9/23 0:00</td>\n",
       "      <td>2021/5/18</td>\n",
       "      <td>2022/2/9</td>\n",
       "      <td>2022/1/4 18:33</td>\n",
       "      <td>2022/1/17 3:08</td>\n",
       "      <td>9txqydx8</td>\n",
       "      <td>CROWNQUEST OPERATING</td>\n",
       "      <td>32.1379</td>\n",
       "      <td>-102.0083</td>\n",
       "      <td>...</td>\n",
       "      <td>54.0</td>\n",
       "      <td>321</td>\n",
       "      <td>560.0</td>\n",
       "      <td>564</td>\n",
       "      <td>303.60</td>\n",
       "      <td>2022/4/4</td>\n",
       "      <td>1.62</td>\n",
       "      <td>910.0</td>\n",
       "      <td>3.0</td>\n",
       "      <td>6</td>\n",
       "    </tr>\n",
       "    <tr>\n",
       "      <th>2</th>\n",
       "      <td>2020/9/14</td>\n",
       "      <td>2020/9/23 0:00</td>\n",
       "      <td>2020/10/15</td>\n",
       "      <td>2022/2/9</td>\n",
       "      <td>2021/12/15 6:00</td>\n",
       "      <td>2021/12/31 6:00</td>\n",
       "      <td>9txqyf9e</td>\n",
       "      <td>CROWNQUEST OPERATING</td>\n",
       "      <td>32.1385</td>\n",
       "      <td>-102.0056</td>\n",
       "      <td>...</td>\n",
       "      <td>54.0</td>\n",
       "      <td>536</td>\n",
       "      <td>567.0</td>\n",
       "      <td>599</td>\n",
       "      <td>315.40</td>\n",
       "      <td>2022/4/4</td>\n",
       "      <td>1.78</td>\n",
       "      <td>0.0</td>\n",
       "      <td>3.0</td>\n",
       "      <td>6</td>\n",
       "    </tr>\n",
       "    <tr>\n",
       "      <th>3</th>\n",
       "      <td>2020/9/14</td>\n",
       "      <td>2020/9/23 0:00</td>\n",
       "      <td>2020/10/15</td>\n",
       "      <td>2022/2/9</td>\n",
       "      <td>2021/12/15 6:00</td>\n",
       "      <td>2021/12/31 6:00</td>\n",
       "      <td>9txqyf9e</td>\n",
       "      <td>CROWNQUEST OPERATING</td>\n",
       "      <td>32.1385</td>\n",
       "      <td>-102.0056</td>\n",
       "      <td>...</td>\n",
       "      <td>54.0</td>\n",
       "      <td>536</td>\n",
       "      <td>567.0</td>\n",
       "      <td>599</td>\n",
       "      <td>297.20</td>\n",
       "      <td>2022/4/4</td>\n",
       "      <td>0.79</td>\n",
       "      <td>0.0</td>\n",
       "      <td>3.0</td>\n",
       "      <td>6</td>\n",
       "    </tr>\n",
       "    <tr>\n",
       "      <th>4</th>\n",
       "      <td>2020/9/14</td>\n",
       "      <td>2020/9/23 0:00</td>\n",
       "      <td>2020/10/15</td>\n",
       "      <td>2022/2/9</td>\n",
       "      <td>2021/12/15 6:00</td>\n",
       "      <td>2021/12/31 6:00</td>\n",
       "      <td>9txqyf9e</td>\n",
       "      <td>CROWNQUEST OPERATING</td>\n",
       "      <td>32.1385</td>\n",
       "      <td>-102.0056</td>\n",
       "      <td>...</td>\n",
       "      <td>54.0</td>\n",
       "      <td>536</td>\n",
       "      <td>567.0</td>\n",
       "      <td>599</td>\n",
       "      <td>367.00</td>\n",
       "      <td>2022/4/6</td>\n",
       "      <td>5.49</td>\n",
       "      <td>2.0</td>\n",
       "      <td>3.0</td>\n",
       "      <td>6</td>\n",
       "    </tr>\n",
       "    <tr>\n",
       "      <th>...</th>\n",
       "      <td>...</td>\n",
       "      <td>...</td>\n",
       "      <td>...</td>\n",
       "      <td>...</td>\n",
       "      <td>...</td>\n",
       "      <td>...</td>\n",
       "      <td>...</td>\n",
       "      <td>...</td>\n",
       "      <td>...</td>\n",
       "      <td>...</td>\n",
       "      <td>...</td>\n",
       "      <td>...</td>\n",
       "      <td>...</td>\n",
       "      <td>...</td>\n",
       "      <td>...</td>\n",
       "      <td>...</td>\n",
       "      <td>...</td>\n",
       "      <td>...</td>\n",
       "      <td>...</td>\n",
       "      <td>...</td>\n",
       "      <td>...</td>\n",
       "    </tr>\n",
       "    <tr>\n",
       "      <th>74710</th>\n",
       "      <td>2020/11/2</td>\n",
       "      <td>2020/11/21 0:00</td>\n",
       "      <td>2020/12/15</td>\n",
       "      <td>2021/4/2</td>\n",
       "      <td>NaN</td>\n",
       "      <td>NaN</td>\n",
       "      <td>9tz24usw</td>\n",
       "      <td>OVINTIV</td>\n",
       "      <td>32.3697</td>\n",
       "      <td>-102.1774</td>\n",
       "      <td>...</td>\n",
       "      <td>7.0</td>\n",
       "      <td>101</td>\n",
       "      <td>144.0</td>\n",
       "      <td>160</td>\n",
       "      <td>309.99</td>\n",
       "      <td>2021/6/15</td>\n",
       "      <td>1.12</td>\n",
       "      <td>0.0</td>\n",
       "      <td>2.0</td>\n",
       "      <td>4</td>\n",
       "    </tr>\n",
       "    <tr>\n",
       "      <th>74711</th>\n",
       "      <td>2020/11/2</td>\n",
       "      <td>2020/11/21 0:00</td>\n",
       "      <td>2020/12/15</td>\n",
       "      <td>2021/4/2</td>\n",
       "      <td>NaN</td>\n",
       "      <td>NaN</td>\n",
       "      <td>9tz24usw</td>\n",
       "      <td>OVINTIV</td>\n",
       "      <td>32.3697</td>\n",
       "      <td>-102.1774</td>\n",
       "      <td>...</td>\n",
       "      <td>7.0</td>\n",
       "      <td>101</td>\n",
       "      <td>144.0</td>\n",
       "      <td>160</td>\n",
       "      <td>305.45</td>\n",
       "      <td>2021/6/16</td>\n",
       "      <td>0.84</td>\n",
       "      <td>0.0</td>\n",
       "      <td>2.0</td>\n",
       "      <td>4</td>\n",
       "    </tr>\n",
       "    <tr>\n",
       "      <th>74712</th>\n",
       "      <td>2020/11/2</td>\n",
       "      <td>2020/11/21 0:00</td>\n",
       "      <td>2020/12/15</td>\n",
       "      <td>2021/4/2</td>\n",
       "      <td>NaN</td>\n",
       "      <td>NaN</td>\n",
       "      <td>9tz24usw</td>\n",
       "      <td>OVINTIV</td>\n",
       "      <td>32.3697</td>\n",
       "      <td>-102.1774</td>\n",
       "      <td>...</td>\n",
       "      <td>7.0</td>\n",
       "      <td>101</td>\n",
       "      <td>144.0</td>\n",
       "      <td>160</td>\n",
       "      <td>309.60</td>\n",
       "      <td>2021/6/16</td>\n",
       "      <td>0.70</td>\n",
       "      <td>0.0</td>\n",
       "      <td>2.0</td>\n",
       "      <td>4</td>\n",
       "    </tr>\n",
       "    <tr>\n",
       "      <th>74713</th>\n",
       "      <td>2020/11/2</td>\n",
       "      <td>2020/11/21 0:00</td>\n",
       "      <td>2020/12/15</td>\n",
       "      <td>2021/4/2</td>\n",
       "      <td>NaN</td>\n",
       "      <td>NaN</td>\n",
       "      <td>9tz24usw</td>\n",
       "      <td>OVINTIV</td>\n",
       "      <td>32.3697</td>\n",
       "      <td>-102.1774</td>\n",
       "      <td>...</td>\n",
       "      <td>7.0</td>\n",
       "      <td>101</td>\n",
       "      <td>144.0</td>\n",
       "      <td>160</td>\n",
       "      <td>301.67</td>\n",
       "      <td>2021/6/16</td>\n",
       "      <td>0.88</td>\n",
       "      <td>0.0</td>\n",
       "      <td>2.0</td>\n",
       "      <td>4</td>\n",
       "    </tr>\n",
       "    <tr>\n",
       "      <th>74714</th>\n",
       "      <td>2020/11/2</td>\n",
       "      <td>2020/11/21 0:00</td>\n",
       "      <td>2020/12/15</td>\n",
       "      <td>2021/4/2</td>\n",
       "      <td>NaN</td>\n",
       "      <td>NaN</td>\n",
       "      <td>9tz24usw</td>\n",
       "      <td>OVINTIV</td>\n",
       "      <td>32.3697</td>\n",
       "      <td>-102.1774</td>\n",
       "      <td>...</td>\n",
       "      <td>7.0</td>\n",
       "      <td>101</td>\n",
       "      <td>144.0</td>\n",
       "      <td>160</td>\n",
       "      <td>303.54</td>\n",
       "      <td>2021/6/17</td>\n",
       "      <td>0.72</td>\n",
       "      <td>0.0</td>\n",
       "      <td>2.0</td>\n",
       "      <td>4</td>\n",
       "    </tr>\n",
       "  </tbody>\n",
       "</table>\n",
       "<p>73959 rows × 27 columns</p>\n",
       "</div>"
      ],
      "text/plain": [
       "      tst_permit_date tst_permit_published_date tst_spud_date  \\\n",
       "0            2018/6/8            2018/6/10 0:00     2018/7/14   \n",
       "1           2020/9/21            2020/9/23 0:00     2021/5/18   \n",
       "2           2020/9/14            2020/9/23 0:00    2020/10/15   \n",
       "3           2020/9/14            2020/9/23 0:00    2020/10/15   \n",
       "4           2020/9/14            2020/9/23 0:00    2020/10/15   \n",
       "...               ...                       ...           ...   \n",
       "74710       2020/11/2           2020/11/21 0:00    2020/12/15   \n",
       "74711       2020/11/2           2020/11/21 0:00    2020/12/15   \n",
       "74712       2020/11/2           2020/11/21 0:00    2020/12/15   \n",
       "74713       2020/11/2           2020/11/21 0:00    2020/12/15   \n",
       "74714       2020/11/2           2020/11/21 0:00    2020/12/15   \n",
       "\n",
       "      tst_completion_date tst_fracfocus_jobstart_date  \\\n",
       "0               2019/4/28                   2019/3/21   \n",
       "1                2022/2/9              2022/1/4 18:33   \n",
       "2                2022/2/9             2021/12/15 6:00   \n",
       "3                2022/2/9             2021/12/15 6:00   \n",
       "4                2022/2/9             2021/12/15 6:00   \n",
       "...                   ...                         ...   \n",
       "74710            2021/4/2                         NaN   \n",
       "74711            2021/4/2                         NaN   \n",
       "74712            2021/4/2                         NaN   \n",
       "74713            2021/4/2                         NaN   \n",
       "74714            2021/4/2                         NaN   \n",
       "\n",
       "      tst_fracfocus_jobend_date wellpad_code    parent_operator_co      lat  \\\n",
       "0                     2019/4/11     9txqyd3v  CROWNQUEST OPERATING  32.1372   \n",
       "1                2022/1/17 3:08     9txqydx8  CROWNQUEST OPERATING  32.1379   \n",
       "2               2021/12/31 6:00     9txqyf9e  CROWNQUEST OPERATING  32.1385   \n",
       "3               2021/12/31 6:00     9txqyf9e  CROWNQUEST OPERATING  32.1385   \n",
       "4               2021/12/31 6:00     9txqyf9e  CROWNQUEST OPERATING  32.1385   \n",
       "...                         ...          ...                   ...      ...   \n",
       "74710                       NaN     9tz24usw               OVINTIV  32.3697   \n",
       "74711                       NaN     9tz24usw               OVINTIV  32.3697   \n",
       "74712                       NaN     9tz24usw               OVINTIV  32.3697   \n",
       "74713                       NaN     9tz24usw               OVINTIV  32.3697   \n",
       "74714                       NaN     9tz24usw               OVINTIV  32.3697   \n",
       "\n",
       "           long  ...  comp_diff  spud_diff permit_diff detection_diff  \\\n",
       "0     -102.0163  ...       66.0        354       390.0            423   \n",
       "1     -102.0083  ...       54.0        321       560.0            564   \n",
       "2     -102.0056  ...       54.0        536       567.0            599   \n",
       "3     -102.0056  ...       54.0        536       567.0            599   \n",
       "4     -102.0056  ...       54.0        536       567.0            599   \n",
       "...         ...  ...        ...        ...         ...            ...   \n",
       "74710 -102.1774  ...        7.0        101       144.0            160   \n",
       "74711 -102.1774  ...        7.0        101       144.0            160   \n",
       "74712 -102.1774  ...        7.0        101       144.0            160   \n",
       "74713 -102.1774  ...        7.0        101       144.0            160   \n",
       "74714 -102.1774  ...        7.0        101       144.0            160   \n",
       "\n",
       "       BRIGHTNESS   ACQ_DATE   FRP  days_diffs  temporal_group  pad_status  \n",
       "0          302.01   2019/7/3  2.53        68.0             1.0           6  \n",
       "1          303.60   2022/4/4  1.62       910.0             3.0           6  \n",
       "2          315.40   2022/4/4  1.78         0.0             3.0           6  \n",
       "3          297.20   2022/4/4  0.79         0.0             3.0           6  \n",
       "4          367.00   2022/4/6  5.49         2.0             3.0           6  \n",
       "...           ...        ...   ...         ...             ...         ...  \n",
       "74710      309.99  2021/6/15  1.12         0.0             2.0           4  \n",
       "74711      305.45  2021/6/16  0.84         0.0             2.0           4  \n",
       "74712      309.60  2021/6/16  0.70         0.0             2.0           4  \n",
       "74713      301.67  2021/6/16  0.88         0.0             2.0           4  \n",
       "74714      303.54  2021/6/17  0.72         0.0             2.0           4  \n",
       "\n",
       "[73959 rows x 27 columns]"
      ]
     },
     "execution_count": 3,
     "metadata": {},
     "output_type": "execute_result"
    }
   ],
   "source": [
    "df= df.drop(columns = ['Unnamed: 0.1','api','state','basin','county','source','geom','subbasin','operator_code',\n",
    "                       'operator_name','X','Y','spatial_group','color','Unnamed: 0','style','geometry','wellpads_id',\n",
    "                       'Unnamed: 0.2','LATITUDE','LONGITUDE','SCAN','TRACK','BRIGHT_T31','CONFIDENCE','SATELLITE','INSTRUMENT',\n",
    "                       'geometry.1','TYPE','DAYNIGHT','power','VERSION','aq_date','ACQ_TIME','t_diff','best_estimate_diff'])\n",
    "df = df[df['ACQ_DATE'].notna()]\n",
    "df"
   ]
  },
  {
   "cell_type": "code",
   "execution_count": 4,
   "id": "ab339f09",
   "metadata": {},
   "outputs": [],
   "source": [
    "def is_correct_dt(dt_str):\n",
    "    \n",
    "    try:\n",
    "        dt = datetime.strptime(dt_str, '%Y/%m/%d')\n",
    "    except:\n",
    "        dt = np.nan\n",
    "    \n",
    "    return dt\n",
    "    \n",
    "df['tst_first_detection_date'] = df['tst_first_detection_date'].apply(is_correct_dt)"
   ]
  },
  {
   "cell_type": "code",
   "execution_count": 5,
   "id": "368a9509",
   "metadata": {},
   "outputs": [],
   "source": [
    "df['ACQ_DATE'] = pd.to_datetime(df['ACQ_DATE'], format='%Y%m%d %H:%M')\n",
    "df['tst_first_detection_date'] = pd.to_datetime(df['tst_first_detection_date'], format='%Y/%m/%d')\n",
    "df['tst_permit_date'] = pd.to_datetime(df['tst_permit_date'], format='%Y/%m/%d')\n",
    "df['tst_permit_published_date'] = pd.to_datetime(df['tst_permit_published_date'], format='%Y/%m/%d')\n",
    "df['tst_spud_date'] = pd.to_datetime(df['tst_spud_date'], format='%Y/%m/%d')\n",
    "df['tst_completion_date'] = pd.to_datetime(df['tst_completion_date'], format='%Y/%m/%d')\n",
    "df['tst_fracfocus_jobstart_date'] = pd.to_datetime(df['tst_fracfocus_jobstart_date'], format='%Y/%m/%d')\n",
    "df['tst_fracfocus_jobend_date'] = pd.to_datetime(df['tst_fracfocus_jobend_date'], format='%Y/%m/%d')\n",
    "df['tst_fracfocus_jobend_date'] = pd.to_datetime(df['tst_fracfocus_jobend_date'], format='%Y/%m/%d')"
   ]
  },
  {
   "cell_type": "code",
   "execution_count": 6,
   "id": "4e205519",
   "metadata": {},
   "outputs": [],
   "source": [
    "def public_private_class(company_type):\n",
    "    \n",
    "    ctype_class = 0\n",
    "    if company_type == 'Public':\n",
    "        ctype_class = 1\n",
    "        \n",
    "    return ctype_class\n",
    "\n",
    "df['company_type'] = df['company_type'].apply(public_private_class)"
   ]
  },
  {
   "cell_type": "code",
   "execution_count": 7,
   "id": "073bf858",
   "metadata": {},
   "outputs": [],
   "source": [
    "df['ACQ_DATE'] = pd.to_datetime(df['ACQ_DATE']).dt.date\n",
    "df['tst_first_detection_date'] = pd.to_datetime(df['tst_first_detection_date']).dt.date\n",
    "df['tst_permit_date'] = pd.to_datetime(df['tst_permit_date']).dt.date\n",
    "df['tst_permit_published_date'] = pd.to_datetime(df['tst_permit_published_date']).dt.date\n",
    "df['tst_spud_date'] = pd.to_datetime(df['tst_spud_date']).dt.date\n",
    "df['tst_completion_date'] = pd.to_datetime(df['tst_completion_date']).dt.date\n",
    "df['tst_fracfocus_jobstart_date'] = pd.to_datetime(df['tst_fracfocus_jobstart_date']).dt.date\n",
    "df['tst_fracfocus_jobend_date'] = pd.to_datetime(df['tst_fracfocus_jobend_date']).dt.date\n",
    "df['tst_fracfocus_jobend_date'] = pd.to_datetime(df['tst_fracfocus_jobend_date']).dt.date\n",
    "\n"
   ]
  },
  {
   "cell_type": "code",
   "execution_count": 8,
   "id": "34b45406",
   "metadata": {},
   "outputs": [
    {
     "data": {
      "text/html": [
       "<div>\n",
       "<style scoped>\n",
       "    .dataframe tbody tr th:only-of-type {\n",
       "        vertical-align: middle;\n",
       "    }\n",
       "\n",
       "    .dataframe tbody tr th {\n",
       "        vertical-align: top;\n",
       "    }\n",
       "\n",
       "    .dataframe thead th {\n",
       "        text-align: right;\n",
       "    }\n",
       "</style>\n",
       "<table border=\"1\" class=\"dataframe\">\n",
       "  <thead>\n",
       "    <tr style=\"text-align: right;\">\n",
       "      <th></th>\n",
       "      <th>tst_permit_date</th>\n",
       "      <th>tst_permit_published_date</th>\n",
       "      <th>tst_spud_date</th>\n",
       "      <th>tst_completion_date</th>\n",
       "      <th>tst_fracfocus_jobstart_date</th>\n",
       "      <th>tst_fracfocus_jobend_date</th>\n",
       "      <th>wellpad_code</th>\n",
       "      <th>parent_operator_co</th>\n",
       "      <th>lat</th>\n",
       "      <th>long</th>\n",
       "      <th>...</th>\n",
       "      <th>comp_diff</th>\n",
       "      <th>spud_diff</th>\n",
       "      <th>permit_diff</th>\n",
       "      <th>detection_diff</th>\n",
       "      <th>BRIGHTNESS</th>\n",
       "      <th>ACQ_DATE</th>\n",
       "      <th>FRP</th>\n",
       "      <th>days_diffs</th>\n",
       "      <th>temporal_group</th>\n",
       "      <th>pad_status</th>\n",
       "    </tr>\n",
       "  </thead>\n",
       "  <tbody>\n",
       "    <tr>\n",
       "      <th>0</th>\n",
       "      <td>2018-06-08</td>\n",
       "      <td>2018-06-10</td>\n",
       "      <td>2018-07-14</td>\n",
       "      <td>2019-04-28</td>\n",
       "      <td>2019-03-21</td>\n",
       "      <td>2019-04-11</td>\n",
       "      <td>9txqyd3v</td>\n",
       "      <td>CROWNQUEST OPERATING</td>\n",
       "      <td>32.1372</td>\n",
       "      <td>-102.0163</td>\n",
       "      <td>...</td>\n",
       "      <td>66.0</td>\n",
       "      <td>354</td>\n",
       "      <td>390.0</td>\n",
       "      <td>423</td>\n",
       "      <td>302.01</td>\n",
       "      <td>2019-07-03</td>\n",
       "      <td>2.53</td>\n",
       "      <td>68.0</td>\n",
       "      <td>1.0</td>\n",
       "      <td>6</td>\n",
       "    </tr>\n",
       "    <tr>\n",
       "      <th>1</th>\n",
       "      <td>2020-09-21</td>\n",
       "      <td>2020-09-23</td>\n",
       "      <td>2021-05-18</td>\n",
       "      <td>2022-02-09</td>\n",
       "      <td>2022-01-04</td>\n",
       "      <td>2022-01-17</td>\n",
       "      <td>9txqydx8</td>\n",
       "      <td>CROWNQUEST OPERATING</td>\n",
       "      <td>32.1379</td>\n",
       "      <td>-102.0083</td>\n",
       "      <td>...</td>\n",
       "      <td>54.0</td>\n",
       "      <td>321</td>\n",
       "      <td>560.0</td>\n",
       "      <td>564</td>\n",
       "      <td>303.60</td>\n",
       "      <td>2022-04-04</td>\n",
       "      <td>1.62</td>\n",
       "      <td>910.0</td>\n",
       "      <td>3.0</td>\n",
       "      <td>6</td>\n",
       "    </tr>\n",
       "    <tr>\n",
       "      <th>2</th>\n",
       "      <td>2020-09-14</td>\n",
       "      <td>2020-09-23</td>\n",
       "      <td>2020-10-15</td>\n",
       "      <td>2022-02-09</td>\n",
       "      <td>2021-12-15</td>\n",
       "      <td>2021-12-31</td>\n",
       "      <td>9txqyf9e</td>\n",
       "      <td>CROWNQUEST OPERATING</td>\n",
       "      <td>32.1385</td>\n",
       "      <td>-102.0056</td>\n",
       "      <td>...</td>\n",
       "      <td>54.0</td>\n",
       "      <td>536</td>\n",
       "      <td>567.0</td>\n",
       "      <td>599</td>\n",
       "      <td>315.40</td>\n",
       "      <td>2022-04-04</td>\n",
       "      <td>1.78</td>\n",
       "      <td>0.0</td>\n",
       "      <td>3.0</td>\n",
       "      <td>6</td>\n",
       "    </tr>\n",
       "    <tr>\n",
       "      <th>3</th>\n",
       "      <td>2020-09-14</td>\n",
       "      <td>2020-09-23</td>\n",
       "      <td>2020-10-15</td>\n",
       "      <td>2022-02-09</td>\n",
       "      <td>2021-12-15</td>\n",
       "      <td>2021-12-31</td>\n",
       "      <td>9txqyf9e</td>\n",
       "      <td>CROWNQUEST OPERATING</td>\n",
       "      <td>32.1385</td>\n",
       "      <td>-102.0056</td>\n",
       "      <td>...</td>\n",
       "      <td>54.0</td>\n",
       "      <td>536</td>\n",
       "      <td>567.0</td>\n",
       "      <td>599</td>\n",
       "      <td>297.20</td>\n",
       "      <td>2022-04-04</td>\n",
       "      <td>0.79</td>\n",
       "      <td>0.0</td>\n",
       "      <td>3.0</td>\n",
       "      <td>6</td>\n",
       "    </tr>\n",
       "    <tr>\n",
       "      <th>4</th>\n",
       "      <td>2020-09-14</td>\n",
       "      <td>2020-09-23</td>\n",
       "      <td>2020-10-15</td>\n",
       "      <td>2022-02-09</td>\n",
       "      <td>2021-12-15</td>\n",
       "      <td>2021-12-31</td>\n",
       "      <td>9txqyf9e</td>\n",
       "      <td>CROWNQUEST OPERATING</td>\n",
       "      <td>32.1385</td>\n",
       "      <td>-102.0056</td>\n",
       "      <td>...</td>\n",
       "      <td>54.0</td>\n",
       "      <td>536</td>\n",
       "      <td>567.0</td>\n",
       "      <td>599</td>\n",
       "      <td>367.00</td>\n",
       "      <td>2022-04-06</td>\n",
       "      <td>5.49</td>\n",
       "      <td>2.0</td>\n",
       "      <td>3.0</td>\n",
       "      <td>6</td>\n",
       "    </tr>\n",
       "    <tr>\n",
       "      <th>...</th>\n",
       "      <td>...</td>\n",
       "      <td>...</td>\n",
       "      <td>...</td>\n",
       "      <td>...</td>\n",
       "      <td>...</td>\n",
       "      <td>...</td>\n",
       "      <td>...</td>\n",
       "      <td>...</td>\n",
       "      <td>...</td>\n",
       "      <td>...</td>\n",
       "      <td>...</td>\n",
       "      <td>...</td>\n",
       "      <td>...</td>\n",
       "      <td>...</td>\n",
       "      <td>...</td>\n",
       "      <td>...</td>\n",
       "      <td>...</td>\n",
       "      <td>...</td>\n",
       "      <td>...</td>\n",
       "      <td>...</td>\n",
       "      <td>...</td>\n",
       "    </tr>\n",
       "    <tr>\n",
       "      <th>74710</th>\n",
       "      <td>2020-11-02</td>\n",
       "      <td>2020-11-21</td>\n",
       "      <td>2020-12-15</td>\n",
       "      <td>2021-04-02</td>\n",
       "      <td>NaT</td>\n",
       "      <td>NaT</td>\n",
       "      <td>9tz24usw</td>\n",
       "      <td>OVINTIV</td>\n",
       "      <td>32.3697</td>\n",
       "      <td>-102.1774</td>\n",
       "      <td>...</td>\n",
       "      <td>7.0</td>\n",
       "      <td>101</td>\n",
       "      <td>144.0</td>\n",
       "      <td>160</td>\n",
       "      <td>309.99</td>\n",
       "      <td>2021-06-15</td>\n",
       "      <td>1.12</td>\n",
       "      <td>0.0</td>\n",
       "      <td>2.0</td>\n",
       "      <td>4</td>\n",
       "    </tr>\n",
       "    <tr>\n",
       "      <th>74711</th>\n",
       "      <td>2020-11-02</td>\n",
       "      <td>2020-11-21</td>\n",
       "      <td>2020-12-15</td>\n",
       "      <td>2021-04-02</td>\n",
       "      <td>NaT</td>\n",
       "      <td>NaT</td>\n",
       "      <td>9tz24usw</td>\n",
       "      <td>OVINTIV</td>\n",
       "      <td>32.3697</td>\n",
       "      <td>-102.1774</td>\n",
       "      <td>...</td>\n",
       "      <td>7.0</td>\n",
       "      <td>101</td>\n",
       "      <td>144.0</td>\n",
       "      <td>160</td>\n",
       "      <td>305.45</td>\n",
       "      <td>2021-06-16</td>\n",
       "      <td>0.84</td>\n",
       "      <td>0.0</td>\n",
       "      <td>2.0</td>\n",
       "      <td>4</td>\n",
       "    </tr>\n",
       "    <tr>\n",
       "      <th>74712</th>\n",
       "      <td>2020-11-02</td>\n",
       "      <td>2020-11-21</td>\n",
       "      <td>2020-12-15</td>\n",
       "      <td>2021-04-02</td>\n",
       "      <td>NaT</td>\n",
       "      <td>NaT</td>\n",
       "      <td>9tz24usw</td>\n",
       "      <td>OVINTIV</td>\n",
       "      <td>32.3697</td>\n",
       "      <td>-102.1774</td>\n",
       "      <td>...</td>\n",
       "      <td>7.0</td>\n",
       "      <td>101</td>\n",
       "      <td>144.0</td>\n",
       "      <td>160</td>\n",
       "      <td>309.60</td>\n",
       "      <td>2021-06-16</td>\n",
       "      <td>0.70</td>\n",
       "      <td>0.0</td>\n",
       "      <td>2.0</td>\n",
       "      <td>4</td>\n",
       "    </tr>\n",
       "    <tr>\n",
       "      <th>74713</th>\n",
       "      <td>2020-11-02</td>\n",
       "      <td>2020-11-21</td>\n",
       "      <td>2020-12-15</td>\n",
       "      <td>2021-04-02</td>\n",
       "      <td>NaT</td>\n",
       "      <td>NaT</td>\n",
       "      <td>9tz24usw</td>\n",
       "      <td>OVINTIV</td>\n",
       "      <td>32.3697</td>\n",
       "      <td>-102.1774</td>\n",
       "      <td>...</td>\n",
       "      <td>7.0</td>\n",
       "      <td>101</td>\n",
       "      <td>144.0</td>\n",
       "      <td>160</td>\n",
       "      <td>301.67</td>\n",
       "      <td>2021-06-16</td>\n",
       "      <td>0.88</td>\n",
       "      <td>0.0</td>\n",
       "      <td>2.0</td>\n",
       "      <td>4</td>\n",
       "    </tr>\n",
       "    <tr>\n",
       "      <th>74714</th>\n",
       "      <td>2020-11-02</td>\n",
       "      <td>2020-11-21</td>\n",
       "      <td>2020-12-15</td>\n",
       "      <td>2021-04-02</td>\n",
       "      <td>NaT</td>\n",
       "      <td>NaT</td>\n",
       "      <td>9tz24usw</td>\n",
       "      <td>OVINTIV</td>\n",
       "      <td>32.3697</td>\n",
       "      <td>-102.1774</td>\n",
       "      <td>...</td>\n",
       "      <td>7.0</td>\n",
       "      <td>101</td>\n",
       "      <td>144.0</td>\n",
       "      <td>160</td>\n",
       "      <td>303.54</td>\n",
       "      <td>2021-06-17</td>\n",
       "      <td>0.72</td>\n",
       "      <td>0.0</td>\n",
       "      <td>2.0</td>\n",
       "      <td>4</td>\n",
       "    </tr>\n",
       "  </tbody>\n",
       "</table>\n",
       "<p>73959 rows × 27 columns</p>\n",
       "</div>"
      ],
      "text/plain": [
       "      tst_permit_date tst_permit_published_date tst_spud_date  \\\n",
       "0          2018-06-08                2018-06-10    2018-07-14   \n",
       "1          2020-09-21                2020-09-23    2021-05-18   \n",
       "2          2020-09-14                2020-09-23    2020-10-15   \n",
       "3          2020-09-14                2020-09-23    2020-10-15   \n",
       "4          2020-09-14                2020-09-23    2020-10-15   \n",
       "...               ...                       ...           ...   \n",
       "74710      2020-11-02                2020-11-21    2020-12-15   \n",
       "74711      2020-11-02                2020-11-21    2020-12-15   \n",
       "74712      2020-11-02                2020-11-21    2020-12-15   \n",
       "74713      2020-11-02                2020-11-21    2020-12-15   \n",
       "74714      2020-11-02                2020-11-21    2020-12-15   \n",
       "\n",
       "      tst_completion_date tst_fracfocus_jobstart_date  \\\n",
       "0              2019-04-28                  2019-03-21   \n",
       "1              2022-02-09                  2022-01-04   \n",
       "2              2022-02-09                  2021-12-15   \n",
       "3              2022-02-09                  2021-12-15   \n",
       "4              2022-02-09                  2021-12-15   \n",
       "...                   ...                         ...   \n",
       "74710          2021-04-02                         NaT   \n",
       "74711          2021-04-02                         NaT   \n",
       "74712          2021-04-02                         NaT   \n",
       "74713          2021-04-02                         NaT   \n",
       "74714          2021-04-02                         NaT   \n",
       "\n",
       "      tst_fracfocus_jobend_date wellpad_code    parent_operator_co      lat  \\\n",
       "0                    2019-04-11     9txqyd3v  CROWNQUEST OPERATING  32.1372   \n",
       "1                    2022-01-17     9txqydx8  CROWNQUEST OPERATING  32.1379   \n",
       "2                    2021-12-31     9txqyf9e  CROWNQUEST OPERATING  32.1385   \n",
       "3                    2021-12-31     9txqyf9e  CROWNQUEST OPERATING  32.1385   \n",
       "4                    2021-12-31     9txqyf9e  CROWNQUEST OPERATING  32.1385   \n",
       "...                         ...          ...                   ...      ...   \n",
       "74710                       NaT     9tz24usw               OVINTIV  32.3697   \n",
       "74711                       NaT     9tz24usw               OVINTIV  32.3697   \n",
       "74712                       NaT     9tz24usw               OVINTIV  32.3697   \n",
       "74713                       NaT     9tz24usw               OVINTIV  32.3697   \n",
       "74714                       NaT     9tz24usw               OVINTIV  32.3697   \n",
       "\n",
       "           long  ...  comp_diff  spud_diff permit_diff  detection_diff  \\\n",
       "0     -102.0163  ...       66.0        354       390.0             423   \n",
       "1     -102.0083  ...       54.0        321       560.0             564   \n",
       "2     -102.0056  ...       54.0        536       567.0             599   \n",
       "3     -102.0056  ...       54.0        536       567.0             599   \n",
       "4     -102.0056  ...       54.0        536       567.0             599   \n",
       "...         ...  ...        ...        ...         ...             ...   \n",
       "74710 -102.1774  ...        7.0        101       144.0             160   \n",
       "74711 -102.1774  ...        7.0        101       144.0             160   \n",
       "74712 -102.1774  ...        7.0        101       144.0             160   \n",
       "74713 -102.1774  ...        7.0        101       144.0             160   \n",
       "74714 -102.1774  ...        7.0        101       144.0             160   \n",
       "\n",
       "       BRIGHTNESS    ACQ_DATE   FRP  days_diffs  temporal_group  pad_status  \n",
       "0          302.01  2019-07-03  2.53        68.0             1.0           6  \n",
       "1          303.60  2022-04-04  1.62       910.0             3.0           6  \n",
       "2          315.40  2022-04-04  1.78         0.0             3.0           6  \n",
       "3          297.20  2022-04-04  0.79         0.0             3.0           6  \n",
       "4          367.00  2022-04-06  5.49         2.0             3.0           6  \n",
       "...           ...         ...   ...         ...             ...         ...  \n",
       "74710      309.99  2021-06-15  1.12         0.0             2.0           4  \n",
       "74711      305.45  2021-06-16  0.84         0.0             2.0           4  \n",
       "74712      309.60  2021-06-16  0.70         0.0             2.0           4  \n",
       "74713      301.67  2021-06-16  0.88         0.0             2.0           4  \n",
       "74714      303.54  2021-06-17  0.72         0.0             2.0           4  \n",
       "\n",
       "[73959 rows x 27 columns]"
      ]
     },
     "execution_count": 8,
     "metadata": {},
     "output_type": "execute_result"
    }
   ],
   "source": [
    "df"
   ]
  },
  {
   "cell_type": "code",
   "execution_count": 9,
   "id": "fa919a64",
   "metadata": {},
   "outputs": [],
   "source": [
    "#spud_check\n",
    "today = date.today()\n",
    "df['spud_diff'] = (today-df['tst_spud_date'])/np.timedelta64(1, 'D')\n",
    "#df['comp_diff'] = max(df['tst_completion_date'])"
   ]
  },
  {
   "cell_type": "code",
   "execution_count": 10,
   "id": "df35b0fe",
   "metadata": {},
   "outputs": [],
   "source": [
    "#comp_check\n",
    "\n",
    "\n",
    "\n",
    "df.fillna({'tst_completion_date':date.min, 'tst_fracfocus_jobend_date':date.min,'tst_fracfocus_jobstart_date':date.min}, inplace=True)\n",
    "\n",
    "def comp_check(row):\n",
    "\n",
    "    if row['tst_completion_date'] > row['tst_fracfocus_jobstart_date']:\n",
    "        row['comp'] = row['tst_completion_date']\n",
    "        if row['comp']>row['tst_fracfocus_jobend_date']:\n",
    "            comp_diff = (today - row['comp'])#/np.timedelta64(1, 'D')\n",
    "        else:\n",
    "            comp_diff = (today - row['tst_fracfocus_jobend_date'])#/np.timedelta64(1, 'D')\n",
    "    else:\n",
    "        row['comp'] = row['tst_fracfocus_jobstart_date']\n",
    "        if row['comp']>row['tst_fracfocus_jobend_date']:\n",
    "            comp_diff = today - row['comp']#/np.timedelta64(1, 'D')\n",
    "        else:\n",
    "            comp_diff= today - row['tst_fracfocus_jobend_date']#/np.timedelta64(1, 'D')\n",
    "    return comp_diff\n",
    "\n",
    "df['comp_diff'] = df.apply(comp_check, axis=1)\n",
    "\n",
    "\n",
    "    "
   ]
  },
  {
   "cell_type": "code",
   "execution_count": 11,
   "id": "86a5f667",
   "metadata": {},
   "outputs": [],
   "source": [
    "#df['comp_diff'][1].astype('str').split()\n",
    "df['comp_diff'] =  df['comp_diff'].astype('str').str.split().str[0]\n"
   ]
  },
  {
   "cell_type": "code",
   "execution_count": 12,
   "id": "aaa1f28c",
   "metadata": {},
   "outputs": [],
   "source": [
    "# replace today - min day by largest day \n",
    "df['comp_diff'] = df['comp_diff'].astype('int')\n",
    "df['comp_diff'] = df['comp_diff'].replace([738359],3787)"
   ]
  },
  {
   "cell_type": "code",
   "execution_count": 13,
   "id": "3bad8f10",
   "metadata": {},
   "outputs": [
    {
     "data": {
      "text/plain": [
       "738363    1362\n",
       "3791      1036\n",
       "1534       919\n",
       "1059       897\n",
       "400        857\n",
       "          ... \n",
       "2728         1\n",
       "2898         1\n",
       "296          1\n",
       "1341         1\n",
       "3210         1\n",
       "Name: comp_diff, Length: 2355, dtype: int64"
      ]
     },
     "execution_count": 13,
     "metadata": {},
     "output_type": "execute_result"
    }
   ],
   "source": [
    "df['comp_diff'].value_counts()"
   ]
  },
  {
   "cell_type": "code",
   "execution_count": 14,
   "id": "8f58fd3b",
   "metadata": {},
   "outputs": [],
   "source": [
    "def pad_status(row):\n",
    "    \n",
    "    pad_status = 0\n",
    "    \n",
    "    # Cascade down by lifecycle event to determine the pad status\n",
    "    if pd.notnull(row['tst_first_detection_date']):  \n",
    "        \n",
    "        pad_status = 0 # Has detection\n",
    "        \n",
    "    if pd.notnull(row['tst_permit_date']):\n",
    "\n",
    "        pad_status = 0 # Has Permit\n",
    " \n",
    "    if pd.notnull(row['tst_spud_date']):\n",
    "\n",
    "        pad_status = 0 # Has spud\n",
    "            \n",
    "    if pd.notnull(row['tst_completion_date']):\n",
    "\n",
    "        pad_status = 1 # Has one completion confirmation\n",
    "\n",
    "        if pd.notnull(row['tst_fracfocus_jobstart_date']):\n",
    "\n",
    "            pad_status = 2 # Has two completion confirmations\n",
    "\n",
    "            if pd.notnull(row['tst_fracfocus_jobend_date']):\n",
    "\n",
    "                pad_status = 3 # Has three completion confirmations\n",
    "        else:\n",
    "\n",
    "            if pd.notnull(row['tst_fracfocus_jobend_date']):\n",
    "\n",
    "                pad_status = 2 # Has two completion confirmations\n",
    "        \n",
    "            else:\n",
    "                \n",
    "                if pd.notnull(row['tst_fracfocus_jobstart_date']):\n",
    "                    \n",
    "                    pad_status = 1 # Has one completion confirmation\n",
    "                \n",
    "                    if pd.notnull(row['tst_fracfocus_jobend_date']):\n",
    "                        \n",
    "                        pad_status = 2 # Has two completion confirmations\n",
    "                    \n",
    "                else:\n",
    "                    \n",
    "                    if pd.notnull(row['tst_fracfocus_jobend_date']):\n",
    "                        \n",
    "                        pad_status = 1 # Has one completion confirmation                     \n",
    "    \n",
    "    return pad_status\n",
    "\n",
    "    \n",
    "df['pad_status'] = df.apply(pad_status, axis=1)\n",
    "df.rename(columns = {'pad_status':'n_completion'}, inplace = True)"
   ]
  },
  {
   "cell_type": "code",
   "execution_count": 15,
   "id": "fd641799",
   "metadata": {},
   "outputs": [],
   "source": [
    "def flare_check(rows, todays_date):\n",
    "\n",
    "    #todays_date = todays_date.date()\n",
    "    \n",
    "    flares_n_acc = 0 # Number of flares so far\n",
    "    flares_power = 0 # Total FRP so far\n",
    "    t_since_last_flare = np.nan # Time since last flare event\n",
    "    \n",
    "    flares_n_acc = len(rows)\n",
    "    flares_power_acc = rows.FRP.sum()\n",
    "    most_recent_flare = rows.sort_values('ACQ_DATE', ascending=False).head(1)\n",
    "    #print(most_recent_flare)\n",
    "    t_since_last_flare = (todays_date-most_recent_flare['ACQ_DATE'].values[0]).days\n",
    "\n",
    "\n",
    "    return flares_n_acc, flares_power_acc, t_since_last_flare"
   ]
  },
  {
   "cell_type": "code",
   "execution_count": 16,
   "id": "c961d9d7",
   "metadata": {},
   "outputs": [],
   "source": [
    "wellpad_groups = df.groupby('wellpad_code')"
   ]
  },
  {
   "cell_type": "code",
   "execution_count": 17,
   "id": "fdf73cd3",
   "metadata": {},
   "outputs": [
    {
     "data": {
      "application/vnd.jupyter.widget-view+json": {
       "model_id": "b648506ac55c4eb1963a3d4ea34ae017",
       "version_major": 2,
       "version_minor": 0
      },
      "text/plain": [
       "  0%|          | 0/4030 [00:00<?, ?it/s]"
      ]
     },
     "metadata": {},
     "output_type": "display_data"
    }
   ],
   "source": [
    "group1 = pd.DataFrame()\n",
    "for g in tqdm(wellpad_groups):\n",
    "    \n",
    "    rows = g[1].sort_values('ACQ_DATE', ascending=False)\n",
    "\n",
    "    flares_n_acc, flares_power_acc, t_since_last_flare = flare_check(rows, today)\n",
    "    rows['flares_n_acc']=flares_n_acc\n",
    "    rows['flares_power_acc']=flares_power_acc\n",
    "    rows['t_since_last_flare']=t_since_last_flare\n",
    "    group2 = rows\n",
    "    table = pd.concat([group1,group2])\n",
    "    group1 = table\n"
   ]
  },
  {
   "cell_type": "code",
   "execution_count": 18,
   "id": "72f52bc7",
   "metadata": {},
   "outputs": [
    {
     "data": {
      "text/plain": [
       "Index(['tst_permit_date', 'tst_permit_published_date', 'tst_spud_date',\n",
       "       'tst_completion_date', 'tst_fracfocus_jobstart_date',\n",
       "       'tst_fracfocus_jobend_date', 'wellpad_code', 'parent_operator_co',\n",
       "       'lat', 'long', 'wells', 'area_m2', 'tst_first_detection_date',\n",
       "       'company_type', 'wellpad_vintage_year', 'flare_t_start', 'flare_t_end',\n",
       "       'comp_diff', 'spud_diff', 'permit_diff', 'detection_diff', 'BRIGHTNESS',\n",
       "       'ACQ_DATE', 'FRP', 'days_diffs', 'temporal_group', 'n_completion',\n",
       "       'flares_n_acc', 'flares_power_acc', 't_since_last_flare'],\n",
       "      dtype='object')"
      ]
     },
     "execution_count": 18,
     "metadata": {},
     "output_type": "execute_result"
    }
   ],
   "source": [
    "table.columns"
   ]
  },
  {
   "cell_type": "code",
   "execution_count": 19,
   "id": "45f975d8",
   "metadata": {},
   "outputs": [
    {
     "data": {
      "text/html": [
       "<div>\n",
       "<style scoped>\n",
       "    .dataframe tbody tr th:only-of-type {\n",
       "        vertical-align: middle;\n",
       "    }\n",
       "\n",
       "    .dataframe tbody tr th {\n",
       "        vertical-align: top;\n",
       "    }\n",
       "\n",
       "    .dataframe thead th {\n",
       "        text-align: right;\n",
       "    }\n",
       "</style>\n",
       "<table border=\"1\" class=\"dataframe\">\n",
       "  <thead>\n",
       "    <tr style=\"text-align: right;\">\n",
       "      <th></th>\n",
       "      <th>lat</th>\n",
       "      <th>long</th>\n",
       "      <th>wells</th>\n",
       "      <th>area_m2</th>\n",
       "      <th>company_type</th>\n",
       "      <th>wellpad_vintage_year</th>\n",
       "      <th>comp_diff</th>\n",
       "      <th>spud_diff</th>\n",
       "      <th>BRIGHTNESS</th>\n",
       "      <th>FRP</th>\n",
       "      <th>days_diffs</th>\n",
       "      <th>temporal_group</th>\n",
       "      <th>n_completion</th>\n",
       "      <th>flares_n_acc</th>\n",
       "      <th>flares_power_acc</th>\n",
       "      <th>t_since_last_flare</th>\n",
       "    </tr>\n",
       "  </thead>\n",
       "  <tbody>\n",
       "    <tr>\n",
       "      <th>63147</th>\n",
       "      <td>30.7730</td>\n",
       "      <td>-103.4968</td>\n",
       "      <td>2</td>\n",
       "      <td>36702.289350</td>\n",
       "      <td>1</td>\n",
       "      <td>2017</td>\n",
       "      <td>1737</td>\n",
       "      <td>1927.0</td>\n",
       "      <td>312.57</td>\n",
       "      <td>1.30</td>\n",
       "      <td>0.0</td>\n",
       "      <td>0.0</td>\n",
       "      <td>3</td>\n",
       "      <td>70</td>\n",
       "      <td>114.43</td>\n",
       "      <td>1608</td>\n",
       "    </tr>\n",
       "    <tr>\n",
       "      <th>63146</th>\n",
       "      <td>30.7730</td>\n",
       "      <td>-103.4968</td>\n",
       "      <td>2</td>\n",
       "      <td>36702.289350</td>\n",
       "      <td>1</td>\n",
       "      <td>2017</td>\n",
       "      <td>1737</td>\n",
       "      <td>1927.0</td>\n",
       "      <td>308.69</td>\n",
       "      <td>0.92</td>\n",
       "      <td>3.0</td>\n",
       "      <td>0.0</td>\n",
       "      <td>3</td>\n",
       "      <td>70</td>\n",
       "      <td>114.43</td>\n",
       "      <td>1608</td>\n",
       "    </tr>\n",
       "    <tr>\n",
       "      <th>63145</th>\n",
       "      <td>30.7730</td>\n",
       "      <td>-103.4968</td>\n",
       "      <td>2</td>\n",
       "      <td>36702.289350</td>\n",
       "      <td>1</td>\n",
       "      <td>2017</td>\n",
       "      <td>1737</td>\n",
       "      <td>1927.0</td>\n",
       "      <td>296.73</td>\n",
       "      <td>1.01</td>\n",
       "      <td>0.0</td>\n",
       "      <td>0.0</td>\n",
       "      <td>3</td>\n",
       "      <td>70</td>\n",
       "      <td>114.43</td>\n",
       "      <td>1608</td>\n",
       "    </tr>\n",
       "    <tr>\n",
       "      <th>63144</th>\n",
       "      <td>30.7730</td>\n",
       "      <td>-103.4968</td>\n",
       "      <td>2</td>\n",
       "      <td>36702.289350</td>\n",
       "      <td>1</td>\n",
       "      <td>2017</td>\n",
       "      <td>1737</td>\n",
       "      <td>1927.0</td>\n",
       "      <td>309.83</td>\n",
       "      <td>0.85</td>\n",
       "      <td>0.0</td>\n",
       "      <td>0.0</td>\n",
       "      <td>3</td>\n",
       "      <td>70</td>\n",
       "      <td>114.43</td>\n",
       "      <td>1608</td>\n",
       "    </tr>\n",
       "    <tr>\n",
       "      <th>63143</th>\n",
       "      <td>30.7730</td>\n",
       "      <td>-103.4968</td>\n",
       "      <td>2</td>\n",
       "      <td>36702.289350</td>\n",
       "      <td>1</td>\n",
       "      <td>2017</td>\n",
       "      <td>1737</td>\n",
       "      <td>1927.0</td>\n",
       "      <td>295.06</td>\n",
       "      <td>0.85</td>\n",
       "      <td>1.0</td>\n",
       "      <td>0.0</td>\n",
       "      <td>3</td>\n",
       "      <td>70</td>\n",
       "      <td>114.43</td>\n",
       "      <td>1608</td>\n",
       "    </tr>\n",
       "    <tr>\n",
       "      <th>...</th>\n",
       "      <td>...</td>\n",
       "      <td>...</td>\n",
       "      <td>...</td>\n",
       "      <td>...</td>\n",
       "      <td>...</td>\n",
       "      <td>...</td>\n",
       "      <td>...</td>\n",
       "      <td>...</td>\n",
       "      <td>...</td>\n",
       "      <td>...</td>\n",
       "      <td>...</td>\n",
       "      <td>...</td>\n",
       "      <td>...</td>\n",
       "      <td>...</td>\n",
       "      <td>...</td>\n",
       "      <td>...</td>\n",
       "    </tr>\n",
       "    <tr>\n",
       "      <th>47755</th>\n",
       "      <td>32.8613</td>\n",
       "      <td>-100.9256</td>\n",
       "      <td>1</td>\n",
       "      <td>10516.943040</td>\n",
       "      <td>1</td>\n",
       "      <td>2014</td>\n",
       "      <td>2757</td>\n",
       "      <td>2917.0</td>\n",
       "      <td>338.29</td>\n",
       "      <td>5.57</td>\n",
       "      <td>0.0</td>\n",
       "      <td>0.0</td>\n",
       "      <td>3</td>\n",
       "      <td>3</td>\n",
       "      <td>14.34</td>\n",
       "      <td>2740</td>\n",
       "    </tr>\n",
       "    <tr>\n",
       "      <th>50642</th>\n",
       "      <td>32.8679</td>\n",
       "      <td>-100.9285</td>\n",
       "      <td>2</td>\n",
       "      <td>17909.607190</td>\n",
       "      <td>1</td>\n",
       "      <td>2014</td>\n",
       "      <td>2672</td>\n",
       "      <td>2789.0</td>\n",
       "      <td>336.15</td>\n",
       "      <td>4.23</td>\n",
       "      <td>0.0</td>\n",
       "      <td>0.0</td>\n",
       "      <td>3</td>\n",
       "      <td>1</td>\n",
       "      <td>4.23</td>\n",
       "      <td>2680</td>\n",
       "    </tr>\n",
       "    <tr>\n",
       "      <th>22475</th>\n",
       "      <td>33.2544</td>\n",
       "      <td>-101.0846</td>\n",
       "      <td>1</td>\n",
       "      <td>8888.631841</td>\n",
       "      <td>0</td>\n",
       "      <td>2019</td>\n",
       "      <td>738363</td>\n",
       "      <td>1081.0</td>\n",
       "      <td>334.30</td>\n",
       "      <td>23.10</td>\n",
       "      <td>0.0</td>\n",
       "      <td>0.0</td>\n",
       "      <td>3</td>\n",
       "      <td>1</td>\n",
       "      <td>23.10</td>\n",
       "      <td>1084</td>\n",
       "    </tr>\n",
       "    <tr>\n",
       "      <th>19124</th>\n",
       "      <td>33.1974</td>\n",
       "      <td>-100.8738</td>\n",
       "      <td>1</td>\n",
       "      <td>11599.686500</td>\n",
       "      <td>1</td>\n",
       "      <td>2019</td>\n",
       "      <td>1104</td>\n",
       "      <td>1117.0</td>\n",
       "      <td>338.48</td>\n",
       "      <td>3.67</td>\n",
       "      <td>0.0</td>\n",
       "      <td>0.0</td>\n",
       "      <td>3</td>\n",
       "      <td>2</td>\n",
       "      <td>8.47</td>\n",
       "      <td>1100</td>\n",
       "    </tr>\n",
       "    <tr>\n",
       "      <th>19125</th>\n",
       "      <td>33.1974</td>\n",
       "      <td>-100.8738</td>\n",
       "      <td>1</td>\n",
       "      <td>11599.686500</td>\n",
       "      <td>1</td>\n",
       "      <td>2019</td>\n",
       "      <td>1104</td>\n",
       "      <td>1117.0</td>\n",
       "      <td>337.60</td>\n",
       "      <td>4.80</td>\n",
       "      <td>0.0</td>\n",
       "      <td>0.0</td>\n",
       "      <td>3</td>\n",
       "      <td>2</td>\n",
       "      <td>8.47</td>\n",
       "      <td>1100</td>\n",
       "    </tr>\n",
       "  </tbody>\n",
       "</table>\n",
       "<p>73959 rows × 16 columns</p>\n",
       "</div>"
      ],
      "text/plain": [
       "           lat      long  wells       area_m2  company_type  \\\n",
       "63147  30.7730 -103.4968      2  36702.289350             1   \n",
       "63146  30.7730 -103.4968      2  36702.289350             1   \n",
       "63145  30.7730 -103.4968      2  36702.289350             1   \n",
       "63144  30.7730 -103.4968      2  36702.289350             1   \n",
       "63143  30.7730 -103.4968      2  36702.289350             1   \n",
       "...        ...       ...    ...           ...           ...   \n",
       "47755  32.8613 -100.9256      1  10516.943040             1   \n",
       "50642  32.8679 -100.9285      2  17909.607190             1   \n",
       "22475  33.2544 -101.0846      1   8888.631841             0   \n",
       "19124  33.1974 -100.8738      1  11599.686500             1   \n",
       "19125  33.1974 -100.8738      1  11599.686500             1   \n",
       "\n",
       "       wellpad_vintage_year  comp_diff  spud_diff  BRIGHTNESS    FRP  \\\n",
       "63147                  2017       1737     1927.0      312.57   1.30   \n",
       "63146                  2017       1737     1927.0      308.69   0.92   \n",
       "63145                  2017       1737     1927.0      296.73   1.01   \n",
       "63144                  2017       1737     1927.0      309.83   0.85   \n",
       "63143                  2017       1737     1927.0      295.06   0.85   \n",
       "...                     ...        ...        ...         ...    ...   \n",
       "47755                  2014       2757     2917.0      338.29   5.57   \n",
       "50642                  2014       2672     2789.0      336.15   4.23   \n",
       "22475                  2019     738363     1081.0      334.30  23.10   \n",
       "19124                  2019       1104     1117.0      338.48   3.67   \n",
       "19125                  2019       1104     1117.0      337.60   4.80   \n",
       "\n",
       "       days_diffs  temporal_group  n_completion  flares_n_acc  \\\n",
       "63147         0.0             0.0             3            70   \n",
       "63146         3.0             0.0             3            70   \n",
       "63145         0.0             0.0             3            70   \n",
       "63144         0.0             0.0             3            70   \n",
       "63143         1.0             0.0             3            70   \n",
       "...           ...             ...           ...           ...   \n",
       "47755         0.0             0.0             3             3   \n",
       "50642         0.0             0.0             3             1   \n",
       "22475         0.0             0.0             3             1   \n",
       "19124         0.0             0.0             3             2   \n",
       "19125         0.0             0.0             3             2   \n",
       "\n",
       "       flares_power_acc  t_since_last_flare  \n",
       "63147            114.43                1608  \n",
       "63146            114.43                1608  \n",
       "63145            114.43                1608  \n",
       "63144            114.43                1608  \n",
       "63143            114.43                1608  \n",
       "...                 ...                 ...  \n",
       "47755             14.34                2740  \n",
       "50642              4.23                2680  \n",
       "22475             23.10                1084  \n",
       "19124              8.47                1100  \n",
       "19125              8.47                1100  \n",
       "\n",
       "[73959 rows x 16 columns]"
      ]
     },
     "execution_count": 19,
     "metadata": {},
     "output_type": "execute_result"
    }
   ],
   "source": [
    "table =table.drop(columns = ['tst_permit_date','tst_permit_published_date','tst_spud_date','tst_completion_date','tst_fracfocus_jobstart_date',\n",
    "                      'tst_fracfocus_jobend_date','wellpad_code','tst_first_detection_date','detection_diff','permit_diff','flare_t_start',\n",
    "                     'flare_t_end','ACQ_DATE','parent_operator_co'])\n",
    "table"
   ]
  },
  {
   "cell_type": "code",
   "execution_count": 20,
   "id": "eb2a96d3",
   "metadata": {},
   "outputs": [
    {
     "data": {
      "text/plain": [
       "lat                     0\n",
       "long                    0\n",
       "wells                   0\n",
       "area_m2                 0\n",
       "company_type            0\n",
       "wellpad_vintage_year    0\n",
       "comp_diff               0\n",
       "spud_diff               0\n",
       "BRIGHTNESS              0\n",
       "FRP                     0\n",
       "days_diffs              0\n",
       "temporal_group          0\n",
       "n_completion            0\n",
       "flares_n_acc            0\n",
       "flares_power_acc        0\n",
       "t_since_last_flare      0\n",
       "dtype: int64"
      ]
     },
     "execution_count": 20,
     "metadata": {},
     "output_type": "execute_result"
    }
   ],
   "source": [
    "table.isnull().sum()"
   ]
  },
  {
   "cell_type": "code",
   "execution_count": 21,
   "id": "e582d538",
   "metadata": {},
   "outputs": [],
   "source": [
    "table['temporal_group'] = table['temporal_group'].astype('str')"
   ]
  },
  {
   "cell_type": "code",
   "execution_count": 22,
   "id": "517ca7bc",
   "metadata": {},
   "outputs": [
    {
     "data": {
      "text/plain": [
       "lat                     float64\n",
       "long                    float64\n",
       "wells                     int64\n",
       "area_m2                 float64\n",
       "company_type              int64\n",
       "wellpad_vintage_year      int64\n",
       "comp_diff                 int32\n",
       "spud_diff               float64\n",
       "BRIGHTNESS              float64\n",
       "FRP                     float64\n",
       "days_diffs              float64\n",
       "temporal_group           object\n",
       "n_completion              int64\n",
       "flares_n_acc              int64\n",
       "flares_power_acc        float64\n",
       "t_since_last_flare        int64\n",
       "dtype: object"
      ]
     },
     "execution_count": 22,
     "metadata": {},
     "output_type": "execute_result"
    }
   ],
   "source": [
    "table.dtypes"
   ]
  },
  {
   "cell_type": "code",
   "execution_count": 23,
   "id": "15b06503",
   "metadata": {},
   "outputs": [],
   "source": [
    "df1 = pd.get_dummies(table, columns=['temporal_group'])"
   ]
  },
  {
   "cell_type": "code",
   "execution_count": 24,
   "id": "a3dae233",
   "metadata": {},
   "outputs": [],
   "source": [
    "y = df1.days_diffs\n",
    "X = df1.drop(['days_diffs'], axis=1)\n",
    "train_X, test_X, train_y, test_y = train_test_split(X, y, test_size=0.25)"
   ]
  },
  {
   "cell_type": "code",
   "execution_count": 25,
   "id": "663e7e88",
   "metadata": {},
   "outputs": [
    {
     "name": "stderr",
     "output_type": "stream",
     "text": [
      "D:\\Anaconda3\\lib\\site-packages\\xgboost\\sklearn.py:793: UserWarning: `early_stopping_rounds` in `fit` method is deprecated for better compatibility with scikit-learn, use `early_stopping_rounds` in constructor or`set_params` instead.\n",
      "  warnings.warn(\n"
     ]
    },
    {
     "data": {
      "text/plain": [
       "XGBRegressor(base_score=0.5, booster='gbtree', callbacks=None,\n",
       "             colsample_bylevel=1, colsample_bynode=1, colsample_bytree=1,\n",
       "             early_stopping_rounds=None, enable_categorical=False,\n",
       "             eval_metric=None, gamma=0, gpu_id=-1, grow_policy='depthwise',\n",
       "             importance_type=None, interaction_constraints='',\n",
       "             learning_rate=0.05, max_bin=256, max_cat_to_onehot=4,\n",
       "             max_delta_step=0, max_depth=6, max_leaves=0, min_child_weight=1,\n",
       "             missing=nan, monotone_constraints='()', n_estimators=1000,\n",
       "             n_jobs=0, num_parallel_tree=1, predictor='auto', random_state=0,\n",
       "             reg_alpha=0, reg_lambda=1, ...)"
      ]
     },
     "execution_count": 25,
     "metadata": {},
     "output_type": "execute_result"
    }
   ],
   "source": [
    "my_model = XGBRegressor(n_estimators=1000, learning_rate=0.05)\n",
    "my_model.fit(train_X, train_y, early_stopping_rounds=5, \n",
    "             eval_set=[(test_X, test_y)], verbose=False)"
   ]
  },
  {
   "cell_type": "code",
   "execution_count": 26,
   "id": "6814803c",
   "metadata": {},
   "outputs": [],
   "source": [
    "\n",
    "# my_model = XGBRegressor(n_estimators=1000, learning_rate=0.01)\n",
    "# my_model.fit(train_X, train_y, early_stopping_rounds=5,\n",
    "#              eval_set=[(test_X, test_y)], verbose=False)"
   ]
  },
  {
   "cell_type": "code",
   "execution_count": 27,
   "id": "fe27a523",
   "metadata": {},
   "outputs": [
    {
     "name": "stdout",
     "output_type": "stream",
     "text": [
      "Mean Absolute Error : 18.622024954869143\n"
     ]
    }
   ],
   "source": [
    "predictions = my_model.predict(test_X)\n",
    "\n",
    "print(\"Mean Absolute Error : \" + str(mean_absolute_error(predictions, test_y)))\n"
   ]
  },
  {
   "cell_type": "code",
   "execution_count": 28,
   "id": "73455858",
   "metadata": {},
   "outputs": [
    {
     "data": {
      "text/plain": [
       "<matplotlib.collections.PathCollection at 0x22dea9e85e0>"
      ]
     },
     "execution_count": 28,
     "metadata": {},
     "output_type": "execute_result"
    },
    {
     "data": {
      "image/png": "[encoded data removed]",
      "text/plain": [
       "<Figure size 432x288 with 1 Axes>"
      ]
     },
     "metadata": {
      "needs_background": "light"
     },
     "output_type": "display_data"
    }
   ],
   "source": [
    "#table['predictions'] = predictions\n",
    "plt.scatter(predictions,test_y.index)\n",
    "plt.scatter(test_y,test_y.index)\n"
   ]
  },
  {
   "cell_type": "code",
   "execution_count": 29,
   "id": "c6637376",
   "metadata": {},
   "outputs": [],
   "source": [
    "learning_rate_list = [0.01, 0.05, 0.1]\n",
    "max_depth_list = [3,4,5]\n",
    "n_estimators_list = [500,1000, 1500]\n",
    "subsample_list = [0.5, 0.8, 1.0]\n",
    "colsample_bytree_list = [ 0.5,0.8, 1.0]\n",
    "\n",
    "params_dict = {\"learning_rate\": learning_rate_list,\n",
    "               \"max_depth\": max_depth_list,\n",
    "               \"n_estimators\": n_estimators_list,\n",
    "              'subsample':subsample_list,\n",
    "              'colsample_bytree':colsample_bytree_list}\n"
   ]
  },
  {
   "cell_type": "code",
   "execution_count": 30,
   "id": "b4912686",
   "metadata": {},
   "outputs": [
    {
     "name": "stdout",
     "output_type": "stream",
     "text": [
      "243\n"
     ]
    },
    {
     "data": {
      "text/plain": [
       "{'learning_rate': [0.01, 0.05, 0.1],\n",
       " 'max_depth': [3, 4, 5],\n",
       " 'n_estimators': [500, 1000, 1500],\n",
       " 'subsample': [0.5, 0.8, 1.0],\n",
       " 'colsample_bytree': [0.5, 0.8, 1.0]}"
      ]
     },
     "execution_count": 30,
     "metadata": {},
     "output_type": "execute_result"
    }
   ],
   "source": [
    "num_combinations = 1\n",
    "for v in params_dict.values(): num_combinations *= len(v) \n",
    "\n",
    "print(num_combinations)\n",
    "params_dict"
   ]
  },
  {
   "cell_type": "code",
   "execution_count": 31,
   "id": "36b5511e",
   "metadata": {},
   "outputs": [
    {
     "name": "stdout",
     "output_type": "stream",
     "text": [
      "[0]\tvalidation_0-mae:15.13576\n",
      "[1]\tvalidation_0-mae:15.14804\n",
      "[2]\tvalidation_0-mae:15.13655\n",
      "[3]\tvalidation_0-mae:15.14390\n",
      "[4]\tvalidation_0-mae:15.13331\n",
      "[5]\tvalidation_0-mae:15.14042\n",
      "[6]\tvalidation_0-mae:15.19157\n",
      "[7]\tvalidation_0-mae:15.19517\n",
      "[8]\tvalidation_0-mae:15.19631\n",
      "[9]\tvalidation_0-mae:15.21662\n",
      "[0]\tvalidation_0-mae:15.14601\n",
      "[1]\tvalidation_0-mae:15.17269\n",
      "[2]\tvalidation_0-mae:15.16367\n",
      "[3]\tvalidation_0-mae:15.20365\n"
     ]
    },
    {
     "name": "stderr",
     "output_type": "stream",
     "text": [
      "D:\\Anaconda3\\lib\\site-packages\\xgboost\\sklearn.py:793: UserWarning: `early_stopping_rounds` in `fit` method is deprecated for better compatibility with scikit-learn, use `early_stopping_rounds` in constructor or`set_params` instead.\n",
      "  warnings.warn(\n",
      "D:\\Anaconda3\\lib\\site-packages\\xgboost\\sklearn.py:793: UserWarning: `early_stopping_rounds` in `fit` method is deprecated for better compatibility with scikit-learn, use `early_stopping_rounds` in constructor or`set_params` instead.\n",
      "  warnings.warn(\n"
     ]
    },
    {
     "name": "stdout",
     "output_type": "stream",
     "text": [
      "[4]\tvalidation_0-mae:15.21625\n",
      "[0]\tvalidation_0-mae:15.13751\n",
      "[1]\tvalidation_0-mae:15.14809\n",
      "[2]\tvalidation_0-mae:15.12910\n",
      "[3]\tvalidation_0-mae:15.13638\n",
      "[4]\tvalidation_0-mae:15.12488\n",
      "[5]\tvalidation_0-mae:15.13370\n",
      "[6]\tvalidation_0-mae:15.18418\n",
      "[7]\tvalidation_0-mae:15.18196\n",
      "[8]\tvalidation_0-mae:15.17572\n",
      "[9]\tvalidation_0-mae:15.19850\n",
      "[0]\tvalidation_0-mae:15.13647\n",
      "[1]\tvalidation_0-mae:15.16704\n",
      "[2]\tvalidation_0-mae:15.15622\n",
      "[3]\tvalidation_0-mae:15.20130\n"
     ]
    },
    {
     "name": "stderr",
     "output_type": "stream",
     "text": [
      "D:\\Anaconda3\\lib\\site-packages\\xgboost\\sklearn.py:793: UserWarning: `early_stopping_rounds` in `fit` method is deprecated for better compatibility with scikit-learn, use `early_stopping_rounds` in constructor or`set_params` instead.\n",
      "  warnings.warn(\n",
      "D:\\Anaconda3\\lib\\site-packages\\xgboost\\sklearn.py:793: UserWarning: `early_stopping_rounds` in `fit` method is deprecated for better compatibility with scikit-learn, use `early_stopping_rounds` in constructor or`set_params` instead.\n",
      "  warnings.warn(\n"
     ]
    },
    {
     "name": "stdout",
     "output_type": "stream",
     "text": [
      "[4]\tvalidation_0-mae:15.21186\n",
      "[5]\tvalidation_0-mae:15.21037\n",
      "[0]\tvalidation_0-mae:15.13604\n",
      "[1]\tvalidation_0-mae:15.17598\n",
      "[2]\tvalidation_0-mae:15.15644\n",
      "[3]\tvalidation_0-mae:15.16020\n",
      "[4]\tvalidation_0-mae:15.14913\n",
      "[5]\tvalidation_0-mae:15.14412\n",
      "[0]\tvalidation_0-mae:15.13543\n",
      "[1]\tvalidation_0-mae:15.17362\n",
      "[2]\tvalidation_0-mae:15.15766\n",
      "[3]\tvalidation_0-mae:15.16275\n",
      "[4]\tvalidation_0-mae:15.15981\n"
     ]
    },
    {
     "name": "stderr",
     "output_type": "stream",
     "text": [
      "D:\\Anaconda3\\lib\\site-packages\\xgboost\\sklearn.py:793: UserWarning: `early_stopping_rounds` in `fit` method is deprecated for better compatibility with scikit-learn, use `early_stopping_rounds` in constructor or`set_params` instead.\n",
      "  warnings.warn(\n",
      "D:\\Anaconda3\\lib\\site-packages\\xgboost\\sklearn.py:793: UserWarning: `early_stopping_rounds` in `fit` method is deprecated for better compatibility with scikit-learn, use `early_stopping_rounds` in constructor or`set_params` instead.\n",
      "  warnings.warn(\n"
     ]
    },
    {
     "name": "stdout",
     "output_type": "stream",
     "text": [
      "[0]\tvalidation_0-mae:15.13576\n",
      "[1]\tvalidation_0-mae:15.14804\n",
      "[2]\tvalidation_0-mae:15.13655\n",
      "[3]\tvalidation_0-mae:15.14390\n",
      "[4]\tvalidation_0-mae:15.13331\n",
      "[5]\tvalidation_0-mae:15.14042\n",
      "[6]\tvalidation_0-mae:15.19157\n",
      "[7]\tvalidation_0-mae:15.19517\n",
      "[8]\tvalidation_0-mae:15.19631\n",
      "[9]\tvalidation_0-mae:15.21662\n",
      "[0]\tvalidation_0-mae:15.14601\n",
      "[1]\tvalidation_0-mae:15.17269\n",
      "[2]\tvalidation_0-mae:15.16367\n",
      "[3]\tvalidation_0-mae:15.20365\n",
      "[4]\tvalidation_0-mae:15.21625\n",
      "[5]\tvalidation_0-mae:15.21658\n"
     ]
    },
    {
     "name": "stderr",
     "output_type": "stream",
     "text": [
      "D:\\Anaconda3\\lib\\site-packages\\xgboost\\sklearn.py:793: UserWarning: `early_stopping_rounds` in `fit` method is deprecated for better compatibility with scikit-learn, use `early_stopping_rounds` in constructor or`set_params` instead.\n",
      "  warnings.warn(\n",
      "D:\\Anaconda3\\lib\\site-packages\\xgboost\\sklearn.py:793: UserWarning: `early_stopping_rounds` in `fit` method is deprecated for better compatibility with scikit-learn, use `early_stopping_rounds` in constructor or`set_params` instead.\n",
      "  warnings.warn(\n"
     ]
    },
    {
     "name": "stdout",
     "output_type": "stream",
     "text": [
      "[0]\tvalidation_0-mae:15.13751\n",
      "[1]\tvalidation_0-mae:15.14809\n",
      "[2]\tvalidation_0-mae:15.12910\n",
      "[3]\tvalidation_0-mae:15.13638\n",
      "[4]\tvalidation_0-mae:15.12488\n",
      "[5]\tvalidation_0-mae:15.13370\n",
      "[6]\tvalidation_0-mae:15.18418\n",
      "[7]\tvalidation_0-mae:15.18196\n",
      "[8]\tvalidation_0-mae:15.17572\n",
      "[0]\tvalidation_0-mae:15.13647\n",
      "[1]\tvalidation_0-mae:15.16704\n",
      "[2]\tvalidation_0-mae:15.15622\n"
     ]
    },
    {
     "name": "stderr",
     "output_type": "stream",
     "text": [
      "D:\\Anaconda3\\lib\\site-packages\\xgboost\\sklearn.py:793: UserWarning: `early_stopping_rounds` in `fit` method is deprecated for better compatibility with scikit-learn, use `early_stopping_rounds` in constructor or`set_params` instead.\n",
      "  warnings.warn(\n",
      "D:\\Anaconda3\\lib\\site-packages\\xgboost\\sklearn.py:793: UserWarning: `early_stopping_rounds` in `fit` method is deprecated for better compatibility with scikit-learn, use `early_stopping_rounds` in constructor or`set_params` instead.\n",
      "  warnings.warn(\n"
     ]
    },
    {
     "name": "stdout",
     "output_type": "stream",
     "text": [
      "[3]\tvalidation_0-mae:15.20130\n",
      "[4]\tvalidation_0-mae:15.21186\n",
      "[5]\tvalidation_0-mae:15.21037\n",
      "[0]\tvalidation_0-mae:15.13604\n",
      "[1]\tvalidation_0-mae:15.17598\n",
      "[2]\tvalidation_0-mae:15.15644\n",
      "[3]\tvalidation_0-mae:15.16020\n",
      "[4]\tvalidation_0-mae:15.14913\n",
      "[0]\tvalidation_0-mae:15.13543\n",
      "[1]\tvalidation_0-mae:15.17362\n",
      "[2]\tvalidation_0-mae:15.15766\n",
      "[3]\tvalidation_0-mae:15.16275\n",
      "[4]\tvalidation_0-mae:15.15981\n",
      "[5]\tvalidation_0-mae:15.15584\n"
     ]
    },
    {
     "name": "stderr",
     "output_type": "stream",
     "text": [
      "D:\\Anaconda3\\lib\\site-packages\\xgboost\\sklearn.py:793: UserWarning: `early_stopping_rounds` in `fit` method is deprecated for better compatibility with scikit-learn, use `early_stopping_rounds` in constructor or`set_params` instead.\n",
      "  warnings.warn(\n",
      "D:\\Anaconda3\\lib\\site-packages\\xgboost\\sklearn.py:793: UserWarning: `early_stopping_rounds` in `fit` method is deprecated for better compatibility with scikit-learn, use `early_stopping_rounds` in constructor or`set_params` instead.\n",
      "  warnings.warn(\n",
      "D:\\Anaconda3\\lib\\site-packages\\xgboost\\sklearn.py:793: UserWarning: `early_stopping_rounds` in `fit` method is deprecated for better compatibility with scikit-learn, use `early_stopping_rounds` in constructor or`set_params` instead.\n",
      "  warnings.warn(\n"
     ]
    },
    {
     "name": "stdout",
     "output_type": "stream",
     "text": [
      "[0]\tvalidation_0-mae:15.13576\n",
      "[1]\tvalidation_0-mae:15.14804\n",
      "[2]\tvalidation_0-mae:15.13655\n",
      "[3]\tvalidation_0-mae:15.14390\n",
      "[4]\tvalidation_0-mae:15.13331\n",
      "[5]\tvalidation_0-mae:15.14042\n",
      "[6]\tvalidation_0-mae:15.19157\n",
      "[7]\tvalidation_0-mae:15.19517\n",
      "[8]\tvalidation_0-mae:15.19631\n",
      "[9]\tvalidation_0-mae:15.21662\n",
      "[0]\tvalidation_0-mae:15.14601\n",
      "[1]\tvalidation_0-mae:15.17269\n",
      "[2]\tvalidation_0-mae:15.16367\n",
      "[3]\tvalidation_0-mae:15.20365\n",
      "[4]\tvalidation_0-mae:15.21625\n",
      "[0]\tvalidation_0-mae:15.13751\n",
      "[1]\tvalidation_0-mae:15.14809\n",
      "[2]\tvalidation_0-mae:15.12910\n",
      "[3]\tvalidation_0-mae:15.13638\n",
      "[4]\tvalidation_0-mae:15.12488\n",
      "[5]\tvalidation_0-mae:15.13370\n",
      "[6]\tvalidation_0-mae:15.18418\n"
     ]
    },
    {
     "name": "stderr",
     "output_type": "stream",
     "text": [
      "D:\\Anaconda3\\lib\\site-packages\\xgboost\\sklearn.py:793: UserWarning: `early_stopping_rounds` in `fit` method is deprecated for better compatibility with scikit-learn, use `early_stopping_rounds` in constructor or`set_params` instead.\n",
      "  warnings.warn(\n",
      "D:\\Anaconda3\\lib\\site-packages\\xgboost\\sklearn.py:793: UserWarning: `early_stopping_rounds` in `fit` method is deprecated for better compatibility with scikit-learn, use `early_stopping_rounds` in constructor or`set_params` instead.\n",
      "  warnings.warn(\n"
     ]
    },
    {
     "name": "stdout",
     "output_type": "stream",
     "text": [
      "[7]\tvalidation_0-mae:15.18196\n",
      "[8]\tvalidation_0-mae:15.17572\n",
      "[0]\tvalidation_0-mae:15.13647\n",
      "[1]\tvalidation_0-mae:15.16704\n",
      "[2]\tvalidation_0-mae:15.15622\n",
      "[3]\tvalidation_0-mae:15.20130\n",
      "[4]\tvalidation_0-mae:15.21186\n",
      "[0]\tvalidation_0-mae:15.13604\n",
      "[1]\tvalidation_0-mae:15.17598\n",
      "[2]\tvalidation_0-mae:15.15644\n",
      "[3]\tvalidation_0-mae:15.16020\n",
      "[4]\tvalidation_0-mae:15.14913\n"
     ]
    },
    {
     "name": "stderr",
     "output_type": "stream",
     "text": [
      "D:\\Anaconda3\\lib\\site-packages\\xgboost\\sklearn.py:793: UserWarning: `early_stopping_rounds` in `fit` method is deprecated for better compatibility with scikit-learn, use `early_stopping_rounds` in constructor or`set_params` instead.\n",
      "  warnings.warn(\n",
      "D:\\Anaconda3\\lib\\site-packages\\xgboost\\sklearn.py:793: UserWarning: `early_stopping_rounds` in `fit` method is deprecated for better compatibility with scikit-learn, use `early_stopping_rounds` in constructor or`set_params` instead.\n",
      "  warnings.warn(\n"
     ]
    },
    {
     "name": "stdout",
     "output_type": "stream",
     "text": [
      "[0]\tvalidation_0-mae:15.13543\n",
      "[1]\tvalidation_0-mae:15.17362\n",
      "[2]\tvalidation_0-mae:15.15766\n",
      "[3]\tvalidation_0-mae:15.16275\n",
      "[4]\tvalidation_0-mae:15.15981\n",
      "[5]\tvalidation_0-mae:15.15584\n",
      "[0]\tvalidation_0-mae:15.12933\n",
      "[1]\tvalidation_0-mae:15.14214\n",
      "[2]\tvalidation_0-mae:15.12268\n",
      "[3]\tvalidation_0-mae:15.12692\n",
      "[4]\tvalidation_0-mae:15.11969\n",
      "[5]\tvalidation_0-mae:15.12628\n",
      "[6]\tvalidation_0-mae:15.17297\n",
      "[7]\tvalidation_0-mae:15.17126\n",
      "[8]\tvalidation_0-mae:15.17188\n"
     ]
    },
    {
     "name": "stderr",
     "output_type": "stream",
     "text": [
      "D:\\Anaconda3\\lib\\site-packages\\xgboost\\sklearn.py:793: UserWarning: `early_stopping_rounds` in `fit` method is deprecated for better compatibility with scikit-learn, use `early_stopping_rounds` in constructor or`set_params` instead.\n",
      "  warnings.warn(\n",
      "D:\\Anaconda3\\lib\\site-packages\\xgboost\\sklearn.py:793: UserWarning: `early_stopping_rounds` in `fit` method is deprecated for better compatibility with scikit-learn, use `early_stopping_rounds` in constructor or`set_params` instead.\n",
      "  warnings.warn(\n"
     ]
    },
    {
     "name": "stdout",
     "output_type": "stream",
     "text": [
      "[0]\tvalidation_0-mae:15.14003\n",
      "[1]\tvalidation_0-mae:15.16500\n",
      "[2]\tvalidation_0-mae:15.14568\n",
      "[3]\tvalidation_0-mae:15.18663\n",
      "[4]\tvalidation_0-mae:15.20211\n",
      "[5]\tvalidation_0-mae:15.19808\n",
      "[0]\tvalidation_0-mae:15.13658\n",
      "[1]\tvalidation_0-mae:15.14722\n",
      "[2]\tvalidation_0-mae:15.12309\n",
      "[3]\tvalidation_0-mae:15.12976\n",
      "[4]\tvalidation_0-mae:15.11644\n",
      "[5]\tvalidation_0-mae:15.12308\n",
      "[6]\tvalidation_0-mae:15.16929\n",
      "[7]\tvalidation_0-mae:15.16219\n"
     ]
    },
    {
     "name": "stderr",
     "output_type": "stream",
     "text": [
      "D:\\Anaconda3\\lib\\site-packages\\xgboost\\sklearn.py:793: UserWarning: `early_stopping_rounds` in `fit` method is deprecated for better compatibility with scikit-learn, use `early_stopping_rounds` in constructor or`set_params` instead.\n",
      "  warnings.warn(\n",
      "D:\\Anaconda3\\lib\\site-packages\\xgboost\\sklearn.py:793: UserWarning: `early_stopping_rounds` in `fit` method is deprecated for better compatibility with scikit-learn, use `early_stopping_rounds` in constructor or`set_params` instead.\n",
      "  warnings.warn(\n"
     ]
    },
    {
     "name": "stdout",
     "output_type": "stream",
     "text": [
      "[8]\tvalidation_0-mae:15.15909\n",
      "[9]\tvalidation_0-mae:15.18147\n",
      "[0]\tvalidation_0-mae:15.13176\n",
      "[1]\tvalidation_0-mae:15.15989\n",
      "[2]\tvalidation_0-mae:15.14035\n",
      "[3]\tvalidation_0-mae:15.17830\n",
      "[4]\tvalidation_0-mae:15.19158\n",
      "[0]\tvalidation_0-mae:15.13465\n",
      "[1]\tvalidation_0-mae:15.17126\n",
      "[2]\tvalidation_0-mae:15.15358\n",
      "[3]\tvalidation_0-mae:15.15911\n",
      "[4]\tvalidation_0-mae:15.15082\n",
      "[5]\tvalidation_0-mae:15.14371\n"
     ]
    },
    {
     "name": "stderr",
     "output_type": "stream",
     "text": [
      "D:\\Anaconda3\\lib\\site-packages\\xgboost\\sklearn.py:793: UserWarning: `early_stopping_rounds` in `fit` method is deprecated for better compatibility with scikit-learn, use `early_stopping_rounds` in constructor or`set_params` instead.\n",
      "  warnings.warn(\n",
      "D:\\Anaconda3\\lib\\site-packages\\xgboost\\sklearn.py:793: UserWarning: `early_stopping_rounds` in `fit` method is deprecated for better compatibility with scikit-learn, use `early_stopping_rounds` in constructor or`set_params` instead.\n",
      "  warnings.warn(\n"
     ]
    },
    {
     "name": "stdout",
     "output_type": "stream",
     "text": [
      "[0]\tvalidation_0-mae:15.12808\n",
      "[1]\tvalidation_0-mae:15.16575\n",
      "[2]\tvalidation_0-mae:15.14533\n",
      "[3]\tvalidation_0-mae:15.14778\n",
      "[4]\tvalidation_0-mae:15.13788\n",
      "[0]\tvalidation_0-mae:15.12933\n",
      "[1]\tvalidation_0-mae:15.14214\n",
      "[2]\tvalidation_0-mae:15.12268\n",
      "[3]\tvalidation_0-mae:15.12692\n",
      "[4]\tvalidation_0-mae:15.11969\n",
      "[5]\tvalidation_0-mae:15.12628\n"
     ]
    },
    {
     "name": "stderr",
     "output_type": "stream",
     "text": [
      "D:\\Anaconda3\\lib\\site-packages\\xgboost\\sklearn.py:793: UserWarning: `early_stopping_rounds` in `fit` method is deprecated for better compatibility with scikit-learn, use `early_stopping_rounds` in constructor or`set_params` instead.\n",
      "  warnings.warn(\n",
      "D:\\Anaconda3\\lib\\site-packages\\xgboost\\sklearn.py:793: UserWarning: `early_stopping_rounds` in `fit` method is deprecated for better compatibility with scikit-learn, use `early_stopping_rounds` in constructor or`set_params` instead.\n",
      "  warnings.warn(\n"
     ]
    },
    {
     "name": "stdout",
     "output_type": "stream",
     "text": [
      "[6]\tvalidation_0-mae:15.17297\n",
      "[7]\tvalidation_0-mae:15.17126\n",
      "[8]\tvalidation_0-mae:15.17188\n",
      "[0]\tvalidation_0-mae:15.14003\n",
      "[1]\tvalidation_0-mae:15.16500\n",
      "[2]\tvalidation_0-mae:15.14568\n",
      "[3]\tvalidation_0-mae:15.18663\n",
      "[4]\tvalidation_0-mae:15.20211\n",
      "[0]\tvalidation_0-mae:15.13658\n",
      "[1]\tvalidation_0-mae:15.14722\n",
      "[2]\tvalidation_0-mae:15.12309\n",
      "[3]\tvalidation_0-mae:15.12976\n",
      "[4]\tvalidation_0-mae:15.11644\n",
      "[5]\tvalidation_0-mae:15.12308\n",
      "[6]\tvalidation_0-mae:15.16929\n",
      "[7]\tvalidation_0-mae:15.16219\n",
      "[8]\tvalidation_0-mae:15.15909\n"
     ]
    },
    {
     "name": "stderr",
     "output_type": "stream",
     "text": [
      "D:\\Anaconda3\\lib\\site-packages\\xgboost\\sklearn.py:793: UserWarning: `early_stopping_rounds` in `fit` method is deprecated for better compatibility with scikit-learn, use `early_stopping_rounds` in constructor or`set_params` instead.\n",
      "  warnings.warn(\n",
      "D:\\Anaconda3\\lib\\site-packages\\xgboost\\sklearn.py:793: UserWarning: `early_stopping_rounds` in `fit` method is deprecated for better compatibility with scikit-learn, use `early_stopping_rounds` in constructor or`set_params` instead.\n",
      "  warnings.warn(\n"
     ]
    },
    {
     "name": "stdout",
     "output_type": "stream",
     "text": [
      "[0]\tvalidation_0-mae:15.13176\n",
      "[1]\tvalidation_0-mae:15.15989\n",
      "[2]\tvalidation_0-mae:15.14035\n",
      "[3]\tvalidation_0-mae:15.17830\n",
      "[4]\tvalidation_0-mae:15.19158\n",
      "[0]\tvalidation_0-mae:15.13465\n",
      "[1]\tvalidation_0-mae:15.17126\n",
      "[2]\tvalidation_0-mae:15.15358\n",
      "[3]\tvalidation_0-mae:15.15911\n",
      "[4]\tvalidation_0-mae:15.15082\n"
     ]
    },
    {
     "name": "stderr",
     "output_type": "stream",
     "text": [
      "D:\\Anaconda3\\lib\\site-packages\\xgboost\\sklearn.py:793: UserWarning: `early_stopping_rounds` in `fit` method is deprecated for better compatibility with scikit-learn, use `early_stopping_rounds` in constructor or`set_params` instead.\n",
      "  warnings.warn(\n",
      "D:\\Anaconda3\\lib\\site-packages\\xgboost\\sklearn.py:793: UserWarning: `early_stopping_rounds` in `fit` method is deprecated for better compatibility with scikit-learn, use `early_stopping_rounds` in constructor or`set_params` instead.\n",
      "  warnings.warn(\n"
     ]
    },
    {
     "name": "stdout",
     "output_type": "stream",
     "text": [
      "[0]\tvalidation_0-mae:15.12808\n",
      "[1]\tvalidation_0-mae:15.16575\n",
      "[2]\tvalidation_0-mae:15.14533\n",
      "[3]\tvalidation_0-mae:15.14778\n",
      "[4]\tvalidation_0-mae:15.13788\n",
      "[5]\tvalidation_0-mae:15.13024\n",
      "[0]\tvalidation_0-mae:15.12933\n",
      "[1]\tvalidation_0-mae:15.14214\n",
      "[2]\tvalidation_0-mae:15.12268\n",
      "[3]\tvalidation_0-mae:15.12692\n",
      "[4]\tvalidation_0-mae:15.11969\n",
      "[5]\tvalidation_0-mae:15.12628\n",
      "[6]\tvalidation_0-mae:15.17297\n",
      "[7]\tvalidation_0-mae:15.17126\n",
      "[8]\tvalidation_0-mae:15.17188\n"
     ]
    },
    {
     "name": "stderr",
     "output_type": "stream",
     "text": [
      "D:\\Anaconda3\\lib\\site-packages\\xgboost\\sklearn.py:793: UserWarning: `early_stopping_rounds` in `fit` method is deprecated for better compatibility with scikit-learn, use `early_stopping_rounds` in constructor or`set_params` instead.\n",
      "  warnings.warn(\n",
      "D:\\Anaconda3\\lib\\site-packages\\xgboost\\sklearn.py:793: UserWarning: `early_stopping_rounds` in `fit` method is deprecated for better compatibility with scikit-learn, use `early_stopping_rounds` in constructor or`set_params` instead.\n",
      "  warnings.warn(\n"
     ]
    },
    {
     "name": "stdout",
     "output_type": "stream",
     "text": [
      "[0]\tvalidation_0-mae:15.14003\n",
      "[1]\tvalidation_0-mae:15.16500\n",
      "[2]\tvalidation_0-mae:15.14568\n",
      "[3]\tvalidation_0-mae:15.18663\n",
      "[4]\tvalidation_0-mae:15.20211\n",
      "[5]\tvalidation_0-mae:15.19808\n",
      "[0]\tvalidation_0-mae:15.13658\n",
      "[1]\tvalidation_0-mae:15.14722\n",
      "[2]\tvalidation_0-mae:15.12309\n",
      "[3]\tvalidation_0-mae:15.12976\n",
      "[4]\tvalidation_0-mae:15.11644\n",
      "[5]\tvalidation_0-mae:15.12308\n",
      "[6]\tvalidation_0-mae:15.16929\n",
      "[7]\tvalidation_0-mae:15.16219\n"
     ]
    },
    {
     "name": "stderr",
     "output_type": "stream",
     "text": [
      "D:\\Anaconda3\\lib\\site-packages\\xgboost\\sklearn.py:793: UserWarning: `early_stopping_rounds` in `fit` method is deprecated for better compatibility with scikit-learn, use `early_stopping_rounds` in constructor or`set_params` instead.\n",
      "  warnings.warn(\n",
      "D:\\Anaconda3\\lib\\site-packages\\xgboost\\sklearn.py:793: UserWarning: `early_stopping_rounds` in `fit` method is deprecated for better compatibility with scikit-learn, use `early_stopping_rounds` in constructor or`set_params` instead.\n",
      "  warnings.warn(\n"
     ]
    },
    {
     "name": "stdout",
     "output_type": "stream",
     "text": [
      "[8]\tvalidation_0-mae:15.15909\n",
      "[9]\tvalidation_0-mae:15.18147\n",
      "[0]\tvalidation_0-mae:15.13176\n",
      "[1]\tvalidation_0-mae:15.15989\n",
      "[2]\tvalidation_0-mae:15.14035\n",
      "[3]\tvalidation_0-mae:15.17830\n",
      "[4]\tvalidation_0-mae:15.19158\n",
      "[0]\tvalidation_0-mae:15.13465\n",
      "[1]\tvalidation_0-mae:15.17126\n",
      "[2]\tvalidation_0-mae:15.15358\n",
      "[3]\tvalidation_0-mae:15.15911\n",
      "[4]\tvalidation_0-mae:15.15082\n"
     ]
    },
    {
     "name": "stderr",
     "output_type": "stream",
     "text": [
      "D:\\Anaconda3\\lib\\site-packages\\xgboost\\sklearn.py:793: UserWarning: `early_stopping_rounds` in `fit` method is deprecated for better compatibility with scikit-learn, use `early_stopping_rounds` in constructor or`set_params` instead.\n",
      "  warnings.warn(\n",
      "D:\\Anaconda3\\lib\\site-packages\\xgboost\\sklearn.py:793: UserWarning: `early_stopping_rounds` in `fit` method is deprecated for better compatibility with scikit-learn, use `early_stopping_rounds` in constructor or`set_params` instead.\n",
      "  warnings.warn(\n"
     ]
    },
    {
     "name": "stdout",
     "output_type": "stream",
     "text": [
      "[0]\tvalidation_0-mae:15.12808\n",
      "[1]\tvalidation_0-mae:15.16575\n",
      "[2]\tvalidation_0-mae:15.14533\n",
      "[3]\tvalidation_0-mae:15.14778\n",
      "[4]\tvalidation_0-mae:15.13788\n",
      "[5]\tvalidation_0-mae:15.13024\n",
      "[0]\tvalidation_0-mae:15.12936\n",
      "[1]\tvalidation_0-mae:15.14238\n",
      "[2]\tvalidation_0-mae:15.12049\n",
      "[3]\tvalidation_0-mae:15.12226\n",
      "[4]\tvalidation_0-mae:15.11351\n",
      "[5]\tvalidation_0-mae:15.12490\n",
      "[6]\tvalidation_0-mae:15.17330\n",
      "[7]\tvalidation_0-mae:15.17107\n"
     ]
    },
    {
     "name": "stderr",
     "output_type": "stream",
     "text": [
      "D:\\Anaconda3\\lib\\site-packages\\xgboost\\sklearn.py:793: UserWarning: `early_stopping_rounds` in `fit` method is deprecated for better compatibility with scikit-learn, use `early_stopping_rounds` in constructor or`set_params` instead.\n",
      "  warnings.warn(\n",
      "D:\\Anaconda3\\lib\\site-packages\\xgboost\\sklearn.py:793: UserWarning: `early_stopping_rounds` in `fit` method is deprecated for better compatibility with scikit-learn, use `early_stopping_rounds` in constructor or`set_params` instead.\n",
      "  warnings.warn(\n"
     ]
    },
    {
     "name": "stdout",
     "output_type": "stream",
     "text": [
      "[8]\tvalidation_0-mae:15.17200\n",
      "[0]\tvalidation_0-mae:15.13451\n",
      "[1]\tvalidation_0-mae:15.16222\n",
      "[2]\tvalidation_0-mae:15.14312\n",
      "[3]\tvalidation_0-mae:15.18786\n",
      "[4]\tvalidation_0-mae:15.20135\n",
      "[0]\tvalidation_0-mae:15.13798\n",
      "[1]\tvalidation_0-mae:15.14611\n",
      "[2]\tvalidation_0-mae:15.12123\n",
      "[3]\tvalidation_0-mae:15.12477\n",
      "[4]\tvalidation_0-mae:15.11575\n"
     ]
    },
    {
     "name": "stderr",
     "output_type": "stream",
     "text": [
      "D:\\Anaconda3\\lib\\site-packages\\xgboost\\sklearn.py:793: UserWarning: `early_stopping_rounds` in `fit` method is deprecated for better compatibility with scikit-learn, use `early_stopping_rounds` in constructor or`set_params` instead.\n",
      "  warnings.warn(\n",
      "D:\\Anaconda3\\lib\\site-packages\\xgboost\\sklearn.py:793: UserWarning: `early_stopping_rounds` in `fit` method is deprecated for better compatibility with scikit-learn, use `early_stopping_rounds` in constructor or`set_params` instead.\n",
      "  warnings.warn(\n"
     ]
    },
    {
     "name": "stdout",
     "output_type": "stream",
     "text": [
      "[5]\tvalidation_0-mae:15.12335\n",
      "[6]\tvalidation_0-mae:15.16692\n",
      "[7]\tvalidation_0-mae:15.16184\n",
      "[8]\tvalidation_0-mae:15.16178\n",
      "[0]\tvalidation_0-mae:15.12465\n",
      "[1]\tvalidation_0-mae:15.15062\n",
      "[2]\tvalidation_0-mae:15.13239\n",
      "[3]\tvalidation_0-mae:15.17254\n",
      "[4]\tvalidation_0-mae:15.18502\n",
      "[5]\tvalidation_0-mae:15.17185\n",
      "[0]\tvalidation_0-mae:15.13252\n",
      "[1]\tvalidation_0-mae:15.16656\n",
      "[2]\tvalidation_0-mae:15.15095\n",
      "[3]\tvalidation_0-mae:15.14854\n",
      "[4]\tvalidation_0-mae:15.14081\n"
     ]
    },
    {
     "name": "stderr",
     "output_type": "stream",
     "text": [
      "D:\\Anaconda3\\lib\\site-packages\\xgboost\\sklearn.py:793: UserWarning: `early_stopping_rounds` in `fit` method is deprecated for better compatibility with scikit-learn, use `early_stopping_rounds` in constructor or`set_params` instead.\n",
      "  warnings.warn(\n",
      "D:\\Anaconda3\\lib\\site-packages\\xgboost\\sklearn.py:793: UserWarning: `early_stopping_rounds` in `fit` method is deprecated for better compatibility with scikit-learn, use `early_stopping_rounds` in constructor or`set_params` instead.\n",
      "  warnings.warn(\n"
     ]
    },
    {
     "name": "stdout",
     "output_type": "stream",
     "text": [
      "[0]\tvalidation_0-mae:15.12452\n",
      "[1]\tvalidation_0-mae:15.16196\n",
      "[2]\tvalidation_0-mae:15.14351\n",
      "[3]\tvalidation_0-mae:15.14409\n",
      "[4]\tvalidation_0-mae:15.13738\n",
      "[0]\tvalidation_0-mae:15.12936\n",
      "[1]\tvalidation_0-mae:15.14238\n",
      "[2]\tvalidation_0-mae:15.12049\n",
      "[3]\tvalidation_0-mae:15.12226\n",
      "[4]\tvalidation_0-mae:15.11351\n",
      "[5]\tvalidation_0-mae:15.12490\n"
     ]
    },
    {
     "name": "stderr",
     "output_type": "stream",
     "text": [
      "D:\\Anaconda3\\lib\\site-packages\\xgboost\\sklearn.py:793: UserWarning: `early_stopping_rounds` in `fit` method is deprecated for better compatibility with scikit-learn, use `early_stopping_rounds` in constructor or`set_params` instead.\n",
      "  warnings.warn(\n",
      "D:\\Anaconda3\\lib\\site-packages\\xgboost\\sklearn.py:793: UserWarning: `early_stopping_rounds` in `fit` method is deprecated for better compatibility with scikit-learn, use `early_stopping_rounds` in constructor or`set_params` instead.\n",
      "  warnings.warn(\n"
     ]
    },
    {
     "name": "stdout",
     "output_type": "stream",
     "text": [
      "[6]\tvalidation_0-mae:15.17330\n",
      "[7]\tvalidation_0-mae:15.17107\n",
      "[8]\tvalidation_0-mae:15.17200\n",
      "[0]\tvalidation_0-mae:15.13451\n",
      "[1]\tvalidation_0-mae:15.16222\n",
      "[2]\tvalidation_0-mae:15.14312\n",
      "[3]\tvalidation_0-mae:15.18786\n",
      "[4]\tvalidation_0-mae:15.20135\n",
      "[5]\tvalidation_0-mae:15.19306\n",
      "[0]\tvalidation_0-mae:15.13798\n",
      "[1]\tvalidation_0-mae:15.14611\n",
      "[2]\tvalidation_0-mae:15.12123\n",
      "[3]\tvalidation_0-mae:15.12477\n",
      "[4]\tvalidation_0-mae:15.11575\n",
      "[5]\tvalidation_0-mae:15.12335\n"
     ]
    },
    {
     "name": "stderr",
     "output_type": "stream",
     "text": [
      "D:\\Anaconda3\\lib\\site-packages\\xgboost\\sklearn.py:793: UserWarning: `early_stopping_rounds` in `fit` method is deprecated for better compatibility with scikit-learn, use `early_stopping_rounds` in constructor or`set_params` instead.\n",
      "  warnings.warn(\n",
      "D:\\Anaconda3\\lib\\site-packages\\xgboost\\sklearn.py:793: UserWarning: `early_stopping_rounds` in `fit` method is deprecated for better compatibility with scikit-learn, use `early_stopping_rounds` in constructor or`set_params` instead.\n",
      "  warnings.warn(\n"
     ]
    },
    {
     "name": "stdout",
     "output_type": "stream",
     "text": [
      "[6]\tvalidation_0-mae:15.16692\n",
      "[7]\tvalidation_0-mae:15.16184\n",
      "[8]\tvalidation_0-mae:15.16178\n",
      "[0]\tvalidation_0-mae:15.12465\n",
      "[1]\tvalidation_0-mae:15.15062\n",
      "[2]\tvalidation_0-mae:15.13239\n",
      "[3]\tvalidation_0-mae:15.17254\n",
      "[4]\tvalidation_0-mae:15.18502\n",
      "[0]\tvalidation_0-mae:15.13252\n",
      "[1]\tvalidation_0-mae:15.16656\n",
      "[2]\tvalidation_0-mae:15.15095\n",
      "[3]\tvalidation_0-mae:15.14854\n",
      "[4]\tvalidation_0-mae:15.14081\n"
     ]
    },
    {
     "name": "stderr",
     "output_type": "stream",
     "text": [
      "D:\\Anaconda3\\lib\\site-packages\\xgboost\\sklearn.py:793: UserWarning: `early_stopping_rounds` in `fit` method is deprecated for better compatibility with scikit-learn, use `early_stopping_rounds` in constructor or`set_params` instead.\n",
      "  warnings.warn(\n",
      "D:\\Anaconda3\\lib\\site-packages\\xgboost\\sklearn.py:793: UserWarning: `early_stopping_rounds` in `fit` method is deprecated for better compatibility with scikit-learn, use `early_stopping_rounds` in constructor or`set_params` instead.\n",
      "  warnings.warn(\n"
     ]
    },
    {
     "name": "stdout",
     "output_type": "stream",
     "text": [
      "[0]\tvalidation_0-mae:15.12452\n",
      "[1]\tvalidation_0-mae:15.16196\n",
      "[2]\tvalidation_0-mae:15.14351\n",
      "[3]\tvalidation_0-mae:15.14409\n",
      "[4]\tvalidation_0-mae:15.13738\n",
      "[5]\tvalidation_0-mae:15.12530\n",
      "[0]\tvalidation_0-mae:15.12936\n",
      "[1]\tvalidation_0-mae:15.14238\n",
      "[2]\tvalidation_0-mae:15.12049\n",
      "[3]\tvalidation_0-mae:15.12226\n",
      "[4]\tvalidation_0-mae:15.11351\n",
      "[5]\tvalidation_0-mae:15.12490\n",
      "[6]\tvalidation_0-mae:15.17330\n"
     ]
    },
    {
     "name": "stderr",
     "output_type": "stream",
     "text": [
      "D:\\Anaconda3\\lib\\site-packages\\xgboost\\sklearn.py:793: UserWarning: `early_stopping_rounds` in `fit` method is deprecated for better compatibility with scikit-learn, use `early_stopping_rounds` in constructor or`set_params` instead.\n",
      "  warnings.warn(\n",
      "D:\\Anaconda3\\lib\\site-packages\\xgboost\\sklearn.py:793: UserWarning: `early_stopping_rounds` in `fit` method is deprecated for better compatibility with scikit-learn, use `early_stopping_rounds` in constructor or`set_params` instead.\n",
      "  warnings.warn(\n"
     ]
    },
    {
     "name": "stdout",
     "output_type": "stream",
     "text": [
      "[7]\tvalidation_0-mae:15.17107\n",
      "[8]\tvalidation_0-mae:15.17200\n",
      "[0]\tvalidation_0-mae:15.13451\n",
      "[1]\tvalidation_0-mae:15.16222\n",
      "[2]\tvalidation_0-mae:15.14312\n",
      "[3]\tvalidation_0-mae:15.18786\n",
      "[4]\tvalidation_0-mae:15.20135\n",
      "[0]\tvalidation_0-mae:15.13798\n",
      "[1]\tvalidation_0-mae:15.14611\n",
      "[2]\tvalidation_0-mae:15.12123\n",
      "[3]\tvalidation_0-mae:15.12477\n",
      "[4]\tvalidation_0-mae:15.11575\n",
      "[5]\tvalidation_0-mae:15.12335\n",
      "[6]\tvalidation_0-mae:15.16692\n",
      "[7]\tvalidation_0-mae:15.16184\n"
     ]
    },
    {
     "name": "stderr",
     "output_type": "stream",
     "text": [
      "D:\\Anaconda3\\lib\\site-packages\\xgboost\\sklearn.py:793: UserWarning: `early_stopping_rounds` in `fit` method is deprecated for better compatibility with scikit-learn, use `early_stopping_rounds` in constructor or`set_params` instead.\n",
      "  warnings.warn(\n",
      "D:\\Anaconda3\\lib\\site-packages\\xgboost\\sklearn.py:793: UserWarning: `early_stopping_rounds` in `fit` method is deprecated for better compatibility with scikit-learn, use `early_stopping_rounds` in constructor or`set_params` instead.\n",
      "  warnings.warn(\n"
     ]
    },
    {
     "name": "stdout",
     "output_type": "stream",
     "text": [
      "[8]\tvalidation_0-mae:15.16178\n",
      "[9]\tvalidation_0-mae:15.18076\n",
      "[0]\tvalidation_0-mae:15.12465\n",
      "[1]\tvalidation_0-mae:15.15062\n",
      "[2]\tvalidation_0-mae:15.13239\n",
      "[3]\tvalidation_0-mae:15.17254\n",
      "[4]\tvalidation_0-mae:15.18502\n",
      "[0]\tvalidation_0-mae:15.13252\n",
      "[1]\tvalidation_0-mae:15.16656\n",
      "[2]\tvalidation_0-mae:15.15095\n",
      "[3]\tvalidation_0-mae:15.14854\n",
      "[4]\tvalidation_0-mae:15.14081\n"
     ]
    },
    {
     "name": "stderr",
     "output_type": "stream",
     "text": [
      "D:\\Anaconda3\\lib\\site-packages\\xgboost\\sklearn.py:793: UserWarning: `early_stopping_rounds` in `fit` method is deprecated for better compatibility with scikit-learn, use `early_stopping_rounds` in constructor or`set_params` instead.\n",
      "  warnings.warn(\n",
      "D:\\Anaconda3\\lib\\site-packages\\xgboost\\sklearn.py:793: UserWarning: `early_stopping_rounds` in `fit` method is deprecated for better compatibility with scikit-learn, use `early_stopping_rounds` in constructor or`set_params` instead.\n",
      "  warnings.warn(\n"
     ]
    },
    {
     "name": "stdout",
     "output_type": "stream",
     "text": [
      "[0]\tvalidation_0-mae:15.12452\n",
      "[1]\tvalidation_0-mae:15.16196\n",
      "[2]\tvalidation_0-mae:15.14351\n",
      "[3]\tvalidation_0-mae:15.14409\n",
      "[4]\tvalidation_0-mae:15.13738\n",
      "[0]\tvalidation_0-mae:15.09326\n",
      "[1]\tvalidation_0-mae:15.22560\n",
      "[2]\tvalidation_0-mae:15.24560\n",
      "[3]\tvalidation_0-mae:15.37831\n",
      "[4]\tvalidation_0-mae:15.44325\n",
      "[5]\tvalidation_0-mae:15.60298\n"
     ]
    },
    {
     "name": "stderr",
     "output_type": "stream",
     "text": [
      "D:\\Anaconda3\\lib\\site-packages\\xgboost\\sklearn.py:793: UserWarning: `early_stopping_rounds` in `fit` method is deprecated for better compatibility with scikit-learn, use `early_stopping_rounds` in constructor or`set_params` instead.\n",
      "  warnings.warn(\n",
      "D:\\Anaconda3\\lib\\site-packages\\xgboost\\sklearn.py:793: UserWarning: `early_stopping_rounds` in `fit` method is deprecated for better compatibility with scikit-learn, use `early_stopping_rounds` in constructor or`set_params` instead.\n",
      "  warnings.warn(\n"
     ]
    },
    {
     "name": "stdout",
     "output_type": "stream",
     "text": [
      "[0]\tvalidation_0-mae:15.12659\n",
      "[1]\tvalidation_0-mae:15.35380\n",
      "[2]\tvalidation_0-mae:15.40178\n",
      "[3]\tvalidation_0-mae:15.71016\n",
      "[4]\tvalidation_0-mae:15.85809\n",
      "[0]\tvalidation_0-mae:15.09599\n",
      "[1]\tvalidation_0-mae:15.22179\n",
      "[2]\tvalidation_0-mae:15.21666\n",
      "[3]\tvalidation_0-mae:15.35398\n",
      "[4]\tvalidation_0-mae:15.38443\n"
     ]
    },
    {
     "name": "stderr",
     "output_type": "stream",
     "text": [
      "D:\\Anaconda3\\lib\\site-packages\\xgboost\\sklearn.py:793: UserWarning: `early_stopping_rounds` in `fit` method is deprecated for better compatibility with scikit-learn, use `early_stopping_rounds` in constructor or`set_params` instead.\n",
      "  warnings.warn(\n",
      "D:\\Anaconda3\\lib\\site-packages\\xgboost\\sklearn.py:793: UserWarning: `early_stopping_rounds` in `fit` method is deprecated for better compatibility with scikit-learn, use `early_stopping_rounds` in constructor or`set_params` instead.\n",
      "  warnings.warn(\n"
     ]
    },
    {
     "name": "stdout",
     "output_type": "stream",
     "text": [
      "[0]\tvalidation_0-mae:15.10286\n",
      "[1]\tvalidation_0-mae:15.34517\n",
      "[2]\tvalidation_0-mae:15.39377\n",
      "[3]\tvalidation_0-mae:15.70721\n",
      "[4]\tvalidation_0-mae:15.84175\n",
      "[0]\tvalidation_0-mae:15.09005\n",
      "[1]\tvalidation_0-mae:15.36424\n",
      "[2]\tvalidation_0-mae:15.36790\n",
      "[3]\tvalidation_0-mae:15.47150\n",
      "[4]\tvalidation_0-mae:15.53181\n",
      "[5]\tvalidation_0-mae:15.58524\n"
     ]
    },
    {
     "name": "stderr",
     "output_type": "stream",
     "text": [
      "D:\\Anaconda3\\lib\\site-packages\\xgboost\\sklearn.py:793: UserWarning: `early_stopping_rounds` in `fit` method is deprecated for better compatibility with scikit-learn, use `early_stopping_rounds` in constructor or`set_params` instead.\n",
      "  warnings.warn(\n",
      "D:\\Anaconda3\\lib\\site-packages\\xgboost\\sklearn.py:793: UserWarning: `early_stopping_rounds` in `fit` method is deprecated for better compatibility with scikit-learn, use `early_stopping_rounds` in constructor or`set_params` instead.\n",
      "  warnings.warn(\n"
     ]
    },
    {
     "name": "stdout",
     "output_type": "stream",
     "text": [
      "[0]\tvalidation_0-mae:15.09886\n",
      "[1]\tvalidation_0-mae:15.36885\n",
      "[2]\tvalidation_0-mae:15.40089\n",
      "[3]\tvalidation_0-mae:15.51435\n",
      "[4]\tvalidation_0-mae:15.62365\n",
      "[5]\tvalidation_0-mae:15.70485\n",
      "[0]\tvalidation_0-mae:15.09326\n",
      "[1]\tvalidation_0-mae:15.22560\n",
      "[2]\tvalidation_0-mae:15.24560\n",
      "[3]\tvalidation_0-mae:15.37831\n",
      "[4]\tvalidation_0-mae:15.44325\n",
      "[5]\tvalidation_0-mae:15.60298\n"
     ]
    },
    {
     "name": "stderr",
     "output_type": "stream",
     "text": [
      "D:\\Anaconda3\\lib\\site-packages\\xgboost\\sklearn.py:793: UserWarning: `early_stopping_rounds` in `fit` method is deprecated for better compatibility with scikit-learn, use `early_stopping_rounds` in constructor or`set_params` instead.\n",
      "  warnings.warn(\n",
      "D:\\Anaconda3\\lib\\site-packages\\xgboost\\sklearn.py:793: UserWarning: `early_stopping_rounds` in `fit` method is deprecated for better compatibility with scikit-learn, use `early_stopping_rounds` in constructor or`set_params` instead.\n",
      "  warnings.warn(\n"
     ]
    },
    {
     "name": "stdout",
     "output_type": "stream",
     "text": [
      "[0]\tvalidation_0-mae:15.12659\n",
      "[1]\tvalidation_0-mae:15.35380\n",
      "[2]\tvalidation_0-mae:15.40178\n",
      "[3]\tvalidation_0-mae:15.71016\n",
      "[4]\tvalidation_0-mae:15.85809\n",
      "[5]\tvalidation_0-mae:15.95965\n",
      "[0]\tvalidation_0-mae:15.09599\n",
      "[1]\tvalidation_0-mae:15.22179\n",
      "[2]\tvalidation_0-mae:15.21666\n",
      "[3]\tvalidation_0-mae:15.35398\n",
      "[4]\tvalidation_0-mae:15.38443\n",
      "[5]\tvalidation_0-mae:15.53357\n"
     ]
    },
    {
     "name": "stderr",
     "output_type": "stream",
     "text": [
      "D:\\Anaconda3\\lib\\site-packages\\xgboost\\sklearn.py:793: UserWarning: `early_stopping_rounds` in `fit` method is deprecated for better compatibility with scikit-learn, use `early_stopping_rounds` in constructor or`set_params` instead.\n",
      "  warnings.warn(\n",
      "D:\\Anaconda3\\lib\\site-packages\\xgboost\\sklearn.py:793: UserWarning: `early_stopping_rounds` in `fit` method is deprecated for better compatibility with scikit-learn, use `early_stopping_rounds` in constructor or`set_params` instead.\n",
      "  warnings.warn(\n"
     ]
    },
    {
     "name": "stdout",
     "output_type": "stream",
     "text": [
      "[0]\tvalidation_0-mae:15.10286\n",
      "[1]\tvalidation_0-mae:15.34517\n",
      "[2]\tvalidation_0-mae:15.39377\n",
      "[3]\tvalidation_0-mae:15.70721\n",
      "[4]\tvalidation_0-mae:15.84175\n",
      "[0]\tvalidation_0-mae:15.09005\n",
      "[1]\tvalidation_0-mae:15.36424\n",
      "[2]\tvalidation_0-mae:15.36790\n",
      "[3]\tvalidation_0-mae:15.47150\n",
      "[4]\tvalidation_0-mae:15.53181\n"
     ]
    },
    {
     "name": "stderr",
     "output_type": "stream",
     "text": [
      "D:\\Anaconda3\\lib\\site-packages\\xgboost\\sklearn.py:793: UserWarning: `early_stopping_rounds` in `fit` method is deprecated for better compatibility with scikit-learn, use `early_stopping_rounds` in constructor or`set_params` instead.\n",
      "  warnings.warn(\n",
      "D:\\Anaconda3\\lib\\site-packages\\xgboost\\sklearn.py:793: UserWarning: `early_stopping_rounds` in `fit` method is deprecated for better compatibility with scikit-learn, use `early_stopping_rounds` in constructor or`set_params` instead.\n",
      "  warnings.warn(\n"
     ]
    },
    {
     "name": "stdout",
     "output_type": "stream",
     "text": [
      "[0]\tvalidation_0-mae:15.09886\n",
      "[1]\tvalidation_0-mae:15.36885\n",
      "[2]\tvalidation_0-mae:15.40089\n",
      "[3]\tvalidation_0-mae:15.51435\n",
      "[4]\tvalidation_0-mae:15.62365\n",
      "[5]\tvalidation_0-mae:15.70485\n",
      "[0]\tvalidation_0-mae:15.09326\n",
      "[1]\tvalidation_0-mae:15.22560\n",
      "[2]\tvalidation_0-mae:15.24560\n",
      "[3]\tvalidation_0-mae:15.37831\n",
      "[4]\tvalidation_0-mae:15.44325\n"
     ]
    },
    {
     "name": "stderr",
     "output_type": "stream",
     "text": [
      "D:\\Anaconda3\\lib\\site-packages\\xgboost\\sklearn.py:793: UserWarning: `early_stopping_rounds` in `fit` method is deprecated for better compatibility with scikit-learn, use `early_stopping_rounds` in constructor or`set_params` instead.\n",
      "  warnings.warn(\n",
      "D:\\Anaconda3\\lib\\site-packages\\xgboost\\sklearn.py:793: UserWarning: `early_stopping_rounds` in `fit` method is deprecated for better compatibility with scikit-learn, use `early_stopping_rounds` in constructor or`set_params` instead.\n",
      "  warnings.warn(\n"
     ]
    },
    {
     "name": "stdout",
     "output_type": "stream",
     "text": [
      "[0]\tvalidation_0-mae:15.12659\n",
      "[1]\tvalidation_0-mae:15.35380\n",
      "[2]\tvalidation_0-mae:15.40178\n",
      "[3]\tvalidation_0-mae:15.71016\n",
      "[4]\tvalidation_0-mae:15.85809\n",
      "[5]\tvalidation_0-mae:15.95965\n",
      "[0]\tvalidation_0-mae:15.09599\n",
      "[1]\tvalidation_0-mae:15.22179\n",
      "[2]\tvalidation_0-mae:15.21666\n",
      "[3]\tvalidation_0-mae:15.35398\n",
      "[4]\tvalidation_0-mae:15.38443\n"
     ]
    },
    {
     "name": "stderr",
     "output_type": "stream",
     "text": [
      "D:\\Anaconda3\\lib\\site-packages\\xgboost\\sklearn.py:793: UserWarning: `early_stopping_rounds` in `fit` method is deprecated for better compatibility with scikit-learn, use `early_stopping_rounds` in constructor or`set_params` instead.\n",
      "  warnings.warn(\n",
      "D:\\Anaconda3\\lib\\site-packages\\xgboost\\sklearn.py:793: UserWarning: `early_stopping_rounds` in `fit` method is deprecated for better compatibility with scikit-learn, use `early_stopping_rounds` in constructor or`set_params` instead.\n",
      "  warnings.warn(\n"
     ]
    },
    {
     "name": "stdout",
     "output_type": "stream",
     "text": [
      "[0]\tvalidation_0-mae:15.10286\n",
      "[1]\tvalidation_0-mae:15.34517\n",
      "[2]\tvalidation_0-mae:15.39377\n",
      "[3]\tvalidation_0-mae:15.70721\n",
      "[4]\tvalidation_0-mae:15.84175\n",
      "[5]\tvalidation_0-mae:15.93857\n",
      "[0]\tvalidation_0-mae:15.09005\n",
      "[1]\tvalidation_0-mae:15.36424\n",
      "[2]\tvalidation_0-mae:15.36790\n",
      "[3]\tvalidation_0-mae:15.47150\n",
      "[4]\tvalidation_0-mae:15.53181\n",
      "[5]\tvalidation_0-mae:15.58524\n"
     ]
    },
    {
     "name": "stderr",
     "output_type": "stream",
     "text": [
      "D:\\Anaconda3\\lib\\site-packages\\xgboost\\sklearn.py:793: UserWarning: `early_stopping_rounds` in `fit` method is deprecated for better compatibility with scikit-learn, use `early_stopping_rounds` in constructor or`set_params` instead.\n",
      "  warnings.warn(\n",
      "D:\\Anaconda3\\lib\\site-packages\\xgboost\\sklearn.py:793: UserWarning: `early_stopping_rounds` in `fit` method is deprecated for better compatibility with scikit-learn, use `early_stopping_rounds` in constructor or`set_params` instead.\n",
      "  warnings.warn(\n"
     ]
    },
    {
     "name": "stdout",
     "output_type": "stream",
     "text": [
      "[0]\tvalidation_0-mae:15.09886\n",
      "[1]\tvalidation_0-mae:15.36885\n",
      "[2]\tvalidation_0-mae:15.40089\n",
      "[3]\tvalidation_0-mae:15.51435\n",
      "[4]\tvalidation_0-mae:15.62365\n",
      "[0]\tvalidation_0-mae:15.06840\n",
      "[1]\tvalidation_0-mae:15.20159\n",
      "[2]\tvalidation_0-mae:15.20362\n",
      "[3]\tvalidation_0-mae:15.32688\n",
      "[4]\tvalidation_0-mae:15.39177\n",
      "[5]\tvalidation_0-mae:15.54768\n"
     ]
    },
    {
     "name": "stderr",
     "output_type": "stream",
     "text": [
      "D:\\Anaconda3\\lib\\site-packages\\xgboost\\sklearn.py:793: UserWarning: `early_stopping_rounds` in `fit` method is deprecated for better compatibility with scikit-learn, use `early_stopping_rounds` in constructor or`set_params` instead.\n",
      "  warnings.warn(\n",
      "D:\\Anaconda3\\lib\\site-packages\\xgboost\\sklearn.py:793: UserWarning: `early_stopping_rounds` in `fit` method is deprecated for better compatibility with scikit-learn, use `early_stopping_rounds` in constructor or`set_params` instead.\n",
      "  warnings.warn(\n"
     ]
    },
    {
     "name": "stdout",
     "output_type": "stream",
     "text": [
      "[0]\tvalidation_0-mae:15.11159\n",
      "[1]\tvalidation_0-mae:15.32633\n",
      "[2]\tvalidation_0-mae:15.33006\n",
      "[3]\tvalidation_0-mae:15.64692\n",
      "[4]\tvalidation_0-mae:15.80053\n",
      "[0]\tvalidation_0-mae:15.10030\n",
      "[1]\tvalidation_0-mae:15.22879\n",
      "[2]\tvalidation_0-mae:15.19579\n",
      "[3]\tvalidation_0-mae:15.33078\n",
      "[4]\tvalidation_0-mae:15.35736\n"
     ]
    },
    {
     "name": "stderr",
     "output_type": "stream",
     "text": [
      "D:\\Anaconda3\\lib\\site-packages\\xgboost\\sklearn.py:793: UserWarning: `early_stopping_rounds` in `fit` method is deprecated for better compatibility with scikit-learn, use `early_stopping_rounds` in constructor or`set_params` instead.\n",
      "  warnings.warn(\n",
      "D:\\Anaconda3\\lib\\site-packages\\xgboost\\sklearn.py:793: UserWarning: `early_stopping_rounds` in `fit` method is deprecated for better compatibility with scikit-learn, use `early_stopping_rounds` in constructor or`set_params` instead.\n",
      "  warnings.warn(\n"
     ]
    },
    {
     "name": "stdout",
     "output_type": "stream",
     "text": [
      "[0]\tvalidation_0-mae:15.07539\n",
      "[1]\tvalidation_0-mae:15.31252\n",
      "[2]\tvalidation_0-mae:15.33032\n",
      "[3]\tvalidation_0-mae:15.62165\n",
      "[4]\tvalidation_0-mae:15.77220\n",
      "[5]\tvalidation_0-mae:15.86414\n",
      "[0]\tvalidation_0-mae:15.09541\n",
      "[1]\tvalidation_0-mae:15.35910\n",
      "[2]\tvalidation_0-mae:15.37291\n",
      "[3]\tvalidation_0-mae:15.47706\n",
      "[4]\tvalidation_0-mae:15.55241\n"
     ]
    },
    {
     "name": "stderr",
     "output_type": "stream",
     "text": [
      "D:\\Anaconda3\\lib\\site-packages\\xgboost\\sklearn.py:793: UserWarning: `early_stopping_rounds` in `fit` method is deprecated for better compatibility with scikit-learn, use `early_stopping_rounds` in constructor or`set_params` instead.\n",
      "  warnings.warn(\n",
      "D:\\Anaconda3\\lib\\site-packages\\xgboost\\sklearn.py:793: UserWarning: `early_stopping_rounds` in `fit` method is deprecated for better compatibility with scikit-learn, use `early_stopping_rounds` in constructor or`set_params` instead.\n",
      "  warnings.warn(\n"
     ]
    },
    {
     "name": "stdout",
     "output_type": "stream",
     "text": [
      "[0]\tvalidation_0-mae:15.05712\n",
      "[1]\tvalidation_0-mae:15.32600\n",
      "[2]\tvalidation_0-mae:15.35924\n",
      "[3]\tvalidation_0-mae:15.46250\n",
      "[4]\tvalidation_0-mae:15.54352\n",
      "[0]\tvalidation_0-mae:15.06840\n",
      "[1]\tvalidation_0-mae:15.20159\n",
      "[2]\tvalidation_0-mae:15.20362\n",
      "[3]\tvalidation_0-mae:15.32688\n",
      "[4]\tvalidation_0-mae:15.39177\n"
     ]
    },
    {
     "name": "stderr",
     "output_type": "stream",
     "text": [
      "D:\\Anaconda3\\lib\\site-packages\\xgboost\\sklearn.py:793: UserWarning: `early_stopping_rounds` in `fit` method is deprecated for better compatibility with scikit-learn, use `early_stopping_rounds` in constructor or`set_params` instead.\n",
      "  warnings.warn(\n",
      "D:\\Anaconda3\\lib\\site-packages\\xgboost\\sklearn.py:793: UserWarning: `early_stopping_rounds` in `fit` method is deprecated for better compatibility with scikit-learn, use `early_stopping_rounds` in constructor or`set_params` instead.\n",
      "  warnings.warn(\n"
     ]
    },
    {
     "name": "stdout",
     "output_type": "stream",
     "text": [
      "[0]\tvalidation_0-mae:15.11159\n",
      "[1]\tvalidation_0-mae:15.32633\n",
      "[2]\tvalidation_0-mae:15.33006\n",
      "[3]\tvalidation_0-mae:15.64692\n",
      "[4]\tvalidation_0-mae:15.80053\n",
      "[5]\tvalidation_0-mae:15.87522\n",
      "[0]\tvalidation_0-mae:15.10030\n",
      "[1]\tvalidation_0-mae:15.22879\n",
      "[2]\tvalidation_0-mae:15.19579\n",
      "[3]\tvalidation_0-mae:15.33078\n",
      "[4]\tvalidation_0-mae:15.35736\n"
     ]
    },
    {
     "name": "stderr",
     "output_type": "stream",
     "text": [
      "D:\\Anaconda3\\lib\\site-packages\\xgboost\\sklearn.py:793: UserWarning: `early_stopping_rounds` in `fit` method is deprecated for better compatibility with scikit-learn, use `early_stopping_rounds` in constructor or`set_params` instead.\n",
      "  warnings.warn(\n",
      "D:\\Anaconda3\\lib\\site-packages\\xgboost\\sklearn.py:793: UserWarning: `early_stopping_rounds` in `fit` method is deprecated for better compatibility with scikit-learn, use `early_stopping_rounds` in constructor or`set_params` instead.\n",
      "  warnings.warn(\n"
     ]
    },
    {
     "name": "stdout",
     "output_type": "stream",
     "text": [
      "[0]\tvalidation_0-mae:15.07539\n",
      "[1]\tvalidation_0-mae:15.31252\n",
      "[2]\tvalidation_0-mae:15.33032\n",
      "[3]\tvalidation_0-mae:15.62165\n",
      "[4]\tvalidation_0-mae:15.77220\n",
      "[0]\tvalidation_0-mae:15.09541\n",
      "[1]\tvalidation_0-mae:15.35910\n",
      "[2]\tvalidation_0-mae:15.37291\n",
      "[3]\tvalidation_0-mae:15.47706\n",
      "[4]\tvalidation_0-mae:15.55241\n"
     ]
    },
    {
     "name": "stderr",
     "output_type": "stream",
     "text": [
      "D:\\Anaconda3\\lib\\site-packages\\xgboost\\sklearn.py:793: UserWarning: `early_stopping_rounds` in `fit` method is deprecated for better compatibility with scikit-learn, use `early_stopping_rounds` in constructor or`set_params` instead.\n",
      "  warnings.warn(\n",
      "D:\\Anaconda3\\lib\\site-packages\\xgboost\\sklearn.py:793: UserWarning: `early_stopping_rounds` in `fit` method is deprecated for better compatibility with scikit-learn, use `early_stopping_rounds` in constructor or`set_params` instead.\n",
      "  warnings.warn(\n"
     ]
    },
    {
     "name": "stdout",
     "output_type": "stream",
     "text": [
      "[0]\tvalidation_0-mae:15.05712\n",
      "[1]\tvalidation_0-mae:15.32600\n",
      "[2]\tvalidation_0-mae:15.35924\n",
      "[3]\tvalidation_0-mae:15.46250\n",
      "[4]\tvalidation_0-mae:15.54352\n",
      "[5]\tvalidation_0-mae:15.61730\n",
      "[0]\tvalidation_0-mae:15.06840\n",
      "[1]\tvalidation_0-mae:15.20159\n",
      "[2]\tvalidation_0-mae:15.20362\n",
      "[3]\tvalidation_0-mae:15.32688\n",
      "[4]\tvalidation_0-mae:15.39177\n"
     ]
    },
    {
     "name": "stderr",
     "output_type": "stream",
     "text": [
      "D:\\Anaconda3\\lib\\site-packages\\xgboost\\sklearn.py:793: UserWarning: `early_stopping_rounds` in `fit` method is deprecated for better compatibility with scikit-learn, use `early_stopping_rounds` in constructor or`set_params` instead.\n",
      "  warnings.warn(\n",
      "D:\\Anaconda3\\lib\\site-packages\\xgboost\\sklearn.py:793: UserWarning: `early_stopping_rounds` in `fit` method is deprecated for better compatibility with scikit-learn, use `early_stopping_rounds` in constructor or`set_params` instead.\n",
      "  warnings.warn(\n"
     ]
    },
    {
     "name": "stdout",
     "output_type": "stream",
     "text": [
      "[0]\tvalidation_0-mae:15.11159\n",
      "[1]\tvalidation_0-mae:15.32633\n",
      "[2]\tvalidation_0-mae:15.33006\n",
      "[3]\tvalidation_0-mae:15.64692\n",
      "[4]\tvalidation_0-mae:15.80053\n",
      "[0]\tvalidation_0-mae:15.10030\n",
      "[1]\tvalidation_0-mae:15.22879\n",
      "[2]\tvalidation_0-mae:15.19579\n",
      "[3]\tvalidation_0-mae:15.33078\n",
      "[4]\tvalidation_0-mae:15.35736\n"
     ]
    },
    {
     "name": "stderr",
     "output_type": "stream",
     "text": [
      "D:\\Anaconda3\\lib\\site-packages\\xgboost\\sklearn.py:793: UserWarning: `early_stopping_rounds` in `fit` method is deprecated for better compatibility with scikit-learn, use `early_stopping_rounds` in constructor or`set_params` instead.\n",
      "  warnings.warn(\n",
      "D:\\Anaconda3\\lib\\site-packages\\xgboost\\sklearn.py:793: UserWarning: `early_stopping_rounds` in `fit` method is deprecated for better compatibility with scikit-learn, use `early_stopping_rounds` in constructor or`set_params` instead.\n",
      "  warnings.warn(\n"
     ]
    },
    {
     "name": "stdout",
     "output_type": "stream",
     "text": [
      "[0]\tvalidation_0-mae:15.07539\n",
      "[1]\tvalidation_0-mae:15.31252\n",
      "[2]\tvalidation_0-mae:15.33032\n",
      "[3]\tvalidation_0-mae:15.62165\n",
      "[4]\tvalidation_0-mae:15.77220\n",
      "[5]\tvalidation_0-mae:15.86414\n",
      "[0]\tvalidation_0-mae:15.09541\n",
      "[1]\tvalidation_0-mae:15.35910\n",
      "[2]\tvalidation_0-mae:15.37291\n",
      "[3]\tvalidation_0-mae:15.47706\n",
      "[4]\tvalidation_0-mae:15.55241\n"
     ]
    },
    {
     "name": "stderr",
     "output_type": "stream",
     "text": [
      "D:\\Anaconda3\\lib\\site-packages\\xgboost\\sklearn.py:793: UserWarning: `early_stopping_rounds` in `fit` method is deprecated for better compatibility with scikit-learn, use `early_stopping_rounds` in constructor or`set_params` instead.\n",
      "  warnings.warn(\n",
      "D:\\Anaconda3\\lib\\site-packages\\xgboost\\sklearn.py:793: UserWarning: `early_stopping_rounds` in `fit` method is deprecated for better compatibility with scikit-learn, use `early_stopping_rounds` in constructor or`set_params` instead.\n",
      "  warnings.warn(\n"
     ]
    },
    {
     "name": "stdout",
     "output_type": "stream",
     "text": [
      "[0]\tvalidation_0-mae:15.05712\n",
      "[1]\tvalidation_0-mae:15.32600\n",
      "[2]\tvalidation_0-mae:15.35924\n",
      "[3]\tvalidation_0-mae:15.46250\n",
      "[4]\tvalidation_0-mae:15.54352\n",
      "[0]\tvalidation_0-mae:15.06756\n",
      "[1]\tvalidation_0-mae:15.20865\n",
      "[2]\tvalidation_0-mae:15.20415\n",
      "[3]\tvalidation_0-mae:15.33930\n",
      "[4]\tvalidation_0-mae:15.41711\n",
      "[5]\tvalidation_0-mae:15.58550\n"
     ]
    },
    {
     "name": "stderr",
     "output_type": "stream",
     "text": [
      "D:\\Anaconda3\\lib\\site-packages\\xgboost\\sklearn.py:793: UserWarning: `early_stopping_rounds` in `fit` method is deprecated for better compatibility with scikit-learn, use `early_stopping_rounds` in constructor or`set_params` instead.\n",
      "  warnings.warn(\n",
      "D:\\Anaconda3\\lib\\site-packages\\xgboost\\sklearn.py:793: UserWarning: `early_stopping_rounds` in `fit` method is deprecated for better compatibility with scikit-learn, use `early_stopping_rounds` in constructor or`set_params` instead.\n",
      "  warnings.warn(\n"
     ]
    },
    {
     "name": "stdout",
     "output_type": "stream",
     "text": [
      "[0]\tvalidation_0-mae:15.08796\n",
      "[1]\tvalidation_0-mae:15.31637\n",
      "[2]\tvalidation_0-mae:15.32815\n",
      "[3]\tvalidation_0-mae:15.64802\n",
      "[4]\tvalidation_0-mae:15.79857\n",
      "[0]\tvalidation_0-mae:15.11060\n",
      "[1]\tvalidation_0-mae:15.21827\n",
      "[2]\tvalidation_0-mae:15.24851\n",
      "[3]\tvalidation_0-mae:15.35651\n",
      "[4]\tvalidation_0-mae:15.39170\n"
     ]
    },
    {
     "name": "stderr",
     "output_type": "stream",
     "text": [
      "D:\\Anaconda3\\lib\\site-packages\\xgboost\\sklearn.py:793: UserWarning: `early_stopping_rounds` in `fit` method is deprecated for better compatibility with scikit-learn, use `early_stopping_rounds` in constructor or`set_params` instead.\n",
      "  warnings.warn(\n",
      "D:\\Anaconda3\\lib\\site-packages\\xgboost\\sklearn.py:793: UserWarning: `early_stopping_rounds` in `fit` method is deprecated for better compatibility with scikit-learn, use `early_stopping_rounds` in constructor or`set_params` instead.\n",
      "  warnings.warn(\n"
     ]
    },
    {
     "name": "stdout",
     "output_type": "stream",
     "text": [
      "[0]\tvalidation_0-mae:15.04195\n",
      "[1]\tvalidation_0-mae:15.27570\n",
      "[2]\tvalidation_0-mae:15.30090\n",
      "[3]\tvalidation_0-mae:15.59770\n",
      "[4]\tvalidation_0-mae:15.76010\n",
      "[5]\tvalidation_0-mae:15.82054\n",
      "[0]\tvalidation_0-mae:15.08620\n",
      "[1]\tvalidation_0-mae:15.34072\n",
      "[2]\tvalidation_0-mae:15.35442\n",
      "[3]\tvalidation_0-mae:15.42279\n",
      "[4]\tvalidation_0-mae:15.49775\n",
      "[5]\tvalidation_0-mae:15.56147\n"
     ]
    },
    {
     "name": "stderr",
     "output_type": "stream",
     "text": [
      "D:\\Anaconda3\\lib\\site-packages\\xgboost\\sklearn.py:793: UserWarning: `early_stopping_rounds` in `fit` method is deprecated for better compatibility with scikit-learn, use `early_stopping_rounds` in constructor or`set_params` instead.\n",
      "  warnings.warn(\n",
      "D:\\Anaconda3\\lib\\site-packages\\xgboost\\sklearn.py:793: UserWarning: `early_stopping_rounds` in `fit` method is deprecated for better compatibility with scikit-learn, use `early_stopping_rounds` in constructor or`set_params` instead.\n",
      "  warnings.warn(\n"
     ]
    },
    {
     "name": "stdout",
     "output_type": "stream",
     "text": [
      "[0]\tvalidation_0-mae:15.04449\n",
      "[1]\tvalidation_0-mae:15.31360\n",
      "[2]\tvalidation_0-mae:15.34975\n",
      "[3]\tvalidation_0-mae:15.45375\n",
      "[4]\tvalidation_0-mae:15.53838\n",
      "[5]\tvalidation_0-mae:15.59444\n",
      "[0]\tvalidation_0-mae:15.06756\n",
      "[1]\tvalidation_0-mae:15.20865\n",
      "[2]\tvalidation_0-mae:15.20415\n",
      "[3]\tvalidation_0-mae:15.33930\n",
      "[4]\tvalidation_0-mae:15.41711\n"
     ]
    },
    {
     "name": "stderr",
     "output_type": "stream",
     "text": [
      "D:\\Anaconda3\\lib\\site-packages\\xgboost\\sklearn.py:793: UserWarning: `early_stopping_rounds` in `fit` method is deprecated for better compatibility with scikit-learn, use `early_stopping_rounds` in constructor or`set_params` instead.\n",
      "  warnings.warn(\n",
      "D:\\Anaconda3\\lib\\site-packages\\xgboost\\sklearn.py:793: UserWarning: `early_stopping_rounds` in `fit` method is deprecated for better compatibility with scikit-learn, use `early_stopping_rounds` in constructor or`set_params` instead.\n",
      "  warnings.warn(\n"
     ]
    },
    {
     "name": "stdout",
     "output_type": "stream",
     "text": [
      "[0]\tvalidation_0-mae:15.08796\n",
      "[1]\tvalidation_0-mae:15.31637\n",
      "[2]\tvalidation_0-mae:15.32815\n",
      "[3]\tvalidation_0-mae:15.64802\n",
      "[4]\tvalidation_0-mae:15.79857\n",
      "[5]\tvalidation_0-mae:15.86633\n",
      "[0]\tvalidation_0-mae:15.11060\n",
      "[1]\tvalidation_0-mae:15.21827\n",
      "[2]\tvalidation_0-mae:15.24851\n",
      "[3]\tvalidation_0-mae:15.35651\n",
      "[4]\tvalidation_0-mae:15.39170\n",
      "[5]\tvalidation_0-mae:15.52888\n"
     ]
    },
    {
     "name": "stderr",
     "output_type": "stream",
     "text": [
      "D:\\Anaconda3\\lib\\site-packages\\xgboost\\sklearn.py:793: UserWarning: `early_stopping_rounds` in `fit` method is deprecated for better compatibility with scikit-learn, use `early_stopping_rounds` in constructor or`set_params` instead.\n",
      "  warnings.warn(\n",
      "D:\\Anaconda3\\lib\\site-packages\\xgboost\\sklearn.py:793: UserWarning: `early_stopping_rounds` in `fit` method is deprecated for better compatibility with scikit-learn, use `early_stopping_rounds` in constructor or`set_params` instead.\n",
      "  warnings.warn(\n"
     ]
    },
    {
     "name": "stdout",
     "output_type": "stream",
     "text": [
      "[0]\tvalidation_0-mae:15.04195\n",
      "[1]\tvalidation_0-mae:15.27570\n",
      "[2]\tvalidation_0-mae:15.30090\n",
      "[3]\tvalidation_0-mae:15.59770\n",
      "[4]\tvalidation_0-mae:15.76010\n",
      "[0]\tvalidation_0-mae:15.08620\n",
      "[1]\tvalidation_0-mae:15.34072\n",
      "[2]\tvalidation_0-mae:15.35442\n",
      "[3]\tvalidation_0-mae:15.42279\n",
      "[4]\tvalidation_0-mae:15.49775\n",
      "[5]\tvalidation_0-mae:15.56147\n"
     ]
    },
    {
     "name": "stderr",
     "output_type": "stream",
     "text": [
      "D:\\Anaconda3\\lib\\site-packages\\xgboost\\sklearn.py:793: UserWarning: `early_stopping_rounds` in `fit` method is deprecated for better compatibility with scikit-learn, use `early_stopping_rounds` in constructor or`set_params` instead.\n",
      "  warnings.warn(\n",
      "D:\\Anaconda3\\lib\\site-packages\\xgboost\\sklearn.py:793: UserWarning: `early_stopping_rounds` in `fit` method is deprecated for better compatibility with scikit-learn, use `early_stopping_rounds` in constructor or`set_params` instead.\n",
      "  warnings.warn(\n"
     ]
    },
    {
     "name": "stdout",
     "output_type": "stream",
     "text": [
      "[0]\tvalidation_0-mae:15.04449\n",
      "[1]\tvalidation_0-mae:15.31360\n",
      "[2]\tvalidation_0-mae:15.34975\n",
      "[3]\tvalidation_0-mae:15.45375\n",
      "[4]\tvalidation_0-mae:15.53838\n",
      "[5]\tvalidation_0-mae:15.59444\n",
      "[0]\tvalidation_0-mae:15.06756\n",
      "[1]\tvalidation_0-mae:15.20865\n",
      "[2]\tvalidation_0-mae:15.20415\n",
      "[3]\tvalidation_0-mae:15.33930\n",
      "[4]\tvalidation_0-mae:15.41711\n"
     ]
    },
    {
     "name": "stderr",
     "output_type": "stream",
     "text": [
      "D:\\Anaconda3\\lib\\site-packages\\xgboost\\sklearn.py:793: UserWarning: `early_stopping_rounds` in `fit` method is deprecated for better compatibility with scikit-learn, use `early_stopping_rounds` in constructor or`set_params` instead.\n",
      "  warnings.warn(\n",
      "D:\\Anaconda3\\lib\\site-packages\\xgboost\\sklearn.py:793: UserWarning: `early_stopping_rounds` in `fit` method is deprecated for better compatibility with scikit-learn, use `early_stopping_rounds` in constructor or`set_params` instead.\n",
      "  warnings.warn(\n"
     ]
    },
    {
     "name": "stdout",
     "output_type": "stream",
     "text": [
      "[0]\tvalidation_0-mae:15.08796\n",
      "[1]\tvalidation_0-mae:15.31637\n",
      "[2]\tvalidation_0-mae:15.32815\n",
      "[3]\tvalidation_0-mae:15.64802\n",
      "[4]\tvalidation_0-mae:15.79857\n",
      "[5]\tvalidation_0-mae:15.86633\n",
      "[0]\tvalidation_0-mae:15.11060\n",
      "[1]\tvalidation_0-mae:15.21827\n",
      "[2]\tvalidation_0-mae:15.24851\n",
      "[3]\tvalidation_0-mae:15.35651\n",
      "[4]\tvalidation_0-mae:15.39170\n",
      "[5]\tvalidation_0-mae:15.52888\n"
     ]
    },
    {
     "name": "stderr",
     "output_type": "stream",
     "text": [
      "D:\\Anaconda3\\lib\\site-packages\\xgboost\\sklearn.py:793: UserWarning: `early_stopping_rounds` in `fit` method is deprecated for better compatibility with scikit-learn, use `early_stopping_rounds` in constructor or`set_params` instead.\n",
      "  warnings.warn(\n",
      "D:\\Anaconda3\\lib\\site-packages\\xgboost\\sklearn.py:793: UserWarning: `early_stopping_rounds` in `fit` method is deprecated for better compatibility with scikit-learn, use `early_stopping_rounds` in constructor or`set_params` instead.\n",
      "  warnings.warn(\n"
     ]
    },
    {
     "name": "stdout",
     "output_type": "stream",
     "text": [
      "[0]\tvalidation_0-mae:15.04195\n",
      "[1]\tvalidation_0-mae:15.27570\n",
      "[2]\tvalidation_0-mae:15.30090\n",
      "[3]\tvalidation_0-mae:15.59770\n",
      "[4]\tvalidation_0-mae:15.76010\n",
      "[5]\tvalidation_0-mae:15.82054\n",
      "[0]\tvalidation_0-mae:15.08620\n",
      "[1]\tvalidation_0-mae:15.34072\n",
      "[2]\tvalidation_0-mae:15.35442\n",
      "[3]\tvalidation_0-mae:15.42279\n",
      "[4]\tvalidation_0-mae:15.49775\n"
     ]
    },
    {
     "name": "stderr",
     "output_type": "stream",
     "text": [
      "D:\\Anaconda3\\lib\\site-packages\\xgboost\\sklearn.py:793: UserWarning: `early_stopping_rounds` in `fit` method is deprecated for better compatibility with scikit-learn, use `early_stopping_rounds` in constructor or`set_params` instead.\n",
      "  warnings.warn(\n",
      "D:\\Anaconda3\\lib\\site-packages\\xgboost\\sklearn.py:793: UserWarning: `early_stopping_rounds` in `fit` method is deprecated for better compatibility with scikit-learn, use `early_stopping_rounds` in constructor or`set_params` instead.\n",
      "  warnings.warn(\n"
     ]
    },
    {
     "name": "stdout",
     "output_type": "stream",
     "text": [
      "[0]\tvalidation_0-mae:15.04449\n",
      "[1]\tvalidation_0-mae:15.31360\n",
      "[2]\tvalidation_0-mae:15.34975\n",
      "[3]\tvalidation_0-mae:15.45375\n",
      "[4]\tvalidation_0-mae:15.53838\n",
      "[0]\tvalidation_0-mae:15.10161\n",
      "[1]\tvalidation_0-mae:15.46326\n",
      "[2]\tvalidation_0-mae:15.62903\n",
      "[3]\tvalidation_0-mae:15.95024\n",
      "[4]\tvalidation_0-mae:16.17521\n",
      "[5]\tvalidation_0-mae:16.54042\n"
     ]
    },
    {
     "name": "stderr",
     "output_type": "stream",
     "text": [
      "D:\\Anaconda3\\lib\\site-packages\\xgboost\\sklearn.py:793: UserWarning: `early_stopping_rounds` in `fit` method is deprecated for better compatibility with scikit-learn, use `early_stopping_rounds` in constructor or`set_params` instead.\n",
      "  warnings.warn(\n",
      "D:\\Anaconda3\\lib\\site-packages\\xgboost\\sklearn.py:793: UserWarning: `early_stopping_rounds` in `fit` method is deprecated for better compatibility with scikit-learn, use `early_stopping_rounds` in constructor or`set_params` instead.\n",
      "  warnings.warn(\n"
     ]
    },
    {
     "name": "stdout",
     "output_type": "stream",
     "text": [
      "[0]\tvalidation_0-mae:15.16686\n",
      "[1]\tvalidation_0-mae:15.70931\n",
      "[2]\tvalidation_0-mae:15.88143\n",
      "[3]\tvalidation_0-mae:16.51054\n",
      "[4]\tvalidation_0-mae:16.84105\n",
      "[5]\tvalidation_0-mae:17.13716\n",
      "[0]\tvalidation_0-mae:15.09347\n",
      "[1]\tvalidation_0-mae:15.41866\n",
      "[2]\tvalidation_0-mae:15.53269\n",
      "[3]\tvalidation_0-mae:15.88862\n",
      "[4]\tvalidation_0-mae:16.06027\n"
     ]
    },
    {
     "name": "stderr",
     "output_type": "stream",
     "text": [
      "D:\\Anaconda3\\lib\\site-packages\\xgboost\\sklearn.py:793: UserWarning: `early_stopping_rounds` in `fit` method is deprecated for better compatibility with scikit-learn, use `early_stopping_rounds` in constructor or`set_params` instead.\n",
      "  warnings.warn(\n",
      "D:\\Anaconda3\\lib\\site-packages\\xgboost\\sklearn.py:793: UserWarning: `early_stopping_rounds` in `fit` method is deprecated for better compatibility with scikit-learn, use `early_stopping_rounds` in constructor or`set_params` instead.\n",
      "  warnings.warn(\n"
     ]
    },
    {
     "name": "stdout",
     "output_type": "stream",
     "text": [
      "[0]\tvalidation_0-mae:15.14017\n",
      "[1]\tvalidation_0-mae:15.71583\n",
      "[2]\tvalidation_0-mae:15.90587\n",
      "[3]\tvalidation_0-mae:16.52258\n",
      "[4]\tvalidation_0-mae:16.86115\n",
      "[5]\tvalidation_0-mae:17.06992\n",
      "[0]\tvalidation_0-mae:15.09673\n",
      "[1]\tvalidation_0-mae:15.70677\n",
      "[2]\tvalidation_0-mae:15.80432\n",
      "[3]\tvalidation_0-mae:16.03039\n",
      "[4]\tvalidation_0-mae:16.23897\n"
     ]
    },
    {
     "name": "stderr",
     "output_type": "stream",
     "text": [
      "D:\\Anaconda3\\lib\\site-packages\\xgboost\\sklearn.py:793: UserWarning: `early_stopping_rounds` in `fit` method is deprecated for better compatibility with scikit-learn, use `early_stopping_rounds` in constructor or`set_params` instead.\n",
      "  warnings.warn(\n",
      "D:\\Anaconda3\\lib\\site-packages\\xgboost\\sklearn.py:793: UserWarning: `early_stopping_rounds` in `fit` method is deprecated for better compatibility with scikit-learn, use `early_stopping_rounds` in constructor or`set_params` instead.\n",
      "  warnings.warn(\n"
     ]
    },
    {
     "name": "stdout",
     "output_type": "stream",
     "text": [
      "[0]\tvalidation_0-mae:15.13424\n",
      "[1]\tvalidation_0-mae:15.74870\n",
      "[2]\tvalidation_0-mae:15.91265\n",
      "[3]\tvalidation_0-mae:16.20798\n",
      "[4]\tvalidation_0-mae:16.47414\n",
      "[5]\tvalidation_0-mae:16.71202\n",
      "[0]\tvalidation_0-mae:15.10161\n",
      "[1]\tvalidation_0-mae:15.46326\n",
      "[2]\tvalidation_0-mae:15.62903\n",
      "[3]\tvalidation_0-mae:15.95024\n",
      "[4]\tvalidation_0-mae:16.17521\n",
      "[5]\tvalidation_0-mae:16.54042\n"
     ]
    },
    {
     "name": "stderr",
     "output_type": "stream",
     "text": [
      "D:\\Anaconda3\\lib\\site-packages\\xgboost\\sklearn.py:793: UserWarning: `early_stopping_rounds` in `fit` method is deprecated for better compatibility with scikit-learn, use `early_stopping_rounds` in constructor or`set_params` instead.\n",
      "  warnings.warn(\n",
      "D:\\Anaconda3\\lib\\site-packages\\xgboost\\sklearn.py:793: UserWarning: `early_stopping_rounds` in `fit` method is deprecated for better compatibility with scikit-learn, use `early_stopping_rounds` in constructor or`set_params` instead.\n",
      "  warnings.warn(\n"
     ]
    },
    {
     "name": "stdout",
     "output_type": "stream",
     "text": [
      "[0]\tvalidation_0-mae:15.16686\n",
      "[1]\tvalidation_0-mae:15.70931\n",
      "[2]\tvalidation_0-mae:15.88143\n",
      "[3]\tvalidation_0-mae:16.51054\n",
      "[4]\tvalidation_0-mae:16.84105\n",
      "[5]\tvalidation_0-mae:17.13716\n",
      "[0]\tvalidation_0-mae:15.09347\n",
      "[1]\tvalidation_0-mae:15.41866\n",
      "[2]\tvalidation_0-mae:15.53269\n",
      "[3]\tvalidation_0-mae:15.88862\n",
      "[4]\tvalidation_0-mae:16.06027\n"
     ]
    },
    {
     "name": "stderr",
     "output_type": "stream",
     "text": [
      "D:\\Anaconda3\\lib\\site-packages\\xgboost\\sklearn.py:793: UserWarning: `early_stopping_rounds` in `fit` method is deprecated for better compatibility with scikit-learn, use `early_stopping_rounds` in constructor or`set_params` instead.\n",
      "  warnings.warn(\n",
      "D:\\Anaconda3\\lib\\site-packages\\xgboost\\sklearn.py:793: UserWarning: `early_stopping_rounds` in `fit` method is deprecated for better compatibility with scikit-learn, use `early_stopping_rounds` in constructor or`set_params` instead.\n",
      "  warnings.warn(\n"
     ]
    },
    {
     "name": "stdout",
     "output_type": "stream",
     "text": [
      "[0]\tvalidation_0-mae:15.14017\n",
      "[1]\tvalidation_0-mae:15.71583\n",
      "[2]\tvalidation_0-mae:15.90587\n",
      "[3]\tvalidation_0-mae:16.52258\n",
      "[4]\tvalidation_0-mae:16.86115\n",
      "[0]\tvalidation_0-mae:15.09673\n",
      "[1]\tvalidation_0-mae:15.70677\n",
      "[2]\tvalidation_0-mae:15.80432\n",
      "[3]\tvalidation_0-mae:16.03039\n",
      "[4]\tvalidation_0-mae:16.23897\n",
      "[5]\tvalidation_0-mae:16.45434\n"
     ]
    },
    {
     "name": "stderr",
     "output_type": "stream",
     "text": [
      "D:\\Anaconda3\\lib\\site-packages\\xgboost\\sklearn.py:793: UserWarning: `early_stopping_rounds` in `fit` method is deprecated for better compatibility with scikit-learn, use `early_stopping_rounds` in constructor or`set_params` instead.\n",
      "  warnings.warn(\n",
      "D:\\Anaconda3\\lib\\site-packages\\xgboost\\sklearn.py:793: UserWarning: `early_stopping_rounds` in `fit` method is deprecated for better compatibility with scikit-learn, use `early_stopping_rounds` in constructor or`set_params` instead.\n",
      "  warnings.warn(\n"
     ]
    },
    {
     "name": "stdout",
     "output_type": "stream",
     "text": [
      "[0]\tvalidation_0-mae:15.13424\n",
      "[1]\tvalidation_0-mae:15.74870\n",
      "[2]\tvalidation_0-mae:15.91265\n",
      "[3]\tvalidation_0-mae:16.20798\n",
      "[4]\tvalidation_0-mae:16.47414\n",
      "[0]\tvalidation_0-mae:15.10161\n",
      "[1]\tvalidation_0-mae:15.46326\n",
      "[2]\tvalidation_0-mae:15.62903\n",
      "[3]\tvalidation_0-mae:15.95024\n",
      "[4]\tvalidation_0-mae:16.17521\n"
     ]
    },
    {
     "name": "stderr",
     "output_type": "stream",
     "text": [
      "D:\\Anaconda3\\lib\\site-packages\\xgboost\\sklearn.py:793: UserWarning: `early_stopping_rounds` in `fit` method is deprecated for better compatibility with scikit-learn, use `early_stopping_rounds` in constructor or`set_params` instead.\n",
      "  warnings.warn(\n",
      "D:\\Anaconda3\\lib\\site-packages\\xgboost\\sklearn.py:793: UserWarning: `early_stopping_rounds` in `fit` method is deprecated for better compatibility with scikit-learn, use `early_stopping_rounds` in constructor or`set_params` instead.\n",
      "  warnings.warn(\n"
     ]
    },
    {
     "name": "stdout",
     "output_type": "stream",
     "text": [
      "[0]\tvalidation_0-mae:15.16686\n",
      "[1]\tvalidation_0-mae:15.70931\n",
      "[2]\tvalidation_0-mae:15.88143\n",
      "[3]\tvalidation_0-mae:16.51054\n",
      "[4]\tvalidation_0-mae:16.84105\n",
      "[0]\tvalidation_0-mae:15.09347\n",
      "[1]\tvalidation_0-mae:15.41866\n",
      "[2]\tvalidation_0-mae:15.53269\n",
      "[3]\tvalidation_0-mae:15.88862\n"
     ]
    },
    {
     "name": "stderr",
     "output_type": "stream",
     "text": [
      "D:\\Anaconda3\\lib\\site-packages\\xgboost\\sklearn.py:793: UserWarning: `early_stopping_rounds` in `fit` method is deprecated for better compatibility with scikit-learn, use `early_stopping_rounds` in constructor or`set_params` instead.\n",
      "  warnings.warn(\n",
      "D:\\Anaconda3\\lib\\site-packages\\xgboost\\sklearn.py:793: UserWarning: `early_stopping_rounds` in `fit` method is deprecated for better compatibility with scikit-learn, use `early_stopping_rounds` in constructor or`set_params` instead.\n",
      "  warnings.warn(\n"
     ]
    },
    {
     "name": "stdout",
     "output_type": "stream",
     "text": [
      "[4]\tvalidation_0-mae:16.06027\n",
      "[5]\tvalidation_0-mae:16.42053\n",
      "[0]\tvalidation_0-mae:15.14017\n",
      "[1]\tvalidation_0-mae:15.71583\n",
      "[2]\tvalidation_0-mae:15.90587\n",
      "[3]\tvalidation_0-mae:16.52258\n",
      "[4]\tvalidation_0-mae:16.86115\n",
      "[5]\tvalidation_0-mae:17.06992\n",
      "[0]\tvalidation_0-mae:15.09673\n",
      "[1]\tvalidation_0-mae:15.70677\n",
      "[2]\tvalidation_0-mae:15.80432\n",
      "[3]\tvalidation_0-mae:16.03039\n",
      "[4]\tvalidation_0-mae:16.23897\n"
     ]
    },
    {
     "name": "stderr",
     "output_type": "stream",
     "text": [
      "D:\\Anaconda3\\lib\\site-packages\\xgboost\\sklearn.py:793: UserWarning: `early_stopping_rounds` in `fit` method is deprecated for better compatibility with scikit-learn, use `early_stopping_rounds` in constructor or`set_params` instead.\n",
      "  warnings.warn(\n",
      "D:\\Anaconda3\\lib\\site-packages\\xgboost\\sklearn.py:793: UserWarning: `early_stopping_rounds` in `fit` method is deprecated for better compatibility with scikit-learn, use `early_stopping_rounds` in constructor or`set_params` instead.\n",
      "  warnings.warn(\n"
     ]
    },
    {
     "name": "stdout",
     "output_type": "stream",
     "text": [
      "[0]\tvalidation_0-mae:15.13424\n",
      "[1]\tvalidation_0-mae:15.74870\n",
      "[2]\tvalidation_0-mae:15.91265\n",
      "[3]\tvalidation_0-mae:16.20798\n",
      "[4]\tvalidation_0-mae:16.47414\n",
      "[0]\tvalidation_0-mae:15.05774\n",
      "[1]\tvalidation_0-mae:15.43264\n",
      "[2]\tvalidation_0-mae:15.50062\n",
      "[3]\tvalidation_0-mae:15.82474\n",
      "[4]\tvalidation_0-mae:16.03845\n",
      "[5]\tvalidation_0-mae:16.38807\n"
     ]
    },
    {
     "name": "stderr",
     "output_type": "stream",
     "text": [
      "D:\\Anaconda3\\lib\\site-packages\\xgboost\\sklearn.py:793: UserWarning: `early_stopping_rounds` in `fit` method is deprecated for better compatibility with scikit-learn, use `early_stopping_rounds` in constructor or`set_params` instead.\n",
      "  warnings.warn(\n",
      "D:\\Anaconda3\\lib\\site-packages\\xgboost\\sklearn.py:793: UserWarning: `early_stopping_rounds` in `fit` method is deprecated for better compatibility with scikit-learn, use `early_stopping_rounds` in constructor or`set_params` instead.\n",
      "  warnings.warn(\n"
     ]
    },
    {
     "name": "stdout",
     "output_type": "stream",
     "text": [
      "[0]\tvalidation_0-mae:15.13124\n",
      "[1]\tvalidation_0-mae:15.68048\n",
      "[2]\tvalidation_0-mae:15.77378\n",
      "[3]\tvalidation_0-mae:16.42812\n",
      "[4]\tvalidation_0-mae:16.75616\n",
      "[0]\tvalidation_0-mae:15.12338\n",
      "[1]\tvalidation_0-mae:15.44466\n",
      "[2]\tvalidation_0-mae:15.50095\n",
      "[3]\tvalidation_0-mae:15.85766\n",
      "[4]\tvalidation_0-mae:16.01504\n"
     ]
    },
    {
     "name": "stderr",
     "output_type": "stream",
     "text": [
      "D:\\Anaconda3\\lib\\site-packages\\xgboost\\sklearn.py:793: UserWarning: `early_stopping_rounds` in `fit` method is deprecated for better compatibility with scikit-learn, use `early_stopping_rounds` in constructor or`set_params` instead.\n",
      "  warnings.warn(\n",
      "D:\\Anaconda3\\lib\\site-packages\\xgboost\\sklearn.py:793: UserWarning: `early_stopping_rounds` in `fit` method is deprecated for better compatibility with scikit-learn, use `early_stopping_rounds` in constructor or`set_params` instead.\n",
      "  warnings.warn(\n"
     ]
    },
    {
     "name": "stdout",
     "output_type": "stream",
     "text": [
      "[0]\tvalidation_0-mae:15.09001\n",
      "[1]\tvalidation_0-mae:15.65804\n",
      "[2]\tvalidation_0-mae:15.80549\n",
      "[3]\tvalidation_0-mae:16.40039\n",
      "[4]\tvalidation_0-mae:16.72209\n",
      "[0]\tvalidation_0-mae:15.10294\n",
      "[1]\tvalidation_0-mae:15.70839\n",
      "[2]\tvalidation_0-mae:15.82070\n",
      "[3]\tvalidation_0-mae:16.04621\n",
      "[4]\tvalidation_0-mae:16.27123\n",
      "[5]\tvalidation_0-mae:16.47731\n"
     ]
    },
    {
     "name": "stderr",
     "output_type": "stream",
     "text": [
      "D:\\Anaconda3\\lib\\site-packages\\xgboost\\sklearn.py:793: UserWarning: `early_stopping_rounds` in `fit` method is deprecated for better compatibility with scikit-learn, use `early_stopping_rounds` in constructor or`set_params` instead.\n",
      "  warnings.warn(\n",
      "D:\\Anaconda3\\lib\\site-packages\\xgboost\\sklearn.py:793: UserWarning: `early_stopping_rounds` in `fit` method is deprecated for better compatibility with scikit-learn, use `early_stopping_rounds` in constructor or`set_params` instead.\n",
      "  warnings.warn(\n"
     ]
    },
    {
     "name": "stdout",
     "output_type": "stream",
     "text": [
      "[0]\tvalidation_0-mae:15.04909\n",
      "[1]\tvalidation_0-mae:15.66289\n",
      "[2]\tvalidation_0-mae:15.82286\n",
      "[3]\tvalidation_0-mae:16.10115\n",
      "[4]\tvalidation_0-mae:16.36284\n",
      "[0]\tvalidation_0-mae:15.05774\n",
      "[1]\tvalidation_0-mae:15.43264\n",
      "[2]\tvalidation_0-mae:15.50062\n",
      "[3]\tvalidation_0-mae:15.82474\n",
      "[4]\tvalidation_0-mae:16.03845\n"
     ]
    },
    {
     "name": "stderr",
     "output_type": "stream",
     "text": [
      "D:\\Anaconda3\\lib\\site-packages\\xgboost\\sklearn.py:793: UserWarning: `early_stopping_rounds` in `fit` method is deprecated for better compatibility with scikit-learn, use `early_stopping_rounds` in constructor or`set_params` instead.\n",
      "  warnings.warn(\n",
      "D:\\Anaconda3\\lib\\site-packages\\xgboost\\sklearn.py:793: UserWarning: `early_stopping_rounds` in `fit` method is deprecated for better compatibility with scikit-learn, use `early_stopping_rounds` in constructor or`set_params` instead.\n",
      "  warnings.warn(\n"
     ]
    },
    {
     "name": "stdout",
     "output_type": "stream",
     "text": [
      "[0]\tvalidation_0-mae:15.13124\n",
      "[1]\tvalidation_0-mae:15.68048\n",
      "[2]\tvalidation_0-mae:15.77378\n",
      "[3]\tvalidation_0-mae:16.42812\n",
      "[4]\tvalidation_0-mae:16.75616\n",
      "[5]\tvalidation_0-mae:16.96032\n",
      "[0]\tvalidation_0-mae:15.12338\n",
      "[1]\tvalidation_0-mae:15.44466\n",
      "[2]\tvalidation_0-mae:15.50095\n",
      "[3]\tvalidation_0-mae:15.85766\n",
      "[4]\tvalidation_0-mae:16.01504\n"
     ]
    },
    {
     "name": "stderr",
     "output_type": "stream",
     "text": [
      "D:\\Anaconda3\\lib\\site-packages\\xgboost\\sklearn.py:793: UserWarning: `early_stopping_rounds` in `fit` method is deprecated for better compatibility with scikit-learn, use `early_stopping_rounds` in constructor or`set_params` instead.\n",
      "  warnings.warn(\n",
      "D:\\Anaconda3\\lib\\site-packages\\xgboost\\sklearn.py:793: UserWarning: `early_stopping_rounds` in `fit` method is deprecated for better compatibility with scikit-learn, use `early_stopping_rounds` in constructor or`set_params` instead.\n",
      "  warnings.warn(\n"
     ]
    },
    {
     "name": "stdout",
     "output_type": "stream",
     "text": [
      "[0]\tvalidation_0-mae:15.09001\n",
      "[1]\tvalidation_0-mae:15.65804\n",
      "[2]\tvalidation_0-mae:15.80549\n",
      "[3]\tvalidation_0-mae:16.40039\n",
      "[4]\tvalidation_0-mae:16.72209\n",
      "[5]\tvalidation_0-mae:16.92451\n",
      "[0]\tvalidation_0-mae:15.10294\n",
      "[1]\tvalidation_0-mae:15.70839\n",
      "[2]\tvalidation_0-mae:15.82070\n",
      "[3]\tvalidation_0-mae:16.04621\n",
      "[4]\tvalidation_0-mae:16.27123\n"
     ]
    },
    {
     "name": "stderr",
     "output_type": "stream",
     "text": [
      "D:\\Anaconda3\\lib\\site-packages\\xgboost\\sklearn.py:793: UserWarning: `early_stopping_rounds` in `fit` method is deprecated for better compatibility with scikit-learn, use `early_stopping_rounds` in constructor or`set_params` instead.\n",
      "  warnings.warn(\n",
      "D:\\Anaconda3\\lib\\site-packages\\xgboost\\sklearn.py:793: UserWarning: `early_stopping_rounds` in `fit` method is deprecated for better compatibility with scikit-learn, use `early_stopping_rounds` in constructor or`set_params` instead.\n",
      "  warnings.warn(\n"
     ]
    },
    {
     "name": "stdout",
     "output_type": "stream",
     "text": [
      "[0]\tvalidation_0-mae:15.04909\n",
      "[1]\tvalidation_0-mae:15.66289\n",
      "[2]\tvalidation_0-mae:15.82286\n",
      "[3]\tvalidation_0-mae:16.10115\n",
      "[4]\tvalidation_0-mae:16.36284\n",
      "[0]\tvalidation_0-mae:15.05774\n",
      "[1]\tvalidation_0-mae:15.43264\n",
      "[2]\tvalidation_0-mae:15.50062\n",
      "[3]\tvalidation_0-mae:15.82474\n",
      "[4]\tvalidation_0-mae:16.03845\n",
      "[5]\tvalidation_0-mae:16.38807\n"
     ]
    },
    {
     "name": "stderr",
     "output_type": "stream",
     "text": [
      "D:\\Anaconda3\\lib\\site-packages\\xgboost\\sklearn.py:793: UserWarning: `early_stopping_rounds` in `fit` method is deprecated for better compatibility with scikit-learn, use `early_stopping_rounds` in constructor or`set_params` instead.\n",
      "  warnings.warn(\n",
      "D:\\Anaconda3\\lib\\site-packages\\xgboost\\sklearn.py:793: UserWarning: `early_stopping_rounds` in `fit` method is deprecated for better compatibility with scikit-learn, use `early_stopping_rounds` in constructor or`set_params` instead.\n",
      "  warnings.warn(\n"
     ]
    },
    {
     "name": "stdout",
     "output_type": "stream",
     "text": [
      "[0]\tvalidation_0-mae:15.13124\n",
      "[1]\tvalidation_0-mae:15.68048\n",
      "[2]\tvalidation_0-mae:15.77378\n",
      "[3]\tvalidation_0-mae:16.42812\n",
      "[4]\tvalidation_0-mae:16.75616\n",
      "[5]\tvalidation_0-mae:16.96032\n",
      "[0]\tvalidation_0-mae:15.12338\n",
      "[1]\tvalidation_0-mae:15.44466\n",
      "[2]\tvalidation_0-mae:15.50095\n",
      "[3]\tvalidation_0-mae:15.85766\n",
      "[4]\tvalidation_0-mae:16.01504\n"
     ]
    },
    {
     "name": "stderr",
     "output_type": "stream",
     "text": [
      "D:\\Anaconda3\\lib\\site-packages\\xgboost\\sklearn.py:793: UserWarning: `early_stopping_rounds` in `fit` method is deprecated for better compatibility with scikit-learn, use `early_stopping_rounds` in constructor or`set_params` instead.\n",
      "  warnings.warn(\n",
      "D:\\Anaconda3\\lib\\site-packages\\xgboost\\sklearn.py:793: UserWarning: `early_stopping_rounds` in `fit` method is deprecated for better compatibility with scikit-learn, use `early_stopping_rounds` in constructor or`set_params` instead.\n",
      "  warnings.warn(\n"
     ]
    },
    {
     "name": "stdout",
     "output_type": "stream",
     "text": [
      "[0]\tvalidation_0-mae:15.09001\n",
      "[1]\tvalidation_0-mae:15.65804\n",
      "[2]\tvalidation_0-mae:15.80549\n",
      "[3]\tvalidation_0-mae:16.40039\n",
      "[4]\tvalidation_0-mae:16.72209\n",
      "[5]\tvalidation_0-mae:16.92451\n",
      "[0]\tvalidation_0-mae:15.10294\n",
      "[1]\tvalidation_0-mae:15.70839\n",
      "[2]\tvalidation_0-mae:15.82070\n",
      "[3]\tvalidation_0-mae:16.04621\n",
      "[4]\tvalidation_0-mae:16.27123\n"
     ]
    },
    {
     "name": "stderr",
     "output_type": "stream",
     "text": [
      "D:\\Anaconda3\\lib\\site-packages\\xgboost\\sklearn.py:793: UserWarning: `early_stopping_rounds` in `fit` method is deprecated for better compatibility with scikit-learn, use `early_stopping_rounds` in constructor or`set_params` instead.\n",
      "  warnings.warn(\n",
      "D:\\Anaconda3\\lib\\site-packages\\xgboost\\sklearn.py:793: UserWarning: `early_stopping_rounds` in `fit` method is deprecated for better compatibility with scikit-learn, use `early_stopping_rounds` in constructor or`set_params` instead.\n",
      "  warnings.warn(\n"
     ]
    },
    {
     "name": "stdout",
     "output_type": "stream",
     "text": [
      "[0]\tvalidation_0-mae:15.04909\n",
      "[1]\tvalidation_0-mae:15.66289\n",
      "[2]\tvalidation_0-mae:15.82286\n",
      "[3]\tvalidation_0-mae:16.10115\n",
      "[4]\tvalidation_0-mae:16.36284\n",
      "[5]\tvalidation_0-mae:16.59583\n",
      "[0]\tvalidation_0-mae:15.06395\n",
      "[1]\tvalidation_0-mae:15.44423\n",
      "[2]\tvalidation_0-mae:15.52421\n",
      "[3]\tvalidation_0-mae:15.83287\n",
      "[4]\tvalidation_0-mae:16.06136\n",
      "[5]\tvalidation_0-mae:16.48267\n"
     ]
    },
    {
     "name": "stderr",
     "output_type": "stream",
     "text": [
      "D:\\Anaconda3\\lib\\site-packages\\xgboost\\sklearn.py:793: UserWarning: `early_stopping_rounds` in `fit` method is deprecated for better compatibility with scikit-learn, use `early_stopping_rounds` in constructor or`set_params` instead.\n",
      "  warnings.warn(\n",
      "D:\\Anaconda3\\lib\\site-packages\\xgboost\\sklearn.py:793: UserWarning: `early_stopping_rounds` in `fit` method is deprecated for better compatibility with scikit-learn, use `early_stopping_rounds` in constructor or`set_params` instead.\n",
      "  warnings.warn(\n"
     ]
    },
    {
     "name": "stdout",
     "output_type": "stream",
     "text": [
      "[0]\tvalidation_0-mae:15.09431\n",
      "[1]\tvalidation_0-mae:15.66538\n",
      "[2]\tvalidation_0-mae:15.78944\n",
      "[3]\tvalidation_0-mae:16.43281\n",
      "[4]\tvalidation_0-mae:16.74951\n",
      "[5]\tvalidation_0-mae:16.94600\n",
      "[0]\tvalidation_0-mae:15.14267\n",
      "[1]\tvalidation_0-mae:15.44114\n",
      "[2]\tvalidation_0-mae:15.59665\n",
      "[3]\tvalidation_0-mae:15.89139\n",
      "[4]\tvalidation_0-mae:16.07944\n"
     ]
    },
    {
     "name": "stderr",
     "output_type": "stream",
     "text": [
      "D:\\Anaconda3\\lib\\site-packages\\xgboost\\sklearn.py:793: UserWarning: `early_stopping_rounds` in `fit` method is deprecated for better compatibility with scikit-learn, use `early_stopping_rounds` in constructor or`set_params` instead.\n",
      "  warnings.warn(\n",
      "D:\\Anaconda3\\lib\\site-packages\\xgboost\\sklearn.py:793: UserWarning: `early_stopping_rounds` in `fit` method is deprecated for better compatibility with scikit-learn, use `early_stopping_rounds` in constructor or`set_params` instead.\n",
      "  warnings.warn(\n"
     ]
    },
    {
     "name": "stdout",
     "output_type": "stream",
     "text": [
      "[0]\tvalidation_0-mae:15.01809\n",
      "[1]\tvalidation_0-mae:15.59362\n",
      "[2]\tvalidation_0-mae:15.76255\n",
      "[3]\tvalidation_0-mae:16.36771\n",
      "[4]\tvalidation_0-mae:16.72629\n",
      "[5]\tvalidation_0-mae:16.91937\n",
      "[0]\tvalidation_0-mae:15.09014\n",
      "[1]\tvalidation_0-mae:15.68383\n",
      "[2]\tvalidation_0-mae:15.79920\n",
      "[3]\tvalidation_0-mae:15.98787\n",
      "[4]\tvalidation_0-mae:16.21079\n"
     ]
    },
    {
     "name": "stderr",
     "output_type": "stream",
     "text": [
      "D:\\Anaconda3\\lib\\site-packages\\xgboost\\sklearn.py:793: UserWarning: `early_stopping_rounds` in `fit` method is deprecated for better compatibility with scikit-learn, use `early_stopping_rounds` in constructor or`set_params` instead.\n",
      "  warnings.warn(\n",
      "D:\\Anaconda3\\lib\\site-packages\\xgboost\\sklearn.py:793: UserWarning: `early_stopping_rounds` in `fit` method is deprecated for better compatibility with scikit-learn, use `early_stopping_rounds` in constructor or`set_params` instead.\n",
      "  warnings.warn(\n"
     ]
    },
    {
     "name": "stdout",
     "output_type": "stream",
     "text": [
      "[0]\tvalidation_0-mae:15.02031\n",
      "[1]\tvalidation_0-mae:15.64524\n",
      "[2]\tvalidation_0-mae:15.80219\n",
      "[3]\tvalidation_0-mae:16.08759\n",
      "[4]\tvalidation_0-mae:16.36301\n",
      "[5]\tvalidation_0-mae:16.59066\n",
      "[0]\tvalidation_0-mae:15.06395\n",
      "[1]\tvalidation_0-mae:15.44423\n",
      "[2]\tvalidation_0-mae:15.52421\n",
      "[3]\tvalidation_0-mae:15.83287\n",
      "[4]\tvalidation_0-mae:16.06136\n"
     ]
    },
    {
     "name": "stderr",
     "output_type": "stream",
     "text": [
      "D:\\Anaconda3\\lib\\site-packages\\xgboost\\sklearn.py:793: UserWarning: `early_stopping_rounds` in `fit` method is deprecated for better compatibility with scikit-learn, use `early_stopping_rounds` in constructor or`set_params` instead.\n",
      "  warnings.warn(\n",
      "D:\\Anaconda3\\lib\\site-packages\\xgboost\\sklearn.py:793: UserWarning: `early_stopping_rounds` in `fit` method is deprecated for better compatibility with scikit-learn, use `early_stopping_rounds` in constructor or`set_params` instead.\n",
      "  warnings.warn(\n"
     ]
    },
    {
     "name": "stdout",
     "output_type": "stream",
     "text": [
      "[0]\tvalidation_0-mae:15.09431\n",
      "[1]\tvalidation_0-mae:15.66538\n",
      "[2]\tvalidation_0-mae:15.78944\n",
      "[3]\tvalidation_0-mae:16.43281\n",
      "[4]\tvalidation_0-mae:16.74951\n",
      "[0]\tvalidation_0-mae:15.14267\n",
      "[1]\tvalidation_0-mae:15.44114\n",
      "[2]\tvalidation_0-mae:15.59665\n",
      "[3]\tvalidation_0-mae:15.89139\n",
      "[4]\tvalidation_0-mae:16.07944\n"
     ]
    },
    {
     "name": "stderr",
     "output_type": "stream",
     "text": [
      "D:\\Anaconda3\\lib\\site-packages\\xgboost\\sklearn.py:793: UserWarning: `early_stopping_rounds` in `fit` method is deprecated for better compatibility with scikit-learn, use `early_stopping_rounds` in constructor or`set_params` instead.\n",
      "  warnings.warn(\n",
      "D:\\Anaconda3\\lib\\site-packages\\xgboost\\sklearn.py:793: UserWarning: `early_stopping_rounds` in `fit` method is deprecated for better compatibility with scikit-learn, use `early_stopping_rounds` in constructor or`set_params` instead.\n",
      "  warnings.warn(\n"
     ]
    },
    {
     "name": "stdout",
     "output_type": "stream",
     "text": [
      "[5]\tvalidation_0-mae:16.38770\n",
      "[0]\tvalidation_0-mae:15.01809\n",
      "[1]\tvalidation_0-mae:15.59362\n",
      "[2]\tvalidation_0-mae:15.76255\n",
      "[3]\tvalidation_0-mae:16.36771\n",
      "[4]\tvalidation_0-mae:16.72629\n",
      "[5]\tvalidation_0-mae:16.91937\n",
      "[0]\tvalidation_0-mae:15.09014\n",
      "[1]\tvalidation_0-mae:15.68383\n",
      "[2]\tvalidation_0-mae:15.79920\n",
      "[3]\tvalidation_0-mae:15.98787\n",
      "[4]\tvalidation_0-mae:16.21079\n",
      "[5]\tvalidation_0-mae:16.41491\n"
     ]
    },
    {
     "name": "stderr",
     "output_type": "stream",
     "text": [
      "D:\\Anaconda3\\lib\\site-packages\\xgboost\\sklearn.py:793: UserWarning: `early_stopping_rounds` in `fit` method is deprecated for better compatibility with scikit-learn, use `early_stopping_rounds` in constructor or`set_params` instead.\n",
      "  warnings.warn(\n",
      "D:\\Anaconda3\\lib\\site-packages\\xgboost\\sklearn.py:793: UserWarning: `early_stopping_rounds` in `fit` method is deprecated for better compatibility with scikit-learn, use `early_stopping_rounds` in constructor or`set_params` instead.\n",
      "  warnings.warn(\n"
     ]
    },
    {
     "name": "stdout",
     "output_type": "stream",
     "text": [
      "[0]\tvalidation_0-mae:15.02031\n",
      "[1]\tvalidation_0-mae:15.64524\n",
      "[2]\tvalidation_0-mae:15.80219\n",
      "[3]\tvalidation_0-mae:16.08759\n",
      "[4]\tvalidation_0-mae:16.36301\n",
      "[5]\tvalidation_0-mae:16.59066\n",
      "[0]\tvalidation_0-mae:15.06395\n",
      "[1]\tvalidation_0-mae:15.44423\n",
      "[2]\tvalidation_0-mae:15.52421\n",
      "[3]\tvalidation_0-mae:15.83287\n",
      "[4]\tvalidation_0-mae:16.06136\n",
      "[5]\tvalidation_0-mae:16.48267\n"
     ]
    },
    {
     "name": "stderr",
     "output_type": "stream",
     "text": [
      "D:\\Anaconda3\\lib\\site-packages\\xgboost\\sklearn.py:793: UserWarning: `early_stopping_rounds` in `fit` method is deprecated for better compatibility with scikit-learn, use `early_stopping_rounds` in constructor or`set_params` instead.\n",
      "  warnings.warn(\n",
      "D:\\Anaconda3\\lib\\site-packages\\xgboost\\sklearn.py:793: UserWarning: `early_stopping_rounds` in `fit` method is deprecated for better compatibility with scikit-learn, use `early_stopping_rounds` in constructor or`set_params` instead.\n",
      "  warnings.warn(\n"
     ]
    },
    {
     "name": "stdout",
     "output_type": "stream",
     "text": [
      "[0]\tvalidation_0-mae:15.09431\n",
      "[1]\tvalidation_0-mae:15.66538\n",
      "[2]\tvalidation_0-mae:15.78944\n",
      "[3]\tvalidation_0-mae:16.43281\n",
      "[4]\tvalidation_0-mae:16.74951\n",
      "[0]\tvalidation_0-mae:15.14267\n",
      "[1]\tvalidation_0-mae:15.44114\n",
      "[2]\tvalidation_0-mae:15.59665\n",
      "[3]\tvalidation_0-mae:15.89139\n",
      "[4]\tvalidation_0-mae:16.07944\n",
      "[5]\tvalidation_0-mae:16.38770\n"
     ]
    },
    {
     "name": "stderr",
     "output_type": "stream",
     "text": [
      "D:\\Anaconda3\\lib\\site-packages\\xgboost\\sklearn.py:793: UserWarning: `early_stopping_rounds` in `fit` method is deprecated for better compatibility with scikit-learn, use `early_stopping_rounds` in constructor or`set_params` instead.\n",
      "  warnings.warn(\n",
      "D:\\Anaconda3\\lib\\site-packages\\xgboost\\sklearn.py:793: UserWarning: `early_stopping_rounds` in `fit` method is deprecated for better compatibility with scikit-learn, use `early_stopping_rounds` in constructor or`set_params` instead.\n",
      "  warnings.warn(\n"
     ]
    },
    {
     "name": "stdout",
     "output_type": "stream",
     "text": [
      "[0]\tvalidation_0-mae:15.01809\n",
      "[1]\tvalidation_0-mae:15.59362\n",
      "[2]\tvalidation_0-mae:15.76255\n",
      "[3]\tvalidation_0-mae:16.36771\n",
      "[4]\tvalidation_0-mae:16.72629\n",
      "[5]\tvalidation_0-mae:16.91937\n",
      "[0]\tvalidation_0-mae:15.09014\n",
      "[1]\tvalidation_0-mae:15.68383\n",
      "[2]\tvalidation_0-mae:15.79920\n",
      "[3]\tvalidation_0-mae:15.98787\n",
      "[4]\tvalidation_0-mae:16.21079\n",
      "[5]\tvalidation_0-mae:16.41491\n"
     ]
    },
    {
     "name": "stderr",
     "output_type": "stream",
     "text": [
      "D:\\Anaconda3\\lib\\site-packages\\xgboost\\sklearn.py:793: UserWarning: `early_stopping_rounds` in `fit` method is deprecated for better compatibility with scikit-learn, use `early_stopping_rounds` in constructor or`set_params` instead.\n",
      "  warnings.warn(\n",
      "D:\\Anaconda3\\lib\\site-packages\\xgboost\\sklearn.py:793: UserWarning: `early_stopping_rounds` in `fit` method is deprecated for better compatibility with scikit-learn, use `early_stopping_rounds` in constructor or`set_params` instead.\n",
      "  warnings.warn(\n"
     ]
    },
    {
     "name": "stdout",
     "output_type": "stream",
     "text": [
      "[0]\tvalidation_0-mae:15.02031\n",
      "[1]\tvalidation_0-mae:15.64524\n",
      "[2]\tvalidation_0-mae:15.80219\n",
      "[3]\tvalidation_0-mae:16.08759\n",
      "[4]\tvalidation_0-mae:16.36301\n",
      "[0]\tvalidation_0-mae:15.13576\n",
      "[1]\tvalidation_0-mae:15.13532\n",
      "[2]\tvalidation_0-mae:15.12464\n",
      "[3]\tvalidation_0-mae:15.11980\n",
      "[4]\tvalidation_0-mae:15.10987\n",
      "[5]\tvalidation_0-mae:15.11492\n"
     ]
    },
    {
     "name": "stderr",
     "output_type": "stream",
     "text": [
      "D:\\Anaconda3\\lib\\site-packages\\xgboost\\sklearn.py:793: UserWarning: `early_stopping_rounds` in `fit` method is deprecated for better compatibility with scikit-learn, use `early_stopping_rounds` in constructor or`set_params` instead.\n",
      "  warnings.warn(\n",
      "D:\\Anaconda3\\lib\\site-packages\\xgboost\\sklearn.py:793: UserWarning: `early_stopping_rounds` in `fit` method is deprecated for better compatibility with scikit-learn, use `early_stopping_rounds` in constructor or`set_params` instead.\n",
      "  warnings.warn(\n"
     ]
    },
    {
     "name": "stdout",
     "output_type": "stream",
     "text": [
      "[6]\tvalidation_0-mae:15.11282\n",
      "[7]\tvalidation_0-mae:15.11746\n",
      "[8]\tvalidation_0-mae:15.11951\n",
      "[0]\tvalidation_0-mae:15.14308\n",
      "[1]\tvalidation_0-mae:15.17519\n",
      "[2]\tvalidation_0-mae:15.16612\n",
      "[3]\tvalidation_0-mae:15.20831\n",
      "[4]\tvalidation_0-mae:15.19627\n",
      "[5]\tvalidation_0-mae:15.19633\n",
      "[0]\tvalidation_0-mae:15.13751\n",
      "[1]\tvalidation_0-mae:15.13082\n",
      "[2]\tvalidation_0-mae:15.11209\n",
      "[3]\tvalidation_0-mae:15.09856\n",
      "[4]\tvalidation_0-mae:15.08766\n",
      "[5]\tvalidation_0-mae:15.10193\n",
      "[6]\tvalidation_0-mae:15.10649\n",
      "[7]\tvalidation_0-mae:15.10804\n"
     ]
    },
    {
     "name": "stderr",
     "output_type": "stream",
     "text": [
      "D:\\Anaconda3\\lib\\site-packages\\xgboost\\sklearn.py:793: UserWarning: `early_stopping_rounds` in `fit` method is deprecated for better compatibility with scikit-learn, use `early_stopping_rounds` in constructor or`set_params` instead.\n",
      "  warnings.warn(\n",
      "D:\\Anaconda3\\lib\\site-packages\\xgboost\\sklearn.py:793: UserWarning: `early_stopping_rounds` in `fit` method is deprecated for better compatibility with scikit-learn, use `early_stopping_rounds` in constructor or`set_params` instead.\n",
      "  warnings.warn(\n"
     ]
    },
    {
     "name": "stdout",
     "output_type": "stream",
     "text": [
      "[8]\tvalidation_0-mae:15.10275\n",
      "[9]\tvalidation_0-mae:15.10231\n",
      "[0]\tvalidation_0-mae:15.13654\n",
      "[1]\tvalidation_0-mae:15.17119\n",
      "[2]\tvalidation_0-mae:15.16000\n",
      "[3]\tvalidation_0-mae:15.20439\n",
      "[4]\tvalidation_0-mae:15.19774\n",
      "[5]\tvalidation_0-mae:15.19207\n",
      "[0]\tvalidation_0-mae:15.13604\n",
      "[1]\tvalidation_0-mae:15.12000\n",
      "[2]\tvalidation_0-mae:15.10729\n",
      "[3]\tvalidation_0-mae:15.11115\n",
      "[4]\tvalidation_0-mae:15.09994\n",
      "[5]\tvalidation_0-mae:15.09755\n",
      "[6]\tvalidation_0-mae:15.11242\n",
      "[7]\tvalidation_0-mae:15.10963\n",
      "[8]\tvalidation_0-mae:15.11089\n",
      "[9]\tvalidation_0-mae:15.11118\n"
     ]
    },
    {
     "name": "stderr",
     "output_type": "stream",
     "text": [
      "D:\\Anaconda3\\lib\\site-packages\\xgboost\\sklearn.py:793: UserWarning: `early_stopping_rounds` in `fit` method is deprecated for better compatibility with scikit-learn, use `early_stopping_rounds` in constructor or`set_params` instead.\n",
      "  warnings.warn(\n",
      "D:\\Anaconda3\\lib\\site-packages\\xgboost\\sklearn.py:793: UserWarning: `early_stopping_rounds` in `fit` method is deprecated for better compatibility with scikit-learn, use `early_stopping_rounds` in constructor or`set_params` instead.\n",
      "  warnings.warn(\n"
     ]
    },
    {
     "name": "stdout",
     "output_type": "stream",
     "text": [
      "[0]\tvalidation_0-mae:15.13555\n",
      "[1]\tvalidation_0-mae:15.12131\n",
      "[2]\tvalidation_0-mae:15.10958\n",
      "[3]\tvalidation_0-mae:15.11637\n",
      "[4]\tvalidation_0-mae:15.11540\n",
      "[5]\tvalidation_0-mae:15.11414\n",
      "[6]\tvalidation_0-mae:15.13097\n",
      "[0]\tvalidation_0-mae:15.13576\n",
      "[1]\tvalidation_0-mae:15.13532\n",
      "[2]\tvalidation_0-mae:15.12464\n",
      "[3]\tvalidation_0-mae:15.11980\n",
      "[4]\tvalidation_0-mae:15.10987\n",
      "[5]\tvalidation_0-mae:15.11492\n",
      "[6]\tvalidation_0-mae:15.11282\n",
      "[7]\tvalidation_0-mae:15.11746\n",
      "[8]\tvalidation_0-mae:15.11951\n"
     ]
    },
    {
     "name": "stderr",
     "output_type": "stream",
     "text": [
      "D:\\Anaconda3\\lib\\site-packages\\xgboost\\sklearn.py:793: UserWarning: `early_stopping_rounds` in `fit` method is deprecated for better compatibility with scikit-learn, use `early_stopping_rounds` in constructor or`set_params` instead.\n",
      "  warnings.warn(\n",
      "D:\\Anaconda3\\lib\\site-packages\\xgboost\\sklearn.py:793: UserWarning: `early_stopping_rounds` in `fit` method is deprecated for better compatibility with scikit-learn, use `early_stopping_rounds` in constructor or`set_params` instead.\n",
      "  warnings.warn(\n"
     ]
    },
    {
     "name": "stdout",
     "output_type": "stream",
     "text": [
      "[9]\tvalidation_0-mae:15.11402\n",
      "[0]\tvalidation_0-mae:15.14308\n",
      "[1]\tvalidation_0-mae:15.17519\n",
      "[2]\tvalidation_0-mae:15.16612\n",
      "[3]\tvalidation_0-mae:15.20831\n",
      "[4]\tvalidation_0-mae:15.19627\n",
      "[0]\tvalidation_0-mae:15.13751\n",
      "[1]\tvalidation_0-mae:15.13082\n",
      "[2]\tvalidation_0-mae:15.11209\n",
      "[3]\tvalidation_0-mae:15.09856\n",
      "[4]\tvalidation_0-mae:15.08766\n",
      "[5]\tvalidation_0-mae:15.10193\n",
      "[6]\tvalidation_0-mae:15.10649\n",
      "[7]\tvalidation_0-mae:15.10804\n"
     ]
    },
    {
     "name": "stderr",
     "output_type": "stream",
     "text": [
      "D:\\Anaconda3\\lib\\site-packages\\xgboost\\sklearn.py:793: UserWarning: `early_stopping_rounds` in `fit` method is deprecated for better compatibility with scikit-learn, use `early_stopping_rounds` in constructor or`set_params` instead.\n",
      "  warnings.warn(\n",
      "D:\\Anaconda3\\lib\\site-packages\\xgboost\\sklearn.py:793: UserWarning: `early_stopping_rounds` in `fit` method is deprecated for better compatibility with scikit-learn, use `early_stopping_rounds` in constructor or`set_params` instead.\n",
      "  warnings.warn(\n"
     ]
    },
    {
     "name": "stdout",
     "output_type": "stream",
     "text": [
      "[8]\tvalidation_0-mae:15.10275\n",
      "[0]\tvalidation_0-mae:15.13654\n",
      "[1]\tvalidation_0-mae:15.17119\n",
      "[2]\tvalidation_0-mae:15.16000\n",
      "[3]\tvalidation_0-mae:15.20439\n",
      "[4]\tvalidation_0-mae:15.19774\n",
      "[5]\tvalidation_0-mae:15.19207\n",
      "[0]\tvalidation_0-mae:15.13604\n",
      "[1]\tvalidation_0-mae:15.12000\n",
      "[2]\tvalidation_0-mae:15.10729\n",
      "[3]\tvalidation_0-mae:15.11115\n",
      "[4]\tvalidation_0-mae:15.09994\n",
      "[5]\tvalidation_0-mae:15.09755\n",
      "[6]\tvalidation_0-mae:15.11242\n",
      "[7]\tvalidation_0-mae:15.10963\n",
      "[8]\tvalidation_0-mae:15.11089\n",
      "[9]\tvalidation_0-mae:15.11118\n"
     ]
    },
    {
     "name": "stderr",
     "output_type": "stream",
     "text": [
      "D:\\Anaconda3\\lib\\site-packages\\xgboost\\sklearn.py:793: UserWarning: `early_stopping_rounds` in `fit` method is deprecated for better compatibility with scikit-learn, use `early_stopping_rounds` in constructor or`set_params` instead.\n",
      "  warnings.warn(\n",
      "D:\\Anaconda3\\lib\\site-packages\\xgboost\\sklearn.py:793: UserWarning: `early_stopping_rounds` in `fit` method is deprecated for better compatibility with scikit-learn, use `early_stopping_rounds` in constructor or`set_params` instead.\n",
      "  warnings.warn(\n"
     ]
    },
    {
     "name": "stdout",
     "output_type": "stream",
     "text": [
      "[10]\tvalidation_0-mae:15.11090\n",
      "[0]\tvalidation_0-mae:15.13555\n",
      "[1]\tvalidation_0-mae:15.12131\n",
      "[2]\tvalidation_0-mae:15.10958\n",
      "[3]\tvalidation_0-mae:15.11637\n",
      "[4]\tvalidation_0-mae:15.11540\n",
      "[5]\tvalidation_0-mae:15.11414\n",
      "[6]\tvalidation_0-mae:15.13097\n",
      "[0]\tvalidation_0-mae:15.13576\n",
      "[1]\tvalidation_0-mae:15.13532\n",
      "[2]\tvalidation_0-mae:15.12464\n",
      "[3]\tvalidation_0-mae:15.11980\n",
      "[4]\tvalidation_0-mae:15.10987\n",
      "[5]\tvalidation_0-mae:15.11492\n"
     ]
    },
    {
     "name": "stderr",
     "output_type": "stream",
     "text": [
      "D:\\Anaconda3\\lib\\site-packages\\xgboost\\sklearn.py:793: UserWarning: `early_stopping_rounds` in `fit` method is deprecated for better compatibility with scikit-learn, use `early_stopping_rounds` in constructor or`set_params` instead.\n",
      "  warnings.warn(\n",
      "D:\\Anaconda3\\lib\\site-packages\\xgboost\\sklearn.py:793: UserWarning: `early_stopping_rounds` in `fit` method is deprecated for better compatibility with scikit-learn, use `early_stopping_rounds` in constructor or`set_params` instead.\n",
      "  warnings.warn(\n"
     ]
    },
    {
     "name": "stdout",
     "output_type": "stream",
     "text": [
      "[6]\tvalidation_0-mae:15.11282\n",
      "[7]\tvalidation_0-mae:15.11746\n",
      "[8]\tvalidation_0-mae:15.11951\n",
      "[0]\tvalidation_0-mae:15.14308\n",
      "[1]\tvalidation_0-mae:15.17519\n",
      "[2]\tvalidation_0-mae:15.16612\n",
      "[3]\tvalidation_0-mae:15.20831\n",
      "[4]\tvalidation_0-mae:15.19627\n",
      "[5]\tvalidation_0-mae:15.19633\n",
      "[0]\tvalidation_0-mae:15.13751\n",
      "[1]\tvalidation_0-mae:15.13082\n",
      "[2]\tvalidation_0-mae:15.11209\n",
      "[3]\tvalidation_0-mae:15.09856\n",
      "[4]\tvalidation_0-mae:15.08766\n",
      "[5]\tvalidation_0-mae:15.10193\n",
      "[6]\tvalidation_0-mae:15.10649\n",
      "[7]\tvalidation_0-mae:15.10804\n",
      "[8]\tvalidation_0-mae:15.10275\n"
     ]
    },
    {
     "name": "stderr",
     "output_type": "stream",
     "text": [
      "D:\\Anaconda3\\lib\\site-packages\\xgboost\\sklearn.py:793: UserWarning: `early_stopping_rounds` in `fit` method is deprecated for better compatibility with scikit-learn, use `early_stopping_rounds` in constructor or`set_params` instead.\n",
      "  warnings.warn(\n",
      "D:\\Anaconda3\\lib\\site-packages\\xgboost\\sklearn.py:793: UserWarning: `early_stopping_rounds` in `fit` method is deprecated for better compatibility with scikit-learn, use `early_stopping_rounds` in constructor or`set_params` instead.\n",
      "  warnings.warn(\n"
     ]
    },
    {
     "name": "stdout",
     "output_type": "stream",
     "text": [
      "[9]\tvalidation_0-mae:15.10231\n",
      "[0]\tvalidation_0-mae:15.13654\n",
      "[1]\tvalidation_0-mae:15.17119\n",
      "[2]\tvalidation_0-mae:15.16000\n",
      "[3]\tvalidation_0-mae:15.20439\n",
      "[4]\tvalidation_0-mae:15.19774\n",
      "[5]\tvalidation_0-mae:15.19207\n",
      "[0]\tvalidation_0-mae:15.13604\n",
      "[1]\tvalidation_0-mae:15.12000\n",
      "[2]\tvalidation_0-mae:15.10729\n",
      "[3]\tvalidation_0-mae:15.11115\n",
      "[4]\tvalidation_0-mae:15.09994\n",
      "[5]\tvalidation_0-mae:15.09755\n",
      "[6]\tvalidation_0-mae:15.11242\n",
      "[7]\tvalidation_0-mae:15.10963\n",
      "[8]\tvalidation_0-mae:15.11089\n",
      "[9]\tvalidation_0-mae:15.11118\n"
     ]
    },
    {
     "name": "stderr",
     "output_type": "stream",
     "text": [
      "D:\\Anaconda3\\lib\\site-packages\\xgboost\\sklearn.py:793: UserWarning: `early_stopping_rounds` in `fit` method is deprecated for better compatibility with scikit-learn, use `early_stopping_rounds` in constructor or`set_params` instead.\n",
      "  warnings.warn(\n",
      "D:\\Anaconda3\\lib\\site-packages\\xgboost\\sklearn.py:793: UserWarning: `early_stopping_rounds` in `fit` method is deprecated for better compatibility with scikit-learn, use `early_stopping_rounds` in constructor or`set_params` instead.\n",
      "  warnings.warn(\n"
     ]
    },
    {
     "name": "stdout",
     "output_type": "stream",
     "text": [
      "[0]\tvalidation_0-mae:15.13555\n",
      "[1]\tvalidation_0-mae:15.12131\n",
      "[2]\tvalidation_0-mae:15.10958\n",
      "[3]\tvalidation_0-mae:15.11637\n",
      "[4]\tvalidation_0-mae:15.11540\n",
      "[5]\tvalidation_0-mae:15.11414\n",
      "[6]\tvalidation_0-mae:15.13097\n",
      "[0]\tvalidation_0-mae:15.12933\n",
      "[1]\tvalidation_0-mae:15.12880\n",
      "[2]\tvalidation_0-mae:15.10566\n",
      "[3]\tvalidation_0-mae:15.09576\n",
      "[4]\tvalidation_0-mae:15.09015\n",
      "[5]\tvalidation_0-mae:15.09198\n",
      "[6]\tvalidation_0-mae:15.09000\n"
     ]
    },
    {
     "name": "stderr",
     "output_type": "stream",
     "text": [
      "D:\\Anaconda3\\lib\\site-packages\\xgboost\\sklearn.py:793: UserWarning: `early_stopping_rounds` in `fit` method is deprecated for better compatibility with scikit-learn, use `early_stopping_rounds` in constructor or`set_params` instead.\n",
      "  warnings.warn(\n",
      "D:\\Anaconda3\\lib\\site-packages\\xgboost\\sklearn.py:793: UserWarning: `early_stopping_rounds` in `fit` method is deprecated for better compatibility with scikit-learn, use `early_stopping_rounds` in constructor or`set_params` instead.\n",
      "  warnings.warn(\n"
     ]
    },
    {
     "name": "stdout",
     "output_type": "stream",
     "text": [
      "[7]\tvalidation_0-mae:15.08623\n",
      "[8]\tvalidation_0-mae:15.08418\n",
      "[9]\tvalidation_0-mae:15.07693\n",
      "[10]\tvalidation_0-mae:15.08952\n",
      "[11]\tvalidation_0-mae:15.11141\n",
      "[12]\tvalidation_0-mae:15.10984\n",
      "[13]\tvalidation_0-mae:15.11435\n",
      "[14]\tvalidation_0-mae:15.12231\n",
      "[0]\tvalidation_0-mae:15.13188\n",
      "[1]\tvalidation_0-mae:15.16140\n",
      "[2]\tvalidation_0-mae:15.14264\n",
      "[3]\tvalidation_0-mae:15.18250\n",
      "[4]\tvalidation_0-mae:15.17083\n",
      "[5]\tvalidation_0-mae:15.16126\n",
      "[0]\tvalidation_0-mae:15.13615\n",
      "[1]\tvalidation_0-mae:15.13071\n",
      "[2]\tvalidation_0-mae:15.10803\n",
      "[3]\tvalidation_0-mae:15.09280\n",
      "[4]\tvalidation_0-mae:15.08147\n"
     ]
    },
    {
     "name": "stderr",
     "output_type": "stream",
     "text": [
      "D:\\Anaconda3\\lib\\site-packages\\xgboost\\sklearn.py:793: UserWarning: `early_stopping_rounds` in `fit` method is deprecated for better compatibility with scikit-learn, use `early_stopping_rounds` in constructor or`set_params` instead.\n",
      "  warnings.warn(\n",
      "D:\\Anaconda3\\lib\\site-packages\\xgboost\\sklearn.py:793: UserWarning: `early_stopping_rounds` in `fit` method is deprecated for better compatibility with scikit-learn, use `early_stopping_rounds` in constructor or`set_params` instead.\n",
      "  warnings.warn(\n"
     ]
    },
    {
     "name": "stdout",
     "output_type": "stream",
     "text": [
      "[5]\tvalidation_0-mae:15.08841\n",
      "[6]\tvalidation_0-mae:15.08668\n",
      "[7]\tvalidation_0-mae:15.08482\n",
      "[8]\tvalidation_0-mae:15.08185\n",
      "[9]\tvalidation_0-mae:15.08218\n",
      "[0]\tvalidation_0-mae:15.13195\n",
      "[1]\tvalidation_0-mae:15.16106\n",
      "[2]\tvalidation_0-mae:15.14139\n",
      "[3]\tvalidation_0-mae:15.18116\n",
      "[4]\tvalidation_0-mae:15.16907\n",
      "[5]\tvalidation_0-mae:15.16059\n",
      "[0]\tvalidation_0-mae:15.13230\n",
      "[1]\tvalidation_0-mae:15.11562\n",
      "[2]\tvalidation_0-mae:15.09995\n",
      "[3]\tvalidation_0-mae:15.10614\n",
      "[4]\tvalidation_0-mae:15.09941\n",
      "[5]\tvalidation_0-mae:15.09358\n",
      "[6]\tvalidation_0-mae:15.10544\n",
      "[7]\tvalidation_0-mae:15.10235\n",
      "[8]\tvalidation_0-mae:15.10376\n"
     ]
    },
    {
     "name": "stderr",
     "output_type": "stream",
     "text": [
      "D:\\Anaconda3\\lib\\site-packages\\xgboost\\sklearn.py:793: UserWarning: `early_stopping_rounds` in `fit` method is deprecated for better compatibility with scikit-learn, use `early_stopping_rounds` in constructor or`set_params` instead.\n",
      "  warnings.warn(\n",
      "D:\\Anaconda3\\lib\\site-packages\\xgboost\\sklearn.py:793: UserWarning: `early_stopping_rounds` in `fit` method is deprecated for better compatibility with scikit-learn, use `early_stopping_rounds` in constructor or`set_params` instead.\n",
      "  warnings.warn(\n"
     ]
    },
    {
     "name": "stdout",
     "output_type": "stream",
     "text": [
      "[9]\tvalidation_0-mae:15.09988\n",
      "[10]\tvalidation_0-mae:15.09973\n",
      "[0]\tvalidation_0-mae:15.13101\n",
      "[1]\tvalidation_0-mae:15.10938\n",
      "[2]\tvalidation_0-mae:15.09422\n",
      "[3]\tvalidation_0-mae:15.09481\n",
      "[4]\tvalidation_0-mae:15.08405\n",
      "[5]\tvalidation_0-mae:15.07902\n",
      "[6]\tvalidation_0-mae:15.09292\n",
      "[7]\tvalidation_0-mae:15.09273\n",
      "[8]\tvalidation_0-mae:15.09448\n",
      "[9]\tvalidation_0-mae:15.09438\n",
      "[0]\tvalidation_0-mae:15.12933\n",
      "[1]\tvalidation_0-mae:15.12880\n",
      "[2]\tvalidation_0-mae:15.10566\n"
     ]
    },
    {
     "name": "stderr",
     "output_type": "stream",
     "text": [
      "D:\\Anaconda3\\lib\\site-packages\\xgboost\\sklearn.py:793: UserWarning: `early_stopping_rounds` in `fit` method is deprecated for better compatibility with scikit-learn, use `early_stopping_rounds` in constructor or`set_params` instead.\n",
      "  warnings.warn(\n",
      "D:\\Anaconda3\\lib\\site-packages\\xgboost\\sklearn.py:793: UserWarning: `early_stopping_rounds` in `fit` method is deprecated for better compatibility with scikit-learn, use `early_stopping_rounds` in constructor or`set_params` instead.\n",
      "  warnings.warn(\n"
     ]
    },
    {
     "name": "stdout",
     "output_type": "stream",
     "text": [
      "[3]\tvalidation_0-mae:15.09576\n",
      "[4]\tvalidation_0-mae:15.09015\n",
      "[5]\tvalidation_0-mae:15.09198\n",
      "[6]\tvalidation_0-mae:15.09000\n",
      "[7]\tvalidation_0-mae:15.08623\n",
      "[8]\tvalidation_0-mae:15.08418\n",
      "[9]\tvalidation_0-mae:15.07693\n",
      "[10]\tvalidation_0-mae:15.08952\n",
      "[11]\tvalidation_0-mae:15.11141\n",
      "[12]\tvalidation_0-mae:15.10984\n",
      "[13]\tvalidation_0-mae:15.11435\n",
      "[14]\tvalidation_0-mae:15.12231\n",
      "[0]\tvalidation_0-mae:15.13188\n",
      "[1]\tvalidation_0-mae:15.16140\n",
      "[2]\tvalidation_0-mae:15.14264\n",
      "[3]\tvalidation_0-mae:15.18250\n",
      "[4]\tvalidation_0-mae:15.17083\n",
      "[5]\tvalidation_0-mae:15.16126\n",
      "[0]\tvalidation_0-mae:15.13615\n",
      "[1]\tvalidation_0-mae:15.13071\n",
      "[2]\tvalidation_0-mae:15.10803\n",
      "[3]\tvalidation_0-mae:15.09280\n",
      "[4]\tvalidation_0-mae:15.08147\n",
      "[5]\tvalidation_0-mae:15.08841\n",
      "[6]\tvalidation_0-mae:15.08668\n"
     ]
    },
    {
     "name": "stderr",
     "output_type": "stream",
     "text": [
      "D:\\Anaconda3\\lib\\site-packages\\xgboost\\sklearn.py:793: UserWarning: `early_stopping_rounds` in `fit` method is deprecated for better compatibility with scikit-learn, use `early_stopping_rounds` in constructor or`set_params` instead.\n",
      "  warnings.warn(\n",
      "D:\\Anaconda3\\lib\\site-packages\\xgboost\\sklearn.py:793: UserWarning: `early_stopping_rounds` in `fit` method is deprecated for better compatibility with scikit-learn, use `early_stopping_rounds` in constructor or`set_params` instead.\n",
      "  warnings.warn(\n"
     ]
    },
    {
     "name": "stdout",
     "output_type": "stream",
     "text": [
      "[7]\tvalidation_0-mae:15.08482\n",
      "[8]\tvalidation_0-mae:15.08185\n",
      "[9]\tvalidation_0-mae:15.08218\n",
      "[0]\tvalidation_0-mae:15.13195\n",
      "[1]\tvalidation_0-mae:15.16106\n",
      "[2]\tvalidation_0-mae:15.14139\n",
      "[3]\tvalidation_0-mae:15.18116\n",
      "[4]\tvalidation_0-mae:15.16907\n",
      "[0]\tvalidation_0-mae:15.13230\n",
      "[1]\tvalidation_0-mae:15.11562\n",
      "[2]\tvalidation_0-mae:15.09995\n",
      "[3]\tvalidation_0-mae:15.10614\n",
      "[4]\tvalidation_0-mae:15.09941\n",
      "[5]\tvalidation_0-mae:15.09358\n",
      "[6]\tvalidation_0-mae:15.10544\n",
      "[7]\tvalidation_0-mae:15.10235\n",
      "[8]\tvalidation_0-mae:15.10376\n"
     ]
    },
    {
     "name": "stderr",
     "output_type": "stream",
     "text": [
      "D:\\Anaconda3\\lib\\site-packages\\xgboost\\sklearn.py:793: UserWarning: `early_stopping_rounds` in `fit` method is deprecated for better compatibility with scikit-learn, use `early_stopping_rounds` in constructor or`set_params` instead.\n",
      "  warnings.warn(\n",
      "D:\\Anaconda3\\lib\\site-packages\\xgboost\\sklearn.py:793: UserWarning: `early_stopping_rounds` in `fit` method is deprecated for better compatibility with scikit-learn, use `early_stopping_rounds` in constructor or`set_params` instead.\n",
      "  warnings.warn(\n"
     ]
    },
    {
     "name": "stdout",
     "output_type": "stream",
     "text": [
      "[9]\tvalidation_0-mae:15.09988\n",
      "[10]\tvalidation_0-mae:15.09973\n",
      "[0]\tvalidation_0-mae:15.13101\n",
      "[1]\tvalidation_0-mae:15.10938\n",
      "[2]\tvalidation_0-mae:15.09422\n",
      "[3]\tvalidation_0-mae:15.09481\n",
      "[4]\tvalidation_0-mae:15.08405\n",
      "[5]\tvalidation_0-mae:15.07902\n",
      "[6]\tvalidation_0-mae:15.09292\n",
      "[7]\tvalidation_0-mae:15.09273\n",
      "[8]\tvalidation_0-mae:15.09448\n",
      "[9]\tvalidation_0-mae:15.09438\n",
      "[10]\tvalidation_0-mae:15.09935\n",
      "[0]\tvalidation_0-mae:15.12933\n",
      "[1]\tvalidation_0-mae:15.12880\n"
     ]
    },
    {
     "name": "stderr",
     "output_type": "stream",
     "text": [
      "D:\\Anaconda3\\lib\\site-packages\\xgboost\\sklearn.py:793: UserWarning: `early_stopping_rounds` in `fit` method is deprecated for better compatibility with scikit-learn, use `early_stopping_rounds` in constructor or`set_params` instead.\n",
      "  warnings.warn(\n",
      "D:\\Anaconda3\\lib\\site-packages\\xgboost\\sklearn.py:793: UserWarning: `early_stopping_rounds` in `fit` method is deprecated for better compatibility with scikit-learn, use `early_stopping_rounds` in constructor or`set_params` instead.\n",
      "  warnings.warn(\n"
     ]
    },
    {
     "name": "stdout",
     "output_type": "stream",
     "text": [
      "[2]\tvalidation_0-mae:15.10566\n",
      "[3]\tvalidation_0-mae:15.09576\n",
      "[4]\tvalidation_0-mae:15.09015\n",
      "[5]\tvalidation_0-mae:15.09198\n",
      "[6]\tvalidation_0-mae:15.09000\n",
      "[7]\tvalidation_0-mae:15.08623\n",
      "[8]\tvalidation_0-mae:15.08418\n",
      "[9]\tvalidation_0-mae:15.07693\n",
      "[10]\tvalidation_0-mae:15.08952\n",
      "[11]\tvalidation_0-mae:15.11141\n",
      "[12]\tvalidation_0-mae:15.10984\n",
      "[13]\tvalidation_0-mae:15.11435\n",
      "[0]\tvalidation_0-mae:15.13188\n",
      "[1]\tvalidation_0-mae:15.16140\n",
      "[2]\tvalidation_0-mae:15.14264\n",
      "[3]\tvalidation_0-mae:15.18250\n",
      "[4]\tvalidation_0-mae:15.17083\n",
      "[0]\tvalidation_0-mae:15.13615\n",
      "[1]\tvalidation_0-mae:15.13071\n",
      "[2]\tvalidation_0-mae:15.10803\n",
      "[3]\tvalidation_0-mae:15.09280\n"
     ]
    },
    {
     "name": "stderr",
     "output_type": "stream",
     "text": [
      "D:\\Anaconda3\\lib\\site-packages\\xgboost\\sklearn.py:793: UserWarning: `early_stopping_rounds` in `fit` method is deprecated for better compatibility with scikit-learn, use `early_stopping_rounds` in constructor or`set_params` instead.\n",
      "  warnings.warn(\n",
      "D:\\Anaconda3\\lib\\site-packages\\xgboost\\sklearn.py:793: UserWarning: `early_stopping_rounds` in `fit` method is deprecated for better compatibility with scikit-learn, use `early_stopping_rounds` in constructor or`set_params` instead.\n",
      "  warnings.warn(\n"
     ]
    },
    {
     "name": "stdout",
     "output_type": "stream",
     "text": [
      "[4]\tvalidation_0-mae:15.08147\n",
      "[5]\tvalidation_0-mae:15.08841\n",
      "[6]\tvalidation_0-mae:15.08668\n",
      "[7]\tvalidation_0-mae:15.08482\n",
      "[8]\tvalidation_0-mae:15.08185\n",
      "[9]\tvalidation_0-mae:15.08218\n",
      "[0]\tvalidation_0-mae:15.13195\n",
      "[1]\tvalidation_0-mae:15.16106\n",
      "[2]\tvalidation_0-mae:15.14139\n",
      "[3]\tvalidation_0-mae:15.18116\n",
      "[4]\tvalidation_0-mae:15.16907\n",
      "[5]\tvalidation_0-mae:15.16059\n",
      "[0]\tvalidation_0-mae:15.13230\n",
      "[1]\tvalidation_0-mae:15.11562\n",
      "[2]\tvalidation_0-mae:15.09995\n",
      "[3]\tvalidation_0-mae:15.10614\n",
      "[4]\tvalidation_0-mae:15.09941\n",
      "[5]\tvalidation_0-mae:15.09358\n",
      "[6]\tvalidation_0-mae:15.10544\n",
      "[7]\tvalidation_0-mae:15.10235\n",
      "[8]\tvalidation_0-mae:15.10376\n"
     ]
    },
    {
     "name": "stderr",
     "output_type": "stream",
     "text": [
      "D:\\Anaconda3\\lib\\site-packages\\xgboost\\sklearn.py:793: UserWarning: `early_stopping_rounds` in `fit` method is deprecated for better compatibility with scikit-learn, use `early_stopping_rounds` in constructor or`set_params` instead.\n",
      "  warnings.warn(\n",
      "D:\\Anaconda3\\lib\\site-packages\\xgboost\\sklearn.py:793: UserWarning: `early_stopping_rounds` in `fit` method is deprecated for better compatibility with scikit-learn, use `early_stopping_rounds` in constructor or`set_params` instead.\n",
      "  warnings.warn(\n"
     ]
    },
    {
     "name": "stdout",
     "output_type": "stream",
     "text": [
      "[9]\tvalidation_0-mae:15.09988\n",
      "[0]\tvalidation_0-mae:15.13101\n",
      "[1]\tvalidation_0-mae:15.10938\n",
      "[2]\tvalidation_0-mae:15.09422\n",
      "[3]\tvalidation_0-mae:15.09481\n",
      "[4]\tvalidation_0-mae:15.08405\n",
      "[5]\tvalidation_0-mae:15.07902\n",
      "[6]\tvalidation_0-mae:15.09292\n",
      "[7]\tvalidation_0-mae:15.09273\n",
      "[8]\tvalidation_0-mae:15.09448\n",
      "[9]\tvalidation_0-mae:15.09438\n",
      "[0]\tvalidation_0-mae:15.12878\n"
     ]
    },
    {
     "name": "stderr",
     "output_type": "stream",
     "text": [
      "D:\\Anaconda3\\lib\\site-packages\\xgboost\\sklearn.py:793: UserWarning: `early_stopping_rounds` in `fit` method is deprecated for better compatibility with scikit-learn, use `early_stopping_rounds` in constructor or`set_params` instead.\n",
      "  warnings.warn(\n",
      "D:\\Anaconda3\\lib\\site-packages\\xgboost\\sklearn.py:793: UserWarning: `early_stopping_rounds` in `fit` method is deprecated for better compatibility with scikit-learn, use `early_stopping_rounds` in constructor or`set_params` instead.\n",
      "  warnings.warn(\n"
     ]
    },
    {
     "name": "stdout",
     "output_type": "stream",
     "text": [
      "[1]\tvalidation_0-mae:15.13018\n",
      "[2]\tvalidation_0-mae:15.10853\n",
      "[3]\tvalidation_0-mae:15.09650\n",
      "[4]\tvalidation_0-mae:15.09136\n",
      "[5]\tvalidation_0-mae:15.09862\n",
      "[6]\tvalidation_0-mae:15.09373\n",
      "[7]\tvalidation_0-mae:15.09431\n",
      "[8]\tvalidation_0-mae:15.09357\n",
      "[9]\tvalidation_0-mae:15.08709\n",
      "[10]\tvalidation_0-mae:15.10152\n",
      "[11]\tvalidation_0-mae:15.12263\n",
      "[12]\tvalidation_0-mae:15.12451\n",
      "[13]\tvalidation_0-mae:15.12572\n",
      "[14]\tvalidation_0-mae:15.13061\n",
      "[0]\tvalidation_0-mae:15.13364\n",
      "[1]\tvalidation_0-mae:15.16369\n",
      "[2]\tvalidation_0-mae:15.14406\n",
      "[3]\tvalidation_0-mae:15.18776\n",
      "[4]\tvalidation_0-mae:15.17492\n",
      "[0]\tvalidation_0-mae:15.13726\n",
      "[1]\tvalidation_0-mae:15.13167\n",
      "[2]\tvalidation_0-mae:15.11015\n",
      "[3]\tvalidation_0-mae:15.09587\n",
      "[4]\tvalidation_0-mae:15.08802\n",
      "[5]\tvalidation_0-mae:15.09128\n"
     ]
    },
    {
     "name": "stderr",
     "output_type": "stream",
     "text": [
      "D:\\Anaconda3\\lib\\site-packages\\xgboost\\sklearn.py:793: UserWarning: `early_stopping_rounds` in `fit` method is deprecated for better compatibility with scikit-learn, use `early_stopping_rounds` in constructor or`set_params` instead.\n",
      "  warnings.warn(\n",
      "D:\\Anaconda3\\lib\\site-packages\\xgboost\\sklearn.py:793: UserWarning: `early_stopping_rounds` in `fit` method is deprecated for better compatibility with scikit-learn, use `early_stopping_rounds` in constructor or`set_params` instead.\n",
      "  warnings.warn(\n"
     ]
    },
    {
     "name": "stdout",
     "output_type": "stream",
     "text": [
      "[6]\tvalidation_0-mae:15.08652\n",
      "[7]\tvalidation_0-mae:15.08492\n",
      "[8]\tvalidation_0-mae:15.08446\n",
      "[9]\tvalidation_0-mae:15.08171\n",
      "[10]\tvalidation_0-mae:15.09331\n",
      "[11]\tvalidation_0-mae:15.10813\n",
      "[12]\tvalidation_0-mae:15.10822\n",
      "[13]\tvalidation_0-mae:15.11485\n",
      "[0]\tvalidation_0-mae:15.12632\n",
      "[1]\tvalidation_0-mae:15.15627\n",
      "[2]\tvalidation_0-mae:15.13663\n",
      "[3]\tvalidation_0-mae:15.17844\n",
      "[4]\tvalidation_0-mae:15.16538\n",
      "[0]\tvalidation_0-mae:15.13144\n",
      "[1]\tvalidation_0-mae:15.11488\n",
      "[2]\tvalidation_0-mae:15.10130\n",
      "[3]\tvalidation_0-mae:15.10062\n",
      "[4]\tvalidation_0-mae:15.09400\n",
      "[5]\tvalidation_0-mae:15.08839\n"
     ]
    },
    {
     "name": "stderr",
     "output_type": "stream",
     "text": [
      "D:\\Anaconda3\\lib\\site-packages\\xgboost\\sklearn.py:793: UserWarning: `early_stopping_rounds` in `fit` method is deprecated for better compatibility with scikit-learn, use `early_stopping_rounds` in constructor or`set_params` instead.\n",
      "  warnings.warn(\n",
      "D:\\Anaconda3\\lib\\site-packages\\xgboost\\sklearn.py:793: UserWarning: `early_stopping_rounds` in `fit` method is deprecated for better compatibility with scikit-learn, use `early_stopping_rounds` in constructor or`set_params` instead.\n",
      "  warnings.warn(\n"
     ]
    },
    {
     "name": "stdout",
     "output_type": "stream",
     "text": [
      "[6]\tvalidation_0-mae:15.09567\n",
      "[7]\tvalidation_0-mae:15.09279\n",
      "[8]\tvalidation_0-mae:15.09457\n",
      "[9]\tvalidation_0-mae:15.09443\n",
      "[10]\tvalidation_0-mae:15.09345\n",
      "[0]\tvalidation_0-mae:15.13024\n",
      "[1]\tvalidation_0-mae:15.10457\n",
      "[2]\tvalidation_0-mae:15.09007\n",
      "[3]\tvalidation_0-mae:15.09009\n",
      "[4]\tvalidation_0-mae:15.08132\n",
      "[5]\tvalidation_0-mae:15.07635\n",
      "[6]\tvalidation_0-mae:15.08284\n",
      "[7]\tvalidation_0-mae:15.08077\n",
      "[8]\tvalidation_0-mae:15.08276\n",
      "[9]\tvalidation_0-mae:15.08221\n",
      "[0]\tvalidation_0-mae:15.12878\n",
      "[1]\tvalidation_0-mae:15.13018\n"
     ]
    },
    {
     "name": "stderr",
     "output_type": "stream",
     "text": [
      "D:\\Anaconda3\\lib\\site-packages\\xgboost\\sklearn.py:793: UserWarning: `early_stopping_rounds` in `fit` method is deprecated for better compatibility with scikit-learn, use `early_stopping_rounds` in constructor or`set_params` instead.\n",
      "  warnings.warn(\n",
      "D:\\Anaconda3\\lib\\site-packages\\xgboost\\sklearn.py:793: UserWarning: `early_stopping_rounds` in `fit` method is deprecated for better compatibility with scikit-learn, use `early_stopping_rounds` in constructor or`set_params` instead.\n",
      "  warnings.warn(\n"
     ]
    },
    {
     "name": "stdout",
     "output_type": "stream",
     "text": [
      "[2]\tvalidation_0-mae:15.10853\n",
      "[3]\tvalidation_0-mae:15.09650\n",
      "[4]\tvalidation_0-mae:15.09136\n",
      "[5]\tvalidation_0-mae:15.09862\n",
      "[6]\tvalidation_0-mae:15.09373\n",
      "[7]\tvalidation_0-mae:15.09431\n",
      "[8]\tvalidation_0-mae:15.09357\n",
      "[9]\tvalidation_0-mae:15.08709\n",
      "[10]\tvalidation_0-mae:15.10152\n",
      "[11]\tvalidation_0-mae:15.12263\n",
      "[12]\tvalidation_0-mae:15.12451\n",
      "[13]\tvalidation_0-mae:15.12572\n",
      "[14]\tvalidation_0-mae:15.13061\n",
      "[0]\tvalidation_0-mae:15.13364\n",
      "[1]\tvalidation_0-mae:15.16369\n",
      "[2]\tvalidation_0-mae:15.14406\n",
      "[3]\tvalidation_0-mae:15.18776\n",
      "[4]\tvalidation_0-mae:15.17492\n",
      "[5]\tvalidation_0-mae:15.16075\n",
      "[0]\tvalidation_0-mae:15.13726\n",
      "[1]\tvalidation_0-mae:15.13167\n",
      "[2]\tvalidation_0-mae:15.11015\n",
      "[3]\tvalidation_0-mae:15.09587\n",
      "[4]\tvalidation_0-mae:15.08802\n"
     ]
    },
    {
     "name": "stderr",
     "output_type": "stream",
     "text": [
      "D:\\Anaconda3\\lib\\site-packages\\xgboost\\sklearn.py:793: UserWarning: `early_stopping_rounds` in `fit` method is deprecated for better compatibility with scikit-learn, use `early_stopping_rounds` in constructor or`set_params` instead.\n",
      "  warnings.warn(\n",
      "D:\\Anaconda3\\lib\\site-packages\\xgboost\\sklearn.py:793: UserWarning: `early_stopping_rounds` in `fit` method is deprecated for better compatibility with scikit-learn, use `early_stopping_rounds` in constructor or`set_params` instead.\n",
      "  warnings.warn(\n"
     ]
    },
    {
     "name": "stdout",
     "output_type": "stream",
     "text": [
      "[5]\tvalidation_0-mae:15.09128\n",
      "[6]\tvalidation_0-mae:15.08652\n",
      "[7]\tvalidation_0-mae:15.08492\n",
      "[8]\tvalidation_0-mae:15.08446\n",
      "[9]\tvalidation_0-mae:15.08171\n",
      "[10]\tvalidation_0-mae:15.09331\n",
      "[11]\tvalidation_0-mae:15.10813\n",
      "[12]\tvalidation_0-mae:15.10822\n",
      "[13]\tvalidation_0-mae:15.11485\n",
      "[14]\tvalidation_0-mae:15.12126\n",
      "[0]\tvalidation_0-mae:15.12632\n",
      "[1]\tvalidation_0-mae:15.15627\n",
      "[2]\tvalidation_0-mae:15.13663\n",
      "[3]\tvalidation_0-mae:15.17844\n",
      "[4]\tvalidation_0-mae:15.16538\n",
      "[0]\tvalidation_0-mae:15.13144\n",
      "[1]\tvalidation_0-mae:15.11488\n",
      "[2]\tvalidation_0-mae:15.10130\n",
      "[3]\tvalidation_0-mae:15.10062\n",
      "[4]\tvalidation_0-mae:15.09400\n",
      "[5]\tvalidation_0-mae:15.08839\n",
      "[6]\tvalidation_0-mae:15.09567\n"
     ]
    },
    {
     "name": "stderr",
     "output_type": "stream",
     "text": [
      "D:\\Anaconda3\\lib\\site-packages\\xgboost\\sklearn.py:793: UserWarning: `early_stopping_rounds` in `fit` method is deprecated for better compatibility with scikit-learn, use `early_stopping_rounds` in constructor or`set_params` instead.\n",
      "  warnings.warn(\n",
      "D:\\Anaconda3\\lib\\site-packages\\xgboost\\sklearn.py:793: UserWarning: `early_stopping_rounds` in `fit` method is deprecated for better compatibility with scikit-learn, use `early_stopping_rounds` in constructor or`set_params` instead.\n",
      "  warnings.warn(\n"
     ]
    },
    {
     "name": "stdout",
     "output_type": "stream",
     "text": [
      "[7]\tvalidation_0-mae:15.09279\n",
      "[8]\tvalidation_0-mae:15.09457\n",
      "[9]\tvalidation_0-mae:15.09443\n",
      "[10]\tvalidation_0-mae:15.09345\n",
      "[0]\tvalidation_0-mae:15.13024\n",
      "[1]\tvalidation_0-mae:15.10457\n",
      "[2]\tvalidation_0-mae:15.09007\n",
      "[3]\tvalidation_0-mae:15.09009\n",
      "[4]\tvalidation_0-mae:15.08132\n",
      "[5]\tvalidation_0-mae:15.07635\n",
      "[6]\tvalidation_0-mae:15.08284\n",
      "[7]\tvalidation_0-mae:15.08077\n",
      "[8]\tvalidation_0-mae:15.08276\n",
      "[9]\tvalidation_0-mae:15.08221\n",
      "[10]\tvalidation_0-mae:15.08377\n"
     ]
    },
    {
     "name": "stderr",
     "output_type": "stream",
     "text": [
      "D:\\Anaconda3\\lib\\site-packages\\xgboost\\sklearn.py:793: UserWarning: `early_stopping_rounds` in `fit` method is deprecated for better compatibility with scikit-learn, use `early_stopping_rounds` in constructor or`set_params` instead.\n",
      "  warnings.warn(\n",
      "D:\\Anaconda3\\lib\\site-packages\\xgboost\\sklearn.py:793: UserWarning: `early_stopping_rounds` in `fit` method is deprecated for better compatibility with scikit-learn, use `early_stopping_rounds` in constructor or`set_params` instead.\n",
      "  warnings.warn(\n"
     ]
    },
    {
     "name": "stdout",
     "output_type": "stream",
     "text": [
      "[0]\tvalidation_0-mae:15.12878\n",
      "[1]\tvalidation_0-mae:15.13018\n",
      "[2]\tvalidation_0-mae:15.10853\n",
      "[3]\tvalidation_0-mae:15.09650\n",
      "[4]\tvalidation_0-mae:15.09136\n",
      "[5]\tvalidation_0-mae:15.09862\n",
      "[6]\tvalidation_0-mae:15.09373\n",
      "[7]\tvalidation_0-mae:15.09431\n",
      "[8]\tvalidation_0-mae:15.09357\n",
      "[9]\tvalidation_0-mae:15.08709\n",
      "[10]\tvalidation_0-mae:15.10152\n",
      "[11]\tvalidation_0-mae:15.12263\n",
      "[12]\tvalidation_0-mae:15.12451\n",
      "[13]\tvalidation_0-mae:15.12572\n",
      "[14]\tvalidation_0-mae:15.13061\n",
      "[0]\tvalidation_0-mae:15.13364\n",
      "[1]\tvalidation_0-mae:15.16369\n",
      "[2]\tvalidation_0-mae:15.14406\n",
      "[3]\tvalidation_0-mae:15.18776\n",
      "[4]\tvalidation_0-mae:15.17492\n",
      "[5]\tvalidation_0-mae:15.16075\n",
      "[0]\tvalidation_0-mae:15.13726\n",
      "[1]\tvalidation_0-mae:15.13167\n",
      "[2]\tvalidation_0-mae:15.11015\n",
      "[3]\tvalidation_0-mae:15.09587\n"
     ]
    },
    {
     "name": "stderr",
     "output_type": "stream",
     "text": [
      "D:\\Anaconda3\\lib\\site-packages\\xgboost\\sklearn.py:793: UserWarning: `early_stopping_rounds` in `fit` method is deprecated for better compatibility with scikit-learn, use `early_stopping_rounds` in constructor or`set_params` instead.\n",
      "  warnings.warn(\n",
      "D:\\Anaconda3\\lib\\site-packages\\xgboost\\sklearn.py:793: UserWarning: `early_stopping_rounds` in `fit` method is deprecated for better compatibility with scikit-learn, use `early_stopping_rounds` in constructor or`set_params` instead.\n",
      "  warnings.warn(\n"
     ]
    },
    {
     "name": "stdout",
     "output_type": "stream",
     "text": [
      "[4]\tvalidation_0-mae:15.08802\n",
      "[5]\tvalidation_0-mae:15.09128\n",
      "[6]\tvalidation_0-mae:15.08652\n",
      "[7]\tvalidation_0-mae:15.08492\n",
      "[8]\tvalidation_0-mae:15.08446\n",
      "[9]\tvalidation_0-mae:15.08171\n",
      "[10]\tvalidation_0-mae:15.09331\n",
      "[11]\tvalidation_0-mae:15.10813\n",
      "[12]\tvalidation_0-mae:15.10822\n",
      "[13]\tvalidation_0-mae:15.11485\n",
      "[14]\tvalidation_0-mae:15.12126\n",
      "[0]\tvalidation_0-mae:15.12632\n",
      "[1]\tvalidation_0-mae:15.15627\n",
      "[2]\tvalidation_0-mae:15.13663\n",
      "[3]\tvalidation_0-mae:15.17844\n",
      "[4]\tvalidation_0-mae:15.16538\n",
      "[0]\tvalidation_0-mae:15.13144\n",
      "[1]\tvalidation_0-mae:15.11488\n",
      "[2]\tvalidation_0-mae:15.10130\n",
      "[3]\tvalidation_0-mae:15.10062\n"
     ]
    },
    {
     "name": "stderr",
     "output_type": "stream",
     "text": [
      "D:\\Anaconda3\\lib\\site-packages\\xgboost\\sklearn.py:793: UserWarning: `early_stopping_rounds` in `fit` method is deprecated for better compatibility with scikit-learn, use `early_stopping_rounds` in constructor or`set_params` instead.\n",
      "  warnings.warn(\n",
      "D:\\Anaconda3\\lib\\site-packages\\xgboost\\sklearn.py:793: UserWarning: `early_stopping_rounds` in `fit` method is deprecated for better compatibility with scikit-learn, use `early_stopping_rounds` in constructor or`set_params` instead.\n",
      "  warnings.warn(\n"
     ]
    },
    {
     "name": "stdout",
     "output_type": "stream",
     "text": [
      "[4]\tvalidation_0-mae:15.09400\n",
      "[5]\tvalidation_0-mae:15.08839\n",
      "[6]\tvalidation_0-mae:15.09567\n",
      "[7]\tvalidation_0-mae:15.09279\n",
      "[8]\tvalidation_0-mae:15.09457\n",
      "[9]\tvalidation_0-mae:15.09443\n",
      "[0]\tvalidation_0-mae:15.13024\n",
      "[1]\tvalidation_0-mae:15.10457\n",
      "[2]\tvalidation_0-mae:15.09007\n",
      "[3]\tvalidation_0-mae:15.09009\n",
      "[4]\tvalidation_0-mae:15.08132\n",
      "[5]\tvalidation_0-mae:15.07635\n",
      "[6]\tvalidation_0-mae:15.08284\n",
      "[7]\tvalidation_0-mae:15.08077\n",
      "[8]\tvalidation_0-mae:15.08276\n",
      "[9]\tvalidation_0-mae:15.08221\n",
      "[10]\tvalidation_0-mae:15.08377\n",
      "[0]\tvalidation_0-mae:15.09326\n",
      "[1]\tvalidation_0-mae:15.16949\n"
     ]
    },
    {
     "name": "stderr",
     "output_type": "stream",
     "text": [
      "D:\\Anaconda3\\lib\\site-packages\\xgboost\\sklearn.py:793: UserWarning: `early_stopping_rounds` in `fit` method is deprecated for better compatibility with scikit-learn, use `early_stopping_rounds` in constructor or`set_params` instead.\n",
      "  warnings.warn(\n",
      "D:\\Anaconda3\\lib\\site-packages\\xgboost\\sklearn.py:793: UserWarning: `early_stopping_rounds` in `fit` method is deprecated for better compatibility with scikit-learn, use `early_stopping_rounds` in constructor or`set_params` instead.\n",
      "  warnings.warn(\n"
     ]
    },
    {
     "name": "stdout",
     "output_type": "stream",
     "text": [
      "[2]\tvalidation_0-mae:15.19366\n",
      "[3]\tvalidation_0-mae:15.26620\n",
      "[4]\tvalidation_0-mae:15.35084\n",
      "[0]\tvalidation_0-mae:15.10902\n",
      "[1]\tvalidation_0-mae:15.35544\n",
      "[2]\tvalidation_0-mae:15.40016\n",
      "[3]\tvalidation_0-mae:15.71642\n",
      "[4]\tvalidation_0-mae:15.76383\n",
      "[0]\tvalidation_0-mae:15.09599\n",
      "[1]\tvalidation_0-mae:15.14385\n",
      "[2]\tvalidation_0-mae:15.14947\n",
      "[3]\tvalidation_0-mae:15.19245\n",
      "[4]\tvalidation_0-mae:15.24145\n",
      "[5]\tvalidation_0-mae:15.40833\n"
     ]
    },
    {
     "name": "stderr",
     "output_type": "stream",
     "text": [
      "D:\\Anaconda3\\lib\\site-packages\\xgboost\\sklearn.py:793: UserWarning: `early_stopping_rounds` in `fit` method is deprecated for better compatibility with scikit-learn, use `early_stopping_rounds` in constructor or`set_params` instead.\n",
      "  warnings.warn(\n",
      "D:\\Anaconda3\\lib\\site-packages\\xgboost\\sklearn.py:793: UserWarning: `early_stopping_rounds` in `fit` method is deprecated for better compatibility with scikit-learn, use `early_stopping_rounds` in constructor or`set_params` instead.\n",
      "  warnings.warn(\n"
     ]
    },
    {
     "name": "stdout",
     "output_type": "stream",
     "text": [
      "[0]\tvalidation_0-mae:15.10088\n",
      "[1]\tvalidation_0-mae:15.35333\n",
      "[2]\tvalidation_0-mae:15.39635\n",
      "[3]\tvalidation_0-mae:15.71036\n",
      "[4]\tvalidation_0-mae:15.77097\n",
      "[5]\tvalidation_0-mae:15.84054\n",
      "[0]\tvalidation_0-mae:15.09005\n",
      "[1]\tvalidation_0-mae:15.09553\n",
      "[2]\tvalidation_0-mae:15.10170\n",
      "[3]\tvalidation_0-mae:15.20599\n",
      "[4]\tvalidation_0-mae:15.27627\n",
      "[5]\tvalidation_0-mae:15.36353\n"
     ]
    },
    {
     "name": "stderr",
     "output_type": "stream",
     "text": [
      "D:\\Anaconda3\\lib\\site-packages\\xgboost\\sklearn.py:793: UserWarning: `early_stopping_rounds` in `fit` method is deprecated for better compatibility with scikit-learn, use `early_stopping_rounds` in constructor or`set_params` instead.\n",
      "  warnings.warn(\n",
      "D:\\Anaconda3\\lib\\site-packages\\xgboost\\sklearn.py:793: UserWarning: `early_stopping_rounds` in `fit` method is deprecated for better compatibility with scikit-learn, use `early_stopping_rounds` in constructor or`set_params` instead.\n",
      "  warnings.warn(\n"
     ]
    },
    {
     "name": "stdout",
     "output_type": "stream",
     "text": [
      "[0]\tvalidation_0-mae:15.09719\n",
      "[1]\tvalidation_0-mae:15.11431\n",
      "[2]\tvalidation_0-mae:15.15509\n",
      "[3]\tvalidation_0-mae:15.29866\n",
      "[4]\tvalidation_0-mae:15.41283\n",
      "[5]\tvalidation_0-mae:15.52398\n",
      "[0]\tvalidation_0-mae:15.09326\n",
      "[1]\tvalidation_0-mae:15.16949\n",
      "[2]\tvalidation_0-mae:15.19366\n",
      "[3]\tvalidation_0-mae:15.26620\n",
      "[4]\tvalidation_0-mae:15.35084\n"
     ]
    },
    {
     "name": "stderr",
     "output_type": "stream",
     "text": [
      "D:\\Anaconda3\\lib\\site-packages\\xgboost\\sklearn.py:793: UserWarning: `early_stopping_rounds` in `fit` method is deprecated for better compatibility with scikit-learn, use `early_stopping_rounds` in constructor or`set_params` instead.\n",
      "  warnings.warn(\n",
      "D:\\Anaconda3\\lib\\site-packages\\xgboost\\sklearn.py:793: UserWarning: `early_stopping_rounds` in `fit` method is deprecated for better compatibility with scikit-learn, use `early_stopping_rounds` in constructor or`set_params` instead.\n",
      "  warnings.warn(\n"
     ]
    },
    {
     "name": "stdout",
     "output_type": "stream",
     "text": [
      "[0]\tvalidation_0-mae:15.10902\n",
      "[1]\tvalidation_0-mae:15.35544\n",
      "[2]\tvalidation_0-mae:15.40016\n",
      "[3]\tvalidation_0-mae:15.71642\n",
      "[4]\tvalidation_0-mae:15.76383\n",
      "[5]\tvalidation_0-mae:15.86649\n",
      "[0]\tvalidation_0-mae:15.09599\n",
      "[1]\tvalidation_0-mae:15.14385\n",
      "[2]\tvalidation_0-mae:15.14947\n",
      "[3]\tvalidation_0-mae:15.19245\n",
      "[4]\tvalidation_0-mae:15.24145\n"
     ]
    },
    {
     "name": "stderr",
     "output_type": "stream",
     "text": [
      "D:\\Anaconda3\\lib\\site-packages\\xgboost\\sklearn.py:793: UserWarning: `early_stopping_rounds` in `fit` method is deprecated for better compatibility with scikit-learn, use `early_stopping_rounds` in constructor or`set_params` instead.\n",
      "  warnings.warn(\n",
      "D:\\Anaconda3\\lib\\site-packages\\xgboost\\sklearn.py:793: UserWarning: `early_stopping_rounds` in `fit` method is deprecated for better compatibility with scikit-learn, use `early_stopping_rounds` in constructor or`set_params` instead.\n",
      "  warnings.warn(\n"
     ]
    },
    {
     "name": "stdout",
     "output_type": "stream",
     "text": [
      "[0]\tvalidation_0-mae:15.10088\n",
      "[1]\tvalidation_0-mae:15.35333\n",
      "[2]\tvalidation_0-mae:15.39635\n",
      "[3]\tvalidation_0-mae:15.71036\n",
      "[4]\tvalidation_0-mae:15.77097\n",
      "[0]\tvalidation_0-mae:15.09005\n",
      "[1]\tvalidation_0-mae:15.09553\n",
      "[2]\tvalidation_0-mae:15.10170\n",
      "[3]\tvalidation_0-mae:15.20599\n",
      "[4]\tvalidation_0-mae:15.27627\n"
     ]
    },
    {
     "name": "stderr",
     "output_type": "stream",
     "text": [
      "D:\\Anaconda3\\lib\\site-packages\\xgboost\\sklearn.py:793: UserWarning: `early_stopping_rounds` in `fit` method is deprecated for better compatibility with scikit-learn, use `early_stopping_rounds` in constructor or`set_params` instead.\n",
      "  warnings.warn(\n",
      "D:\\Anaconda3\\lib\\site-packages\\xgboost\\sklearn.py:793: UserWarning: `early_stopping_rounds` in `fit` method is deprecated for better compatibility with scikit-learn, use `early_stopping_rounds` in constructor or`set_params` instead.\n",
      "  warnings.warn(\n"
     ]
    },
    {
     "name": "stdout",
     "output_type": "stream",
     "text": [
      "[0]\tvalidation_0-mae:15.09719\n",
      "[1]\tvalidation_0-mae:15.11431\n",
      "[2]\tvalidation_0-mae:15.15509\n",
      "[3]\tvalidation_0-mae:15.29866\n",
      "[4]\tvalidation_0-mae:15.41283\n",
      "[0]\tvalidation_0-mae:15.09326\n",
      "[1]\tvalidation_0-mae:15.16949\n",
      "[2]\tvalidation_0-mae:15.19366\n",
      "[3]\tvalidation_0-mae:15.26620\n",
      "[4]\tvalidation_0-mae:15.35084\n"
     ]
    },
    {
     "name": "stderr",
     "output_type": "stream",
     "text": [
      "D:\\Anaconda3\\lib\\site-packages\\xgboost\\sklearn.py:793: UserWarning: `early_stopping_rounds` in `fit` method is deprecated for better compatibility with scikit-learn, use `early_stopping_rounds` in constructor or`set_params` instead.\n",
      "  warnings.warn(\n",
      "D:\\Anaconda3\\lib\\site-packages\\xgboost\\sklearn.py:793: UserWarning: `early_stopping_rounds` in `fit` method is deprecated for better compatibility with scikit-learn, use `early_stopping_rounds` in constructor or`set_params` instead.\n",
      "  warnings.warn(\n"
     ]
    },
    {
     "name": "stdout",
     "output_type": "stream",
     "text": [
      "[0]\tvalidation_0-mae:15.10902\n",
      "[1]\tvalidation_0-mae:15.35544\n",
      "[2]\tvalidation_0-mae:15.40016\n",
      "[3]\tvalidation_0-mae:15.71642\n",
      "[4]\tvalidation_0-mae:15.76383\n",
      "[0]\tvalidation_0-mae:15.09599\n",
      "[1]\tvalidation_0-mae:15.14385\n",
      "[2]\tvalidation_0-mae:15.14947\n",
      "[3]\tvalidation_0-mae:15.19245\n",
      "[4]\tvalidation_0-mae:15.24145\n"
     ]
    },
    {
     "name": "stderr",
     "output_type": "stream",
     "text": [
      "D:\\Anaconda3\\lib\\site-packages\\xgboost\\sklearn.py:793: UserWarning: `early_stopping_rounds` in `fit` method is deprecated for better compatibility with scikit-learn, use `early_stopping_rounds` in constructor or`set_params` instead.\n",
      "  warnings.warn(\n",
      "D:\\Anaconda3\\lib\\site-packages\\xgboost\\sklearn.py:793: UserWarning: `early_stopping_rounds` in `fit` method is deprecated for better compatibility with scikit-learn, use `early_stopping_rounds` in constructor or`set_params` instead.\n",
      "  warnings.warn(\n"
     ]
    },
    {
     "name": "stdout",
     "output_type": "stream",
     "text": [
      "[0]\tvalidation_0-mae:15.10088\n",
      "[1]\tvalidation_0-mae:15.35333\n",
      "[2]\tvalidation_0-mae:15.39635\n",
      "[3]\tvalidation_0-mae:15.71036\n",
      "[4]\tvalidation_0-mae:15.77097\n",
      "[0]\tvalidation_0-mae:15.09005\n",
      "[1]\tvalidation_0-mae:15.09553\n",
      "[2]\tvalidation_0-mae:15.10170\n",
      "[3]\tvalidation_0-mae:15.20599\n",
      "[4]\tvalidation_0-mae:15.27627\n",
      "[5]\tvalidation_0-mae:15.36353\n"
     ]
    },
    {
     "name": "stderr",
     "output_type": "stream",
     "text": [
      "D:\\Anaconda3\\lib\\site-packages\\xgboost\\sklearn.py:793: UserWarning: `early_stopping_rounds` in `fit` method is deprecated for better compatibility with scikit-learn, use `early_stopping_rounds` in constructor or`set_params` instead.\n",
      "  warnings.warn(\n",
      "D:\\Anaconda3\\lib\\site-packages\\xgboost\\sklearn.py:793: UserWarning: `early_stopping_rounds` in `fit` method is deprecated for better compatibility with scikit-learn, use `early_stopping_rounds` in constructor or`set_params` instead.\n",
      "  warnings.warn(\n"
     ]
    },
    {
     "name": "stdout",
     "output_type": "stream",
     "text": [
      "[0]\tvalidation_0-mae:15.09719\n",
      "[1]\tvalidation_0-mae:15.11431\n",
      "[2]\tvalidation_0-mae:15.15509\n",
      "[3]\tvalidation_0-mae:15.29866\n",
      "[4]\tvalidation_0-mae:15.41283\n",
      "[0]\tvalidation_0-mae:15.06840\n",
      "[1]\tvalidation_0-mae:15.13855\n",
      "[2]\tvalidation_0-mae:15.13557\n",
      "[3]\tvalidation_0-mae:15.20763\n",
      "[4]\tvalidation_0-mae:15.29341\n",
      "[5]\tvalidation_0-mae:15.40536\n"
     ]
    },
    {
     "name": "stderr",
     "output_type": "stream",
     "text": [
      "D:\\Anaconda3\\lib\\site-packages\\xgboost\\sklearn.py:793: UserWarning: `early_stopping_rounds` in `fit` method is deprecated for better compatibility with scikit-learn, use `early_stopping_rounds` in constructor or`set_params` instead.\n",
      "  warnings.warn(\n",
      "D:\\Anaconda3\\lib\\site-packages\\xgboost\\sklearn.py:793: UserWarning: `early_stopping_rounds` in `fit` method is deprecated for better compatibility with scikit-learn, use `early_stopping_rounds` in constructor or`set_params` instead.\n",
      "  warnings.warn(\n"
     ]
    },
    {
     "name": "stdout",
     "output_type": "stream",
     "text": [
      "[0]\tvalidation_0-mae:15.06742\n",
      "[1]\tvalidation_0-mae:15.30741\n",
      "[2]\tvalidation_0-mae:15.31160\n",
      "[3]\tvalidation_0-mae:15.61195\n",
      "[4]\tvalidation_0-mae:15.66432\n",
      "[0]\tvalidation_0-mae:15.09897\n",
      "[1]\tvalidation_0-mae:15.15947\n",
      "[2]\tvalidation_0-mae:15.14138\n",
      "[3]\tvalidation_0-mae:15.18007\n",
      "[4]\tvalidation_0-mae:15.22892\n"
     ]
    },
    {
     "name": "stderr",
     "output_type": "stream",
     "text": [
      "D:\\Anaconda3\\lib\\site-packages\\xgboost\\sklearn.py:793: UserWarning: `early_stopping_rounds` in `fit` method is deprecated for better compatibility with scikit-learn, use `early_stopping_rounds` in constructor or`set_params` instead.\n",
      "  warnings.warn(\n",
      "D:\\Anaconda3\\lib\\site-packages\\xgboost\\sklearn.py:793: UserWarning: `early_stopping_rounds` in `fit` method is deprecated for better compatibility with scikit-learn, use `early_stopping_rounds` in constructor or`set_params` instead.\n",
      "  warnings.warn(\n"
     ]
    },
    {
     "name": "stdout",
     "output_type": "stream",
     "text": [
      "[0]\tvalidation_0-mae:15.07967\n",
      "[1]\tvalidation_0-mae:15.31557\n",
      "[2]\tvalidation_0-mae:15.33297\n",
      "[3]\tvalidation_0-mae:15.63077\n",
      "[4]\tvalidation_0-mae:15.68168\n",
      "[0]\tvalidation_0-mae:15.08244\n",
      "[1]\tvalidation_0-mae:15.08385\n",
      "[2]\tvalidation_0-mae:15.07863\n",
      "[3]\tvalidation_0-mae:15.20366\n",
      "[4]\tvalidation_0-mae:15.29594\n",
      "[5]\tvalidation_0-mae:15.36012\n",
      "[6]\tvalidation_0-mae:15.52050\n"
     ]
    },
    {
     "name": "stderr",
     "output_type": "stream",
     "text": [
      "D:\\Anaconda3\\lib\\site-packages\\xgboost\\sklearn.py:793: UserWarning: `early_stopping_rounds` in `fit` method is deprecated for better compatibility with scikit-learn, use `early_stopping_rounds` in constructor or`set_params` instead.\n",
      "  warnings.warn(\n",
      "D:\\Anaconda3\\lib\\site-packages\\xgboost\\sklearn.py:793: UserWarning: `early_stopping_rounds` in `fit` method is deprecated for better compatibility with scikit-learn, use `early_stopping_rounds` in constructor or`set_params` instead.\n",
      "  warnings.warn(\n"
     ]
    },
    {
     "name": "stdout",
     "output_type": "stream",
     "text": [
      "[0]\tvalidation_0-mae:15.08003\n",
      "[1]\tvalidation_0-mae:15.05858\n",
      "[2]\tvalidation_0-mae:15.09730\n",
      "[3]\tvalidation_0-mae:15.21036\n",
      "[4]\tvalidation_0-mae:15.30625\n",
      "[5]\tvalidation_0-mae:15.40842\n",
      "[0]\tvalidation_0-mae:15.06840\n",
      "[1]\tvalidation_0-mae:15.13855\n",
      "[2]\tvalidation_0-mae:15.13557\n",
      "[3]\tvalidation_0-mae:15.20763\n",
      "[4]\tvalidation_0-mae:15.29341\n"
     ]
    },
    {
     "name": "stderr",
     "output_type": "stream",
     "text": [
      "D:\\Anaconda3\\lib\\site-packages\\xgboost\\sklearn.py:793: UserWarning: `early_stopping_rounds` in `fit` method is deprecated for better compatibility with scikit-learn, use `early_stopping_rounds` in constructor or`set_params` instead.\n",
      "  warnings.warn(\n",
      "D:\\Anaconda3\\lib\\site-packages\\xgboost\\sklearn.py:793: UserWarning: `early_stopping_rounds` in `fit` method is deprecated for better compatibility with scikit-learn, use `early_stopping_rounds` in constructor or`set_params` instead.\n",
      "  warnings.warn(\n"
     ]
    },
    {
     "name": "stdout",
     "output_type": "stream",
     "text": [
      "[0]\tvalidation_0-mae:15.06742\n",
      "[1]\tvalidation_0-mae:15.30741\n",
      "[2]\tvalidation_0-mae:15.31160\n",
      "[3]\tvalidation_0-mae:15.61195\n",
      "[4]\tvalidation_0-mae:15.66432\n",
      "[0]\tvalidation_0-mae:15.09897\n",
      "[1]\tvalidation_0-mae:15.15947\n",
      "[2]\tvalidation_0-mae:15.14138\n",
      "[3]\tvalidation_0-mae:15.18007\n",
      "[4]\tvalidation_0-mae:15.22892\n"
     ]
    },
    {
     "name": "stderr",
     "output_type": "stream",
     "text": [
      "D:\\Anaconda3\\lib\\site-packages\\xgboost\\sklearn.py:793: UserWarning: `early_stopping_rounds` in `fit` method is deprecated for better compatibility with scikit-learn, use `early_stopping_rounds` in constructor or`set_params` instead.\n",
      "  warnings.warn(\n",
      "D:\\Anaconda3\\lib\\site-packages\\xgboost\\sklearn.py:793: UserWarning: `early_stopping_rounds` in `fit` method is deprecated for better compatibility with scikit-learn, use `early_stopping_rounds` in constructor or`set_params` instead.\n",
      "  warnings.warn(\n"
     ]
    },
    {
     "name": "stdout",
     "output_type": "stream",
     "text": [
      "[0]\tvalidation_0-mae:15.07967\n",
      "[1]\tvalidation_0-mae:15.31557\n",
      "[2]\tvalidation_0-mae:15.33297\n",
      "[3]\tvalidation_0-mae:15.63077\n",
      "[4]\tvalidation_0-mae:15.68168\n",
      "[0]\tvalidation_0-mae:15.08244\n",
      "[1]\tvalidation_0-mae:15.08385\n",
      "[2]\tvalidation_0-mae:15.07863\n",
      "[3]\tvalidation_0-mae:15.20366\n",
      "[4]\tvalidation_0-mae:15.29594\n",
      "[5]\tvalidation_0-mae:15.36012\n",
      "[6]\tvalidation_0-mae:15.52050\n"
     ]
    },
    {
     "name": "stderr",
     "output_type": "stream",
     "text": [
      "D:\\Anaconda3\\lib\\site-packages\\xgboost\\sklearn.py:793: UserWarning: `early_stopping_rounds` in `fit` method is deprecated for better compatibility with scikit-learn, use `early_stopping_rounds` in constructor or`set_params` instead.\n",
      "  warnings.warn(\n",
      "D:\\Anaconda3\\lib\\site-packages\\xgboost\\sklearn.py:793: UserWarning: `early_stopping_rounds` in `fit` method is deprecated for better compatibility with scikit-learn, use `early_stopping_rounds` in constructor or`set_params` instead.\n",
      "  warnings.warn(\n"
     ]
    },
    {
     "name": "stdout",
     "output_type": "stream",
     "text": [
      "[0]\tvalidation_0-mae:15.08003\n",
      "[1]\tvalidation_0-mae:15.05858\n",
      "[2]\tvalidation_0-mae:15.09730\n",
      "[3]\tvalidation_0-mae:15.21036\n",
      "[4]\tvalidation_0-mae:15.30625\n",
      "[5]\tvalidation_0-mae:15.40842\n",
      "[0]\tvalidation_0-mae:15.06840\n",
      "[1]\tvalidation_0-mae:15.13855\n",
      "[2]\tvalidation_0-mae:15.13557\n",
      "[3]\tvalidation_0-mae:15.20763\n",
      "[4]\tvalidation_0-mae:15.29341\n"
     ]
    },
    {
     "name": "stderr",
     "output_type": "stream",
     "text": [
      "D:\\Anaconda3\\lib\\site-packages\\xgboost\\sklearn.py:793: UserWarning: `early_stopping_rounds` in `fit` method is deprecated for better compatibility with scikit-learn, use `early_stopping_rounds` in constructor or`set_params` instead.\n",
      "  warnings.warn(\n",
      "D:\\Anaconda3\\lib\\site-packages\\xgboost\\sklearn.py:793: UserWarning: `early_stopping_rounds` in `fit` method is deprecated for better compatibility with scikit-learn, use `early_stopping_rounds` in constructor or`set_params` instead.\n",
      "  warnings.warn(\n"
     ]
    },
    {
     "name": "stdout",
     "output_type": "stream",
     "text": [
      "[0]\tvalidation_0-mae:15.06742\n",
      "[1]\tvalidation_0-mae:15.30741\n",
      "[2]\tvalidation_0-mae:15.31160\n",
      "[3]\tvalidation_0-mae:15.61195\n",
      "[4]\tvalidation_0-mae:15.66432\n",
      "[0]\tvalidation_0-mae:15.09897\n",
      "[1]\tvalidation_0-mae:15.15947\n",
      "[2]\tvalidation_0-mae:15.14138\n",
      "[3]\tvalidation_0-mae:15.18007\n",
      "[4]\tvalidation_0-mae:15.22892\n"
     ]
    },
    {
     "name": "stderr",
     "output_type": "stream",
     "text": [
      "D:\\Anaconda3\\lib\\site-packages\\xgboost\\sklearn.py:793: UserWarning: `early_stopping_rounds` in `fit` method is deprecated for better compatibility with scikit-learn, use `early_stopping_rounds` in constructor or`set_params` instead.\n",
      "  warnings.warn(\n",
      "D:\\Anaconda3\\lib\\site-packages\\xgboost\\sklearn.py:793: UserWarning: `early_stopping_rounds` in `fit` method is deprecated for better compatibility with scikit-learn, use `early_stopping_rounds` in constructor or`set_params` instead.\n",
      "  warnings.warn(\n"
     ]
    },
    {
     "name": "stdout",
     "output_type": "stream",
     "text": [
      "[0]\tvalidation_0-mae:15.07967\n",
      "[1]\tvalidation_0-mae:15.31557\n",
      "[2]\tvalidation_0-mae:15.33297\n",
      "[3]\tvalidation_0-mae:15.63077\n",
      "[4]\tvalidation_0-mae:15.68168\n",
      "[0]\tvalidation_0-mae:15.08244\n",
      "[1]\tvalidation_0-mae:15.08385\n",
      "[2]\tvalidation_0-mae:15.07863\n",
      "[3]\tvalidation_0-mae:15.20366\n",
      "[4]\tvalidation_0-mae:15.29594\n",
      "[5]\tvalidation_0-mae:15.36012\n",
      "[6]\tvalidation_0-mae:15.52050\n"
     ]
    },
    {
     "name": "stderr",
     "output_type": "stream",
     "text": [
      "D:\\Anaconda3\\lib\\site-packages\\xgboost\\sklearn.py:793: UserWarning: `early_stopping_rounds` in `fit` method is deprecated for better compatibility with scikit-learn, use `early_stopping_rounds` in constructor or`set_params` instead.\n",
      "  warnings.warn(\n",
      "D:\\Anaconda3\\lib\\site-packages\\xgboost\\sklearn.py:793: UserWarning: `early_stopping_rounds` in `fit` method is deprecated for better compatibility with scikit-learn, use `early_stopping_rounds` in constructor or`set_params` instead.\n",
      "  warnings.warn(\n"
     ]
    },
    {
     "name": "stdout",
     "output_type": "stream",
     "text": [
      "[0]\tvalidation_0-mae:15.08003\n",
      "[1]\tvalidation_0-mae:15.05858\n",
      "[2]\tvalidation_0-mae:15.09730\n",
      "[3]\tvalidation_0-mae:15.21036\n",
      "[4]\tvalidation_0-mae:15.30625\n",
      "[5]\tvalidation_0-mae:15.40842\n",
      "[0]\tvalidation_0-mae:15.06618\n",
      "[1]\tvalidation_0-mae:15.14938\n",
      "[2]\tvalidation_0-mae:15.15620\n",
      "[3]\tvalidation_0-mae:15.20079\n",
      "[4]\tvalidation_0-mae:15.29280\n"
     ]
    },
    {
     "name": "stderr",
     "output_type": "stream",
     "text": [
      "D:\\Anaconda3\\lib\\site-packages\\xgboost\\sklearn.py:793: UserWarning: `early_stopping_rounds` in `fit` method is deprecated for better compatibility with scikit-learn, use `early_stopping_rounds` in constructor or`set_params` instead.\n",
      "  warnings.warn(\n",
      "D:\\Anaconda3\\lib\\site-packages\\xgboost\\sklearn.py:793: UserWarning: `early_stopping_rounds` in `fit` method is deprecated for better compatibility with scikit-learn, use `early_stopping_rounds` in constructor or`set_params` instead.\n",
      "  warnings.warn(\n"
     ]
    },
    {
     "name": "stdout",
     "output_type": "stream",
     "text": [
      "[0]\tvalidation_0-mae:15.08407\n",
      "[1]\tvalidation_0-mae:15.33382\n",
      "[2]\tvalidation_0-mae:15.34222\n",
      "[3]\tvalidation_0-mae:15.65457\n",
      "[4]\tvalidation_0-mae:15.71539\n",
      "[5]\tvalidation_0-mae:15.77696\n",
      "[0]\tvalidation_0-mae:15.11318\n",
      "[1]\tvalidation_0-mae:15.16594\n",
      "[2]\tvalidation_0-mae:15.15472\n",
      "[3]\tvalidation_0-mae:15.19703\n",
      "[4]\tvalidation_0-mae:15.24703\n"
     ]
    },
    {
     "name": "stderr",
     "output_type": "stream",
     "text": [
      "D:\\Anaconda3\\lib\\site-packages\\xgboost\\sklearn.py:793: UserWarning: `early_stopping_rounds` in `fit` method is deprecated for better compatibility with scikit-learn, use `early_stopping_rounds` in constructor or`set_params` instead.\n",
      "  warnings.warn(\n",
      "D:\\Anaconda3\\lib\\site-packages\\xgboost\\sklearn.py:793: UserWarning: `early_stopping_rounds` in `fit` method is deprecated for better compatibility with scikit-learn, use `early_stopping_rounds` in constructor or`set_params` instead.\n",
      "  warnings.warn(\n"
     ]
    },
    {
     "name": "stdout",
     "output_type": "stream",
     "text": [
      "[5]\tvalidation_0-mae:15.36154\n",
      "[0]\tvalidation_0-mae:15.05112\n",
      "[1]\tvalidation_0-mae:15.29783\n",
      "[2]\tvalidation_0-mae:15.31918\n",
      "[3]\tvalidation_0-mae:15.62657\n",
      "[4]\tvalidation_0-mae:15.68067\n",
      "[0]\tvalidation_0-mae:15.07953\n",
      "[1]\tvalidation_0-mae:15.08503\n",
      "[2]\tvalidation_0-mae:15.13440\n",
      "[3]\tvalidation_0-mae:15.19990\n",
      "[4]\tvalidation_0-mae:15.30386\n"
     ]
    },
    {
     "name": "stderr",
     "output_type": "stream",
     "text": [
      "D:\\Anaconda3\\lib\\site-packages\\xgboost\\sklearn.py:793: UserWarning: `early_stopping_rounds` in `fit` method is deprecated for better compatibility with scikit-learn, use `early_stopping_rounds` in constructor or`set_params` instead.\n",
      "  warnings.warn(\n",
      "D:\\Anaconda3\\lib\\site-packages\\xgboost\\sklearn.py:793: UserWarning: `early_stopping_rounds` in `fit` method is deprecated for better compatibility with scikit-learn, use `early_stopping_rounds` in constructor or`set_params` instead.\n",
      "  warnings.warn(\n"
     ]
    },
    {
     "name": "stdout",
     "output_type": "stream",
     "text": [
      "[5]\tvalidation_0-mae:15.40589\n",
      "[0]\tvalidation_0-mae:15.08182\n",
      "[1]\tvalidation_0-mae:15.04124\n",
      "[2]\tvalidation_0-mae:15.08188\n",
      "[3]\tvalidation_0-mae:15.19317\n",
      "[4]\tvalidation_0-mae:15.28210\n",
      "[5]\tvalidation_0-mae:15.39232\n",
      "[0]\tvalidation_0-mae:15.06618\n",
      "[1]\tvalidation_0-mae:15.14938\n",
      "[2]\tvalidation_0-mae:15.15620\n",
      "[3]\tvalidation_0-mae:15.20079\n",
      "[4]\tvalidation_0-mae:15.29280\n"
     ]
    },
    {
     "name": "stderr",
     "output_type": "stream",
     "text": [
      "D:\\Anaconda3\\lib\\site-packages\\xgboost\\sklearn.py:793: UserWarning: `early_stopping_rounds` in `fit` method is deprecated for better compatibility with scikit-learn, use `early_stopping_rounds` in constructor or`set_params` instead.\n",
      "  warnings.warn(\n",
      "D:\\Anaconda3\\lib\\site-packages\\xgboost\\sklearn.py:793: UserWarning: `early_stopping_rounds` in `fit` method is deprecated for better compatibility with scikit-learn, use `early_stopping_rounds` in constructor or`set_params` instead.\n",
      "  warnings.warn(\n"
     ]
    },
    {
     "name": "stdout",
     "output_type": "stream",
     "text": [
      "[5]\tvalidation_0-mae:15.44429\n",
      "[0]\tvalidation_0-mae:15.08407\n",
      "[1]\tvalidation_0-mae:15.33382\n",
      "[2]\tvalidation_0-mae:15.34222\n",
      "[3]\tvalidation_0-mae:15.65457\n",
      "[4]\tvalidation_0-mae:15.71539\n",
      "[0]\tvalidation_0-mae:15.11318\n",
      "[1]\tvalidation_0-mae:15.16594\n",
      "[2]\tvalidation_0-mae:15.15472\n",
      "[3]\tvalidation_0-mae:15.19703\n",
      "[4]\tvalidation_0-mae:15.24703\n"
     ]
    },
    {
     "name": "stderr",
     "output_type": "stream",
     "text": [
      "D:\\Anaconda3\\lib\\site-packages\\xgboost\\sklearn.py:793: UserWarning: `early_stopping_rounds` in `fit` method is deprecated for better compatibility with scikit-learn, use `early_stopping_rounds` in constructor or`set_params` instead.\n",
      "  warnings.warn(\n",
      "D:\\Anaconda3\\lib\\site-packages\\xgboost\\sklearn.py:793: UserWarning: `early_stopping_rounds` in `fit` method is deprecated for better compatibility with scikit-learn, use `early_stopping_rounds` in constructor or`set_params` instead.\n",
      "  warnings.warn(\n"
     ]
    },
    {
     "name": "stdout",
     "output_type": "stream",
     "text": [
      "[5]\tvalidation_0-mae:15.36154\n",
      "[0]\tvalidation_0-mae:15.05112\n",
      "[1]\tvalidation_0-mae:15.29783\n",
      "[2]\tvalidation_0-mae:15.31918\n",
      "[3]\tvalidation_0-mae:15.62657\n",
      "[4]\tvalidation_0-mae:15.68067\n",
      "[0]\tvalidation_0-mae:15.07953\n",
      "[1]\tvalidation_0-mae:15.08503\n",
      "[2]\tvalidation_0-mae:15.13440\n",
      "[3]\tvalidation_0-mae:15.19990\n",
      "[4]\tvalidation_0-mae:15.30386\n"
     ]
    },
    {
     "name": "stderr",
     "output_type": "stream",
     "text": [
      "D:\\Anaconda3\\lib\\site-packages\\xgboost\\sklearn.py:793: UserWarning: `early_stopping_rounds` in `fit` method is deprecated for better compatibility with scikit-learn, use `early_stopping_rounds` in constructor or`set_params` instead.\n",
      "  warnings.warn(\n",
      "D:\\Anaconda3\\lib\\site-packages\\xgboost\\sklearn.py:793: UserWarning: `early_stopping_rounds` in `fit` method is deprecated for better compatibility with scikit-learn, use `early_stopping_rounds` in constructor or`set_params` instead.\n",
      "  warnings.warn(\n"
     ]
    },
    {
     "name": "stdout",
     "output_type": "stream",
     "text": [
      "[0]\tvalidation_0-mae:15.08182\n",
      "[1]\tvalidation_0-mae:15.04124\n",
      "[2]\tvalidation_0-mae:15.08188\n",
      "[3]\tvalidation_0-mae:15.19317\n",
      "[4]\tvalidation_0-mae:15.28210\n",
      "[5]\tvalidation_0-mae:15.39232\n",
      "[6]\tvalidation_0-mae:15.55912\n",
      "[0]\tvalidation_0-mae:15.06618\n",
      "[1]\tvalidation_0-mae:15.14938\n",
      "[2]\tvalidation_0-mae:15.15620\n",
      "[3]\tvalidation_0-mae:15.20079\n",
      "[4]\tvalidation_0-mae:15.29280\n"
     ]
    },
    {
     "name": "stderr",
     "output_type": "stream",
     "text": [
      "D:\\Anaconda3\\lib\\site-packages\\xgboost\\sklearn.py:793: UserWarning: `early_stopping_rounds` in `fit` method is deprecated for better compatibility with scikit-learn, use `early_stopping_rounds` in constructor or`set_params` instead.\n",
      "  warnings.warn(\n",
      "D:\\Anaconda3\\lib\\site-packages\\xgboost\\sklearn.py:793: UserWarning: `early_stopping_rounds` in `fit` method is deprecated for better compatibility with scikit-learn, use `early_stopping_rounds` in constructor or`set_params` instead.\n",
      "  warnings.warn(\n"
     ]
    },
    {
     "name": "stdout",
     "output_type": "stream",
     "text": [
      "[5]\tvalidation_0-mae:15.44429\n",
      "[0]\tvalidation_0-mae:15.08407\n",
      "[1]\tvalidation_0-mae:15.33382\n",
      "[2]\tvalidation_0-mae:15.34222\n",
      "[3]\tvalidation_0-mae:15.65457\n",
      "[4]\tvalidation_0-mae:15.71539\n",
      "[0]\tvalidation_0-mae:15.11318\n",
      "[1]\tvalidation_0-mae:15.16594\n",
      "[2]\tvalidation_0-mae:15.15472\n",
      "[3]\tvalidation_0-mae:15.19703\n",
      "[4]\tvalidation_0-mae:15.24703\n"
     ]
    },
    {
     "name": "stderr",
     "output_type": "stream",
     "text": [
      "D:\\Anaconda3\\lib\\site-packages\\xgboost\\sklearn.py:793: UserWarning: `early_stopping_rounds` in `fit` method is deprecated for better compatibility with scikit-learn, use `early_stopping_rounds` in constructor or`set_params` instead.\n",
      "  warnings.warn(\n",
      "D:\\Anaconda3\\lib\\site-packages\\xgboost\\sklearn.py:793: UserWarning: `early_stopping_rounds` in `fit` method is deprecated for better compatibility with scikit-learn, use `early_stopping_rounds` in constructor or`set_params` instead.\n",
      "  warnings.warn(\n"
     ]
    },
    {
     "name": "stdout",
     "output_type": "stream",
     "text": [
      "[0]\tvalidation_0-mae:15.05112\n",
      "[1]\tvalidation_0-mae:15.29783\n",
      "[2]\tvalidation_0-mae:15.31918\n",
      "[3]\tvalidation_0-mae:15.62657\n",
      "[4]\tvalidation_0-mae:15.68067\n",
      "[5]\tvalidation_0-mae:15.72003\n",
      "[0]\tvalidation_0-mae:15.07953\n",
      "[1]\tvalidation_0-mae:15.08503\n",
      "[2]\tvalidation_0-mae:15.13440\n",
      "[3]\tvalidation_0-mae:15.19990\n",
      "[4]\tvalidation_0-mae:15.30386\n",
      "[5]\tvalidation_0-mae:15.40589\n"
     ]
    },
    {
     "name": "stderr",
     "output_type": "stream",
     "text": [
      "D:\\Anaconda3\\lib\\site-packages\\xgboost\\sklearn.py:793: UserWarning: `early_stopping_rounds` in `fit` method is deprecated for better compatibility with scikit-learn, use `early_stopping_rounds` in constructor or`set_params` instead.\n",
      "  warnings.warn(\n",
      "D:\\Anaconda3\\lib\\site-packages\\xgboost\\sklearn.py:793: UserWarning: `early_stopping_rounds` in `fit` method is deprecated for better compatibility with scikit-learn, use `early_stopping_rounds` in constructor or`set_params` instead.\n",
      "  warnings.warn(\n"
     ]
    },
    {
     "name": "stdout",
     "output_type": "stream",
     "text": [
      "[0]\tvalidation_0-mae:15.08182\n",
      "[1]\tvalidation_0-mae:15.04124\n",
      "[2]\tvalidation_0-mae:15.08188\n",
      "[3]\tvalidation_0-mae:15.19317\n",
      "[4]\tvalidation_0-mae:15.28210\n",
      "[5]\tvalidation_0-mae:15.39232\n",
      "[0]\tvalidation_0-mae:15.10161\n",
      "[1]\tvalidation_0-mae:15.36344\n",
      "[2]\tvalidation_0-mae:15.53807\n",
      "[3]\tvalidation_0-mae:15.74333\n",
      "[4]\tvalidation_0-mae:16.00400\n",
      "[5]\tvalidation_0-mae:16.32549\n"
     ]
    },
    {
     "name": "stderr",
     "output_type": "stream",
     "text": [
      "D:\\Anaconda3\\lib\\site-packages\\xgboost\\sklearn.py:793: UserWarning: `early_stopping_rounds` in `fit` method is deprecated for better compatibility with scikit-learn, use `early_stopping_rounds` in constructor or`set_params` instead.\n",
      "  warnings.warn(\n",
      "D:\\Anaconda3\\lib\\site-packages\\xgboost\\sklearn.py:793: UserWarning: `early_stopping_rounds` in `fit` method is deprecated for better compatibility with scikit-learn, use `early_stopping_rounds` in constructor or`set_params` instead.\n",
      "  warnings.warn(\n"
     ]
    },
    {
     "name": "stdout",
     "output_type": "stream",
     "text": [
      "[0]\tvalidation_0-mae:15.12873\n",
      "[1]\tvalidation_0-mae:15.70066\n",
      "[2]\tvalidation_0-mae:15.87658\n",
      "[3]\tvalidation_0-mae:16.51700\n",
      "[4]\tvalidation_0-mae:16.67753\n",
      "[0]\tvalidation_0-mae:15.09347\n",
      "[1]\tvalidation_0-mae:15.35862\n",
      "[2]\tvalidation_0-mae:15.46857\n",
      "[3]\tvalidation_0-mae:15.67131\n",
      "[4]\tvalidation_0-mae:15.98467\n"
     ]
    },
    {
     "name": "stderr",
     "output_type": "stream",
     "text": [
      "D:\\Anaconda3\\lib\\site-packages\\xgboost\\sklearn.py:793: UserWarning: `early_stopping_rounds` in `fit` method is deprecated for better compatibility with scikit-learn, use `early_stopping_rounds` in constructor or`set_params` instead.\n",
      "  warnings.warn(\n",
      "D:\\Anaconda3\\lib\\site-packages\\xgboost\\sklearn.py:793: UserWarning: `early_stopping_rounds` in `fit` method is deprecated for better compatibility with scikit-learn, use `early_stopping_rounds` in constructor or`set_params` instead.\n",
      "  warnings.warn(\n"
     ]
    },
    {
     "name": "stdout",
     "output_type": "stream",
     "text": [
      "[0]\tvalidation_0-mae:15.11872\n",
      "[1]\tvalidation_0-mae:15.70358\n",
      "[2]\tvalidation_0-mae:15.88847\n",
      "[3]\tvalidation_0-mae:16.50616\n",
      "[4]\tvalidation_0-mae:16.69294\n",
      "[5]\tvalidation_0-mae:16.87161\n",
      "[0]\tvalidation_0-mae:15.09673\n",
      "[1]\tvalidation_0-mae:15.14812\n",
      "[2]\tvalidation_0-mae:15.35079\n",
      "[3]\tvalidation_0-mae:15.65348\n",
      "[4]\tvalidation_0-mae:15.90248\n",
      "[5]\tvalidation_0-mae:16.19145\n"
     ]
    },
    {
     "name": "stderr",
     "output_type": "stream",
     "text": [
      "D:\\Anaconda3\\lib\\site-packages\\xgboost\\sklearn.py:793: UserWarning: `early_stopping_rounds` in `fit` method is deprecated for better compatibility with scikit-learn, use `early_stopping_rounds` in constructor or`set_params` instead.\n",
      "  warnings.warn(\n",
      "D:\\Anaconda3\\lib\\site-packages\\xgboost\\sklearn.py:793: UserWarning: `early_stopping_rounds` in `fit` method is deprecated for better compatibility with scikit-learn, use `early_stopping_rounds` in constructor or`set_params` instead.\n",
      "  warnings.warn(\n"
     ]
    },
    {
     "name": "stdout",
     "output_type": "stream",
     "text": [
      "[0]\tvalidation_0-mae:15.11338\n",
      "[1]\tvalidation_0-mae:15.26338\n",
      "[2]\tvalidation_0-mae:15.47773\n",
      "[3]\tvalidation_0-mae:15.85041\n",
      "[4]\tvalidation_0-mae:16.19393\n",
      "[0]\tvalidation_0-mae:15.10161\n",
      "[1]\tvalidation_0-mae:15.36344\n",
      "[2]\tvalidation_0-mae:15.53807\n",
      "[3]\tvalidation_0-mae:15.74333\n",
      "[4]\tvalidation_0-mae:16.00400\n"
     ]
    },
    {
     "name": "stderr",
     "output_type": "stream",
     "text": [
      "D:\\Anaconda3\\lib\\site-packages\\xgboost\\sklearn.py:793: UserWarning: `early_stopping_rounds` in `fit` method is deprecated for better compatibility with scikit-learn, use `early_stopping_rounds` in constructor or`set_params` instead.\n",
      "  warnings.warn(\n",
      "D:\\Anaconda3\\lib\\site-packages\\xgboost\\sklearn.py:793: UserWarning: `early_stopping_rounds` in `fit` method is deprecated for better compatibility with scikit-learn, use `early_stopping_rounds` in constructor or`set_params` instead.\n",
      "  warnings.warn(\n"
     ]
    },
    {
     "name": "stdout",
     "output_type": "stream",
     "text": [
      "[0]\tvalidation_0-mae:15.12873\n",
      "[1]\tvalidation_0-mae:15.70066\n",
      "[2]\tvalidation_0-mae:15.87658\n",
      "[3]\tvalidation_0-mae:16.51700\n",
      "[4]\tvalidation_0-mae:16.67753\n",
      "[0]\tvalidation_0-mae:15.09347\n",
      "[1]\tvalidation_0-mae:15.35862\n",
      "[2]\tvalidation_0-mae:15.46857\n",
      "[3]\tvalidation_0-mae:15.67131\n",
      "[4]\tvalidation_0-mae:15.98467\n",
      "[5]\tvalidation_0-mae:16.33810\n"
     ]
    },
    {
     "name": "stderr",
     "output_type": "stream",
     "text": [
      "D:\\Anaconda3\\lib\\site-packages\\xgboost\\sklearn.py:793: UserWarning: `early_stopping_rounds` in `fit` method is deprecated for better compatibility with scikit-learn, use `early_stopping_rounds` in constructor or`set_params` instead.\n",
      "  warnings.warn(\n",
      "D:\\Anaconda3\\lib\\site-packages\\xgboost\\sklearn.py:793: UserWarning: `early_stopping_rounds` in `fit` method is deprecated for better compatibility with scikit-learn, use `early_stopping_rounds` in constructor or`set_params` instead.\n",
      "  warnings.warn(\n"
     ]
    },
    {
     "name": "stdout",
     "output_type": "stream",
     "text": [
      "[0]\tvalidation_0-mae:15.11872\n",
      "[1]\tvalidation_0-mae:15.70358\n",
      "[2]\tvalidation_0-mae:15.88847\n",
      "[3]\tvalidation_0-mae:16.50616\n",
      "[4]\tvalidation_0-mae:16.69294\n",
      "[0]\tvalidation_0-mae:15.09673\n",
      "[1]\tvalidation_0-mae:15.14812\n",
      "[2]\tvalidation_0-mae:15.35079\n",
      "[3]\tvalidation_0-mae:15.65348\n",
      "[4]\tvalidation_0-mae:15.90248\n"
     ]
    },
    {
     "name": "stderr",
     "output_type": "stream",
     "text": [
      "D:\\Anaconda3\\lib\\site-packages\\xgboost\\sklearn.py:793: UserWarning: `early_stopping_rounds` in `fit` method is deprecated for better compatibility with scikit-learn, use `early_stopping_rounds` in constructor or`set_params` instead.\n",
      "  warnings.warn(\n",
      "D:\\Anaconda3\\lib\\site-packages\\xgboost\\sklearn.py:793: UserWarning: `early_stopping_rounds` in `fit` method is deprecated for better compatibility with scikit-learn, use `early_stopping_rounds` in constructor or`set_params` instead.\n",
      "  warnings.warn(\n"
     ]
    },
    {
     "name": "stdout",
     "output_type": "stream",
     "text": [
      "[0]\tvalidation_0-mae:15.11338\n",
      "[1]\tvalidation_0-mae:15.26338\n",
      "[2]\tvalidation_0-mae:15.47773\n",
      "[3]\tvalidation_0-mae:15.85041\n",
      "[4]\tvalidation_0-mae:16.19393\n",
      "[0]\tvalidation_0-mae:15.10161\n",
      "[1]\tvalidation_0-mae:15.36344\n",
      "[2]\tvalidation_0-mae:15.53807\n",
      "[3]\tvalidation_0-mae:15.74333\n",
      "[4]\tvalidation_0-mae:16.00400\n",
      "[5]\tvalidation_0-mae:16.32549\n"
     ]
    },
    {
     "name": "stderr",
     "output_type": "stream",
     "text": [
      "D:\\Anaconda3\\lib\\site-packages\\xgboost\\sklearn.py:793: UserWarning: `early_stopping_rounds` in `fit` method is deprecated for better compatibility with scikit-learn, use `early_stopping_rounds` in constructor or`set_params` instead.\n",
      "  warnings.warn(\n",
      "D:\\Anaconda3\\lib\\site-packages\\xgboost\\sklearn.py:793: UserWarning: `early_stopping_rounds` in `fit` method is deprecated for better compatibility with scikit-learn, use `early_stopping_rounds` in constructor or`set_params` instead.\n",
      "  warnings.warn(\n"
     ]
    },
    {
     "name": "stdout",
     "output_type": "stream",
     "text": [
      "[0]\tvalidation_0-mae:15.12873\n",
      "[1]\tvalidation_0-mae:15.70066\n",
      "[2]\tvalidation_0-mae:15.87658\n",
      "[3]\tvalidation_0-mae:16.51700\n",
      "[4]\tvalidation_0-mae:16.67753\n",
      "[0]\tvalidation_0-mae:15.09347\n",
      "[1]\tvalidation_0-mae:15.35862\n",
      "[2]\tvalidation_0-mae:15.46857\n",
      "[3]\tvalidation_0-mae:15.67131\n",
      "[4]\tvalidation_0-mae:15.98467\n"
     ]
    },
    {
     "name": "stderr",
     "output_type": "stream",
     "text": [
      "D:\\Anaconda3\\lib\\site-packages\\xgboost\\sklearn.py:793: UserWarning: `early_stopping_rounds` in `fit` method is deprecated for better compatibility with scikit-learn, use `early_stopping_rounds` in constructor or`set_params` instead.\n",
      "  warnings.warn(\n",
      "D:\\Anaconda3\\lib\\site-packages\\xgboost\\sklearn.py:793: UserWarning: `early_stopping_rounds` in `fit` method is deprecated for better compatibility with scikit-learn, use `early_stopping_rounds` in constructor or`set_params` instead.\n",
      "  warnings.warn(\n"
     ]
    },
    {
     "name": "stdout",
     "output_type": "stream",
     "text": [
      "[0]\tvalidation_0-mae:15.11872\n",
      "[1]\tvalidation_0-mae:15.70358\n",
      "[2]\tvalidation_0-mae:15.88847\n",
      "[3]\tvalidation_0-mae:16.50616\n",
      "[4]\tvalidation_0-mae:16.69294\n",
      "[0]\tvalidation_0-mae:15.09673\n",
      "[1]\tvalidation_0-mae:15.14812\n",
      "[2]\tvalidation_0-mae:15.35079\n",
      "[3]\tvalidation_0-mae:15.65348\n",
      "[4]\tvalidation_0-mae:15.90248\n",
      "[5]\tvalidation_0-mae:16.19145\n"
     ]
    },
    {
     "name": "stderr",
     "output_type": "stream",
     "text": [
      "D:\\Anaconda3\\lib\\site-packages\\xgboost\\sklearn.py:793: UserWarning: `early_stopping_rounds` in `fit` method is deprecated for better compatibility with scikit-learn, use `early_stopping_rounds` in constructor or`set_params` instead.\n",
      "  warnings.warn(\n",
      "D:\\Anaconda3\\lib\\site-packages\\xgboost\\sklearn.py:793: UserWarning: `early_stopping_rounds` in `fit` method is deprecated for better compatibility with scikit-learn, use `early_stopping_rounds` in constructor or`set_params` instead.\n",
      "  warnings.warn(\n"
     ]
    },
    {
     "name": "stdout",
     "output_type": "stream",
     "text": [
      "[0]\tvalidation_0-mae:15.11338\n",
      "[1]\tvalidation_0-mae:15.26338\n",
      "[2]\tvalidation_0-mae:15.47773\n",
      "[3]\tvalidation_0-mae:15.85041\n",
      "[4]\tvalidation_0-mae:16.19393\n",
      "[0]\tvalidation_0-mae:15.05774\n",
      "[1]\tvalidation_0-mae:15.28309\n",
      "[2]\tvalidation_0-mae:15.35449\n",
      "[3]\tvalidation_0-mae:15.58320\n",
      "[4]\tvalidation_0-mae:15.87475\n"
     ]
    },
    {
     "name": "stderr",
     "output_type": "stream",
     "text": [
      "D:\\Anaconda3\\lib\\site-packages\\xgboost\\sklearn.py:793: UserWarning: `early_stopping_rounds` in `fit` method is deprecated for better compatibility with scikit-learn, use `early_stopping_rounds` in constructor or`set_params` instead.\n",
      "  warnings.warn(\n",
      "D:\\Anaconda3\\lib\\site-packages\\xgboost\\sklearn.py:793: UserWarning: `early_stopping_rounds` in `fit` method is deprecated for better compatibility with scikit-learn, use `early_stopping_rounds` in constructor or`set_params` instead.\n",
      "  warnings.warn(\n"
     ]
    },
    {
     "name": "stdout",
     "output_type": "stream",
     "text": [
      "[0]\tvalidation_0-mae:15.05501\n",
      "[1]\tvalidation_0-mae:15.62840\n",
      "[2]\tvalidation_0-mae:15.74448\n",
      "[3]\tvalidation_0-mae:16.35635\n",
      "[4]\tvalidation_0-mae:16.55824\n",
      "[0]\tvalidation_0-mae:15.11637\n",
      "[1]\tvalidation_0-mae:15.33919\n",
      "[2]\tvalidation_0-mae:15.43031\n",
      "[3]\tvalidation_0-mae:15.60147\n",
      "[4]\tvalidation_0-mae:15.84329\n",
      "[5]\tvalidation_0-mae:16.16255\n"
     ]
    },
    {
     "name": "stderr",
     "output_type": "stream",
     "text": [
      "D:\\Anaconda3\\lib\\site-packages\\xgboost\\sklearn.py:793: UserWarning: `early_stopping_rounds` in `fit` method is deprecated for better compatibility with scikit-learn, use `early_stopping_rounds` in constructor or`set_params` instead.\n",
      "  warnings.warn(\n",
      "D:\\Anaconda3\\lib\\site-packages\\xgboost\\sklearn.py:793: UserWarning: `early_stopping_rounds` in `fit` method is deprecated for better compatibility with scikit-learn, use `early_stopping_rounds` in constructor or`set_params` instead.\n",
      "  warnings.warn(\n"
     ]
    },
    {
     "name": "stdout",
     "output_type": "stream",
     "text": [
      "[0]\tvalidation_0-mae:15.08805\n",
      "[1]\tvalidation_0-mae:15.64911\n",
      "[2]\tvalidation_0-mae:15.79864\n",
      "[3]\tvalidation_0-mae:16.41190\n",
      "[4]\tvalidation_0-mae:16.59999\n",
      "[0]\tvalidation_0-mae:15.07358\n",
      "[1]\tvalidation_0-mae:15.19091\n",
      "[2]\tvalidation_0-mae:15.32931\n",
      "[3]\tvalidation_0-mae:15.60457\n",
      "[4]\tvalidation_0-mae:15.87312\n"
     ]
    },
    {
     "name": "stderr",
     "output_type": "stream",
     "text": [
      "D:\\Anaconda3\\lib\\site-packages\\xgboost\\sklearn.py:793: UserWarning: `early_stopping_rounds` in `fit` method is deprecated for better compatibility with scikit-learn, use `early_stopping_rounds` in constructor or`set_params` instead.\n",
      "  warnings.warn(\n",
      "D:\\Anaconda3\\lib\\site-packages\\xgboost\\sklearn.py:793: UserWarning: `early_stopping_rounds` in `fit` method is deprecated for better compatibility with scikit-learn, use `early_stopping_rounds` in constructor or`set_params` instead.\n",
      "  warnings.warn(\n"
     ]
    },
    {
     "name": "stdout",
     "output_type": "stream",
     "text": [
      "[0]\tvalidation_0-mae:15.09160\n",
      "[1]\tvalidation_0-mae:15.15554\n",
      "[2]\tvalidation_0-mae:15.34657\n",
      "[3]\tvalidation_0-mae:15.75605\n",
      "[4]\tvalidation_0-mae:16.08577\n",
      "[5]\tvalidation_0-mae:16.39146\n",
      "[0]\tvalidation_0-mae:15.05774\n",
      "[1]\tvalidation_0-mae:15.28309\n",
      "[2]\tvalidation_0-mae:15.35449\n",
      "[3]\tvalidation_0-mae:15.58320\n",
      "[4]\tvalidation_0-mae:15.87475\n"
     ]
    },
    {
     "name": "stderr",
     "output_type": "stream",
     "text": [
      "D:\\Anaconda3\\lib\\site-packages\\xgboost\\sklearn.py:793: UserWarning: `early_stopping_rounds` in `fit` method is deprecated for better compatibility with scikit-learn, use `early_stopping_rounds` in constructor or`set_params` instead.\n",
      "  warnings.warn(\n",
      "D:\\Anaconda3\\lib\\site-packages\\xgboost\\sklearn.py:793: UserWarning: `early_stopping_rounds` in `fit` method is deprecated for better compatibility with scikit-learn, use `early_stopping_rounds` in constructor or`set_params` instead.\n",
      "  warnings.warn(\n"
     ]
    },
    {
     "name": "stdout",
     "output_type": "stream",
     "text": [
      "[0]\tvalidation_0-mae:15.05501\n",
      "[1]\tvalidation_0-mae:15.62840\n",
      "[2]\tvalidation_0-mae:15.74448\n",
      "[3]\tvalidation_0-mae:16.35635\n",
      "[4]\tvalidation_0-mae:16.55824\n",
      "[0]\tvalidation_0-mae:15.11637\n",
      "[1]\tvalidation_0-mae:15.33919\n",
      "[2]\tvalidation_0-mae:15.43031\n",
      "[3]\tvalidation_0-mae:15.60147\n",
      "[4]\tvalidation_0-mae:15.84329\n"
     ]
    },
    {
     "name": "stderr",
     "output_type": "stream",
     "text": [
      "D:\\Anaconda3\\lib\\site-packages\\xgboost\\sklearn.py:793: UserWarning: `early_stopping_rounds` in `fit` method is deprecated for better compatibility with scikit-learn, use `early_stopping_rounds` in constructor or`set_params` instead.\n",
      "  warnings.warn(\n",
      "D:\\Anaconda3\\lib\\site-packages\\xgboost\\sklearn.py:793: UserWarning: `early_stopping_rounds` in `fit` method is deprecated for better compatibility with scikit-learn, use `early_stopping_rounds` in constructor or`set_params` instead.\n",
      "  warnings.warn(\n"
     ]
    },
    {
     "name": "stdout",
     "output_type": "stream",
     "text": [
      "[0]\tvalidation_0-mae:15.08805\n",
      "[1]\tvalidation_0-mae:15.64911\n",
      "[2]\tvalidation_0-mae:15.79864\n",
      "[3]\tvalidation_0-mae:16.41190\n",
      "[4]\tvalidation_0-mae:16.59999\n",
      "[5]\tvalidation_0-mae:16.77852\n",
      "[0]\tvalidation_0-mae:15.07358\n",
      "[1]\tvalidation_0-mae:15.19091\n",
      "[2]\tvalidation_0-mae:15.32931\n",
      "[3]\tvalidation_0-mae:15.60457\n",
      "[4]\tvalidation_0-mae:15.87312\n",
      "[5]\tvalidation_0-mae:16.12642\n"
     ]
    },
    {
     "name": "stderr",
     "output_type": "stream",
     "text": [
      "D:\\Anaconda3\\lib\\site-packages\\xgboost\\sklearn.py:793: UserWarning: `early_stopping_rounds` in `fit` method is deprecated for better compatibility with scikit-learn, use `early_stopping_rounds` in constructor or`set_params` instead.\n",
      "  warnings.warn(\n",
      "D:\\Anaconda3\\lib\\site-packages\\xgboost\\sklearn.py:793: UserWarning: `early_stopping_rounds` in `fit` method is deprecated for better compatibility with scikit-learn, use `early_stopping_rounds` in constructor or`set_params` instead.\n",
      "  warnings.warn(\n"
     ]
    },
    {
     "name": "stdout",
     "output_type": "stream",
     "text": [
      "[0]\tvalidation_0-mae:15.09160\n",
      "[1]\tvalidation_0-mae:15.15554\n",
      "[2]\tvalidation_0-mae:15.34657\n",
      "[3]\tvalidation_0-mae:15.75605\n",
      "[4]\tvalidation_0-mae:16.08577\n",
      "[0]\tvalidation_0-mae:15.05774\n",
      "[1]\tvalidation_0-mae:15.28309\n",
      "[2]\tvalidation_0-mae:15.35449\n",
      "[3]\tvalidation_0-mae:15.58320\n",
      "[4]\tvalidation_0-mae:15.87475\n"
     ]
    },
    {
     "name": "stderr",
     "output_type": "stream",
     "text": [
      "D:\\Anaconda3\\lib\\site-packages\\xgboost\\sklearn.py:793: UserWarning: `early_stopping_rounds` in `fit` method is deprecated for better compatibility with scikit-learn, use `early_stopping_rounds` in constructor or`set_params` instead.\n",
      "  warnings.warn(\n",
      "D:\\Anaconda3\\lib\\site-packages\\xgboost\\sklearn.py:793: UserWarning: `early_stopping_rounds` in `fit` method is deprecated for better compatibility with scikit-learn, use `early_stopping_rounds` in constructor or`set_params` instead.\n",
      "  warnings.warn(\n"
     ]
    },
    {
     "name": "stdout",
     "output_type": "stream",
     "text": [
      "[0]\tvalidation_0-mae:15.05501\n",
      "[1]\tvalidation_0-mae:15.62840\n",
      "[2]\tvalidation_0-mae:15.74448\n",
      "[3]\tvalidation_0-mae:16.35635\n",
      "[4]\tvalidation_0-mae:16.55824\n",
      "[5]\tvalidation_0-mae:16.75906\n",
      "[0]\tvalidation_0-mae:15.11637\n",
      "[1]\tvalidation_0-mae:15.33919\n",
      "[2]\tvalidation_0-mae:15.43031\n",
      "[3]\tvalidation_0-mae:15.60147\n",
      "[4]\tvalidation_0-mae:15.84329\n",
      "[5]\tvalidation_0-mae:16.16255\n"
     ]
    },
    {
     "name": "stderr",
     "output_type": "stream",
     "text": [
      "D:\\Anaconda3\\lib\\site-packages\\xgboost\\sklearn.py:793: UserWarning: `early_stopping_rounds` in `fit` method is deprecated for better compatibility with scikit-learn, use `early_stopping_rounds` in constructor or`set_params` instead.\n",
      "  warnings.warn(\n",
      "D:\\Anaconda3\\lib\\site-packages\\xgboost\\sklearn.py:793: UserWarning: `early_stopping_rounds` in `fit` method is deprecated for better compatibility with scikit-learn, use `early_stopping_rounds` in constructor or`set_params` instead.\n",
      "  warnings.warn(\n"
     ]
    },
    {
     "name": "stdout",
     "output_type": "stream",
     "text": [
      "[0]\tvalidation_0-mae:15.08805\n",
      "[1]\tvalidation_0-mae:15.64911\n",
      "[2]\tvalidation_0-mae:15.79864\n",
      "[3]\tvalidation_0-mae:16.41190\n",
      "[4]\tvalidation_0-mae:16.59999\n",
      "[5]\tvalidation_0-mae:16.77852\n",
      "[0]\tvalidation_0-mae:15.07358\n",
      "[1]\tvalidation_0-mae:15.19091\n",
      "[2]\tvalidation_0-mae:15.32931\n",
      "[3]\tvalidation_0-mae:15.60457\n",
      "[4]\tvalidation_0-mae:15.87312\n"
     ]
    },
    {
     "name": "stderr",
     "output_type": "stream",
     "text": [
      "D:\\Anaconda3\\lib\\site-packages\\xgboost\\sklearn.py:793: UserWarning: `early_stopping_rounds` in `fit` method is deprecated for better compatibility with scikit-learn, use `early_stopping_rounds` in constructor or`set_params` instead.\n",
      "  warnings.warn(\n",
      "D:\\Anaconda3\\lib\\site-packages\\xgboost\\sklearn.py:793: UserWarning: `early_stopping_rounds` in `fit` method is deprecated for better compatibility with scikit-learn, use `early_stopping_rounds` in constructor or`set_params` instead.\n",
      "  warnings.warn(\n"
     ]
    },
    {
     "name": "stdout",
     "output_type": "stream",
     "text": [
      "[0]\tvalidation_0-mae:15.09160\n",
      "[1]\tvalidation_0-mae:15.15554\n",
      "[2]\tvalidation_0-mae:15.34657\n",
      "[3]\tvalidation_0-mae:15.75605\n",
      "[4]\tvalidation_0-mae:16.08577\n",
      "[0]\tvalidation_0-mae:15.06118\n",
      "[1]\tvalidation_0-mae:15.29633\n",
      "[2]\tvalidation_0-mae:15.39627\n",
      "[3]\tvalidation_0-mae:15.64119\n",
      "[4]\tvalidation_0-mae:15.91572\n",
      "[5]\tvalidation_0-mae:16.24443\n"
     ]
    },
    {
     "name": "stderr",
     "output_type": "stream",
     "text": [
      "D:\\Anaconda3\\lib\\site-packages\\xgboost\\sklearn.py:793: UserWarning: `early_stopping_rounds` in `fit` method is deprecated for better compatibility with scikit-learn, use `early_stopping_rounds` in constructor or`set_params` instead.\n",
      "  warnings.warn(\n",
      "D:\\Anaconda3\\lib\\site-packages\\xgboost\\sklearn.py:793: UserWarning: `early_stopping_rounds` in `fit` method is deprecated for better compatibility with scikit-learn, use `early_stopping_rounds` in constructor or`set_params` instead.\n",
      "  warnings.warn(\n"
     ]
    },
    {
     "name": "stdout",
     "output_type": "stream",
     "text": [
      "[0]\tvalidation_0-mae:15.09365\n",
      "[1]\tvalidation_0-mae:15.68765\n",
      "[2]\tvalidation_0-mae:15.83520\n",
      "[3]\tvalidation_0-mae:16.45968\n",
      "[4]\tvalidation_0-mae:16.64144\n",
      "[5]\tvalidation_0-mae:16.82432\n",
      "[0]\tvalidation_0-mae:15.15315\n",
      "[1]\tvalidation_0-mae:15.34948\n",
      "[2]\tvalidation_0-mae:15.43477\n",
      "[3]\tvalidation_0-mae:15.63317\n",
      "[4]\tvalidation_0-mae:15.83438\n"
     ]
    },
    {
     "name": "stderr",
     "output_type": "stream",
     "text": [
      "D:\\Anaconda3\\lib\\site-packages\\xgboost\\sklearn.py:793: UserWarning: `early_stopping_rounds` in `fit` method is deprecated for better compatibility with scikit-learn, use `early_stopping_rounds` in constructor or`set_params` instead.\n",
      "  warnings.warn(\n",
      "D:\\Anaconda3\\lib\\site-packages\\xgboost\\sklearn.py:793: UserWarning: `early_stopping_rounds` in `fit` method is deprecated for better compatibility with scikit-learn, use `early_stopping_rounds` in constructor or`set_params` instead.\n",
      "  warnings.warn(\n"
     ]
    },
    {
     "name": "stdout",
     "output_type": "stream",
     "text": [
      "[0]\tvalidation_0-mae:15.01923\n",
      "[1]\tvalidation_0-mae:15.60819\n",
      "[2]\tvalidation_0-mae:15.75759\n",
      "[3]\tvalidation_0-mae:16.35568\n",
      "[4]\tvalidation_0-mae:16.53606\n",
      "[0]\tvalidation_0-mae:15.07457\n",
      "[1]\tvalidation_0-mae:15.18396\n",
      "[2]\tvalidation_0-mae:15.37736\n",
      "[3]\tvalidation_0-mae:15.61972\n",
      "[4]\tvalidation_0-mae:15.89535\n"
     ]
    },
    {
     "name": "stderr",
     "output_type": "stream",
     "text": [
      "D:\\Anaconda3\\lib\\site-packages\\xgboost\\sklearn.py:793: UserWarning: `early_stopping_rounds` in `fit` method is deprecated for better compatibility with scikit-learn, use `early_stopping_rounds` in constructor or`set_params` instead.\n",
      "  warnings.warn(\n",
      "D:\\Anaconda3\\lib\\site-packages\\xgboost\\sklearn.py:793: UserWarning: `early_stopping_rounds` in `fit` method is deprecated for better compatibility with scikit-learn, use `early_stopping_rounds` in constructor or`set_params` instead.\n",
      "  warnings.warn(\n"
     ]
    },
    {
     "name": "stdout",
     "output_type": "stream",
     "text": [
      "[0]\tvalidation_0-mae:15.08547\n",
      "[1]\tvalidation_0-mae:15.12445\n",
      "[2]\tvalidation_0-mae:15.36391\n",
      "[3]\tvalidation_0-mae:15.72267\n",
      "[4]\tvalidation_0-mae:16.04750\n",
      "[5]\tvalidation_0-mae:16.33709\n",
      "[0]\tvalidation_0-mae:15.06118\n",
      "[1]\tvalidation_0-mae:15.29633\n",
      "[2]\tvalidation_0-mae:15.39627\n",
      "[3]\tvalidation_0-mae:15.64119\n",
      "[4]\tvalidation_0-mae:15.91572\n"
     ]
    },
    {
     "name": "stderr",
     "output_type": "stream",
     "text": [
      "D:\\Anaconda3\\lib\\site-packages\\xgboost\\sklearn.py:793: UserWarning: `early_stopping_rounds` in `fit` method is deprecated for better compatibility with scikit-learn, use `early_stopping_rounds` in constructor or`set_params` instead.\n",
      "  warnings.warn(\n",
      "D:\\Anaconda3\\lib\\site-packages\\xgboost\\sklearn.py:793: UserWarning: `early_stopping_rounds` in `fit` method is deprecated for better compatibility with scikit-learn, use `early_stopping_rounds` in constructor or`set_params` instead.\n",
      "  warnings.warn(\n"
     ]
    },
    {
     "name": "stdout",
     "output_type": "stream",
     "text": [
      "[0]\tvalidation_0-mae:15.09365\n",
      "[1]\tvalidation_0-mae:15.68765\n",
      "[2]\tvalidation_0-mae:15.83520\n",
      "[3]\tvalidation_0-mae:16.45968\n",
      "[4]\tvalidation_0-mae:16.64144\n",
      "[5]\tvalidation_0-mae:16.82432\n",
      "[0]\tvalidation_0-mae:15.15315\n",
      "[1]\tvalidation_0-mae:15.34948\n",
      "[2]\tvalidation_0-mae:15.43477\n",
      "[3]\tvalidation_0-mae:15.63317\n",
      "[4]\tvalidation_0-mae:15.83438\n"
     ]
    },
    {
     "name": "stderr",
     "output_type": "stream",
     "text": [
      "D:\\Anaconda3\\lib\\site-packages\\xgboost\\sklearn.py:793: UserWarning: `early_stopping_rounds` in `fit` method is deprecated for better compatibility with scikit-learn, use `early_stopping_rounds` in constructor or`set_params` instead.\n",
      "  warnings.warn(\n",
      "D:\\Anaconda3\\lib\\site-packages\\xgboost\\sklearn.py:793: UserWarning: `early_stopping_rounds` in `fit` method is deprecated for better compatibility with scikit-learn, use `early_stopping_rounds` in constructor or`set_params` instead.\n",
      "  warnings.warn(\n"
     ]
    },
    {
     "name": "stdout",
     "output_type": "stream",
     "text": [
      "[0]\tvalidation_0-mae:15.01923\n",
      "[1]\tvalidation_0-mae:15.60819\n",
      "[2]\tvalidation_0-mae:15.75759\n",
      "[3]\tvalidation_0-mae:16.35568\n",
      "[4]\tvalidation_0-mae:16.53606\n",
      "[5]\tvalidation_0-mae:16.70367\n",
      "[0]\tvalidation_0-mae:15.07457\n",
      "[1]\tvalidation_0-mae:15.18396\n",
      "[2]\tvalidation_0-mae:15.37736\n",
      "[3]\tvalidation_0-mae:15.61972\n",
      "[4]\tvalidation_0-mae:15.89535\n",
      "[5]\tvalidation_0-mae:16.13896\n"
     ]
    },
    {
     "name": "stderr",
     "output_type": "stream",
     "text": [
      "D:\\Anaconda3\\lib\\site-packages\\xgboost\\sklearn.py:793: UserWarning: `early_stopping_rounds` in `fit` method is deprecated for better compatibility with scikit-learn, use `early_stopping_rounds` in constructor or`set_params` instead.\n",
      "  warnings.warn(\n",
      "D:\\Anaconda3\\lib\\site-packages\\xgboost\\sklearn.py:793: UserWarning: `early_stopping_rounds` in `fit` method is deprecated for better compatibility with scikit-learn, use `early_stopping_rounds` in constructor or`set_params` instead.\n",
      "  warnings.warn(\n"
     ]
    },
    {
     "name": "stdout",
     "output_type": "stream",
     "text": [
      "[0]\tvalidation_0-mae:15.08547\n",
      "[1]\tvalidation_0-mae:15.12445\n",
      "[2]\tvalidation_0-mae:15.36391\n",
      "[3]\tvalidation_0-mae:15.72267\n",
      "[4]\tvalidation_0-mae:16.04750\n",
      "[5]\tvalidation_0-mae:16.33709\n",
      "[0]\tvalidation_0-mae:15.06118\n",
      "[1]\tvalidation_0-mae:15.29633\n",
      "[2]\tvalidation_0-mae:15.39627\n",
      "[3]\tvalidation_0-mae:15.64119\n",
      "[4]\tvalidation_0-mae:15.91572\n"
     ]
    },
    {
     "name": "stderr",
     "output_type": "stream",
     "text": [
      "D:\\Anaconda3\\lib\\site-packages\\xgboost\\sklearn.py:793: UserWarning: `early_stopping_rounds` in `fit` method is deprecated for better compatibility with scikit-learn, use `early_stopping_rounds` in constructor or`set_params` instead.\n",
      "  warnings.warn(\n",
      "D:\\Anaconda3\\lib\\site-packages\\xgboost\\sklearn.py:793: UserWarning: `early_stopping_rounds` in `fit` method is deprecated for better compatibility with scikit-learn, use `early_stopping_rounds` in constructor or`set_params` instead.\n",
      "  warnings.warn(\n"
     ]
    },
    {
     "name": "stdout",
     "output_type": "stream",
     "text": [
      "[0]\tvalidation_0-mae:15.09365\n",
      "[1]\tvalidation_0-mae:15.68765\n",
      "[2]\tvalidation_0-mae:15.83520\n",
      "[3]\tvalidation_0-mae:16.45968\n",
      "[4]\tvalidation_0-mae:16.64144\n",
      "[0]\tvalidation_0-mae:15.15315\n",
      "[1]\tvalidation_0-mae:15.34948\n",
      "[2]\tvalidation_0-mae:15.43477\n",
      "[3]\tvalidation_0-mae:15.63317\n",
      "[4]\tvalidation_0-mae:15.83438\n"
     ]
    },
    {
     "name": "stderr",
     "output_type": "stream",
     "text": [
      "D:\\Anaconda3\\lib\\site-packages\\xgboost\\sklearn.py:793: UserWarning: `early_stopping_rounds` in `fit` method is deprecated for better compatibility with scikit-learn, use `early_stopping_rounds` in constructor or`set_params` instead.\n",
      "  warnings.warn(\n",
      "D:\\Anaconda3\\lib\\site-packages\\xgboost\\sklearn.py:793: UserWarning: `early_stopping_rounds` in `fit` method is deprecated for better compatibility with scikit-learn, use `early_stopping_rounds` in constructor or`set_params` instead.\n",
      "  warnings.warn(\n"
     ]
    },
    {
     "name": "stdout",
     "output_type": "stream",
     "text": [
      "[5]\tvalidation_0-mae:16.14350\n",
      "[0]\tvalidation_0-mae:15.01923\n",
      "[1]\tvalidation_0-mae:15.60819\n",
      "[2]\tvalidation_0-mae:15.75759\n",
      "[3]\tvalidation_0-mae:16.35568\n",
      "[4]\tvalidation_0-mae:16.53606\n",
      "[0]\tvalidation_0-mae:15.07457\n",
      "[1]\tvalidation_0-mae:15.18396\n",
      "[2]\tvalidation_0-mae:15.37736\n",
      "[3]\tvalidation_0-mae:15.61972\n",
      "[4]\tvalidation_0-mae:15.89535\n"
     ]
    },
    {
     "name": "stderr",
     "output_type": "stream",
     "text": [
      "D:\\Anaconda3\\lib\\site-packages\\xgboost\\sklearn.py:793: UserWarning: `early_stopping_rounds` in `fit` method is deprecated for better compatibility with scikit-learn, use `early_stopping_rounds` in constructor or`set_params` instead.\n",
      "  warnings.warn(\n",
      "D:\\Anaconda3\\lib\\site-packages\\xgboost\\sklearn.py:793: UserWarning: `early_stopping_rounds` in `fit` method is deprecated for better compatibility with scikit-learn, use `early_stopping_rounds` in constructor or`set_params` instead.\n",
      "  warnings.warn(\n"
     ]
    },
    {
     "name": "stdout",
     "output_type": "stream",
     "text": [
      "[0]\tvalidation_0-mae:15.08547\n",
      "[1]\tvalidation_0-mae:15.12445\n",
      "[2]\tvalidation_0-mae:15.36391\n",
      "[3]\tvalidation_0-mae:15.72267\n",
      "[4]\tvalidation_0-mae:16.04750\n",
      "[0]\tvalidation_0-mae:15.13576\n",
      "[1]\tvalidation_0-mae:15.12147\n",
      "[2]\tvalidation_0-mae:15.11004\n",
      "[3]\tvalidation_0-mae:15.10685\n",
      "[4]\tvalidation_0-mae:15.09804\n",
      "[5]\tvalidation_0-mae:15.09109\n",
      "[6]\tvalidation_0-mae:15.09190\n",
      "[7]\tvalidation_0-mae:15.09814\n"
     ]
    },
    {
     "name": "stderr",
     "output_type": "stream",
     "text": [
      "D:\\Anaconda3\\lib\\site-packages\\xgboost\\sklearn.py:793: UserWarning: `early_stopping_rounds` in `fit` method is deprecated for better compatibility with scikit-learn, use `early_stopping_rounds` in constructor or`set_params` instead.\n",
      "  warnings.warn(\n",
      "D:\\Anaconda3\\lib\\site-packages\\xgboost\\sklearn.py:793: UserWarning: `early_stopping_rounds` in `fit` method is deprecated for better compatibility with scikit-learn, use `early_stopping_rounds` in constructor or`set_params` instead.\n",
      "  warnings.warn(\n"
     ]
    },
    {
     "name": "stdout",
     "output_type": "stream",
     "text": [
      "[8]\tvalidation_0-mae:15.10682\n",
      "[9]\tvalidation_0-mae:15.10142\n",
      "[10]\tvalidation_0-mae:15.10267\n",
      "[0]\tvalidation_0-mae:15.14308\n",
      "[1]\tvalidation_0-mae:15.13384\n",
      "[2]\tvalidation_0-mae:15.11449\n",
      "[3]\tvalidation_0-mae:15.10577\n",
      "[4]\tvalidation_0-mae:15.09890\n",
      "[5]\tvalidation_0-mae:15.09899\n",
      "[6]\tvalidation_0-mae:15.09016\n",
      "[7]\tvalidation_0-mae:15.09517\n",
      "[8]\tvalidation_0-mae:15.09550\n",
      "[9]\tvalidation_0-mae:15.09374\n",
      "[10]\tvalidation_0-mae:15.10049\n",
      "[11]\tvalidation_0-mae:15.10324\n",
      "[0]\tvalidation_0-mae:15.13751\n",
      "[1]\tvalidation_0-mae:15.11721\n",
      "[2]\tvalidation_0-mae:15.09845\n"
     ]
    },
    {
     "name": "stderr",
     "output_type": "stream",
     "text": [
      "D:\\Anaconda3\\lib\\site-packages\\xgboost\\sklearn.py:793: UserWarning: `early_stopping_rounds` in `fit` method is deprecated for better compatibility with scikit-learn, use `early_stopping_rounds` in constructor or`set_params` instead.\n",
      "  warnings.warn(\n",
      "D:\\Anaconda3\\lib\\site-packages\\xgboost\\sklearn.py:793: UserWarning: `early_stopping_rounds` in `fit` method is deprecated for better compatibility with scikit-learn, use `early_stopping_rounds` in constructor or`set_params` instead.\n",
      "  warnings.warn(\n"
     ]
    },
    {
     "name": "stdout",
     "output_type": "stream",
     "text": [
      "[3]\tvalidation_0-mae:15.08412\n",
      "[4]\tvalidation_0-mae:15.07336\n",
      "[5]\tvalidation_0-mae:15.06714\n",
      "[6]\tvalidation_0-mae:15.07172\n",
      "[7]\tvalidation_0-mae:15.07320\n",
      "[8]\tvalidation_0-mae:15.07279\n",
      "[9]\tvalidation_0-mae:15.07271\n",
      "[0]\tvalidation_0-mae:15.13654\n",
      "[1]\tvalidation_0-mae:15.12109\n",
      "[2]\tvalidation_0-mae:15.10656\n",
      "[3]\tvalidation_0-mae:15.09872\n",
      "[4]\tvalidation_0-mae:15.09113\n",
      "[5]\tvalidation_0-mae:15.08967\n",
      "[6]\tvalidation_0-mae:15.09145\n",
      "[7]\tvalidation_0-mae:15.09219\n",
      "[8]\tvalidation_0-mae:15.09625\n",
      "[9]\tvalidation_0-mae:15.09627\n",
      "[0]\tvalidation_0-mae:15.13604\n",
      "[1]\tvalidation_0-mae:15.12000\n"
     ]
    },
    {
     "name": "stderr",
     "output_type": "stream",
     "text": [
      "D:\\Anaconda3\\lib\\site-packages\\xgboost\\sklearn.py:793: UserWarning: `early_stopping_rounds` in `fit` method is deprecated for better compatibility with scikit-learn, use `early_stopping_rounds` in constructor or`set_params` instead.\n",
      "  warnings.warn(\n",
      "D:\\Anaconda3\\lib\\site-packages\\xgboost\\sklearn.py:793: UserWarning: `early_stopping_rounds` in `fit` method is deprecated for better compatibility with scikit-learn, use `early_stopping_rounds` in constructor or`set_params` instead.\n",
      "  warnings.warn(\n"
     ]
    },
    {
     "name": "stdout",
     "output_type": "stream",
     "text": [
      "[2]\tvalidation_0-mae:15.10729\n",
      "[3]\tvalidation_0-mae:15.09648\n",
      "[4]\tvalidation_0-mae:15.09032\n",
      "[5]\tvalidation_0-mae:15.08901\n",
      "[6]\tvalidation_0-mae:15.08327\n",
      "[7]\tvalidation_0-mae:15.07983\n",
      "[8]\tvalidation_0-mae:15.08106\n",
      "[9]\tvalidation_0-mae:15.07992\n",
      "[10]\tvalidation_0-mae:15.08296\n",
      "[11]\tvalidation_0-mae:15.08347\n",
      "[12]\tvalidation_0-mae:15.08415\n",
      "[0]\tvalidation_0-mae:15.13555\n",
      "[1]\tvalidation_0-mae:15.12137\n",
      "[2]\tvalidation_0-mae:15.10963\n",
      "[3]\tvalidation_0-mae:15.10156\n",
      "[4]\tvalidation_0-mae:15.09721\n",
      "[5]\tvalidation_0-mae:15.09675\n",
      "[6]\tvalidation_0-mae:15.09593\n",
      "[7]\tvalidation_0-mae:15.09796\n",
      "[8]\tvalidation_0-mae:15.10077\n",
      "[9]\tvalidation_0-mae:15.10485\n",
      "[10]\tvalidation_0-mae:15.10925\n",
      "[0]\tvalidation_0-mae:15.13576\n",
      "[1]\tvalidation_0-mae:15.12147\n",
      "[2]\tvalidation_0-mae:15.11004\n",
      "[3]\tvalidation_0-mae:15.10685\n"
     ]
    },
    {
     "name": "stderr",
     "output_type": "stream",
     "text": [
      "D:\\Anaconda3\\lib\\site-packages\\xgboost\\sklearn.py:793: UserWarning: `early_stopping_rounds` in `fit` method is deprecated for better compatibility with scikit-learn, use `early_stopping_rounds` in constructor or`set_params` instead.\n",
      "  warnings.warn(\n",
      "D:\\Anaconda3\\lib\\site-packages\\xgboost\\sklearn.py:793: UserWarning: `early_stopping_rounds` in `fit` method is deprecated for better compatibility with scikit-learn, use `early_stopping_rounds` in constructor or`set_params` instead.\n",
      "  warnings.warn(\n"
     ]
    },
    {
     "name": "stdout",
     "output_type": "stream",
     "text": [
      "[4]\tvalidation_0-mae:15.09804\n",
      "[5]\tvalidation_0-mae:15.09109\n",
      "[6]\tvalidation_0-mae:15.09190\n",
      "[7]\tvalidation_0-mae:15.09814\n",
      "[8]\tvalidation_0-mae:15.10682\n",
      "[9]\tvalidation_0-mae:15.10142\n",
      "[0]\tvalidation_0-mae:15.14308\n",
      "[1]\tvalidation_0-mae:15.13384\n",
      "[2]\tvalidation_0-mae:15.11449\n",
      "[3]\tvalidation_0-mae:15.10577\n",
      "[4]\tvalidation_0-mae:15.09890\n",
      "[5]\tvalidation_0-mae:15.09899\n",
      "[6]\tvalidation_0-mae:15.09016\n",
      "[7]\tvalidation_0-mae:15.09517\n",
      "[8]\tvalidation_0-mae:15.09550\n",
      "[9]\tvalidation_0-mae:15.09374\n",
      "[10]\tvalidation_0-mae:15.10049\n",
      "[0]\tvalidation_0-mae:15.13751\n",
      "[1]\tvalidation_0-mae:15.11721\n"
     ]
    },
    {
     "name": "stderr",
     "output_type": "stream",
     "text": [
      "D:\\Anaconda3\\lib\\site-packages\\xgboost\\sklearn.py:793: UserWarning: `early_stopping_rounds` in `fit` method is deprecated for better compatibility with scikit-learn, use `early_stopping_rounds` in constructor or`set_params` instead.\n",
      "  warnings.warn(\n",
      "D:\\Anaconda3\\lib\\site-packages\\xgboost\\sklearn.py:793: UserWarning: `early_stopping_rounds` in `fit` method is deprecated for better compatibility with scikit-learn, use `early_stopping_rounds` in constructor or`set_params` instead.\n",
      "  warnings.warn(\n"
     ]
    },
    {
     "name": "stdout",
     "output_type": "stream",
     "text": [
      "[2]\tvalidation_0-mae:15.09845\n",
      "[3]\tvalidation_0-mae:15.08412\n",
      "[4]\tvalidation_0-mae:15.07336\n",
      "[5]\tvalidation_0-mae:15.06714\n",
      "[6]\tvalidation_0-mae:15.07172\n",
      "[7]\tvalidation_0-mae:15.07320\n",
      "[8]\tvalidation_0-mae:15.07279\n",
      "[9]\tvalidation_0-mae:15.07271\n",
      "[10]\tvalidation_0-mae:15.07626\n",
      "[0]\tvalidation_0-mae:15.13654\n",
      "[1]\tvalidation_0-mae:15.12109\n",
      "[2]\tvalidation_0-mae:15.10656\n",
      "[3]\tvalidation_0-mae:15.09872\n",
      "[4]\tvalidation_0-mae:15.09113\n",
      "[5]\tvalidation_0-mae:15.08967\n",
      "[6]\tvalidation_0-mae:15.09145\n",
      "[7]\tvalidation_0-mae:15.09219\n",
      "[8]\tvalidation_0-mae:15.09625\n",
      "[9]\tvalidation_0-mae:15.09627\n",
      "[0]\tvalidation_0-mae:15.13604\n",
      "[1]\tvalidation_0-mae:15.12000\n",
      "[2]\tvalidation_0-mae:15.10729\n",
      "[3]\tvalidation_0-mae:15.09648\n",
      "[4]\tvalidation_0-mae:15.09032\n"
     ]
    },
    {
     "name": "stderr",
     "output_type": "stream",
     "text": [
      "D:\\Anaconda3\\lib\\site-packages\\xgboost\\sklearn.py:793: UserWarning: `early_stopping_rounds` in `fit` method is deprecated for better compatibility with scikit-learn, use `early_stopping_rounds` in constructor or`set_params` instead.\n",
      "  warnings.warn(\n",
      "D:\\Anaconda3\\lib\\site-packages\\xgboost\\sklearn.py:793: UserWarning: `early_stopping_rounds` in `fit` method is deprecated for better compatibility with scikit-learn, use `early_stopping_rounds` in constructor or`set_params` instead.\n",
      "  warnings.warn(\n"
     ]
    },
    {
     "name": "stdout",
     "output_type": "stream",
     "text": [
      "[5]\tvalidation_0-mae:15.08901\n",
      "[6]\tvalidation_0-mae:15.08327\n",
      "[7]\tvalidation_0-mae:15.07983\n",
      "[8]\tvalidation_0-mae:15.08106\n",
      "[9]\tvalidation_0-mae:15.07992\n",
      "[10]\tvalidation_0-mae:15.08296\n",
      "[11]\tvalidation_0-mae:15.08347\n",
      "[0]\tvalidation_0-mae:15.13555\n",
      "[1]\tvalidation_0-mae:15.12137\n",
      "[2]\tvalidation_0-mae:15.10963\n",
      "[3]\tvalidation_0-mae:15.10156\n",
      "[4]\tvalidation_0-mae:15.09721\n",
      "[5]\tvalidation_0-mae:15.09675\n",
      "[6]\tvalidation_0-mae:15.09593\n",
      "[7]\tvalidation_0-mae:15.09796\n",
      "[8]\tvalidation_0-mae:15.10077\n",
      "[9]\tvalidation_0-mae:15.10485\n",
      "[10]\tvalidation_0-mae:15.10925\n",
      "[11]\tvalidation_0-mae:15.11528\n",
      "[0]\tvalidation_0-mae:15.13576\n",
      "[1]\tvalidation_0-mae:15.12147\n",
      "[2]\tvalidation_0-mae:15.11004\n",
      "[3]\tvalidation_0-mae:15.10685\n"
     ]
    },
    {
     "name": "stderr",
     "output_type": "stream",
     "text": [
      "D:\\Anaconda3\\lib\\site-packages\\xgboost\\sklearn.py:793: UserWarning: `early_stopping_rounds` in `fit` method is deprecated for better compatibility with scikit-learn, use `early_stopping_rounds` in constructor or`set_params` instead.\n",
      "  warnings.warn(\n",
      "D:\\Anaconda3\\lib\\site-packages\\xgboost\\sklearn.py:793: UserWarning: `early_stopping_rounds` in `fit` method is deprecated for better compatibility with scikit-learn, use `early_stopping_rounds` in constructor or`set_params` instead.\n",
      "  warnings.warn(\n"
     ]
    },
    {
     "name": "stdout",
     "output_type": "stream",
     "text": [
      "[4]\tvalidation_0-mae:15.09804\n",
      "[5]\tvalidation_0-mae:15.09109\n",
      "[6]\tvalidation_0-mae:15.09190\n",
      "[7]\tvalidation_0-mae:15.09814\n",
      "[8]\tvalidation_0-mae:15.10682\n",
      "[9]\tvalidation_0-mae:15.10142\n",
      "[0]\tvalidation_0-mae:15.14308\n",
      "[1]\tvalidation_0-mae:15.13384\n",
      "[2]\tvalidation_0-mae:15.11449\n",
      "[3]\tvalidation_0-mae:15.10577\n",
      "[4]\tvalidation_0-mae:15.09890\n",
      "[5]\tvalidation_0-mae:15.09899\n",
      "[6]\tvalidation_0-mae:15.09016\n",
      "[7]\tvalidation_0-mae:15.09517\n",
      "[8]\tvalidation_0-mae:15.09550\n",
      "[9]\tvalidation_0-mae:15.09374\n",
      "[10]\tvalidation_0-mae:15.10049\n",
      "[0]\tvalidation_0-mae:15.13751\n",
      "[1]\tvalidation_0-mae:15.11721\n",
      "[2]\tvalidation_0-mae:15.09845\n"
     ]
    },
    {
     "name": "stderr",
     "output_type": "stream",
     "text": [
      "D:\\Anaconda3\\lib\\site-packages\\xgboost\\sklearn.py:793: UserWarning: `early_stopping_rounds` in `fit` method is deprecated for better compatibility with scikit-learn, use `early_stopping_rounds` in constructor or`set_params` instead.\n",
      "  warnings.warn(\n",
      "D:\\Anaconda3\\lib\\site-packages\\xgboost\\sklearn.py:793: UserWarning: `early_stopping_rounds` in `fit` method is deprecated for better compatibility with scikit-learn, use `early_stopping_rounds` in constructor or`set_params` instead.\n",
      "  warnings.warn(\n"
     ]
    },
    {
     "name": "stdout",
     "output_type": "stream",
     "text": [
      "[3]\tvalidation_0-mae:15.08412\n",
      "[4]\tvalidation_0-mae:15.07336\n",
      "[5]\tvalidation_0-mae:15.06714\n",
      "[6]\tvalidation_0-mae:15.07172\n",
      "[7]\tvalidation_0-mae:15.07320\n",
      "[8]\tvalidation_0-mae:15.07279\n",
      "[9]\tvalidation_0-mae:15.07271\n",
      "[0]\tvalidation_0-mae:15.13654\n",
      "[1]\tvalidation_0-mae:15.12109\n",
      "[2]\tvalidation_0-mae:15.10656\n",
      "[3]\tvalidation_0-mae:15.09872\n",
      "[4]\tvalidation_0-mae:15.09113\n",
      "[5]\tvalidation_0-mae:15.08967\n",
      "[6]\tvalidation_0-mae:15.09145\n",
      "[7]\tvalidation_0-mae:15.09219\n",
      "[8]\tvalidation_0-mae:15.09625\n",
      "[9]\tvalidation_0-mae:15.09627\n",
      "[0]\tvalidation_0-mae:15.13604\n",
      "[1]\tvalidation_0-mae:15.12000\n",
      "[2]\tvalidation_0-mae:15.10729\n",
      "[3]\tvalidation_0-mae:15.09648\n",
      "[4]\tvalidation_0-mae:15.09032\n"
     ]
    },
    {
     "name": "stderr",
     "output_type": "stream",
     "text": [
      "D:\\Anaconda3\\lib\\site-packages\\xgboost\\sklearn.py:793: UserWarning: `early_stopping_rounds` in `fit` method is deprecated for better compatibility with scikit-learn, use `early_stopping_rounds` in constructor or`set_params` instead.\n",
      "  warnings.warn(\n",
      "D:\\Anaconda3\\lib\\site-packages\\xgboost\\sklearn.py:793: UserWarning: `early_stopping_rounds` in `fit` method is deprecated for better compatibility with scikit-learn, use `early_stopping_rounds` in constructor or`set_params` instead.\n",
      "  warnings.warn(\n"
     ]
    },
    {
     "name": "stdout",
     "output_type": "stream",
     "text": [
      "[5]\tvalidation_0-mae:15.08901\n",
      "[6]\tvalidation_0-mae:15.08327\n",
      "[7]\tvalidation_0-mae:15.07983\n",
      "[8]\tvalidation_0-mae:15.08106\n",
      "[9]\tvalidation_0-mae:15.07992\n",
      "[10]\tvalidation_0-mae:15.08296\n",
      "[11]\tvalidation_0-mae:15.08347\n",
      "[12]\tvalidation_0-mae:15.08415\n",
      "[0]\tvalidation_0-mae:15.13555\n",
      "[1]\tvalidation_0-mae:15.12137\n",
      "[2]\tvalidation_0-mae:15.10963\n",
      "[3]\tvalidation_0-mae:15.10156\n",
      "[4]\tvalidation_0-mae:15.09721\n",
      "[5]\tvalidation_0-mae:15.09675\n",
      "[6]\tvalidation_0-mae:15.09593\n",
      "[7]\tvalidation_0-mae:15.09796\n",
      "[8]\tvalidation_0-mae:15.10077\n",
      "[9]\tvalidation_0-mae:15.10485\n",
      "[10]\tvalidation_0-mae:15.10925\n",
      "[0]\tvalidation_0-mae:15.13348\n",
      "[1]\tvalidation_0-mae:15.11996\n",
      "[2]\tvalidation_0-mae:15.09770\n"
     ]
    },
    {
     "name": "stderr",
     "output_type": "stream",
     "text": [
      "D:\\Anaconda3\\lib\\site-packages\\xgboost\\sklearn.py:793: UserWarning: `early_stopping_rounds` in `fit` method is deprecated for better compatibility with scikit-learn, use `early_stopping_rounds` in constructor or`set_params` instead.\n",
      "  warnings.warn(\n",
      "D:\\Anaconda3\\lib\\site-packages\\xgboost\\sklearn.py:793: UserWarning: `early_stopping_rounds` in `fit` method is deprecated for better compatibility with scikit-learn, use `early_stopping_rounds` in constructor or`set_params` instead.\n",
      "  warnings.warn(\n"
     ]
    },
    {
     "name": "stdout",
     "output_type": "stream",
     "text": [
      "[3]\tvalidation_0-mae:15.09070\n",
      "[4]\tvalidation_0-mae:15.08487\n",
      "[5]\tvalidation_0-mae:15.07560\n",
      "[6]\tvalidation_0-mae:15.07661\n",
      "[7]\tvalidation_0-mae:15.07168\n",
      "[8]\tvalidation_0-mae:15.07536\n",
      "[9]\tvalidation_0-mae:15.06833\n",
      "[10]\tvalidation_0-mae:15.06966\n",
      "[11]\tvalidation_0-mae:15.07560\n",
      "[12]\tvalidation_0-mae:15.07574\n",
      "[13]\tvalidation_0-mae:15.07843\n",
      "[14]\tvalidation_0-mae:15.08983\n",
      "[0]\tvalidation_0-mae:15.13188\n",
      "[1]\tvalidation_0-mae:15.11730\n",
      "[2]\tvalidation_0-mae:15.09892\n",
      "[3]\tvalidation_0-mae:15.09263\n",
      "[4]\tvalidation_0-mae:15.08282\n",
      "[5]\tvalidation_0-mae:15.07462\n",
      "[6]\tvalidation_0-mae:15.06571\n",
      "[7]\tvalidation_0-mae:15.06699\n",
      "[8]\tvalidation_0-mae:15.06791\n",
      "[9]\tvalidation_0-mae:15.06287\n",
      "[10]\tvalidation_0-mae:15.06433\n",
      "[11]\tvalidation_0-mae:15.06821\n",
      "[12]\tvalidation_0-mae:15.07126\n",
      "[13]\tvalidation_0-mae:15.07901\n",
      "[14]\tvalidation_0-mae:15.09486\n"
     ]
    },
    {
     "name": "stderr",
     "output_type": "stream",
     "text": [
      "D:\\Anaconda3\\lib\\site-packages\\xgboost\\sklearn.py:793: UserWarning: `early_stopping_rounds` in `fit` method is deprecated for better compatibility with scikit-learn, use `early_stopping_rounds` in constructor or`set_params` instead.\n",
      "  warnings.warn(\n",
      "D:\\Anaconda3\\lib\\site-packages\\xgboost\\sklearn.py:793: UserWarning: `early_stopping_rounds` in `fit` method is deprecated for better compatibility with scikit-learn, use `early_stopping_rounds` in constructor or`set_params` instead.\n",
      "  warnings.warn(\n"
     ]
    },
    {
     "name": "stdout",
     "output_type": "stream",
     "text": [
      "[0]\tvalidation_0-mae:15.13615\n",
      "[1]\tvalidation_0-mae:15.11565\n",
      "[2]\tvalidation_0-mae:15.09330\n",
      "[3]\tvalidation_0-mae:15.07784\n",
      "[4]\tvalidation_0-mae:15.06725\n",
      "[5]\tvalidation_0-mae:15.05984\n",
      "[6]\tvalidation_0-mae:15.06043\n",
      "[7]\tvalidation_0-mae:15.05828\n",
      "[8]\tvalidation_0-mae:15.05581\n",
      "[9]\tvalidation_0-mae:15.05633\n",
      "[10]\tvalidation_0-mae:15.06134\n",
      "[11]\tvalidation_0-mae:15.06401\n",
      "[12]\tvalidation_0-mae:15.06384\n",
      "[13]\tvalidation_0-mae:15.06656\n",
      "[0]\tvalidation_0-mae:15.13233\n",
      "[1]\tvalidation_0-mae:15.11210\n",
      "[2]\tvalidation_0-mae:15.09189\n",
      "[3]\tvalidation_0-mae:15.08109\n",
      "[4]\tvalidation_0-mae:15.07089\n",
      "[5]\tvalidation_0-mae:15.06574\n",
      "[6]\tvalidation_0-mae:15.06719\n",
      "[7]\tvalidation_0-mae:15.06625\n",
      "[8]\tvalidation_0-mae:15.06843\n",
      "[9]\tvalidation_0-mae:15.06510\n",
      "[10]\tvalidation_0-mae:15.06488\n",
      "[11]\tvalidation_0-mae:15.07068\n",
      "[12]\tvalidation_0-mae:15.07765\n",
      "[13]\tvalidation_0-mae:15.08152\n",
      "[14]\tvalidation_0-mae:15.09198\n",
      "[15]\tvalidation_0-mae:15.10209\n"
     ]
    },
    {
     "name": "stderr",
     "output_type": "stream",
     "text": [
      "D:\\Anaconda3\\lib\\site-packages\\xgboost\\sklearn.py:793: UserWarning: `early_stopping_rounds` in `fit` method is deprecated for better compatibility with scikit-learn, use `early_stopping_rounds` in constructor or`set_params` instead.\n",
      "  warnings.warn(\n",
      "D:\\Anaconda3\\lib\\site-packages\\xgboost\\sklearn.py:793: UserWarning: `early_stopping_rounds` in `fit` method is deprecated for better compatibility with scikit-learn, use `early_stopping_rounds` in constructor or`set_params` instead.\n",
      "  warnings.warn(\n"
     ]
    },
    {
     "name": "stdout",
     "output_type": "stream",
     "text": [
      "[0]\tvalidation_0-mae:15.13230\n",
      "[1]\tvalidation_0-mae:15.11380\n",
      "[2]\tvalidation_0-mae:15.09995\n",
      "[3]\tvalidation_0-mae:15.09148\n",
      "[4]\tvalidation_0-mae:15.08686\n",
      "[5]\tvalidation_0-mae:15.08164\n",
      "[6]\tvalidation_0-mae:15.07969\n",
      "[7]\tvalidation_0-mae:15.07727\n",
      "[8]\tvalidation_0-mae:15.06769\n",
      "[9]\tvalidation_0-mae:15.07125\n",
      "[10]\tvalidation_0-mae:15.06707\n",
      "[11]\tvalidation_0-mae:15.07282\n",
      "[12]\tvalidation_0-mae:15.07211\n",
      "[13]\tvalidation_0-mae:15.08197\n",
      "[14]\tvalidation_0-mae:15.08331\n",
      "[0]\tvalidation_0-mae:15.13101\n",
      "[1]\tvalidation_0-mae:15.11321\n",
      "[2]\tvalidation_0-mae:15.09829\n",
      "[3]\tvalidation_0-mae:15.08735\n",
      "[4]\tvalidation_0-mae:15.08051\n",
      "[5]\tvalidation_0-mae:15.07753\n",
      "[6]\tvalidation_0-mae:15.07341\n",
      "[7]\tvalidation_0-mae:15.07419\n",
      "[8]\tvalidation_0-mae:15.07302\n",
      "[9]\tvalidation_0-mae:15.07668\n",
      "[10]\tvalidation_0-mae:15.07818\n",
      "[11]\tvalidation_0-mae:15.08586\n",
      "[12]\tvalidation_0-mae:15.08933\n",
      "[13]\tvalidation_0-mae:15.09882\n",
      "[0]\tvalidation_0-mae:15.13348\n"
     ]
    },
    {
     "name": "stderr",
     "output_type": "stream",
     "text": [
      "D:\\Anaconda3\\lib\\site-packages\\xgboost\\sklearn.py:793: UserWarning: `early_stopping_rounds` in `fit` method is deprecated for better compatibility with scikit-learn, use `early_stopping_rounds` in constructor or`set_params` instead.\n",
      "  warnings.warn(\n",
      "D:\\Anaconda3\\lib\\site-packages\\xgboost\\sklearn.py:793: UserWarning: `early_stopping_rounds` in `fit` method is deprecated for better compatibility with scikit-learn, use `early_stopping_rounds` in constructor or`set_params` instead.\n",
      "  warnings.warn(\n"
     ]
    },
    {
     "name": "stdout",
     "output_type": "stream",
     "text": [
      "[1]\tvalidation_0-mae:15.11996\n",
      "[2]\tvalidation_0-mae:15.09770\n",
      "[3]\tvalidation_0-mae:15.09070\n",
      "[4]\tvalidation_0-mae:15.08487\n",
      "[5]\tvalidation_0-mae:15.07560\n",
      "[6]\tvalidation_0-mae:15.07661\n",
      "[7]\tvalidation_0-mae:15.07168\n",
      "[8]\tvalidation_0-mae:15.07536\n",
      "[9]\tvalidation_0-mae:15.06833\n",
      "[10]\tvalidation_0-mae:15.06966\n",
      "[11]\tvalidation_0-mae:15.07560\n",
      "[12]\tvalidation_0-mae:15.07574\n",
      "[13]\tvalidation_0-mae:15.07843\n",
      "[14]\tvalidation_0-mae:15.08983\n",
      "[0]\tvalidation_0-mae:15.13188\n",
      "[1]\tvalidation_0-mae:15.11730\n",
      "[2]\tvalidation_0-mae:15.09892\n",
      "[3]\tvalidation_0-mae:15.09263\n",
      "[4]\tvalidation_0-mae:15.08282\n",
      "[5]\tvalidation_0-mae:15.07462\n",
      "[6]\tvalidation_0-mae:15.06571\n",
      "[7]\tvalidation_0-mae:15.06699\n",
      "[8]\tvalidation_0-mae:15.06791\n",
      "[9]\tvalidation_0-mae:15.06287\n",
      "[10]\tvalidation_0-mae:15.06433\n",
      "[11]\tvalidation_0-mae:15.06821\n",
      "[12]\tvalidation_0-mae:15.07126\n",
      "[13]\tvalidation_0-mae:15.07901\n",
      "[14]\tvalidation_0-mae:15.09486\n"
     ]
    },
    {
     "name": "stderr",
     "output_type": "stream",
     "text": [
      "D:\\Anaconda3\\lib\\site-packages\\xgboost\\sklearn.py:793: UserWarning: `early_stopping_rounds` in `fit` method is deprecated for better compatibility with scikit-learn, use `early_stopping_rounds` in constructor or`set_params` instead.\n",
      "  warnings.warn(\n"
     ]
    },
    {
     "name": "stdout",
     "output_type": "stream",
     "text": [
      "[0]\tvalidation_0-mae:15.13615\n",
      "[1]\tvalidation_0-mae:15.11565\n",
      "[2]\tvalidation_0-mae:15.09330\n",
      "[3]\tvalidation_0-mae:15.07784\n",
      "[4]\tvalidation_0-mae:15.06725\n",
      "[5]\tvalidation_0-mae:15.05984\n",
      "[6]\tvalidation_0-mae:15.06043\n",
      "[7]\tvalidation_0-mae:15.05828\n",
      "[8]\tvalidation_0-mae:15.05581\n",
      "[9]\tvalidation_0-mae:15.05633\n",
      "[10]\tvalidation_0-mae:15.06134\n",
      "[11]\tvalidation_0-mae:15.06401\n",
      "[12]\tvalidation_0-mae:15.06384\n",
      "[13]\tvalidation_0-mae:15.06656\n"
     ]
    },
    {
     "name": "stderr",
     "output_type": "stream",
     "text": [
      "D:\\Anaconda3\\lib\\site-packages\\xgboost\\sklearn.py:793: UserWarning: `early_stopping_rounds` in `fit` method is deprecated for better compatibility with scikit-learn, use `early_stopping_rounds` in constructor or`set_params` instead.\n",
      "  warnings.warn(\n",
      "D:\\Anaconda3\\lib\\site-packages\\xgboost\\sklearn.py:793: UserWarning: `early_stopping_rounds` in `fit` method is deprecated for better compatibility with scikit-learn, use `early_stopping_rounds` in constructor or`set_params` instead.\n",
      "  warnings.warn(\n"
     ]
    },
    {
     "name": "stdout",
     "output_type": "stream",
     "text": [
      "[0]\tvalidation_0-mae:15.13233\n",
      "[1]\tvalidation_0-mae:15.11210\n",
      "[2]\tvalidation_0-mae:15.09189\n",
      "[3]\tvalidation_0-mae:15.08109\n",
      "[4]\tvalidation_0-mae:15.07089\n",
      "[5]\tvalidation_0-mae:15.06574\n",
      "[6]\tvalidation_0-mae:15.06719\n",
      "[7]\tvalidation_0-mae:15.06625\n",
      "[8]\tvalidation_0-mae:15.06843\n",
      "[9]\tvalidation_0-mae:15.06510\n",
      "[10]\tvalidation_0-mae:15.06488\n",
      "[11]\tvalidation_0-mae:15.07068\n",
      "[12]\tvalidation_0-mae:15.07765\n",
      "[13]\tvalidation_0-mae:15.08152\n",
      "[14]\tvalidation_0-mae:15.09198\n",
      "[0]\tvalidation_0-mae:15.13230\n",
      "[1]\tvalidation_0-mae:15.11380\n",
      "[2]\tvalidation_0-mae:15.09995\n",
      "[3]\tvalidation_0-mae:15.09148\n",
      "[4]\tvalidation_0-mae:15.08686\n",
      "[5]\tvalidation_0-mae:15.08164\n",
      "[6]\tvalidation_0-mae:15.07969\n",
      "[7]\tvalidation_0-mae:15.07727\n",
      "[8]\tvalidation_0-mae:15.06769\n",
      "[9]\tvalidation_0-mae:15.07125\n",
      "[10]\tvalidation_0-mae:15.06707\n",
      "[11]\tvalidation_0-mae:15.07282\n",
      "[12]\tvalidation_0-mae:15.07211\n",
      "[13]\tvalidation_0-mae:15.08197\n",
      "[14]\tvalidation_0-mae:15.08331\n",
      "[15]\tvalidation_0-mae:15.09566\n",
      "[0]\tvalidation_0-mae:15.13101\n"
     ]
    },
    {
     "name": "stderr",
     "output_type": "stream",
     "text": [
      "D:\\Anaconda3\\lib\\site-packages\\xgboost\\sklearn.py:793: UserWarning: `early_stopping_rounds` in `fit` method is deprecated for better compatibility with scikit-learn, use `early_stopping_rounds` in constructor or`set_params` instead.\n",
      "  warnings.warn(\n",
      "D:\\Anaconda3\\lib\\site-packages\\xgboost\\sklearn.py:793: UserWarning: `early_stopping_rounds` in `fit` method is deprecated for better compatibility with scikit-learn, use `early_stopping_rounds` in constructor or`set_params` instead.\n",
      "  warnings.warn(\n"
     ]
    },
    {
     "name": "stdout",
     "output_type": "stream",
     "text": [
      "[1]\tvalidation_0-mae:15.11321\n",
      "[2]\tvalidation_0-mae:15.09829\n",
      "[3]\tvalidation_0-mae:15.08735\n",
      "[4]\tvalidation_0-mae:15.08051\n",
      "[5]\tvalidation_0-mae:15.07753\n",
      "[6]\tvalidation_0-mae:15.07341\n",
      "[7]\tvalidation_0-mae:15.07419\n",
      "[8]\tvalidation_0-mae:15.07302\n",
      "[9]\tvalidation_0-mae:15.07668\n",
      "[10]\tvalidation_0-mae:15.07818\n",
      "[11]\tvalidation_0-mae:15.08586\n",
      "[12]\tvalidation_0-mae:15.08933\n",
      "[0]\tvalidation_0-mae:15.13348\n",
      "[1]\tvalidation_0-mae:15.11996\n",
      "[2]\tvalidation_0-mae:15.09770\n",
      "[3]\tvalidation_0-mae:15.09070\n",
      "[4]\tvalidation_0-mae:15.08487\n",
      "[5]\tvalidation_0-mae:15.07560\n",
      "[6]\tvalidation_0-mae:15.07661\n",
      "[7]\tvalidation_0-mae:15.07168\n",
      "[8]\tvalidation_0-mae:15.07536\n",
      "[9]\tvalidation_0-mae:15.06833\n",
      "[10]\tvalidation_0-mae:15.06966\n",
      "[11]\tvalidation_0-mae:15.07560\n",
      "[12]\tvalidation_0-mae:15.07574\n",
      "[13]\tvalidation_0-mae:15.07843\n"
     ]
    },
    {
     "name": "stderr",
     "output_type": "stream",
     "text": [
      "D:\\Anaconda3\\lib\\site-packages\\xgboost\\sklearn.py:793: UserWarning: `early_stopping_rounds` in `fit` method is deprecated for better compatibility with scikit-learn, use `early_stopping_rounds` in constructor or`set_params` instead.\n",
      "  warnings.warn(\n",
      "D:\\Anaconda3\\lib\\site-packages\\xgboost\\sklearn.py:793: UserWarning: `early_stopping_rounds` in `fit` method is deprecated for better compatibility with scikit-learn, use `early_stopping_rounds` in constructor or`set_params` instead.\n",
      "  warnings.warn(\n"
     ]
    },
    {
     "name": "stdout",
     "output_type": "stream",
     "text": [
      "[0]\tvalidation_0-mae:15.13188\n",
      "[1]\tvalidation_0-mae:15.11730\n",
      "[2]\tvalidation_0-mae:15.09892\n",
      "[3]\tvalidation_0-mae:15.09263\n",
      "[4]\tvalidation_0-mae:15.08282\n",
      "[5]\tvalidation_0-mae:15.07462\n",
      "[6]\tvalidation_0-mae:15.06571\n",
      "[7]\tvalidation_0-mae:15.06699\n",
      "[8]\tvalidation_0-mae:15.06791\n",
      "[9]\tvalidation_0-mae:15.06287\n",
      "[10]\tvalidation_0-mae:15.06433\n",
      "[11]\tvalidation_0-mae:15.06821\n",
      "[12]\tvalidation_0-mae:15.07126\n",
      "[13]\tvalidation_0-mae:15.07901\n",
      "[0]\tvalidation_0-mae:15.13615\n",
      "[1]\tvalidation_0-mae:15.11565\n",
      "[2]\tvalidation_0-mae:15.09330\n",
      "[3]\tvalidation_0-mae:15.07784\n",
      "[4]\tvalidation_0-mae:15.06725\n",
      "[5]\tvalidation_0-mae:15.05984\n",
      "[6]\tvalidation_0-mae:15.06043\n",
      "[7]\tvalidation_0-mae:15.05828\n",
      "[8]\tvalidation_0-mae:15.05581\n",
      "[9]\tvalidation_0-mae:15.05633\n",
      "[10]\tvalidation_0-mae:15.06134\n",
      "[11]\tvalidation_0-mae:15.06401\n",
      "[12]\tvalidation_0-mae:15.06384\n",
      "[13]\tvalidation_0-mae:15.06656\n"
     ]
    },
    {
     "name": "stderr",
     "output_type": "stream",
     "text": [
      "D:\\Anaconda3\\lib\\site-packages\\xgboost\\sklearn.py:793: UserWarning: `early_stopping_rounds` in `fit` method is deprecated for better compatibility with scikit-learn, use `early_stopping_rounds` in constructor or`set_params` instead.\n",
      "  warnings.warn(\n",
      "D:\\Anaconda3\\lib\\site-packages\\xgboost\\sklearn.py:793: UserWarning: `early_stopping_rounds` in `fit` method is deprecated for better compatibility with scikit-learn, use `early_stopping_rounds` in constructor or`set_params` instead.\n",
      "  warnings.warn(\n"
     ]
    },
    {
     "name": "stdout",
     "output_type": "stream",
     "text": [
      "[0]\tvalidation_0-mae:15.13233\n",
      "[1]\tvalidation_0-mae:15.11210\n",
      "[2]\tvalidation_0-mae:15.09189\n",
      "[3]\tvalidation_0-mae:15.08109\n",
      "[4]\tvalidation_0-mae:15.07089\n",
      "[5]\tvalidation_0-mae:15.06574\n",
      "[6]\tvalidation_0-mae:15.06719\n",
      "[7]\tvalidation_0-mae:15.06625\n",
      "[8]\tvalidation_0-mae:15.06843\n",
      "[9]\tvalidation_0-mae:15.06510\n",
      "[10]\tvalidation_0-mae:15.06488\n",
      "[11]\tvalidation_0-mae:15.07068\n",
      "[12]\tvalidation_0-mae:15.07765\n",
      "[13]\tvalidation_0-mae:15.08152\n",
      "[14]\tvalidation_0-mae:15.09198\n",
      "[15]\tvalidation_0-mae:15.10209\n",
      "[0]\tvalidation_0-mae:15.13230\n",
      "[1]\tvalidation_0-mae:15.11380\n",
      "[2]\tvalidation_0-mae:15.09995\n",
      "[3]\tvalidation_0-mae:15.09148\n",
      "[4]\tvalidation_0-mae:15.08686\n",
      "[5]\tvalidation_0-mae:15.08164\n",
      "[6]\tvalidation_0-mae:15.07969\n",
      "[7]\tvalidation_0-mae:15.07727\n",
      "[8]\tvalidation_0-mae:15.06769\n",
      "[9]\tvalidation_0-mae:15.07125\n",
      "[10]\tvalidation_0-mae:15.06707\n",
      "[11]\tvalidation_0-mae:15.07282\n",
      "[12]\tvalidation_0-mae:15.07211\n",
      "[13]\tvalidation_0-mae:15.08197\n",
      "[14]\tvalidation_0-mae:15.08331\n",
      "[15]\tvalidation_0-mae:15.09566\n"
     ]
    },
    {
     "name": "stderr",
     "output_type": "stream",
     "text": [
      "D:\\Anaconda3\\lib\\site-packages\\xgboost\\sklearn.py:793: UserWarning: `early_stopping_rounds` in `fit` method is deprecated for better compatibility with scikit-learn, use `early_stopping_rounds` in constructor or`set_params` instead.\n",
      "  warnings.warn(\n",
      "D:\\Anaconda3\\lib\\site-packages\\xgboost\\sklearn.py:793: UserWarning: `early_stopping_rounds` in `fit` method is deprecated for better compatibility with scikit-learn, use `early_stopping_rounds` in constructor or`set_params` instead.\n",
      "  warnings.warn(\n"
     ]
    },
    {
     "name": "stdout",
     "output_type": "stream",
     "text": [
      "[0]\tvalidation_0-mae:15.13101\n",
      "[1]\tvalidation_0-mae:15.11321\n",
      "[2]\tvalidation_0-mae:15.09829\n",
      "[3]\tvalidation_0-mae:15.08735\n",
      "[4]\tvalidation_0-mae:15.08051\n",
      "[5]\tvalidation_0-mae:15.07753\n",
      "[6]\tvalidation_0-mae:15.07341\n",
      "[7]\tvalidation_0-mae:15.07419\n",
      "[8]\tvalidation_0-mae:15.07302\n",
      "[9]\tvalidation_0-mae:15.07668\n",
      "[10]\tvalidation_0-mae:15.07818\n",
      "[11]\tvalidation_0-mae:15.08586\n",
      "[12]\tvalidation_0-mae:15.08933\n",
      "[0]\tvalidation_0-mae:15.13294\n",
      "[1]\tvalidation_0-mae:15.11967\n",
      "[2]\tvalidation_0-mae:15.09920\n",
      "[3]\tvalidation_0-mae:15.08825\n",
      "[4]\tvalidation_0-mae:15.08334\n",
      "[5]\tvalidation_0-mae:15.07675\n",
      "[6]\tvalidation_0-mae:15.07968\n",
      "[7]\tvalidation_0-mae:15.07719\n",
      "[8]\tvalidation_0-mae:15.07761\n",
      "[9]\tvalidation_0-mae:15.07229\n",
      "[10]\tvalidation_0-mae:15.07383\n",
      "[11]\tvalidation_0-mae:15.07914\n",
      "[12]\tvalidation_0-mae:15.08094\n",
      "[13]\tvalidation_0-mae:15.08510\n",
      "[14]\tvalidation_0-mae:15.09257\n"
     ]
    },
    {
     "name": "stderr",
     "output_type": "stream",
     "text": [
      "D:\\Anaconda3\\lib\\site-packages\\xgboost\\sklearn.py:793: UserWarning: `early_stopping_rounds` in `fit` method is deprecated for better compatibility with scikit-learn, use `early_stopping_rounds` in constructor or`set_params` instead.\n",
      "  warnings.warn(\n",
      "D:\\Anaconda3\\lib\\site-packages\\xgboost\\sklearn.py:793: UserWarning: `early_stopping_rounds` in `fit` method is deprecated for better compatibility with scikit-learn, use `early_stopping_rounds` in constructor or`set_params` instead.\n",
      "  warnings.warn(\n"
     ]
    },
    {
     "name": "stdout",
     "output_type": "stream",
     "text": [
      "[0]\tvalidation_0-mae:15.13364\n",
      "[1]\tvalidation_0-mae:15.12010\n",
      "[2]\tvalidation_0-mae:15.09344\n",
      "[3]\tvalidation_0-mae:15.07869\n",
      "[4]\tvalidation_0-mae:15.06874\n",
      "[5]\tvalidation_0-mae:15.05865\n",
      "[6]\tvalidation_0-mae:15.04708\n",
      "[7]\tvalidation_0-mae:15.04484\n",
      "[8]\tvalidation_0-mae:15.04575\n",
      "[9]\tvalidation_0-mae:15.04274\n",
      "[10]\tvalidation_0-mae:15.04663\n",
      "[11]\tvalidation_0-mae:15.04565\n",
      "[12]\tvalidation_0-mae:15.04462\n",
      "[13]\tvalidation_0-mae:15.05015\n",
      "[0]\tvalidation_0-mae:15.13687\n",
      "[1]\tvalidation_0-mae:15.11541\n",
      "[2]\tvalidation_0-mae:15.09460\n",
      "[3]\tvalidation_0-mae:15.07887\n",
      "[4]\tvalidation_0-mae:15.07116\n",
      "[5]\tvalidation_0-mae:15.05928\n",
      "[6]\tvalidation_0-mae:15.05624\n",
      "[7]\tvalidation_0-mae:15.05556\n",
      "[8]\tvalidation_0-mae:15.05050\n",
      "[9]\tvalidation_0-mae:15.04893\n",
      "[10]\tvalidation_0-mae:15.05171\n",
      "[11]\tvalidation_0-mae:15.05459\n",
      "[12]\tvalidation_0-mae:15.05781\n",
      "[13]\tvalidation_0-mae:15.06313\n"
     ]
    },
    {
     "name": "stderr",
     "output_type": "stream",
     "text": [
      "D:\\Anaconda3\\lib\\site-packages\\xgboost\\sklearn.py:793: UserWarning: `early_stopping_rounds` in `fit` method is deprecated for better compatibility with scikit-learn, use `early_stopping_rounds` in constructor or`set_params` instead.\n",
      "  warnings.warn(\n"
     ]
    },
    {
     "name": "stdout",
     "output_type": "stream",
     "text": [
      "[0]\tvalidation_0-mae:15.12855\n",
      "[1]\tvalidation_0-mae:15.10642\n",
      "[2]\tvalidation_0-mae:15.08298\n",
      "[3]\tvalidation_0-mae:15.06990\n",
      "[4]\tvalidation_0-mae:15.06227\n",
      "[5]\tvalidation_0-mae:15.05214\n",
      "[6]\tvalidation_0-mae:15.04923\n",
      "[7]\tvalidation_0-mae:15.04460\n",
      "[8]\tvalidation_0-mae:15.04475\n",
      "[9]\tvalidation_0-mae:15.04327\n",
      "[10]\tvalidation_0-mae:15.04189\n",
      "[11]\tvalidation_0-mae:15.04484\n",
      "[12]\tvalidation_0-mae:15.04847\n",
      "[13]\tvalidation_0-mae:15.05168\n",
      "[14]\tvalidation_0-mae:15.06424\n"
     ]
    },
    {
     "name": "stderr",
     "output_type": "stream",
     "text": [
      "D:\\Anaconda3\\lib\\site-packages\\xgboost\\sklearn.py:793: UserWarning: `early_stopping_rounds` in `fit` method is deprecated for better compatibility with scikit-learn, use `early_stopping_rounds` in constructor or`set_params` instead.\n",
      "  warnings.warn(\n"
     ]
    },
    {
     "name": "stdout",
     "output_type": "stream",
     "text": [
      "[0]\tvalidation_0-mae:15.13394\n",
      "[1]\tvalidation_0-mae:15.11759\n",
      "[2]\tvalidation_0-mae:15.10518\n",
      "[3]\tvalidation_0-mae:15.09753\n",
      "[4]\tvalidation_0-mae:15.09229\n",
      "[5]\tvalidation_0-mae:15.09068\n",
      "[6]\tvalidation_0-mae:15.08909\n",
      "[7]\tvalidation_0-mae:15.09162\n",
      "[8]\tvalidation_0-mae:15.09210\n",
      "[9]\tvalidation_0-mae:15.09490\n",
      "[10]\tvalidation_0-mae:15.10093\n",
      "[11]\tvalidation_0-mae:15.10634\n",
      "[0]\tvalidation_0-mae:15.12992\n"
     ]
    },
    {
     "name": "stderr",
     "output_type": "stream",
     "text": [
      "D:\\Anaconda3\\lib\\site-packages\\xgboost\\sklearn.py:793: UserWarning: `early_stopping_rounds` in `fit` method is deprecated for better compatibility with scikit-learn, use `early_stopping_rounds` in constructor or`set_params` instead.\n",
      "  warnings.warn(\n",
      "D:\\Anaconda3\\lib\\site-packages\\xgboost\\sklearn.py:793: UserWarning: `early_stopping_rounds` in `fit` method is deprecated for better compatibility with scikit-learn, use `early_stopping_rounds` in constructor or`set_params` instead.\n",
      "  warnings.warn(\n"
     ]
    },
    {
     "name": "stdout",
     "output_type": "stream",
     "text": [
      "[1]\tvalidation_0-mae:15.11075\n",
      "[2]\tvalidation_0-mae:15.09552\n",
      "[3]\tvalidation_0-mae:15.08432\n",
      "[4]\tvalidation_0-mae:15.07959\n",
      "[5]\tvalidation_0-mae:15.07556\n",
      "[6]\tvalidation_0-mae:15.07369\n",
      "[7]\tvalidation_0-mae:15.06666\n",
      "[8]\tvalidation_0-mae:15.06182\n",
      "[9]\tvalidation_0-mae:15.05871\n",
      "[10]\tvalidation_0-mae:15.06168\n",
      "[11]\tvalidation_0-mae:15.06332\n",
      "[12]\tvalidation_0-mae:15.06568\n",
      "[13]\tvalidation_0-mae:15.07495\n",
      "[0]\tvalidation_0-mae:15.13294\n",
      "[1]\tvalidation_0-mae:15.11967\n",
      "[2]\tvalidation_0-mae:15.09920\n",
      "[3]\tvalidation_0-mae:15.08825\n",
      "[4]\tvalidation_0-mae:15.08334\n",
      "[5]\tvalidation_0-mae:15.07675\n",
      "[6]\tvalidation_0-mae:15.07968\n",
      "[7]\tvalidation_0-mae:15.07719\n",
      "[8]\tvalidation_0-mae:15.07761\n",
      "[9]\tvalidation_0-mae:15.07229\n",
      "[10]\tvalidation_0-mae:15.07383\n",
      "[11]\tvalidation_0-mae:15.07914\n",
      "[12]\tvalidation_0-mae:15.08094\n",
      "[13]\tvalidation_0-mae:15.08510\n"
     ]
    },
    {
     "name": "stderr",
     "output_type": "stream",
     "text": [
      "D:\\Anaconda3\\lib\\site-packages\\xgboost\\sklearn.py:793: UserWarning: `early_stopping_rounds` in `fit` method is deprecated for better compatibility with scikit-learn, use `early_stopping_rounds` in constructor or`set_params` instead.\n",
      "  warnings.warn(\n"
     ]
    },
    {
     "name": "stdout",
     "output_type": "stream",
     "text": [
      "[0]\tvalidation_0-mae:15.13364\n",
      "[1]\tvalidation_0-mae:15.12010\n",
      "[2]\tvalidation_0-mae:15.09344\n",
      "[3]\tvalidation_0-mae:15.07869\n",
      "[4]\tvalidation_0-mae:15.06874\n",
      "[5]\tvalidation_0-mae:15.05865\n",
      "[6]\tvalidation_0-mae:15.04708\n",
      "[7]\tvalidation_0-mae:15.04484\n",
      "[8]\tvalidation_0-mae:15.04575\n",
      "[9]\tvalidation_0-mae:15.04274\n",
      "[10]\tvalidation_0-mae:15.04663\n",
      "[11]\tvalidation_0-mae:15.04565\n",
      "[12]\tvalidation_0-mae:15.04462\n",
      "[13]\tvalidation_0-mae:15.05015\n"
     ]
    },
    {
     "name": "stderr",
     "output_type": "stream",
     "text": [
      "D:\\Anaconda3\\lib\\site-packages\\xgboost\\sklearn.py:793: UserWarning: `early_stopping_rounds` in `fit` method is deprecated for better compatibility with scikit-learn, use `early_stopping_rounds` in constructor or`set_params` instead.\n",
      "  warnings.warn(\n"
     ]
    },
    {
     "name": "stdout",
     "output_type": "stream",
     "text": [
      "[0]\tvalidation_0-mae:15.13687\n",
      "[1]\tvalidation_0-mae:15.11541\n",
      "[2]\tvalidation_0-mae:15.09460\n",
      "[3]\tvalidation_0-mae:15.07887\n",
      "[4]\tvalidation_0-mae:15.07116\n",
      "[5]\tvalidation_0-mae:15.05928\n",
      "[6]\tvalidation_0-mae:15.05624\n",
      "[7]\tvalidation_0-mae:15.05556\n",
      "[8]\tvalidation_0-mae:15.05050\n",
      "[9]\tvalidation_0-mae:15.04893\n",
      "[10]\tvalidation_0-mae:15.05171\n",
      "[11]\tvalidation_0-mae:15.05459\n",
      "[12]\tvalidation_0-mae:15.05781\n",
      "[13]\tvalidation_0-mae:15.06313\n",
      "[14]\tvalidation_0-mae:15.07029\n"
     ]
    },
    {
     "name": "stderr",
     "output_type": "stream",
     "text": [
      "D:\\Anaconda3\\lib\\site-packages\\xgboost\\sklearn.py:793: UserWarning: `early_stopping_rounds` in `fit` method is deprecated for better compatibility with scikit-learn, use `early_stopping_rounds` in constructor or`set_params` instead.\n",
      "  warnings.warn(\n"
     ]
    },
    {
     "name": "stdout",
     "output_type": "stream",
     "text": [
      "[0]\tvalidation_0-mae:15.12855\n",
      "[1]\tvalidation_0-mae:15.10642\n",
      "[2]\tvalidation_0-mae:15.08298\n",
      "[3]\tvalidation_0-mae:15.06990\n",
      "[4]\tvalidation_0-mae:15.06227\n",
      "[5]\tvalidation_0-mae:15.05214\n",
      "[6]\tvalidation_0-mae:15.04923\n",
      "[7]\tvalidation_0-mae:15.04460\n",
      "[8]\tvalidation_0-mae:15.04475\n",
      "[9]\tvalidation_0-mae:15.04327\n",
      "[10]\tvalidation_0-mae:15.04189\n",
      "[11]\tvalidation_0-mae:15.04484\n",
      "[12]\tvalidation_0-mae:15.04847\n",
      "[13]\tvalidation_0-mae:15.05168\n",
      "[14]\tvalidation_0-mae:15.06424\n"
     ]
    },
    {
     "name": "stderr",
     "output_type": "stream",
     "text": [
      "D:\\Anaconda3\\lib\\site-packages\\xgboost\\sklearn.py:793: UserWarning: `early_stopping_rounds` in `fit` method is deprecated for better compatibility with scikit-learn, use `early_stopping_rounds` in constructor or`set_params` instead.\n",
      "  warnings.warn(\n"
     ]
    },
    {
     "name": "stdout",
     "output_type": "stream",
     "text": [
      "[0]\tvalidation_0-mae:15.13394\n",
      "[1]\tvalidation_0-mae:15.11759\n",
      "[2]\tvalidation_0-mae:15.10518\n",
      "[3]\tvalidation_0-mae:15.09753\n",
      "[4]\tvalidation_0-mae:15.09229\n",
      "[5]\tvalidation_0-mae:15.09068\n",
      "[6]\tvalidation_0-mae:15.08909\n",
      "[7]\tvalidation_0-mae:15.09162\n",
      "[8]\tvalidation_0-mae:15.09210\n",
      "[9]\tvalidation_0-mae:15.09490\n",
      "[10]\tvalidation_0-mae:15.10093\n",
      "[0]\tvalidation_0-mae:15.12992\n",
      "[1]\tvalidation_0-mae:15.11075\n"
     ]
    },
    {
     "name": "stderr",
     "output_type": "stream",
     "text": [
      "D:\\Anaconda3\\lib\\site-packages\\xgboost\\sklearn.py:793: UserWarning: `early_stopping_rounds` in `fit` method is deprecated for better compatibility with scikit-learn, use `early_stopping_rounds` in constructor or`set_params` instead.\n",
      "  warnings.warn(\n",
      "D:\\Anaconda3\\lib\\site-packages\\xgboost\\sklearn.py:793: UserWarning: `early_stopping_rounds` in `fit` method is deprecated for better compatibility with scikit-learn, use `early_stopping_rounds` in constructor or`set_params` instead.\n",
      "  warnings.warn(\n"
     ]
    },
    {
     "name": "stdout",
     "output_type": "stream",
     "text": [
      "[2]\tvalidation_0-mae:15.09552\n",
      "[3]\tvalidation_0-mae:15.08432\n",
      "[4]\tvalidation_0-mae:15.07959\n",
      "[5]\tvalidation_0-mae:15.07556\n",
      "[6]\tvalidation_0-mae:15.07369\n",
      "[7]\tvalidation_0-mae:15.06666\n",
      "[8]\tvalidation_0-mae:15.06182\n",
      "[9]\tvalidation_0-mae:15.05871\n",
      "[10]\tvalidation_0-mae:15.06168\n",
      "[11]\tvalidation_0-mae:15.06332\n",
      "[12]\tvalidation_0-mae:15.06568\n",
      "[13]\tvalidation_0-mae:15.07495\n",
      "[0]\tvalidation_0-mae:15.13294\n",
      "[1]\tvalidation_0-mae:15.11967\n",
      "[2]\tvalidation_0-mae:15.09920\n",
      "[3]\tvalidation_0-mae:15.08825\n",
      "[4]\tvalidation_0-mae:15.08334\n",
      "[5]\tvalidation_0-mae:15.07675\n",
      "[6]\tvalidation_0-mae:15.07968\n",
      "[7]\tvalidation_0-mae:15.07719\n",
      "[8]\tvalidation_0-mae:15.07761\n",
      "[9]\tvalidation_0-mae:15.07229\n",
      "[10]\tvalidation_0-mae:15.07383\n",
      "[11]\tvalidation_0-mae:15.07914\n",
      "[12]\tvalidation_0-mae:15.08094\n",
      "[13]\tvalidation_0-mae:15.08510\n",
      "[14]\tvalidation_0-mae:15.09257\n"
     ]
    },
    {
     "name": "stderr",
     "output_type": "stream",
     "text": [
      "D:\\Anaconda3\\lib\\site-packages\\xgboost\\sklearn.py:793: UserWarning: `early_stopping_rounds` in `fit` method is deprecated for better compatibility with scikit-learn, use `early_stopping_rounds` in constructor or`set_params` instead.\n",
      "  warnings.warn(\n"
     ]
    },
    {
     "name": "stdout",
     "output_type": "stream",
     "text": [
      "[0]\tvalidation_0-mae:15.13364\n",
      "[1]\tvalidation_0-mae:15.12010\n",
      "[2]\tvalidation_0-mae:15.09344\n",
      "[3]\tvalidation_0-mae:15.07869\n",
      "[4]\tvalidation_0-mae:15.06874\n",
      "[5]\tvalidation_0-mae:15.05865\n",
      "[6]\tvalidation_0-mae:15.04708\n",
      "[7]\tvalidation_0-mae:15.04484\n",
      "[8]\tvalidation_0-mae:15.04575\n",
      "[9]\tvalidation_0-mae:15.04274\n",
      "[10]\tvalidation_0-mae:15.04663\n",
      "[11]\tvalidation_0-mae:15.04565\n",
      "[12]\tvalidation_0-mae:15.04462\n",
      "[13]\tvalidation_0-mae:15.05015\n"
     ]
    },
    {
     "name": "stderr",
     "output_type": "stream",
     "text": [
      "D:\\Anaconda3\\lib\\site-packages\\xgboost\\sklearn.py:793: UserWarning: `early_stopping_rounds` in `fit` method is deprecated for better compatibility with scikit-learn, use `early_stopping_rounds` in constructor or`set_params` instead.\n",
      "  warnings.warn(\n"
     ]
    },
    {
     "name": "stdout",
     "output_type": "stream",
     "text": [
      "[0]\tvalidation_0-mae:15.13687\n",
      "[1]\tvalidation_0-mae:15.11541\n",
      "[2]\tvalidation_0-mae:15.09460\n",
      "[3]\tvalidation_0-mae:15.07887\n",
      "[4]\tvalidation_0-mae:15.07116\n",
      "[5]\tvalidation_0-mae:15.05928\n",
      "[6]\tvalidation_0-mae:15.05624\n",
      "[7]\tvalidation_0-mae:15.05556\n",
      "[8]\tvalidation_0-mae:15.05050\n",
      "[9]\tvalidation_0-mae:15.04893\n",
      "[10]\tvalidation_0-mae:15.05171\n",
      "[11]\tvalidation_0-mae:15.05459\n",
      "[12]\tvalidation_0-mae:15.05781\n",
      "[13]\tvalidation_0-mae:15.06313\n"
     ]
    },
    {
     "name": "stderr",
     "output_type": "stream",
     "text": [
      "D:\\Anaconda3\\lib\\site-packages\\xgboost\\sklearn.py:793: UserWarning: `early_stopping_rounds` in `fit` method is deprecated for better compatibility with scikit-learn, use `early_stopping_rounds` in constructor or`set_params` instead.\n",
      "  warnings.warn(\n"
     ]
    },
    {
     "name": "stdout",
     "output_type": "stream",
     "text": [
      "[0]\tvalidation_0-mae:15.12855\n",
      "[1]\tvalidation_0-mae:15.10642\n",
      "[2]\tvalidation_0-mae:15.08298\n",
      "[3]\tvalidation_0-mae:15.06990\n",
      "[4]\tvalidation_0-mae:15.06227\n",
      "[5]\tvalidation_0-mae:15.05214\n",
      "[6]\tvalidation_0-mae:15.04923\n",
      "[7]\tvalidation_0-mae:15.04460\n",
      "[8]\tvalidation_0-mae:15.04475\n",
      "[9]\tvalidation_0-mae:15.04327\n",
      "[10]\tvalidation_0-mae:15.04189\n",
      "[11]\tvalidation_0-mae:15.04484\n",
      "[12]\tvalidation_0-mae:15.04847\n",
      "[13]\tvalidation_0-mae:15.05168\n",
      "[14]\tvalidation_0-mae:15.06424\n",
      "[15]\tvalidation_0-mae:15.06882\n"
     ]
    },
    {
     "name": "stderr",
     "output_type": "stream",
     "text": [
      "D:\\Anaconda3\\lib\\site-packages\\xgboost\\sklearn.py:793: UserWarning: `early_stopping_rounds` in `fit` method is deprecated for better compatibility with scikit-learn, use `early_stopping_rounds` in constructor or`set_params` instead.\n",
      "  warnings.warn(\n"
     ]
    },
    {
     "name": "stdout",
     "output_type": "stream",
     "text": [
      "[0]\tvalidation_0-mae:15.13394\n",
      "[1]\tvalidation_0-mae:15.11759\n",
      "[2]\tvalidation_0-mae:15.10518\n",
      "[3]\tvalidation_0-mae:15.09753\n",
      "[4]\tvalidation_0-mae:15.09229\n",
      "[5]\tvalidation_0-mae:15.09068\n",
      "[6]\tvalidation_0-mae:15.08909\n",
      "[7]\tvalidation_0-mae:15.09162\n",
      "[8]\tvalidation_0-mae:15.09210\n",
      "[9]\tvalidation_0-mae:15.09490\n",
      "[10]\tvalidation_0-mae:15.10093\n"
     ]
    },
    {
     "name": "stderr",
     "output_type": "stream",
     "text": [
      "D:\\Anaconda3\\lib\\site-packages\\xgboost\\sklearn.py:793: UserWarning: `early_stopping_rounds` in `fit` method is deprecated for better compatibility with scikit-learn, use `early_stopping_rounds` in constructor or`set_params` instead.\n",
      "  warnings.warn(\n",
      "D:\\Anaconda3\\lib\\site-packages\\xgboost\\sklearn.py:793: UserWarning: `early_stopping_rounds` in `fit` method is deprecated for better compatibility with scikit-learn, use `early_stopping_rounds` in constructor or`set_params` instead.\n",
      "  warnings.warn(\n"
     ]
    },
    {
     "name": "stdout",
     "output_type": "stream",
     "text": [
      "[0]\tvalidation_0-mae:15.12992\n",
      "[1]\tvalidation_0-mae:15.11075\n",
      "[2]\tvalidation_0-mae:15.09552\n",
      "[3]\tvalidation_0-mae:15.08432\n",
      "[4]\tvalidation_0-mae:15.07959\n",
      "[5]\tvalidation_0-mae:15.07556\n",
      "[6]\tvalidation_0-mae:15.07369\n",
      "[7]\tvalidation_0-mae:15.06666\n",
      "[8]\tvalidation_0-mae:15.06182\n",
      "[9]\tvalidation_0-mae:15.05871\n",
      "[10]\tvalidation_0-mae:15.06168\n",
      "[11]\tvalidation_0-mae:15.06332\n",
      "[12]\tvalidation_0-mae:15.06568\n",
      "[13]\tvalidation_0-mae:15.07495\n",
      "[0]\tvalidation_0-mae:15.09326\n",
      "[1]\tvalidation_0-mae:15.09843\n",
      "[2]\tvalidation_0-mae:15.12059\n",
      "[3]\tvalidation_0-mae:15.20633\n",
      "[4]\tvalidation_0-mae:15.29694\n",
      "[0]\tvalidation_0-mae:15.10902\n",
      "[1]\tvalidation_0-mae:15.13137\n",
      "[2]\tvalidation_0-mae:15.14118\n",
      "[3]\tvalidation_0-mae:15.21034\n",
      "[4]\tvalidation_0-mae:15.30991\n"
     ]
    },
    {
     "name": "stderr",
     "output_type": "stream",
     "text": [
      "D:\\Anaconda3\\lib\\site-packages\\xgboost\\sklearn.py:793: UserWarning: `early_stopping_rounds` in `fit` method is deprecated for better compatibility with scikit-learn, use `early_stopping_rounds` in constructor or`set_params` instead.\n",
      "  warnings.warn(\n",
      "D:\\Anaconda3\\lib\\site-packages\\xgboost\\sklearn.py:793: UserWarning: `early_stopping_rounds` in `fit` method is deprecated for better compatibility with scikit-learn, use `early_stopping_rounds` in constructor or`set_params` instead.\n",
      "  warnings.warn(\n"
     ]
    },
    {
     "name": "stdout",
     "output_type": "stream",
     "text": [
      "[0]\tvalidation_0-mae:15.09599\n",
      "[1]\tvalidation_0-mae:15.08458\n",
      "[2]\tvalidation_0-mae:15.09397\n",
      "[3]\tvalidation_0-mae:15.14104\n",
      "[4]\tvalidation_0-mae:15.19769\n",
      "[5]\tvalidation_0-mae:15.30017\n",
      "[0]\tvalidation_0-mae:15.10088\n",
      "[1]\tvalidation_0-mae:15.10732\n",
      "[2]\tvalidation_0-mae:15.14577\n",
      "[3]\tvalidation_0-mae:15.20412\n",
      "[4]\tvalidation_0-mae:15.29649\n"
     ]
    },
    {
     "name": "stderr",
     "output_type": "stream",
     "text": [
      "D:\\Anaconda3\\lib\\site-packages\\xgboost\\sklearn.py:793: UserWarning: `early_stopping_rounds` in `fit` method is deprecated for better compatibility with scikit-learn, use `early_stopping_rounds` in constructor or`set_params` instead.\n",
      "  warnings.warn(\n",
      "D:\\Anaconda3\\lib\\site-packages\\xgboost\\sklearn.py:793: UserWarning: `early_stopping_rounds` in `fit` method is deprecated for better compatibility with scikit-learn, use `early_stopping_rounds` in constructor or`set_params` instead.\n",
      "  warnings.warn(\n"
     ]
    },
    {
     "name": "stdout",
     "output_type": "stream",
     "text": [
      "[0]\tvalidation_0-mae:15.09005\n",
      "[1]\tvalidation_0-mae:15.09553\n",
      "[2]\tvalidation_0-mae:15.10170\n",
      "[3]\tvalidation_0-mae:15.16256\n",
      "[4]\tvalidation_0-mae:15.23995\n",
      "[0]\tvalidation_0-mae:15.09719\n",
      "[1]\tvalidation_0-mae:15.11129\n",
      "[2]\tvalidation_0-mae:15.14251\n",
      "[3]\tvalidation_0-mae:15.22640\n",
      "[4]\tvalidation_0-mae:15.33083\n"
     ]
    },
    {
     "name": "stderr",
     "output_type": "stream",
     "text": [
      "D:\\Anaconda3\\lib\\site-packages\\xgboost\\sklearn.py:793: UserWarning: `early_stopping_rounds` in `fit` method is deprecated for better compatibility with scikit-learn, use `early_stopping_rounds` in constructor or`set_params` instead.\n",
      "  warnings.warn(\n",
      "D:\\Anaconda3\\lib\\site-packages\\xgboost\\sklearn.py:793: UserWarning: `early_stopping_rounds` in `fit` method is deprecated for better compatibility with scikit-learn, use `early_stopping_rounds` in constructor or`set_params` instead.\n",
      "  warnings.warn(\n"
     ]
    },
    {
     "name": "stdout",
     "output_type": "stream",
     "text": [
      "[0]\tvalidation_0-mae:15.09326\n",
      "[1]\tvalidation_0-mae:15.09843\n",
      "[2]\tvalidation_0-mae:15.12059\n",
      "[3]\tvalidation_0-mae:15.20633\n",
      "[4]\tvalidation_0-mae:15.29694\n",
      "[5]\tvalidation_0-mae:15.39713\n",
      "[0]\tvalidation_0-mae:15.10902\n",
      "[1]\tvalidation_0-mae:15.13137\n",
      "[2]\tvalidation_0-mae:15.14118\n",
      "[3]\tvalidation_0-mae:15.21034\n",
      "[4]\tvalidation_0-mae:15.30991\n"
     ]
    },
    {
     "name": "stderr",
     "output_type": "stream",
     "text": [
      "D:\\Anaconda3\\lib\\site-packages\\xgboost\\sklearn.py:793: UserWarning: `early_stopping_rounds` in `fit` method is deprecated for better compatibility with scikit-learn, use `early_stopping_rounds` in constructor or`set_params` instead.\n",
      "  warnings.warn(\n",
      "D:\\Anaconda3\\lib\\site-packages\\xgboost\\sklearn.py:793: UserWarning: `early_stopping_rounds` in `fit` method is deprecated for better compatibility with scikit-learn, use `early_stopping_rounds` in constructor or`set_params` instead.\n",
      "  warnings.warn(\n"
     ]
    },
    {
     "name": "stdout",
     "output_type": "stream",
     "text": [
      "[0]\tvalidation_0-mae:15.09599\n",
      "[1]\tvalidation_0-mae:15.08458\n",
      "[2]\tvalidation_0-mae:15.09397\n",
      "[3]\tvalidation_0-mae:15.14104\n",
      "[4]\tvalidation_0-mae:15.19769\n",
      "[5]\tvalidation_0-mae:15.30017\n",
      "[0]\tvalidation_0-mae:15.10088\n",
      "[1]\tvalidation_0-mae:15.10732\n",
      "[2]\tvalidation_0-mae:15.14577\n",
      "[3]\tvalidation_0-mae:15.20412\n",
      "[4]\tvalidation_0-mae:15.29649\n"
     ]
    },
    {
     "name": "stderr",
     "output_type": "stream",
     "text": [
      "D:\\Anaconda3\\lib\\site-packages\\xgboost\\sklearn.py:793: UserWarning: `early_stopping_rounds` in `fit` method is deprecated for better compatibility with scikit-learn, use `early_stopping_rounds` in constructor or`set_params` instead.\n",
      "  warnings.warn(\n",
      "D:\\Anaconda3\\lib\\site-packages\\xgboost\\sklearn.py:793: UserWarning: `early_stopping_rounds` in `fit` method is deprecated for better compatibility with scikit-learn, use `early_stopping_rounds` in constructor or`set_params` instead.\n",
      "  warnings.warn(\n"
     ]
    },
    {
     "name": "stdout",
     "output_type": "stream",
     "text": [
      "[0]\tvalidation_0-mae:15.09005\n",
      "[1]\tvalidation_0-mae:15.09553\n",
      "[2]\tvalidation_0-mae:15.10170\n",
      "[3]\tvalidation_0-mae:15.16256\n",
      "[4]\tvalidation_0-mae:15.23995\n",
      "[5]\tvalidation_0-mae:15.33262\n",
      "[0]\tvalidation_0-mae:15.09719\n",
      "[1]\tvalidation_0-mae:15.11129\n",
      "[2]\tvalidation_0-mae:15.14251\n",
      "[3]\tvalidation_0-mae:15.22640\n",
      "[4]\tvalidation_0-mae:15.33083\n"
     ]
    },
    {
     "name": "stderr",
     "output_type": "stream",
     "text": [
      "D:\\Anaconda3\\lib\\site-packages\\xgboost\\sklearn.py:793: UserWarning: `early_stopping_rounds` in `fit` method is deprecated for better compatibility with scikit-learn, use `early_stopping_rounds` in constructor or`set_params` instead.\n",
      "  warnings.warn(\n",
      "D:\\Anaconda3\\lib\\site-packages\\xgboost\\sklearn.py:793: UserWarning: `early_stopping_rounds` in `fit` method is deprecated for better compatibility with scikit-learn, use `early_stopping_rounds` in constructor or`set_params` instead.\n",
      "  warnings.warn(\n"
     ]
    },
    {
     "name": "stdout",
     "output_type": "stream",
     "text": [
      "[0]\tvalidation_0-mae:15.09326\n",
      "[1]\tvalidation_0-mae:15.09843\n",
      "[2]\tvalidation_0-mae:15.12059\n",
      "[3]\tvalidation_0-mae:15.20633\n",
      "[4]\tvalidation_0-mae:15.29694\n",
      "[5]\tvalidation_0-mae:15.39713\n",
      "[0]\tvalidation_0-mae:15.10902\n",
      "[1]\tvalidation_0-mae:15.13137\n",
      "[2]\tvalidation_0-mae:15.14118\n",
      "[3]\tvalidation_0-mae:15.21034\n",
      "[4]\tvalidation_0-mae:15.30991\n",
      "[5]\tvalidation_0-mae:15.45337\n"
     ]
    },
    {
     "name": "stderr",
     "output_type": "stream",
     "text": [
      "D:\\Anaconda3\\lib\\site-packages\\xgboost\\sklearn.py:793: UserWarning: `early_stopping_rounds` in `fit` method is deprecated for better compatibility with scikit-learn, use `early_stopping_rounds` in constructor or`set_params` instead.\n",
      "  warnings.warn(\n",
      "D:\\Anaconda3\\lib\\site-packages\\xgboost\\sklearn.py:793: UserWarning: `early_stopping_rounds` in `fit` method is deprecated for better compatibility with scikit-learn, use `early_stopping_rounds` in constructor or`set_params` instead.\n",
      "  warnings.warn(\n"
     ]
    },
    {
     "name": "stdout",
     "output_type": "stream",
     "text": [
      "[0]\tvalidation_0-mae:15.09599\n",
      "[1]\tvalidation_0-mae:15.08458\n",
      "[2]\tvalidation_0-mae:15.09397\n",
      "[3]\tvalidation_0-mae:15.14104\n",
      "[4]\tvalidation_0-mae:15.19769\n",
      "[5]\tvalidation_0-mae:15.30017\n",
      "[6]\tvalidation_0-mae:15.43708\n",
      "[0]\tvalidation_0-mae:15.10088\n",
      "[1]\tvalidation_0-mae:15.10732\n",
      "[2]\tvalidation_0-mae:15.14577\n",
      "[3]\tvalidation_0-mae:15.20412\n",
      "[4]\tvalidation_0-mae:15.29649\n",
      "[5]\tvalidation_0-mae:15.41451\n"
     ]
    },
    {
     "name": "stderr",
     "output_type": "stream",
     "text": [
      "D:\\Anaconda3\\lib\\site-packages\\xgboost\\sklearn.py:793: UserWarning: `early_stopping_rounds` in `fit` method is deprecated for better compatibility with scikit-learn, use `early_stopping_rounds` in constructor or`set_params` instead.\n",
      "  warnings.warn(\n",
      "D:\\Anaconda3\\lib\\site-packages\\xgboost\\sklearn.py:793: UserWarning: `early_stopping_rounds` in `fit` method is deprecated for better compatibility with scikit-learn, use `early_stopping_rounds` in constructor or`set_params` instead.\n",
      "  warnings.warn(\n"
     ]
    },
    {
     "name": "stdout",
     "output_type": "stream",
     "text": [
      "[0]\tvalidation_0-mae:15.09005\n",
      "[1]\tvalidation_0-mae:15.09553\n",
      "[2]\tvalidation_0-mae:15.10170\n",
      "[3]\tvalidation_0-mae:15.16256\n",
      "[4]\tvalidation_0-mae:15.23995\n",
      "[0]\tvalidation_0-mae:15.09719\n",
      "[1]\tvalidation_0-mae:15.11129\n",
      "[2]\tvalidation_0-mae:15.14251\n",
      "[3]\tvalidation_0-mae:15.22640\n",
      "[4]\tvalidation_0-mae:15.33083\n"
     ]
    },
    {
     "name": "stderr",
     "output_type": "stream",
     "text": [
      "D:\\Anaconda3\\lib\\site-packages\\xgboost\\sklearn.py:793: UserWarning: `early_stopping_rounds` in `fit` method is deprecated for better compatibility with scikit-learn, use `early_stopping_rounds` in constructor or`set_params` instead.\n",
      "  warnings.warn(\n",
      "D:\\Anaconda3\\lib\\site-packages\\xgboost\\sklearn.py:793: UserWarning: `early_stopping_rounds` in `fit` method is deprecated for better compatibility with scikit-learn, use `early_stopping_rounds` in constructor or`set_params` instead.\n",
      "  warnings.warn(\n"
     ]
    },
    {
     "name": "stdout",
     "output_type": "stream",
     "text": [
      "[0]\tvalidation_0-mae:15.09108\n",
      "[1]\tvalidation_0-mae:15.08249\n",
      "[2]\tvalidation_0-mae:15.05294\n",
      "[3]\tvalidation_0-mae:15.12845\n",
      "[4]\tvalidation_0-mae:15.21965\n",
      "[5]\tvalidation_0-mae:15.31730\n",
      "[6]\tvalidation_0-mae:15.43453\n",
      "[0]\tvalidation_0-mae:15.06742\n",
      "[1]\tvalidation_0-mae:15.07957\n",
      "[2]\tvalidation_0-mae:15.10092\n",
      "[3]\tvalidation_0-mae:15.18330\n"
     ]
    },
    {
     "name": "stderr",
     "output_type": "stream",
     "text": [
      "D:\\Anaconda3\\lib\\site-packages\\xgboost\\sklearn.py:793: UserWarning: `early_stopping_rounds` in `fit` method is deprecated for better compatibility with scikit-learn, use `early_stopping_rounds` in constructor or`set_params` instead.\n",
      "  warnings.warn(\n",
      "D:\\Anaconda3\\lib\\site-packages\\xgboost\\sklearn.py:793: UserWarning: `early_stopping_rounds` in `fit` method is deprecated for better compatibility with scikit-learn, use `early_stopping_rounds` in constructor or`set_params` instead.\n",
      "  warnings.warn(\n"
     ]
    },
    {
     "name": "stdout",
     "output_type": "stream",
     "text": [
      "[4]\tvalidation_0-mae:15.28845\n",
      "[0]\tvalidation_0-mae:15.09897\n",
      "[1]\tvalidation_0-mae:15.06547\n",
      "[2]\tvalidation_0-mae:15.05761\n",
      "[3]\tvalidation_0-mae:15.10278\n",
      "[4]\tvalidation_0-mae:15.16914\n",
      "[5]\tvalidation_0-mae:15.26646\n",
      "[6]\tvalidation_0-mae:15.37198\n",
      "[0]\tvalidation_0-mae:15.07755\n",
      "[1]\tvalidation_0-mae:15.08786\n",
      "[2]\tvalidation_0-mae:15.11542\n",
      "[3]\tvalidation_0-mae:15.19009\n"
     ]
    },
    {
     "name": "stderr",
     "output_type": "stream",
     "text": [
      "D:\\Anaconda3\\lib\\site-packages\\xgboost\\sklearn.py:793: UserWarning: `early_stopping_rounds` in `fit` method is deprecated for better compatibility with scikit-learn, use `early_stopping_rounds` in constructor or`set_params` instead.\n",
      "  warnings.warn(\n",
      "D:\\Anaconda3\\lib\\site-packages\\xgboost\\sklearn.py:793: UserWarning: `early_stopping_rounds` in `fit` method is deprecated for better compatibility with scikit-learn, use `early_stopping_rounds` in constructor or`set_params` instead.\n",
      "  warnings.warn(\n"
     ]
    },
    {
     "name": "stdout",
     "output_type": "stream",
     "text": [
      "[4]\tvalidation_0-mae:15.27548\n",
      "[5]\tvalidation_0-mae:15.37060\n",
      "[0]\tvalidation_0-mae:15.08244\n",
      "[1]\tvalidation_0-mae:15.08411\n",
      "[2]\tvalidation_0-mae:15.07881\n",
      "[3]\tvalidation_0-mae:15.15640\n",
      "[4]\tvalidation_0-mae:15.20458\n",
      "[5]\tvalidation_0-mae:15.28091\n",
      "[6]\tvalidation_0-mae:15.38728\n",
      "[0]\tvalidation_0-mae:15.08003\n",
      "[1]\tvalidation_0-mae:15.08998\n",
      "[2]\tvalidation_0-mae:15.11608\n",
      "[3]\tvalidation_0-mae:15.18889\n",
      "[4]\tvalidation_0-mae:15.25375\n"
     ]
    },
    {
     "name": "stderr",
     "output_type": "stream",
     "text": [
      "D:\\Anaconda3\\lib\\site-packages\\xgboost\\sklearn.py:793: UserWarning: `early_stopping_rounds` in `fit` method is deprecated for better compatibility with scikit-learn, use `early_stopping_rounds` in constructor or`set_params` instead.\n",
      "  warnings.warn(\n",
      "D:\\Anaconda3\\lib\\site-packages\\xgboost\\sklearn.py:793: UserWarning: `early_stopping_rounds` in `fit` method is deprecated for better compatibility with scikit-learn, use `early_stopping_rounds` in constructor or`set_params` instead.\n",
      "  warnings.warn(\n"
     ]
    },
    {
     "name": "stdout",
     "output_type": "stream",
     "text": [
      "[0]\tvalidation_0-mae:15.09108\n",
      "[1]\tvalidation_0-mae:15.08249\n",
      "[2]\tvalidation_0-mae:15.05294\n",
      "[3]\tvalidation_0-mae:15.12845\n",
      "[4]\tvalidation_0-mae:15.21965\n",
      "[5]\tvalidation_0-mae:15.31730\n",
      "[6]\tvalidation_0-mae:15.43453\n",
      "[7]\tvalidation_0-mae:15.53263\n",
      "[0]\tvalidation_0-mae:15.06742\n",
      "[1]\tvalidation_0-mae:15.07957\n",
      "[2]\tvalidation_0-mae:15.10092\n",
      "[3]\tvalidation_0-mae:15.18330\n"
     ]
    },
    {
     "name": "stderr",
     "output_type": "stream",
     "text": [
      "D:\\Anaconda3\\lib\\site-packages\\xgboost\\sklearn.py:793: UserWarning: `early_stopping_rounds` in `fit` method is deprecated for better compatibility with scikit-learn, use `early_stopping_rounds` in constructor or`set_params` instead.\n",
      "  warnings.warn(\n",
      "D:\\Anaconda3\\lib\\site-packages\\xgboost\\sklearn.py:793: UserWarning: `early_stopping_rounds` in `fit` method is deprecated for better compatibility with scikit-learn, use `early_stopping_rounds` in constructor or`set_params` instead.\n",
      "  warnings.warn(\n"
     ]
    },
    {
     "name": "stdout",
     "output_type": "stream",
     "text": [
      "[4]\tvalidation_0-mae:15.28845\n",
      "[0]\tvalidation_0-mae:15.09897\n",
      "[1]\tvalidation_0-mae:15.06547\n",
      "[2]\tvalidation_0-mae:15.05761\n",
      "[3]\tvalidation_0-mae:15.10278\n",
      "[4]\tvalidation_0-mae:15.16914\n",
      "[5]\tvalidation_0-mae:15.26646\n",
      "[6]\tvalidation_0-mae:15.37198\n",
      "[0]\tvalidation_0-mae:15.07755\n",
      "[1]\tvalidation_0-mae:15.08786\n",
      "[2]\tvalidation_0-mae:15.11542\n",
      "[3]\tvalidation_0-mae:15.19009\n",
      "[4]\tvalidation_0-mae:15.27548\n"
     ]
    },
    {
     "name": "stderr",
     "output_type": "stream",
     "text": [
      "D:\\Anaconda3\\lib\\site-packages\\xgboost\\sklearn.py:793: UserWarning: `early_stopping_rounds` in `fit` method is deprecated for better compatibility with scikit-learn, use `early_stopping_rounds` in constructor or`set_params` instead.\n",
      "  warnings.warn(\n",
      "D:\\Anaconda3\\lib\\site-packages\\xgboost\\sklearn.py:793: UserWarning: `early_stopping_rounds` in `fit` method is deprecated for better compatibility with scikit-learn, use `early_stopping_rounds` in constructor or`set_params` instead.\n",
      "  warnings.warn(\n"
     ]
    },
    {
     "name": "stdout",
     "output_type": "stream",
     "text": [
      "[0]\tvalidation_0-mae:15.08244\n",
      "[1]\tvalidation_0-mae:15.08411\n",
      "[2]\tvalidation_0-mae:15.07881\n",
      "[3]\tvalidation_0-mae:15.15640\n",
      "[4]\tvalidation_0-mae:15.20458\n",
      "[5]\tvalidation_0-mae:15.28091\n",
      "[6]\tvalidation_0-mae:15.38728\n",
      "[7]\tvalidation_0-mae:15.49056\n",
      "[0]\tvalidation_0-mae:15.08003\n",
      "[1]\tvalidation_0-mae:15.08998\n",
      "[2]\tvalidation_0-mae:15.11608\n",
      "[3]\tvalidation_0-mae:15.18889\n",
      "[4]\tvalidation_0-mae:15.25375\n"
     ]
    },
    {
     "name": "stderr",
     "output_type": "stream",
     "text": [
      "D:\\Anaconda3\\lib\\site-packages\\xgboost\\sklearn.py:793: UserWarning: `early_stopping_rounds` in `fit` method is deprecated for better compatibility with scikit-learn, use `early_stopping_rounds` in constructor or`set_params` instead.\n",
      "  warnings.warn(\n",
      "D:\\Anaconda3\\lib\\site-packages\\xgboost\\sklearn.py:793: UserWarning: `early_stopping_rounds` in `fit` method is deprecated for better compatibility with scikit-learn, use `early_stopping_rounds` in constructor or`set_params` instead.\n",
      "  warnings.warn(\n"
     ]
    },
    {
     "name": "stdout",
     "output_type": "stream",
     "text": [
      "[0]\tvalidation_0-mae:15.09108\n",
      "[1]\tvalidation_0-mae:15.08249\n",
      "[2]\tvalidation_0-mae:15.05294\n",
      "[3]\tvalidation_0-mae:15.12845\n",
      "[4]\tvalidation_0-mae:15.21965\n",
      "[5]\tvalidation_0-mae:15.31730\n",
      "[6]\tvalidation_0-mae:15.43453\n",
      "[0]\tvalidation_0-mae:15.06742\n",
      "[1]\tvalidation_0-mae:15.07957\n",
      "[2]\tvalidation_0-mae:15.10092\n",
      "[3]\tvalidation_0-mae:15.18330\n"
     ]
    },
    {
     "name": "stderr",
     "output_type": "stream",
     "text": [
      "D:\\Anaconda3\\lib\\site-packages\\xgboost\\sklearn.py:793: UserWarning: `early_stopping_rounds` in `fit` method is deprecated for better compatibility with scikit-learn, use `early_stopping_rounds` in constructor or`set_params` instead.\n",
      "  warnings.warn(\n",
      "D:\\Anaconda3\\lib\\site-packages\\xgboost\\sklearn.py:793: UserWarning: `early_stopping_rounds` in `fit` method is deprecated for better compatibility with scikit-learn, use `early_stopping_rounds` in constructor or`set_params` instead.\n",
      "  warnings.warn(\n"
     ]
    },
    {
     "name": "stdout",
     "output_type": "stream",
     "text": [
      "[4]\tvalidation_0-mae:15.28845\n",
      "[0]\tvalidation_0-mae:15.09897\n",
      "[1]\tvalidation_0-mae:15.06547\n",
      "[2]\tvalidation_0-mae:15.05761\n",
      "[3]\tvalidation_0-mae:15.10278\n",
      "[4]\tvalidation_0-mae:15.16914\n",
      "[5]\tvalidation_0-mae:15.26646\n",
      "[6]\tvalidation_0-mae:15.37198\n",
      "[7]\tvalidation_0-mae:15.49911\n",
      "[0]\tvalidation_0-mae:15.07755\n",
      "[1]\tvalidation_0-mae:15.08786\n",
      "[2]\tvalidation_0-mae:15.11542\n",
      "[3]\tvalidation_0-mae:15.19009\n"
     ]
    },
    {
     "name": "stderr",
     "output_type": "stream",
     "text": [
      "D:\\Anaconda3\\lib\\site-packages\\xgboost\\sklearn.py:793: UserWarning: `early_stopping_rounds` in `fit` method is deprecated for better compatibility with scikit-learn, use `early_stopping_rounds` in constructor or`set_params` instead.\n",
      "  warnings.warn(\n",
      "D:\\Anaconda3\\lib\\site-packages\\xgboost\\sklearn.py:793: UserWarning: `early_stopping_rounds` in `fit` method is deprecated for better compatibility with scikit-learn, use `early_stopping_rounds` in constructor or`set_params` instead.\n",
      "  warnings.warn(\n"
     ]
    },
    {
     "name": "stdout",
     "output_type": "stream",
     "text": [
      "[4]\tvalidation_0-mae:15.27548\n",
      "[0]\tvalidation_0-mae:15.08244\n",
      "[1]\tvalidation_0-mae:15.08411\n",
      "[2]\tvalidation_0-mae:15.07881\n",
      "[3]\tvalidation_0-mae:15.15640\n",
      "[4]\tvalidation_0-mae:15.20458\n",
      "[5]\tvalidation_0-mae:15.28091\n",
      "[6]\tvalidation_0-mae:15.38728\n",
      "[0]\tvalidation_0-mae:15.08003\n",
      "[1]\tvalidation_0-mae:15.08998\n",
      "[2]\tvalidation_0-mae:15.11608\n",
      "[3]\tvalidation_0-mae:15.18889\n",
      "[4]\tvalidation_0-mae:15.25375\n"
     ]
    },
    {
     "name": "stderr",
     "output_type": "stream",
     "text": [
      "D:\\Anaconda3\\lib\\site-packages\\xgboost\\sklearn.py:793: UserWarning: `early_stopping_rounds` in `fit` method is deprecated for better compatibility with scikit-learn, use `early_stopping_rounds` in constructor or`set_params` instead.\n",
      "  warnings.warn(\n",
      "D:\\Anaconda3\\lib\\site-packages\\xgboost\\sklearn.py:793: UserWarning: `early_stopping_rounds` in `fit` method is deprecated for better compatibility with scikit-learn, use `early_stopping_rounds` in constructor or`set_params` instead.\n",
      "  warnings.warn(\n"
     ]
    },
    {
     "name": "stdout",
     "output_type": "stream",
     "text": [
      "[0]\tvalidation_0-mae:15.08832\n",
      "[1]\tvalidation_0-mae:15.09775\n",
      "[2]\tvalidation_0-mae:15.08474\n",
      "[3]\tvalidation_0-mae:15.15194\n",
      "[4]\tvalidation_0-mae:15.25388\n",
      "[5]\tvalidation_0-mae:15.33950\n",
      "[6]\tvalidation_0-mae:15.46795\n",
      "[7]\tvalidation_0-mae:15.56834\n",
      "[0]\tvalidation_0-mae:15.08407\n",
      "[1]\tvalidation_0-mae:15.10526\n",
      "[2]\tvalidation_0-mae:15.09698\n"
     ]
    },
    {
     "name": "stderr",
     "output_type": "stream",
     "text": [
      "D:\\Anaconda3\\lib\\site-packages\\xgboost\\sklearn.py:793: UserWarning: `early_stopping_rounds` in `fit` method is deprecated for better compatibility with scikit-learn, use `early_stopping_rounds` in constructor or`set_params` instead.\n",
      "  warnings.warn(\n",
      "D:\\Anaconda3\\lib\\site-packages\\xgboost\\sklearn.py:793: UserWarning: `early_stopping_rounds` in `fit` method is deprecated for better compatibility with scikit-learn, use `early_stopping_rounds` in constructor or`set_params` instead.\n",
      "  warnings.warn(\n"
     ]
    },
    {
     "name": "stdout",
     "output_type": "stream",
     "text": [
      "[3]\tvalidation_0-mae:15.15258\n",
      "[4]\tvalidation_0-mae:15.23046\n",
      "[0]\tvalidation_0-mae:15.11173\n",
      "[1]\tvalidation_0-mae:15.09043\n",
      "[2]\tvalidation_0-mae:15.08756\n",
      "[3]\tvalidation_0-mae:15.12605\n",
      "[4]\tvalidation_0-mae:15.19009\n",
      "[5]\tvalidation_0-mae:15.26779\n",
      "[6]\tvalidation_0-mae:15.37604\n",
      "[0]\tvalidation_0-mae:15.06251\n",
      "[1]\tvalidation_0-mae:15.04436\n",
      "[2]\tvalidation_0-mae:15.07011\n"
     ]
    },
    {
     "name": "stderr",
     "output_type": "stream",
     "text": [
      "D:\\Anaconda3\\lib\\site-packages\\xgboost\\sklearn.py:793: UserWarning: `early_stopping_rounds` in `fit` method is deprecated for better compatibility with scikit-learn, use `early_stopping_rounds` in constructor or`set_params` instead.\n",
      "  warnings.warn(\n",
      "D:\\Anaconda3\\lib\\site-packages\\xgboost\\sklearn.py:793: UserWarning: `early_stopping_rounds` in `fit` method is deprecated for better compatibility with scikit-learn, use `early_stopping_rounds` in constructor or`set_params` instead.\n",
      "  warnings.warn(\n"
     ]
    },
    {
     "name": "stdout",
     "output_type": "stream",
     "text": [
      "[3]\tvalidation_0-mae:15.12282\n",
      "[4]\tvalidation_0-mae:15.20666\n",
      "[5]\tvalidation_0-mae:15.28666\n",
      "[6]\tvalidation_0-mae:15.42236\n",
      "[0]\tvalidation_0-mae:15.08963\n",
      "[1]\tvalidation_0-mae:15.09813\n",
      "[2]\tvalidation_0-mae:15.13906\n",
      "[3]\tvalidation_0-mae:15.15605\n",
      "[4]\tvalidation_0-mae:15.24647\n",
      "[0]\tvalidation_0-mae:15.07946\n",
      "[1]\tvalidation_0-mae:15.07694\n",
      "[2]\tvalidation_0-mae:15.08750\n",
      "[3]\tvalidation_0-mae:15.14162\n",
      "[4]\tvalidation_0-mae:15.21985\n",
      "[5]\tvalidation_0-mae:15.31432\n"
     ]
    },
    {
     "name": "stderr",
     "output_type": "stream",
     "text": [
      "D:\\Anaconda3\\lib\\site-packages\\xgboost\\sklearn.py:793: UserWarning: `early_stopping_rounds` in `fit` method is deprecated for better compatibility with scikit-learn, use `early_stopping_rounds` in constructor or`set_params` instead.\n",
      "  warnings.warn(\n",
      "D:\\Anaconda3\\lib\\site-packages\\xgboost\\sklearn.py:793: UserWarning: `early_stopping_rounds` in `fit` method is deprecated for better compatibility with scikit-learn, use `early_stopping_rounds` in constructor or`set_params` instead.\n",
      "  warnings.warn(\n"
     ]
    },
    {
     "name": "stdout",
     "output_type": "stream",
     "text": [
      "[0]\tvalidation_0-mae:15.08832\n",
      "[1]\tvalidation_0-mae:15.09775\n",
      "[2]\tvalidation_0-mae:15.08474\n",
      "[3]\tvalidation_0-mae:15.15194\n",
      "[4]\tvalidation_0-mae:15.25388\n",
      "[5]\tvalidation_0-mae:15.33950\n",
      "[6]\tvalidation_0-mae:15.46795\n",
      "[7]\tvalidation_0-mae:15.56834\n",
      "[0]\tvalidation_0-mae:15.08407\n",
      "[1]\tvalidation_0-mae:15.10526\n"
     ]
    },
    {
     "name": "stderr",
     "output_type": "stream",
     "text": [
      "D:\\Anaconda3\\lib\\site-packages\\xgboost\\sklearn.py:793: UserWarning: `early_stopping_rounds` in `fit` method is deprecated for better compatibility with scikit-learn, use `early_stopping_rounds` in constructor or`set_params` instead.\n",
      "  warnings.warn(\n",
      "D:\\Anaconda3\\lib\\site-packages\\xgboost\\sklearn.py:793: UserWarning: `early_stopping_rounds` in `fit` method is deprecated for better compatibility with scikit-learn, use `early_stopping_rounds` in constructor or`set_params` instead.\n",
      "  warnings.warn(\n"
     ]
    },
    {
     "name": "stdout",
     "output_type": "stream",
     "text": [
      "[2]\tvalidation_0-mae:15.09698\n",
      "[3]\tvalidation_0-mae:15.15258\n",
      "[4]\tvalidation_0-mae:15.23046\n",
      "[5]\tvalidation_0-mae:15.34150\n",
      "[0]\tvalidation_0-mae:15.11173\n",
      "[1]\tvalidation_0-mae:15.09043\n",
      "[2]\tvalidation_0-mae:15.08756\n",
      "[3]\tvalidation_0-mae:15.12605\n",
      "[4]\tvalidation_0-mae:15.19009\n",
      "[5]\tvalidation_0-mae:15.26779\n",
      "[6]\tvalidation_0-mae:15.37604\n",
      "[7]\tvalidation_0-mae:15.49736\n",
      "[0]\tvalidation_0-mae:15.06251\n",
      "[1]\tvalidation_0-mae:15.04436\n"
     ]
    },
    {
     "name": "stderr",
     "output_type": "stream",
     "text": [
      "D:\\Anaconda3\\lib\\site-packages\\xgboost\\sklearn.py:793: UserWarning: `early_stopping_rounds` in `fit` method is deprecated for better compatibility with scikit-learn, use `early_stopping_rounds` in constructor or`set_params` instead.\n",
      "  warnings.warn(\n",
      "D:\\Anaconda3\\lib\\site-packages\\xgboost\\sklearn.py:793: UserWarning: `early_stopping_rounds` in `fit` method is deprecated for better compatibility with scikit-learn, use `early_stopping_rounds` in constructor or`set_params` instead.\n",
      "  warnings.warn(\n"
     ]
    },
    {
     "name": "stdout",
     "output_type": "stream",
     "text": [
      "[2]\tvalidation_0-mae:15.07011\n",
      "[3]\tvalidation_0-mae:15.12282\n",
      "[4]\tvalidation_0-mae:15.20666\n",
      "[5]\tvalidation_0-mae:15.28666\n",
      "[6]\tvalidation_0-mae:15.42236\n",
      "[0]\tvalidation_0-mae:15.08963\n",
      "[1]\tvalidation_0-mae:15.09813\n",
      "[2]\tvalidation_0-mae:15.13906\n",
      "[3]\tvalidation_0-mae:15.15605\n",
      "[4]\tvalidation_0-mae:15.24647\n",
      "[5]\tvalidation_0-mae:15.32429\n",
      "[0]\tvalidation_0-mae:15.07946\n",
      "[1]\tvalidation_0-mae:15.07694\n",
      "[2]\tvalidation_0-mae:15.08750\n",
      "[3]\tvalidation_0-mae:15.14162\n",
      "[4]\tvalidation_0-mae:15.21985\n",
      "[5]\tvalidation_0-mae:15.31432\n"
     ]
    },
    {
     "name": "stderr",
     "output_type": "stream",
     "text": [
      "D:\\Anaconda3\\lib\\site-packages\\xgboost\\sklearn.py:793: UserWarning: `early_stopping_rounds` in `fit` method is deprecated for better compatibility with scikit-learn, use `early_stopping_rounds` in constructor or`set_params` instead.\n",
      "  warnings.warn(\n",
      "D:\\Anaconda3\\lib\\site-packages\\xgboost\\sklearn.py:793: UserWarning: `early_stopping_rounds` in `fit` method is deprecated for better compatibility with scikit-learn, use `early_stopping_rounds` in constructor or`set_params` instead.\n",
      "  warnings.warn(\n"
     ]
    },
    {
     "name": "stdout",
     "output_type": "stream",
     "text": [
      "[0]\tvalidation_0-mae:15.08832\n",
      "[1]\tvalidation_0-mae:15.09775\n",
      "[2]\tvalidation_0-mae:15.08474\n",
      "[3]\tvalidation_0-mae:15.15194\n",
      "[4]\tvalidation_0-mae:15.25388\n",
      "[5]\tvalidation_0-mae:15.33950\n",
      "[6]\tvalidation_0-mae:15.46795\n",
      "[7]\tvalidation_0-mae:15.56834\n",
      "[0]\tvalidation_0-mae:15.08407\n",
      "[1]\tvalidation_0-mae:15.10526\n"
     ]
    },
    {
     "name": "stderr",
     "output_type": "stream",
     "text": [
      "D:\\Anaconda3\\lib\\site-packages\\xgboost\\sklearn.py:793: UserWarning: `early_stopping_rounds` in `fit` method is deprecated for better compatibility with scikit-learn, use `early_stopping_rounds` in constructor or`set_params` instead.\n",
      "  warnings.warn(\n",
      "D:\\Anaconda3\\lib\\site-packages\\xgboost\\sklearn.py:793: UserWarning: `early_stopping_rounds` in `fit` method is deprecated for better compatibility with scikit-learn, use `early_stopping_rounds` in constructor or`set_params` instead.\n",
      "  warnings.warn(\n"
     ]
    },
    {
     "name": "stdout",
     "output_type": "stream",
     "text": [
      "[2]\tvalidation_0-mae:15.09698\n",
      "[3]\tvalidation_0-mae:15.15258\n",
      "[4]\tvalidation_0-mae:15.23046\n",
      "[5]\tvalidation_0-mae:15.34150\n",
      "[0]\tvalidation_0-mae:15.11173\n",
      "[1]\tvalidation_0-mae:15.09043\n",
      "[2]\tvalidation_0-mae:15.08756\n",
      "[3]\tvalidation_0-mae:15.12605\n",
      "[4]\tvalidation_0-mae:15.19009\n",
      "[5]\tvalidation_0-mae:15.26779\n",
      "[6]\tvalidation_0-mae:15.37604\n",
      "[0]\tvalidation_0-mae:15.06251\n",
      "[1]\tvalidation_0-mae:15.04436\n"
     ]
    },
    {
     "name": "stderr",
     "output_type": "stream",
     "text": [
      "D:\\Anaconda3\\lib\\site-packages\\xgboost\\sklearn.py:793: UserWarning: `early_stopping_rounds` in `fit` method is deprecated for better compatibility with scikit-learn, use `early_stopping_rounds` in constructor or`set_params` instead.\n",
      "  warnings.warn(\n",
      "D:\\Anaconda3\\lib\\site-packages\\xgboost\\sklearn.py:793: UserWarning: `early_stopping_rounds` in `fit` method is deprecated for better compatibility with scikit-learn, use `early_stopping_rounds` in constructor or`set_params` instead.\n",
      "  warnings.warn(\n"
     ]
    },
    {
     "name": "stdout",
     "output_type": "stream",
     "text": [
      "[2]\tvalidation_0-mae:15.07011\n",
      "[3]\tvalidation_0-mae:15.12282\n",
      "[4]\tvalidation_0-mae:15.20666\n",
      "[5]\tvalidation_0-mae:15.28666\n",
      "[0]\tvalidation_0-mae:15.08963\n",
      "[1]\tvalidation_0-mae:15.09813\n",
      "[2]\tvalidation_0-mae:15.13906\n",
      "[3]\tvalidation_0-mae:15.15605\n",
      "[4]\tvalidation_0-mae:15.24647\n",
      "[5]\tvalidation_0-mae:15.32429\n",
      "[0]\tvalidation_0-mae:15.07946\n",
      "[1]\tvalidation_0-mae:15.07694\n",
      "[2]\tvalidation_0-mae:15.08750\n",
      "[3]\tvalidation_0-mae:15.14162\n",
      "[4]\tvalidation_0-mae:15.21985\n",
      "[5]\tvalidation_0-mae:15.31432\n"
     ]
    },
    {
     "name": "stderr",
     "output_type": "stream",
     "text": [
      "D:\\Anaconda3\\lib\\site-packages\\xgboost\\sklearn.py:793: UserWarning: `early_stopping_rounds` in `fit` method is deprecated for better compatibility with scikit-learn, use `early_stopping_rounds` in constructor or`set_params` instead.\n",
      "  warnings.warn(\n",
      "D:\\Anaconda3\\lib\\site-packages\\xgboost\\sklearn.py:793: UserWarning: `early_stopping_rounds` in `fit` method is deprecated for better compatibility with scikit-learn, use `early_stopping_rounds` in constructor or`set_params` instead.\n",
      "  warnings.warn(\n"
     ]
    },
    {
     "name": "stdout",
     "output_type": "stream",
     "text": [
      "[0]\tvalidation_0-mae:15.10161\n",
      "[1]\tvalidation_0-mae:15.23942\n",
      "[2]\tvalidation_0-mae:15.41675\n",
      "[3]\tvalidation_0-mae:15.67372\n",
      "[4]\tvalidation_0-mae:16.02252\n",
      "[5]\tvalidation_0-mae:16.34829\n",
      "[0]\tvalidation_0-mae:15.12873\n",
      "[1]\tvalidation_0-mae:15.27944\n",
      "[2]\tvalidation_0-mae:15.48925\n",
      "[3]\tvalidation_0-mae:15.78793\n",
      "[4]\tvalidation_0-mae:16.09537\n"
     ]
    },
    {
     "name": "stderr",
     "output_type": "stream",
     "text": [
      "D:\\Anaconda3\\lib\\site-packages\\xgboost\\sklearn.py:793: UserWarning: `early_stopping_rounds` in `fit` method is deprecated for better compatibility with scikit-learn, use `early_stopping_rounds` in constructor or`set_params` instead.\n",
      "  warnings.warn(\n",
      "D:\\Anaconda3\\lib\\site-packages\\xgboost\\sklearn.py:793: UserWarning: `early_stopping_rounds` in `fit` method is deprecated for better compatibility with scikit-learn, use `early_stopping_rounds` in constructor or`set_params` instead.\n",
      "  warnings.warn(\n"
     ]
    },
    {
     "name": "stdout",
     "output_type": "stream",
     "text": [
      "[0]\tvalidation_0-mae:15.09347\n",
      "[1]\tvalidation_0-mae:15.16939\n",
      "[2]\tvalidation_0-mae:15.37401\n",
      "[3]\tvalidation_0-mae:15.61321\n",
      "[4]\tvalidation_0-mae:15.86809\n",
      "[0]\tvalidation_0-mae:15.11872\n",
      "[1]\tvalidation_0-mae:15.22527\n",
      "[2]\tvalidation_0-mae:15.43046\n",
      "[3]\tvalidation_0-mae:15.67490\n",
      "[4]\tvalidation_0-mae:16.00257\n",
      "[5]\tvalidation_0-mae:16.31924\n"
     ]
    },
    {
     "name": "stderr",
     "output_type": "stream",
     "text": [
      "D:\\Anaconda3\\lib\\site-packages\\xgboost\\sklearn.py:793: UserWarning: `early_stopping_rounds` in `fit` method is deprecated for better compatibility with scikit-learn, use `early_stopping_rounds` in constructor or`set_params` instead.\n",
      "  warnings.warn(\n",
      "D:\\Anaconda3\\lib\\site-packages\\xgboost\\sklearn.py:793: UserWarning: `early_stopping_rounds` in `fit` method is deprecated for better compatibility with scikit-learn, use `early_stopping_rounds` in constructor or`set_params` instead.\n",
      "  warnings.warn(\n"
     ]
    },
    {
     "name": "stdout",
     "output_type": "stream",
     "text": [
      "[0]\tvalidation_0-mae:15.09673\n",
      "[1]\tvalidation_0-mae:15.14812\n",
      "[2]\tvalidation_0-mae:15.35079\n",
      "[3]\tvalidation_0-mae:15.60839\n",
      "[4]\tvalidation_0-mae:15.92934\n",
      "[5]\tvalidation_0-mae:16.21676\n",
      "[0]\tvalidation_0-mae:15.11338\n",
      "[1]\tvalidation_0-mae:15.22704\n",
      "[2]\tvalidation_0-mae:15.47762\n",
      "[3]\tvalidation_0-mae:15.75416\n",
      "[4]\tvalidation_0-mae:16.04933\n",
      "[5]\tvalidation_0-mae:16.37852\n"
     ]
    },
    {
     "name": "stderr",
     "output_type": "stream",
     "text": [
      "D:\\Anaconda3\\lib\\site-packages\\xgboost\\sklearn.py:793: UserWarning: `early_stopping_rounds` in `fit` method is deprecated for better compatibility with scikit-learn, use `early_stopping_rounds` in constructor or`set_params` instead.\n",
      "  warnings.warn(\n",
      "D:\\Anaconda3\\lib\\site-packages\\xgboost\\sklearn.py:793: UserWarning: `early_stopping_rounds` in `fit` method is deprecated for better compatibility with scikit-learn, use `early_stopping_rounds` in constructor or`set_params` instead.\n",
      "  warnings.warn(\n"
     ]
    },
    {
     "name": "stdout",
     "output_type": "stream",
     "text": [
      "[0]\tvalidation_0-mae:15.10161\n",
      "[1]\tvalidation_0-mae:15.23942\n",
      "[2]\tvalidation_0-mae:15.41675\n",
      "[3]\tvalidation_0-mae:15.67372\n",
      "[4]\tvalidation_0-mae:16.02252\n",
      "[0]\tvalidation_0-mae:15.12873\n",
      "[1]\tvalidation_0-mae:15.27944\n",
      "[2]\tvalidation_0-mae:15.48925\n",
      "[3]\tvalidation_0-mae:15.78793\n",
      "[4]\tvalidation_0-mae:16.09537\n"
     ]
    },
    {
     "name": "stderr",
     "output_type": "stream",
     "text": [
      "D:\\Anaconda3\\lib\\site-packages\\xgboost\\sklearn.py:793: UserWarning: `early_stopping_rounds` in `fit` method is deprecated for better compatibility with scikit-learn, use `early_stopping_rounds` in constructor or`set_params` instead.\n",
      "  warnings.warn(\n",
      "D:\\Anaconda3\\lib\\site-packages\\xgboost\\sklearn.py:793: UserWarning: `early_stopping_rounds` in `fit` method is deprecated for better compatibility with scikit-learn, use `early_stopping_rounds` in constructor or`set_params` instead.\n",
      "  warnings.warn(\n"
     ]
    },
    {
     "name": "stdout",
     "output_type": "stream",
     "text": [
      "[0]\tvalidation_0-mae:15.09347\n",
      "[1]\tvalidation_0-mae:15.16939\n",
      "[2]\tvalidation_0-mae:15.37401\n",
      "[3]\tvalidation_0-mae:15.61321\n",
      "[4]\tvalidation_0-mae:15.86809\n",
      "[0]\tvalidation_0-mae:15.11872\n",
      "[1]\tvalidation_0-mae:15.22527\n",
      "[2]\tvalidation_0-mae:15.43046\n",
      "[3]\tvalidation_0-mae:15.67490\n",
      "[4]\tvalidation_0-mae:16.00257\n"
     ]
    },
    {
     "name": "stderr",
     "output_type": "stream",
     "text": [
      "D:\\Anaconda3\\lib\\site-packages\\xgboost\\sklearn.py:793: UserWarning: `early_stopping_rounds` in `fit` method is deprecated for better compatibility with scikit-learn, use `early_stopping_rounds` in constructor or`set_params` instead.\n",
      "  warnings.warn(\n",
      "D:\\Anaconda3\\lib\\site-packages\\xgboost\\sklearn.py:793: UserWarning: `early_stopping_rounds` in `fit` method is deprecated for better compatibility with scikit-learn, use `early_stopping_rounds` in constructor or`set_params` instead.\n",
      "  warnings.warn(\n"
     ]
    },
    {
     "name": "stdout",
     "output_type": "stream",
     "text": [
      "[0]\tvalidation_0-mae:15.09673\n",
      "[1]\tvalidation_0-mae:15.14812\n",
      "[2]\tvalidation_0-mae:15.35079\n",
      "[3]\tvalidation_0-mae:15.60839\n",
      "[4]\tvalidation_0-mae:15.92934\n",
      "[0]\tvalidation_0-mae:15.11338\n",
      "[1]\tvalidation_0-mae:15.22704\n",
      "[2]\tvalidation_0-mae:15.47762\n",
      "[3]\tvalidation_0-mae:15.75416\n",
      "[4]\tvalidation_0-mae:16.04933\n"
     ]
    },
    {
     "name": "stderr",
     "output_type": "stream",
     "text": [
      "D:\\Anaconda3\\lib\\site-packages\\xgboost\\sklearn.py:793: UserWarning: `early_stopping_rounds` in `fit` method is deprecated for better compatibility with scikit-learn, use `early_stopping_rounds` in constructor or`set_params` instead.\n",
      "  warnings.warn(\n",
      "D:\\Anaconda3\\lib\\site-packages\\xgboost\\sklearn.py:793: UserWarning: `early_stopping_rounds` in `fit` method is deprecated for better compatibility with scikit-learn, use `early_stopping_rounds` in constructor or`set_params` instead.\n",
      "  warnings.warn(\n"
     ]
    },
    {
     "name": "stdout",
     "output_type": "stream",
     "text": [
      "[0]\tvalidation_0-mae:15.10161\n",
      "[1]\tvalidation_0-mae:15.23942\n",
      "[2]\tvalidation_0-mae:15.41675\n",
      "[3]\tvalidation_0-mae:15.67372\n",
      "[4]\tvalidation_0-mae:16.02252\n",
      "[5]\tvalidation_0-mae:16.34829\n",
      "[0]\tvalidation_0-mae:15.12873\n",
      "[1]\tvalidation_0-mae:15.27944\n",
      "[2]\tvalidation_0-mae:15.48925\n",
      "[3]\tvalidation_0-mae:15.78793\n",
      "[4]\tvalidation_0-mae:16.09537\n"
     ]
    },
    {
     "name": "stderr",
     "output_type": "stream",
     "text": [
      "D:\\Anaconda3\\lib\\site-packages\\xgboost\\sklearn.py:793: UserWarning: `early_stopping_rounds` in `fit` method is deprecated for better compatibility with scikit-learn, use `early_stopping_rounds` in constructor or`set_params` instead.\n",
      "  warnings.warn(\n",
      "D:\\Anaconda3\\lib\\site-packages\\xgboost\\sklearn.py:793: UserWarning: `early_stopping_rounds` in `fit` method is deprecated for better compatibility with scikit-learn, use `early_stopping_rounds` in constructor or`set_params` instead.\n",
      "  warnings.warn(\n"
     ]
    },
    {
     "name": "stdout",
     "output_type": "stream",
     "text": [
      "[0]\tvalidation_0-mae:15.09347\n",
      "[1]\tvalidation_0-mae:15.16939\n",
      "[2]\tvalidation_0-mae:15.37401\n",
      "[3]\tvalidation_0-mae:15.61321\n",
      "[4]\tvalidation_0-mae:15.86809\n",
      "[0]\tvalidation_0-mae:15.11872\n",
      "[1]\tvalidation_0-mae:15.22527\n",
      "[2]\tvalidation_0-mae:15.43046\n",
      "[3]\tvalidation_0-mae:15.67490\n",
      "[4]\tvalidation_0-mae:16.00257\n"
     ]
    },
    {
     "name": "stderr",
     "output_type": "stream",
     "text": [
      "D:\\Anaconda3\\lib\\site-packages\\xgboost\\sklearn.py:793: UserWarning: `early_stopping_rounds` in `fit` method is deprecated for better compatibility with scikit-learn, use `early_stopping_rounds` in constructor or`set_params` instead.\n",
      "  warnings.warn(\n",
      "D:\\Anaconda3\\lib\\site-packages\\xgboost\\sklearn.py:793: UserWarning: `early_stopping_rounds` in `fit` method is deprecated for better compatibility with scikit-learn, use `early_stopping_rounds` in constructor or`set_params` instead.\n",
      "  warnings.warn(\n"
     ]
    },
    {
     "name": "stdout",
     "output_type": "stream",
     "text": [
      "[0]\tvalidation_0-mae:15.09673\n",
      "[1]\tvalidation_0-mae:15.14812\n",
      "[2]\tvalidation_0-mae:15.35079\n",
      "[3]\tvalidation_0-mae:15.60839\n",
      "[4]\tvalidation_0-mae:15.92934\n",
      "[5]\tvalidation_0-mae:16.21676\n",
      "[0]\tvalidation_0-mae:15.11338\n",
      "[1]\tvalidation_0-mae:15.22704\n",
      "[2]\tvalidation_0-mae:15.47762\n",
      "[3]\tvalidation_0-mae:15.75416\n",
      "[4]\tvalidation_0-mae:16.04933\n"
     ]
    },
    {
     "name": "stderr",
     "output_type": "stream",
     "text": [
      "D:\\Anaconda3\\lib\\site-packages\\xgboost\\sklearn.py:793: UserWarning: `early_stopping_rounds` in `fit` method is deprecated for better compatibility with scikit-learn, use `early_stopping_rounds` in constructor or`set_params` instead.\n",
      "  warnings.warn(\n",
      "D:\\Anaconda3\\lib\\site-packages\\xgboost\\sklearn.py:793: UserWarning: `early_stopping_rounds` in `fit` method is deprecated for better compatibility with scikit-learn, use `early_stopping_rounds` in constructor or`set_params` instead.\n",
      "  warnings.warn(\n"
     ]
    },
    {
     "name": "stdout",
     "output_type": "stream",
     "text": [
      "[0]\tvalidation_0-mae:15.10330\n",
      "[1]\tvalidation_0-mae:15.18135\n",
      "[2]\tvalidation_0-mae:15.25994\n",
      "[3]\tvalidation_0-mae:15.51191\n",
      "[4]\tvalidation_0-mae:15.83311\n",
      "[0]\tvalidation_0-mae:15.05501\n",
      "[1]\tvalidation_0-mae:15.19899\n",
      "[2]\tvalidation_0-mae:15.38068\n",
      "[3]\tvalidation_0-mae:15.65971\n",
      "[4]\tvalidation_0-mae:16.02461\n"
     ]
    },
    {
     "name": "stderr",
     "output_type": "stream",
     "text": [
      "D:\\Anaconda3\\lib\\site-packages\\xgboost\\sklearn.py:793: UserWarning: `early_stopping_rounds` in `fit` method is deprecated for better compatibility with scikit-learn, use `early_stopping_rounds` in constructor or`set_params` instead.\n",
      "  warnings.warn(\n",
      "D:\\Anaconda3\\lib\\site-packages\\xgboost\\sklearn.py:793: UserWarning: `early_stopping_rounds` in `fit` method is deprecated for better compatibility with scikit-learn, use `early_stopping_rounds` in constructor or`set_params` instead.\n",
      "  warnings.warn(\n"
     ]
    },
    {
     "name": "stdout",
     "output_type": "stream",
     "text": [
      "[0]\tvalidation_0-mae:15.11637\n",
      "[1]\tvalidation_0-mae:15.16087\n",
      "[2]\tvalidation_0-mae:15.27861\n",
      "[3]\tvalidation_0-mae:15.50149\n",
      "[4]\tvalidation_0-mae:15.75262\n",
      "[5]\tvalidation_0-mae:16.05835\n",
      "[0]\tvalidation_0-mae:15.08093\n",
      "[1]\tvalidation_0-mae:15.21431\n",
      "[2]\tvalidation_0-mae:15.42888\n",
      "[3]\tvalidation_0-mae:15.70708\n",
      "[4]\tvalidation_0-mae:16.02388\n"
     ]
    },
    {
     "name": "stderr",
     "output_type": "stream",
     "text": [
      "D:\\Anaconda3\\lib\\site-packages\\xgboost\\sklearn.py:793: UserWarning: `early_stopping_rounds` in `fit` method is deprecated for better compatibility with scikit-learn, use `early_stopping_rounds` in constructor or`set_params` instead.\n",
      "  warnings.warn(\n",
      "D:\\Anaconda3\\lib\\site-packages\\xgboost\\sklearn.py:793: UserWarning: `early_stopping_rounds` in `fit` method is deprecated for better compatibility with scikit-learn, use `early_stopping_rounds` in constructor or`set_params` instead.\n",
      "  warnings.warn(\n"
     ]
    },
    {
     "name": "stdout",
     "output_type": "stream",
     "text": [
      "[0]\tvalidation_0-mae:15.07358\n",
      "[1]\tvalidation_0-mae:15.19091\n",
      "[2]\tvalidation_0-mae:15.32931\n",
      "[3]\tvalidation_0-mae:15.52561\n",
      "[4]\tvalidation_0-mae:15.80702\n",
      "[0]\tvalidation_0-mae:15.09160\n",
      "[1]\tvalidation_0-mae:15.18582\n",
      "[2]\tvalidation_0-mae:15.38595\n",
      "[3]\tvalidation_0-mae:15.68026\n",
      "[4]\tvalidation_0-mae:16.01141\n"
     ]
    },
    {
     "name": "stderr",
     "output_type": "stream",
     "text": [
      "D:\\Anaconda3\\lib\\site-packages\\xgboost\\sklearn.py:793: UserWarning: `early_stopping_rounds` in `fit` method is deprecated for better compatibility with scikit-learn, use `early_stopping_rounds` in constructor or`set_params` instead.\n",
      "  warnings.warn(\n",
      "D:\\Anaconda3\\lib\\site-packages\\xgboost\\sklearn.py:793: UserWarning: `early_stopping_rounds` in `fit` method is deprecated for better compatibility with scikit-learn, use `early_stopping_rounds` in constructor or`set_params` instead.\n",
      "  warnings.warn(\n"
     ]
    },
    {
     "name": "stdout",
     "output_type": "stream",
     "text": [
      "[0]\tvalidation_0-mae:15.10330\n",
      "[1]\tvalidation_0-mae:15.18135\n",
      "[2]\tvalidation_0-mae:15.25994\n",
      "[3]\tvalidation_0-mae:15.51191\n",
      "[4]\tvalidation_0-mae:15.83311\n",
      "[5]\tvalidation_0-mae:16.12906\n",
      "[0]\tvalidation_0-mae:15.05501\n",
      "[1]\tvalidation_0-mae:15.19899\n",
      "[2]\tvalidation_0-mae:15.38068\n",
      "[3]\tvalidation_0-mae:15.65971\n",
      "[4]\tvalidation_0-mae:16.02461\n"
     ]
    },
    {
     "name": "stderr",
     "output_type": "stream",
     "text": [
      "D:\\Anaconda3\\lib\\site-packages\\xgboost\\sklearn.py:793: UserWarning: `early_stopping_rounds` in `fit` method is deprecated for better compatibility with scikit-learn, use `early_stopping_rounds` in constructor or`set_params` instead.\n",
      "  warnings.warn(\n",
      "D:\\Anaconda3\\lib\\site-packages\\xgboost\\sklearn.py:793: UserWarning: `early_stopping_rounds` in `fit` method is deprecated for better compatibility with scikit-learn, use `early_stopping_rounds` in constructor or`set_params` instead.\n",
      "  warnings.warn(\n"
     ]
    },
    {
     "name": "stdout",
     "output_type": "stream",
     "text": [
      "[0]\tvalidation_0-mae:15.11637\n",
      "[1]\tvalidation_0-mae:15.16087\n",
      "[2]\tvalidation_0-mae:15.27861\n",
      "[3]\tvalidation_0-mae:15.50149\n",
      "[4]\tvalidation_0-mae:15.75262\n",
      "[0]\tvalidation_0-mae:15.08093\n",
      "[1]\tvalidation_0-mae:15.21431\n",
      "[2]\tvalidation_0-mae:15.42888\n",
      "[3]\tvalidation_0-mae:15.70708\n",
      "[4]\tvalidation_0-mae:16.02388\n",
      "[5]\tvalidation_0-mae:16.32612\n"
     ]
    },
    {
     "name": "stderr",
     "output_type": "stream",
     "text": [
      "D:\\Anaconda3\\lib\\site-packages\\xgboost\\sklearn.py:793: UserWarning: `early_stopping_rounds` in `fit` method is deprecated for better compatibility with scikit-learn, use `early_stopping_rounds` in constructor or`set_params` instead.\n",
      "  warnings.warn(\n",
      "D:\\Anaconda3\\lib\\site-packages\\xgboost\\sklearn.py:793: UserWarning: `early_stopping_rounds` in `fit` method is deprecated for better compatibility with scikit-learn, use `early_stopping_rounds` in constructor or`set_params` instead.\n",
      "  warnings.warn(\n"
     ]
    },
    {
     "name": "stdout",
     "output_type": "stream",
     "text": [
      "[0]\tvalidation_0-mae:15.07358\n",
      "[1]\tvalidation_0-mae:15.19091\n",
      "[2]\tvalidation_0-mae:15.32931\n",
      "[3]\tvalidation_0-mae:15.52561\n",
      "[4]\tvalidation_0-mae:15.80702\n",
      "[0]\tvalidation_0-mae:15.09160\n",
      "[1]\tvalidation_0-mae:15.18582\n",
      "[2]\tvalidation_0-mae:15.38595\n",
      "[3]\tvalidation_0-mae:15.68026\n",
      "[4]\tvalidation_0-mae:16.01141\n"
     ]
    },
    {
     "name": "stderr",
     "output_type": "stream",
     "text": [
      "D:\\Anaconda3\\lib\\site-packages\\xgboost\\sklearn.py:793: UserWarning: `early_stopping_rounds` in `fit` method is deprecated for better compatibility with scikit-learn, use `early_stopping_rounds` in constructor or`set_params` instead.\n",
      "  warnings.warn(\n",
      "D:\\Anaconda3\\lib\\site-packages\\xgboost\\sklearn.py:793: UserWarning: `early_stopping_rounds` in `fit` method is deprecated for better compatibility with scikit-learn, use `early_stopping_rounds` in constructor or`set_params` instead.\n",
      "  warnings.warn(\n"
     ]
    },
    {
     "name": "stdout",
     "output_type": "stream",
     "text": [
      "[0]\tvalidation_0-mae:15.10330\n",
      "[1]\tvalidation_0-mae:15.18135\n",
      "[2]\tvalidation_0-mae:15.25994\n",
      "[3]\tvalidation_0-mae:15.51191\n",
      "[4]\tvalidation_0-mae:15.83311\n",
      "[5]\tvalidation_0-mae:16.12906\n",
      "[0]\tvalidation_0-mae:15.05501\n",
      "[1]\tvalidation_0-mae:15.19899\n",
      "[2]\tvalidation_0-mae:15.38068\n",
      "[3]\tvalidation_0-mae:15.65971\n",
      "[4]\tvalidation_0-mae:16.02461\n"
     ]
    },
    {
     "name": "stderr",
     "output_type": "stream",
     "text": [
      "D:\\Anaconda3\\lib\\site-packages\\xgboost\\sklearn.py:793: UserWarning: `early_stopping_rounds` in `fit` method is deprecated for better compatibility with scikit-learn, use `early_stopping_rounds` in constructor or`set_params` instead.\n",
      "  warnings.warn(\n",
      "D:\\Anaconda3\\lib\\site-packages\\xgboost\\sklearn.py:793: UserWarning: `early_stopping_rounds` in `fit` method is deprecated for better compatibility with scikit-learn, use `early_stopping_rounds` in constructor or`set_params` instead.\n",
      "  warnings.warn(\n"
     ]
    },
    {
     "name": "stdout",
     "output_type": "stream",
     "text": [
      "[0]\tvalidation_0-mae:15.11637\n",
      "[1]\tvalidation_0-mae:15.16087\n",
      "[2]\tvalidation_0-mae:15.27861\n",
      "[3]\tvalidation_0-mae:15.50149\n",
      "[4]\tvalidation_0-mae:15.75262\n",
      "[0]\tvalidation_0-mae:15.08093\n",
      "[1]\tvalidation_0-mae:15.21431\n",
      "[2]\tvalidation_0-mae:15.42888\n",
      "[3]\tvalidation_0-mae:15.70708\n",
      "[4]\tvalidation_0-mae:16.02388\n"
     ]
    },
    {
     "name": "stderr",
     "output_type": "stream",
     "text": [
      "D:\\Anaconda3\\lib\\site-packages\\xgboost\\sklearn.py:793: UserWarning: `early_stopping_rounds` in `fit` method is deprecated for better compatibility with scikit-learn, use `early_stopping_rounds` in constructor or`set_params` instead.\n",
      "  warnings.warn(\n",
      "D:\\Anaconda3\\lib\\site-packages\\xgboost\\sklearn.py:793: UserWarning: `early_stopping_rounds` in `fit` method is deprecated for better compatibility with scikit-learn, use `early_stopping_rounds` in constructor or`set_params` instead.\n",
      "  warnings.warn(\n"
     ]
    },
    {
     "name": "stdout",
     "output_type": "stream",
     "text": [
      "[0]\tvalidation_0-mae:15.07358\n",
      "[1]\tvalidation_0-mae:15.19091\n",
      "[2]\tvalidation_0-mae:15.32931\n",
      "[3]\tvalidation_0-mae:15.52561\n",
      "[4]\tvalidation_0-mae:15.80702\n",
      "[0]\tvalidation_0-mae:15.09160\n",
      "[1]\tvalidation_0-mae:15.18582\n",
      "[2]\tvalidation_0-mae:15.38595\n",
      "[3]\tvalidation_0-mae:15.68026\n",
      "[4]\tvalidation_0-mae:16.01141\n"
     ]
    },
    {
     "name": "stderr",
     "output_type": "stream",
     "text": [
      "D:\\Anaconda3\\lib\\site-packages\\xgboost\\sklearn.py:793: UserWarning: `early_stopping_rounds` in `fit` method is deprecated for better compatibility with scikit-learn, use `early_stopping_rounds` in constructor or`set_params` instead.\n",
      "  warnings.warn(\n",
      "D:\\Anaconda3\\lib\\site-packages\\xgboost\\sklearn.py:793: UserWarning: `early_stopping_rounds` in `fit` method is deprecated for better compatibility with scikit-learn, use `early_stopping_rounds` in constructor or`set_params` instead.\n",
      "  warnings.warn(\n"
     ]
    },
    {
     "name": "stdout",
     "output_type": "stream",
     "text": [
      "[0]\tvalidation_0-mae:15.10383\n",
      "[1]\tvalidation_0-mae:15.21160\n",
      "[2]\tvalidation_0-mae:15.31895\n",
      "[3]\tvalidation_0-mae:15.56106\n",
      "[4]\tvalidation_0-mae:15.85769\n",
      "[5]\tvalidation_0-mae:16.10603\n",
      "[0]\tvalidation_0-mae:15.09365\n",
      "[1]\tvalidation_0-mae:15.24237\n",
      "[2]\tvalidation_0-mae:15.38595\n",
      "[3]\tvalidation_0-mae:15.67079\n",
      "[4]\tvalidation_0-mae:16.00547\n"
     ]
    },
    {
     "name": "stderr",
     "output_type": "stream",
     "text": [
      "D:\\Anaconda3\\lib\\site-packages\\xgboost\\sklearn.py:793: UserWarning: `early_stopping_rounds` in `fit` method is deprecated for better compatibility with scikit-learn, use `early_stopping_rounds` in constructor or`set_params` instead.\n",
      "  warnings.warn(\n",
      "D:\\Anaconda3\\lib\\site-packages\\xgboost\\sklearn.py:793: UserWarning: `early_stopping_rounds` in `fit` method is deprecated for better compatibility with scikit-learn, use `early_stopping_rounds` in constructor or`set_params` instead.\n",
      "  warnings.warn(\n"
     ]
    },
    {
     "name": "stdout",
     "output_type": "stream",
     "text": [
      "[0]\tvalidation_0-mae:15.14972\n",
      "[1]\tvalidation_0-mae:15.21149\n",
      "[2]\tvalidation_0-mae:15.34848\n",
      "[3]\tvalidation_0-mae:15.52715\n",
      "[4]\tvalidation_0-mae:15.79328\n",
      "[5]\tvalidation_0-mae:16.06535\n",
      "[0]\tvalidation_0-mae:15.04315\n",
      "[1]\tvalidation_0-mae:15.14929\n",
      "[2]\tvalidation_0-mae:15.35193\n",
      "[3]\tvalidation_0-mae:15.61047\n",
      "[4]\tvalidation_0-mae:15.94320\n"
     ]
    },
    {
     "name": "stderr",
     "output_type": "stream",
     "text": [
      "D:\\Anaconda3\\lib\\site-packages\\xgboost\\sklearn.py:793: UserWarning: `early_stopping_rounds` in `fit` method is deprecated for better compatibility with scikit-learn, use `early_stopping_rounds` in constructor or`set_params` instead.\n",
      "  warnings.warn(\n",
      "D:\\Anaconda3\\lib\\site-packages\\xgboost\\sklearn.py:793: UserWarning: `early_stopping_rounds` in `fit` method is deprecated for better compatibility with scikit-learn, use `early_stopping_rounds` in constructor or`set_params` instead.\n",
      "  warnings.warn(\n"
     ]
    },
    {
     "name": "stdout",
     "output_type": "stream",
     "text": [
      "[5]\tvalidation_0-mae:16.22050\n",
      "[0]\tvalidation_0-mae:15.09046\n",
      "[1]\tvalidation_0-mae:15.20245\n",
      "[2]\tvalidation_0-mae:15.34376\n",
      "[3]\tvalidation_0-mae:15.57422\n",
      "[4]\tvalidation_0-mae:15.79440\n",
      "[0]\tvalidation_0-mae:15.07962\n",
      "[1]\tvalidation_0-mae:15.14853\n",
      "[2]\tvalidation_0-mae:15.31255\n",
      "[3]\tvalidation_0-mae:15.60052\n",
      "[4]\tvalidation_0-mae:15.91523\n",
      "[5]\tvalidation_0-mae:16.22771\n"
     ]
    },
    {
     "name": "stderr",
     "output_type": "stream",
     "text": [
      "D:\\Anaconda3\\lib\\site-packages\\xgboost\\sklearn.py:793: UserWarning: `early_stopping_rounds` in `fit` method is deprecated for better compatibility with scikit-learn, use `early_stopping_rounds` in constructor or`set_params` instead.\n",
      "  warnings.warn(\n",
      "D:\\Anaconda3\\lib\\site-packages\\xgboost\\sklearn.py:793: UserWarning: `early_stopping_rounds` in `fit` method is deprecated for better compatibility with scikit-learn, use `early_stopping_rounds` in constructor or`set_params` instead.\n",
      "  warnings.warn(\n"
     ]
    },
    {
     "name": "stdout",
     "output_type": "stream",
     "text": [
      "[0]\tvalidation_0-mae:15.10383\n",
      "[1]\tvalidation_0-mae:15.21160\n",
      "[2]\tvalidation_0-mae:15.31895\n",
      "[3]\tvalidation_0-mae:15.56106\n",
      "[4]\tvalidation_0-mae:15.85769\n",
      "[0]\tvalidation_0-mae:15.09365\n",
      "[1]\tvalidation_0-mae:15.24237\n",
      "[2]\tvalidation_0-mae:15.38595\n"
     ]
    },
    {
     "name": "stderr",
     "output_type": "stream",
     "text": [
      "D:\\Anaconda3\\lib\\site-packages\\xgboost\\sklearn.py:793: UserWarning: `early_stopping_rounds` in `fit` method is deprecated for better compatibility with scikit-learn, use `early_stopping_rounds` in constructor or`set_params` instead.\n",
      "  warnings.warn(\n",
      "D:\\Anaconda3\\lib\\site-packages\\xgboost\\sklearn.py:793: UserWarning: `early_stopping_rounds` in `fit` method is deprecated for better compatibility with scikit-learn, use `early_stopping_rounds` in constructor or`set_params` instead.\n",
      "  warnings.warn(\n"
     ]
    },
    {
     "name": "stdout",
     "output_type": "stream",
     "text": [
      "[3]\tvalidation_0-mae:15.67079\n",
      "[4]\tvalidation_0-mae:16.00547\n",
      "[0]\tvalidation_0-mae:15.14972\n",
      "[1]\tvalidation_0-mae:15.21149\n",
      "[2]\tvalidation_0-mae:15.34848\n",
      "[3]\tvalidation_0-mae:15.52715\n",
      "[4]\tvalidation_0-mae:15.79328\n",
      "[0]\tvalidation_0-mae:15.04315\n",
      "[1]\tvalidation_0-mae:15.14929\n",
      "[2]\tvalidation_0-mae:15.35193\n",
      "[3]\tvalidation_0-mae:15.61047\n"
     ]
    },
    {
     "name": "stderr",
     "output_type": "stream",
     "text": [
      "D:\\Anaconda3\\lib\\site-packages\\xgboost\\sklearn.py:793: UserWarning: `early_stopping_rounds` in `fit` method is deprecated for better compatibility with scikit-learn, use `early_stopping_rounds` in constructor or`set_params` instead.\n",
      "  warnings.warn(\n",
      "D:\\Anaconda3\\lib\\site-packages\\xgboost\\sklearn.py:793: UserWarning: `early_stopping_rounds` in `fit` method is deprecated for better compatibility with scikit-learn, use `early_stopping_rounds` in constructor or`set_params` instead.\n",
      "  warnings.warn(\n"
     ]
    },
    {
     "name": "stdout",
     "output_type": "stream",
     "text": [
      "[4]\tvalidation_0-mae:15.94320\n",
      "[0]\tvalidation_0-mae:15.09046\n",
      "[1]\tvalidation_0-mae:15.20245\n",
      "[2]\tvalidation_0-mae:15.34376\n",
      "[3]\tvalidation_0-mae:15.57422\n",
      "[4]\tvalidation_0-mae:15.79440\n",
      "[0]\tvalidation_0-mae:15.07962\n",
      "[1]\tvalidation_0-mae:15.14853\n",
      "[2]\tvalidation_0-mae:15.31255\n",
      "[3]\tvalidation_0-mae:15.60052\n",
      "[4]\tvalidation_0-mae:15.91523\n",
      "[5]\tvalidation_0-mae:16.22771\n"
     ]
    },
    {
     "name": "stderr",
     "output_type": "stream",
     "text": [
      "D:\\Anaconda3\\lib\\site-packages\\xgboost\\sklearn.py:793: UserWarning: `early_stopping_rounds` in `fit` method is deprecated for better compatibility with scikit-learn, use `early_stopping_rounds` in constructor or`set_params` instead.\n",
      "  warnings.warn(\n",
      "D:\\Anaconda3\\lib\\site-packages\\xgboost\\sklearn.py:793: UserWarning: `early_stopping_rounds` in `fit` method is deprecated for better compatibility with scikit-learn, use `early_stopping_rounds` in constructor or`set_params` instead.\n",
      "  warnings.warn(\n"
     ]
    },
    {
     "name": "stdout",
     "output_type": "stream",
     "text": [
      "[0]\tvalidation_0-mae:15.10383\n",
      "[1]\tvalidation_0-mae:15.21160\n",
      "[2]\tvalidation_0-mae:15.31895\n",
      "[3]\tvalidation_0-mae:15.56106\n",
      "[4]\tvalidation_0-mae:15.85769\n",
      "[5]\tvalidation_0-mae:16.10603\n",
      "[0]\tvalidation_0-mae:15.09365\n",
      "[1]\tvalidation_0-mae:15.24237\n",
      "[2]\tvalidation_0-mae:15.38595\n",
      "[3]\tvalidation_0-mae:15.67079\n"
     ]
    },
    {
     "name": "stderr",
     "output_type": "stream",
     "text": [
      "D:\\Anaconda3\\lib\\site-packages\\xgboost\\sklearn.py:793: UserWarning: `early_stopping_rounds` in `fit` method is deprecated for better compatibility with scikit-learn, use `early_stopping_rounds` in constructor or`set_params` instead.\n",
      "  warnings.warn(\n",
      "D:\\Anaconda3\\lib\\site-packages\\xgboost\\sklearn.py:793: UserWarning: `early_stopping_rounds` in `fit` method is deprecated for better compatibility with scikit-learn, use `early_stopping_rounds` in constructor or`set_params` instead.\n",
      "  warnings.warn(\n"
     ]
    },
    {
     "name": "stdout",
     "output_type": "stream",
     "text": [
      "[4]\tvalidation_0-mae:16.00547\n",
      "[5]\tvalidation_0-mae:16.33440\n",
      "[0]\tvalidation_0-mae:15.14972\n",
      "[1]\tvalidation_0-mae:15.21149\n",
      "[2]\tvalidation_0-mae:15.34848\n",
      "[3]\tvalidation_0-mae:15.52715\n",
      "[4]\tvalidation_0-mae:15.79328\n",
      "[0]\tvalidation_0-mae:15.04315\n",
      "[1]\tvalidation_0-mae:15.14929\n",
      "[2]\tvalidation_0-mae:15.35193\n",
      "[3]\tvalidation_0-mae:15.61047\n"
     ]
    },
    {
     "name": "stderr",
     "output_type": "stream",
     "text": [
      "D:\\Anaconda3\\lib\\site-packages\\xgboost\\sklearn.py:793: UserWarning: `early_stopping_rounds` in `fit` method is deprecated for better compatibility with scikit-learn, use `early_stopping_rounds` in constructor or`set_params` instead.\n",
      "  warnings.warn(\n",
      "D:\\Anaconda3\\lib\\site-packages\\xgboost\\sklearn.py:793: UserWarning: `early_stopping_rounds` in `fit` method is deprecated for better compatibility with scikit-learn, use `early_stopping_rounds` in constructor or`set_params` instead.\n",
      "  warnings.warn(\n"
     ]
    },
    {
     "name": "stdout",
     "output_type": "stream",
     "text": [
      "[4]\tvalidation_0-mae:15.94320\n",
      "[0]\tvalidation_0-mae:15.09046\n",
      "[1]\tvalidation_0-mae:15.20245\n",
      "[2]\tvalidation_0-mae:15.34376\n",
      "[3]\tvalidation_0-mae:15.57422\n",
      "[4]\tvalidation_0-mae:15.79440\n",
      "[0]\tvalidation_0-mae:15.07962\n",
      "[1]\tvalidation_0-mae:15.14853\n",
      "[2]\tvalidation_0-mae:15.31255\n",
      "[3]\tvalidation_0-mae:15.60052\n",
      "[4]\tvalidation_0-mae:15.91523\n"
     ]
    },
    {
     "name": "stderr",
     "output_type": "stream",
     "text": [
      "D:\\Anaconda3\\lib\\site-packages\\xgboost\\sklearn.py:793: UserWarning: `early_stopping_rounds` in `fit` method is deprecated for better compatibility with scikit-learn, use `early_stopping_rounds` in constructor or`set_params` instead.\n",
      "  warnings.warn(\n",
      "D:\\Anaconda3\\lib\\site-packages\\xgboost\\sklearn.py:793: UserWarning: `early_stopping_rounds` in `fit` method is deprecated for better compatibility with scikit-learn, use `early_stopping_rounds` in constructor or`set_params` instead.\n",
      "  warnings.warn(\n"
     ]
    },
    {
     "name": "stdout",
     "output_type": "stream",
     "text": [
      "[0]\tvalidation_0-mae:15.03462\n",
      "[1]\tvalidation_0-mae:15.66454\n",
      "[2]\tvalidation_0-mae:15.81647\n",
      "[3]\tvalidation_0-mae:16.04771\n",
      "[4]\tvalidation_0-mae:16.29550\n",
      "[5]\tvalidation_0-mae:16.52637\n"
     ]
    },
    {
     "name": "stderr",
     "output_type": "stream",
     "text": [
      "D:\\Anaconda3\\lib\\site-packages\\xgboost\\sklearn.py:793: UserWarning: `early_stopping_rounds` in `fit` method is deprecated for better compatibility with scikit-learn, use `early_stopping_rounds` in constructor or`set_params` instead.\n",
      "  warnings.warn(\n"
     ]
    },
    {
     "data": {
      "text/plain": [
       "GridSearchCV(cv=2,\n",
       "             estimator=XGBRegressor(base_score=None, booster=None,\n",
       "                                    callbacks=None, colsample_bylevel=None,\n",
       "                                    colsample_bynode=None,\n",
       "                                    colsample_bytree=None,\n",
       "                                    early_stopping_rounds=None,\n",
       "                                    enable_categorical=False, eval_metric='mae',\n",
       "                                    gamma=None, gpu_id=None, grow_policy=None,\n",
       "                                    importance_type=None,\n",
       "                                    interaction_constraints=None,\n",
       "                                    learning_rate=None, max_bin=None,\n",
       "                                    max_ca...\n",
       "                                    monotone_constraints=None, n_estimators=100,\n",
       "                                    n_jobs=None, num_parallel_tree=None,\n",
       "                                    predictor=None, random_state=None,\n",
       "                                    reg_alpha=None, reg_lambda=None, ...),\n",
       "             param_grid={'colsample_bytree': [0.5, 0.8, 1.0],\n",
       "                         'learning_rate': [0.01, 0.05, 0.1],\n",
       "                         'max_depth': [3, 4, 5],\n",
       "                         'n_estimators': [500, 1000, 1500],\n",
       "                         'subsample': [0.5, 0.8, 1.0]},\n",
       "             return_train_score=True, scoring='neg_mean_absolute_error',\n",
       "             verbose=False)"
      ]
     },
     "execution_count": 31,
     "metadata": {},
     "output_type": "execute_result"
    }
   ],
   "source": [
    "model_xgboost_hp = GridSearchCV(estimator=xgboost.XGBRegressor(eval_metric='mae',\n",
    "                                                                use_label_encoder=False),\n",
    "                                param_grid=params_dict,\n",
    "                                cv=2,\n",
    "                                scoring='neg_mean_absolute_error',\n",
    "                                return_train_score=True,\n",
    "                                verbose=False)\n",
    "\n",
    "model_xgboost_hp.fit( train_X, train_y,early_stopping_rounds=5, \n",
    "             eval_set=[(test_X, test_y)])"
   ]
  },
  {
   "cell_type": "code",
   "execution_count": 32,
   "id": "f9844066",
   "metadata": {},
   "outputs": [
    {
     "data": {
      "text/html": [
       "<div>\n",
       "<style scoped>\n",
       "    .dataframe tbody tr th:only-of-type {\n",
       "        vertical-align: middle;\n",
       "    }\n",
       "\n",
       "    .dataframe tbody tr th {\n",
       "        vertical-align: top;\n",
       "    }\n",
       "\n",
       "    .dataframe thead th {\n",
       "        text-align: right;\n",
       "    }\n",
       "</style>\n",
       "<table border=\"1\" class=\"dataframe\">\n",
       "  <thead>\n",
       "    <tr style=\"text-align: right;\">\n",
       "      <th></th>\n",
       "      <th>rank_test_score</th>\n",
       "      <th>mean_test_score</th>\n",
       "      <th>mean_train_score</th>\n",
       "      <th>param_learning_rate</th>\n",
       "      <th>param_max_depth</th>\n",
       "      <th>param_n_estimators</th>\n",
       "      <th>param_colsample_bytree</th>\n",
       "      <th>param_subsample</th>\n",
       "    </tr>\n",
       "  </thead>\n",
       "  <tbody>\n",
       "    <tr>\n",
       "      <th>77</th>\n",
       "      <td>1</td>\n",
       "      <td>-15.413728</td>\n",
       "      <td>-15.380380</td>\n",
       "      <td>0.1</td>\n",
       "      <td>5</td>\n",
       "      <td>1000</td>\n",
       "      <td>0.5</td>\n",
       "      <td>1.0</td>\n",
       "    </tr>\n",
       "    <tr>\n",
       "      <th>74</th>\n",
       "      <td>1</td>\n",
       "      <td>-15.413728</td>\n",
       "      <td>-15.380380</td>\n",
       "      <td>0.1</td>\n",
       "      <td>5</td>\n",
       "      <td>500</td>\n",
       "      <td>0.5</td>\n",
       "      <td>1.0</td>\n",
       "    </tr>\n",
       "    <tr>\n",
       "      <th>80</th>\n",
       "      <td>1</td>\n",
       "      <td>-15.413728</td>\n",
       "      <td>-15.380380</td>\n",
       "      <td>0.1</td>\n",
       "      <td>5</td>\n",
       "      <td>1500</td>\n",
       "      <td>0.5</td>\n",
       "      <td>1.0</td>\n",
       "    </tr>\n",
       "    <tr>\n",
       "      <th>183</th>\n",
       "      <td>4</td>\n",
       "      <td>-15.415900</td>\n",
       "      <td>-15.386839</td>\n",
       "      <td>0.01</td>\n",
       "      <td>5</td>\n",
       "      <td>1000</td>\n",
       "      <td>1.0</td>\n",
       "      <td>0.5</td>\n",
       "    </tr>\n",
       "    <tr>\n",
       "      <th>180</th>\n",
       "      <td>4</td>\n",
       "      <td>-15.415900</td>\n",
       "      <td>-15.386839</td>\n",
       "      <td>0.01</td>\n",
       "      <td>5</td>\n",
       "      <td>500</td>\n",
       "      <td>1.0</td>\n",
       "      <td>0.5</td>\n",
       "    </tr>\n",
       "    <tr>\n",
       "      <th>...</th>\n",
       "      <td>...</td>\n",
       "      <td>...</td>\n",
       "      <td>...</td>\n",
       "      <td>...</td>\n",
       "      <td>...</td>\n",
       "      <td>...</td>\n",
       "      <td>...</td>\n",
       "      <td>...</td>\n",
       "    </tr>\n",
       "    <tr>\n",
       "      <th>138</th>\n",
       "      <td>235</td>\n",
       "      <td>-15.490333</td>\n",
       "      <td>-15.475472</td>\n",
       "      <td>0.1</td>\n",
       "      <td>3</td>\n",
       "      <td>1000</td>\n",
       "      <td>0.8</td>\n",
       "      <td>0.5</td>\n",
       "    </tr>\n",
       "    <tr>\n",
       "      <th>135</th>\n",
       "      <td>235</td>\n",
       "      <td>-15.490333</td>\n",
       "      <td>-15.475472</td>\n",
       "      <td>0.1</td>\n",
       "      <td>3</td>\n",
       "      <td>500</td>\n",
       "      <td>0.8</td>\n",
       "      <td>0.5</td>\n",
       "    </tr>\n",
       "    <tr>\n",
       "      <th>54</th>\n",
       "      <td>241</td>\n",
       "      <td>-15.503706</td>\n",
       "      <td>-15.494801</td>\n",
       "      <td>0.1</td>\n",
       "      <td>3</td>\n",
       "      <td>500</td>\n",
       "      <td>0.5</td>\n",
       "      <td>0.5</td>\n",
       "    </tr>\n",
       "    <tr>\n",
       "      <th>60</th>\n",
       "      <td>241</td>\n",
       "      <td>-15.503706</td>\n",
       "      <td>-15.494801</td>\n",
       "      <td>0.1</td>\n",
       "      <td>3</td>\n",
       "      <td>1500</td>\n",
       "      <td>0.5</td>\n",
       "      <td>0.5</td>\n",
       "    </tr>\n",
       "    <tr>\n",
       "      <th>57</th>\n",
       "      <td>241</td>\n",
       "      <td>-15.503706</td>\n",
       "      <td>-15.494801</td>\n",
       "      <td>0.1</td>\n",
       "      <td>3</td>\n",
       "      <td>1000</td>\n",
       "      <td>0.5</td>\n",
       "      <td>0.5</td>\n",
       "    </tr>\n",
       "  </tbody>\n",
       "</table>\n",
       "<p>243 rows × 8 columns</p>\n",
       "</div>"
      ],
      "text/plain": [
       "     rank_test_score  mean_test_score  mean_train_score param_learning_rate  \\\n",
       "77                 1       -15.413728        -15.380380                 0.1   \n",
       "74                 1       -15.413728        -15.380380                 0.1   \n",
       "80                 1       -15.413728        -15.380380                 0.1   \n",
       "183                4       -15.415900        -15.386839                0.01   \n",
       "180                4       -15.415900        -15.386839                0.01   \n",
       "..               ...              ...               ...                 ...   \n",
       "138              235       -15.490333        -15.475472                 0.1   \n",
       "135              235       -15.490333        -15.475472                 0.1   \n",
       "54               241       -15.503706        -15.494801                 0.1   \n",
       "60               241       -15.503706        -15.494801                 0.1   \n",
       "57               241       -15.503706        -15.494801                 0.1   \n",
       "\n",
       "    param_max_depth param_n_estimators param_colsample_bytree param_subsample  \n",
       "77                5               1000                    0.5             1.0  \n",
       "74                5                500                    0.5             1.0  \n",
       "80                5               1500                    0.5             1.0  \n",
       "183               5               1000                    1.0             0.5  \n",
       "180               5                500                    1.0             0.5  \n",
       "..              ...                ...                    ...             ...  \n",
       "138               3               1000                    0.8             0.5  \n",
       "135               3                500                    0.8             0.5  \n",
       "54                3                500                    0.5             0.5  \n",
       "60                3               1500                    0.5             0.5  \n",
       "57                3               1000                    0.5             0.5  \n",
       "\n",
       "[243 rows x 8 columns]"
      ]
     },
     "execution_count": 32,
     "metadata": {},
     "output_type": "execute_result"
    }
   ],
   "source": [
    "df_cv_results = pd.DataFrame(model_xgboost_hp.cv_results_)\n",
    "df_cv_results = df_cv_results[['rank_test_score','mean_test_score','mean_train_score',\n",
    "                               'param_learning_rate', 'param_max_depth', 'param_n_estimators','param_colsample_bytree','param_subsample']]\n",
    "df_cv_results.sort_values(by='rank_test_score', inplace=True)\n",
    "df_cv_results"
   ]
  },
  {
   "cell_type": "code",
   "execution_count": null,
   "id": "12051a52",
   "metadata": {},
   "outputs": [],
   "source": []
  }
 ],
 "metadata": {
  "kernelspec": {
   "display_name": "Python 3 (ipykernel)",
   "language": "python",
   "name": "python3"
  },
  "language_info": {
   "codemirror_mode": {
    "name": "ipython",
    "version": 3
   },
   "file_extension": ".py",
   "mimetype": "text/x-python",
   "name": "python",
   "nbconvert_exporter": "python",
   "pygments_lexer": "ipython3",
   "version": "3.9.12"
  }
 },
 "nbformat": 4,
 "nbformat_minor": 5
}
