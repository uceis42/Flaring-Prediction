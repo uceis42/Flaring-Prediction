{
 "cells": [
  {
   "cell_type": "code",
   "execution_count": 44,
   "id": "888118d7",
   "metadata": {},
   "outputs": [],
   "source": [
    "from datetime import datetime\n",
    "import matplotlib.dates as mdates\n",
    "import pandas as pd\n",
    "import matplotlib.pyplot as plt\n",
    "import numpy as np\n",
    "import seaborn as sns\n",
    "import os\n",
    "import glob\n",
    "from numpy import genfromtxt\n",
    "import random\n",
    "import tensorflow as tf\n",
    "from tensorflow import keras\n",
    "from tensorflow.keras import layers\n",
    "from keras.layers import Masking\n",
    "from tqdm.notebook import tqdm\n",
    "from tensorflow.keras.models import Sequential\n",
    "from tensorflow.keras.layers import LSTM\n",
    "from tensorflow.keras.layers import Dense, Dropout\n",
    "from sklearn.preprocessing import StandardScaler"
   ]
  },
  {
   "cell_type": "code",
   "execution_count": 270,
   "id": "995af943",
   "metadata": {},
   "outputs": [],
   "source": [
    "random.seed(100)\n"
   ]
  },
  {
   "cell_type": "code",
   "execution_count": 271,
   "id": "c9573c17",
   "metadata": {},
   "outputs": [],
   "source": [
    "path = r'D:\\UCL\\Term3\\tbx-flaring-shihao\\src\\notebooks\\WIP_data\\RNN_v3' \n",
    "csv_files = glob.glob(os.path.join(path, \"*.csv\"))"
   ]
  },
  {
   "cell_type": "code",
   "execution_count": 272,
   "id": "7e8d01a5",
   "metadata": {},
   "outputs": [
    {
     "data": {
      "application/vnd.jupyter.widget-view+json": {
       "model_id": "bec02e6f95cb4ec1ae74875b646e05d2",
       "version_major": 2,
       "version_minor": 0
      },
      "text/plain": [
       "  0%|          | 0/54134 [00:00<?, ?it/s]"
      ]
     },
     "metadata": {},
     "output_type": "display_data"
    }
   ],
   "source": [
    "list_array=[]\n",
    "\n",
    "for p in tqdm(csv_files):\n",
    "    content = genfromtxt(p, delimiter=',',skip_header=1,usecols=range(1,39)) #try39 or 14\n",
    "    if content.ndim  !=1 and sum(content[:,11])>0 :\n",
    "        list_array.append(content)"
   ]
  },
  {
   "cell_type": "code",
   "execution_count": 273,
   "id": "3ad85fb9",
   "metadata": {},
   "outputs": [],
   "source": [
    "random.shuffle(list_array)"
   ]
  },
  {
   "cell_type": "code",
   "execution_count": 274,
   "id": "c68ff88e",
   "metadata": {},
   "outputs": [
    {
     "data": {
      "application/vnd.jupyter.widget-view+json": {
       "model_id": "efab21aaf1c6486f9ea715a18cd3f0e4",
       "version_major": 2,
       "version_minor": 0
      },
      "text/plain": [
       "  0%|          | 0/4006 [00:00<?, ?it/s]"
      ]
     },
     "metadata": {},
     "output_type": "display_data"
    }
   ],
   "source": [
    "# getting non-scaled_sampled_50_date \n",
    "df_emp = pd.DataFrame()\n",
    "df = pd.DataFrame()\n",
    "df_temp = pd.DataFrame()\n",
    "for i in tqdm(list_array):# getting 100 samples\n",
    "    df_temp = pd.DataFrame(i) # padding to 1835 rows\n",
    "    df_temp = df_temp[df_temp.iloc[:,12]>0]\n",
    "    df = pd.concat([df_emp,df_temp])\n",
    "    df_emp = df\n",
    "    \n",
    "first_column = df.pop(12)\n",
    "first_column\n",
    "df.insert(0, 'gap', first_column)\n",
    "#df.to_csv('RNN_gap_morethan0_withoutTgroup.csv')"
   ]
  },
  {
   "cell_type": "code",
   "execution_count": 276,
   "id": "1d63c014",
   "metadata": {},
   "outputs": [],
   "source": [
    "#df = pd.read_csv(r'D:\\UCL\\Term3\\tbx-flaring-shihao\\src\\notebooks\\RNN_gap_morethan0_withoutTgroup.csv',index_col=0)\n",
    "y = df['gap']\n",
    "df_copy = df\n",
    "#df= df.iloc[:,:12] # remove is flaring \n",
    "#df"
   ]
  },
  {
   "cell_type": "code",
   "execution_count": 278,
   "id": "6e92824a",
   "metadata": {},
   "outputs": [
    {
     "name": "stderr",
     "output_type": "stream",
     "text": [
      "D:\\Anaconda3\\lib\\site-packages\\sklearn\\utils\\validation.py:1688: FutureWarning: Feature names only support names that are all strings. Got feature names with dtypes: ['int', 'str']. An error will be raised in 1.2.\n",
      "  warnings.warn(\n",
      "D:\\Anaconda3\\lib\\site-packages\\sklearn\\utils\\validation.py:1688: FutureWarning: Feature names only support names that are all strings. Got feature names with dtypes: ['int', 'str']. An error will be raised in 1.2.\n",
      "  warnings.warn(\n"
     ]
    }
   ],
   "source": [
    "scaler = StandardScaler()\n",
    "scaler = scaler.fit(df)\n",
    "df = scaler.transform(df)"
   ]
  },
  {
   "cell_type": "code",
   "execution_count": 279,
   "id": "41b38ccb",
   "metadata": {},
   "outputs": [
    {
     "data": {
      "application/vnd.jupyter.widget-view+json": {
       "model_id": "48c119610d7049ffa0518c9c6102188f",
       "version_major": 2,
       "version_minor": 0
      },
      "text/plain": [
       "  0%|          | 0/20257 [00:00<?, ?it/s]"
      ]
     },
     "metadata": {},
     "output_type": "display_data"
    }
   ],
   "source": [
    "n_future = 1\n",
    "n_past = 5\n",
    "trainX = []\n",
    "trainY = [] \n",
    "for i in tqdm(range(n_past, len(df) - n_future +1)):\n",
    "    trainX.append(df[i - n_past:i, 0:df.shape[1]])\n",
    "    trainY.append(df[i + n_future - 1:i + n_future, 0])\n",
    "    #trainX.append(df.iloc[i - n_past:i, 0:df.shape[1]])\n",
    "    #trainY.append(df.iloc[i + n_future - 1:i + n_future, 0])"
   ]
  },
  {
   "cell_type": "code",
   "execution_count": 280,
   "id": "9045a574",
   "metadata": {},
   "outputs": [],
   "source": [
    "trainX, trainY = np.array(trainX), np.array(trainY)"
   ]
  },
  {
   "cell_type": "code",
   "execution_count": 281,
   "id": "41d20cf2",
   "metadata": {},
   "outputs": [
    {
     "name": "stdout",
     "output_type": "stream",
     "text": [
      "trainX shape == (20257, 5, 38).\n",
      "trainY shape == (20257, 1).\n"
     ]
    }
   ],
   "source": [
    "print('trainX shape == {}.'.format(trainX.shape))\n",
    "print('trainY shape == {}.'.format(trainY.shape))"
   ]
  },
  {
   "cell_type": "code",
   "execution_count": 98,
   "id": "11b3e984",
   "metadata": {},
   "outputs": [],
   "source": [
    "\n",
    "\n",
    "optimizer = optimizers.Adam(learning_rate=0.001,clipvalue=0.5)\n",
    "\n",
    "\n",
    "#model.compile(optimizer=optimizer, loss='mse')#,metrics=['accuracy']) "
   ]
  },
  {
   "cell_type": "code",
   "execution_count": 277,
   "id": "3e2dc7c8",
   "metadata": {},
   "outputs": [],
   "source": [
    "\n",
    "# model = Sequential()\n",
    "# #model.add(Masking(mask_value=0, input_shape=(trainX.shape[1], trainX.shape[2])))\n",
    "# model.add(LSTM(16, activation='relu', input_shape=(trainX.shape[1], trainX.shape[2])))#, return_sequences=True))\n",
    "# #model.add(LSTM(32, activation='relu', return_sequences=False))\n",
    "# model.add(Dropout(0.3))\n",
    "# model.add(Dense(trainY.shape[1]))\n",
    "# model.compile(optimizer='adam', loss='mse')#,metrics=['accuracy']) \n",
    "# #model.compile(optimizer=optimizer, loss='mse')#,metrics=['accuracy']) \n",
    "# model.summary()"
   ]
  },
  {
   "cell_type": "code",
   "execution_count": 313,
   "id": "81a89423",
   "metadata": {},
   "outputs": [
    {
     "name": "stdout",
     "output_type": "stream",
     "text": [
      "Model: \"sequential_37\"\n",
      "_________________________________________________________________\n",
      " Layer (type)                Output Shape              Param #   \n",
      "=================================================================\n",
      " lstm_45 (LSTM)              (None, 32)                9088      \n",
      "                                                                 \n",
      " dropout_35 (Dropout)        (None, 32)                0         \n",
      "                                                                 \n",
      " dense_35 (Dense)            (None, 1)                 33        \n",
      "                                                                 \n",
      "=================================================================\n",
      "Total params: 9,121\n",
      "Trainable params: 9,121\n",
      "Non-trainable params: 0\n",
      "_________________________________________________________________\n"
     ]
    }
   ],
   "source": [
    "optimizer = optimizers.Adam(learning_rate=0.0001)\n",
    "model = Sequential()\n",
    "#model.add(Masking(mask_value=0, input_shape=(trainX.shape[1], trainX.shape[2])))\n",
    "model.add(LSTM(32, activation='relu', input_shape=(trainX.shape[1], trainX.shape[2])))#, return_sequences=True))\n",
    "#model.add(LSTM(32, activation='relu', return_sequences=False))\n",
    "model.add(Dropout(0.2))\n",
    "model.add(Dense(trainY.shape[1]))\n",
    "#model.compile(optimizer='adam', loss='mse')#,metrics=['accuracy']) \n",
    "model.compile(optimizer=optimizer, loss='mse')#,metrics=['accuracy']) \n",
    "model.summary()"
   ]
  },
  {
   "cell_type": "code",
   "execution_count": 314,
   "id": "a2e14c4c",
   "metadata": {},
   "outputs": [
    {
     "name": "stdout",
     "output_type": "stream",
     "text": [
      "Epoch 1/50\n",
      "254/254 [==============================] - 1s 3ms/step - loss: 1.2122 - val_loss: 1.2411\n",
      "Epoch 2/50\n",
      "254/254 [==============================] - 1s 3ms/step - loss: 1.1064 - val_loss: 1.1575\n",
      "Epoch 3/50\n",
      "254/254 [==============================] - 1s 3ms/step - loss: 1.0532 - val_loss: 1.1130\n",
      "Epoch 4/50\n",
      "254/254 [==============================] - 1s 3ms/step - loss: 1.0273 - val_loss: 1.0883\n",
      "Epoch 5/50\n",
      "254/254 [==============================] - 1s 3ms/step - loss: 1.0136 - val_loss: 1.0626\n",
      "Epoch 6/50\n",
      "254/254 [==============================] - 1s 3ms/step - loss: 1.0064 - val_loss: 1.0470\n",
      "Epoch 7/50\n",
      "254/254 [==============================] - 1s 3ms/step - loss: 0.9833 - val_loss: 1.0396\n",
      "Epoch 8/50\n",
      "254/254 [==============================] - 1s 3ms/step - loss: 0.9786 - val_loss: 1.0260\n",
      "Epoch 9/50\n",
      "254/254 [==============================] - 1s 3ms/step - loss: 0.9760 - val_loss: 1.0153\n",
      "Epoch 10/50\n",
      "254/254 [==============================] - 1s 3ms/step - loss: 0.9694 - val_loss: 1.0054\n",
      "Epoch 11/50\n",
      "254/254 [==============================] - 1s 3ms/step - loss: 0.9631 - val_loss: 0.9969\n",
      "Epoch 12/50\n",
      "254/254 [==============================] - 1s 3ms/step - loss: 0.9561 - val_loss: 0.9914\n",
      "Epoch 13/50\n",
      "254/254 [==============================] - 1s 3ms/step - loss: 0.9558 - val_loss: 0.9853\n",
      "Epoch 14/50\n",
      "254/254 [==============================] - 1s 3ms/step - loss: 0.9479 - val_loss: 0.9814\n",
      "Epoch 15/50\n",
      "254/254 [==============================] - 1s 3ms/step - loss: 0.9473 - val_loss: 0.9780\n",
      "Epoch 16/50\n",
      "254/254 [==============================] - 1s 3ms/step - loss: 0.9474 - val_loss: 0.9774\n",
      "Epoch 17/50\n",
      "254/254 [==============================] - 1s 3ms/step - loss: 0.9438 - val_loss: 0.9758\n",
      "Epoch 18/50\n",
      "254/254 [==============================] - 1s 3ms/step - loss: 0.9397 - val_loss: 0.9748\n",
      "Epoch 19/50\n",
      "254/254 [==============================] - 1s 3ms/step - loss: 0.9348 - val_loss: 0.9745\n",
      "Epoch 20/50\n",
      "254/254 [==============================] - 1s 3ms/step - loss: 0.9270 - val_loss: 0.9744\n",
      "Epoch 21/50\n",
      "254/254 [==============================] - 1s 3ms/step - loss: 0.9308 - val_loss: 0.9737\n",
      "Epoch 22/50\n",
      "254/254 [==============================] - 1s 3ms/step - loss: 0.9262 - val_loss: 0.9731\n",
      "Epoch 23/50\n",
      "254/254 [==============================] - 1s 3ms/step - loss: 0.9246 - val_loss: 0.9734\n",
      "Epoch 24/50\n",
      "254/254 [==============================] - 1s 3ms/step - loss: 0.9294 - val_loss: 0.9738\n",
      "Epoch 25/50\n",
      "254/254 [==============================] - 1s 3ms/step - loss: 0.9175 - val_loss: 0.9738\n",
      "Epoch 26/50\n",
      "254/254 [==============================] - 1s 3ms/step - loss: 0.9212 - val_loss: 0.9729\n",
      "Epoch 27/50\n",
      "254/254 [==============================] - 1s 3ms/step - loss: 0.9176 - val_loss: 0.9726\n",
      "Epoch 28/50\n",
      "254/254 [==============================] - 1s 3ms/step - loss: 0.9180 - val_loss: 0.9730\n",
      "Epoch 29/50\n",
      "254/254 [==============================] - 1s 3ms/step - loss: 0.9157 - val_loss: 0.9732\n",
      "Epoch 30/50\n",
      "254/254 [==============================] - 1s 3ms/step - loss: 0.9137 - val_loss: 0.9737\n",
      "Epoch 31/50\n",
      "254/254 [==============================] - 1s 3ms/step - loss: 0.9139 - val_loss: 0.9743\n",
      "Epoch 32/50\n",
      "254/254 [==============================] - 1s 3ms/step - loss: 0.9066 - val_loss: 0.9749\n",
      "Epoch 33/50\n",
      "254/254 [==============================] - 1s 3ms/step - loss: 0.9099 - val_loss: 0.9756\n",
      "Epoch 34/50\n",
      "254/254 [==============================] - 1s 3ms/step - loss: 0.9046 - val_loss: 0.9753\n",
      "Epoch 35/50\n",
      "254/254 [==============================] - 1s 3ms/step - loss: 0.9100 - val_loss: 0.9746\n",
      "Epoch 36/50\n",
      "254/254 [==============================] - 1s 3ms/step - loss: 0.9052 - val_loss: 0.9748\n",
      "Epoch 37/50\n",
      "254/254 [==============================] - 1s 3ms/step - loss: 0.9087 - val_loss: 0.9745\n",
      "Epoch 38/50\n",
      "254/254 [==============================] - 1s 3ms/step - loss: 0.9017 - val_loss: 0.9734\n",
      "Epoch 39/50\n",
      "254/254 [==============================] - 1s 3ms/step - loss: 0.9013 - val_loss: 0.9724\n",
      "Epoch 40/50\n",
      "254/254 [==============================] - 1s 3ms/step - loss: 0.8948 - val_loss: 0.9714\n",
      "Epoch 41/50\n",
      "254/254 [==============================] - 1s 3ms/step - loss: 0.9001 - val_loss: 0.9685\n",
      "Epoch 42/50\n",
      "254/254 [==============================] - 1s 3ms/step - loss: 0.8946 - val_loss: 0.9659\n",
      "Epoch 43/50\n",
      "254/254 [==============================] - 1s 3ms/step - loss: 0.8957 - val_loss: 0.9643\n",
      "Epoch 44/50\n",
      "254/254 [==============================] - 1s 3ms/step - loss: 0.8925 - val_loss: 0.9612\n",
      "Epoch 45/50\n",
      "254/254 [==============================] - 1s 3ms/step - loss: 0.8906 - val_loss: 0.9618\n",
      "Epoch 46/50\n",
      "254/254 [==============================] - 1s 3ms/step - loss: 0.8930 - val_loss: 0.9589\n",
      "Epoch 47/50\n",
      "254/254 [==============================] - 1s 3ms/step - loss: 0.8916 - val_loss: 0.9579\n",
      "Epoch 48/50\n",
      "254/254 [==============================] - 1s 3ms/step - loss: 0.8952 - val_loss: 0.9561\n",
      "Epoch 49/50\n",
      "254/254 [==============================] - 1s 3ms/step - loss: 0.8914 - val_loss: 0.9552\n",
      "Epoch 50/50\n",
      "254/254 [==============================] - 1s 3ms/step - loss: 0.8829 - val_loss: 0.9560\n"
     ]
    },
    {
     "data": {
      "text/plain": [
       "<matplotlib.legend.Legend at 0x26119d51f10>"
      ]
     },
     "execution_count": 314,
     "metadata": {},
     "output_type": "execute_result"
    },
    {
     "data": {
      "image/png": "[encoded data removed]",
      "text/plain": [
       "<Figure size 432x288 with 1 Axes>"
      ]
     },
     "metadata": {
      "needs_background": "light"
     },
     "output_type": "display_data"
    }
   ],
   "source": [
    "history = model.fit(trainX, trainY, epochs=50, batch_size=64, validation_split=0.2)#,verbose=1)\n",
    "plt.plot(history.history['loss'], label='Training loss')\n",
    "plt.plot(history.history['val_loss'], label='Validation loss')\n",
    "plt.legend()"
   ]
  },
  {
   "cell_type": "code",
   "execution_count": 134,
   "id": "5915d089",
   "metadata": {},
   "outputs": [
    {
     "data": {
      "text/plain": [
       "20257"
      ]
     },
     "execution_count": 134,
     "metadata": {},
     "output_type": "execute_result"
    }
   ],
   "source": [
    "len(y[5:])"
   ]
  },
  {
   "cell_type": "code",
   "execution_count": 329,
   "id": "cf8c8d51",
   "metadata": {},
   "outputs": [
    {
     "name": "stdout",
     "output_type": "stream",
     "text": [
      "634/634 [==============================] - 1s 855us/step\n"
     ]
    }
   ],
   "source": [
    "predictions = model.predict(trainX)\n",
    "prediction_copies = np.repeat(predictions, df.shape[1], axis=-1)\n",
    "y_pred_future = scaler.inverse_transform(prediction_copies)[:,0].flatten()\n",
    "\n",
    "from sklearn.metrics import mean_squared_error as mse\n",
    "def plot_predictions1(model, X, y, start=0, end=1000):\n",
    "\n",
    "    df = pd.DataFrame(data={'Predictions':y_pred_future, 'Actuals':y[5:]})\n",
    "    plt.scatter(df['Predictions'][start:end],df.index[start:end])\n",
    "    plt.scatter(df['Actuals'][start:end],df.index[start:end])\n",
    "    #return df\n"
   ]
  },
  {
   "cell_type": "code",
   "execution_count": 330,
   "id": "563bce4d",
   "metadata": {},
   "outputs": [
    {
     "data": {
      "image/png": "[encoded data removed]",
      "text/plain": [
       "<Figure size 432x288 with 1 Axes>"
      ]
     },
     "metadata": {
      "needs_background": "light"
     },
     "output_type": "display_data"
    }
   ],
   "source": [
    "y_pred_future = y_pred_future-100\n",
    "y_pred_future[y_pred_future<0] = 0\n",
    "plot_predictions1(model, trainX, y)"
   ]
  },
  {
   "cell_type": "code",
   "execution_count": null,
   "id": "7fec28b5",
   "metadata": {},
   "outputs": [],
   "source": []
  }
 ],
 "metadata": {
  "kernelspec": {
   "display_name": "Python 3 (ipykernel)",
   "language": "python",
   "name": "python3"
  },
  "language_info": {
   "codemirror_mode": {
    "name": "ipython",
    "version": 3
   },
   "file_extension": ".py",
   "mimetype": "text/x-python",
   "name": "python",
   "nbconvert_exporter": "python",
   "pygments_lexer": "ipython3",
   "version": "3.9.12"
  }
 },
 "nbformat": 4,
 "nbformat_minor": 5
}
