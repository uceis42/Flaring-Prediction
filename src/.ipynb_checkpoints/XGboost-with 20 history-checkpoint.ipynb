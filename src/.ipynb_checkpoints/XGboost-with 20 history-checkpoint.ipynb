{
 "cells": [
  {
   "cell_type": "code",
   "execution_count": 1,
   "id": "4b02c3da",
   "metadata": {},
   "outputs": [],
   "source": [
    "from datetime import date\n",
    "from datetime import datetime\n",
    "import matplotlib.dates as mdates\n",
    "import pandas as pd\n",
    "import matplotlib.pyplot as plt\n",
    "import numpy as np\n",
    "import seaborn as sns\n",
    "import os\n",
    "import glob\n",
    "from tqdm.notebook import tqdm\n",
    "import random\n",
    "import xgboost\n",
    "from sklearn.preprocessing import StandardScaler\n",
    "from sklearn.metrics import mean_absolute_error\n",
    "from xgboost import XGBRegressor\n",
    "from sklearn.model_selection import train_test_split\n",
    "from sklearn.model_selection import GridSearchCV"
   ]
  },
  {
   "cell_type": "code",
   "execution_count": 2,
   "id": "0244969b",
   "metadata": {},
   "outputs": [
    {
     "data": {
      "text/html": [
       "<div>\n",
       "<style scoped>\n",
       "    .dataframe tbody tr th:only-of-type {\n",
       "        vertical-align: middle;\n",
       "    }\n",
       "\n",
       "    .dataframe tbody tr th {\n",
       "        vertical-align: top;\n",
       "    }\n",
       "\n",
       "    .dataframe thead th {\n",
       "        text-align: right;\n",
       "    }\n",
       "</style>\n",
       "<table border=\"1\" class=\"dataframe\">\n",
       "  <thead>\n",
       "    <tr style=\"text-align: right;\">\n",
       "      <th></th>\n",
       "      <th>Unnamed: 0.1</th>\n",
       "      <th>Unnamed: 0</th>\n",
       "      <th>api</th>\n",
       "      <th>state</th>\n",
       "      <th>basin</th>\n",
       "      <th>subbasin</th>\n",
       "      <th>county</th>\n",
       "      <th>source</th>\n",
       "      <th>geom</th>\n",
       "      <th>tst_permit_date</th>\n",
       "      <th>...</th>\n",
       "      <th>X</th>\n",
       "      <th>Y</th>\n",
       "      <th>spatial_group</th>\n",
       "      <th>aq_date</th>\n",
       "      <th>power</th>\n",
       "      <th>t_diff</th>\n",
       "      <th>days_diffs</th>\n",
       "      <th>temporal_group</th>\n",
       "      <th>color</th>\n",
       "      <th>pad_status</th>\n",
       "    </tr>\n",
       "  </thead>\n",
       "  <tbody>\n",
       "    <tr>\n",
       "      <th>0</th>\n",
       "      <td>0</td>\n",
       "      <td>84655</td>\n",
       "      <td>4231741500</td>\n",
       "      <td>Texas</td>\n",
       "      <td>Permian</td>\n",
       "      <td>Midland</td>\n",
       "      <td>Martin</td>\n",
       "      <td>tx_trrc_permit_master</td>\n",
       "      <td>0101000020110F00005C064BE41DA965C137B978CC67D9...</td>\n",
       "      <td>2018/6/8</td>\n",
       "      <td>...</td>\n",
       "      <td>-11356485.39</td>\n",
       "      <td>3781904.457</td>\n",
       "      <td>1001.0</td>\n",
       "      <td>2019/7/3 7:42</td>\n",
       "      <td>2.53</td>\n",
       "      <td>68 days 22:24:00</td>\n",
       "      <td>68.0</td>\n",
       "      <td>1.0</td>\n",
       "      <td>#5c62b5</td>\n",
       "      <td>6</td>\n",
       "    </tr>\n",
       "    <tr>\n",
       "      <th>1</th>\n",
       "      <td>1</td>\n",
       "      <td>36846</td>\n",
       "      <td>4231743234</td>\n",
       "      <td>Texas</td>\n",
       "      <td>Permian</td>\n",
       "      <td>Midland</td>\n",
       "      <td>Martin</td>\n",
       "      <td>tx_trrc_permit_master</td>\n",
       "      <td>0101000020110F000064C96CA8AEA865C1C051E8489BD9...</td>\n",
       "      <td>2020/9/21</td>\n",
       "      <td>...</td>\n",
       "      <td>-11356341.34</td>\n",
       "      <td>3781628.244</td>\n",
       "      <td>1001.0</td>\n",
       "      <td>2022/4/4 7:31</td>\n",
       "      <td>1.62</td>\n",
       "      <td>910 days 23:31:00</td>\n",
       "      <td>910.0</td>\n",
       "      <td>3.0</td>\n",
       "      <td>#bdb542</td>\n",
       "      <td>6</td>\n",
       "    </tr>\n",
       "    <tr>\n",
       "      <th>2</th>\n",
       "      <td>2</td>\n",
       "      <td>52945</td>\n",
       "      <td>4231743224</td>\n",
       "      <td>Texas</td>\n",
       "      <td>Permian</td>\n",
       "      <td>Midland</td>\n",
       "      <td>Martin</td>\n",
       "      <td>tx_trrc_permit_master</td>\n",
       "      <td>0101000020110F000035FE5F0F89A865C149E567C4BFD9...</td>\n",
       "      <td>2020/9/14</td>\n",
       "      <td>...</td>\n",
       "      <td>-11355947.27</td>\n",
       "      <td>3781688.718</td>\n",
       "      <td>1001.0</td>\n",
       "      <td>2022/4/4 8:22</td>\n",
       "      <td>1.78</td>\n",
       "      <td>0 days 00:51:00</td>\n",
       "      <td>0.0</td>\n",
       "      <td>3.0</td>\n",
       "      <td>#bdb542</td>\n",
       "      <td>6</td>\n",
       "    </tr>\n",
       "    <tr>\n",
       "      <th>3</th>\n",
       "      <td>3</td>\n",
       "      <td>52945</td>\n",
       "      <td>4231743224</td>\n",
       "      <td>Texas</td>\n",
       "      <td>Permian</td>\n",
       "      <td>Midland</td>\n",
       "      <td>Martin</td>\n",
       "      <td>tx_trrc_permit_master</td>\n",
       "      <td>0101000020110F000035FE5F0F89A865C149E567C4BFD9...</td>\n",
       "      <td>2020/9/14</td>\n",
       "      <td>...</td>\n",
       "      <td>-11356166.57</td>\n",
       "      <td>3781358.742</td>\n",
       "      <td>1001.0</td>\n",
       "      <td>2022/4/4 9:13</td>\n",
       "      <td>0.79</td>\n",
       "      <td>0 days 00:51:00</td>\n",
       "      <td>0.0</td>\n",
       "      <td>3.0</td>\n",
       "      <td>#bdb542</td>\n",
       "      <td>6</td>\n",
       "    </tr>\n",
       "    <tr>\n",
       "      <th>4</th>\n",
       "      <td>4</td>\n",
       "      <td>52945</td>\n",
       "      <td>4231743224</td>\n",
       "      <td>Texas</td>\n",
       "      <td>Permian</td>\n",
       "      <td>Midland</td>\n",
       "      <td>Martin</td>\n",
       "      <td>tx_trrc_permit_master</td>\n",
       "      <td>0101000020110F000035FE5F0F89A865C149E567C4BFD9...</td>\n",
       "      <td>2020/9/14</td>\n",
       "      <td>...</td>\n",
       "      <td>-11355972.88</td>\n",
       "      <td>3781675.572</td>\n",
       "      <td>1001.0</td>\n",
       "      <td>2022/4/6 19:04</td>\n",
       "      <td>5.49</td>\n",
       "      <td>2 days 09:51:00</td>\n",
       "      <td>2.0</td>\n",
       "      <td>3.0</td>\n",
       "      <td>#bdb542</td>\n",
       "      <td>6</td>\n",
       "    </tr>\n",
       "    <tr>\n",
       "      <th>...</th>\n",
       "      <td>...</td>\n",
       "      <td>...</td>\n",
       "      <td>...</td>\n",
       "      <td>...</td>\n",
       "      <td>...</td>\n",
       "      <td>...</td>\n",
       "      <td>...</td>\n",
       "      <td>...</td>\n",
       "      <td>...</td>\n",
       "      <td>...</td>\n",
       "      <td>...</td>\n",
       "      <td>...</td>\n",
       "      <td>...</td>\n",
       "      <td>...</td>\n",
       "      <td>...</td>\n",
       "      <td>...</td>\n",
       "      <td>...</td>\n",
       "      <td>...</td>\n",
       "      <td>...</td>\n",
       "      <td>...</td>\n",
       "      <td>...</td>\n",
       "    </tr>\n",
       "    <tr>\n",
       "      <th>74710</th>\n",
       "      <td>74710</td>\n",
       "      <td>51784</td>\n",
       "      <td>4231743271</td>\n",
       "      <td>Texas</td>\n",
       "      <td>Permian</td>\n",
       "      <td>Midland</td>\n",
       "      <td>Martin</td>\n",
       "      <td>tx_trrc_permit_master</td>\n",
       "      <td>0101000020110F000020AF7E73DFB165C138EB72D03215...</td>\n",
       "      <td>2020/11/2</td>\n",
       "      <td>...</td>\n",
       "      <td>-11374859.12</td>\n",
       "      <td>3811744.057</td>\n",
       "      <td>1646.0</td>\n",
       "      <td>2021/6/15 8:12</td>\n",
       "      <td>1.12</td>\n",
       "      <td>0 days 00:00:00</td>\n",
       "      <td>0.0</td>\n",
       "      <td>2.0</td>\n",
       "      <td>#e587e8</td>\n",
       "      <td>4</td>\n",
       "    </tr>\n",
       "    <tr>\n",
       "      <th>74711</th>\n",
       "      <td>74711</td>\n",
       "      <td>51784</td>\n",
       "      <td>4231743271</td>\n",
       "      <td>Texas</td>\n",
       "      <td>Permian</td>\n",
       "      <td>Midland</td>\n",
       "      <td>Martin</td>\n",
       "      <td>tx_trrc_permit_master</td>\n",
       "      <td>0101000020110F000020AF7E73DFB165C138EB72D03215...</td>\n",
       "      <td>2020/11/2</td>\n",
       "      <td>...</td>\n",
       "      <td>-11374736.89</td>\n",
       "      <td>3811619.904</td>\n",
       "      <td>1646.0</td>\n",
       "      <td>2021/6/16 7:54</td>\n",
       "      <td>0.84</td>\n",
       "      <td>0 days 23:42:00</td>\n",
       "      <td>0.0</td>\n",
       "      <td>2.0</td>\n",
       "      <td>#e587e8</td>\n",
       "      <td>4</td>\n",
       "    </tr>\n",
       "    <tr>\n",
       "      <th>74712</th>\n",
       "      <td>74712</td>\n",
       "      <td>51784</td>\n",
       "      <td>4231743271</td>\n",
       "      <td>Texas</td>\n",
       "      <td>Permian</td>\n",
       "      <td>Midland</td>\n",
       "      <td>Martin</td>\n",
       "      <td>tx_trrc_permit_master</td>\n",
       "      <td>0101000020110F000020AF7E73DFB165C138EB72D03215...</td>\n",
       "      <td>2020/11/2</td>\n",
       "      <td>...</td>\n",
       "      <td>-11374565.46</td>\n",
       "      <td>3811748.142</td>\n",
       "      <td>1646.0</td>\n",
       "      <td>2021/6/16 8:48</td>\n",
       "      <td>0.70</td>\n",
       "      <td>0 days 00:54:00</td>\n",
       "      <td>0.0</td>\n",
       "      <td>2.0</td>\n",
       "      <td>#e587e8</td>\n",
       "      <td>4</td>\n",
       "    </tr>\n",
       "    <tr>\n",
       "      <th>74713</th>\n",
       "      <td>74713</td>\n",
       "      <td>51784</td>\n",
       "      <td>4231743271</td>\n",
       "      <td>Texas</td>\n",
       "      <td>Permian</td>\n",
       "      <td>Midland</td>\n",
       "      <td>Martin</td>\n",
       "      <td>tx_trrc_permit_master</td>\n",
       "      <td>0101000020110F000020AF7E73DFB165C138EB72D03215...</td>\n",
       "      <td>2020/11/2</td>\n",
       "      <td>...</td>\n",
       "      <td>-11374848.10</td>\n",
       "      <td>3811828.539</td>\n",
       "      <td>1646.0</td>\n",
       "      <td>2021/6/16 9:36</td>\n",
       "      <td>0.88</td>\n",
       "      <td>0 days 00:48:00</td>\n",
       "      <td>0.0</td>\n",
       "      <td>2.0</td>\n",
       "      <td>#e587e8</td>\n",
       "      <td>4</td>\n",
       "    </tr>\n",
       "    <tr>\n",
       "      <th>74714</th>\n",
       "      <td>74714</td>\n",
       "      <td>51784</td>\n",
       "      <td>4231743271</td>\n",
       "      <td>Texas</td>\n",
       "      <td>Permian</td>\n",
       "      <td>Midland</td>\n",
       "      <td>Martin</td>\n",
       "      <td>tx_trrc_permit_master</td>\n",
       "      <td>0101000020110F000020AF7E73DFB165C138EB72D03215...</td>\n",
       "      <td>2020/11/2</td>\n",
       "      <td>...</td>\n",
       "      <td>-11374775.07</td>\n",
       "      <td>3811750.647</td>\n",
       "      <td>1646.0</td>\n",
       "      <td>2021/6/17 7:36</td>\n",
       "      <td>0.72</td>\n",
       "      <td>0 days 22:00:00</td>\n",
       "      <td>0.0</td>\n",
       "      <td>2.0</td>\n",
       "      <td>#e587e8</td>\n",
       "      <td>4</td>\n",
       "    </tr>\n",
       "  </tbody>\n",
       "</table>\n",
       "<p>74715 rows × 63 columns</p>\n",
       "</div>"
      ],
      "text/plain": [
       "       Unnamed: 0.1  Unnamed: 0         api  state    basin subbasin  county  \\\n",
       "0                 0       84655  4231741500  Texas  Permian  Midland  Martin   \n",
       "1                 1       36846  4231743234  Texas  Permian  Midland  Martin   \n",
       "2                 2       52945  4231743224  Texas  Permian  Midland  Martin   \n",
       "3                 3       52945  4231743224  Texas  Permian  Midland  Martin   \n",
       "4                 4       52945  4231743224  Texas  Permian  Midland  Martin   \n",
       "...             ...         ...         ...    ...      ...      ...     ...   \n",
       "74710         74710       51784  4231743271  Texas  Permian  Midland  Martin   \n",
       "74711         74711       51784  4231743271  Texas  Permian  Midland  Martin   \n",
       "74712         74712       51784  4231743271  Texas  Permian  Midland  Martin   \n",
       "74713         74713       51784  4231743271  Texas  Permian  Midland  Martin   \n",
       "74714         74714       51784  4231743271  Texas  Permian  Midland  Martin   \n",
       "\n",
       "                      source  \\\n",
       "0      tx_trrc_permit_master   \n",
       "1      tx_trrc_permit_master   \n",
       "2      tx_trrc_permit_master   \n",
       "3      tx_trrc_permit_master   \n",
       "4      tx_trrc_permit_master   \n",
       "...                      ...   \n",
       "74710  tx_trrc_permit_master   \n",
       "74711  tx_trrc_permit_master   \n",
       "74712  tx_trrc_permit_master   \n",
       "74713  tx_trrc_permit_master   \n",
       "74714  tx_trrc_permit_master   \n",
       "\n",
       "                                                    geom tst_permit_date  ...  \\\n",
       "0      0101000020110F00005C064BE41DA965C137B978CC67D9...        2018/6/8  ...   \n",
       "1      0101000020110F000064C96CA8AEA865C1C051E8489BD9...       2020/9/21  ...   \n",
       "2      0101000020110F000035FE5F0F89A865C149E567C4BFD9...       2020/9/14  ...   \n",
       "3      0101000020110F000035FE5F0F89A865C149E567C4BFD9...       2020/9/14  ...   \n",
       "4      0101000020110F000035FE5F0F89A865C149E567C4BFD9...       2020/9/14  ...   \n",
       "...                                                  ...             ...  ...   \n",
       "74710  0101000020110F000020AF7E73DFB165C138EB72D03215...       2020/11/2  ...   \n",
       "74711  0101000020110F000020AF7E73DFB165C138EB72D03215...       2020/11/2  ...   \n",
       "74712  0101000020110F000020AF7E73DFB165C138EB72D03215...       2020/11/2  ...   \n",
       "74713  0101000020110F000020AF7E73DFB165C138EB72D03215...       2020/11/2  ...   \n",
       "74714  0101000020110F000020AF7E73DFB165C138EB72D03215...       2020/11/2  ...   \n",
       "\n",
       "                 X            Y spatial_group         aq_date power  \\\n",
       "0     -11356485.39  3781904.457        1001.0   2019/7/3 7:42  2.53   \n",
       "1     -11356341.34  3781628.244        1001.0   2022/4/4 7:31  1.62   \n",
       "2     -11355947.27  3781688.718        1001.0   2022/4/4 8:22  1.78   \n",
       "3     -11356166.57  3781358.742        1001.0   2022/4/4 9:13  0.79   \n",
       "4     -11355972.88  3781675.572        1001.0  2022/4/6 19:04  5.49   \n",
       "...            ...          ...           ...             ...   ...   \n",
       "74710 -11374859.12  3811744.057        1646.0  2021/6/15 8:12  1.12   \n",
       "74711 -11374736.89  3811619.904        1646.0  2021/6/16 7:54  0.84   \n",
       "74712 -11374565.46  3811748.142        1646.0  2021/6/16 8:48  0.70   \n",
       "74713 -11374848.10  3811828.539        1646.0  2021/6/16 9:36  0.88   \n",
       "74714 -11374775.07  3811750.647        1646.0  2021/6/17 7:36  0.72   \n",
       "\n",
       "                  t_diff days_diffs temporal_group    color  pad_status  \n",
       "0       68 days 22:24:00       68.0            1.0  #5c62b5           6  \n",
       "1      910 days 23:31:00      910.0            3.0  #bdb542           6  \n",
       "2        0 days 00:51:00        0.0            3.0  #bdb542           6  \n",
       "3        0 days 00:51:00        0.0            3.0  #bdb542           6  \n",
       "4        2 days 09:51:00        2.0            3.0  #bdb542           6  \n",
       "...                  ...        ...            ...      ...         ...  \n",
       "74710    0 days 00:00:00        0.0            2.0  #e587e8           4  \n",
       "74711    0 days 23:42:00        0.0            2.0  #e587e8           4  \n",
       "74712    0 days 00:54:00        0.0            2.0  #e587e8           4  \n",
       "74713    0 days 00:48:00        0.0            2.0  #e587e8           4  \n",
       "74714    0 days 22:00:00        0.0            2.0  #e587e8           4  \n",
       "\n",
       "[74715 rows x 63 columns]"
      ]
     },
     "execution_count": 2,
     "metadata": {},
     "output_type": "execute_result"
    }
   ],
   "source": [
    "path = r'D:\\UCL\\Term3\\tbx-flaring-shihao\\src\\notebooks\\original_dataset_merged_RNN.csv' \n",
    "df = pd.read_csv(path)\n",
    "df"
   ]
  },
  {
   "cell_type": "code",
   "execution_count": 3,
   "id": "ca3d8ae7",
   "metadata": {},
   "outputs": [
    {
     "data": {
      "text/html": [
       "<div>\n",
       "<style scoped>\n",
       "    .dataframe tbody tr th:only-of-type {\n",
       "        vertical-align: middle;\n",
       "    }\n",
       "\n",
       "    .dataframe tbody tr th {\n",
       "        vertical-align: top;\n",
       "    }\n",
       "\n",
       "    .dataframe thead th {\n",
       "        text-align: right;\n",
       "    }\n",
       "</style>\n",
       "<table border=\"1\" class=\"dataframe\">\n",
       "  <thead>\n",
       "    <tr style=\"text-align: right;\">\n",
       "      <th></th>\n",
       "      <th>tst_permit_date</th>\n",
       "      <th>tst_permit_published_date</th>\n",
       "      <th>tst_spud_date</th>\n",
       "      <th>tst_completion_date</th>\n",
       "      <th>tst_fracfocus_jobstart_date</th>\n",
       "      <th>tst_fracfocus_jobend_date</th>\n",
       "      <th>wellpad_code</th>\n",
       "      <th>parent_operator_co</th>\n",
       "      <th>lat</th>\n",
       "      <th>long</th>\n",
       "      <th>...</th>\n",
       "      <th>comp_diff</th>\n",
       "      <th>spud_diff</th>\n",
       "      <th>permit_diff</th>\n",
       "      <th>detection_diff</th>\n",
       "      <th>BRIGHTNESS</th>\n",
       "      <th>ACQ_DATE</th>\n",
       "      <th>FRP</th>\n",
       "      <th>days_diffs</th>\n",
       "      <th>temporal_group</th>\n",
       "      <th>pad_status</th>\n",
       "    </tr>\n",
       "  </thead>\n",
       "  <tbody>\n",
       "    <tr>\n",
       "      <th>0</th>\n",
       "      <td>2018/6/8</td>\n",
       "      <td>2018/6/10 0:00</td>\n",
       "      <td>2018/7/14</td>\n",
       "      <td>2019/4/28</td>\n",
       "      <td>2019/3/21</td>\n",
       "      <td>2019/4/11</td>\n",
       "      <td>9txqyd3v</td>\n",
       "      <td>CROWNQUEST OPERATING</td>\n",
       "      <td>32.1372</td>\n",
       "      <td>-102.0163</td>\n",
       "      <td>...</td>\n",
       "      <td>66.0</td>\n",
       "      <td>354</td>\n",
       "      <td>390.0</td>\n",
       "      <td>423</td>\n",
       "      <td>302.01</td>\n",
       "      <td>2019/7/3</td>\n",
       "      <td>2.53</td>\n",
       "      <td>68.0</td>\n",
       "      <td>1.0</td>\n",
       "      <td>6</td>\n",
       "    </tr>\n",
       "    <tr>\n",
       "      <th>1</th>\n",
       "      <td>2020/9/21</td>\n",
       "      <td>2020/9/23 0:00</td>\n",
       "      <td>2021/5/18</td>\n",
       "      <td>2022/2/9</td>\n",
       "      <td>2022/1/4 18:33</td>\n",
       "      <td>2022/1/17 3:08</td>\n",
       "      <td>9txqydx8</td>\n",
       "      <td>CROWNQUEST OPERATING</td>\n",
       "      <td>32.1379</td>\n",
       "      <td>-102.0083</td>\n",
       "      <td>...</td>\n",
       "      <td>54.0</td>\n",
       "      <td>321</td>\n",
       "      <td>560.0</td>\n",
       "      <td>564</td>\n",
       "      <td>303.60</td>\n",
       "      <td>2022/4/4</td>\n",
       "      <td>1.62</td>\n",
       "      <td>910.0</td>\n",
       "      <td>3.0</td>\n",
       "      <td>6</td>\n",
       "    </tr>\n",
       "    <tr>\n",
       "      <th>2</th>\n",
       "      <td>2020/9/14</td>\n",
       "      <td>2020/9/23 0:00</td>\n",
       "      <td>2020/10/15</td>\n",
       "      <td>2022/2/9</td>\n",
       "      <td>2021/12/15 6:00</td>\n",
       "      <td>2021/12/31 6:00</td>\n",
       "      <td>9txqyf9e</td>\n",
       "      <td>CROWNQUEST OPERATING</td>\n",
       "      <td>32.1385</td>\n",
       "      <td>-102.0056</td>\n",
       "      <td>...</td>\n",
       "      <td>54.0</td>\n",
       "      <td>536</td>\n",
       "      <td>567.0</td>\n",
       "      <td>599</td>\n",
       "      <td>315.40</td>\n",
       "      <td>2022/4/4</td>\n",
       "      <td>1.78</td>\n",
       "      <td>0.0</td>\n",
       "      <td>3.0</td>\n",
       "      <td>6</td>\n",
       "    </tr>\n",
       "    <tr>\n",
       "      <th>3</th>\n",
       "      <td>2020/9/14</td>\n",
       "      <td>2020/9/23 0:00</td>\n",
       "      <td>2020/10/15</td>\n",
       "      <td>2022/2/9</td>\n",
       "      <td>2021/12/15 6:00</td>\n",
       "      <td>2021/12/31 6:00</td>\n",
       "      <td>9txqyf9e</td>\n",
       "      <td>CROWNQUEST OPERATING</td>\n",
       "      <td>32.1385</td>\n",
       "      <td>-102.0056</td>\n",
       "      <td>...</td>\n",
       "      <td>54.0</td>\n",
       "      <td>536</td>\n",
       "      <td>567.0</td>\n",
       "      <td>599</td>\n",
       "      <td>297.20</td>\n",
       "      <td>2022/4/4</td>\n",
       "      <td>0.79</td>\n",
       "      <td>0.0</td>\n",
       "      <td>3.0</td>\n",
       "      <td>6</td>\n",
       "    </tr>\n",
       "    <tr>\n",
       "      <th>4</th>\n",
       "      <td>2020/9/14</td>\n",
       "      <td>2020/9/23 0:00</td>\n",
       "      <td>2020/10/15</td>\n",
       "      <td>2022/2/9</td>\n",
       "      <td>2021/12/15 6:00</td>\n",
       "      <td>2021/12/31 6:00</td>\n",
       "      <td>9txqyf9e</td>\n",
       "      <td>CROWNQUEST OPERATING</td>\n",
       "      <td>32.1385</td>\n",
       "      <td>-102.0056</td>\n",
       "      <td>...</td>\n",
       "      <td>54.0</td>\n",
       "      <td>536</td>\n",
       "      <td>567.0</td>\n",
       "      <td>599</td>\n",
       "      <td>367.00</td>\n",
       "      <td>2022/4/6</td>\n",
       "      <td>5.49</td>\n",
       "      <td>2.0</td>\n",
       "      <td>3.0</td>\n",
       "      <td>6</td>\n",
       "    </tr>\n",
       "    <tr>\n",
       "      <th>...</th>\n",
       "      <td>...</td>\n",
       "      <td>...</td>\n",
       "      <td>...</td>\n",
       "      <td>...</td>\n",
       "      <td>...</td>\n",
       "      <td>...</td>\n",
       "      <td>...</td>\n",
       "      <td>...</td>\n",
       "      <td>...</td>\n",
       "      <td>...</td>\n",
       "      <td>...</td>\n",
       "      <td>...</td>\n",
       "      <td>...</td>\n",
       "      <td>...</td>\n",
       "      <td>...</td>\n",
       "      <td>...</td>\n",
       "      <td>...</td>\n",
       "      <td>...</td>\n",
       "      <td>...</td>\n",
       "      <td>...</td>\n",
       "      <td>...</td>\n",
       "    </tr>\n",
       "    <tr>\n",
       "      <th>74710</th>\n",
       "      <td>2020/11/2</td>\n",
       "      <td>2020/11/21 0:00</td>\n",
       "      <td>2020/12/15</td>\n",
       "      <td>2021/4/2</td>\n",
       "      <td>NaN</td>\n",
       "      <td>NaN</td>\n",
       "      <td>9tz24usw</td>\n",
       "      <td>OVINTIV</td>\n",
       "      <td>32.3697</td>\n",
       "      <td>-102.1774</td>\n",
       "      <td>...</td>\n",
       "      <td>7.0</td>\n",
       "      <td>101</td>\n",
       "      <td>144.0</td>\n",
       "      <td>160</td>\n",
       "      <td>309.99</td>\n",
       "      <td>2021/6/15</td>\n",
       "      <td>1.12</td>\n",
       "      <td>0.0</td>\n",
       "      <td>2.0</td>\n",
       "      <td>4</td>\n",
       "    </tr>\n",
       "    <tr>\n",
       "      <th>74711</th>\n",
       "      <td>2020/11/2</td>\n",
       "      <td>2020/11/21 0:00</td>\n",
       "      <td>2020/12/15</td>\n",
       "      <td>2021/4/2</td>\n",
       "      <td>NaN</td>\n",
       "      <td>NaN</td>\n",
       "      <td>9tz24usw</td>\n",
       "      <td>OVINTIV</td>\n",
       "      <td>32.3697</td>\n",
       "      <td>-102.1774</td>\n",
       "      <td>...</td>\n",
       "      <td>7.0</td>\n",
       "      <td>101</td>\n",
       "      <td>144.0</td>\n",
       "      <td>160</td>\n",
       "      <td>305.45</td>\n",
       "      <td>2021/6/16</td>\n",
       "      <td>0.84</td>\n",
       "      <td>0.0</td>\n",
       "      <td>2.0</td>\n",
       "      <td>4</td>\n",
       "    </tr>\n",
       "    <tr>\n",
       "      <th>74712</th>\n",
       "      <td>2020/11/2</td>\n",
       "      <td>2020/11/21 0:00</td>\n",
       "      <td>2020/12/15</td>\n",
       "      <td>2021/4/2</td>\n",
       "      <td>NaN</td>\n",
       "      <td>NaN</td>\n",
       "      <td>9tz24usw</td>\n",
       "      <td>OVINTIV</td>\n",
       "      <td>32.3697</td>\n",
       "      <td>-102.1774</td>\n",
       "      <td>...</td>\n",
       "      <td>7.0</td>\n",
       "      <td>101</td>\n",
       "      <td>144.0</td>\n",
       "      <td>160</td>\n",
       "      <td>309.60</td>\n",
       "      <td>2021/6/16</td>\n",
       "      <td>0.70</td>\n",
       "      <td>0.0</td>\n",
       "      <td>2.0</td>\n",
       "      <td>4</td>\n",
       "    </tr>\n",
       "    <tr>\n",
       "      <th>74713</th>\n",
       "      <td>2020/11/2</td>\n",
       "      <td>2020/11/21 0:00</td>\n",
       "      <td>2020/12/15</td>\n",
       "      <td>2021/4/2</td>\n",
       "      <td>NaN</td>\n",
       "      <td>NaN</td>\n",
       "      <td>9tz24usw</td>\n",
       "      <td>OVINTIV</td>\n",
       "      <td>32.3697</td>\n",
       "      <td>-102.1774</td>\n",
       "      <td>...</td>\n",
       "      <td>7.0</td>\n",
       "      <td>101</td>\n",
       "      <td>144.0</td>\n",
       "      <td>160</td>\n",
       "      <td>301.67</td>\n",
       "      <td>2021/6/16</td>\n",
       "      <td>0.88</td>\n",
       "      <td>0.0</td>\n",
       "      <td>2.0</td>\n",
       "      <td>4</td>\n",
       "    </tr>\n",
       "    <tr>\n",
       "      <th>74714</th>\n",
       "      <td>2020/11/2</td>\n",
       "      <td>2020/11/21 0:00</td>\n",
       "      <td>2020/12/15</td>\n",
       "      <td>2021/4/2</td>\n",
       "      <td>NaN</td>\n",
       "      <td>NaN</td>\n",
       "      <td>9tz24usw</td>\n",
       "      <td>OVINTIV</td>\n",
       "      <td>32.3697</td>\n",
       "      <td>-102.1774</td>\n",
       "      <td>...</td>\n",
       "      <td>7.0</td>\n",
       "      <td>101</td>\n",
       "      <td>144.0</td>\n",
       "      <td>160</td>\n",
       "      <td>303.54</td>\n",
       "      <td>2021/6/17</td>\n",
       "      <td>0.72</td>\n",
       "      <td>0.0</td>\n",
       "      <td>2.0</td>\n",
       "      <td>4</td>\n",
       "    </tr>\n",
       "  </tbody>\n",
       "</table>\n",
       "<p>73959 rows × 27 columns</p>\n",
       "</div>"
      ],
      "text/plain": [
       "      tst_permit_date tst_permit_published_date tst_spud_date  \\\n",
       "0            2018/6/8            2018/6/10 0:00     2018/7/14   \n",
       "1           2020/9/21            2020/9/23 0:00     2021/5/18   \n",
       "2           2020/9/14            2020/9/23 0:00    2020/10/15   \n",
       "3           2020/9/14            2020/9/23 0:00    2020/10/15   \n",
       "4           2020/9/14            2020/9/23 0:00    2020/10/15   \n",
       "...               ...                       ...           ...   \n",
       "74710       2020/11/2           2020/11/21 0:00    2020/12/15   \n",
       "74711       2020/11/2           2020/11/21 0:00    2020/12/15   \n",
       "74712       2020/11/2           2020/11/21 0:00    2020/12/15   \n",
       "74713       2020/11/2           2020/11/21 0:00    2020/12/15   \n",
       "74714       2020/11/2           2020/11/21 0:00    2020/12/15   \n",
       "\n",
       "      tst_completion_date tst_fracfocus_jobstart_date  \\\n",
       "0               2019/4/28                   2019/3/21   \n",
       "1                2022/2/9              2022/1/4 18:33   \n",
       "2                2022/2/9             2021/12/15 6:00   \n",
       "3                2022/2/9             2021/12/15 6:00   \n",
       "4                2022/2/9             2021/12/15 6:00   \n",
       "...                   ...                         ...   \n",
       "74710            2021/4/2                         NaN   \n",
       "74711            2021/4/2                         NaN   \n",
       "74712            2021/4/2                         NaN   \n",
       "74713            2021/4/2                         NaN   \n",
       "74714            2021/4/2                         NaN   \n",
       "\n",
       "      tst_fracfocus_jobend_date wellpad_code    parent_operator_co      lat  \\\n",
       "0                     2019/4/11     9txqyd3v  CROWNQUEST OPERATING  32.1372   \n",
       "1                2022/1/17 3:08     9txqydx8  CROWNQUEST OPERATING  32.1379   \n",
       "2               2021/12/31 6:00     9txqyf9e  CROWNQUEST OPERATING  32.1385   \n",
       "3               2021/12/31 6:00     9txqyf9e  CROWNQUEST OPERATING  32.1385   \n",
       "4               2021/12/31 6:00     9txqyf9e  CROWNQUEST OPERATING  32.1385   \n",
       "...                         ...          ...                   ...      ...   \n",
       "74710                       NaN     9tz24usw               OVINTIV  32.3697   \n",
       "74711                       NaN     9tz24usw               OVINTIV  32.3697   \n",
       "74712                       NaN     9tz24usw               OVINTIV  32.3697   \n",
       "74713                       NaN     9tz24usw               OVINTIV  32.3697   \n",
       "74714                       NaN     9tz24usw               OVINTIV  32.3697   \n",
       "\n",
       "           long  ...  comp_diff  spud_diff permit_diff detection_diff  \\\n",
       "0     -102.0163  ...       66.0        354       390.0            423   \n",
       "1     -102.0083  ...       54.0        321       560.0            564   \n",
       "2     -102.0056  ...       54.0        536       567.0            599   \n",
       "3     -102.0056  ...       54.0        536       567.0            599   \n",
       "4     -102.0056  ...       54.0        536       567.0            599   \n",
       "...         ...  ...        ...        ...         ...            ...   \n",
       "74710 -102.1774  ...        7.0        101       144.0            160   \n",
       "74711 -102.1774  ...        7.0        101       144.0            160   \n",
       "74712 -102.1774  ...        7.0        101       144.0            160   \n",
       "74713 -102.1774  ...        7.0        101       144.0            160   \n",
       "74714 -102.1774  ...        7.0        101       144.0            160   \n",
       "\n",
       "       BRIGHTNESS   ACQ_DATE   FRP  days_diffs  temporal_group  pad_status  \n",
       "0          302.01   2019/7/3  2.53        68.0             1.0           6  \n",
       "1          303.60   2022/4/4  1.62       910.0             3.0           6  \n",
       "2          315.40   2022/4/4  1.78         0.0             3.0           6  \n",
       "3          297.20   2022/4/4  0.79         0.0             3.0           6  \n",
       "4          367.00   2022/4/6  5.49         2.0             3.0           6  \n",
       "...           ...        ...   ...         ...             ...         ...  \n",
       "74710      309.99  2021/6/15  1.12         0.0             2.0           4  \n",
       "74711      305.45  2021/6/16  0.84         0.0             2.0           4  \n",
       "74712      309.60  2021/6/16  0.70         0.0             2.0           4  \n",
       "74713      301.67  2021/6/16  0.88         0.0             2.0           4  \n",
       "74714      303.54  2021/6/17  0.72         0.0             2.0           4  \n",
       "\n",
       "[73959 rows x 27 columns]"
      ]
     },
     "execution_count": 3,
     "metadata": {},
     "output_type": "execute_result"
    }
   ],
   "source": [
    "# drop the unnecessary columns and filter out the wellpads that have no flaring records\n",
    "df= df.drop(columns = ['Unnamed: 0.1','api','state','basin','county','source','geom','subbasin','operator_code',\n",
    "                       'operator_name','X','Y','spatial_group','color','Unnamed: 0','style','geometry','wellpads_id',\n",
    "                       'Unnamed: 0.2','LATITUDE','LONGITUDE','SCAN','TRACK','BRIGHT_T31','CONFIDENCE','SATELLITE','INSTRUMENT',\n",
    "                       'geometry.1','TYPE','DAYNIGHT','power','VERSION','aq_date','ACQ_TIME','t_diff','best_estimate_diff'])\n",
    "df = df[df['ACQ_DATE'].notna()]\n",
    "df"
   ]
  },
  {
   "cell_type": "code",
   "execution_count": 4,
   "id": "ab339f09",
   "metadata": {},
   "outputs": [],
   "source": [
    "# check if the datetype is correct\n",
    "def is_correct_dt(dt_str):\n",
    "    \n",
    "    try:\n",
    "        dt = datetime.strptime(dt_str, '%Y/%m/%d')\n",
    "    except:\n",
    "        dt = np.nan\n",
    "    \n",
    "    return dt\n",
    "    \n",
    "df['tst_first_detection_date'] = df['tst_first_detection_date'].apply(is_correct_dt)"
   ]
  },
  {
   "cell_type": "code",
   "execution_count": 5,
   "id": "368a9509",
   "metadata": {},
   "outputs": [],
   "source": [
    "# reformating the date type value \n",
    "df['ACQ_DATE'] = pd.to_datetime(df['ACQ_DATE'], format='%Y%m%d %H:%M')\n",
    "df['tst_first_detection_date'] = pd.to_datetime(df['tst_first_detection_date'], format='%Y/%m/%d')\n",
    "df['tst_permit_date'] = pd.to_datetime(df['tst_permit_date'], format='%Y/%m/%d')\n",
    "df['tst_permit_published_date'] = pd.to_datetime(df['tst_permit_published_date'], format='%Y/%m/%d')\n",
    "df['tst_spud_date'] = pd.to_datetime(df['tst_spud_date'], format='%Y/%m/%d')\n",
    "df['tst_completion_date'] = pd.to_datetime(df['tst_completion_date'], format='%Y/%m/%d')\n",
    "df['tst_fracfocus_jobstart_date'] = pd.to_datetime(df['tst_fracfocus_jobstart_date'], format='%Y/%m/%d')\n",
    "df['tst_fracfocus_jobend_date'] = pd.to_datetime(df['tst_fracfocus_jobend_date'], format='%Y/%m/%d')\n",
    "df['tst_fracfocus_jobend_date'] = pd.to_datetime(df['tst_fracfocus_jobend_date'], format='%Y/%m/%d')"
   ]
  },
  {
   "cell_type": "code",
   "execution_count": 6,
   "id": "4e205519",
   "metadata": {},
   "outputs": [],
   "source": [
    "# turn the public/private to a boolean value \n",
    "def public_private_class(company_type):\n",
    "    \n",
    "    ctype_class = 0\n",
    "    if company_type == 'Public':\n",
    "        ctype_class = 1\n",
    "        \n",
    "    return ctype_class\n",
    "\n",
    "df['company_type'] = df['company_type'].apply(public_private_class)"
   ]
  },
  {
   "cell_type": "code",
   "execution_count": 7,
   "id": "073bf858",
   "metadata": {},
   "outputs": [],
   "source": [
    "# convert datetime to date \n",
    "df['ACQ_DATE'] = pd.to_datetime(df['ACQ_DATE']).dt.date\n",
    "df['tst_first_detection_date'] = pd.to_datetime(df['tst_first_detection_date']).dt.date\n",
    "df['tst_permit_date'] = pd.to_datetime(df['tst_permit_date']).dt.date\n",
    "df['tst_permit_published_date'] = pd.to_datetime(df['tst_permit_published_date']).dt.date\n",
    "df['tst_spud_date'] = pd.to_datetime(df['tst_spud_date']).dt.date\n",
    "df['tst_completion_date'] = pd.to_datetime(df['tst_completion_date']).dt.date\n",
    "df['tst_fracfocus_jobstart_date'] = pd.to_datetime(df['tst_fracfocus_jobstart_date']).dt.date\n",
    "df['tst_fracfocus_jobend_date'] = pd.to_datetime(df['tst_fracfocus_jobend_date']).dt.date\n",
    "df['tst_fracfocus_jobend_date'] = pd.to_datetime(df['tst_fracfocus_jobend_date']).dt.date\n",
    "\n"
   ]
  },
  {
   "cell_type": "code",
   "execution_count": 8,
   "id": "34b45406",
   "metadata": {},
   "outputs": [
    {
     "data": {
      "text/html": [
       "<div>\n",
       "<style scoped>\n",
       "    .dataframe tbody tr th:only-of-type {\n",
       "        vertical-align: middle;\n",
       "    }\n",
       "\n",
       "    .dataframe tbody tr th {\n",
       "        vertical-align: top;\n",
       "    }\n",
       "\n",
       "    .dataframe thead th {\n",
       "        text-align: right;\n",
       "    }\n",
       "</style>\n",
       "<table border=\"1\" class=\"dataframe\">\n",
       "  <thead>\n",
       "    <tr style=\"text-align: right;\">\n",
       "      <th></th>\n",
       "      <th>tst_permit_date</th>\n",
       "      <th>tst_permit_published_date</th>\n",
       "      <th>tst_spud_date</th>\n",
       "      <th>tst_completion_date</th>\n",
       "      <th>tst_fracfocus_jobstart_date</th>\n",
       "      <th>tst_fracfocus_jobend_date</th>\n",
       "      <th>wellpad_code</th>\n",
       "      <th>parent_operator_co</th>\n",
       "      <th>lat</th>\n",
       "      <th>long</th>\n",
       "      <th>...</th>\n",
       "      <th>comp_diff</th>\n",
       "      <th>spud_diff</th>\n",
       "      <th>permit_diff</th>\n",
       "      <th>detection_diff</th>\n",
       "      <th>BRIGHTNESS</th>\n",
       "      <th>ACQ_DATE</th>\n",
       "      <th>FRP</th>\n",
       "      <th>days_diffs</th>\n",
       "      <th>temporal_group</th>\n",
       "      <th>pad_status</th>\n",
       "    </tr>\n",
       "  </thead>\n",
       "  <tbody>\n",
       "    <tr>\n",
       "      <th>0</th>\n",
       "      <td>2018-06-08</td>\n",
       "      <td>2018-06-10</td>\n",
       "      <td>2018-07-14</td>\n",
       "      <td>2019-04-28</td>\n",
       "      <td>2019-03-21</td>\n",
       "      <td>2019-04-11</td>\n",
       "      <td>9txqyd3v</td>\n",
       "      <td>CROWNQUEST OPERATING</td>\n",
       "      <td>32.1372</td>\n",
       "      <td>-102.0163</td>\n",
       "      <td>...</td>\n",
       "      <td>66.0</td>\n",
       "      <td>354</td>\n",
       "      <td>390.0</td>\n",
       "      <td>423</td>\n",
       "      <td>302.01</td>\n",
       "      <td>2019-07-03</td>\n",
       "      <td>2.53</td>\n",
       "      <td>68.0</td>\n",
       "      <td>1.0</td>\n",
       "      <td>6</td>\n",
       "    </tr>\n",
       "    <tr>\n",
       "      <th>1</th>\n",
       "      <td>2020-09-21</td>\n",
       "      <td>2020-09-23</td>\n",
       "      <td>2021-05-18</td>\n",
       "      <td>2022-02-09</td>\n",
       "      <td>2022-01-04</td>\n",
       "      <td>2022-01-17</td>\n",
       "      <td>9txqydx8</td>\n",
       "      <td>CROWNQUEST OPERATING</td>\n",
       "      <td>32.1379</td>\n",
       "      <td>-102.0083</td>\n",
       "      <td>...</td>\n",
       "      <td>54.0</td>\n",
       "      <td>321</td>\n",
       "      <td>560.0</td>\n",
       "      <td>564</td>\n",
       "      <td>303.60</td>\n",
       "      <td>2022-04-04</td>\n",
       "      <td>1.62</td>\n",
       "      <td>910.0</td>\n",
       "      <td>3.0</td>\n",
       "      <td>6</td>\n",
       "    </tr>\n",
       "    <tr>\n",
       "      <th>2</th>\n",
       "      <td>2020-09-14</td>\n",
       "      <td>2020-09-23</td>\n",
       "      <td>2020-10-15</td>\n",
       "      <td>2022-02-09</td>\n",
       "      <td>2021-12-15</td>\n",
       "      <td>2021-12-31</td>\n",
       "      <td>9txqyf9e</td>\n",
       "      <td>CROWNQUEST OPERATING</td>\n",
       "      <td>32.1385</td>\n",
       "      <td>-102.0056</td>\n",
       "      <td>...</td>\n",
       "      <td>54.0</td>\n",
       "      <td>536</td>\n",
       "      <td>567.0</td>\n",
       "      <td>599</td>\n",
       "      <td>315.40</td>\n",
       "      <td>2022-04-04</td>\n",
       "      <td>1.78</td>\n",
       "      <td>0.0</td>\n",
       "      <td>3.0</td>\n",
       "      <td>6</td>\n",
       "    </tr>\n",
       "    <tr>\n",
       "      <th>3</th>\n",
       "      <td>2020-09-14</td>\n",
       "      <td>2020-09-23</td>\n",
       "      <td>2020-10-15</td>\n",
       "      <td>2022-02-09</td>\n",
       "      <td>2021-12-15</td>\n",
       "      <td>2021-12-31</td>\n",
       "      <td>9txqyf9e</td>\n",
       "      <td>CROWNQUEST OPERATING</td>\n",
       "      <td>32.1385</td>\n",
       "      <td>-102.0056</td>\n",
       "      <td>...</td>\n",
       "      <td>54.0</td>\n",
       "      <td>536</td>\n",
       "      <td>567.0</td>\n",
       "      <td>599</td>\n",
       "      <td>297.20</td>\n",
       "      <td>2022-04-04</td>\n",
       "      <td>0.79</td>\n",
       "      <td>0.0</td>\n",
       "      <td>3.0</td>\n",
       "      <td>6</td>\n",
       "    </tr>\n",
       "    <tr>\n",
       "      <th>4</th>\n",
       "      <td>2020-09-14</td>\n",
       "      <td>2020-09-23</td>\n",
       "      <td>2020-10-15</td>\n",
       "      <td>2022-02-09</td>\n",
       "      <td>2021-12-15</td>\n",
       "      <td>2021-12-31</td>\n",
       "      <td>9txqyf9e</td>\n",
       "      <td>CROWNQUEST OPERATING</td>\n",
       "      <td>32.1385</td>\n",
       "      <td>-102.0056</td>\n",
       "      <td>...</td>\n",
       "      <td>54.0</td>\n",
       "      <td>536</td>\n",
       "      <td>567.0</td>\n",
       "      <td>599</td>\n",
       "      <td>367.00</td>\n",
       "      <td>2022-04-06</td>\n",
       "      <td>5.49</td>\n",
       "      <td>2.0</td>\n",
       "      <td>3.0</td>\n",
       "      <td>6</td>\n",
       "    </tr>\n",
       "    <tr>\n",
       "      <th>...</th>\n",
       "      <td>...</td>\n",
       "      <td>...</td>\n",
       "      <td>...</td>\n",
       "      <td>...</td>\n",
       "      <td>...</td>\n",
       "      <td>...</td>\n",
       "      <td>...</td>\n",
       "      <td>...</td>\n",
       "      <td>...</td>\n",
       "      <td>...</td>\n",
       "      <td>...</td>\n",
       "      <td>...</td>\n",
       "      <td>...</td>\n",
       "      <td>...</td>\n",
       "      <td>...</td>\n",
       "      <td>...</td>\n",
       "      <td>...</td>\n",
       "      <td>...</td>\n",
       "      <td>...</td>\n",
       "      <td>...</td>\n",
       "      <td>...</td>\n",
       "    </tr>\n",
       "    <tr>\n",
       "      <th>74710</th>\n",
       "      <td>2020-11-02</td>\n",
       "      <td>2020-11-21</td>\n",
       "      <td>2020-12-15</td>\n",
       "      <td>2021-04-02</td>\n",
       "      <td>NaT</td>\n",
       "      <td>NaT</td>\n",
       "      <td>9tz24usw</td>\n",
       "      <td>OVINTIV</td>\n",
       "      <td>32.3697</td>\n",
       "      <td>-102.1774</td>\n",
       "      <td>...</td>\n",
       "      <td>7.0</td>\n",
       "      <td>101</td>\n",
       "      <td>144.0</td>\n",
       "      <td>160</td>\n",
       "      <td>309.99</td>\n",
       "      <td>2021-06-15</td>\n",
       "      <td>1.12</td>\n",
       "      <td>0.0</td>\n",
       "      <td>2.0</td>\n",
       "      <td>4</td>\n",
       "    </tr>\n",
       "    <tr>\n",
       "      <th>74711</th>\n",
       "      <td>2020-11-02</td>\n",
       "      <td>2020-11-21</td>\n",
       "      <td>2020-12-15</td>\n",
       "      <td>2021-04-02</td>\n",
       "      <td>NaT</td>\n",
       "      <td>NaT</td>\n",
       "      <td>9tz24usw</td>\n",
       "      <td>OVINTIV</td>\n",
       "      <td>32.3697</td>\n",
       "      <td>-102.1774</td>\n",
       "      <td>...</td>\n",
       "      <td>7.0</td>\n",
       "      <td>101</td>\n",
       "      <td>144.0</td>\n",
       "      <td>160</td>\n",
       "      <td>305.45</td>\n",
       "      <td>2021-06-16</td>\n",
       "      <td>0.84</td>\n",
       "      <td>0.0</td>\n",
       "      <td>2.0</td>\n",
       "      <td>4</td>\n",
       "    </tr>\n",
       "    <tr>\n",
       "      <th>74712</th>\n",
       "      <td>2020-11-02</td>\n",
       "      <td>2020-11-21</td>\n",
       "      <td>2020-12-15</td>\n",
       "      <td>2021-04-02</td>\n",
       "      <td>NaT</td>\n",
       "      <td>NaT</td>\n",
       "      <td>9tz24usw</td>\n",
       "      <td>OVINTIV</td>\n",
       "      <td>32.3697</td>\n",
       "      <td>-102.1774</td>\n",
       "      <td>...</td>\n",
       "      <td>7.0</td>\n",
       "      <td>101</td>\n",
       "      <td>144.0</td>\n",
       "      <td>160</td>\n",
       "      <td>309.60</td>\n",
       "      <td>2021-06-16</td>\n",
       "      <td>0.70</td>\n",
       "      <td>0.0</td>\n",
       "      <td>2.0</td>\n",
       "      <td>4</td>\n",
       "    </tr>\n",
       "    <tr>\n",
       "      <th>74713</th>\n",
       "      <td>2020-11-02</td>\n",
       "      <td>2020-11-21</td>\n",
       "      <td>2020-12-15</td>\n",
       "      <td>2021-04-02</td>\n",
       "      <td>NaT</td>\n",
       "      <td>NaT</td>\n",
       "      <td>9tz24usw</td>\n",
       "      <td>OVINTIV</td>\n",
       "      <td>32.3697</td>\n",
       "      <td>-102.1774</td>\n",
       "      <td>...</td>\n",
       "      <td>7.0</td>\n",
       "      <td>101</td>\n",
       "      <td>144.0</td>\n",
       "      <td>160</td>\n",
       "      <td>301.67</td>\n",
       "      <td>2021-06-16</td>\n",
       "      <td>0.88</td>\n",
       "      <td>0.0</td>\n",
       "      <td>2.0</td>\n",
       "      <td>4</td>\n",
       "    </tr>\n",
       "    <tr>\n",
       "      <th>74714</th>\n",
       "      <td>2020-11-02</td>\n",
       "      <td>2020-11-21</td>\n",
       "      <td>2020-12-15</td>\n",
       "      <td>2021-04-02</td>\n",
       "      <td>NaT</td>\n",
       "      <td>NaT</td>\n",
       "      <td>9tz24usw</td>\n",
       "      <td>OVINTIV</td>\n",
       "      <td>32.3697</td>\n",
       "      <td>-102.1774</td>\n",
       "      <td>...</td>\n",
       "      <td>7.0</td>\n",
       "      <td>101</td>\n",
       "      <td>144.0</td>\n",
       "      <td>160</td>\n",
       "      <td>303.54</td>\n",
       "      <td>2021-06-17</td>\n",
       "      <td>0.72</td>\n",
       "      <td>0.0</td>\n",
       "      <td>2.0</td>\n",
       "      <td>4</td>\n",
       "    </tr>\n",
       "  </tbody>\n",
       "</table>\n",
       "<p>73959 rows × 27 columns</p>\n",
       "</div>"
      ],
      "text/plain": [
       "      tst_permit_date tst_permit_published_date tst_spud_date  \\\n",
       "0          2018-06-08                2018-06-10    2018-07-14   \n",
       "1          2020-09-21                2020-09-23    2021-05-18   \n",
       "2          2020-09-14                2020-09-23    2020-10-15   \n",
       "3          2020-09-14                2020-09-23    2020-10-15   \n",
       "4          2020-09-14                2020-09-23    2020-10-15   \n",
       "...               ...                       ...           ...   \n",
       "74710      2020-11-02                2020-11-21    2020-12-15   \n",
       "74711      2020-11-02                2020-11-21    2020-12-15   \n",
       "74712      2020-11-02                2020-11-21    2020-12-15   \n",
       "74713      2020-11-02                2020-11-21    2020-12-15   \n",
       "74714      2020-11-02                2020-11-21    2020-12-15   \n",
       "\n",
       "      tst_completion_date tst_fracfocus_jobstart_date  \\\n",
       "0              2019-04-28                  2019-03-21   \n",
       "1              2022-02-09                  2022-01-04   \n",
       "2              2022-02-09                  2021-12-15   \n",
       "3              2022-02-09                  2021-12-15   \n",
       "4              2022-02-09                  2021-12-15   \n",
       "...                   ...                         ...   \n",
       "74710          2021-04-02                         NaT   \n",
       "74711          2021-04-02                         NaT   \n",
       "74712          2021-04-02                         NaT   \n",
       "74713          2021-04-02                         NaT   \n",
       "74714          2021-04-02                         NaT   \n",
       "\n",
       "      tst_fracfocus_jobend_date wellpad_code    parent_operator_co      lat  \\\n",
       "0                    2019-04-11     9txqyd3v  CROWNQUEST OPERATING  32.1372   \n",
       "1                    2022-01-17     9txqydx8  CROWNQUEST OPERATING  32.1379   \n",
       "2                    2021-12-31     9txqyf9e  CROWNQUEST OPERATING  32.1385   \n",
       "3                    2021-12-31     9txqyf9e  CROWNQUEST OPERATING  32.1385   \n",
       "4                    2021-12-31     9txqyf9e  CROWNQUEST OPERATING  32.1385   \n",
       "...                         ...          ...                   ...      ...   \n",
       "74710                       NaT     9tz24usw               OVINTIV  32.3697   \n",
       "74711                       NaT     9tz24usw               OVINTIV  32.3697   \n",
       "74712                       NaT     9tz24usw               OVINTIV  32.3697   \n",
       "74713                       NaT     9tz24usw               OVINTIV  32.3697   \n",
       "74714                       NaT     9tz24usw               OVINTIV  32.3697   \n",
       "\n",
       "           long  ...  comp_diff  spud_diff permit_diff  detection_diff  \\\n",
       "0     -102.0163  ...       66.0        354       390.0             423   \n",
       "1     -102.0083  ...       54.0        321       560.0             564   \n",
       "2     -102.0056  ...       54.0        536       567.0             599   \n",
       "3     -102.0056  ...       54.0        536       567.0             599   \n",
       "4     -102.0056  ...       54.0        536       567.0             599   \n",
       "...         ...  ...        ...        ...         ...             ...   \n",
       "74710 -102.1774  ...        7.0        101       144.0             160   \n",
       "74711 -102.1774  ...        7.0        101       144.0             160   \n",
       "74712 -102.1774  ...        7.0        101       144.0             160   \n",
       "74713 -102.1774  ...        7.0        101       144.0             160   \n",
       "74714 -102.1774  ...        7.0        101       144.0             160   \n",
       "\n",
       "       BRIGHTNESS    ACQ_DATE   FRP  days_diffs  temporal_group  pad_status  \n",
       "0          302.01  2019-07-03  2.53        68.0             1.0           6  \n",
       "1          303.60  2022-04-04  1.62       910.0             3.0           6  \n",
       "2          315.40  2022-04-04  1.78         0.0             3.0           6  \n",
       "3          297.20  2022-04-04  0.79         0.0             3.0           6  \n",
       "4          367.00  2022-04-06  5.49         2.0             3.0           6  \n",
       "...           ...         ...   ...         ...             ...         ...  \n",
       "74710      309.99  2021-06-15  1.12         0.0             2.0           4  \n",
       "74711      305.45  2021-06-16  0.84         0.0             2.0           4  \n",
       "74712      309.60  2021-06-16  0.70         0.0             2.0           4  \n",
       "74713      301.67  2021-06-16  0.88         0.0             2.0           4  \n",
       "74714      303.54  2021-06-17  0.72         0.0             2.0           4  \n",
       "\n",
       "[73959 rows x 27 columns]"
      ]
     },
     "execution_count": 8,
     "metadata": {},
     "output_type": "execute_result"
    }
   ],
   "source": [
    "df"
   ]
  },
  {
   "cell_type": "code",
   "execution_count": 9,
   "id": "fa919a64",
   "metadata": {},
   "outputs": [],
   "source": [
    "#spud_check\n",
    "today = date.today()\n",
    "df['spud_diff'] = (today-df['tst_spud_date'])/np.timedelta64(1, 'D')\n",
    "#df['comp_diff'] = max(df['tst_completion_date'])"
   ]
  },
  {
   "cell_type": "code",
   "execution_count": 10,
   "id": "df35b0fe",
   "metadata": {},
   "outputs": [],
   "source": [
    "#comp_check\n",
    "\n",
    "# fill the miss value by the smallest date \n",
    "df.fillna({'tst_completion_date':date.min, 'tst_fracfocus_jobend_date':date.min,'tst_fracfocus_jobstart_date':date.min}, inplace=True)\n",
    "\n",
    "# gettign the diff from the largest date, then minus by todays date \n",
    "\n",
    "\n",
    "def comp_check(row):\n",
    "\n",
    "    if row['tst_completion_date'] > row['tst_fracfocus_jobstart_date']:\n",
    "        row['comp'] = row['tst_completion_date']\n",
    "        if row['comp']>row['tst_fracfocus_jobend_date']:\n",
    "            comp_diff = (today - row['comp'])#/np.timedelta64(1, 'D')\n",
    "        else:\n",
    "            comp_diff = (today - row['tst_fracfocus_jobend_date'])#/np.timedelta64(1, 'D')\n",
    "    else:\n",
    "        row['comp'] = row['tst_fracfocus_jobstart_date']\n",
    "        if row['comp']>row['tst_fracfocus_jobend_date']:\n",
    "            comp_diff = today - row['comp']#/np.timedelta64(1, 'D')\n",
    "        else:\n",
    "            comp_diff= today - row['tst_fracfocus_jobend_date']#/np.timedelta64(1, 'D')\n",
    "    return comp_diff\n",
    "\n",
    "df['comp_diff'] = df.apply(comp_check, axis=1)\n",
    "\n",
    "\n",
    "    "
   ]
  },
  {
   "cell_type": "code",
   "execution_count": 11,
   "id": "86a5f667",
   "metadata": {},
   "outputs": [],
   "source": [
    "#df['comp_diff'][1].astype('str').split()\n",
    "df['comp_diff'] =  df['comp_diff'].astype('str').str.split().str[0]\n"
   ]
  },
  {
   "cell_type": "code",
   "execution_count": 12,
   "id": "aaa1f28c",
   "metadata": {},
   "outputs": [],
   "source": [
    "# replace today - min day by largest day \n",
    "# turn the missing vlaue day into the largest number in date \n",
    "# replace today - min day by largest day \n",
    "df['comp_diff'] = df['comp_diff'].astype('int')\n",
    "df['comp_diff'] = df['comp_diff'].replace([738359],3787)"
   ]
  },
  {
   "cell_type": "code",
   "execution_count": 13,
   "id": "3bad8f10",
   "metadata": {},
   "outputs": [
    {
     "data": {
      "text/plain": [
       "738367    1362\n",
       "3795      1036\n",
       "1538       919\n",
       "1063       897\n",
       "404        857\n",
       "          ... \n",
       "2732         1\n",
       "2902         1\n",
       "300          1\n",
       "1345         1\n",
       "3214         1\n",
       "Name: comp_diff, Length: 2355, dtype: int64"
      ]
     },
     "execution_count": 13,
     "metadata": {},
     "output_type": "execute_result"
    }
   ],
   "source": [
    "df['comp_diff'].value_counts()"
   ]
  },
  {
   "cell_type": "code",
   "execution_count": 14,
   "id": "8f58fd3b",
   "metadata": {},
   "outputs": [],
   "source": [
    "# changing the pad status to a count of completion \n",
    "def pad_status(row):\n",
    "    \n",
    "    pad_status = 0\n",
    "    \n",
    "    # Cascade down by lifecycle event to determine the pad status\n",
    "    if pd.notnull(row['tst_first_detection_date']):  \n",
    "        \n",
    "        pad_status = 0 # Has detection\n",
    "        \n",
    "    if pd.notnull(row['tst_permit_date']):\n",
    "\n",
    "        pad_status = 0 # Has Permit\n",
    " \n",
    "    if pd.notnull(row['tst_spud_date']):\n",
    "\n",
    "        pad_status = 0 # Has spud\n",
    "            \n",
    "    if pd.notnull(row['tst_completion_date']):\n",
    "\n",
    "        pad_status = 1 # Has one completion confirmation\n",
    "\n",
    "        if pd.notnull(row['tst_fracfocus_jobstart_date']):\n",
    "\n",
    "            pad_status = 2 # Has two completion confirmations\n",
    "\n",
    "            if pd.notnull(row['tst_fracfocus_jobend_date']):\n",
    "\n",
    "                pad_status = 3 # Has three completion confirmations\n",
    "        else:\n",
    "\n",
    "            if pd.notnull(row['tst_fracfocus_jobend_date']):\n",
    "\n",
    "                pad_status = 2 # Has two completion confirmations\n",
    "        \n",
    "            else:\n",
    "                \n",
    "                if pd.notnull(row['tst_fracfocus_jobstart_date']):\n",
    "                    \n",
    "                    pad_status = 1 # Has one completion confirmation\n",
    "                \n",
    "                    if pd.notnull(row['tst_fracfocus_jobend_date']):\n",
    "                        \n",
    "                        pad_status = 2 # Has two completion confirmations\n",
    "                    \n",
    "                else:\n",
    "                    \n",
    "                    if pd.notnull(row['tst_fracfocus_jobend_date']):\n",
    "                        \n",
    "                        pad_status = 1 # Has one completion confirmation                     \n",
    "    \n",
    "    return pad_status\n",
    "\n",
    "    \n",
    "df['pad_status'] = df.apply(pad_status, axis=1)\n",
    "df.rename(columns = {'pad_status':'n_completion'}, inplace = True)"
   ]
  },
  {
   "cell_type": "code",
   "execution_count": 15,
   "id": "fd641799",
   "metadata": {},
   "outputs": [],
   "source": [
    "# getting the acc value of flaring  as well as the last flaring value \n",
    "def flare_check(rows, todays_date):\n",
    "\n",
    "    #todays_date = todays_date.date()\n",
    "    \n",
    "    flares_n_acc = 0 # Number of flares so far\n",
    "    flares_power = 0 # Total FRP so far\n",
    "    t_since_last_flare = np.nan # Time since last flare event\n",
    "    \n",
    "    flares_n_acc = len(rows)\n",
    "    flares_power_acc = rows.FRP.sum()\n",
    "    most_recent_flare = rows.sort_values('ACQ_DATE', ascending=False).head(1)\n",
    "    #print(most_recent_flare)\n",
    "    t_since_last_flare = (todays_date-most_recent_flare['ACQ_DATE'].values[0]).days\n",
    "\n",
    "\n",
    "    return flares_n_acc, flares_power_acc, t_since_last_flare"
   ]
  },
  {
   "cell_type": "code",
   "execution_count": 16,
   "id": "c961d9d7",
   "metadata": {},
   "outputs": [],
   "source": [
    "wellpad_groups = df.groupby('wellpad_code')"
   ]
  },
  {
   "cell_type": "code",
   "execution_count": null,
   "id": "99e16962",
   "metadata": {},
   "outputs": [],
   "source": []
  },
  {
   "cell_type": "code",
   "execution_count": 17,
   "id": "fdf73cd3",
   "metadata": {},
   "outputs": [
    {
     "data": {
      "application/vnd.jupyter.widget-view+json": {
       "model_id": "1dac9f3d64004cc6ab53d6d82ec4b705",
       "version_major": 2,
       "version_minor": 0
      },
      "text/plain": [
       "  0%|          | 0/4030 [00:00<?, ?it/s]"
      ]
     },
     "metadata": {},
     "output_type": "display_data"
    }
   ],
   "source": [
    "# assgin these values to each group\n",
    "group1 = pd.DataFrame()\n",
    "for g in tqdm(wellpad_groups):\n",
    "    \n",
    "    rows = g[1].sort_values('ACQ_DATE', ascending=False)\n",
    "\n",
    "    flares_n_acc, flares_power_acc, t_since_last_flare = flare_check(rows, today)\n",
    "    rows['flares_n_acc']=flares_n_acc\n",
    "    rows['flares_power_acc']=flares_power_acc\n",
    "    rows['t_since_last_flare']=t_since_last_flare\n",
    "    group2 = rows\n",
    "    table = pd.concat([group1,group2])\n",
    "    group1 = table\n"
   ]
  },
  {
   "cell_type": "code",
   "execution_count": 18,
   "id": "72f52bc7",
   "metadata": {},
   "outputs": [
    {
     "data": {
      "text/plain": [
       "Index(['tst_permit_date', 'tst_permit_published_date', 'tst_spud_date',\n",
       "       'tst_completion_date', 'tst_fracfocus_jobstart_date',\n",
       "       'tst_fracfocus_jobend_date', 'wellpad_code', 'parent_operator_co',\n",
       "       'lat', 'long', 'wells', 'area_m2', 'tst_first_detection_date',\n",
       "       'company_type', 'wellpad_vintage_year', 'flare_t_start', 'flare_t_end',\n",
       "       'comp_diff', 'spud_diff', 'permit_diff', 'detection_diff', 'BRIGHTNESS',\n",
       "       'ACQ_DATE', 'FRP', 'days_diffs', 'temporal_group', 'n_completion',\n",
       "       'flares_n_acc', 'flares_power_acc', 't_since_last_flare'],\n",
       "      dtype='object')"
      ]
     },
     "execution_count": 18,
     "metadata": {},
     "output_type": "execute_result"
    }
   ],
   "source": [
    "table.columns"
   ]
  },
  {
   "cell_type": "code",
   "execution_count": 19,
   "id": "45f975d8",
   "metadata": {},
   "outputs": [
    {
     "data": {
      "text/html": [
       "<div>\n",
       "<style scoped>\n",
       "    .dataframe tbody tr th:only-of-type {\n",
       "        vertical-align: middle;\n",
       "    }\n",
       "\n",
       "    .dataframe tbody tr th {\n",
       "        vertical-align: top;\n",
       "    }\n",
       "\n",
       "    .dataframe thead th {\n",
       "        text-align: right;\n",
       "    }\n",
       "</style>\n",
       "<table border=\"1\" class=\"dataframe\">\n",
       "  <thead>\n",
       "    <tr style=\"text-align: right;\">\n",
       "      <th></th>\n",
       "      <th>lat</th>\n",
       "      <th>long</th>\n",
       "      <th>wells</th>\n",
       "      <th>area_m2</th>\n",
       "      <th>company_type</th>\n",
       "      <th>wellpad_vintage_year</th>\n",
       "      <th>comp_diff</th>\n",
       "      <th>spud_diff</th>\n",
       "      <th>BRIGHTNESS</th>\n",
       "      <th>FRP</th>\n",
       "      <th>days_diffs</th>\n",
       "      <th>temporal_group</th>\n",
       "      <th>n_completion</th>\n",
       "      <th>flares_n_acc</th>\n",
       "      <th>flares_power_acc</th>\n",
       "      <th>t_since_last_flare</th>\n",
       "    </tr>\n",
       "  </thead>\n",
       "  <tbody>\n",
       "    <tr>\n",
       "      <th>63147</th>\n",
       "      <td>30.7730</td>\n",
       "      <td>-103.4968</td>\n",
       "      <td>2</td>\n",
       "      <td>36702.289350</td>\n",
       "      <td>1</td>\n",
       "      <td>2017</td>\n",
       "      <td>1741</td>\n",
       "      <td>1931.0</td>\n",
       "      <td>312.57</td>\n",
       "      <td>1.30</td>\n",
       "      <td>0.0</td>\n",
       "      <td>0.0</td>\n",
       "      <td>3</td>\n",
       "      <td>70</td>\n",
       "      <td>114.43</td>\n",
       "      <td>1612</td>\n",
       "    </tr>\n",
       "    <tr>\n",
       "      <th>63146</th>\n",
       "      <td>30.7730</td>\n",
       "      <td>-103.4968</td>\n",
       "      <td>2</td>\n",
       "      <td>36702.289350</td>\n",
       "      <td>1</td>\n",
       "      <td>2017</td>\n",
       "      <td>1741</td>\n",
       "      <td>1931.0</td>\n",
       "      <td>308.69</td>\n",
       "      <td>0.92</td>\n",
       "      <td>3.0</td>\n",
       "      <td>0.0</td>\n",
       "      <td>3</td>\n",
       "      <td>70</td>\n",
       "      <td>114.43</td>\n",
       "      <td>1612</td>\n",
       "    </tr>\n",
       "    <tr>\n",
       "      <th>63145</th>\n",
       "      <td>30.7730</td>\n",
       "      <td>-103.4968</td>\n",
       "      <td>2</td>\n",
       "      <td>36702.289350</td>\n",
       "      <td>1</td>\n",
       "      <td>2017</td>\n",
       "      <td>1741</td>\n",
       "      <td>1931.0</td>\n",
       "      <td>296.73</td>\n",
       "      <td>1.01</td>\n",
       "      <td>0.0</td>\n",
       "      <td>0.0</td>\n",
       "      <td>3</td>\n",
       "      <td>70</td>\n",
       "      <td>114.43</td>\n",
       "      <td>1612</td>\n",
       "    </tr>\n",
       "    <tr>\n",
       "      <th>63144</th>\n",
       "      <td>30.7730</td>\n",
       "      <td>-103.4968</td>\n",
       "      <td>2</td>\n",
       "      <td>36702.289350</td>\n",
       "      <td>1</td>\n",
       "      <td>2017</td>\n",
       "      <td>1741</td>\n",
       "      <td>1931.0</td>\n",
       "      <td>309.83</td>\n",
       "      <td>0.85</td>\n",
       "      <td>0.0</td>\n",
       "      <td>0.0</td>\n",
       "      <td>3</td>\n",
       "      <td>70</td>\n",
       "      <td>114.43</td>\n",
       "      <td>1612</td>\n",
       "    </tr>\n",
       "    <tr>\n",
       "      <th>63143</th>\n",
       "      <td>30.7730</td>\n",
       "      <td>-103.4968</td>\n",
       "      <td>2</td>\n",
       "      <td>36702.289350</td>\n",
       "      <td>1</td>\n",
       "      <td>2017</td>\n",
       "      <td>1741</td>\n",
       "      <td>1931.0</td>\n",
       "      <td>295.06</td>\n",
       "      <td>0.85</td>\n",
       "      <td>1.0</td>\n",
       "      <td>0.0</td>\n",
       "      <td>3</td>\n",
       "      <td>70</td>\n",
       "      <td>114.43</td>\n",
       "      <td>1612</td>\n",
       "    </tr>\n",
       "    <tr>\n",
       "      <th>...</th>\n",
       "      <td>...</td>\n",
       "      <td>...</td>\n",
       "      <td>...</td>\n",
       "      <td>...</td>\n",
       "      <td>...</td>\n",
       "      <td>...</td>\n",
       "      <td>...</td>\n",
       "      <td>...</td>\n",
       "      <td>...</td>\n",
       "      <td>...</td>\n",
       "      <td>...</td>\n",
       "      <td>...</td>\n",
       "      <td>...</td>\n",
       "      <td>...</td>\n",
       "      <td>...</td>\n",
       "      <td>...</td>\n",
       "    </tr>\n",
       "    <tr>\n",
       "      <th>47755</th>\n",
       "      <td>32.8613</td>\n",
       "      <td>-100.9256</td>\n",
       "      <td>1</td>\n",
       "      <td>10516.943040</td>\n",
       "      <td>1</td>\n",
       "      <td>2014</td>\n",
       "      <td>2761</td>\n",
       "      <td>2921.0</td>\n",
       "      <td>338.29</td>\n",
       "      <td>5.57</td>\n",
       "      <td>0.0</td>\n",
       "      <td>0.0</td>\n",
       "      <td>3</td>\n",
       "      <td>3</td>\n",
       "      <td>14.34</td>\n",
       "      <td>2744</td>\n",
       "    </tr>\n",
       "    <tr>\n",
       "      <th>50642</th>\n",
       "      <td>32.8679</td>\n",
       "      <td>-100.9285</td>\n",
       "      <td>2</td>\n",
       "      <td>17909.607190</td>\n",
       "      <td>1</td>\n",
       "      <td>2014</td>\n",
       "      <td>2676</td>\n",
       "      <td>2793.0</td>\n",
       "      <td>336.15</td>\n",
       "      <td>4.23</td>\n",
       "      <td>0.0</td>\n",
       "      <td>0.0</td>\n",
       "      <td>3</td>\n",
       "      <td>1</td>\n",
       "      <td>4.23</td>\n",
       "      <td>2684</td>\n",
       "    </tr>\n",
       "    <tr>\n",
       "      <th>22475</th>\n",
       "      <td>33.2544</td>\n",
       "      <td>-101.0846</td>\n",
       "      <td>1</td>\n",
       "      <td>8888.631841</td>\n",
       "      <td>0</td>\n",
       "      <td>2019</td>\n",
       "      <td>738367</td>\n",
       "      <td>1085.0</td>\n",
       "      <td>334.30</td>\n",
       "      <td>23.10</td>\n",
       "      <td>0.0</td>\n",
       "      <td>0.0</td>\n",
       "      <td>3</td>\n",
       "      <td>1</td>\n",
       "      <td>23.10</td>\n",
       "      <td>1088</td>\n",
       "    </tr>\n",
       "    <tr>\n",
       "      <th>19124</th>\n",
       "      <td>33.1974</td>\n",
       "      <td>-100.8738</td>\n",
       "      <td>1</td>\n",
       "      <td>11599.686500</td>\n",
       "      <td>1</td>\n",
       "      <td>2019</td>\n",
       "      <td>1108</td>\n",
       "      <td>1121.0</td>\n",
       "      <td>338.48</td>\n",
       "      <td>3.67</td>\n",
       "      <td>0.0</td>\n",
       "      <td>0.0</td>\n",
       "      <td>3</td>\n",
       "      <td>2</td>\n",
       "      <td>8.47</td>\n",
       "      <td>1104</td>\n",
       "    </tr>\n",
       "    <tr>\n",
       "      <th>19125</th>\n",
       "      <td>33.1974</td>\n",
       "      <td>-100.8738</td>\n",
       "      <td>1</td>\n",
       "      <td>11599.686500</td>\n",
       "      <td>1</td>\n",
       "      <td>2019</td>\n",
       "      <td>1108</td>\n",
       "      <td>1121.0</td>\n",
       "      <td>337.60</td>\n",
       "      <td>4.80</td>\n",
       "      <td>0.0</td>\n",
       "      <td>0.0</td>\n",
       "      <td>3</td>\n",
       "      <td>2</td>\n",
       "      <td>8.47</td>\n",
       "      <td>1104</td>\n",
       "    </tr>\n",
       "  </tbody>\n",
       "</table>\n",
       "<p>73959 rows × 16 columns</p>\n",
       "</div>"
      ],
      "text/plain": [
       "           lat      long  wells       area_m2  company_type  \\\n",
       "63147  30.7730 -103.4968      2  36702.289350             1   \n",
       "63146  30.7730 -103.4968      2  36702.289350             1   \n",
       "63145  30.7730 -103.4968      2  36702.289350             1   \n",
       "63144  30.7730 -103.4968      2  36702.289350             1   \n",
       "63143  30.7730 -103.4968      2  36702.289350             1   \n",
       "...        ...       ...    ...           ...           ...   \n",
       "47755  32.8613 -100.9256      1  10516.943040             1   \n",
       "50642  32.8679 -100.9285      2  17909.607190             1   \n",
       "22475  33.2544 -101.0846      1   8888.631841             0   \n",
       "19124  33.1974 -100.8738      1  11599.686500             1   \n",
       "19125  33.1974 -100.8738      1  11599.686500             1   \n",
       "\n",
       "       wellpad_vintage_year  comp_diff  spud_diff  BRIGHTNESS    FRP  \\\n",
       "63147                  2017       1741     1931.0      312.57   1.30   \n",
       "63146                  2017       1741     1931.0      308.69   0.92   \n",
       "63145                  2017       1741     1931.0      296.73   1.01   \n",
       "63144                  2017       1741     1931.0      309.83   0.85   \n",
       "63143                  2017       1741     1931.0      295.06   0.85   \n",
       "...                     ...        ...        ...         ...    ...   \n",
       "47755                  2014       2761     2921.0      338.29   5.57   \n",
       "50642                  2014       2676     2793.0      336.15   4.23   \n",
       "22475                  2019     738367     1085.0      334.30  23.10   \n",
       "19124                  2019       1108     1121.0      338.48   3.67   \n",
       "19125                  2019       1108     1121.0      337.60   4.80   \n",
       "\n",
       "       days_diffs  temporal_group  n_completion  flares_n_acc  \\\n",
       "63147         0.0             0.0             3            70   \n",
       "63146         3.0             0.0             3            70   \n",
       "63145         0.0             0.0             3            70   \n",
       "63144         0.0             0.0             3            70   \n",
       "63143         1.0             0.0             3            70   \n",
       "...           ...             ...           ...           ...   \n",
       "47755         0.0             0.0             3             3   \n",
       "50642         0.0             0.0             3             1   \n",
       "22475         0.0             0.0             3             1   \n",
       "19124         0.0             0.0             3             2   \n",
       "19125         0.0             0.0             3             2   \n",
       "\n",
       "       flares_power_acc  t_since_last_flare  \n",
       "63147            114.43                1612  \n",
       "63146            114.43                1612  \n",
       "63145            114.43                1612  \n",
       "63144            114.43                1612  \n",
       "63143            114.43                1612  \n",
       "...                 ...                 ...  \n",
       "47755             14.34                2744  \n",
       "50642              4.23                2684  \n",
       "22475             23.10                1088  \n",
       "19124              8.47                1104  \n",
       "19125              8.47                1104  \n",
       "\n",
       "[73959 rows x 16 columns]"
      ]
     },
     "execution_count": 19,
     "metadata": {},
     "output_type": "execute_result"
    }
   ],
   "source": [
    "table =table.drop(columns = ['tst_permit_date','tst_permit_published_date','tst_spud_date','tst_completion_date','tst_fracfocus_jobstart_date',\n",
    "                      'tst_fracfocus_jobend_date','wellpad_code','tst_first_detection_date','detection_diff','permit_diff','flare_t_start',\n",
    "                     'flare_t_end','ACQ_DATE','parent_operator_co'])\n",
    "table"
   ]
  },
  {
   "cell_type": "code",
   "execution_count": 20,
   "id": "eb2a96d3",
   "metadata": {},
   "outputs": [
    {
     "data": {
      "text/plain": [
       "lat                     0\n",
       "long                    0\n",
       "wells                   0\n",
       "area_m2                 0\n",
       "company_type            0\n",
       "wellpad_vintage_year    0\n",
       "comp_diff               0\n",
       "spud_diff               0\n",
       "BRIGHTNESS              0\n",
       "FRP                     0\n",
       "days_diffs              0\n",
       "temporal_group          0\n",
       "n_completion            0\n",
       "flares_n_acc            0\n",
       "flares_power_acc        0\n",
       "t_since_last_flare      0\n",
       "dtype: int64"
      ]
     },
     "execution_count": 20,
     "metadata": {},
     "output_type": "execute_result"
    }
   ],
   "source": [
    "table.isnull().sum()"
   ]
  },
  {
   "cell_type": "code",
   "execution_count": null,
   "id": "49454b1c",
   "metadata": {},
   "outputs": [],
   "source": [
    "    "
   ]
  },
  {
   "cell_type": "code",
   "execution_count": 21,
   "id": "e582d538",
   "metadata": {},
   "outputs": [],
   "source": [
    "# t_group should be a dummy value\n",
    "table['temporal_group'] = table['temporal_group'].astype('str')"
   ]
  },
  {
   "cell_type": "code",
   "execution_count": 22,
   "id": "517ca7bc",
   "metadata": {},
   "outputs": [
    {
     "data": {
      "text/plain": [
       "lat                     float64\n",
       "long                    float64\n",
       "wells                     int64\n",
       "area_m2                 float64\n",
       "company_type              int64\n",
       "wellpad_vintage_year      int64\n",
       "comp_diff                 int32\n",
       "spud_diff               float64\n",
       "BRIGHTNESS              float64\n",
       "FRP                     float64\n",
       "days_diffs              float64\n",
       "temporal_group           object\n",
       "n_completion              int64\n",
       "flares_n_acc              int64\n",
       "flares_power_acc        float64\n",
       "t_since_last_flare        int64\n",
       "dtype: object"
      ]
     },
     "execution_count": 22,
     "metadata": {},
     "output_type": "execute_result"
    }
   ],
   "source": [
    "table.dtypes"
   ]
  },
  {
   "cell_type": "code",
   "execution_count": 23,
   "id": "a001970b",
   "metadata": {},
   "outputs": [],
   "source": [
    "# check for each wellpad group if there is flaring histroy over 20\n",
    "group = table.groupby(table['area_m2'])\n",
    "df_test = pd.DataFrame()\n",
    "for i in group:\n",
    "    if len(i[1]) > 20:\n",
    "        df_test = pd.concat([df_test,i[1]])\n",
    "len(df_test)\n",
    "table=df_test"
   ]
  },
  {
   "cell_type": "code",
   "execution_count": 34,
   "id": "4d87f408",
   "metadata": {},
   "outputs": [
    {
     "data": {
      "text/plain": [
       "57580"
      ]
     },
     "execution_count": 34,
     "metadata": {},
     "output_type": "execute_result"
    }
   ],
   "source": [
    "len(df_test)"
   ]
  },
  {
   "cell_type": "code",
   "execution_count": 24,
   "id": "15b06503",
   "metadata": {},
   "outputs": [],
   "source": [
    "# get dummy for t_group\n",
    "df1 = pd.get_dummies(table, columns=['temporal_group'])"
   ]
  },
  {
   "cell_type": "code",
   "execution_count": 25,
   "id": "a3dae233",
   "metadata": {},
   "outputs": [],
   "source": [
    "# getting the training and testing set \n",
    "y = df1.days_diffs\n",
    "X = df1.drop(['days_diffs'], axis=1)\n",
    "train_X, test_X, train_y, test_y = train_test_split(X, y, test_size=0.25)"
   ]
  },
  {
   "cell_type": "code",
   "execution_count": 26,
   "id": "663e7e88",
   "metadata": {},
   "outputs": [
    {
     "name": "stderr",
     "output_type": "stream",
     "text": [
      "D:\\Anaconda3\\lib\\site-packages\\xgboost\\sklearn.py:793: UserWarning: `early_stopping_rounds` in `fit` method is deprecated for better compatibility with scikit-learn, use `early_stopping_rounds` in constructor or`set_params` instead.\n",
      "  warnings.warn(\n"
     ]
    },
    {
     "data": {
      "text/plain": [
       "XGBRegressor(base_score=0.5, booster='gbtree', callbacks=None,\n",
       "             colsample_bylevel=1, colsample_bynode=1, colsample_bytree=1,\n",
       "             early_stopping_rounds=None, enable_categorical=False,\n",
       "             eval_metric=None, gamma=0, gpu_id=-1, grow_policy='depthwise',\n",
       "             importance_type=None, interaction_constraints='',\n",
       "             learning_rate=0.05, max_bin=256, max_cat_to_onehot=4,\n",
       "             max_delta_step=0, max_depth=6, max_leaves=0, min_child_weight=1,\n",
       "             missing=nan, monotone_constraints='()', n_estimators=1000,\n",
       "             n_jobs=0, num_parallel_tree=1, predictor='auto', random_state=0,\n",
       "             reg_alpha=0, reg_lambda=1, ...)"
      ]
     },
     "execution_count": 26,
     "metadata": {},
     "output_type": "execute_result"
    }
   ],
   "source": [
    "# fit in the model with preseted values \n",
    "my_model = XGBRegressor(n_estimators=1000, learning_rate=0.05)\n",
    "my_model.fit(train_X, train_y, early_stopping_rounds=5, \n",
    "             eval_set=[(test_X, test_y)], verbose=False)"
   ]
  },
  {
   "cell_type": "code",
   "execution_count": 27,
   "id": "6814803c",
   "metadata": {},
   "outputs": [],
   "source": [
    "\n",
    "# my_model = XGBRegressor(n_estimators=1000, learning_rate=0.01)\n",
    "# my_model.fit(train_X, train_y, early_stopping_rounds=5,\n",
    "#              eval_set=[(test_X, test_y)], verbose=False)"
   ]
  },
  {
   "cell_type": "code",
   "execution_count": 28,
   "id": "fe27a523",
   "metadata": {},
   "outputs": [
    {
     "name": "stdout",
     "output_type": "stream",
     "text": [
      "Mean Absolute Error : 6.811726286754753\n"
     ]
    }
   ],
   "source": [
    "predictions = my_model.predict(test_X)\n",
    "# preseted value outcome\n",
    "print(\"Mean Absolute Error : \" + str(mean_absolute_error(predictions, test_y)))\n"
   ]
  },
  {
   "cell_type": "code",
   "execution_count": 29,
   "id": "73455858",
   "metadata": {},
   "outputs": [
    {
     "data": {
      "text/plain": [
       "<matplotlib.collections.PathCollection at 0x16166683df0>"
      ]
     },
     "execution_count": 29,
     "metadata": {},
     "output_type": "execute_result"
    },
    {
     "data": {
      "image/png": "[encoded data removed]",
      "text/plain": [
       "<Figure size 432x288 with 1 Axes>"
      ]
     },
     "metadata": {
      "needs_background": "light"
     },
     "output_type": "display_data"
    }
   ],
   "source": [
    "#table['predictions'] = predictions\n",
    "plt.scatter(predictions,test_y.index)\n",
    "plt.scatter(test_y,test_y.index)\n"
   ]
  },
  {
   "cell_type": "code",
   "execution_count": 30,
   "id": "c6637376",
   "metadata": {},
   "outputs": [],
   "source": [
    "# setting the params for gridsearch\n",
    "\n",
    "learning_rate_list = [0.01, 0.05, 0.1]\n",
    "max_depth_list = [3,4,5]\n",
    "n_estimators_list = [500,1000, 1500]\n",
    "subsample_list = [0.5, 0.8, 1.0]\n",
    "colsample_bytree_list = [ 0.5,0.8, 1.0]\n",
    "\n",
    "params_dict = {\"learning_rate\": learning_rate_list,\n",
    "               \"max_depth\": max_depth_list,\n",
    "               \"n_estimators\": n_estimators_list,\n",
    "              'subsample':subsample_list,\n",
    "              'colsample_bytree':colsample_bytree_list}\n"
   ]
  },
  {
   "cell_type": "code",
   "execution_count": 31,
   "id": "b4912686",
   "metadata": {},
   "outputs": [
    {
     "name": "stdout",
     "output_type": "stream",
     "text": [
      "243\n"
     ]
    },
    {
     "data": {
      "text/plain": [
       "{'learning_rate': [0.01, 0.05, 0.1],\n",
       " 'max_depth': [3, 4, 5],\n",
       " 'n_estimators': [500, 1000, 1500],\n",
       " 'subsample': [0.5, 0.8, 1.0],\n",
       " 'colsample_bytree': [0.5, 0.8, 1.0]}"
      ]
     },
     "execution_count": 31,
     "metadata": {},
     "output_type": "execute_result"
    }
   ],
   "source": [
    "# check the numebr of cominations \n",
    "num_combinations = 1\n",
    "for v in params_dict.values(): num_combinations *= len(v) \n",
    "\n",
    "print(num_combinations)\n",
    "params_dict"
   ]
  },
  {
   "cell_type": "code",
   "execution_count": 32,
   "id": "36b5511e",
   "metadata": {},
   "outputs": [
    {
     "name": "stdout",
     "output_type": "stream",
     "text": [
      "[0]\tvalidation_0-mae:5.46666\n",
      "[1]\tvalidation_0-mae:5.47969\n",
      "[2]\tvalidation_0-mae:5.49582\n",
      "[3]\tvalidation_0-mae:5.50831\n",
      "[4]\tvalidation_0-mae:5.52106\n",
      "[5]\tvalidation_0-mae:5.53463\n",
      "[0]\tvalidation_0-mae:5.46777\n",
      "[1]\tvalidation_0-mae:5.48059\n",
      "[2]\tvalidation_0-mae:5.49194\n",
      "[3]\tvalidation_0-mae:5.50895\n",
      "[4]\tvalidation_0-mae:5.52759\n",
      "[5]\tvalidation_0-mae:5.54433\n"
     ]
    },
    {
     "name": "stderr",
     "output_type": "stream",
     "text": [
      "D:\\Anaconda3\\lib\\site-packages\\xgboost\\sklearn.py:793: UserWarning: `early_stopping_rounds` in `fit` method is deprecated for better compatibility with scikit-learn, use `early_stopping_rounds` in constructor or`set_params` instead.\n",
      "  warnings.warn(\n",
      "D:\\Anaconda3\\lib\\site-packages\\xgboost\\sklearn.py:793: UserWarning: `early_stopping_rounds` in `fit` method is deprecated for better compatibility with scikit-learn, use `early_stopping_rounds` in constructor or`set_params` instead.\n",
      "  warnings.warn(\n",
      "D:\\Anaconda3\\lib\\site-packages\\xgboost\\sklearn.py:793: UserWarning: `early_stopping_rounds` in `fit` method is deprecated for better compatibility with scikit-learn, use `early_stopping_rounds` in constructor or`set_params` instead.\n",
      "  warnings.warn(\n"
     ]
    },
    {
     "name": "stdout",
     "output_type": "stream",
     "text": [
      "[0]\tvalidation_0-mae:5.46671\n",
      "[1]\tvalidation_0-mae:5.47944\n",
      "[2]\tvalidation_0-mae:5.49402\n",
      "[3]\tvalidation_0-mae:5.50553\n",
      "[4]\tvalidation_0-mae:5.51704\n",
      "[0]\tvalidation_0-mae:5.46734\n",
      "[1]\tvalidation_0-mae:5.48115\n",
      "[2]\tvalidation_0-mae:5.49427\n",
      "[3]\tvalidation_0-mae:5.51195\n",
      "[4]\tvalidation_0-mae:5.52704\n",
      "[0]\tvalidation_0-mae:5.46629\n",
      "[1]\tvalidation_0-mae:5.48343\n",
      "[2]\tvalidation_0-mae:5.49678\n",
      "[3]\tvalidation_0-mae:5.51167\n",
      "[4]\tvalidation_0-mae:5.52498\n",
      "[5]\tvalidation_0-mae:5.53699\n"
     ]
    },
    {
     "name": "stderr",
     "output_type": "stream",
     "text": [
      "D:\\Anaconda3\\lib\\site-packages\\xgboost\\sklearn.py:793: UserWarning: `early_stopping_rounds` in `fit` method is deprecated for better compatibility with scikit-learn, use `early_stopping_rounds` in constructor or`set_params` instead.\n",
      "  warnings.warn(\n",
      "D:\\Anaconda3\\lib\\site-packages\\xgboost\\sklearn.py:793: UserWarning: `early_stopping_rounds` in `fit` method is deprecated for better compatibility with scikit-learn, use `early_stopping_rounds` in constructor or`set_params` instead.\n",
      "  warnings.warn(\n"
     ]
    },
    {
     "name": "stdout",
     "output_type": "stream",
     "text": [
      "[0]\tvalidation_0-mae:5.46726\n",
      "[1]\tvalidation_0-mae:5.48586\n",
      "[2]\tvalidation_0-mae:5.50161\n",
      "[3]\tvalidation_0-mae:5.51950\n",
      "[4]\tvalidation_0-mae:5.53643\n",
      "[0]\tvalidation_0-mae:5.46666\n",
      "[1]\tvalidation_0-mae:5.47969\n",
      "[2]\tvalidation_0-mae:5.49582\n",
      "[3]\tvalidation_0-mae:5.50831\n",
      "[4]\tvalidation_0-mae:5.52106\n"
     ]
    },
    {
     "name": "stderr",
     "output_type": "stream",
     "text": [
      "D:\\Anaconda3\\lib\\site-packages\\xgboost\\sklearn.py:793: UserWarning: `early_stopping_rounds` in `fit` method is deprecated for better compatibility with scikit-learn, use `early_stopping_rounds` in constructor or`set_params` instead.\n",
      "  warnings.warn(\n",
      "D:\\Anaconda3\\lib\\site-packages\\xgboost\\sklearn.py:793: UserWarning: `early_stopping_rounds` in `fit` method is deprecated for better compatibility with scikit-learn, use `early_stopping_rounds` in constructor or`set_params` instead.\n",
      "  warnings.warn(\n",
      "D:\\Anaconda3\\lib\\site-packages\\xgboost\\sklearn.py:793: UserWarning: `early_stopping_rounds` in `fit` method is deprecated for better compatibility with scikit-learn, use `early_stopping_rounds` in constructor or`set_params` instead.\n",
      "  warnings.warn(\n"
     ]
    },
    {
     "name": "stdout",
     "output_type": "stream",
     "text": [
      "[0]\tvalidation_0-mae:5.46777\n",
      "[1]\tvalidation_0-mae:5.48059\n",
      "[2]\tvalidation_0-mae:5.49194\n",
      "[3]\tvalidation_0-mae:5.50895\n",
      "[4]\tvalidation_0-mae:5.52759\n",
      "[5]\tvalidation_0-mae:5.54433\n",
      "[0]\tvalidation_0-mae:5.46671\n",
      "[1]\tvalidation_0-mae:5.47944\n",
      "[2]\tvalidation_0-mae:5.49402\n",
      "[3]\tvalidation_0-mae:5.50553\n",
      "[4]\tvalidation_0-mae:5.51704\n",
      "[5]\tvalidation_0-mae:5.53087\n",
      "[0]\tvalidation_0-mae:5.46734\n",
      "[1]\tvalidation_0-mae:5.48115\n",
      "[2]\tvalidation_0-mae:5.49427\n",
      "[3]\tvalidation_0-mae:5.51195\n",
      "[4]\tvalidation_0-mae:5.52704\n"
     ]
    },
    {
     "name": "stderr",
     "output_type": "stream",
     "text": [
      "D:\\Anaconda3\\lib\\site-packages\\xgboost\\sklearn.py:793: UserWarning: `early_stopping_rounds` in `fit` method is deprecated for better compatibility with scikit-learn, use `early_stopping_rounds` in constructor or`set_params` instead.\n",
      "  warnings.warn(\n",
      "D:\\Anaconda3\\lib\\site-packages\\xgboost\\sklearn.py:793: UserWarning: `early_stopping_rounds` in `fit` method is deprecated for better compatibility with scikit-learn, use `early_stopping_rounds` in constructor or`set_params` instead.\n",
      "  warnings.warn(\n",
      "D:\\Anaconda3\\lib\\site-packages\\xgboost\\sklearn.py:793: UserWarning: `early_stopping_rounds` in `fit` method is deprecated for better compatibility with scikit-learn, use `early_stopping_rounds` in constructor or`set_params` instead.\n",
      "  warnings.warn(\n"
     ]
    },
    {
     "name": "stdout",
     "output_type": "stream",
     "text": [
      "[0]\tvalidation_0-mae:5.46629\n",
      "[1]\tvalidation_0-mae:5.48343\n",
      "[2]\tvalidation_0-mae:5.49678\n",
      "[3]\tvalidation_0-mae:5.51167\n",
      "[4]\tvalidation_0-mae:5.52498\n",
      "[0]\tvalidation_0-mae:5.46726\n",
      "[1]\tvalidation_0-mae:5.48586\n",
      "[2]\tvalidation_0-mae:5.50161\n",
      "[3]\tvalidation_0-mae:5.51950\n",
      "[4]\tvalidation_0-mae:5.53643\n",
      "[0]\tvalidation_0-mae:5.46666\n",
      "[1]\tvalidation_0-mae:5.47969\n",
      "[2]\tvalidation_0-mae:5.49582\n",
      "[3]\tvalidation_0-mae:5.50831\n",
      "[4]\tvalidation_0-mae:5.52106\n",
      "[5]\tvalidation_0-mae:5.53463\n"
     ]
    },
    {
     "name": "stderr",
     "output_type": "stream",
     "text": [
      "D:\\Anaconda3\\lib\\site-packages\\xgboost\\sklearn.py:793: UserWarning: `early_stopping_rounds` in `fit` method is deprecated for better compatibility with scikit-learn, use `early_stopping_rounds` in constructor or`set_params` instead.\n",
      "  warnings.warn(\n",
      "D:\\Anaconda3\\lib\\site-packages\\xgboost\\sklearn.py:793: UserWarning: `early_stopping_rounds` in `fit` method is deprecated for better compatibility with scikit-learn, use `early_stopping_rounds` in constructor or`set_params` instead.\n",
      "  warnings.warn(\n",
      "D:\\Anaconda3\\lib\\site-packages\\xgboost\\sklearn.py:793: UserWarning: `early_stopping_rounds` in `fit` method is deprecated for better compatibility with scikit-learn, use `early_stopping_rounds` in constructor or`set_params` instead.\n",
      "  warnings.warn(\n"
     ]
    },
    {
     "name": "stdout",
     "output_type": "stream",
     "text": [
      "[0]\tvalidation_0-mae:5.46777\n",
      "[1]\tvalidation_0-mae:5.48059\n",
      "[2]\tvalidation_0-mae:5.49194\n",
      "[3]\tvalidation_0-mae:5.50895\n",
      "[4]\tvalidation_0-mae:5.52759\n",
      "[5]\tvalidation_0-mae:5.54433\n",
      "[0]\tvalidation_0-mae:5.46671\n",
      "[1]\tvalidation_0-mae:5.47944\n",
      "[2]\tvalidation_0-mae:5.49402\n",
      "[3]\tvalidation_0-mae:5.50553\n",
      "[4]\tvalidation_0-mae:5.51704\n",
      "[0]\tvalidation_0-mae:5.46734\n",
      "[1]\tvalidation_0-mae:5.48115\n",
      "[2]\tvalidation_0-mae:5.49427\n",
      "[3]\tvalidation_0-mae:5.51195\n",
      "[4]\tvalidation_0-mae:5.52704\n"
     ]
    },
    {
     "name": "stderr",
     "output_type": "stream",
     "text": [
      "D:\\Anaconda3\\lib\\site-packages\\xgboost\\sklearn.py:793: UserWarning: `early_stopping_rounds` in `fit` method is deprecated for better compatibility with scikit-learn, use `early_stopping_rounds` in constructor or`set_params` instead.\n",
      "  warnings.warn(\n",
      "D:\\Anaconda3\\lib\\site-packages\\xgboost\\sklearn.py:793: UserWarning: `early_stopping_rounds` in `fit` method is deprecated for better compatibility with scikit-learn, use `early_stopping_rounds` in constructor or`set_params` instead.\n",
      "  warnings.warn(\n",
      "D:\\Anaconda3\\lib\\site-packages\\xgboost\\sklearn.py:793: UserWarning: `early_stopping_rounds` in `fit` method is deprecated for better compatibility with scikit-learn, use `early_stopping_rounds` in constructor or`set_params` instead.\n",
      "  warnings.warn(\n"
     ]
    },
    {
     "name": "stdout",
     "output_type": "stream",
     "text": [
      "[0]\tvalidation_0-mae:5.46629\n",
      "[1]\tvalidation_0-mae:5.48343\n",
      "[2]\tvalidation_0-mae:5.49678\n",
      "[3]\tvalidation_0-mae:5.51167\n",
      "[4]\tvalidation_0-mae:5.52498\n",
      "[5]\tvalidation_0-mae:5.53699\n",
      "[0]\tvalidation_0-mae:5.46726\n",
      "[1]\tvalidation_0-mae:5.48586\n",
      "[2]\tvalidation_0-mae:5.50161\n",
      "[3]\tvalidation_0-mae:5.51950\n",
      "[4]\tvalidation_0-mae:5.53643\n",
      "[0]\tvalidation_0-mae:5.46549\n",
      "[1]\tvalidation_0-mae:5.47892\n",
      "[2]\tvalidation_0-mae:5.49282\n",
      "[3]\tvalidation_0-mae:5.50618\n",
      "[4]\tvalidation_0-mae:5.51956\n",
      "[0]\tvalidation_0-mae:5.46788\n"
     ]
    },
    {
     "name": "stderr",
     "output_type": "stream",
     "text": [
      "D:\\Anaconda3\\lib\\site-packages\\xgboost\\sklearn.py:793: UserWarning: `early_stopping_rounds` in `fit` method is deprecated for better compatibility with scikit-learn, use `early_stopping_rounds` in constructor or`set_params` instead.\n",
      "  warnings.warn(\n",
      "D:\\Anaconda3\\lib\\site-packages\\xgboost\\sklearn.py:793: UserWarning: `early_stopping_rounds` in `fit` method is deprecated for better compatibility with scikit-learn, use `early_stopping_rounds` in constructor or`set_params` instead.\n",
      "  warnings.warn(\n",
      "D:\\Anaconda3\\lib\\site-packages\\xgboost\\sklearn.py:793: UserWarning: `early_stopping_rounds` in `fit` method is deprecated for better compatibility with scikit-learn, use `early_stopping_rounds` in constructor or`set_params` instead.\n",
      "  warnings.warn(\n"
     ]
    },
    {
     "name": "stdout",
     "output_type": "stream",
     "text": [
      "[1]\tvalidation_0-mae:5.48014\n",
      "[2]\tvalidation_0-mae:5.48969\n",
      "[3]\tvalidation_0-mae:5.50522\n",
      "[4]\tvalidation_0-mae:5.51987\n",
      "[0]\tvalidation_0-mae:5.46682\n",
      "[1]\tvalidation_0-mae:5.47934\n",
      "[2]\tvalidation_0-mae:5.49236\n",
      "[3]\tvalidation_0-mae:5.50429\n",
      "[4]\tvalidation_0-mae:5.51491\n",
      "[5]\tvalidation_0-mae:5.52759\n",
      "[0]\tvalidation_0-mae:5.46783\n",
      "[1]\tvalidation_0-mae:5.48165\n",
      "[2]\tvalidation_0-mae:5.49551\n",
      "[3]\tvalidation_0-mae:5.51093\n",
      "[4]\tvalidation_0-mae:5.52706\n"
     ]
    },
    {
     "name": "stderr",
     "output_type": "stream",
     "text": [
      "D:\\Anaconda3\\lib\\site-packages\\xgboost\\sklearn.py:793: UserWarning: `early_stopping_rounds` in `fit` method is deprecated for better compatibility with scikit-learn, use `early_stopping_rounds` in constructor or`set_params` instead.\n",
      "  warnings.warn(\n",
      "D:\\Anaconda3\\lib\\site-packages\\xgboost\\sklearn.py:793: UserWarning: `early_stopping_rounds` in `fit` method is deprecated for better compatibility with scikit-learn, use `early_stopping_rounds` in constructor or`set_params` instead.\n",
      "  warnings.warn(\n"
     ]
    },
    {
     "name": "stdout",
     "output_type": "stream",
     "text": [
      "[0]\tvalidation_0-mae:5.46627\n",
      "[1]\tvalidation_0-mae:5.48176\n",
      "[2]\tvalidation_0-mae:5.49583\n",
      "[3]\tvalidation_0-mae:5.51002\n",
      "[4]\tvalidation_0-mae:5.52161\n",
      "[0]\tvalidation_0-mae:5.46686\n",
      "[1]\tvalidation_0-mae:5.48607\n",
      "[2]\tvalidation_0-mae:5.50120\n",
      "[3]\tvalidation_0-mae:5.51828\n",
      "[4]\tvalidation_0-mae:5.53301\n"
     ]
    },
    {
     "name": "stderr",
     "output_type": "stream",
     "text": [
      "D:\\Anaconda3\\lib\\site-packages\\xgboost\\sklearn.py:793: UserWarning: `early_stopping_rounds` in `fit` method is deprecated for better compatibility with scikit-learn, use `early_stopping_rounds` in constructor or`set_params` instead.\n",
      "  warnings.warn(\n",
      "D:\\Anaconda3\\lib\\site-packages\\xgboost\\sklearn.py:793: UserWarning: `early_stopping_rounds` in `fit` method is deprecated for better compatibility with scikit-learn, use `early_stopping_rounds` in constructor or`set_params` instead.\n",
      "  warnings.warn(\n"
     ]
    },
    {
     "name": "stdout",
     "output_type": "stream",
     "text": [
      "[0]\tvalidation_0-mae:5.46549\n",
      "[1]\tvalidation_0-mae:5.47892\n",
      "[2]\tvalidation_0-mae:5.49282\n",
      "[3]\tvalidation_0-mae:5.50618\n",
      "[4]\tvalidation_0-mae:5.51956\n",
      "[5]\tvalidation_0-mae:5.53093\n",
      "[0]\tvalidation_0-mae:5.46788\n",
      "[1]\tvalidation_0-mae:5.48014\n",
      "[2]\tvalidation_0-mae:5.48969\n",
      "[3]\tvalidation_0-mae:5.50522\n",
      "[4]\tvalidation_0-mae:5.51987\n"
     ]
    },
    {
     "name": "stderr",
     "output_type": "stream",
     "text": [
      "D:\\Anaconda3\\lib\\site-packages\\xgboost\\sklearn.py:793: UserWarning: `early_stopping_rounds` in `fit` method is deprecated for better compatibility with scikit-learn, use `early_stopping_rounds` in constructor or`set_params` instead.\n",
      "  warnings.warn(\n",
      "D:\\Anaconda3\\lib\\site-packages\\xgboost\\sklearn.py:793: UserWarning: `early_stopping_rounds` in `fit` method is deprecated for better compatibility with scikit-learn, use `early_stopping_rounds` in constructor or`set_params` instead.\n",
      "  warnings.warn(\n"
     ]
    },
    {
     "name": "stdout",
     "output_type": "stream",
     "text": [
      "[0]\tvalidation_0-mae:5.46682\n",
      "[1]\tvalidation_0-mae:5.47934\n",
      "[2]\tvalidation_0-mae:5.49236\n",
      "[3]\tvalidation_0-mae:5.50429\n",
      "[4]\tvalidation_0-mae:5.51491\n",
      "[0]\tvalidation_0-mae:5.46783\n",
      "[1]\tvalidation_0-mae:5.48165\n",
      "[2]\tvalidation_0-mae:5.49551\n",
      "[3]\tvalidation_0-mae:5.51093\n",
      "[4]\tvalidation_0-mae:5.52706\n"
     ]
    },
    {
     "name": "stderr",
     "output_type": "stream",
     "text": [
      "D:\\Anaconda3\\lib\\site-packages\\xgboost\\sklearn.py:793: UserWarning: `early_stopping_rounds` in `fit` method is deprecated for better compatibility with scikit-learn, use `early_stopping_rounds` in constructor or`set_params` instead.\n",
      "  warnings.warn(\n",
      "D:\\Anaconda3\\lib\\site-packages\\xgboost\\sklearn.py:793: UserWarning: `early_stopping_rounds` in `fit` method is deprecated for better compatibility with scikit-learn, use `early_stopping_rounds` in constructor or`set_params` instead.\n",
      "  warnings.warn(\n"
     ]
    },
    {
     "name": "stdout",
     "output_type": "stream",
     "text": [
      "[0]\tvalidation_0-mae:5.46627\n",
      "[1]\tvalidation_0-mae:5.48176\n",
      "[2]\tvalidation_0-mae:5.49583\n",
      "[3]\tvalidation_0-mae:5.51002\n",
      "[4]\tvalidation_0-mae:5.52161\n",
      "[5]\tvalidation_0-mae:5.53411\n",
      "[0]\tvalidation_0-mae:5.46686\n",
      "[1]\tvalidation_0-mae:5.48607\n",
      "[2]\tvalidation_0-mae:5.50120\n",
      "[3]\tvalidation_0-mae:5.51828\n",
      "[4]\tvalidation_0-mae:5.53301\n"
     ]
    },
    {
     "name": "stderr",
     "output_type": "stream",
     "text": [
      "D:\\Anaconda3\\lib\\site-packages\\xgboost\\sklearn.py:793: UserWarning: `early_stopping_rounds` in `fit` method is deprecated for better compatibility with scikit-learn, use `early_stopping_rounds` in constructor or`set_params` instead.\n",
      "  warnings.warn(\n",
      "D:\\Anaconda3\\lib\\site-packages\\xgboost\\sklearn.py:793: UserWarning: `early_stopping_rounds` in `fit` method is deprecated for better compatibility with scikit-learn, use `early_stopping_rounds` in constructor or`set_params` instead.\n",
      "  warnings.warn(\n"
     ]
    },
    {
     "name": "stdout",
     "output_type": "stream",
     "text": [
      "[0]\tvalidation_0-mae:5.46549\n",
      "[1]\tvalidation_0-mae:5.47892\n",
      "[2]\tvalidation_0-mae:5.49282\n",
      "[3]\tvalidation_0-mae:5.50618\n",
      "[4]\tvalidation_0-mae:5.51956\n",
      "[5]\tvalidation_0-mae:5.53093\n",
      "[0]\tvalidation_0-mae:5.46788\n",
      "[1]\tvalidation_0-mae:5.48014\n",
      "[2]\tvalidation_0-mae:5.48969\n",
      "[3]\tvalidation_0-mae:5.50522\n",
      "[4]\tvalidation_0-mae:5.51987\n"
     ]
    },
    {
     "name": "stderr",
     "output_type": "stream",
     "text": [
      "D:\\Anaconda3\\lib\\site-packages\\xgboost\\sklearn.py:793: UserWarning: `early_stopping_rounds` in `fit` method is deprecated for better compatibility with scikit-learn, use `early_stopping_rounds` in constructor or`set_params` instead.\n",
      "  warnings.warn(\n",
      "D:\\Anaconda3\\lib\\site-packages\\xgboost\\sklearn.py:793: UserWarning: `early_stopping_rounds` in `fit` method is deprecated for better compatibility with scikit-learn, use `early_stopping_rounds` in constructor or`set_params` instead.\n",
      "  warnings.warn(\n"
     ]
    },
    {
     "name": "stdout",
     "output_type": "stream",
     "text": [
      "[0]\tvalidation_0-mae:5.46682\n",
      "[1]\tvalidation_0-mae:5.47934\n",
      "[2]\tvalidation_0-mae:5.49236\n",
      "[3]\tvalidation_0-mae:5.50429\n",
      "[4]\tvalidation_0-mae:5.51491\n",
      "[5]\tvalidation_0-mae:5.52759\n",
      "[0]\tvalidation_0-mae:5.46783\n",
      "[1]\tvalidation_0-mae:5.48165\n",
      "[2]\tvalidation_0-mae:5.49551\n",
      "[3]\tvalidation_0-mae:5.51093\n",
      "[4]\tvalidation_0-mae:5.52706\n",
      "[5]\tvalidation_0-mae:5.54576\n"
     ]
    },
    {
     "name": "stderr",
     "output_type": "stream",
     "text": [
      "D:\\Anaconda3\\lib\\site-packages\\xgboost\\sklearn.py:793: UserWarning: `early_stopping_rounds` in `fit` method is deprecated for better compatibility with scikit-learn, use `early_stopping_rounds` in constructor or`set_params` instead.\n",
      "  warnings.warn(\n",
      "D:\\Anaconda3\\lib\\site-packages\\xgboost\\sklearn.py:793: UserWarning: `early_stopping_rounds` in `fit` method is deprecated for better compatibility with scikit-learn, use `early_stopping_rounds` in constructor or`set_params` instead.\n",
      "  warnings.warn(\n"
     ]
    },
    {
     "name": "stdout",
     "output_type": "stream",
     "text": [
      "[0]\tvalidation_0-mae:5.46627\n",
      "[1]\tvalidation_0-mae:5.48176\n",
      "[2]\tvalidation_0-mae:5.49583\n",
      "[3]\tvalidation_0-mae:5.51002\n",
      "[4]\tvalidation_0-mae:5.52161\n",
      "[5]\tvalidation_0-mae:5.53411\n",
      "[0]\tvalidation_0-mae:5.46686\n",
      "[1]\tvalidation_0-mae:5.48607\n",
      "[2]\tvalidation_0-mae:5.50120\n",
      "[3]\tvalidation_0-mae:5.51828\n",
      "[4]\tvalidation_0-mae:5.53301\n",
      "[5]\tvalidation_0-mae:5.54915\n"
     ]
    },
    {
     "name": "stderr",
     "output_type": "stream",
     "text": [
      "D:\\Anaconda3\\lib\\site-packages\\xgboost\\sklearn.py:793: UserWarning: `early_stopping_rounds` in `fit` method is deprecated for better compatibility with scikit-learn, use `early_stopping_rounds` in constructor or`set_params` instead.\n",
      "  warnings.warn(\n",
      "D:\\Anaconda3\\lib\\site-packages\\xgboost\\sklearn.py:793: UserWarning: `early_stopping_rounds` in `fit` method is deprecated for better compatibility with scikit-learn, use `early_stopping_rounds` in constructor or`set_params` instead.\n",
      "  warnings.warn(\n",
      "D:\\Anaconda3\\lib\\site-packages\\xgboost\\sklearn.py:793: UserWarning: `early_stopping_rounds` in `fit` method is deprecated for better compatibility with scikit-learn, use `early_stopping_rounds` in constructor or`set_params` instead.\n",
      "  warnings.warn(\n"
     ]
    },
    {
     "name": "stdout",
     "output_type": "stream",
     "text": [
      "[0]\tvalidation_0-mae:5.46678\n",
      "[1]\tvalidation_0-mae:5.47916\n",
      "[2]\tvalidation_0-mae:5.49224\n",
      "[3]\tvalidation_0-mae:5.50445\n",
      "[4]\tvalidation_0-mae:5.51920\n",
      "[0]\tvalidation_0-mae:5.46587\n",
      "[1]\tvalidation_0-mae:5.47714\n",
      "[2]\tvalidation_0-mae:5.48753\n",
      "[3]\tvalidation_0-mae:5.50432\n",
      "[4]\tvalidation_0-mae:5.51878\n",
      "[0]\tvalidation_0-mae:5.46665\n",
      "[1]\tvalidation_0-mae:5.47858\n",
      "[2]\tvalidation_0-mae:5.49075\n",
      "[3]\tvalidation_0-mae:5.50273\n",
      "[4]\tvalidation_0-mae:5.51396\n"
     ]
    },
    {
     "name": "stderr",
     "output_type": "stream",
     "text": [
      "D:\\Anaconda3\\lib\\site-packages\\xgboost\\sklearn.py:793: UserWarning: `early_stopping_rounds` in `fit` method is deprecated for better compatibility with scikit-learn, use `early_stopping_rounds` in constructor or`set_params` instead.\n",
      "  warnings.warn(\n",
      "D:\\Anaconda3\\lib\\site-packages\\xgboost\\sklearn.py:793: UserWarning: `early_stopping_rounds` in `fit` method is deprecated for better compatibility with scikit-learn, use `early_stopping_rounds` in constructor or`set_params` instead.\n",
      "  warnings.warn(\n",
      "D:\\Anaconda3\\lib\\site-packages\\xgboost\\sklearn.py:793: UserWarning: `early_stopping_rounds` in `fit` method is deprecated for better compatibility with scikit-learn, use `early_stopping_rounds` in constructor or`set_params` instead.\n",
      "  warnings.warn(\n"
     ]
    },
    {
     "name": "stdout",
     "output_type": "stream",
     "text": [
      "[0]\tvalidation_0-mae:5.46768\n",
      "[1]\tvalidation_0-mae:5.48197\n",
      "[2]\tvalidation_0-mae:5.49343\n",
      "[3]\tvalidation_0-mae:5.50843\n",
      "[4]\tvalidation_0-mae:5.52320\n",
      "[5]\tvalidation_0-mae:5.54043\n",
      "[0]\tvalidation_0-mae:5.46536\n",
      "[1]\tvalidation_0-mae:5.48011\n",
      "[2]\tvalidation_0-mae:5.49405\n",
      "[3]\tvalidation_0-mae:5.50882\n",
      "[4]\tvalidation_0-mae:5.51984\n",
      "[0]\tvalidation_0-mae:5.46479\n",
      "[1]\tvalidation_0-mae:5.48537\n",
      "[2]\tvalidation_0-mae:5.50111\n",
      "[3]\tvalidation_0-mae:5.51980\n",
      "[4]\tvalidation_0-mae:5.53355\n"
     ]
    },
    {
     "name": "stderr",
     "output_type": "stream",
     "text": [
      "D:\\Anaconda3\\lib\\site-packages\\xgboost\\sklearn.py:793: UserWarning: `early_stopping_rounds` in `fit` method is deprecated for better compatibility with scikit-learn, use `early_stopping_rounds` in constructor or`set_params` instead.\n",
      "  warnings.warn(\n",
      "D:\\Anaconda3\\lib\\site-packages\\xgboost\\sklearn.py:793: UserWarning: `early_stopping_rounds` in `fit` method is deprecated for better compatibility with scikit-learn, use `early_stopping_rounds` in constructor or`set_params` instead.\n",
      "  warnings.warn(\n",
      "D:\\Anaconda3\\lib\\site-packages\\xgboost\\sklearn.py:793: UserWarning: `early_stopping_rounds` in `fit` method is deprecated for better compatibility with scikit-learn, use `early_stopping_rounds` in constructor or`set_params` instead.\n",
      "  warnings.warn(\n"
     ]
    },
    {
     "name": "stdout",
     "output_type": "stream",
     "text": [
      "[0]\tvalidation_0-mae:5.46678\n",
      "[1]\tvalidation_0-mae:5.47916\n",
      "[2]\tvalidation_0-mae:5.49224\n",
      "[3]\tvalidation_0-mae:5.50445\n",
      "[4]\tvalidation_0-mae:5.51920\n",
      "[5]\tvalidation_0-mae:5.53123\n",
      "[0]\tvalidation_0-mae:5.46587\n",
      "[1]\tvalidation_0-mae:5.47714\n",
      "[2]\tvalidation_0-mae:5.48753\n",
      "[3]\tvalidation_0-mae:5.50432\n",
      "[4]\tvalidation_0-mae:5.51878\n",
      "[0]\tvalidation_0-mae:5.46665\n",
      "[1]\tvalidation_0-mae:5.47858\n",
      "[2]\tvalidation_0-mae:5.49075\n",
      "[3]\tvalidation_0-mae:5.50273\n",
      "[4]\tvalidation_0-mae:5.51396\n"
     ]
    },
    {
     "name": "stderr",
     "output_type": "stream",
     "text": [
      "D:\\Anaconda3\\lib\\site-packages\\xgboost\\sklearn.py:793: UserWarning: `early_stopping_rounds` in `fit` method is deprecated for better compatibility with scikit-learn, use `early_stopping_rounds` in constructor or`set_params` instead.\n",
      "  warnings.warn(\n",
      "D:\\Anaconda3\\lib\\site-packages\\xgboost\\sklearn.py:793: UserWarning: `early_stopping_rounds` in `fit` method is deprecated for better compatibility with scikit-learn, use `early_stopping_rounds` in constructor or`set_params` instead.\n",
      "  warnings.warn(\n"
     ]
    },
    {
     "name": "stdout",
     "output_type": "stream",
     "text": [
      "[0]\tvalidation_0-mae:5.46768\n",
      "[1]\tvalidation_0-mae:5.48197\n",
      "[2]\tvalidation_0-mae:5.49343\n",
      "[3]\tvalidation_0-mae:5.50843\n",
      "[4]\tvalidation_0-mae:5.52320\n",
      "[5]\tvalidation_0-mae:5.54043\n",
      "[0]\tvalidation_0-mae:5.46536\n",
      "[1]\tvalidation_0-mae:5.48011\n",
      "[2]\tvalidation_0-mae:5.49405\n",
      "[3]\tvalidation_0-mae:5.50882\n",
      "[4]\tvalidation_0-mae:5.51984\n"
     ]
    },
    {
     "name": "stderr",
     "output_type": "stream",
     "text": [
      "D:\\Anaconda3\\lib\\site-packages\\xgboost\\sklearn.py:793: UserWarning: `early_stopping_rounds` in `fit` method is deprecated for better compatibility with scikit-learn, use `early_stopping_rounds` in constructor or`set_params` instead.\n",
      "  warnings.warn(\n",
      "D:\\Anaconda3\\lib\\site-packages\\xgboost\\sklearn.py:793: UserWarning: `early_stopping_rounds` in `fit` method is deprecated for better compatibility with scikit-learn, use `early_stopping_rounds` in constructor or`set_params` instead.\n",
      "  warnings.warn(\n"
     ]
    },
    {
     "name": "stdout",
     "output_type": "stream",
     "text": [
      "[0]\tvalidation_0-mae:5.46479\n",
      "[1]\tvalidation_0-mae:5.48537\n",
      "[2]\tvalidation_0-mae:5.50111\n",
      "[3]\tvalidation_0-mae:5.51980\n",
      "[4]\tvalidation_0-mae:5.53355\n",
      "[0]\tvalidation_0-mae:5.46678\n",
      "[1]\tvalidation_0-mae:5.47916\n",
      "[2]\tvalidation_0-mae:5.49224\n",
      "[3]\tvalidation_0-mae:5.50445\n",
      "[4]\tvalidation_0-mae:5.51920\n"
     ]
    },
    {
     "name": "stderr",
     "output_type": "stream",
     "text": [
      "D:\\Anaconda3\\lib\\site-packages\\xgboost\\sklearn.py:793: UserWarning: `early_stopping_rounds` in `fit` method is deprecated for better compatibility with scikit-learn, use `early_stopping_rounds` in constructor or`set_params` instead.\n",
      "  warnings.warn(\n",
      "D:\\Anaconda3\\lib\\site-packages\\xgboost\\sklearn.py:793: UserWarning: `early_stopping_rounds` in `fit` method is deprecated for better compatibility with scikit-learn, use `early_stopping_rounds` in constructor or`set_params` instead.\n",
      "  warnings.warn(\n"
     ]
    },
    {
     "name": "stdout",
     "output_type": "stream",
     "text": [
      "[0]\tvalidation_0-mae:5.46587\n",
      "[1]\tvalidation_0-mae:5.47714\n",
      "[2]\tvalidation_0-mae:5.48753\n",
      "[3]\tvalidation_0-mae:5.50432\n",
      "[4]\tvalidation_0-mae:5.51878\n",
      "[5]\tvalidation_0-mae:5.53338\n",
      "[0]\tvalidation_0-mae:5.46665\n",
      "[1]\tvalidation_0-mae:5.47858\n",
      "[2]\tvalidation_0-mae:5.49075\n",
      "[3]\tvalidation_0-mae:5.50273\n",
      "[4]\tvalidation_0-mae:5.51396\n"
     ]
    },
    {
     "name": "stderr",
     "output_type": "stream",
     "text": [
      "D:\\Anaconda3\\lib\\site-packages\\xgboost\\sklearn.py:793: UserWarning: `early_stopping_rounds` in `fit` method is deprecated for better compatibility with scikit-learn, use `early_stopping_rounds` in constructor or`set_params` instead.\n",
      "  warnings.warn(\n",
      "D:\\Anaconda3\\lib\\site-packages\\xgboost\\sklearn.py:793: UserWarning: `early_stopping_rounds` in `fit` method is deprecated for better compatibility with scikit-learn, use `early_stopping_rounds` in constructor or`set_params` instead.\n",
      "  warnings.warn(\n"
     ]
    },
    {
     "name": "stdout",
     "output_type": "stream",
     "text": [
      "[0]\tvalidation_0-mae:5.46768\n",
      "[1]\tvalidation_0-mae:5.48197\n",
      "[2]\tvalidation_0-mae:5.49343\n",
      "[3]\tvalidation_0-mae:5.50843\n",
      "[4]\tvalidation_0-mae:5.52320\n",
      "[5]\tvalidation_0-mae:5.54043\n",
      "[0]\tvalidation_0-mae:5.46536\n",
      "[1]\tvalidation_0-mae:5.48011\n",
      "[2]\tvalidation_0-mae:5.49405\n",
      "[3]\tvalidation_0-mae:5.50882\n",
      "[4]\tvalidation_0-mae:5.51984\n"
     ]
    },
    {
     "name": "stderr",
     "output_type": "stream",
     "text": [
      "D:\\Anaconda3\\lib\\site-packages\\xgboost\\sklearn.py:793: UserWarning: `early_stopping_rounds` in `fit` method is deprecated for better compatibility with scikit-learn, use `early_stopping_rounds` in constructor or`set_params` instead.\n",
      "  warnings.warn(\n",
      "D:\\Anaconda3\\lib\\site-packages\\xgboost\\sklearn.py:793: UserWarning: `early_stopping_rounds` in `fit` method is deprecated for better compatibility with scikit-learn, use `early_stopping_rounds` in constructor or`set_params` instead.\n",
      "  warnings.warn(\n",
      "D:\\Anaconda3\\lib\\site-packages\\xgboost\\sklearn.py:793: UserWarning: `early_stopping_rounds` in `fit` method is deprecated for better compatibility with scikit-learn, use `early_stopping_rounds` in constructor or`set_params` instead.\n",
      "  warnings.warn(\n"
     ]
    },
    {
     "name": "stdout",
     "output_type": "stream",
     "text": [
      "[0]\tvalidation_0-mae:5.46479\n",
      "[1]\tvalidation_0-mae:5.48537\n",
      "[2]\tvalidation_0-mae:5.50111\n",
      "[3]\tvalidation_0-mae:5.51980\n",
      "[4]\tvalidation_0-mae:5.53355\n",
      "[0]\tvalidation_0-mae:5.53679\n",
      "[1]\tvalidation_0-mae:5.61498\n",
      "[2]\tvalidation_0-mae:5.71177\n",
      "[3]\tvalidation_0-mae:5.80100\n",
      "[4]\tvalidation_0-mae:5.91133\n",
      "[5]\tvalidation_0-mae:5.99817\n",
      "[0]\tvalidation_0-mae:5.55032\n",
      "[1]\tvalidation_0-mae:5.62562\n",
      "[2]\tvalidation_0-mae:5.70739\n",
      "[3]\tvalidation_0-mae:5.82231\n",
      "[4]\tvalidation_0-mae:5.94540\n"
     ]
    },
    {
     "name": "stderr",
     "output_type": "stream",
     "text": [
      "D:\\Anaconda3\\lib\\site-packages\\xgboost\\sklearn.py:793: UserWarning: `early_stopping_rounds` in `fit` method is deprecated for better compatibility with scikit-learn, use `early_stopping_rounds` in constructor or`set_params` instead.\n",
      "  warnings.warn(\n",
      "D:\\Anaconda3\\lib\\site-packages\\xgboost\\sklearn.py:793: UserWarning: `early_stopping_rounds` in `fit` method is deprecated for better compatibility with scikit-learn, use `early_stopping_rounds` in constructor or`set_params` instead.\n",
      "  warnings.warn(\n",
      "D:\\Anaconda3\\lib\\site-packages\\xgboost\\sklearn.py:793: UserWarning: `early_stopping_rounds` in `fit` method is deprecated for better compatibility with scikit-learn, use `early_stopping_rounds` in constructor or`set_params` instead.\n",
      "  warnings.warn(\n"
     ]
    },
    {
     "name": "stdout",
     "output_type": "stream",
     "text": [
      "[0]\tvalidation_0-mae:5.53804\n",
      "[1]\tvalidation_0-mae:5.60987\n",
      "[2]\tvalidation_0-mae:5.69785\n",
      "[3]\tvalidation_0-mae:5.77753\n",
      "[4]\tvalidation_0-mae:5.86335\n",
      "[5]\tvalidation_0-mae:5.95082\n",
      "[0]\tvalidation_0-mae:5.54413\n",
      "[1]\tvalidation_0-mae:5.62892\n",
      "[2]\tvalidation_0-mae:5.72768\n",
      "[3]\tvalidation_0-mae:5.84471\n",
      "[4]\tvalidation_0-mae:5.96231\n",
      "[0]\tvalidation_0-mae:5.53473\n",
      "[1]\tvalidation_0-mae:5.62147\n",
      "[2]\tvalidation_0-mae:5.70723\n",
      "[3]\tvalidation_0-mae:5.79900\n",
      "[4]\tvalidation_0-mae:5.88691\n"
     ]
    },
    {
     "name": "stderr",
     "output_type": "stream",
     "text": [
      "D:\\Anaconda3\\lib\\site-packages\\xgboost\\sklearn.py:793: UserWarning: `early_stopping_rounds` in `fit` method is deprecated for better compatibility with scikit-learn, use `early_stopping_rounds` in constructor or`set_params` instead.\n",
      "  warnings.warn(\n",
      "D:\\Anaconda3\\lib\\site-packages\\xgboost\\sklearn.py:793: UserWarning: `early_stopping_rounds` in `fit` method is deprecated for better compatibility with scikit-learn, use `early_stopping_rounds` in constructor or`set_params` instead.\n",
      "  warnings.warn(\n",
      "D:\\Anaconda3\\lib\\site-packages\\xgboost\\sklearn.py:793: UserWarning: `early_stopping_rounds` in `fit` method is deprecated for better compatibility with scikit-learn, use `early_stopping_rounds` in constructor or`set_params` instead.\n",
      "  warnings.warn(\n"
     ]
    },
    {
     "name": "stdout",
     "output_type": "stream",
     "text": [
      "[0]\tvalidation_0-mae:5.54382\n",
      "[1]\tvalidation_0-mae:5.65792\n",
      "[2]\tvalidation_0-mae:5.75391\n",
      "[3]\tvalidation_0-mae:5.86992\n",
      "[4]\tvalidation_0-mae:5.97993\n",
      "[0]\tvalidation_0-mae:5.53679\n",
      "[1]\tvalidation_0-mae:5.61498\n",
      "[2]\tvalidation_0-mae:5.71177\n",
      "[3]\tvalidation_0-mae:5.80100\n",
      "[4]\tvalidation_0-mae:5.91133\n",
      "[5]\tvalidation_0-mae:5.99817\n",
      "[0]\tvalidation_0-mae:5.55032\n",
      "[1]\tvalidation_0-mae:5.62562\n",
      "[2]\tvalidation_0-mae:5.70739\n",
      "[3]\tvalidation_0-mae:5.82231\n",
      "[4]\tvalidation_0-mae:5.94540\n"
     ]
    },
    {
     "name": "stderr",
     "output_type": "stream",
     "text": [
      "D:\\Anaconda3\\lib\\site-packages\\xgboost\\sklearn.py:793: UserWarning: `early_stopping_rounds` in `fit` method is deprecated for better compatibility with scikit-learn, use `early_stopping_rounds` in constructor or`set_params` instead.\n",
      "  warnings.warn(\n",
      "D:\\Anaconda3\\lib\\site-packages\\xgboost\\sklearn.py:793: UserWarning: `early_stopping_rounds` in `fit` method is deprecated for better compatibility with scikit-learn, use `early_stopping_rounds` in constructor or`set_params` instead.\n",
      "  warnings.warn(\n",
      "D:\\Anaconda3\\lib\\site-packages\\xgboost\\sklearn.py:793: UserWarning: `early_stopping_rounds` in `fit` method is deprecated for better compatibility with scikit-learn, use `early_stopping_rounds` in constructor or`set_params` instead.\n",
      "  warnings.warn(\n"
     ]
    },
    {
     "name": "stdout",
     "output_type": "stream",
     "text": [
      "[0]\tvalidation_0-mae:5.53804\n",
      "[1]\tvalidation_0-mae:5.60987\n",
      "[2]\tvalidation_0-mae:5.69785\n",
      "[3]\tvalidation_0-mae:5.77753\n",
      "[4]\tvalidation_0-mae:5.86335\n",
      "[0]\tvalidation_0-mae:5.54413\n",
      "[1]\tvalidation_0-mae:5.62892\n",
      "[2]\tvalidation_0-mae:5.72768\n",
      "[3]\tvalidation_0-mae:5.84471\n",
      "[4]\tvalidation_0-mae:5.96231\n",
      "[0]\tvalidation_0-mae:5.53473\n",
      "[1]\tvalidation_0-mae:5.62147\n",
      "[2]\tvalidation_0-mae:5.70723\n",
      "[3]\tvalidation_0-mae:5.79900\n",
      "[4]\tvalidation_0-mae:5.88691\n"
     ]
    },
    {
     "name": "stderr",
     "output_type": "stream",
     "text": [
      "D:\\Anaconda3\\lib\\site-packages\\xgboost\\sklearn.py:793: UserWarning: `early_stopping_rounds` in `fit` method is deprecated for better compatibility with scikit-learn, use `early_stopping_rounds` in constructor or`set_params` instead.\n",
      "  warnings.warn(\n",
      "D:\\Anaconda3\\lib\\site-packages\\xgboost\\sklearn.py:793: UserWarning: `early_stopping_rounds` in `fit` method is deprecated for better compatibility with scikit-learn, use `early_stopping_rounds` in constructor or`set_params` instead.\n",
      "  warnings.warn(\n",
      "D:\\Anaconda3\\lib\\site-packages\\xgboost\\sklearn.py:793: UserWarning: `early_stopping_rounds` in `fit` method is deprecated for better compatibility with scikit-learn, use `early_stopping_rounds` in constructor or`set_params` instead.\n",
      "  warnings.warn(\n"
     ]
    },
    {
     "name": "stdout",
     "output_type": "stream",
     "text": [
      "[0]\tvalidation_0-mae:5.54382\n",
      "[1]\tvalidation_0-mae:5.65792\n",
      "[2]\tvalidation_0-mae:5.75391\n",
      "[3]\tvalidation_0-mae:5.86992\n",
      "[4]\tvalidation_0-mae:5.97993\n",
      "[0]\tvalidation_0-mae:5.53679\n",
      "[1]\tvalidation_0-mae:5.61498\n",
      "[2]\tvalidation_0-mae:5.71177\n",
      "[3]\tvalidation_0-mae:5.80100\n",
      "[4]\tvalidation_0-mae:5.91133\n",
      "[0]\tvalidation_0-mae:5.55032\n",
      "[1]\tvalidation_0-mae:5.62562\n",
      "[2]\tvalidation_0-mae:5.70739\n",
      "[3]\tvalidation_0-mae:5.82231\n",
      "[4]\tvalidation_0-mae:5.94540\n"
     ]
    },
    {
     "name": "stderr",
     "output_type": "stream",
     "text": [
      "D:\\Anaconda3\\lib\\site-packages\\xgboost\\sklearn.py:793: UserWarning: `early_stopping_rounds` in `fit` method is deprecated for better compatibility with scikit-learn, use `early_stopping_rounds` in constructor or`set_params` instead.\n",
      "  warnings.warn(\n",
      "D:\\Anaconda3\\lib\\site-packages\\xgboost\\sklearn.py:793: UserWarning: `early_stopping_rounds` in `fit` method is deprecated for better compatibility with scikit-learn, use `early_stopping_rounds` in constructor or`set_params` instead.\n",
      "  warnings.warn(\n",
      "D:\\Anaconda3\\lib\\site-packages\\xgboost\\sklearn.py:793: UserWarning: `early_stopping_rounds` in `fit` method is deprecated for better compatibility with scikit-learn, use `early_stopping_rounds` in constructor or`set_params` instead.\n",
      "  warnings.warn(\n"
     ]
    },
    {
     "name": "stdout",
     "output_type": "stream",
     "text": [
      "[0]\tvalidation_0-mae:5.53804\n",
      "[1]\tvalidation_0-mae:5.60987\n",
      "[2]\tvalidation_0-mae:5.69785\n",
      "[3]\tvalidation_0-mae:5.77753\n",
      "[4]\tvalidation_0-mae:5.86335\n",
      "[5]\tvalidation_0-mae:5.95082\n",
      "[0]\tvalidation_0-mae:5.54413\n",
      "[1]\tvalidation_0-mae:5.62892\n",
      "[2]\tvalidation_0-mae:5.72768\n",
      "[3]\tvalidation_0-mae:5.84471\n",
      "[4]\tvalidation_0-mae:5.96231\n",
      "[5]\tvalidation_0-mae:6.07570\n",
      "[0]\tvalidation_0-mae:5.53473\n",
      "[1]\tvalidation_0-mae:5.62147\n",
      "[2]\tvalidation_0-mae:5.70723\n",
      "[3]\tvalidation_0-mae:5.79900\n",
      "[4]\tvalidation_0-mae:5.88691\n"
     ]
    },
    {
     "name": "stderr",
     "output_type": "stream",
     "text": [
      "D:\\Anaconda3\\lib\\site-packages\\xgboost\\sklearn.py:793: UserWarning: `early_stopping_rounds` in `fit` method is deprecated for better compatibility with scikit-learn, use `early_stopping_rounds` in constructor or`set_params` instead.\n",
      "  warnings.warn(\n",
      "D:\\Anaconda3\\lib\\site-packages\\xgboost\\sklearn.py:793: UserWarning: `early_stopping_rounds` in `fit` method is deprecated for better compatibility with scikit-learn, use `early_stopping_rounds` in constructor or`set_params` instead.\n",
      "  warnings.warn(\n",
      "D:\\Anaconda3\\lib\\site-packages\\xgboost\\sklearn.py:793: UserWarning: `early_stopping_rounds` in `fit` method is deprecated for better compatibility with scikit-learn, use `early_stopping_rounds` in constructor or`set_params` instead.\n",
      "  warnings.warn(\n"
     ]
    },
    {
     "name": "stdout",
     "output_type": "stream",
     "text": [
      "[0]\tvalidation_0-mae:5.54382\n",
      "[1]\tvalidation_0-mae:5.65792\n",
      "[2]\tvalidation_0-mae:5.75391\n",
      "[3]\tvalidation_0-mae:5.86992\n",
      "[4]\tvalidation_0-mae:5.97993\n",
      "[0]\tvalidation_0-mae:5.53066\n",
      "[1]\tvalidation_0-mae:5.60961\n",
      "[2]\tvalidation_0-mae:5.69338\n",
      "[3]\tvalidation_0-mae:5.78768\n",
      "[4]\tvalidation_0-mae:5.90768\n",
      "[0]\tvalidation_0-mae:5.55148\n",
      "[1]\tvalidation_0-mae:5.62246\n",
      "[2]\tvalidation_0-mae:5.69561\n",
      "[3]\tvalidation_0-mae:5.80916\n",
      "[4]\tvalidation_0-mae:5.91464\n",
      "[5]\tvalidation_0-mae:6.00677\n"
     ]
    },
    {
     "name": "stderr",
     "output_type": "stream",
     "text": [
      "D:\\Anaconda3\\lib\\site-packages\\xgboost\\sklearn.py:793: UserWarning: `early_stopping_rounds` in `fit` method is deprecated for better compatibility with scikit-learn, use `early_stopping_rounds` in constructor or`set_params` instead.\n",
      "  warnings.warn(\n",
      "D:\\Anaconda3\\lib\\site-packages\\xgboost\\sklearn.py:793: UserWarning: `early_stopping_rounds` in `fit` method is deprecated for better compatibility with scikit-learn, use `early_stopping_rounds` in constructor or`set_params` instead.\n",
      "  warnings.warn(\n",
      "D:\\Anaconda3\\lib\\site-packages\\xgboost\\sklearn.py:793: UserWarning: `early_stopping_rounds` in `fit` method is deprecated for better compatibility with scikit-learn, use `early_stopping_rounds` in constructor or`set_params` instead.\n",
      "  warnings.warn(\n"
     ]
    },
    {
     "name": "stdout",
     "output_type": "stream",
     "text": [
      "[0]\tvalidation_0-mae:5.53861\n",
      "[1]\tvalidation_0-mae:5.60899\n",
      "[2]\tvalidation_0-mae:5.69191\n",
      "[3]\tvalidation_0-mae:5.77356\n",
      "[4]\tvalidation_0-mae:5.85657\n",
      "[0]\tvalidation_0-mae:5.54657\n",
      "[1]\tvalidation_0-mae:5.63012\n",
      "[2]\tvalidation_0-mae:5.73748\n",
      "[3]\tvalidation_0-mae:5.84141\n",
      "[4]\tvalidation_0-mae:5.95175\n",
      "[0]\tvalidation_0-mae:5.53468\n",
      "[1]\tvalidation_0-mae:5.61899\n",
      "[2]\tvalidation_0-mae:5.70355\n",
      "[3]\tvalidation_0-mae:5.79419\n",
      "[4]\tvalidation_0-mae:5.87082\n"
     ]
    },
    {
     "name": "stderr",
     "output_type": "stream",
     "text": [
      "D:\\Anaconda3\\lib\\site-packages\\xgboost\\sklearn.py:793: UserWarning: `early_stopping_rounds` in `fit` method is deprecated for better compatibility with scikit-learn, use `early_stopping_rounds` in constructor or`set_params` instead.\n",
      "  warnings.warn(\n",
      "D:\\Anaconda3\\lib\\site-packages\\xgboost\\sklearn.py:793: UserWarning: `early_stopping_rounds` in `fit` method is deprecated for better compatibility with scikit-learn, use `early_stopping_rounds` in constructor or`set_params` instead.\n",
      "  warnings.warn(\n",
      "D:\\Anaconda3\\lib\\site-packages\\xgboost\\sklearn.py:793: UserWarning: `early_stopping_rounds` in `fit` method is deprecated for better compatibility with scikit-learn, use `early_stopping_rounds` in constructor or`set_params` instead.\n",
      "  warnings.warn(\n"
     ]
    },
    {
     "name": "stdout",
     "output_type": "stream",
     "text": [
      "[0]\tvalidation_0-mae:5.54413\n",
      "[1]\tvalidation_0-mae:5.65803\n",
      "[2]\tvalidation_0-mae:5.75632\n",
      "[3]\tvalidation_0-mae:5.87062\n",
      "[4]\tvalidation_0-mae:5.97184\n",
      "[5]\tvalidation_0-mae:6.07198\n",
      "[0]\tvalidation_0-mae:5.53066\n",
      "[1]\tvalidation_0-mae:5.60961\n",
      "[2]\tvalidation_0-mae:5.69338\n",
      "[3]\tvalidation_0-mae:5.78768\n",
      "[4]\tvalidation_0-mae:5.90768\n",
      "[5]\tvalidation_0-mae:5.97792\n",
      "[0]\tvalidation_0-mae:5.55148\n",
      "[1]\tvalidation_0-mae:5.62246\n",
      "[2]\tvalidation_0-mae:5.69561\n",
      "[3]\tvalidation_0-mae:5.80916\n",
      "[4]\tvalidation_0-mae:5.91464\n",
      "[5]\tvalidation_0-mae:6.00677\n"
     ]
    },
    {
     "name": "stderr",
     "output_type": "stream",
     "text": [
      "D:\\Anaconda3\\lib\\site-packages\\xgboost\\sklearn.py:793: UserWarning: `early_stopping_rounds` in `fit` method is deprecated for better compatibility with scikit-learn, use `early_stopping_rounds` in constructor or`set_params` instead.\n",
      "  warnings.warn(\n",
      "D:\\Anaconda3\\lib\\site-packages\\xgboost\\sklearn.py:793: UserWarning: `early_stopping_rounds` in `fit` method is deprecated for better compatibility with scikit-learn, use `early_stopping_rounds` in constructor or`set_params` instead.\n",
      "  warnings.warn(\n",
      "D:\\Anaconda3\\lib\\site-packages\\xgboost\\sklearn.py:793: UserWarning: `early_stopping_rounds` in `fit` method is deprecated for better compatibility with scikit-learn, use `early_stopping_rounds` in constructor or`set_params` instead.\n",
      "  warnings.warn(\n"
     ]
    },
    {
     "name": "stdout",
     "output_type": "stream",
     "text": [
      "[0]\tvalidation_0-mae:5.53861\n",
      "[1]\tvalidation_0-mae:5.60899\n",
      "[2]\tvalidation_0-mae:5.69191\n",
      "[3]\tvalidation_0-mae:5.77356\n",
      "[4]\tvalidation_0-mae:5.85657\n",
      "[5]\tvalidation_0-mae:5.93535\n",
      "[0]\tvalidation_0-mae:5.54657\n",
      "[1]\tvalidation_0-mae:5.63012\n",
      "[2]\tvalidation_0-mae:5.73748\n",
      "[3]\tvalidation_0-mae:5.84141\n",
      "[4]\tvalidation_0-mae:5.95175\n",
      "[5]\tvalidation_0-mae:6.05772\n",
      "[0]\tvalidation_0-mae:5.53468\n",
      "[1]\tvalidation_0-mae:5.61899\n",
      "[2]\tvalidation_0-mae:5.70355\n",
      "[3]\tvalidation_0-mae:5.79419\n",
      "[4]\tvalidation_0-mae:5.87082\n"
     ]
    },
    {
     "name": "stderr",
     "output_type": "stream",
     "text": [
      "D:\\Anaconda3\\lib\\site-packages\\xgboost\\sklearn.py:793: UserWarning: `early_stopping_rounds` in `fit` method is deprecated for better compatibility with scikit-learn, use `early_stopping_rounds` in constructor or`set_params` instead.\n",
      "  warnings.warn(\n",
      "D:\\Anaconda3\\lib\\site-packages\\xgboost\\sklearn.py:793: UserWarning: `early_stopping_rounds` in `fit` method is deprecated for better compatibility with scikit-learn, use `early_stopping_rounds` in constructor or`set_params` instead.\n",
      "  warnings.warn(\n",
      "D:\\Anaconda3\\lib\\site-packages\\xgboost\\sklearn.py:793: UserWarning: `early_stopping_rounds` in `fit` method is deprecated for better compatibility with scikit-learn, use `early_stopping_rounds` in constructor or`set_params` instead.\n",
      "  warnings.warn(\n"
     ]
    },
    {
     "name": "stdout",
     "output_type": "stream",
     "text": [
      "[0]\tvalidation_0-mae:5.54413\n",
      "[1]\tvalidation_0-mae:5.65803\n",
      "[2]\tvalidation_0-mae:5.75632\n",
      "[3]\tvalidation_0-mae:5.87062\n",
      "[4]\tvalidation_0-mae:5.97184\n",
      "[0]\tvalidation_0-mae:5.53066\n",
      "[1]\tvalidation_0-mae:5.60961\n",
      "[2]\tvalidation_0-mae:5.69338\n",
      "[3]\tvalidation_0-mae:5.78768\n",
      "[4]\tvalidation_0-mae:5.90768\n",
      "[5]\tvalidation_0-mae:5.97792\n",
      "[0]\tvalidation_0-mae:5.55148\n",
      "[1]\tvalidation_0-mae:5.62246\n",
      "[2]\tvalidation_0-mae:5.69561\n",
      "[3]\tvalidation_0-mae:5.80916\n",
      "[4]\tvalidation_0-mae:5.91464\n",
      "[5]\tvalidation_0-mae:6.00677\n"
     ]
    },
    {
     "name": "stderr",
     "output_type": "stream",
     "text": [
      "D:\\Anaconda3\\lib\\site-packages\\xgboost\\sklearn.py:793: UserWarning: `early_stopping_rounds` in `fit` method is deprecated for better compatibility with scikit-learn, use `early_stopping_rounds` in constructor or`set_params` instead.\n",
      "  warnings.warn(\n",
      "D:\\Anaconda3\\lib\\site-packages\\xgboost\\sklearn.py:793: UserWarning: `early_stopping_rounds` in `fit` method is deprecated for better compatibility with scikit-learn, use `early_stopping_rounds` in constructor or`set_params` instead.\n",
      "  warnings.warn(\n"
     ]
    },
    {
     "name": "stdout",
     "output_type": "stream",
     "text": [
      "[0]\tvalidation_0-mae:5.53861\n",
      "[1]\tvalidation_0-mae:5.60899\n",
      "[2]\tvalidation_0-mae:5.69191\n",
      "[3]\tvalidation_0-mae:5.77356\n",
      "[4]\tvalidation_0-mae:5.85657\n",
      "[0]\tvalidation_0-mae:5.54657\n",
      "[1]\tvalidation_0-mae:5.63012\n",
      "[2]\tvalidation_0-mae:5.73748\n",
      "[3]\tvalidation_0-mae:5.84141\n",
      "[4]\tvalidation_0-mae:5.95175\n",
      "[5]\tvalidation_0-mae:6.05772\n"
     ]
    },
    {
     "name": "stderr",
     "output_type": "stream",
     "text": [
      "D:\\Anaconda3\\lib\\site-packages\\xgboost\\sklearn.py:793: UserWarning: `early_stopping_rounds` in `fit` method is deprecated for better compatibility with scikit-learn, use `early_stopping_rounds` in constructor or`set_params` instead.\n",
      "  warnings.warn(\n",
      "D:\\Anaconda3\\lib\\site-packages\\xgboost\\sklearn.py:793: UserWarning: `early_stopping_rounds` in `fit` method is deprecated for better compatibility with scikit-learn, use `early_stopping_rounds` in constructor or`set_params` instead.\n",
      "  warnings.warn(\n"
     ]
    },
    {
     "name": "stdout",
     "output_type": "stream",
     "text": [
      "[0]\tvalidation_0-mae:5.53468\n",
      "[1]\tvalidation_0-mae:5.61899\n",
      "[2]\tvalidation_0-mae:5.70355\n",
      "[3]\tvalidation_0-mae:5.79419\n",
      "[4]\tvalidation_0-mae:5.87082\n",
      "[5]\tvalidation_0-mae:5.95076\n",
      "[0]\tvalidation_0-mae:5.54413\n",
      "[1]\tvalidation_0-mae:5.65803\n",
      "[2]\tvalidation_0-mae:5.75632\n",
      "[3]\tvalidation_0-mae:5.87062\n",
      "[4]\tvalidation_0-mae:5.97184\n"
     ]
    },
    {
     "name": "stderr",
     "output_type": "stream",
     "text": [
      "D:\\Anaconda3\\lib\\site-packages\\xgboost\\sklearn.py:793: UserWarning: `early_stopping_rounds` in `fit` method is deprecated for better compatibility with scikit-learn, use `early_stopping_rounds` in constructor or`set_params` instead.\n",
      "  warnings.warn(\n",
      "D:\\Anaconda3\\lib\\site-packages\\xgboost\\sklearn.py:793: UserWarning: `early_stopping_rounds` in `fit` method is deprecated for better compatibility with scikit-learn, use `early_stopping_rounds` in constructor or`set_params` instead.\n",
      "  warnings.warn(\n"
     ]
    },
    {
     "name": "stdout",
     "output_type": "stream",
     "text": [
      "[0]\tvalidation_0-mae:5.54315\n",
      "[1]\tvalidation_0-mae:5.62099\n",
      "[2]\tvalidation_0-mae:5.70027\n",
      "[3]\tvalidation_0-mae:5.78443\n",
      "[4]\tvalidation_0-mae:5.88933\n",
      "[0]\tvalidation_0-mae:5.53868\n",
      "[1]\tvalidation_0-mae:5.60417\n",
      "[2]\tvalidation_0-mae:5.68011\n",
      "[3]\tvalidation_0-mae:5.79798\n",
      "[4]\tvalidation_0-mae:5.89944\n",
      "[5]\tvalidation_0-mae:5.98968\n"
     ]
    },
    {
     "name": "stderr",
     "output_type": "stream",
     "text": [
      "D:\\Anaconda3\\lib\\site-packages\\xgboost\\sklearn.py:793: UserWarning: `early_stopping_rounds` in `fit` method is deprecated for better compatibility with scikit-learn, use `early_stopping_rounds` in constructor or`set_params` instead.\n",
      "  warnings.warn(\n",
      "D:\\Anaconda3\\lib\\site-packages\\xgboost\\sklearn.py:793: UserWarning: `early_stopping_rounds` in `fit` method is deprecated for better compatibility with scikit-learn, use `early_stopping_rounds` in constructor or`set_params` instead.\n",
      "  warnings.warn(\n"
     ]
    },
    {
     "name": "stdout",
     "output_type": "stream",
     "text": [
      "[0]\tvalidation_0-mae:5.54021\n",
      "[1]\tvalidation_0-mae:5.60955\n",
      "[2]\tvalidation_0-mae:5.68308\n",
      "[3]\tvalidation_0-mae:5.76359\n",
      "[4]\tvalidation_0-mae:5.84719\n",
      "[5]\tvalidation_0-mae:5.92069\n",
      "[0]\tvalidation_0-mae:5.54652\n",
      "[1]\tvalidation_0-mae:5.63623\n",
      "[2]\tvalidation_0-mae:5.72545\n",
      "[3]\tvalidation_0-mae:5.82585\n",
      "[4]\tvalidation_0-mae:5.92621\n"
     ]
    },
    {
     "name": "stderr",
     "output_type": "stream",
     "text": [
      "D:\\Anaconda3\\lib\\site-packages\\xgboost\\sklearn.py:793: UserWarning: `early_stopping_rounds` in `fit` method is deprecated for better compatibility with scikit-learn, use `early_stopping_rounds` in constructor or`set_params` instead.\n",
      "  warnings.warn(\n",
      "D:\\Anaconda3\\lib\\site-packages\\xgboost\\sklearn.py:793: UserWarning: `early_stopping_rounds` in `fit` method is deprecated for better compatibility with scikit-learn, use `early_stopping_rounds` in constructor or`set_params` instead.\n",
      "  warnings.warn(\n"
     ]
    },
    {
     "name": "stdout",
     "output_type": "stream",
     "text": [
      "[0]\tvalidation_0-mae:5.53098\n",
      "[1]\tvalidation_0-mae:5.61199\n",
      "[2]\tvalidation_0-mae:5.69615\n",
      "[3]\tvalidation_0-mae:5.78767\n",
      "[4]\tvalidation_0-mae:5.86245\n",
      "[5]\tvalidation_0-mae:5.94037\n",
      "[0]\tvalidation_0-mae:5.53584\n",
      "[1]\tvalidation_0-mae:5.65720\n",
      "[2]\tvalidation_0-mae:5.75384\n",
      "[3]\tvalidation_0-mae:5.87115\n",
      "[4]\tvalidation_0-mae:5.97099\n"
     ]
    },
    {
     "name": "stderr",
     "output_type": "stream",
     "text": [
      "D:\\Anaconda3\\lib\\site-packages\\xgboost\\sklearn.py:793: UserWarning: `early_stopping_rounds` in `fit` method is deprecated for better compatibility with scikit-learn, use `early_stopping_rounds` in constructor or`set_params` instead.\n",
      "  warnings.warn(\n",
      "D:\\Anaconda3\\lib\\site-packages\\xgboost\\sklearn.py:793: UserWarning: `early_stopping_rounds` in `fit` method is deprecated for better compatibility with scikit-learn, use `early_stopping_rounds` in constructor or`set_params` instead.\n",
      "  warnings.warn(\n"
     ]
    },
    {
     "name": "stdout",
     "output_type": "stream",
     "text": [
      "[0]\tvalidation_0-mae:5.54315\n",
      "[1]\tvalidation_0-mae:5.62099\n",
      "[2]\tvalidation_0-mae:5.70027\n",
      "[3]\tvalidation_0-mae:5.78443\n",
      "[4]\tvalidation_0-mae:5.88933\n",
      "[0]\tvalidation_0-mae:5.53868\n",
      "[1]\tvalidation_0-mae:5.60417\n",
      "[2]\tvalidation_0-mae:5.68011\n",
      "[3]\tvalidation_0-mae:5.79798\n",
      "[4]\tvalidation_0-mae:5.89944\n"
     ]
    },
    {
     "name": "stderr",
     "output_type": "stream",
     "text": [
      "D:\\Anaconda3\\lib\\site-packages\\xgboost\\sklearn.py:793: UserWarning: `early_stopping_rounds` in `fit` method is deprecated for better compatibility with scikit-learn, use `early_stopping_rounds` in constructor or`set_params` instead.\n",
      "  warnings.warn(\n",
      "D:\\Anaconda3\\lib\\site-packages\\xgboost\\sklearn.py:793: UserWarning: `early_stopping_rounds` in `fit` method is deprecated for better compatibility with scikit-learn, use `early_stopping_rounds` in constructor or`set_params` instead.\n",
      "  warnings.warn(\n"
     ]
    },
    {
     "name": "stdout",
     "output_type": "stream",
     "text": [
      "[0]\tvalidation_0-mae:5.54021\n",
      "[1]\tvalidation_0-mae:5.60955\n",
      "[2]\tvalidation_0-mae:5.68308\n",
      "[3]\tvalidation_0-mae:5.76359\n",
      "[4]\tvalidation_0-mae:5.84719\n",
      "[5]\tvalidation_0-mae:5.92069\n",
      "[0]\tvalidation_0-mae:5.54652\n",
      "[1]\tvalidation_0-mae:5.63623\n",
      "[2]\tvalidation_0-mae:5.72545\n",
      "[3]\tvalidation_0-mae:5.82585\n",
      "[4]\tvalidation_0-mae:5.92621\n",
      "[5]\tvalidation_0-mae:6.03194\n"
     ]
    },
    {
     "name": "stderr",
     "output_type": "stream",
     "text": [
      "D:\\Anaconda3\\lib\\site-packages\\xgboost\\sklearn.py:793: UserWarning: `early_stopping_rounds` in `fit` method is deprecated for better compatibility with scikit-learn, use `early_stopping_rounds` in constructor or`set_params` instead.\n",
      "  warnings.warn(\n",
      "D:\\Anaconda3\\lib\\site-packages\\xgboost\\sklearn.py:793: UserWarning: `early_stopping_rounds` in `fit` method is deprecated for better compatibility with scikit-learn, use `early_stopping_rounds` in constructor or`set_params` instead.\n",
      "  warnings.warn(\n"
     ]
    },
    {
     "name": "stdout",
     "output_type": "stream",
     "text": [
      "[0]\tvalidation_0-mae:5.53098\n",
      "[1]\tvalidation_0-mae:5.61199\n",
      "[2]\tvalidation_0-mae:5.69615\n",
      "[3]\tvalidation_0-mae:5.78767\n",
      "[4]\tvalidation_0-mae:5.86245\n",
      "[0]\tvalidation_0-mae:5.53584\n",
      "[1]\tvalidation_0-mae:5.65720\n",
      "[2]\tvalidation_0-mae:5.75384\n",
      "[3]\tvalidation_0-mae:5.87115\n",
      "[4]\tvalidation_0-mae:5.97099\n"
     ]
    },
    {
     "name": "stderr",
     "output_type": "stream",
     "text": [
      "D:\\Anaconda3\\lib\\site-packages\\xgboost\\sklearn.py:793: UserWarning: `early_stopping_rounds` in `fit` method is deprecated for better compatibility with scikit-learn, use `early_stopping_rounds` in constructor or`set_params` instead.\n",
      "  warnings.warn(\n",
      "D:\\Anaconda3\\lib\\site-packages\\xgboost\\sklearn.py:793: UserWarning: `early_stopping_rounds` in `fit` method is deprecated for better compatibility with scikit-learn, use `early_stopping_rounds` in constructor or`set_params` instead.\n",
      "  warnings.warn(\n"
     ]
    },
    {
     "name": "stdout",
     "output_type": "stream",
     "text": [
      "[0]\tvalidation_0-mae:5.54315\n",
      "[1]\tvalidation_0-mae:5.62099\n",
      "[2]\tvalidation_0-mae:5.70027\n",
      "[3]\tvalidation_0-mae:5.78443\n",
      "[4]\tvalidation_0-mae:5.88933\n",
      "[0]\tvalidation_0-mae:5.53868\n",
      "[1]\tvalidation_0-mae:5.60417\n",
      "[2]\tvalidation_0-mae:5.68011\n",
      "[3]\tvalidation_0-mae:5.79798\n",
      "[4]\tvalidation_0-mae:5.89944\n"
     ]
    },
    {
     "name": "stderr",
     "output_type": "stream",
     "text": [
      "D:\\Anaconda3\\lib\\site-packages\\xgboost\\sklearn.py:793: UserWarning: `early_stopping_rounds` in `fit` method is deprecated for better compatibility with scikit-learn, use `early_stopping_rounds` in constructor or`set_params` instead.\n",
      "  warnings.warn(\n",
      "D:\\Anaconda3\\lib\\site-packages\\xgboost\\sklearn.py:793: UserWarning: `early_stopping_rounds` in `fit` method is deprecated for better compatibility with scikit-learn, use `early_stopping_rounds` in constructor or`set_params` instead.\n",
      "  warnings.warn(\n"
     ]
    },
    {
     "name": "stdout",
     "output_type": "stream",
     "text": [
      "[0]\tvalidation_0-mae:5.54021\n",
      "[1]\tvalidation_0-mae:5.60955\n",
      "[2]\tvalidation_0-mae:5.68308\n",
      "[3]\tvalidation_0-mae:5.76359\n",
      "[4]\tvalidation_0-mae:5.84719\n",
      "[5]\tvalidation_0-mae:5.92069\n",
      "[0]\tvalidation_0-mae:5.54652\n",
      "[1]\tvalidation_0-mae:5.63623\n",
      "[2]\tvalidation_0-mae:5.72545\n",
      "[3]\tvalidation_0-mae:5.82585\n",
      "[4]\tvalidation_0-mae:5.92621\n"
     ]
    },
    {
     "name": "stderr",
     "output_type": "stream",
     "text": [
      "D:\\Anaconda3\\lib\\site-packages\\xgboost\\sklearn.py:793: UserWarning: `early_stopping_rounds` in `fit` method is deprecated for better compatibility with scikit-learn, use `early_stopping_rounds` in constructor or`set_params` instead.\n",
      "  warnings.warn(\n",
      "D:\\Anaconda3\\lib\\site-packages\\xgboost\\sklearn.py:793: UserWarning: `early_stopping_rounds` in `fit` method is deprecated for better compatibility with scikit-learn, use `early_stopping_rounds` in constructor or`set_params` instead.\n",
      "  warnings.warn(\n"
     ]
    },
    {
     "name": "stdout",
     "output_type": "stream",
     "text": [
      "[0]\tvalidation_0-mae:5.53098\n",
      "[1]\tvalidation_0-mae:5.61199\n",
      "[2]\tvalidation_0-mae:5.69615\n",
      "[3]\tvalidation_0-mae:5.78767\n",
      "[4]\tvalidation_0-mae:5.86245\n",
      "[5]\tvalidation_0-mae:5.94037\n",
      "[0]\tvalidation_0-mae:5.53584\n",
      "[1]\tvalidation_0-mae:5.65720\n",
      "[2]\tvalidation_0-mae:5.75384\n",
      "[3]\tvalidation_0-mae:5.87115\n",
      "[4]\tvalidation_0-mae:5.97099\n"
     ]
    },
    {
     "name": "stderr",
     "output_type": "stream",
     "text": [
      "D:\\Anaconda3\\lib\\site-packages\\xgboost\\sklearn.py:793: UserWarning: `early_stopping_rounds` in `fit` method is deprecated for better compatibility with scikit-learn, use `early_stopping_rounds` in constructor or`set_params` instead.\n",
      "  warnings.warn(\n",
      "D:\\Anaconda3\\lib\\site-packages\\xgboost\\sklearn.py:793: UserWarning: `early_stopping_rounds` in `fit` method is deprecated for better compatibility with scikit-learn, use `early_stopping_rounds` in constructor or`set_params` instead.\n",
      "  warnings.warn(\n"
     ]
    },
    {
     "name": "stdout",
     "output_type": "stream",
     "text": [
      "[0]\tvalidation_0-mae:5.63606\n",
      "[1]\tvalidation_0-mae:5.81659\n",
      "[2]\tvalidation_0-mae:6.02724\n",
      "[3]\tvalidation_0-mae:6.20298\n",
      "[4]\tvalidation_0-mae:6.42728\n",
      "[0]\tvalidation_0-mae:5.67325\n",
      "[1]\tvalidation_0-mae:5.84701\n",
      "[2]\tvalidation_0-mae:6.02199\n",
      "[3]\tvalidation_0-mae:6.25806\n",
      "[4]\tvalidation_0-mae:6.49737\n"
     ]
    },
    {
     "name": "stderr",
     "output_type": "stream",
     "text": [
      "D:\\Anaconda3\\lib\\site-packages\\xgboost\\sklearn.py:793: UserWarning: `early_stopping_rounds` in `fit` method is deprecated for better compatibility with scikit-learn, use `early_stopping_rounds` in constructor or`set_params` instead.\n",
      "  warnings.warn(\n",
      "D:\\Anaconda3\\lib\\site-packages\\xgboost\\sklearn.py:793: UserWarning: `early_stopping_rounds` in `fit` method is deprecated for better compatibility with scikit-learn, use `early_stopping_rounds` in constructor or`set_params` instead.\n",
      "  warnings.warn(\n",
      "D:\\Anaconda3\\lib\\site-packages\\xgboost\\sklearn.py:793: UserWarning: `early_stopping_rounds` in `fit` method is deprecated for better compatibility with scikit-learn, use `early_stopping_rounds` in constructor or`set_params` instead.\n",
      "  warnings.warn(\n"
     ]
    },
    {
     "name": "stdout",
     "output_type": "stream",
     "text": [
      "[0]\tvalidation_0-mae:5.63728\n",
      "[1]\tvalidation_0-mae:5.80482\n",
      "[2]\tvalidation_0-mae:5.99572\n",
      "[3]\tvalidation_0-mae:6.15998\n",
      "[4]\tvalidation_0-mae:6.32990\n",
      "[0]\tvalidation_0-mae:5.65856\n",
      "[1]\tvalidation_0-mae:5.85415\n",
      "[2]\tvalidation_0-mae:6.06971\n",
      "[3]\tvalidation_0-mae:6.30518\n",
      "[4]\tvalidation_0-mae:6.52622\n",
      "[0]\tvalidation_0-mae:5.62878\n",
      "[1]\tvalidation_0-mae:5.84146\n",
      "[2]\tvalidation_0-mae:6.00810\n",
      "[3]\tvalidation_0-mae:6.18815\n",
      "[4]\tvalidation_0-mae:6.35449\n"
     ]
    },
    {
     "name": "stderr",
     "output_type": "stream",
     "text": [
      "D:\\Anaconda3\\lib\\site-packages\\xgboost\\sklearn.py:793: UserWarning: `early_stopping_rounds` in `fit` method is deprecated for better compatibility with scikit-learn, use `early_stopping_rounds` in constructor or`set_params` instead.\n",
      "  warnings.warn(\n",
      "D:\\Anaconda3\\lib\\site-packages\\xgboost\\sklearn.py:793: UserWarning: `early_stopping_rounds` in `fit` method is deprecated for better compatibility with scikit-learn, use `early_stopping_rounds` in constructor or`set_params` instead.\n",
      "  warnings.warn(\n"
     ]
    },
    {
     "name": "stdout",
     "output_type": "stream",
     "text": [
      "[0]\tvalidation_0-mae:5.66319\n",
      "[1]\tvalidation_0-mae:5.90943\n",
      "[2]\tvalidation_0-mae:6.11899\n",
      "[3]\tvalidation_0-mae:6.34758\n",
      "[4]\tvalidation_0-mae:6.54369\n",
      "[5]\tvalidation_0-mae:6.72215\n",
      "[0]\tvalidation_0-mae:5.63606\n",
      "[1]\tvalidation_0-mae:5.81659\n",
      "[2]\tvalidation_0-mae:6.02724\n",
      "[3]\tvalidation_0-mae:6.20298\n",
      "[4]\tvalidation_0-mae:6.42728\n"
     ]
    },
    {
     "name": "stderr",
     "output_type": "stream",
     "text": [
      "D:\\Anaconda3\\lib\\site-packages\\xgboost\\sklearn.py:793: UserWarning: `early_stopping_rounds` in `fit` method is deprecated for better compatibility with scikit-learn, use `early_stopping_rounds` in constructor or`set_params` instead.\n",
      "  warnings.warn(\n",
      "D:\\Anaconda3\\lib\\site-packages\\xgboost\\sklearn.py:793: UserWarning: `early_stopping_rounds` in `fit` method is deprecated for better compatibility with scikit-learn, use `early_stopping_rounds` in constructor or`set_params` instead.\n",
      "  warnings.warn(\n",
      "D:\\Anaconda3\\lib\\site-packages\\xgboost\\sklearn.py:793: UserWarning: `early_stopping_rounds` in `fit` method is deprecated for better compatibility with scikit-learn, use `early_stopping_rounds` in constructor or`set_params` instead.\n",
      "  warnings.warn(\n"
     ]
    },
    {
     "name": "stdout",
     "output_type": "stream",
     "text": [
      "[0]\tvalidation_0-mae:5.67325\n",
      "[1]\tvalidation_0-mae:5.84701\n",
      "[2]\tvalidation_0-mae:6.02199\n",
      "[3]\tvalidation_0-mae:6.25806\n",
      "[4]\tvalidation_0-mae:6.49737\n",
      "[0]\tvalidation_0-mae:5.63728\n",
      "[1]\tvalidation_0-mae:5.80482\n",
      "[2]\tvalidation_0-mae:5.99572\n",
      "[3]\tvalidation_0-mae:6.15998\n",
      "[4]\tvalidation_0-mae:6.32990\n",
      "[5]\tvalidation_0-mae:6.48108\n",
      "[0]\tvalidation_0-mae:5.65856\n",
      "[1]\tvalidation_0-mae:5.85415\n",
      "[2]\tvalidation_0-mae:6.06971\n",
      "[3]\tvalidation_0-mae:6.30518\n",
      "[4]\tvalidation_0-mae:6.52622\n",
      "[5]\tvalidation_0-mae:6.72711\n"
     ]
    },
    {
     "name": "stderr",
     "output_type": "stream",
     "text": [
      "D:\\Anaconda3\\lib\\site-packages\\xgboost\\sklearn.py:793: UserWarning: `early_stopping_rounds` in `fit` method is deprecated for better compatibility with scikit-learn, use `early_stopping_rounds` in constructor or`set_params` instead.\n",
      "  warnings.warn(\n",
      "D:\\Anaconda3\\lib\\site-packages\\xgboost\\sklearn.py:793: UserWarning: `early_stopping_rounds` in `fit` method is deprecated for better compatibility with scikit-learn, use `early_stopping_rounds` in constructor or`set_params` instead.\n",
      "  warnings.warn(\n",
      "D:\\Anaconda3\\lib\\site-packages\\xgboost\\sklearn.py:793: UserWarning: `early_stopping_rounds` in `fit` method is deprecated for better compatibility with scikit-learn, use `early_stopping_rounds` in constructor or`set_params` instead.\n",
      "  warnings.warn(\n"
     ]
    },
    {
     "name": "stdout",
     "output_type": "stream",
     "text": [
      "[0]\tvalidation_0-mae:5.62878\n",
      "[1]\tvalidation_0-mae:5.84146\n",
      "[2]\tvalidation_0-mae:6.00810\n",
      "[3]\tvalidation_0-mae:6.18815\n",
      "[4]\tvalidation_0-mae:6.35449\n",
      "[0]\tvalidation_0-mae:5.66319\n",
      "[1]\tvalidation_0-mae:5.90943\n",
      "[2]\tvalidation_0-mae:6.11899\n",
      "[3]\tvalidation_0-mae:6.34758\n",
      "[4]\tvalidation_0-mae:6.54369\n",
      "[5]\tvalidation_0-mae:6.72215\n",
      "[0]\tvalidation_0-mae:5.63606\n",
      "[1]\tvalidation_0-mae:5.81659\n",
      "[2]\tvalidation_0-mae:6.02724\n",
      "[3]\tvalidation_0-mae:6.20298\n",
      "[4]\tvalidation_0-mae:6.42728\n",
      "[5]\tvalidation_0-mae:6.58214\n"
     ]
    },
    {
     "name": "stderr",
     "output_type": "stream",
     "text": [
      "D:\\Anaconda3\\lib\\site-packages\\xgboost\\sklearn.py:793: UserWarning: `early_stopping_rounds` in `fit` method is deprecated for better compatibility with scikit-learn, use `early_stopping_rounds` in constructor or`set_params` instead.\n",
      "  warnings.warn(\n",
      "D:\\Anaconda3\\lib\\site-packages\\xgboost\\sklearn.py:793: UserWarning: `early_stopping_rounds` in `fit` method is deprecated for better compatibility with scikit-learn, use `early_stopping_rounds` in constructor or`set_params` instead.\n",
      "  warnings.warn(\n",
      "D:\\Anaconda3\\lib\\site-packages\\xgboost\\sklearn.py:793: UserWarning: `early_stopping_rounds` in `fit` method is deprecated for better compatibility with scikit-learn, use `early_stopping_rounds` in constructor or`set_params` instead.\n",
      "  warnings.warn(\n"
     ]
    },
    {
     "name": "stdout",
     "output_type": "stream",
     "text": [
      "[0]\tvalidation_0-mae:5.67325\n",
      "[1]\tvalidation_0-mae:5.84701\n",
      "[2]\tvalidation_0-mae:6.02199\n",
      "[3]\tvalidation_0-mae:6.25806\n",
      "[4]\tvalidation_0-mae:6.49737\n",
      "[5]\tvalidation_0-mae:6.65405\n",
      "[0]\tvalidation_0-mae:5.63728\n",
      "[1]\tvalidation_0-mae:5.80482\n",
      "[2]\tvalidation_0-mae:5.99572\n",
      "[3]\tvalidation_0-mae:6.15998\n",
      "[4]\tvalidation_0-mae:6.32990\n",
      "[0]\tvalidation_0-mae:5.65856\n",
      "[1]\tvalidation_0-mae:5.85415\n",
      "[2]\tvalidation_0-mae:6.06971\n",
      "[3]\tvalidation_0-mae:6.30518\n",
      "[4]\tvalidation_0-mae:6.52622\n"
     ]
    },
    {
     "name": "stderr",
     "output_type": "stream",
     "text": [
      "D:\\Anaconda3\\lib\\site-packages\\xgboost\\sklearn.py:793: UserWarning: `early_stopping_rounds` in `fit` method is deprecated for better compatibility with scikit-learn, use `early_stopping_rounds` in constructor or`set_params` instead.\n",
      "  warnings.warn(\n",
      "D:\\Anaconda3\\lib\\site-packages\\xgboost\\sklearn.py:793: UserWarning: `early_stopping_rounds` in `fit` method is deprecated for better compatibility with scikit-learn, use `early_stopping_rounds` in constructor or`set_params` instead.\n",
      "  warnings.warn(\n",
      "D:\\Anaconda3\\lib\\site-packages\\xgboost\\sklearn.py:793: UserWarning: `early_stopping_rounds` in `fit` method is deprecated for better compatibility with scikit-learn, use `early_stopping_rounds` in constructor or`set_params` instead.\n",
      "  warnings.warn(\n"
     ]
    },
    {
     "name": "stdout",
     "output_type": "stream",
     "text": [
      "[0]\tvalidation_0-mae:5.62878\n",
      "[1]\tvalidation_0-mae:5.84146\n",
      "[2]\tvalidation_0-mae:6.00810\n",
      "[3]\tvalidation_0-mae:6.18815\n",
      "[4]\tvalidation_0-mae:6.35449\n",
      "[5]\tvalidation_0-mae:6.48951\n",
      "[0]\tvalidation_0-mae:5.66319\n",
      "[1]\tvalidation_0-mae:5.90943\n",
      "[2]\tvalidation_0-mae:6.11899\n",
      "[3]\tvalidation_0-mae:6.34758\n",
      "[4]\tvalidation_0-mae:6.54369\n",
      "[5]\tvalidation_0-mae:6.72215\n",
      "[0]\tvalidation_0-mae:5.63107\n",
      "[1]\tvalidation_0-mae:5.81158\n",
      "[2]\tvalidation_0-mae:5.99275\n",
      "[3]\tvalidation_0-mae:6.17577\n",
      "[4]\tvalidation_0-mae:6.42296\n",
      "[5]\tvalidation_0-mae:6.53219\n"
     ]
    },
    {
     "name": "stderr",
     "output_type": "stream",
     "text": [
      "D:\\Anaconda3\\lib\\site-packages\\xgboost\\sklearn.py:793: UserWarning: `early_stopping_rounds` in `fit` method is deprecated for better compatibility with scikit-learn, use `early_stopping_rounds` in constructor or`set_params` instead.\n",
      "  warnings.warn(\n",
      "D:\\Anaconda3\\lib\\site-packages\\xgboost\\sklearn.py:793: UserWarning: `early_stopping_rounds` in `fit` method is deprecated for better compatibility with scikit-learn, use `early_stopping_rounds` in constructor or`set_params` instead.\n",
      "  warnings.warn(\n",
      "D:\\Anaconda3\\lib\\site-packages\\xgboost\\sklearn.py:793: UserWarning: `early_stopping_rounds` in `fit` method is deprecated for better compatibility with scikit-learn, use `early_stopping_rounds` in constructor or`set_params` instead.\n",
      "  warnings.warn(\n"
     ]
    },
    {
     "name": "stdout",
     "output_type": "stream",
     "text": [
      "[0]\tvalidation_0-mae:5.67723\n",
      "[1]\tvalidation_0-mae:5.83950\n",
      "[2]\tvalidation_0-mae:5.99424\n",
      "[3]\tvalidation_0-mae:6.22632\n",
      "[4]\tvalidation_0-mae:6.43666\n",
      "[5]\tvalidation_0-mae:6.59128\n",
      "[0]\tvalidation_0-mae:5.63536\n",
      "[1]\tvalidation_0-mae:5.80022\n",
      "[2]\tvalidation_0-mae:5.98322\n",
      "[3]\tvalidation_0-mae:6.14440\n",
      "[4]\tvalidation_0-mae:6.30279\n",
      "[0]\tvalidation_0-mae:5.66584\n",
      "[1]\tvalidation_0-mae:5.85429\n",
      "[2]\tvalidation_0-mae:6.08046\n",
      "[3]\tvalidation_0-mae:6.30596\n",
      "[4]\tvalidation_0-mae:6.50483\n"
     ]
    },
    {
     "name": "stderr",
     "output_type": "stream",
     "text": [
      "D:\\Anaconda3\\lib\\site-packages\\xgboost\\sklearn.py:793: UserWarning: `early_stopping_rounds` in `fit` method is deprecated for better compatibility with scikit-learn, use `early_stopping_rounds` in constructor or`set_params` instead.\n",
      "  warnings.warn(\n",
      "D:\\Anaconda3\\lib\\site-packages\\xgboost\\sklearn.py:793: UserWarning: `early_stopping_rounds` in `fit` method is deprecated for better compatibility with scikit-learn, use `early_stopping_rounds` in constructor or`set_params` instead.\n",
      "  warnings.warn(\n",
      "D:\\Anaconda3\\lib\\site-packages\\xgboost\\sklearn.py:793: UserWarning: `early_stopping_rounds` in `fit` method is deprecated for better compatibility with scikit-learn, use `early_stopping_rounds` in constructor or`set_params` instead.\n",
      "  warnings.warn(\n"
     ]
    },
    {
     "name": "stdout",
     "output_type": "stream",
     "text": [
      "[0]\tvalidation_0-mae:5.62685\n",
      "[1]\tvalidation_0-mae:5.82255\n",
      "[2]\tvalidation_0-mae:5.99558\n",
      "[3]\tvalidation_0-mae:6.17462\n",
      "[4]\tvalidation_0-mae:6.32230\n",
      "[5]\tvalidation_0-mae:6.46151\n",
      "[0]\tvalidation_0-mae:5.65734\n",
      "[1]\tvalidation_0-mae:5.90949\n",
      "[2]\tvalidation_0-mae:6.11958\n",
      "[3]\tvalidation_0-mae:6.34389\n",
      "[4]\tvalidation_0-mae:6.53437\n",
      "[5]\tvalidation_0-mae:6.69783\n",
      "[0]\tvalidation_0-mae:5.63107\n",
      "[1]\tvalidation_0-mae:5.81158\n",
      "[2]\tvalidation_0-mae:5.99275\n",
      "[3]\tvalidation_0-mae:6.17577\n",
      "[4]\tvalidation_0-mae:6.42296\n"
     ]
    },
    {
     "name": "stderr",
     "output_type": "stream",
     "text": [
      "D:\\Anaconda3\\lib\\site-packages\\xgboost\\sklearn.py:793: UserWarning: `early_stopping_rounds` in `fit` method is deprecated for better compatibility with scikit-learn, use `early_stopping_rounds` in constructor or`set_params` instead.\n",
      "  warnings.warn(\n",
      "D:\\Anaconda3\\lib\\site-packages\\xgboost\\sklearn.py:793: UserWarning: `early_stopping_rounds` in `fit` method is deprecated for better compatibility with scikit-learn, use `early_stopping_rounds` in constructor or`set_params` instead.\n",
      "  warnings.warn(\n"
     ]
    },
    {
     "name": "stdout",
     "output_type": "stream",
     "text": [
      "[0]\tvalidation_0-mae:5.67723\n",
      "[1]\tvalidation_0-mae:5.83950\n",
      "[2]\tvalidation_0-mae:5.99424\n",
      "[3]\tvalidation_0-mae:6.22632\n",
      "[4]\tvalidation_0-mae:6.43666\n",
      "[5]\tvalidation_0-mae:6.59128\n",
      "[0]\tvalidation_0-mae:5.63536\n",
      "[1]\tvalidation_0-mae:5.80022\n",
      "[2]\tvalidation_0-mae:5.98322\n",
      "[3]\tvalidation_0-mae:6.14440\n",
      "[4]\tvalidation_0-mae:6.30279\n"
     ]
    },
    {
     "name": "stderr",
     "output_type": "stream",
     "text": [
      "D:\\Anaconda3\\lib\\site-packages\\xgboost\\sklearn.py:793: UserWarning: `early_stopping_rounds` in `fit` method is deprecated for better compatibility with scikit-learn, use `early_stopping_rounds` in constructor or`set_params` instead.\n",
      "  warnings.warn(\n",
      "D:\\Anaconda3\\lib\\site-packages\\xgboost\\sklearn.py:793: UserWarning: `early_stopping_rounds` in `fit` method is deprecated for better compatibility with scikit-learn, use `early_stopping_rounds` in constructor or`set_params` instead.\n",
      "  warnings.warn(\n"
     ]
    },
    {
     "name": "stdout",
     "output_type": "stream",
     "text": [
      "[0]\tvalidation_0-mae:5.66584\n",
      "[1]\tvalidation_0-mae:5.85429\n",
      "[2]\tvalidation_0-mae:6.08046\n",
      "[3]\tvalidation_0-mae:6.30596\n",
      "[4]\tvalidation_0-mae:6.50483\n",
      "[0]\tvalidation_0-mae:5.62685\n",
      "[1]\tvalidation_0-mae:5.82255\n",
      "[2]\tvalidation_0-mae:5.99558\n",
      "[3]\tvalidation_0-mae:6.17462\n",
      "[4]\tvalidation_0-mae:6.32230\n",
      "[5]\tvalidation_0-mae:6.46151\n"
     ]
    },
    {
     "name": "stderr",
     "output_type": "stream",
     "text": [
      "D:\\Anaconda3\\lib\\site-packages\\xgboost\\sklearn.py:793: UserWarning: `early_stopping_rounds` in `fit` method is deprecated for better compatibility with scikit-learn, use `early_stopping_rounds` in constructor or`set_params` instead.\n",
      "  warnings.warn(\n",
      "D:\\Anaconda3\\lib\\site-packages\\xgboost\\sklearn.py:793: UserWarning: `early_stopping_rounds` in `fit` method is deprecated for better compatibility with scikit-learn, use `early_stopping_rounds` in constructor or`set_params` instead.\n",
      "  warnings.warn(\n"
     ]
    },
    {
     "name": "stdout",
     "output_type": "stream",
     "text": [
      "[0]\tvalidation_0-mae:5.65734\n",
      "[1]\tvalidation_0-mae:5.90949\n",
      "[2]\tvalidation_0-mae:6.11958\n",
      "[3]\tvalidation_0-mae:6.34389\n",
      "[4]\tvalidation_0-mae:6.53437\n",
      "[5]\tvalidation_0-mae:6.69783\n",
      "[0]\tvalidation_0-mae:5.63107\n",
      "[1]\tvalidation_0-mae:5.81158\n",
      "[2]\tvalidation_0-mae:5.99275\n",
      "[3]\tvalidation_0-mae:6.17577\n",
      "[4]\tvalidation_0-mae:6.42296\n"
     ]
    },
    {
     "name": "stderr",
     "output_type": "stream",
     "text": [
      "D:\\Anaconda3\\lib\\site-packages\\xgboost\\sklearn.py:793: UserWarning: `early_stopping_rounds` in `fit` method is deprecated for better compatibility with scikit-learn, use `early_stopping_rounds` in constructor or`set_params` instead.\n",
      "  warnings.warn(\n",
      "D:\\Anaconda3\\lib\\site-packages\\xgboost\\sklearn.py:793: UserWarning: `early_stopping_rounds` in `fit` method is deprecated for better compatibility with scikit-learn, use `early_stopping_rounds` in constructor or`set_params` instead.\n",
      "  warnings.warn(\n",
      "D:\\Anaconda3\\lib\\site-packages\\xgboost\\sklearn.py:793: UserWarning: `early_stopping_rounds` in `fit` method is deprecated for better compatibility with scikit-learn, use `early_stopping_rounds` in constructor or`set_params` instead.\n",
      "  warnings.warn(\n"
     ]
    },
    {
     "name": "stdout",
     "output_type": "stream",
     "text": [
      "[0]\tvalidation_0-mae:5.67723\n",
      "[1]\tvalidation_0-mae:5.83950\n",
      "[2]\tvalidation_0-mae:5.99424\n",
      "[3]\tvalidation_0-mae:6.22632\n",
      "[4]\tvalidation_0-mae:6.43666\n",
      "[5]\tvalidation_0-mae:6.59128\n",
      "[0]\tvalidation_0-mae:5.63536\n",
      "[1]\tvalidation_0-mae:5.80022\n",
      "[2]\tvalidation_0-mae:5.98322\n",
      "[3]\tvalidation_0-mae:6.14440\n",
      "[4]\tvalidation_0-mae:6.30279\n",
      "[5]\tvalidation_0-mae:6.44029\n",
      "[0]\tvalidation_0-mae:5.66584\n",
      "[1]\tvalidation_0-mae:5.85429\n",
      "[2]\tvalidation_0-mae:6.08046\n",
      "[3]\tvalidation_0-mae:6.30596\n",
      "[4]\tvalidation_0-mae:6.50483\n"
     ]
    },
    {
     "name": "stderr",
     "output_type": "stream",
     "text": [
      "D:\\Anaconda3\\lib\\site-packages\\xgboost\\sklearn.py:793: UserWarning: `early_stopping_rounds` in `fit` method is deprecated for better compatibility with scikit-learn, use `early_stopping_rounds` in constructor or`set_params` instead.\n",
      "  warnings.warn(\n",
      "D:\\Anaconda3\\lib\\site-packages\\xgboost\\sklearn.py:793: UserWarning: `early_stopping_rounds` in `fit` method is deprecated for better compatibility with scikit-learn, use `early_stopping_rounds` in constructor or`set_params` instead.\n",
      "  warnings.warn(\n"
     ]
    },
    {
     "name": "stdout",
     "output_type": "stream",
     "text": [
      "[0]\tvalidation_0-mae:5.62685\n",
      "[1]\tvalidation_0-mae:5.82255\n",
      "[2]\tvalidation_0-mae:5.99558\n",
      "[3]\tvalidation_0-mae:6.17462\n",
      "[4]\tvalidation_0-mae:6.32230\n",
      "[0]\tvalidation_0-mae:5.65734\n",
      "[1]\tvalidation_0-mae:5.90949\n",
      "[2]\tvalidation_0-mae:6.11958\n",
      "[3]\tvalidation_0-mae:6.34389\n",
      "[4]\tvalidation_0-mae:6.53437\n"
     ]
    },
    {
     "name": "stderr",
     "output_type": "stream",
     "text": [
      "D:\\Anaconda3\\lib\\site-packages\\xgboost\\sklearn.py:793: UserWarning: `early_stopping_rounds` in `fit` method is deprecated for better compatibility with scikit-learn, use `early_stopping_rounds` in constructor or`set_params` instead.\n",
      "  warnings.warn(\n",
      "D:\\Anaconda3\\lib\\site-packages\\xgboost\\sklearn.py:793: UserWarning: `early_stopping_rounds` in `fit` method is deprecated for better compatibility with scikit-learn, use `early_stopping_rounds` in constructor or`set_params` instead.\n",
      "  warnings.warn(\n"
     ]
    },
    {
     "name": "stdout",
     "output_type": "stream",
     "text": [
      "[0]\tvalidation_0-mae:5.65690\n",
      "[1]\tvalidation_0-mae:5.83207\n",
      "[2]\tvalidation_0-mae:6.00358\n",
      "[3]\tvalidation_0-mae:6.18755\n",
      "[4]\tvalidation_0-mae:6.39709\n",
      "[0]\tvalidation_0-mae:5.65077\n",
      "[1]\tvalidation_0-mae:5.80902\n",
      "[2]\tvalidation_0-mae:5.97876\n",
      "[3]\tvalidation_0-mae:6.21087\n",
      "[4]\tvalidation_0-mae:6.40374\n"
     ]
    },
    {
     "name": "stderr",
     "output_type": "stream",
     "text": [
      "D:\\Anaconda3\\lib\\site-packages\\xgboost\\sklearn.py:793: UserWarning: `early_stopping_rounds` in `fit` method is deprecated for better compatibility with scikit-learn, use `early_stopping_rounds` in constructor or`set_params` instead.\n",
      "  warnings.warn(\n",
      "D:\\Anaconda3\\lib\\site-packages\\xgboost\\sklearn.py:793: UserWarning: `early_stopping_rounds` in `fit` method is deprecated for better compatibility with scikit-learn, use `early_stopping_rounds` in constructor or`set_params` instead.\n",
      "  warnings.warn(\n"
     ]
    },
    {
     "name": "stdout",
     "output_type": "stream",
     "text": [
      "[0]\tvalidation_0-mae:5.64067\n",
      "[1]\tvalidation_0-mae:5.80515\n",
      "[2]\tvalidation_0-mae:5.97081\n",
      "[3]\tvalidation_0-mae:6.13634\n",
      "[4]\tvalidation_0-mae:6.29425\n",
      "[0]\tvalidation_0-mae:5.66732\n",
      "[1]\tvalidation_0-mae:5.87133\n",
      "[2]\tvalidation_0-mae:6.06772\n",
      "[3]\tvalidation_0-mae:6.27140\n",
      "[4]\tvalidation_0-mae:6.46292\n"
     ]
    },
    {
     "name": "stderr",
     "output_type": "stream",
     "text": [
      "D:\\Anaconda3\\lib\\site-packages\\xgboost\\sklearn.py:793: UserWarning: `early_stopping_rounds` in `fit` method is deprecated for better compatibility with scikit-learn, use `early_stopping_rounds` in constructor or`set_params` instead.\n",
      "  warnings.warn(\n",
      "D:\\Anaconda3\\lib\\site-packages\\xgboost\\sklearn.py:793: UserWarning: `early_stopping_rounds` in `fit` method is deprecated for better compatibility with scikit-learn, use `early_stopping_rounds` in constructor or`set_params` instead.\n",
      "  warnings.warn(\n"
     ]
    },
    {
     "name": "stdout",
     "output_type": "stream",
     "text": [
      "[0]\tvalidation_0-mae:5.62495\n",
      "[1]\tvalidation_0-mae:5.81369\n",
      "[2]\tvalidation_0-mae:5.98683\n",
      "[3]\tvalidation_0-mae:6.16349\n",
      "[4]\tvalidation_0-mae:6.31266\n",
      "[0]\tvalidation_0-mae:5.64544\n",
      "[1]\tvalidation_0-mae:5.90930\n",
      "[2]\tvalidation_0-mae:6.11375\n",
      "[3]\tvalidation_0-mae:6.33275\n",
      "[4]\tvalidation_0-mae:6.50534\n"
     ]
    },
    {
     "name": "stderr",
     "output_type": "stream",
     "text": [
      "D:\\Anaconda3\\lib\\site-packages\\xgboost\\sklearn.py:793: UserWarning: `early_stopping_rounds` in `fit` method is deprecated for better compatibility with scikit-learn, use `early_stopping_rounds` in constructor or`set_params` instead.\n",
      "  warnings.warn(\n",
      "D:\\Anaconda3\\lib\\site-packages\\xgboost\\sklearn.py:793: UserWarning: `early_stopping_rounds` in `fit` method is deprecated for better compatibility with scikit-learn, use `early_stopping_rounds` in constructor or`set_params` instead.\n",
      "  warnings.warn(\n"
     ]
    },
    {
     "name": "stdout",
     "output_type": "stream",
     "text": [
      "[0]\tvalidation_0-mae:5.65690\n",
      "[1]\tvalidation_0-mae:5.83207\n",
      "[2]\tvalidation_0-mae:6.00358\n",
      "[3]\tvalidation_0-mae:6.18755\n",
      "[4]\tvalidation_0-mae:6.39709\n",
      "[5]\tvalidation_0-mae:6.49294\n",
      "[0]\tvalidation_0-mae:5.65077\n",
      "[1]\tvalidation_0-mae:5.80902\n",
      "[2]\tvalidation_0-mae:5.97876\n",
      "[3]\tvalidation_0-mae:6.21087\n",
      "[4]\tvalidation_0-mae:6.40374\n"
     ]
    },
    {
     "name": "stderr",
     "output_type": "stream",
     "text": [
      "D:\\Anaconda3\\lib\\site-packages\\xgboost\\sklearn.py:793: UserWarning: `early_stopping_rounds` in `fit` method is deprecated for better compatibility with scikit-learn, use `early_stopping_rounds` in constructor or`set_params` instead.\n",
      "  warnings.warn(\n",
      "D:\\Anaconda3\\lib\\site-packages\\xgboost\\sklearn.py:793: UserWarning: `early_stopping_rounds` in `fit` method is deprecated for better compatibility with scikit-learn, use `early_stopping_rounds` in constructor or`set_params` instead.\n",
      "  warnings.warn(\n"
     ]
    },
    {
     "name": "stdout",
     "output_type": "stream",
     "text": [
      "[0]\tvalidation_0-mae:5.64067\n",
      "[1]\tvalidation_0-mae:5.80515\n",
      "[2]\tvalidation_0-mae:5.97081\n",
      "[3]\tvalidation_0-mae:6.13634\n",
      "[4]\tvalidation_0-mae:6.29425\n",
      "[0]\tvalidation_0-mae:5.66732\n",
      "[1]\tvalidation_0-mae:5.87133\n",
      "[2]\tvalidation_0-mae:6.06772\n",
      "[3]\tvalidation_0-mae:6.27140\n",
      "[4]\tvalidation_0-mae:6.46292\n"
     ]
    },
    {
     "name": "stderr",
     "output_type": "stream",
     "text": [
      "D:\\Anaconda3\\lib\\site-packages\\xgboost\\sklearn.py:793: UserWarning: `early_stopping_rounds` in `fit` method is deprecated for better compatibility with scikit-learn, use `early_stopping_rounds` in constructor or`set_params` instead.\n",
      "  warnings.warn(\n",
      "D:\\Anaconda3\\lib\\site-packages\\xgboost\\sklearn.py:793: UserWarning: `early_stopping_rounds` in `fit` method is deprecated for better compatibility with scikit-learn, use `early_stopping_rounds` in constructor or`set_params` instead.\n",
      "  warnings.warn(\n",
      "D:\\Anaconda3\\lib\\site-packages\\xgboost\\sklearn.py:793: UserWarning: `early_stopping_rounds` in `fit` method is deprecated for better compatibility with scikit-learn, use `early_stopping_rounds` in constructor or`set_params` instead.\n",
      "  warnings.warn(\n"
     ]
    },
    {
     "name": "stdout",
     "output_type": "stream",
     "text": [
      "[0]\tvalidation_0-mae:5.62495\n",
      "[1]\tvalidation_0-mae:5.81369\n",
      "[2]\tvalidation_0-mae:5.98683\n",
      "[3]\tvalidation_0-mae:6.16349\n",
      "[4]\tvalidation_0-mae:6.31266\n",
      "[0]\tvalidation_0-mae:5.64544\n",
      "[1]\tvalidation_0-mae:5.90930\n",
      "[2]\tvalidation_0-mae:6.11375\n",
      "[3]\tvalidation_0-mae:6.33275\n",
      "[4]\tvalidation_0-mae:6.50534\n",
      "[5]\tvalidation_0-mae:6.68060\n",
      "[0]\tvalidation_0-mae:5.65690\n",
      "[1]\tvalidation_0-mae:5.83207\n",
      "[2]\tvalidation_0-mae:6.00358\n",
      "[3]\tvalidation_0-mae:6.18755\n",
      "[4]\tvalidation_0-mae:6.39709\n"
     ]
    },
    {
     "name": "stderr",
     "output_type": "stream",
     "text": [
      "D:\\Anaconda3\\lib\\site-packages\\xgboost\\sklearn.py:793: UserWarning: `early_stopping_rounds` in `fit` method is deprecated for better compatibility with scikit-learn, use `early_stopping_rounds` in constructor or`set_params` instead.\n",
      "  warnings.warn(\n",
      "D:\\Anaconda3\\lib\\site-packages\\xgboost\\sklearn.py:793: UserWarning: `early_stopping_rounds` in `fit` method is deprecated for better compatibility with scikit-learn, use `early_stopping_rounds` in constructor or`set_params` instead.\n",
      "  warnings.warn(\n"
     ]
    },
    {
     "name": "stdout",
     "output_type": "stream",
     "text": [
      "[0]\tvalidation_0-mae:5.65077\n",
      "[1]\tvalidation_0-mae:5.80902\n",
      "[2]\tvalidation_0-mae:5.97876\n",
      "[3]\tvalidation_0-mae:6.21087\n",
      "[4]\tvalidation_0-mae:6.40374\n",
      "[0]\tvalidation_0-mae:5.64067\n",
      "[1]\tvalidation_0-mae:5.80515\n",
      "[2]\tvalidation_0-mae:5.97081\n",
      "[3]\tvalidation_0-mae:6.13634\n",
      "[4]\tvalidation_0-mae:6.29425\n",
      "[5]\tvalidation_0-mae:6.42360\n"
     ]
    },
    {
     "name": "stderr",
     "output_type": "stream",
     "text": [
      "D:\\Anaconda3\\lib\\site-packages\\xgboost\\sklearn.py:793: UserWarning: `early_stopping_rounds` in `fit` method is deprecated for better compatibility with scikit-learn, use `early_stopping_rounds` in constructor or`set_params` instead.\n",
      "  warnings.warn(\n",
      "D:\\Anaconda3\\lib\\site-packages\\xgboost\\sklearn.py:793: UserWarning: `early_stopping_rounds` in `fit` method is deprecated for better compatibility with scikit-learn, use `early_stopping_rounds` in constructor or`set_params` instead.\n",
      "  warnings.warn(\n"
     ]
    },
    {
     "name": "stdout",
     "output_type": "stream",
     "text": [
      "[0]\tvalidation_0-mae:5.66732\n",
      "[1]\tvalidation_0-mae:5.87133\n",
      "[2]\tvalidation_0-mae:6.06772\n",
      "[3]\tvalidation_0-mae:6.27140\n",
      "[4]\tvalidation_0-mae:6.46292\n",
      "[5]\tvalidation_0-mae:6.63562\n",
      "[0]\tvalidation_0-mae:5.62495\n",
      "[1]\tvalidation_0-mae:5.81369\n",
      "[2]\tvalidation_0-mae:5.98683\n",
      "[3]\tvalidation_0-mae:6.16349\n",
      "[4]\tvalidation_0-mae:6.31266\n",
      "[5]\tvalidation_0-mae:6.45696\n"
     ]
    },
    {
     "name": "stderr",
     "output_type": "stream",
     "text": [
      "D:\\Anaconda3\\lib\\site-packages\\xgboost\\sklearn.py:793: UserWarning: `early_stopping_rounds` in `fit` method is deprecated for better compatibility with scikit-learn, use `early_stopping_rounds` in constructor or`set_params` instead.\n",
      "  warnings.warn(\n",
      "D:\\Anaconda3\\lib\\site-packages\\xgboost\\sklearn.py:793: UserWarning: `early_stopping_rounds` in `fit` method is deprecated for better compatibility with scikit-learn, use `early_stopping_rounds` in constructor or`set_params` instead.\n",
      "  warnings.warn(\n"
     ]
    },
    {
     "name": "stdout",
     "output_type": "stream",
     "text": [
      "[0]\tvalidation_0-mae:5.64544\n",
      "[1]\tvalidation_0-mae:5.90930\n",
      "[2]\tvalidation_0-mae:6.11375\n",
      "[3]\tvalidation_0-mae:6.33275\n",
      "[4]\tvalidation_0-mae:6.50534\n",
      "[5]\tvalidation_0-mae:6.68060\n",
      "[0]\tvalidation_0-mae:5.46419\n",
      "[1]\tvalidation_0-mae:5.47658\n",
      "[2]\tvalidation_0-mae:5.48992\n",
      "[3]\tvalidation_0-mae:5.50101\n",
      "[4]\tvalidation_0-mae:5.51434\n",
      "[5]\tvalidation_0-mae:5.53114\n"
     ]
    },
    {
     "name": "stderr",
     "output_type": "stream",
     "text": [
      "D:\\Anaconda3\\lib\\site-packages\\xgboost\\sklearn.py:793: UserWarning: `early_stopping_rounds` in `fit` method is deprecated for better compatibility with scikit-learn, use `early_stopping_rounds` in constructor or`set_params` instead.\n",
      "  warnings.warn(\n",
      "D:\\Anaconda3\\lib\\site-packages\\xgboost\\sklearn.py:793: UserWarning: `early_stopping_rounds` in `fit` method is deprecated for better compatibility with scikit-learn, use `early_stopping_rounds` in constructor or`set_params` instead.\n",
      "  warnings.warn(\n",
      "D:\\Anaconda3\\lib\\site-packages\\xgboost\\sklearn.py:793: UserWarning: `early_stopping_rounds` in `fit` method is deprecated for better compatibility with scikit-learn, use `early_stopping_rounds` in constructor or`set_params` instead.\n",
      "  warnings.warn(\n"
     ]
    },
    {
     "name": "stdout",
     "output_type": "stream",
     "text": [
      "[0]\tvalidation_0-mae:5.46663\n",
      "[1]\tvalidation_0-mae:5.47905\n",
      "[2]\tvalidation_0-mae:5.49177\n",
      "[3]\tvalidation_0-mae:5.50601\n",
      "[4]\tvalidation_0-mae:5.52578\n",
      "[0]\tvalidation_0-mae:5.46302\n",
      "[1]\tvalidation_0-mae:5.47419\n",
      "[2]\tvalidation_0-mae:5.48651\n",
      "[3]\tvalidation_0-mae:5.49653\n",
      "[4]\tvalidation_0-mae:5.50917\n",
      "[5]\tvalidation_0-mae:5.52444\n",
      "[0]\tvalidation_0-mae:5.46570\n",
      "[1]\tvalidation_0-mae:5.47874\n",
      "[2]\tvalidation_0-mae:5.49455\n",
      "[3]\tvalidation_0-mae:5.50884\n",
      "[4]\tvalidation_0-mae:5.52755\n"
     ]
    },
    {
     "name": "stderr",
     "output_type": "stream",
     "text": [
      "D:\\Anaconda3\\lib\\site-packages\\xgboost\\sklearn.py:793: UserWarning: `early_stopping_rounds` in `fit` method is deprecated for better compatibility with scikit-learn, use `early_stopping_rounds` in constructor or`set_params` instead.\n",
      "  warnings.warn(\n",
      "D:\\Anaconda3\\lib\\site-packages\\xgboost\\sklearn.py:793: UserWarning: `early_stopping_rounds` in `fit` method is deprecated for better compatibility with scikit-learn, use `early_stopping_rounds` in constructor or`set_params` instead.\n",
      "  warnings.warn(\n",
      "D:\\Anaconda3\\lib\\site-packages\\xgboost\\sklearn.py:793: UserWarning: `early_stopping_rounds` in `fit` method is deprecated for better compatibility with scikit-learn, use `early_stopping_rounds` in constructor or`set_params` instead.\n",
      "  warnings.warn(\n"
     ]
    },
    {
     "name": "stdout",
     "output_type": "stream",
     "text": [
      "[0]\tvalidation_0-mae:5.46259\n",
      "[1]\tvalidation_0-mae:5.47472\n",
      "[2]\tvalidation_0-mae:5.48745\n",
      "[3]\tvalidation_0-mae:5.49991\n",
      "[4]\tvalidation_0-mae:5.51491\n",
      "[5]\tvalidation_0-mae:5.53036\n",
      "[0]\tvalidation_0-mae:5.46632\n",
      "[1]\tvalidation_0-mae:5.48285\n",
      "[2]\tvalidation_0-mae:5.49747\n",
      "[3]\tvalidation_0-mae:5.51395\n",
      "[4]\tvalidation_0-mae:5.53331\n",
      "[5]\tvalidation_0-mae:5.55409\n",
      "[0]\tvalidation_0-mae:5.46419\n",
      "[1]\tvalidation_0-mae:5.47658\n",
      "[2]\tvalidation_0-mae:5.48992\n",
      "[3]\tvalidation_0-mae:5.50101\n",
      "[4]\tvalidation_0-mae:5.51434\n"
     ]
    },
    {
     "name": "stderr",
     "output_type": "stream",
     "text": [
      "D:\\Anaconda3\\lib\\site-packages\\xgboost\\sklearn.py:793: UserWarning: `early_stopping_rounds` in `fit` method is deprecated for better compatibility with scikit-learn, use `early_stopping_rounds` in constructor or`set_params` instead.\n",
      "  warnings.warn(\n",
      "D:\\Anaconda3\\lib\\site-packages\\xgboost\\sklearn.py:793: UserWarning: `early_stopping_rounds` in `fit` method is deprecated for better compatibility with scikit-learn, use `early_stopping_rounds` in constructor or`set_params` instead.\n",
      "  warnings.warn(\n"
     ]
    },
    {
     "name": "stdout",
     "output_type": "stream",
     "text": [
      "[0]\tvalidation_0-mae:5.46663\n",
      "[1]\tvalidation_0-mae:5.47905\n",
      "[2]\tvalidation_0-mae:5.49177\n",
      "[3]\tvalidation_0-mae:5.50601\n",
      "[4]\tvalidation_0-mae:5.52578\n",
      "[0]\tvalidation_0-mae:5.46302\n",
      "[1]\tvalidation_0-mae:5.47419\n",
      "[2]\tvalidation_0-mae:5.48651\n",
      "[3]\tvalidation_0-mae:5.49653\n",
      "[4]\tvalidation_0-mae:5.50917\n"
     ]
    },
    {
     "name": "stderr",
     "output_type": "stream",
     "text": [
      "D:\\Anaconda3\\lib\\site-packages\\xgboost\\sklearn.py:793: UserWarning: `early_stopping_rounds` in `fit` method is deprecated for better compatibility with scikit-learn, use `early_stopping_rounds` in constructor or`set_params` instead.\n",
      "  warnings.warn(\n",
      "D:\\Anaconda3\\lib\\site-packages\\xgboost\\sklearn.py:793: UserWarning: `early_stopping_rounds` in `fit` method is deprecated for better compatibility with scikit-learn, use `early_stopping_rounds` in constructor or`set_params` instead.\n",
      "  warnings.warn(\n"
     ]
    },
    {
     "name": "stdout",
     "output_type": "stream",
     "text": [
      "[0]\tvalidation_0-mae:5.46570\n",
      "[1]\tvalidation_0-mae:5.47874\n",
      "[2]\tvalidation_0-mae:5.49455\n",
      "[3]\tvalidation_0-mae:5.50884\n",
      "[4]\tvalidation_0-mae:5.52755\n",
      "[5]\tvalidation_0-mae:5.54880\n",
      "[0]\tvalidation_0-mae:5.46259\n",
      "[1]\tvalidation_0-mae:5.47472\n",
      "[2]\tvalidation_0-mae:5.48745\n",
      "[3]\tvalidation_0-mae:5.49991\n",
      "[4]\tvalidation_0-mae:5.51491\n"
     ]
    },
    {
     "name": "stderr",
     "output_type": "stream",
     "text": [
      "D:\\Anaconda3\\lib\\site-packages\\xgboost\\sklearn.py:793: UserWarning: `early_stopping_rounds` in `fit` method is deprecated for better compatibility with scikit-learn, use `early_stopping_rounds` in constructor or`set_params` instead.\n",
      "  warnings.warn(\n",
      "D:\\Anaconda3\\lib\\site-packages\\xgboost\\sklearn.py:793: UserWarning: `early_stopping_rounds` in `fit` method is deprecated for better compatibility with scikit-learn, use `early_stopping_rounds` in constructor or`set_params` instead.\n",
      "  warnings.warn(\n",
      "D:\\Anaconda3\\lib\\site-packages\\xgboost\\sklearn.py:793: UserWarning: `early_stopping_rounds` in `fit` method is deprecated for better compatibility with scikit-learn, use `early_stopping_rounds` in constructor or`set_params` instead.\n",
      "  warnings.warn(\n"
     ]
    },
    {
     "name": "stdout",
     "output_type": "stream",
     "text": [
      "[0]\tvalidation_0-mae:5.46632\n",
      "[1]\tvalidation_0-mae:5.48285\n",
      "[2]\tvalidation_0-mae:5.49747\n",
      "[3]\tvalidation_0-mae:5.51395\n",
      "[4]\tvalidation_0-mae:5.53331\n",
      "[0]\tvalidation_0-mae:5.46419\n",
      "[1]\tvalidation_0-mae:5.47658\n",
      "[2]\tvalidation_0-mae:5.48992\n",
      "[3]\tvalidation_0-mae:5.50101\n",
      "[4]\tvalidation_0-mae:5.51434\n",
      "[0]\tvalidation_0-mae:5.46663\n",
      "[1]\tvalidation_0-mae:5.47905\n",
      "[2]\tvalidation_0-mae:5.49177\n",
      "[3]\tvalidation_0-mae:5.50601\n",
      "[4]\tvalidation_0-mae:5.52578\n",
      "[5]\tvalidation_0-mae:5.54106\n"
     ]
    },
    {
     "name": "stderr",
     "output_type": "stream",
     "text": [
      "D:\\Anaconda3\\lib\\site-packages\\xgboost\\sklearn.py:793: UserWarning: `early_stopping_rounds` in `fit` method is deprecated for better compatibility with scikit-learn, use `early_stopping_rounds` in constructor or`set_params` instead.\n",
      "  warnings.warn(\n",
      "D:\\Anaconda3\\lib\\site-packages\\xgboost\\sklearn.py:793: UserWarning: `early_stopping_rounds` in `fit` method is deprecated for better compatibility with scikit-learn, use `early_stopping_rounds` in constructor or`set_params` instead.\n",
      "  warnings.warn(\n",
      "D:\\Anaconda3\\lib\\site-packages\\xgboost\\sklearn.py:793: UserWarning: `early_stopping_rounds` in `fit` method is deprecated for better compatibility with scikit-learn, use `early_stopping_rounds` in constructor or`set_params` instead.\n",
      "  warnings.warn(\n"
     ]
    },
    {
     "name": "stdout",
     "output_type": "stream",
     "text": [
      "[0]\tvalidation_0-mae:5.46302\n",
      "[1]\tvalidation_0-mae:5.47419\n",
      "[2]\tvalidation_0-mae:5.48651\n",
      "[3]\tvalidation_0-mae:5.49653\n",
      "[4]\tvalidation_0-mae:5.50917\n",
      "[5]\tvalidation_0-mae:5.52444\n",
      "[0]\tvalidation_0-mae:5.46570\n",
      "[1]\tvalidation_0-mae:5.47874\n",
      "[2]\tvalidation_0-mae:5.49455\n",
      "[3]\tvalidation_0-mae:5.50884\n",
      "[4]\tvalidation_0-mae:5.52755\n",
      "[5]\tvalidation_0-mae:5.54880\n",
      "[0]\tvalidation_0-mae:5.46259\n",
      "[1]\tvalidation_0-mae:5.47472\n",
      "[2]\tvalidation_0-mae:5.48745\n",
      "[3]\tvalidation_0-mae:5.49991\n",
      "[4]\tvalidation_0-mae:5.51491\n",
      "[5]\tvalidation_0-mae:5.53036\n"
     ]
    },
    {
     "name": "stderr",
     "output_type": "stream",
     "text": [
      "D:\\Anaconda3\\lib\\site-packages\\xgboost\\sklearn.py:793: UserWarning: `early_stopping_rounds` in `fit` method is deprecated for better compatibility with scikit-learn, use `early_stopping_rounds` in constructor or`set_params` instead.\n",
      "  warnings.warn(\n",
      "D:\\Anaconda3\\lib\\site-packages\\xgboost\\sklearn.py:793: UserWarning: `early_stopping_rounds` in `fit` method is deprecated for better compatibility with scikit-learn, use `early_stopping_rounds` in constructor or`set_params` instead.\n",
      "  warnings.warn(\n",
      "D:\\Anaconda3\\lib\\site-packages\\xgboost\\sklearn.py:793: UserWarning: `early_stopping_rounds` in `fit` method is deprecated for better compatibility with scikit-learn, use `early_stopping_rounds` in constructor or`set_params` instead.\n",
      "  warnings.warn(\n"
     ]
    },
    {
     "name": "stdout",
     "output_type": "stream",
     "text": [
      "[0]\tvalidation_0-mae:5.46632\n",
      "[1]\tvalidation_0-mae:5.48285\n",
      "[2]\tvalidation_0-mae:5.49747\n",
      "[3]\tvalidation_0-mae:5.51395\n",
      "[4]\tvalidation_0-mae:5.53331\n",
      "[0]\tvalidation_0-mae:5.46316\n",
      "[1]\tvalidation_0-mae:5.47451\n",
      "[2]\tvalidation_0-mae:5.48678\n",
      "[3]\tvalidation_0-mae:5.49800\n",
      "[4]\tvalidation_0-mae:5.51249\n",
      "[5]\tvalidation_0-mae:5.52998\n",
      "[0]\tvalidation_0-mae:5.46768\n",
      "[1]\tvalidation_0-mae:5.47850\n",
      "[2]\tvalidation_0-mae:5.49100\n",
      "[3]\tvalidation_0-mae:5.50637\n",
      "[4]\tvalidation_0-mae:5.52291\n"
     ]
    },
    {
     "name": "stderr",
     "output_type": "stream",
     "text": [
      "D:\\Anaconda3\\lib\\site-packages\\xgboost\\sklearn.py:793: UserWarning: `early_stopping_rounds` in `fit` method is deprecated for better compatibility with scikit-learn, use `early_stopping_rounds` in constructor or`set_params` instead.\n",
      "  warnings.warn(\n",
      "D:\\Anaconda3\\lib\\site-packages\\xgboost\\sklearn.py:793: UserWarning: `early_stopping_rounds` in `fit` method is deprecated for better compatibility with scikit-learn, use `early_stopping_rounds` in constructor or`set_params` instead.\n",
      "  warnings.warn(\n"
     ]
    },
    {
     "name": "stdout",
     "output_type": "stream",
     "text": [
      "[0]\tvalidation_0-mae:5.46063\n",
      "[1]\tvalidation_0-mae:5.47143\n",
      "[2]\tvalidation_0-mae:5.48332\n",
      "[3]\tvalidation_0-mae:5.49364\n",
      "[4]\tvalidation_0-mae:5.50590\n",
      "[0]\tvalidation_0-mae:5.46436\n",
      "[1]\tvalidation_0-mae:5.47806\n",
      "[2]\tvalidation_0-mae:5.49308\n",
      "[3]\tvalidation_0-mae:5.50990\n",
      "[4]\tvalidation_0-mae:5.52573\n"
     ]
    },
    {
     "name": "stderr",
     "output_type": "stream",
     "text": [
      "D:\\Anaconda3\\lib\\site-packages\\xgboost\\sklearn.py:793: UserWarning: `early_stopping_rounds` in `fit` method is deprecated for better compatibility with scikit-learn, use `early_stopping_rounds` in constructor or`set_params` instead.\n",
      "  warnings.warn(\n",
      "D:\\Anaconda3\\lib\\site-packages\\xgboost\\sklearn.py:793: UserWarning: `early_stopping_rounds` in `fit` method is deprecated for better compatibility with scikit-learn, use `early_stopping_rounds` in constructor or`set_params` instead.\n",
      "  warnings.warn(\n"
     ]
    },
    {
     "name": "stdout",
     "output_type": "stream",
     "text": [
      "[0]\tvalidation_0-mae:5.45954\n",
      "[1]\tvalidation_0-mae:5.47011\n",
      "[2]\tvalidation_0-mae:5.48237\n",
      "[3]\tvalidation_0-mae:5.49364\n",
      "[4]\tvalidation_0-mae:5.50657\n",
      "[5]\tvalidation_0-mae:5.51880\n",
      "[0]\tvalidation_0-mae:5.46198\n",
      "[1]\tvalidation_0-mae:5.47627\n",
      "[2]\tvalidation_0-mae:5.49071\n",
      "[3]\tvalidation_0-mae:5.50642\n",
      "[4]\tvalidation_0-mae:5.52325\n"
     ]
    },
    {
     "name": "stderr",
     "output_type": "stream",
     "text": [
      "D:\\Anaconda3\\lib\\site-packages\\xgboost\\sklearn.py:793: UserWarning: `early_stopping_rounds` in `fit` method is deprecated for better compatibility with scikit-learn, use `early_stopping_rounds` in constructor or`set_params` instead.\n",
      "  warnings.warn(\n",
      "D:\\Anaconda3\\lib\\site-packages\\xgboost\\sklearn.py:793: UserWarning: `early_stopping_rounds` in `fit` method is deprecated for better compatibility with scikit-learn, use `early_stopping_rounds` in constructor or`set_params` instead.\n",
      "  warnings.warn(\n",
      "D:\\Anaconda3\\lib\\site-packages\\xgboost\\sklearn.py:793: UserWarning: `early_stopping_rounds` in `fit` method is deprecated for better compatibility with scikit-learn, use `early_stopping_rounds` in constructor or`set_params` instead.\n",
      "  warnings.warn(\n"
     ]
    },
    {
     "name": "stdout",
     "output_type": "stream",
     "text": [
      "[0]\tvalidation_0-mae:5.46316\n",
      "[1]\tvalidation_0-mae:5.47451\n",
      "[2]\tvalidation_0-mae:5.48678\n",
      "[3]\tvalidation_0-mae:5.49800\n",
      "[4]\tvalidation_0-mae:5.51249\n",
      "[0]\tvalidation_0-mae:5.46768\n",
      "[1]\tvalidation_0-mae:5.47850\n",
      "[2]\tvalidation_0-mae:5.49100\n",
      "[3]\tvalidation_0-mae:5.50637\n",
      "[4]\tvalidation_0-mae:5.52291\n",
      "[5]\tvalidation_0-mae:5.53900\n",
      "[0]\tvalidation_0-mae:5.46063\n",
      "[1]\tvalidation_0-mae:5.47143\n",
      "[2]\tvalidation_0-mae:5.48332\n",
      "[3]\tvalidation_0-mae:5.49364\n",
      "[4]\tvalidation_0-mae:5.50590\n",
      "[5]\tvalidation_0-mae:5.52014\n"
     ]
    },
    {
     "name": "stderr",
     "output_type": "stream",
     "text": [
      "D:\\Anaconda3\\lib\\site-packages\\xgboost\\sklearn.py:793: UserWarning: `early_stopping_rounds` in `fit` method is deprecated for better compatibility with scikit-learn, use `early_stopping_rounds` in constructor or`set_params` instead.\n",
      "  warnings.warn(\n",
      "D:\\Anaconda3\\lib\\site-packages\\xgboost\\sklearn.py:793: UserWarning: `early_stopping_rounds` in `fit` method is deprecated for better compatibility with scikit-learn, use `early_stopping_rounds` in constructor or`set_params` instead.\n",
      "  warnings.warn(\n"
     ]
    },
    {
     "name": "stdout",
     "output_type": "stream",
     "text": [
      "[0]\tvalidation_0-mae:5.46436\n",
      "[1]\tvalidation_0-mae:5.47806\n",
      "[2]\tvalidation_0-mae:5.49308\n",
      "[3]\tvalidation_0-mae:5.50990\n",
      "[4]\tvalidation_0-mae:5.52573\n",
      "[5]\tvalidation_0-mae:5.54298\n",
      "[0]\tvalidation_0-mae:5.45954\n",
      "[1]\tvalidation_0-mae:5.47011\n",
      "[2]\tvalidation_0-mae:5.48237\n",
      "[3]\tvalidation_0-mae:5.49364\n",
      "[4]\tvalidation_0-mae:5.50657\n",
      "[5]\tvalidation_0-mae:5.51880\n"
     ]
    },
    {
     "name": "stderr",
     "output_type": "stream",
     "text": [
      "D:\\Anaconda3\\lib\\site-packages\\xgboost\\sklearn.py:793: UserWarning: `early_stopping_rounds` in `fit` method is deprecated for better compatibility with scikit-learn, use `early_stopping_rounds` in constructor or`set_params` instead.\n",
      "  warnings.warn(\n",
      "D:\\Anaconda3\\lib\\site-packages\\xgboost\\sklearn.py:793: UserWarning: `early_stopping_rounds` in `fit` method is deprecated for better compatibility with scikit-learn, use `early_stopping_rounds` in constructor or`set_params` instead.\n",
      "  warnings.warn(\n"
     ]
    },
    {
     "name": "stdout",
     "output_type": "stream",
     "text": [
      "[0]\tvalidation_0-mae:5.46198\n",
      "[1]\tvalidation_0-mae:5.47627\n",
      "[2]\tvalidation_0-mae:5.49071\n",
      "[3]\tvalidation_0-mae:5.50642\n",
      "[4]\tvalidation_0-mae:5.52325\n",
      "[5]\tvalidation_0-mae:5.54117\n",
      "[0]\tvalidation_0-mae:5.46316\n",
      "[1]\tvalidation_0-mae:5.47451\n",
      "[2]\tvalidation_0-mae:5.48678\n",
      "[3]\tvalidation_0-mae:5.49800\n",
      "[4]\tvalidation_0-mae:5.51249\n",
      "[5]\tvalidation_0-mae:5.52998\n"
     ]
    },
    {
     "name": "stderr",
     "output_type": "stream",
     "text": [
      "D:\\Anaconda3\\lib\\site-packages\\xgboost\\sklearn.py:793: UserWarning: `early_stopping_rounds` in `fit` method is deprecated for better compatibility with scikit-learn, use `early_stopping_rounds` in constructor or`set_params` instead.\n",
      "  warnings.warn(\n",
      "D:\\Anaconda3\\lib\\site-packages\\xgboost\\sklearn.py:793: UserWarning: `early_stopping_rounds` in `fit` method is deprecated for better compatibility with scikit-learn, use `early_stopping_rounds` in constructor or`set_params` instead.\n",
      "  warnings.warn(\n"
     ]
    },
    {
     "name": "stdout",
     "output_type": "stream",
     "text": [
      "[0]\tvalidation_0-mae:5.46768\n",
      "[1]\tvalidation_0-mae:5.47850\n",
      "[2]\tvalidation_0-mae:5.49100\n",
      "[3]\tvalidation_0-mae:5.50637\n",
      "[4]\tvalidation_0-mae:5.52291\n",
      "[5]\tvalidation_0-mae:5.53900\n",
      "[0]\tvalidation_0-mae:5.46063\n",
      "[1]\tvalidation_0-mae:5.47143\n",
      "[2]\tvalidation_0-mae:5.48332\n",
      "[3]\tvalidation_0-mae:5.49364\n",
      "[4]\tvalidation_0-mae:5.50590\n",
      "[5]\tvalidation_0-mae:5.52014\n"
     ]
    },
    {
     "name": "stderr",
     "output_type": "stream",
     "text": [
      "D:\\Anaconda3\\lib\\site-packages\\xgboost\\sklearn.py:793: UserWarning: `early_stopping_rounds` in `fit` method is deprecated for better compatibility with scikit-learn, use `early_stopping_rounds` in constructor or`set_params` instead.\n",
      "  warnings.warn(\n",
      "D:\\Anaconda3\\lib\\site-packages\\xgboost\\sklearn.py:793: UserWarning: `early_stopping_rounds` in `fit` method is deprecated for better compatibility with scikit-learn, use `early_stopping_rounds` in constructor or`set_params` instead.\n",
      "  warnings.warn(\n"
     ]
    },
    {
     "name": "stdout",
     "output_type": "stream",
     "text": [
      "[0]\tvalidation_0-mae:5.46436\n",
      "[1]\tvalidation_0-mae:5.47806\n",
      "[2]\tvalidation_0-mae:5.49308\n",
      "[3]\tvalidation_0-mae:5.50990\n",
      "[4]\tvalidation_0-mae:5.52573\n",
      "[0]\tvalidation_0-mae:5.45954\n",
      "[1]\tvalidation_0-mae:5.47011\n",
      "[2]\tvalidation_0-mae:5.48237\n",
      "[3]\tvalidation_0-mae:5.49364\n",
      "[4]\tvalidation_0-mae:5.50657\n",
      "[5]\tvalidation_0-mae:5.51880\n"
     ]
    },
    {
     "name": "stderr",
     "output_type": "stream",
     "text": [
      "D:\\Anaconda3\\lib\\site-packages\\xgboost\\sklearn.py:793: UserWarning: `early_stopping_rounds` in `fit` method is deprecated for better compatibility with scikit-learn, use `early_stopping_rounds` in constructor or`set_params` instead.\n",
      "  warnings.warn(\n",
      "D:\\Anaconda3\\lib\\site-packages\\xgboost\\sklearn.py:793: UserWarning: `early_stopping_rounds` in `fit` method is deprecated for better compatibility with scikit-learn, use `early_stopping_rounds` in constructor or`set_params` instead.\n",
      "  warnings.warn(\n"
     ]
    },
    {
     "name": "stdout",
     "output_type": "stream",
     "text": [
      "[0]\tvalidation_0-mae:5.46198\n",
      "[1]\tvalidation_0-mae:5.47627\n",
      "[2]\tvalidation_0-mae:5.49071\n",
      "[3]\tvalidation_0-mae:5.50642\n",
      "[4]\tvalidation_0-mae:5.52325\n",
      "[5]\tvalidation_0-mae:5.54117\n",
      "[0]\tvalidation_0-mae:5.46014\n",
      "[1]\tvalidation_0-mae:5.47148\n",
      "[2]\tvalidation_0-mae:5.48408\n",
      "[3]\tvalidation_0-mae:5.49685\n",
      "[4]\tvalidation_0-mae:5.51243\n"
     ]
    },
    {
     "name": "stderr",
     "output_type": "stream",
     "text": [
      "D:\\Anaconda3\\lib\\site-packages\\xgboost\\sklearn.py:793: UserWarning: `early_stopping_rounds` in `fit` method is deprecated for better compatibility with scikit-learn, use `early_stopping_rounds` in constructor or`set_params` instead.\n",
      "  warnings.warn(\n",
      "D:\\Anaconda3\\lib\\site-packages\\xgboost\\sklearn.py:793: UserWarning: `early_stopping_rounds` in `fit` method is deprecated for better compatibility with scikit-learn, use `early_stopping_rounds` in constructor or`set_params` instead.\n",
      "  warnings.warn(\n"
     ]
    },
    {
     "name": "stdout",
     "output_type": "stream",
     "text": [
      "[0]\tvalidation_0-mae:5.46879\n",
      "[1]\tvalidation_0-mae:5.47969\n",
      "[2]\tvalidation_0-mae:5.48999\n",
      "[3]\tvalidation_0-mae:5.50681\n",
      "[4]\tvalidation_0-mae:5.52163\n",
      "[5]\tvalidation_0-mae:5.53619\n",
      "[0]\tvalidation_0-mae:5.46028\n",
      "[1]\tvalidation_0-mae:5.47170\n",
      "[2]\tvalidation_0-mae:5.48367\n",
      "[3]\tvalidation_0-mae:5.49483\n",
      "[4]\tvalidation_0-mae:5.50829\n",
      "[5]\tvalidation_0-mae:5.52181\n"
     ]
    },
    {
     "name": "stderr",
     "output_type": "stream",
     "text": [
      "D:\\Anaconda3\\lib\\site-packages\\xgboost\\sklearn.py:793: UserWarning: `early_stopping_rounds` in `fit` method is deprecated for better compatibility with scikit-learn, use `early_stopping_rounds` in constructor or`set_params` instead.\n",
      "  warnings.warn(\n",
      "D:\\Anaconda3\\lib\\site-packages\\xgboost\\sklearn.py:793: UserWarning: `early_stopping_rounds` in `fit` method is deprecated for better compatibility with scikit-learn, use `early_stopping_rounds` in constructor or`set_params` instead.\n",
      "  warnings.warn(\n"
     ]
    },
    {
     "name": "stdout",
     "output_type": "stream",
     "text": [
      "[0]\tvalidation_0-mae:5.46412\n",
      "[1]\tvalidation_0-mae:5.47669\n",
      "[2]\tvalidation_0-mae:5.49110\n",
      "[3]\tvalidation_0-mae:5.50659\n",
      "[4]\tvalidation_0-mae:5.52169\n",
      "[5]\tvalidation_0-mae:5.53987\n",
      "[0]\tvalidation_0-mae:5.46045\n",
      "[1]\tvalidation_0-mae:5.47043\n",
      "[2]\tvalidation_0-mae:5.48352\n",
      "[3]\tvalidation_0-mae:5.49534\n",
      "[4]\tvalidation_0-mae:5.50864\n",
      "[5]\tvalidation_0-mae:5.52125\n"
     ]
    },
    {
     "name": "stderr",
     "output_type": "stream",
     "text": [
      "D:\\Anaconda3\\lib\\site-packages\\xgboost\\sklearn.py:793: UserWarning: `early_stopping_rounds` in `fit` method is deprecated for better compatibility with scikit-learn, use `early_stopping_rounds` in constructor or`set_params` instead.\n",
      "  warnings.warn(\n",
      "D:\\Anaconda3\\lib\\site-packages\\xgboost\\sklearn.py:793: UserWarning: `early_stopping_rounds` in `fit` method is deprecated for better compatibility with scikit-learn, use `early_stopping_rounds` in constructor or`set_params` instead.\n",
      "  warnings.warn(\n"
     ]
    },
    {
     "name": "stdout",
     "output_type": "stream",
     "text": [
      "[0]\tvalidation_0-mae:5.46181\n",
      "[1]\tvalidation_0-mae:5.47520\n",
      "[2]\tvalidation_0-mae:5.49011\n",
      "[3]\tvalidation_0-mae:5.50525\n",
      "[4]\tvalidation_0-mae:5.52093\n",
      "[0]\tvalidation_0-mae:5.46014\n",
      "[1]\tvalidation_0-mae:5.47148\n",
      "[2]\tvalidation_0-mae:5.48408\n",
      "[3]\tvalidation_0-mae:5.49685\n",
      "[4]\tvalidation_0-mae:5.51243\n"
     ]
    },
    {
     "name": "stderr",
     "output_type": "stream",
     "text": [
      "D:\\Anaconda3\\lib\\site-packages\\xgboost\\sklearn.py:793: UserWarning: `early_stopping_rounds` in `fit` method is deprecated for better compatibility with scikit-learn, use `early_stopping_rounds` in constructor or`set_params` instead.\n",
      "  warnings.warn(\n",
      "D:\\Anaconda3\\lib\\site-packages\\xgboost\\sklearn.py:793: UserWarning: `early_stopping_rounds` in `fit` method is deprecated for better compatibility with scikit-learn, use `early_stopping_rounds` in constructor or`set_params` instead.\n",
      "  warnings.warn(\n"
     ]
    },
    {
     "name": "stdout",
     "output_type": "stream",
     "text": [
      "[0]\tvalidation_0-mae:5.46879\n",
      "[1]\tvalidation_0-mae:5.47969\n",
      "[2]\tvalidation_0-mae:5.48999\n",
      "[3]\tvalidation_0-mae:5.50681\n",
      "[4]\tvalidation_0-mae:5.52163\n",
      "[5]\tvalidation_0-mae:5.53619\n",
      "[0]\tvalidation_0-mae:5.46028\n",
      "[1]\tvalidation_0-mae:5.47170\n",
      "[2]\tvalidation_0-mae:5.48367\n",
      "[3]\tvalidation_0-mae:5.49483\n",
      "[4]\tvalidation_0-mae:5.50829\n"
     ]
    },
    {
     "name": "stderr",
     "output_type": "stream",
     "text": [
      "D:\\Anaconda3\\lib\\site-packages\\xgboost\\sklearn.py:793: UserWarning: `early_stopping_rounds` in `fit` method is deprecated for better compatibility with scikit-learn, use `early_stopping_rounds` in constructor or`set_params` instead.\n",
      "  warnings.warn(\n",
      "D:\\Anaconda3\\lib\\site-packages\\xgboost\\sklearn.py:793: UserWarning: `early_stopping_rounds` in `fit` method is deprecated for better compatibility with scikit-learn, use `early_stopping_rounds` in constructor or`set_params` instead.\n",
      "  warnings.warn(\n"
     ]
    },
    {
     "name": "stdout",
     "output_type": "stream",
     "text": [
      "[5]\tvalidation_0-mae:5.52181\n",
      "[0]\tvalidation_0-mae:5.46412\n",
      "[1]\tvalidation_0-mae:5.47669\n",
      "[2]\tvalidation_0-mae:5.49110\n",
      "[3]\tvalidation_0-mae:5.50659\n",
      "[4]\tvalidation_0-mae:5.52169\n",
      "[0]\tvalidation_0-mae:5.46045\n",
      "[1]\tvalidation_0-mae:5.47043\n",
      "[2]\tvalidation_0-mae:5.48352\n",
      "[3]\tvalidation_0-mae:5.49534\n",
      "[4]\tvalidation_0-mae:5.50864\n"
     ]
    },
    {
     "name": "stderr",
     "output_type": "stream",
     "text": [
      "D:\\Anaconda3\\lib\\site-packages\\xgboost\\sklearn.py:793: UserWarning: `early_stopping_rounds` in `fit` method is deprecated for better compatibility with scikit-learn, use `early_stopping_rounds` in constructor or`set_params` instead.\n",
      "  warnings.warn(\n",
      "D:\\Anaconda3\\lib\\site-packages\\xgboost\\sklearn.py:793: UserWarning: `early_stopping_rounds` in `fit` method is deprecated for better compatibility with scikit-learn, use `early_stopping_rounds` in constructor or`set_params` instead.\n",
      "  warnings.warn(\n"
     ]
    },
    {
     "name": "stdout",
     "output_type": "stream",
     "text": [
      "[0]\tvalidation_0-mae:5.46181\n",
      "[1]\tvalidation_0-mae:5.47520\n",
      "[2]\tvalidation_0-mae:5.49011\n",
      "[3]\tvalidation_0-mae:5.50525\n",
      "[4]\tvalidation_0-mae:5.52093\n",
      "[5]\tvalidation_0-mae:5.53868\n",
      "[0]\tvalidation_0-mae:5.46014\n",
      "[1]\tvalidation_0-mae:5.47148\n",
      "[2]\tvalidation_0-mae:5.48408\n",
      "[3]\tvalidation_0-mae:5.49685\n",
      "[4]\tvalidation_0-mae:5.51243\n"
     ]
    },
    {
     "name": "stderr",
     "output_type": "stream",
     "text": [
      "D:\\Anaconda3\\lib\\site-packages\\xgboost\\sklearn.py:793: UserWarning: `early_stopping_rounds` in `fit` method is deprecated for better compatibility with scikit-learn, use `early_stopping_rounds` in constructor or`set_params` instead.\n",
      "  warnings.warn(\n",
      "D:\\Anaconda3\\lib\\site-packages\\xgboost\\sklearn.py:793: UserWarning: `early_stopping_rounds` in `fit` method is deprecated for better compatibility with scikit-learn, use `early_stopping_rounds` in constructor or`set_params` instead.\n",
      "  warnings.warn(\n"
     ]
    },
    {
     "name": "stdout",
     "output_type": "stream",
     "text": [
      "[0]\tvalidation_0-mae:5.46879\n",
      "[1]\tvalidation_0-mae:5.47969\n",
      "[2]\tvalidation_0-mae:5.48999\n",
      "[3]\tvalidation_0-mae:5.50681\n",
      "[4]\tvalidation_0-mae:5.52163\n",
      "[0]\tvalidation_0-mae:5.46028\n",
      "[1]\tvalidation_0-mae:5.47170\n",
      "[2]\tvalidation_0-mae:5.48367\n",
      "[3]\tvalidation_0-mae:5.49483\n",
      "[4]\tvalidation_0-mae:5.50829\n"
     ]
    },
    {
     "name": "stderr",
     "output_type": "stream",
     "text": [
      "D:\\Anaconda3\\lib\\site-packages\\xgboost\\sklearn.py:793: UserWarning: `early_stopping_rounds` in `fit` method is deprecated for better compatibility with scikit-learn, use `early_stopping_rounds` in constructor or`set_params` instead.\n",
      "  warnings.warn(\n",
      "D:\\Anaconda3\\lib\\site-packages\\xgboost\\sklearn.py:793: UserWarning: `early_stopping_rounds` in `fit` method is deprecated for better compatibility with scikit-learn, use `early_stopping_rounds` in constructor or`set_params` instead.\n",
      "  warnings.warn(\n"
     ]
    },
    {
     "name": "stdout",
     "output_type": "stream",
     "text": [
      "[0]\tvalidation_0-mae:5.46412\n",
      "[1]\tvalidation_0-mae:5.47669\n",
      "[2]\tvalidation_0-mae:5.49110\n",
      "[3]\tvalidation_0-mae:5.50659\n",
      "[4]\tvalidation_0-mae:5.52169\n",
      "[5]\tvalidation_0-mae:5.53987\n",
      "[0]\tvalidation_0-mae:5.46045\n",
      "[1]\tvalidation_0-mae:5.47043\n",
      "[2]\tvalidation_0-mae:5.48352\n",
      "[3]\tvalidation_0-mae:5.49534\n",
      "[4]\tvalidation_0-mae:5.50864\n"
     ]
    },
    {
     "name": "stderr",
     "output_type": "stream",
     "text": [
      "D:\\Anaconda3\\lib\\site-packages\\xgboost\\sklearn.py:793: UserWarning: `early_stopping_rounds` in `fit` method is deprecated for better compatibility with scikit-learn, use `early_stopping_rounds` in constructor or`set_params` instead.\n",
      "  warnings.warn(\n",
      "D:\\Anaconda3\\lib\\site-packages\\xgboost\\sklearn.py:793: UserWarning: `early_stopping_rounds` in `fit` method is deprecated for better compatibility with scikit-learn, use `early_stopping_rounds` in constructor or`set_params` instead.\n",
      "  warnings.warn(\n"
     ]
    },
    {
     "name": "stdout",
     "output_type": "stream",
     "text": [
      "[0]\tvalidation_0-mae:5.46181\n",
      "[1]\tvalidation_0-mae:5.47520\n",
      "[2]\tvalidation_0-mae:5.49011\n",
      "[3]\tvalidation_0-mae:5.50525\n",
      "[4]\tvalidation_0-mae:5.52093\n",
      "[0]\tvalidation_0-mae:5.52386\n",
      "[1]\tvalidation_0-mae:5.61312\n",
      "[2]\tvalidation_0-mae:5.70319\n",
      "[3]\tvalidation_0-mae:5.78188\n",
      "[4]\tvalidation_0-mae:5.89713\n",
      "[5]\tvalidation_0-mae:5.99358\n"
     ]
    },
    {
     "name": "stderr",
     "output_type": "stream",
     "text": [
      "D:\\Anaconda3\\lib\\site-packages\\xgboost\\sklearn.py:793: UserWarning: `early_stopping_rounds` in `fit` method is deprecated for better compatibility with scikit-learn, use `early_stopping_rounds` in constructor or`set_params` instead.\n",
      "  warnings.warn(\n",
      "D:\\Anaconda3\\lib\\site-packages\\xgboost\\sklearn.py:793: UserWarning: `early_stopping_rounds` in `fit` method is deprecated for better compatibility with scikit-learn, use `early_stopping_rounds` in constructor or`set_params` instead.\n",
      "  warnings.warn(\n"
     ]
    },
    {
     "name": "stdout",
     "output_type": "stream",
     "text": [
      "[0]\tvalidation_0-mae:5.54543\n",
      "[1]\tvalidation_0-mae:5.62797\n",
      "[2]\tvalidation_0-mae:5.71715\n",
      "[3]\tvalidation_0-mae:5.82422\n",
      "[4]\tvalidation_0-mae:5.94062\n",
      "[0]\tvalidation_0-mae:5.51943\n",
      "[1]\tvalidation_0-mae:5.59220\n",
      "[2]\tvalidation_0-mae:5.67504\n",
      "[3]\tvalidation_0-mae:5.76509\n",
      "[4]\tvalidation_0-mae:5.85412\n"
     ]
    },
    {
     "name": "stderr",
     "output_type": "stream",
     "text": [
      "D:\\Anaconda3\\lib\\site-packages\\xgboost\\sklearn.py:793: UserWarning: `early_stopping_rounds` in `fit` method is deprecated for better compatibility with scikit-learn, use `early_stopping_rounds` in constructor or`set_params` instead.\n",
      "  warnings.warn(\n",
      "D:\\Anaconda3\\lib\\site-packages\\xgboost\\sklearn.py:793: UserWarning: `early_stopping_rounds` in `fit` method is deprecated for better compatibility with scikit-learn, use `early_stopping_rounds` in constructor or`set_params` instead.\n",
      "  warnings.warn(\n"
     ]
    },
    {
     "name": "stdout",
     "output_type": "stream",
     "text": [
      "[0]\tvalidation_0-mae:5.53796\n",
      "[1]\tvalidation_0-mae:5.62707\n",
      "[2]\tvalidation_0-mae:5.73347\n",
      "[3]\tvalidation_0-mae:5.83712\n",
      "[4]\tvalidation_0-mae:5.95774\n",
      "[0]\tvalidation_0-mae:5.51595\n",
      "[1]\tvalidation_0-mae:5.59511\n",
      "[2]\tvalidation_0-mae:5.68678\n",
      "[3]\tvalidation_0-mae:5.77543\n",
      "[4]\tvalidation_0-mae:5.86154\n",
      "[5]\tvalidation_0-mae:5.94978\n"
     ]
    },
    {
     "name": "stderr",
     "output_type": "stream",
     "text": [
      "D:\\Anaconda3\\lib\\site-packages\\xgboost\\sklearn.py:793: UserWarning: `early_stopping_rounds` in `fit` method is deprecated for better compatibility with scikit-learn, use `early_stopping_rounds` in constructor or`set_params` instead.\n",
      "  warnings.warn(\n",
      "D:\\Anaconda3\\lib\\site-packages\\xgboost\\sklearn.py:793: UserWarning: `early_stopping_rounds` in `fit` method is deprecated for better compatibility with scikit-learn, use `early_stopping_rounds` in constructor or`set_params` instead.\n",
      "  warnings.warn(\n"
     ]
    },
    {
     "name": "stdout",
     "output_type": "stream",
     "text": [
      "[0]\tvalidation_0-mae:5.54072\n",
      "[1]\tvalidation_0-mae:5.64874\n",
      "[2]\tvalidation_0-mae:5.75240\n",
      "[3]\tvalidation_0-mae:5.85887\n",
      "[4]\tvalidation_0-mae:5.97421\n",
      "[0]\tvalidation_0-mae:5.52386\n",
      "[1]\tvalidation_0-mae:5.61312\n",
      "[2]\tvalidation_0-mae:5.70319\n",
      "[3]\tvalidation_0-mae:5.78188\n",
      "[4]\tvalidation_0-mae:5.89713\n"
     ]
    },
    {
     "name": "stderr",
     "output_type": "stream",
     "text": [
      "D:\\Anaconda3\\lib\\site-packages\\xgboost\\sklearn.py:793: UserWarning: `early_stopping_rounds` in `fit` method is deprecated for better compatibility with scikit-learn, use `early_stopping_rounds` in constructor or`set_params` instead.\n",
      "  warnings.warn(\n",
      "D:\\Anaconda3\\lib\\site-packages\\xgboost\\sklearn.py:793: UserWarning: `early_stopping_rounds` in `fit` method is deprecated for better compatibility with scikit-learn, use `early_stopping_rounds` in constructor or`set_params` instead.\n",
      "  warnings.warn(\n",
      "D:\\Anaconda3\\lib\\site-packages\\xgboost\\sklearn.py:793: UserWarning: `early_stopping_rounds` in `fit` method is deprecated for better compatibility with scikit-learn, use `early_stopping_rounds` in constructor or`set_params` instead.\n",
      "  warnings.warn(\n"
     ]
    },
    {
     "name": "stdout",
     "output_type": "stream",
     "text": [
      "[0]\tvalidation_0-mae:5.54543\n",
      "[1]\tvalidation_0-mae:5.62797\n",
      "[2]\tvalidation_0-mae:5.71715\n",
      "[3]\tvalidation_0-mae:5.82422\n",
      "[4]\tvalidation_0-mae:5.94062\n",
      "[5]\tvalidation_0-mae:6.04335\n",
      "[0]\tvalidation_0-mae:5.51943\n",
      "[1]\tvalidation_0-mae:5.59220\n",
      "[2]\tvalidation_0-mae:5.67504\n",
      "[3]\tvalidation_0-mae:5.76509\n",
      "[4]\tvalidation_0-mae:5.85412\n",
      "[5]\tvalidation_0-mae:5.94676\n",
      "[0]\tvalidation_0-mae:5.53796\n",
      "[1]\tvalidation_0-mae:5.62707\n",
      "[2]\tvalidation_0-mae:5.73347\n",
      "[3]\tvalidation_0-mae:5.83712\n",
      "[4]\tvalidation_0-mae:5.95774\n"
     ]
    },
    {
     "name": "stderr",
     "output_type": "stream",
     "text": [
      "D:\\Anaconda3\\lib\\site-packages\\xgboost\\sklearn.py:793: UserWarning: `early_stopping_rounds` in `fit` method is deprecated for better compatibility with scikit-learn, use `early_stopping_rounds` in constructor or`set_params` instead.\n",
      "  warnings.warn(\n",
      "D:\\Anaconda3\\lib\\site-packages\\xgboost\\sklearn.py:793: UserWarning: `early_stopping_rounds` in `fit` method is deprecated for better compatibility with scikit-learn, use `early_stopping_rounds` in constructor or`set_params` instead.\n",
      "  warnings.warn(\n"
     ]
    },
    {
     "name": "stdout",
     "output_type": "stream",
     "text": [
      "[0]\tvalidation_0-mae:5.51595\n",
      "[1]\tvalidation_0-mae:5.59511\n",
      "[2]\tvalidation_0-mae:5.68678\n",
      "[3]\tvalidation_0-mae:5.77543\n",
      "[4]\tvalidation_0-mae:5.86154\n",
      "[5]\tvalidation_0-mae:5.94978\n",
      "[0]\tvalidation_0-mae:5.54072\n",
      "[1]\tvalidation_0-mae:5.64874\n",
      "[2]\tvalidation_0-mae:5.75240\n",
      "[3]\tvalidation_0-mae:5.85887\n",
      "[4]\tvalidation_0-mae:5.97421\n"
     ]
    },
    {
     "name": "stderr",
     "output_type": "stream",
     "text": [
      "D:\\Anaconda3\\lib\\site-packages\\xgboost\\sklearn.py:793: UserWarning: `early_stopping_rounds` in `fit` method is deprecated for better compatibility with scikit-learn, use `early_stopping_rounds` in constructor or`set_params` instead.\n",
      "  warnings.warn(\n",
      "D:\\Anaconda3\\lib\\site-packages\\xgboost\\sklearn.py:793: UserWarning: `early_stopping_rounds` in `fit` method is deprecated for better compatibility with scikit-learn, use `early_stopping_rounds` in constructor or`set_params` instead.\n",
      "  warnings.warn(\n",
      "D:\\Anaconda3\\lib\\site-packages\\xgboost\\sklearn.py:793: UserWarning: `early_stopping_rounds` in `fit` method is deprecated for better compatibility with scikit-learn, use `early_stopping_rounds` in constructor or`set_params` instead.\n",
      "  warnings.warn(\n"
     ]
    },
    {
     "name": "stdout",
     "output_type": "stream",
     "text": [
      "[0]\tvalidation_0-mae:5.52386\n",
      "[1]\tvalidation_0-mae:5.61312\n",
      "[2]\tvalidation_0-mae:5.70319\n",
      "[3]\tvalidation_0-mae:5.78188\n",
      "[4]\tvalidation_0-mae:5.89713\n",
      "[5]\tvalidation_0-mae:5.99358\n",
      "[0]\tvalidation_0-mae:5.54543\n",
      "[1]\tvalidation_0-mae:5.62797\n",
      "[2]\tvalidation_0-mae:5.71715\n",
      "[3]\tvalidation_0-mae:5.82422\n",
      "[4]\tvalidation_0-mae:5.94062\n",
      "[0]\tvalidation_0-mae:5.51943\n",
      "[1]\tvalidation_0-mae:5.59220\n",
      "[2]\tvalidation_0-mae:5.67504\n",
      "[3]\tvalidation_0-mae:5.76509\n",
      "[4]\tvalidation_0-mae:5.85412\n"
     ]
    },
    {
     "name": "stderr",
     "output_type": "stream",
     "text": [
      "D:\\Anaconda3\\lib\\site-packages\\xgboost\\sklearn.py:793: UserWarning: `early_stopping_rounds` in `fit` method is deprecated for better compatibility with scikit-learn, use `early_stopping_rounds` in constructor or`set_params` instead.\n",
      "  warnings.warn(\n",
      "D:\\Anaconda3\\lib\\site-packages\\xgboost\\sklearn.py:793: UserWarning: `early_stopping_rounds` in `fit` method is deprecated for better compatibility with scikit-learn, use `early_stopping_rounds` in constructor or`set_params` instead.\n",
      "  warnings.warn(\n"
     ]
    },
    {
     "name": "stdout",
     "output_type": "stream",
     "text": [
      "[0]\tvalidation_0-mae:5.53796\n",
      "[1]\tvalidation_0-mae:5.62707\n",
      "[2]\tvalidation_0-mae:5.73347\n",
      "[3]\tvalidation_0-mae:5.83712\n",
      "[4]\tvalidation_0-mae:5.95774\n",
      "[0]\tvalidation_0-mae:5.51595\n",
      "[1]\tvalidation_0-mae:5.59511\n",
      "[2]\tvalidation_0-mae:5.68678\n",
      "[3]\tvalidation_0-mae:5.77543\n",
      "[4]\tvalidation_0-mae:5.86154\n",
      "[5]\tvalidation_0-mae:5.94978\n"
     ]
    },
    {
     "name": "stderr",
     "output_type": "stream",
     "text": [
      "D:\\Anaconda3\\lib\\site-packages\\xgboost\\sklearn.py:793: UserWarning: `early_stopping_rounds` in `fit` method is deprecated for better compatibility with scikit-learn, use `early_stopping_rounds` in constructor or`set_params` instead.\n",
      "  warnings.warn(\n",
      "D:\\Anaconda3\\lib\\site-packages\\xgboost\\sklearn.py:793: UserWarning: `early_stopping_rounds` in `fit` method is deprecated for better compatibility with scikit-learn, use `early_stopping_rounds` in constructor or`set_params` instead.\n",
      "  warnings.warn(\n"
     ]
    },
    {
     "name": "stdout",
     "output_type": "stream",
     "text": [
      "[0]\tvalidation_0-mae:5.54072\n",
      "[1]\tvalidation_0-mae:5.64874\n",
      "[2]\tvalidation_0-mae:5.75240\n",
      "[3]\tvalidation_0-mae:5.85887\n",
      "[4]\tvalidation_0-mae:5.97421\n",
      "[0]\tvalidation_0-mae:5.52204\n",
      "[1]\tvalidation_0-mae:5.60246\n",
      "[2]\tvalidation_0-mae:5.68674\n",
      "[3]\tvalidation_0-mae:5.77171\n",
      "[4]\tvalidation_0-mae:5.89241\n"
     ]
    },
    {
     "name": "stderr",
     "output_type": "stream",
     "text": [
      "D:\\Anaconda3\\lib\\site-packages\\xgboost\\sklearn.py:793: UserWarning: `early_stopping_rounds` in `fit` method is deprecated for better compatibility with scikit-learn, use `early_stopping_rounds` in constructor or`set_params` instead.\n",
      "  warnings.warn(\n",
      "D:\\Anaconda3\\lib\\site-packages\\xgboost\\sklearn.py:793: UserWarning: `early_stopping_rounds` in `fit` method is deprecated for better compatibility with scikit-learn, use `early_stopping_rounds` in constructor or`set_params` instead.\n",
      "  warnings.warn(\n",
      "D:\\Anaconda3\\lib\\site-packages\\xgboost\\sklearn.py:793: UserWarning: `early_stopping_rounds` in `fit` method is deprecated for better compatibility with scikit-learn, use `early_stopping_rounds` in constructor or`set_params` instead.\n",
      "  warnings.warn(\n"
     ]
    },
    {
     "name": "stdout",
     "output_type": "stream",
     "text": [
      "[0]\tvalidation_0-mae:5.55489\n",
      "[1]\tvalidation_0-mae:5.63359\n",
      "[2]\tvalidation_0-mae:5.72252\n",
      "[3]\tvalidation_0-mae:5.83926\n",
      "[4]\tvalidation_0-mae:5.96187\n",
      "[5]\tvalidation_0-mae:6.05137\n",
      "[0]\tvalidation_0-mae:5.50958\n",
      "[1]\tvalidation_0-mae:5.58399\n",
      "[2]\tvalidation_0-mae:5.66693\n",
      "[3]\tvalidation_0-mae:5.74833\n",
      "[4]\tvalidation_0-mae:5.84057\n",
      "[5]\tvalidation_0-mae:5.93247\n",
      "[0]\tvalidation_0-mae:5.53697\n",
      "[1]\tvalidation_0-mae:5.62819\n",
      "[2]\tvalidation_0-mae:5.72941\n",
      "[3]\tvalidation_0-mae:5.84192\n",
      "[4]\tvalidation_0-mae:5.94770\n"
     ]
    },
    {
     "name": "stderr",
     "output_type": "stream",
     "text": [
      "D:\\Anaconda3\\lib\\site-packages\\xgboost\\sklearn.py:793: UserWarning: `early_stopping_rounds` in `fit` method is deprecated for better compatibility with scikit-learn, use `early_stopping_rounds` in constructor or`set_params` instead.\n",
      "  warnings.warn(\n",
      "D:\\Anaconda3\\lib\\site-packages\\xgboost\\sklearn.py:793: UserWarning: `early_stopping_rounds` in `fit` method is deprecated for better compatibility with scikit-learn, use `early_stopping_rounds` in constructor or`set_params` instead.\n",
      "  warnings.warn(\n"
     ]
    },
    {
     "name": "stdout",
     "output_type": "stream",
     "text": [
      "[0]\tvalidation_0-mae:5.50203\n",
      "[1]\tvalidation_0-mae:5.58087\n",
      "[2]\tvalidation_0-mae:5.66826\n",
      "[3]\tvalidation_0-mae:5.75275\n",
      "[4]\tvalidation_0-mae:5.83772\n",
      "[0]\tvalidation_0-mae:5.52423\n",
      "[1]\tvalidation_0-mae:5.62252\n",
      "[2]\tvalidation_0-mae:5.72287\n",
      "[3]\tvalidation_0-mae:5.84256\n",
      "[4]\tvalidation_0-mae:5.95509\n",
      "[5]\tvalidation_0-mae:6.07970\n"
     ]
    },
    {
     "name": "stderr",
     "output_type": "stream",
     "text": [
      "D:\\Anaconda3\\lib\\site-packages\\xgboost\\sklearn.py:793: UserWarning: `early_stopping_rounds` in `fit` method is deprecated for better compatibility with scikit-learn, use `early_stopping_rounds` in constructor or`set_params` instead.\n",
      "  warnings.warn(\n",
      "D:\\Anaconda3\\lib\\site-packages\\xgboost\\sklearn.py:793: UserWarning: `early_stopping_rounds` in `fit` method is deprecated for better compatibility with scikit-learn, use `early_stopping_rounds` in constructor or`set_params` instead.\n",
      "  warnings.warn(\n"
     ]
    },
    {
     "name": "stdout",
     "output_type": "stream",
     "text": [
      "[0]\tvalidation_0-mae:5.52204\n",
      "[1]\tvalidation_0-mae:5.60246\n",
      "[2]\tvalidation_0-mae:5.68674\n",
      "[3]\tvalidation_0-mae:5.77171\n",
      "[4]\tvalidation_0-mae:5.89241\n",
      "[0]\tvalidation_0-mae:5.55489\n",
      "[1]\tvalidation_0-mae:5.63359\n",
      "[2]\tvalidation_0-mae:5.72252\n",
      "[3]\tvalidation_0-mae:5.83926\n",
      "[4]\tvalidation_0-mae:5.96187\n",
      "[5]\tvalidation_0-mae:6.05137\n"
     ]
    },
    {
     "name": "stderr",
     "output_type": "stream",
     "text": [
      "D:\\Anaconda3\\lib\\site-packages\\xgboost\\sklearn.py:793: UserWarning: `early_stopping_rounds` in `fit` method is deprecated for better compatibility with scikit-learn, use `early_stopping_rounds` in constructor or`set_params` instead.\n",
      "  warnings.warn(\n",
      "D:\\Anaconda3\\lib\\site-packages\\xgboost\\sklearn.py:793: UserWarning: `early_stopping_rounds` in `fit` method is deprecated for better compatibility with scikit-learn, use `early_stopping_rounds` in constructor or`set_params` instead.\n",
      "  warnings.warn(\n"
     ]
    },
    {
     "name": "stdout",
     "output_type": "stream",
     "text": [
      "[0]\tvalidation_0-mae:5.50958\n",
      "[1]\tvalidation_0-mae:5.58399\n",
      "[2]\tvalidation_0-mae:5.66693\n",
      "[3]\tvalidation_0-mae:5.74833\n",
      "[4]\tvalidation_0-mae:5.84057\n",
      "[5]\tvalidation_0-mae:5.93247\n",
      "[0]\tvalidation_0-mae:5.53697\n",
      "[1]\tvalidation_0-mae:5.62819\n",
      "[2]\tvalidation_0-mae:5.72941\n",
      "[3]\tvalidation_0-mae:5.84192\n",
      "[4]\tvalidation_0-mae:5.94770\n",
      "[5]\tvalidation_0-mae:6.05978\n"
     ]
    },
    {
     "name": "stderr",
     "output_type": "stream",
     "text": [
      "D:\\Anaconda3\\lib\\site-packages\\xgboost\\sklearn.py:793: UserWarning: `early_stopping_rounds` in `fit` method is deprecated for better compatibility with scikit-learn, use `early_stopping_rounds` in constructor or`set_params` instead.\n",
      "  warnings.warn(\n",
      "D:\\Anaconda3\\lib\\site-packages\\xgboost\\sklearn.py:793: UserWarning: `early_stopping_rounds` in `fit` method is deprecated for better compatibility with scikit-learn, use `early_stopping_rounds` in constructor or`set_params` instead.\n",
      "  warnings.warn(\n"
     ]
    },
    {
     "name": "stdout",
     "output_type": "stream",
     "text": [
      "[0]\tvalidation_0-mae:5.50203\n",
      "[1]\tvalidation_0-mae:5.58087\n",
      "[2]\tvalidation_0-mae:5.66826\n",
      "[3]\tvalidation_0-mae:5.75275\n",
      "[4]\tvalidation_0-mae:5.83772\n",
      "[0]\tvalidation_0-mae:5.52423\n",
      "[1]\tvalidation_0-mae:5.62252\n",
      "[2]\tvalidation_0-mae:5.72287\n",
      "[3]\tvalidation_0-mae:5.84256\n",
      "[4]\tvalidation_0-mae:5.95509\n",
      "[5]\tvalidation_0-mae:6.07970\n"
     ]
    },
    {
     "name": "stderr",
     "output_type": "stream",
     "text": [
      "D:\\Anaconda3\\lib\\site-packages\\xgboost\\sklearn.py:793: UserWarning: `early_stopping_rounds` in `fit` method is deprecated for better compatibility with scikit-learn, use `early_stopping_rounds` in constructor or`set_params` instead.\n",
      "  warnings.warn(\n",
      "D:\\Anaconda3\\lib\\site-packages\\xgboost\\sklearn.py:793: UserWarning: `early_stopping_rounds` in `fit` method is deprecated for better compatibility with scikit-learn, use `early_stopping_rounds` in constructor or`set_params` instead.\n",
      "  warnings.warn(\n"
     ]
    },
    {
     "name": "stdout",
     "output_type": "stream",
     "text": [
      "[0]\tvalidation_0-mae:5.52204\n",
      "[1]\tvalidation_0-mae:5.60246\n",
      "[2]\tvalidation_0-mae:5.68674\n",
      "[3]\tvalidation_0-mae:5.77171\n",
      "[4]\tvalidation_0-mae:5.89241\n",
      "[5]\tvalidation_0-mae:5.99221\n",
      "[0]\tvalidation_0-mae:5.55489\n",
      "[1]\tvalidation_0-mae:5.63359\n",
      "[2]\tvalidation_0-mae:5.72252\n",
      "[3]\tvalidation_0-mae:5.83926\n",
      "[4]\tvalidation_0-mae:5.96187\n"
     ]
    },
    {
     "name": "stderr",
     "output_type": "stream",
     "text": [
      "D:\\Anaconda3\\lib\\site-packages\\xgboost\\sklearn.py:793: UserWarning: `early_stopping_rounds` in `fit` method is deprecated for better compatibility with scikit-learn, use `early_stopping_rounds` in constructor or`set_params` instead.\n",
      "  warnings.warn(\n",
      "D:\\Anaconda3\\lib\\site-packages\\xgboost\\sklearn.py:793: UserWarning: `early_stopping_rounds` in `fit` method is deprecated for better compatibility with scikit-learn, use `early_stopping_rounds` in constructor or`set_params` instead.\n",
      "  warnings.warn(\n"
     ]
    },
    {
     "name": "stdout",
     "output_type": "stream",
     "text": [
      "[0]\tvalidation_0-mae:5.50958\n",
      "[1]\tvalidation_0-mae:5.58399\n",
      "[2]\tvalidation_0-mae:5.66693\n",
      "[3]\tvalidation_0-mae:5.74833\n",
      "[4]\tvalidation_0-mae:5.84057\n",
      "[5]\tvalidation_0-mae:5.93247\n",
      "[0]\tvalidation_0-mae:5.53697\n",
      "[1]\tvalidation_0-mae:5.62819\n",
      "[2]\tvalidation_0-mae:5.72941\n",
      "[3]\tvalidation_0-mae:5.84192\n",
      "[4]\tvalidation_0-mae:5.94770\n"
     ]
    },
    {
     "name": "stderr",
     "output_type": "stream",
     "text": [
      "D:\\Anaconda3\\lib\\site-packages\\xgboost\\sklearn.py:793: UserWarning: `early_stopping_rounds` in `fit` method is deprecated for better compatibility with scikit-learn, use `early_stopping_rounds` in constructor or`set_params` instead.\n",
      "  warnings.warn(\n",
      "D:\\Anaconda3\\lib\\site-packages\\xgboost\\sklearn.py:793: UserWarning: `early_stopping_rounds` in `fit` method is deprecated for better compatibility with scikit-learn, use `early_stopping_rounds` in constructor or`set_params` instead.\n",
      "  warnings.warn(\n"
     ]
    },
    {
     "name": "stdout",
     "output_type": "stream",
     "text": [
      "[0]\tvalidation_0-mae:5.50203\n",
      "[1]\tvalidation_0-mae:5.58087\n",
      "[2]\tvalidation_0-mae:5.66826\n",
      "[3]\tvalidation_0-mae:5.75275\n",
      "[4]\tvalidation_0-mae:5.83772\n",
      "[5]\tvalidation_0-mae:5.92507\n",
      "[0]\tvalidation_0-mae:5.52423\n",
      "[1]\tvalidation_0-mae:5.62252\n",
      "[2]\tvalidation_0-mae:5.72287\n",
      "[3]\tvalidation_0-mae:5.84256\n",
      "[4]\tvalidation_0-mae:5.95509\n"
     ]
    },
    {
     "name": "stderr",
     "output_type": "stream",
     "text": [
      "D:\\Anaconda3\\lib\\site-packages\\xgboost\\sklearn.py:793: UserWarning: `early_stopping_rounds` in `fit` method is deprecated for better compatibility with scikit-learn, use `early_stopping_rounds` in constructor or`set_params` instead.\n",
      "  warnings.warn(\n",
      "D:\\Anaconda3\\lib\\site-packages\\xgboost\\sklearn.py:793: UserWarning: `early_stopping_rounds` in `fit` method is deprecated for better compatibility with scikit-learn, use `early_stopping_rounds` in constructor or`set_params` instead.\n",
      "  warnings.warn(\n"
     ]
    },
    {
     "name": "stdout",
     "output_type": "stream",
     "text": [
      "[0]\tvalidation_0-mae:5.50862\n",
      "[1]\tvalidation_0-mae:5.59705\n",
      "[2]\tvalidation_0-mae:5.68174\n",
      "[3]\tvalidation_0-mae:5.77013\n",
      "[4]\tvalidation_0-mae:5.87658\n",
      "[5]\tvalidation_0-mae:5.95726\n",
      "[0]\tvalidation_0-mae:5.55940\n",
      "[1]\tvalidation_0-mae:5.63841\n",
      "[2]\tvalidation_0-mae:5.71889\n",
      "[3]\tvalidation_0-mae:5.83538\n",
      "[4]\tvalidation_0-mae:5.93293\n",
      "[5]\tvalidation_0-mae:6.02821\n"
     ]
    },
    {
     "name": "stderr",
     "output_type": "stream",
     "text": [
      "D:\\Anaconda3\\lib\\site-packages\\xgboost\\sklearn.py:793: UserWarning: `early_stopping_rounds` in `fit` method is deprecated for better compatibility with scikit-learn, use `early_stopping_rounds` in constructor or`set_params` instead.\n",
      "  warnings.warn(\n",
      "D:\\Anaconda3\\lib\\site-packages\\xgboost\\sklearn.py:793: UserWarning: `early_stopping_rounds` in `fit` method is deprecated for better compatibility with scikit-learn, use `early_stopping_rounds` in constructor or`set_params` instead.\n",
      "  warnings.warn(\n"
     ]
    },
    {
     "name": "stdout",
     "output_type": "stream",
     "text": [
      "[0]\tvalidation_0-mae:5.50850\n",
      "[1]\tvalidation_0-mae:5.58842\n",
      "[2]\tvalidation_0-mae:5.67142\n",
      "[3]\tvalidation_0-mae:5.75420\n",
      "[4]\tvalidation_0-mae:5.84493\n",
      "[5]\tvalidation_0-mae:5.93450\n",
      "[0]\tvalidation_0-mae:5.53589\n",
      "[1]\tvalidation_0-mae:5.61968\n",
      "[2]\tvalidation_0-mae:5.71396\n",
      "[3]\tvalidation_0-mae:5.82723\n",
      "[4]\tvalidation_0-mae:5.93345\n"
     ]
    },
    {
     "name": "stderr",
     "output_type": "stream",
     "text": [
      "D:\\Anaconda3\\lib\\site-packages\\xgboost\\sklearn.py:793: UserWarning: `early_stopping_rounds` in `fit` method is deprecated for better compatibility with scikit-learn, use `early_stopping_rounds` in constructor or`set_params` instead.\n",
      "  warnings.warn(\n",
      "D:\\Anaconda3\\lib\\site-packages\\xgboost\\sklearn.py:793: UserWarning: `early_stopping_rounds` in `fit` method is deprecated for better compatibility with scikit-learn, use `early_stopping_rounds` in constructor or`set_params` instead.\n",
      "  warnings.warn(\n"
     ]
    },
    {
     "name": "stdout",
     "output_type": "stream",
     "text": [
      "[0]\tvalidation_0-mae:5.50683\n",
      "[1]\tvalidation_0-mae:5.58229\n",
      "[2]\tvalidation_0-mae:5.67657\n",
      "[3]\tvalidation_0-mae:5.76351\n",
      "[4]\tvalidation_0-mae:5.85030\n",
      "[0]\tvalidation_0-mae:5.52584\n",
      "[1]\tvalidation_0-mae:5.61598\n",
      "[2]\tvalidation_0-mae:5.72213\n",
      "[3]\tvalidation_0-mae:5.84452\n",
      "[4]\tvalidation_0-mae:5.94552\n"
     ]
    },
    {
     "name": "stderr",
     "output_type": "stream",
     "text": [
      "D:\\Anaconda3\\lib\\site-packages\\xgboost\\sklearn.py:793: UserWarning: `early_stopping_rounds` in `fit` method is deprecated for better compatibility with scikit-learn, use `early_stopping_rounds` in constructor or`set_params` instead.\n",
      "  warnings.warn(\n",
      "D:\\Anaconda3\\lib\\site-packages\\xgboost\\sklearn.py:793: UserWarning: `early_stopping_rounds` in `fit` method is deprecated for better compatibility with scikit-learn, use `early_stopping_rounds` in constructor or`set_params` instead.\n",
      "  warnings.warn(\n"
     ]
    },
    {
     "name": "stdout",
     "output_type": "stream",
     "text": [
      "[0]\tvalidation_0-mae:5.50862\n",
      "[1]\tvalidation_0-mae:5.59705\n",
      "[2]\tvalidation_0-mae:5.68174\n",
      "[3]\tvalidation_0-mae:5.77013\n",
      "[4]\tvalidation_0-mae:5.87658\n",
      "[5]\tvalidation_0-mae:5.95726\n",
      "[0]\tvalidation_0-mae:5.55940\n",
      "[1]\tvalidation_0-mae:5.63841\n",
      "[2]\tvalidation_0-mae:5.71889\n",
      "[3]\tvalidation_0-mae:5.83538\n",
      "[4]\tvalidation_0-mae:5.93293\n"
     ]
    },
    {
     "name": "stderr",
     "output_type": "stream",
     "text": [
      "D:\\Anaconda3\\lib\\site-packages\\xgboost\\sklearn.py:793: UserWarning: `early_stopping_rounds` in `fit` method is deprecated for better compatibility with scikit-learn, use `early_stopping_rounds` in constructor or`set_params` instead.\n",
      "  warnings.warn(\n",
      "D:\\Anaconda3\\lib\\site-packages\\xgboost\\sklearn.py:793: UserWarning: `early_stopping_rounds` in `fit` method is deprecated for better compatibility with scikit-learn, use `early_stopping_rounds` in constructor or`set_params` instead.\n",
      "  warnings.warn(\n"
     ]
    },
    {
     "name": "stdout",
     "output_type": "stream",
     "text": [
      "[0]\tvalidation_0-mae:5.50850\n",
      "[1]\tvalidation_0-mae:5.58842\n",
      "[2]\tvalidation_0-mae:5.67142\n",
      "[3]\tvalidation_0-mae:5.75420\n",
      "[4]\tvalidation_0-mae:5.84493\n",
      "[0]\tvalidation_0-mae:5.53589\n",
      "[1]\tvalidation_0-mae:5.61968\n",
      "[2]\tvalidation_0-mae:5.71396\n",
      "[3]\tvalidation_0-mae:5.82723\n",
      "[4]\tvalidation_0-mae:5.93345\n",
      "[5]\tvalidation_0-mae:6.04139\n"
     ]
    },
    {
     "name": "stderr",
     "output_type": "stream",
     "text": [
      "D:\\Anaconda3\\lib\\site-packages\\xgboost\\sklearn.py:793: UserWarning: `early_stopping_rounds` in `fit` method is deprecated for better compatibility with scikit-learn, use `early_stopping_rounds` in constructor or`set_params` instead.\n",
      "  warnings.warn(\n",
      "D:\\Anaconda3\\lib\\site-packages\\xgboost\\sklearn.py:793: UserWarning: `early_stopping_rounds` in `fit` method is deprecated for better compatibility with scikit-learn, use `early_stopping_rounds` in constructor or`set_params` instead.\n",
      "  warnings.warn(\n"
     ]
    },
    {
     "name": "stdout",
     "output_type": "stream",
     "text": [
      "[0]\tvalidation_0-mae:5.50683\n",
      "[1]\tvalidation_0-mae:5.58229\n",
      "[2]\tvalidation_0-mae:5.67657\n",
      "[3]\tvalidation_0-mae:5.76351\n",
      "[4]\tvalidation_0-mae:5.85030\n",
      "[0]\tvalidation_0-mae:5.52584\n",
      "[1]\tvalidation_0-mae:5.61598\n",
      "[2]\tvalidation_0-mae:5.72213\n",
      "[3]\tvalidation_0-mae:5.84452\n",
      "[4]\tvalidation_0-mae:5.94552\n"
     ]
    },
    {
     "name": "stderr",
     "output_type": "stream",
     "text": [
      "D:\\Anaconda3\\lib\\site-packages\\xgboost\\sklearn.py:793: UserWarning: `early_stopping_rounds` in `fit` method is deprecated for better compatibility with scikit-learn, use `early_stopping_rounds` in constructor or`set_params` instead.\n",
      "  warnings.warn(\n",
      "D:\\Anaconda3\\lib\\site-packages\\xgboost\\sklearn.py:793: UserWarning: `early_stopping_rounds` in `fit` method is deprecated for better compatibility with scikit-learn, use `early_stopping_rounds` in constructor or`set_params` instead.\n",
      "  warnings.warn(\n"
     ]
    },
    {
     "name": "stdout",
     "output_type": "stream",
     "text": [
      "[0]\tvalidation_0-mae:5.50862\n",
      "[1]\tvalidation_0-mae:5.59705\n",
      "[2]\tvalidation_0-mae:5.68174\n",
      "[3]\tvalidation_0-mae:5.77013\n",
      "[4]\tvalidation_0-mae:5.87658\n",
      "[0]\tvalidation_0-mae:5.55940\n",
      "[1]\tvalidation_0-mae:5.63841\n",
      "[2]\tvalidation_0-mae:5.71889\n",
      "[3]\tvalidation_0-mae:5.83538\n",
      "[4]\tvalidation_0-mae:5.93293\n",
      "[5]\tvalidation_0-mae:6.02821\n"
     ]
    },
    {
     "name": "stderr",
     "output_type": "stream",
     "text": [
      "D:\\Anaconda3\\lib\\site-packages\\xgboost\\sklearn.py:793: UserWarning: `early_stopping_rounds` in `fit` method is deprecated for better compatibility with scikit-learn, use `early_stopping_rounds` in constructor or`set_params` instead.\n",
      "  warnings.warn(\n",
      "D:\\Anaconda3\\lib\\site-packages\\xgboost\\sklearn.py:793: UserWarning: `early_stopping_rounds` in `fit` method is deprecated for better compatibility with scikit-learn, use `early_stopping_rounds` in constructor or`set_params` instead.\n",
      "  warnings.warn(\n"
     ]
    },
    {
     "name": "stdout",
     "output_type": "stream",
     "text": [
      "[0]\tvalidation_0-mae:5.50850\n",
      "[1]\tvalidation_0-mae:5.58842\n",
      "[2]\tvalidation_0-mae:5.67142\n",
      "[3]\tvalidation_0-mae:5.75420\n",
      "[4]\tvalidation_0-mae:5.84493\n",
      "[5]\tvalidation_0-mae:5.93450\n",
      "[0]\tvalidation_0-mae:5.53589\n",
      "[1]\tvalidation_0-mae:5.61968\n",
      "[2]\tvalidation_0-mae:5.71396\n"
     ]
    },
    {
     "name": "stderr",
     "output_type": "stream",
     "text": [
      "D:\\Anaconda3\\lib\\site-packages\\xgboost\\sklearn.py:793: UserWarning: `early_stopping_rounds` in `fit` method is deprecated for better compatibility with scikit-learn, use `early_stopping_rounds` in constructor or`set_params` instead.\n",
      "  warnings.warn(\n",
      "D:\\Anaconda3\\lib\\site-packages\\xgboost\\sklearn.py:793: UserWarning: `early_stopping_rounds` in `fit` method is deprecated for better compatibility with scikit-learn, use `early_stopping_rounds` in constructor or`set_params` instead.\n",
      "  warnings.warn(\n"
     ]
    },
    {
     "name": "stdout",
     "output_type": "stream",
     "text": [
      "[3]\tvalidation_0-mae:5.82723\n",
      "[4]\tvalidation_0-mae:5.93345\n",
      "[0]\tvalidation_0-mae:5.50683\n",
      "[1]\tvalidation_0-mae:5.58229\n",
      "[2]\tvalidation_0-mae:5.67657\n",
      "[3]\tvalidation_0-mae:5.76351\n",
      "[4]\tvalidation_0-mae:5.85030\n",
      "[0]\tvalidation_0-mae:5.52584\n",
      "[1]\tvalidation_0-mae:5.61598\n",
      "[2]\tvalidation_0-mae:5.72213\n",
      "[3]\tvalidation_0-mae:5.84452\n",
      "[4]\tvalidation_0-mae:5.94552\n",
      "[5]\tvalidation_0-mae:6.05841\n"
     ]
    },
    {
     "name": "stderr",
     "output_type": "stream",
     "text": [
      "D:\\Anaconda3\\lib\\site-packages\\xgboost\\sklearn.py:793: UserWarning: `early_stopping_rounds` in `fit` method is deprecated for better compatibility with scikit-learn, use `early_stopping_rounds` in constructor or`set_params` instead.\n",
      "  warnings.warn(\n",
      "D:\\Anaconda3\\lib\\site-packages\\xgboost\\sklearn.py:793: UserWarning: `early_stopping_rounds` in `fit` method is deprecated for better compatibility with scikit-learn, use `early_stopping_rounds` in constructor or`set_params` instead.\n",
      "  warnings.warn(\n"
     ]
    },
    {
     "name": "stdout",
     "output_type": "stream",
     "text": [
      "[0]\tvalidation_0-mae:5.62978\n",
      "[1]\tvalidation_0-mae:5.82337\n",
      "[2]\tvalidation_0-mae:6.01450\n",
      "[3]\tvalidation_0-mae:6.18316\n",
      "[4]\tvalidation_0-mae:6.41048\n",
      "[0]\tvalidation_0-mae:5.66614\n",
      "[1]\tvalidation_0-mae:5.84396\n",
      "[2]\tvalidation_0-mae:6.03562\n",
      "[3]\tvalidation_0-mae:6.25630\n",
      "[4]\tvalidation_0-mae:6.48224\n",
      "[5]\tvalidation_0-mae:6.67227\n"
     ]
    },
    {
     "name": "stderr",
     "output_type": "stream",
     "text": [
      "D:\\Anaconda3\\lib\\site-packages\\xgboost\\sklearn.py:793: UserWarning: `early_stopping_rounds` in `fit` method is deprecated for better compatibility with scikit-learn, use `early_stopping_rounds` in constructor or`set_params` instead.\n",
      "  warnings.warn(\n",
      "D:\\Anaconda3\\lib\\site-packages\\xgboost\\sklearn.py:793: UserWarning: `early_stopping_rounds` in `fit` method is deprecated for better compatibility with scikit-learn, use `early_stopping_rounds` in constructor or`set_params` instead.\n",
      "  warnings.warn(\n"
     ]
    },
    {
     "name": "stdout",
     "output_type": "stream",
     "text": [
      "[0]\tvalidation_0-mae:5.61362\n",
      "[1]\tvalidation_0-mae:5.77335\n",
      "[2]\tvalidation_0-mae:5.94702\n",
      "[3]\tvalidation_0-mae:6.10294\n",
      "[4]\tvalidation_0-mae:6.28245\n",
      "[0]\tvalidation_0-mae:5.65018\n",
      "[1]\tvalidation_0-mae:5.85234\n",
      "[2]\tvalidation_0-mae:6.08416\n",
      "[3]\tvalidation_0-mae:6.29813\n",
      "[4]\tvalidation_0-mae:6.51546\n",
      "[5]\tvalidation_0-mae:6.70537\n"
     ]
    },
    {
     "name": "stderr",
     "output_type": "stream",
     "text": [
      "D:\\Anaconda3\\lib\\site-packages\\xgboost\\sklearn.py:793: UserWarning: `early_stopping_rounds` in `fit` method is deprecated for better compatibility with scikit-learn, use `early_stopping_rounds` in constructor or`set_params` instead.\n",
      "  warnings.warn(\n",
      "D:\\Anaconda3\\lib\\site-packages\\xgboost\\sklearn.py:793: UserWarning: `early_stopping_rounds` in `fit` method is deprecated for better compatibility with scikit-learn, use `early_stopping_rounds` in constructor or`set_params` instead.\n",
      "  warnings.warn(\n"
     ]
    },
    {
     "name": "stdout",
     "output_type": "stream",
     "text": [
      "[0]\tvalidation_0-mae:5.60038\n",
      "[1]\tvalidation_0-mae:5.77846\n",
      "[2]\tvalidation_0-mae:5.97104\n",
      "[3]\tvalidation_0-mae:6.15089\n",
      "[4]\tvalidation_0-mae:6.31794\n",
      "[0]\tvalidation_0-mae:5.65470\n",
      "[1]\tvalidation_0-mae:5.88840\n",
      "[2]\tvalidation_0-mae:6.09428\n",
      "[3]\tvalidation_0-mae:6.32513\n",
      "[4]\tvalidation_0-mae:6.53511\n"
     ]
    },
    {
     "name": "stderr",
     "output_type": "stream",
     "text": [
      "D:\\Anaconda3\\lib\\site-packages\\xgboost\\sklearn.py:793: UserWarning: `early_stopping_rounds` in `fit` method is deprecated for better compatibility with scikit-learn, use `early_stopping_rounds` in constructor or`set_params` instead.\n",
      "  warnings.warn(\n",
      "D:\\Anaconda3\\lib\\site-packages\\xgboost\\sklearn.py:793: UserWarning: `early_stopping_rounds` in `fit` method is deprecated for better compatibility with scikit-learn, use `early_stopping_rounds` in constructor or`set_params` instead.\n",
      "  warnings.warn(\n"
     ]
    },
    {
     "name": "stdout",
     "output_type": "stream",
     "text": [
      "[0]\tvalidation_0-mae:5.62978\n",
      "[1]\tvalidation_0-mae:5.82337\n",
      "[2]\tvalidation_0-mae:6.01450\n",
      "[3]\tvalidation_0-mae:6.18316\n",
      "[4]\tvalidation_0-mae:6.41048\n",
      "[0]\tvalidation_0-mae:5.66614\n",
      "[1]\tvalidation_0-mae:5.84396\n",
      "[2]\tvalidation_0-mae:6.03562\n",
      "[3]\tvalidation_0-mae:6.25630\n",
      "[4]\tvalidation_0-mae:6.48224\n",
      "[5]\tvalidation_0-mae:6.67227\n"
     ]
    },
    {
     "name": "stderr",
     "output_type": "stream",
     "text": [
      "D:\\Anaconda3\\lib\\site-packages\\xgboost\\sklearn.py:793: UserWarning: `early_stopping_rounds` in `fit` method is deprecated for better compatibility with scikit-learn, use `early_stopping_rounds` in constructor or`set_params` instead.\n",
      "  warnings.warn(\n",
      "D:\\Anaconda3\\lib\\site-packages\\xgboost\\sklearn.py:793: UserWarning: `early_stopping_rounds` in `fit` method is deprecated for better compatibility with scikit-learn, use `early_stopping_rounds` in constructor or`set_params` instead.\n",
      "  warnings.warn(\n"
     ]
    },
    {
     "name": "stdout",
     "output_type": "stream",
     "text": [
      "[0]\tvalidation_0-mae:5.61362\n",
      "[1]\tvalidation_0-mae:5.77335\n",
      "[2]\tvalidation_0-mae:5.94702\n",
      "[3]\tvalidation_0-mae:6.10294\n",
      "[4]\tvalidation_0-mae:6.28245\n",
      "[0]\tvalidation_0-mae:5.65018\n",
      "[1]\tvalidation_0-mae:5.85234\n",
      "[2]\tvalidation_0-mae:6.08416\n",
      "[3]\tvalidation_0-mae:6.29813\n",
      "[4]\tvalidation_0-mae:6.51546\n"
     ]
    },
    {
     "name": "stderr",
     "output_type": "stream",
     "text": [
      "D:\\Anaconda3\\lib\\site-packages\\xgboost\\sklearn.py:793: UserWarning: `early_stopping_rounds` in `fit` method is deprecated for better compatibility with scikit-learn, use `early_stopping_rounds` in constructor or`set_params` instead.\n",
      "  warnings.warn(\n",
      "D:\\Anaconda3\\lib\\site-packages\\xgboost\\sklearn.py:793: UserWarning: `early_stopping_rounds` in `fit` method is deprecated for better compatibility with scikit-learn, use `early_stopping_rounds` in constructor or`set_params` instead.\n",
      "  warnings.warn(\n"
     ]
    },
    {
     "name": "stdout",
     "output_type": "stream",
     "text": [
      "[0]\tvalidation_0-mae:5.60038\n",
      "[1]\tvalidation_0-mae:5.77846\n",
      "[2]\tvalidation_0-mae:5.97104\n",
      "[3]\tvalidation_0-mae:6.15089\n",
      "[4]\tvalidation_0-mae:6.31794\n",
      "[5]\tvalidation_0-mae:6.46288\n",
      "[0]\tvalidation_0-mae:5.65470\n",
      "[1]\tvalidation_0-mae:5.88840\n",
      "[2]\tvalidation_0-mae:6.09428\n",
      "[3]\tvalidation_0-mae:6.32513\n",
      "[4]\tvalidation_0-mae:6.53511\n",
      "[5]\tvalidation_0-mae:6.72622\n"
     ]
    },
    {
     "name": "stderr",
     "output_type": "stream",
     "text": [
      "D:\\Anaconda3\\lib\\site-packages\\xgboost\\sklearn.py:793: UserWarning: `early_stopping_rounds` in `fit` method is deprecated for better compatibility with scikit-learn, use `early_stopping_rounds` in constructor or`set_params` instead.\n",
      "  warnings.warn(\n",
      "D:\\Anaconda3\\lib\\site-packages\\xgboost\\sklearn.py:793: UserWarning: `early_stopping_rounds` in `fit` method is deprecated for better compatibility with scikit-learn, use `early_stopping_rounds` in constructor or`set_params` instead.\n",
      "  warnings.warn(\n"
     ]
    },
    {
     "name": "stdout",
     "output_type": "stream",
     "text": [
      "[0]\tvalidation_0-mae:5.62978\n",
      "[1]\tvalidation_0-mae:5.82337\n",
      "[2]\tvalidation_0-mae:6.01450\n",
      "[3]\tvalidation_0-mae:6.18316\n",
      "[4]\tvalidation_0-mae:6.41048\n",
      "[5]\tvalidation_0-mae:6.56109\n",
      "[0]\tvalidation_0-mae:5.66614\n",
      "[1]\tvalidation_0-mae:5.84396\n",
      "[2]\tvalidation_0-mae:6.03562\n",
      "[3]\tvalidation_0-mae:6.25630\n",
      "[4]\tvalidation_0-mae:6.48224\n"
     ]
    },
    {
     "name": "stderr",
     "output_type": "stream",
     "text": [
      "D:\\Anaconda3\\lib\\site-packages\\xgboost\\sklearn.py:793: UserWarning: `early_stopping_rounds` in `fit` method is deprecated for better compatibility with scikit-learn, use `early_stopping_rounds` in constructor or`set_params` instead.\n",
      "  warnings.warn(\n",
      "D:\\Anaconda3\\lib\\site-packages\\xgboost\\sklearn.py:793: UserWarning: `early_stopping_rounds` in `fit` method is deprecated for better compatibility with scikit-learn, use `early_stopping_rounds` in constructor or`set_params` instead.\n",
      "  warnings.warn(\n"
     ]
    },
    {
     "name": "stdout",
     "output_type": "stream",
     "text": [
      "[0]\tvalidation_0-mae:5.61362\n",
      "[1]\tvalidation_0-mae:5.77335\n",
      "[2]\tvalidation_0-mae:5.94702\n",
      "[3]\tvalidation_0-mae:6.10294\n",
      "[4]\tvalidation_0-mae:6.28245\n",
      "[0]\tvalidation_0-mae:5.65018\n",
      "[1]\tvalidation_0-mae:5.85234\n",
      "[2]\tvalidation_0-mae:6.08416\n",
      "[3]\tvalidation_0-mae:6.29813\n",
      "[4]\tvalidation_0-mae:6.51546\n"
     ]
    },
    {
     "name": "stderr",
     "output_type": "stream",
     "text": [
      "D:\\Anaconda3\\lib\\site-packages\\xgboost\\sklearn.py:793: UserWarning: `early_stopping_rounds` in `fit` method is deprecated for better compatibility with scikit-learn, use `early_stopping_rounds` in constructor or`set_params` instead.\n",
      "  warnings.warn(\n",
      "D:\\Anaconda3\\lib\\site-packages\\xgboost\\sklearn.py:793: UserWarning: `early_stopping_rounds` in `fit` method is deprecated for better compatibility with scikit-learn, use `early_stopping_rounds` in constructor or`set_params` instead.\n",
      "  warnings.warn(\n",
      "D:\\Anaconda3\\lib\\site-packages\\xgboost\\sklearn.py:793: UserWarning: `early_stopping_rounds` in `fit` method is deprecated for better compatibility with scikit-learn, use `early_stopping_rounds` in constructor or`set_params` instead.\n",
      "  warnings.warn(\n"
     ]
    },
    {
     "name": "stdout",
     "output_type": "stream",
     "text": [
      "[0]\tvalidation_0-mae:5.60038\n",
      "[1]\tvalidation_0-mae:5.77846\n",
      "[2]\tvalidation_0-mae:5.97104\n",
      "[3]\tvalidation_0-mae:6.15089\n",
      "[4]\tvalidation_0-mae:6.31794\n",
      "[5]\tvalidation_0-mae:6.46288\n",
      "[0]\tvalidation_0-mae:5.65470\n",
      "[1]\tvalidation_0-mae:5.88840\n",
      "[2]\tvalidation_0-mae:6.09428\n",
      "[3]\tvalidation_0-mae:6.32513\n",
      "[4]\tvalidation_0-mae:6.53511\n",
      "[0]\tvalidation_0-mae:5.61828\n",
      "[1]\tvalidation_0-mae:5.80357\n",
      "[2]\tvalidation_0-mae:5.99277\n",
      "[3]\tvalidation_0-mae:6.16793\n",
      "[4]\tvalidation_0-mae:6.41687\n"
     ]
    },
    {
     "name": "stderr",
     "output_type": "stream",
     "text": [
      "D:\\Anaconda3\\lib\\site-packages\\xgboost\\sklearn.py:793: UserWarning: `early_stopping_rounds` in `fit` method is deprecated for better compatibility with scikit-learn, use `early_stopping_rounds` in constructor or`set_params` instead.\n",
      "  warnings.warn(\n",
      "D:\\Anaconda3\\lib\\site-packages\\xgboost\\sklearn.py:793: UserWarning: `early_stopping_rounds` in `fit` method is deprecated for better compatibility with scikit-learn, use `early_stopping_rounds` in constructor or`set_params` instead.\n",
      "  warnings.warn(\n"
     ]
    },
    {
     "name": "stdout",
     "output_type": "stream",
     "text": [
      "[0]\tvalidation_0-mae:5.68999\n",
      "[1]\tvalidation_0-mae:5.86454\n",
      "[2]\tvalidation_0-mae:6.05619\n",
      "[3]\tvalidation_0-mae:6.29048\n",
      "[4]\tvalidation_0-mae:6.52062\n",
      "[0]\tvalidation_0-mae:5.59940\n",
      "[1]\tvalidation_0-mae:5.76951\n",
      "[2]\tvalidation_0-mae:5.95045\n",
      "[3]\tvalidation_0-mae:6.14362\n",
      "[4]\tvalidation_0-mae:6.32333\n"
     ]
    },
    {
     "name": "stderr",
     "output_type": "stream",
     "text": [
      "D:\\Anaconda3\\lib\\site-packages\\xgboost\\sklearn.py:793: UserWarning: `early_stopping_rounds` in `fit` method is deprecated for better compatibility with scikit-learn, use `early_stopping_rounds` in constructor or`set_params` instead.\n",
      "  warnings.warn(\n",
      "D:\\Anaconda3\\lib\\site-packages\\xgboost\\sklearn.py:793: UserWarning: `early_stopping_rounds` in `fit` method is deprecated for better compatibility with scikit-learn, use `early_stopping_rounds` in constructor or`set_params` instead.\n",
      "  warnings.warn(\n"
     ]
    },
    {
     "name": "stdout",
     "output_type": "stream",
     "text": [
      "[0]\tvalidation_0-mae:5.65525\n",
      "[1]\tvalidation_0-mae:5.85958\n",
      "[2]\tvalidation_0-mae:6.08696\n",
      "[3]\tvalidation_0-mae:6.28852\n",
      "[4]\tvalidation_0-mae:6.50670\n",
      "[5]\tvalidation_0-mae:6.69744\n",
      "[0]\tvalidation_0-mae:5.58262\n",
      "[1]\tvalidation_0-mae:5.75544\n",
      "[2]\tvalidation_0-mae:5.95413\n",
      "[3]\tvalidation_0-mae:6.12549\n",
      "[4]\tvalidation_0-mae:6.28834\n"
     ]
    },
    {
     "name": "stderr",
     "output_type": "stream",
     "text": [
      "D:\\Anaconda3\\lib\\site-packages\\xgboost\\sklearn.py:793: UserWarning: `early_stopping_rounds` in `fit` method is deprecated for better compatibility with scikit-learn, use `early_stopping_rounds` in constructor or`set_params` instead.\n",
      "  warnings.warn(\n",
      "D:\\Anaconda3\\lib\\site-packages\\xgboost\\sklearn.py:793: UserWarning: `early_stopping_rounds` in `fit` method is deprecated for better compatibility with scikit-learn, use `early_stopping_rounds` in constructor or`set_params` instead.\n",
      "  warnings.warn(\n"
     ]
    },
    {
     "name": "stdout",
     "output_type": "stream",
     "text": [
      "[5]\tvalidation_0-mae:6.43855\n",
      "[0]\tvalidation_0-mae:5.62906\n",
      "[1]\tvalidation_0-mae:5.87900\n",
      "[2]\tvalidation_0-mae:6.15812\n",
      "[3]\tvalidation_0-mae:6.35703\n",
      "[4]\tvalidation_0-mae:6.55981\n",
      "[5]\tvalidation_0-mae:6.73383\n",
      "[0]\tvalidation_0-mae:5.61828\n",
      "[1]\tvalidation_0-mae:5.80357\n",
      "[2]\tvalidation_0-mae:5.99277\n",
      "[3]\tvalidation_0-mae:6.16793\n",
      "[4]\tvalidation_0-mae:6.41687\n",
      "[5]\tvalidation_0-mae:6.58465\n"
     ]
    },
    {
     "name": "stderr",
     "output_type": "stream",
     "text": [
      "D:\\Anaconda3\\lib\\site-packages\\xgboost\\sklearn.py:793: UserWarning: `early_stopping_rounds` in `fit` method is deprecated for better compatibility with scikit-learn, use `early_stopping_rounds` in constructor or`set_params` instead.\n",
      "  warnings.warn(\n",
      "D:\\Anaconda3\\lib\\site-packages\\xgboost\\sklearn.py:793: UserWarning: `early_stopping_rounds` in `fit` method is deprecated for better compatibility with scikit-learn, use `early_stopping_rounds` in constructor or`set_params` instead.\n",
      "  warnings.warn(\n"
     ]
    },
    {
     "name": "stdout",
     "output_type": "stream",
     "text": [
      "[0]\tvalidation_0-mae:5.68999\n",
      "[1]\tvalidation_0-mae:5.86454\n",
      "[2]\tvalidation_0-mae:6.05619\n",
      "[3]\tvalidation_0-mae:6.29048\n",
      "[4]\tvalidation_0-mae:6.52062\n",
      "[0]\tvalidation_0-mae:5.59940\n",
      "[1]\tvalidation_0-mae:5.76951\n",
      "[2]\tvalidation_0-mae:5.95045\n",
      "[3]\tvalidation_0-mae:6.14362\n",
      "[4]\tvalidation_0-mae:6.32333\n"
     ]
    },
    {
     "name": "stderr",
     "output_type": "stream",
     "text": [
      "D:\\Anaconda3\\lib\\site-packages\\xgboost\\sklearn.py:793: UserWarning: `early_stopping_rounds` in `fit` method is deprecated for better compatibility with scikit-learn, use `early_stopping_rounds` in constructor or`set_params` instead.\n",
      "  warnings.warn(\n",
      "D:\\Anaconda3\\lib\\site-packages\\xgboost\\sklearn.py:793: UserWarning: `early_stopping_rounds` in `fit` method is deprecated for better compatibility with scikit-learn, use `early_stopping_rounds` in constructor or`set_params` instead.\n",
      "  warnings.warn(\n"
     ]
    },
    {
     "name": "stdout",
     "output_type": "stream",
     "text": [
      "[0]\tvalidation_0-mae:5.65525\n",
      "[1]\tvalidation_0-mae:5.85958\n",
      "[2]\tvalidation_0-mae:6.08696\n",
      "[3]\tvalidation_0-mae:6.28852\n",
      "[4]\tvalidation_0-mae:6.50670\n",
      "[0]\tvalidation_0-mae:5.58262\n",
      "[1]\tvalidation_0-mae:5.75544\n",
      "[2]\tvalidation_0-mae:5.95413\n",
      "[3]\tvalidation_0-mae:6.12549\n",
      "[4]\tvalidation_0-mae:6.28834\n"
     ]
    },
    {
     "name": "stderr",
     "output_type": "stream",
     "text": [
      "D:\\Anaconda3\\lib\\site-packages\\xgboost\\sklearn.py:793: UserWarning: `early_stopping_rounds` in `fit` method is deprecated for better compatibility with scikit-learn, use `early_stopping_rounds` in constructor or`set_params` instead.\n",
      "  warnings.warn(\n",
      "D:\\Anaconda3\\lib\\site-packages\\xgboost\\sklearn.py:793: UserWarning: `early_stopping_rounds` in `fit` method is deprecated for better compatibility with scikit-learn, use `early_stopping_rounds` in constructor or`set_params` instead.\n",
      "  warnings.warn(\n"
     ]
    },
    {
     "name": "stdout",
     "output_type": "stream",
     "text": [
      "[0]\tvalidation_0-mae:5.62906\n",
      "[1]\tvalidation_0-mae:5.87900\n",
      "[2]\tvalidation_0-mae:6.15812\n",
      "[3]\tvalidation_0-mae:6.35703\n",
      "[4]\tvalidation_0-mae:6.55981\n",
      "[5]\tvalidation_0-mae:6.73383\n",
      "[0]\tvalidation_0-mae:5.61828\n",
      "[1]\tvalidation_0-mae:5.80357\n",
      "[2]\tvalidation_0-mae:5.99277\n",
      "[3]\tvalidation_0-mae:6.16793\n",
      "[4]\tvalidation_0-mae:6.41687\n"
     ]
    },
    {
     "name": "stderr",
     "output_type": "stream",
     "text": [
      "D:\\Anaconda3\\lib\\site-packages\\xgboost\\sklearn.py:793: UserWarning: `early_stopping_rounds` in `fit` method is deprecated for better compatibility with scikit-learn, use `early_stopping_rounds` in constructor or`set_params` instead.\n",
      "  warnings.warn(\n",
      "D:\\Anaconda3\\lib\\site-packages\\xgboost\\sklearn.py:793: UserWarning: `early_stopping_rounds` in `fit` method is deprecated for better compatibility with scikit-learn, use `early_stopping_rounds` in constructor or`set_params` instead.\n",
      "  warnings.warn(\n"
     ]
    },
    {
     "name": "stdout",
     "output_type": "stream",
     "text": [
      "[0]\tvalidation_0-mae:5.68999\n",
      "[1]\tvalidation_0-mae:5.86454\n",
      "[2]\tvalidation_0-mae:6.05619\n",
      "[3]\tvalidation_0-mae:6.29048\n",
      "[4]\tvalidation_0-mae:6.52062\n",
      "[0]\tvalidation_0-mae:5.59940\n",
      "[1]\tvalidation_0-mae:5.76951\n",
      "[2]\tvalidation_0-mae:5.95045\n",
      "[3]\tvalidation_0-mae:6.14362\n",
      "[4]\tvalidation_0-mae:6.32333\n"
     ]
    },
    {
     "name": "stderr",
     "output_type": "stream",
     "text": [
      "D:\\Anaconda3\\lib\\site-packages\\xgboost\\sklearn.py:793: UserWarning: `early_stopping_rounds` in `fit` method is deprecated for better compatibility with scikit-learn, use `early_stopping_rounds` in constructor or`set_params` instead.\n",
      "  warnings.warn(\n",
      "D:\\Anaconda3\\lib\\site-packages\\xgboost\\sklearn.py:793: UserWarning: `early_stopping_rounds` in `fit` method is deprecated for better compatibility with scikit-learn, use `early_stopping_rounds` in constructor or`set_params` instead.\n",
      "  warnings.warn(\n"
     ]
    },
    {
     "name": "stdout",
     "output_type": "stream",
     "text": [
      "[0]\tvalidation_0-mae:5.65525\n",
      "[1]\tvalidation_0-mae:5.85958\n",
      "[2]\tvalidation_0-mae:6.08696\n",
      "[3]\tvalidation_0-mae:6.28852\n",
      "[4]\tvalidation_0-mae:6.50670\n",
      "[5]\tvalidation_0-mae:6.69744\n",
      "[0]\tvalidation_0-mae:5.58262\n",
      "[1]\tvalidation_0-mae:5.75544\n",
      "[2]\tvalidation_0-mae:5.95413\n",
      "[3]\tvalidation_0-mae:6.12549\n",
      "[4]\tvalidation_0-mae:6.28834\n"
     ]
    },
    {
     "name": "stderr",
     "output_type": "stream",
     "text": [
      "D:\\Anaconda3\\lib\\site-packages\\xgboost\\sklearn.py:793: UserWarning: `early_stopping_rounds` in `fit` method is deprecated for better compatibility with scikit-learn, use `early_stopping_rounds` in constructor or`set_params` instead.\n",
      "  warnings.warn(\n",
      "D:\\Anaconda3\\lib\\site-packages\\xgboost\\sklearn.py:793: UserWarning: `early_stopping_rounds` in `fit` method is deprecated for better compatibility with scikit-learn, use `early_stopping_rounds` in constructor or`set_params` instead.\n",
      "  warnings.warn(\n"
     ]
    },
    {
     "name": "stdout",
     "output_type": "stream",
     "text": [
      "[0]\tvalidation_0-mae:5.62906\n",
      "[1]\tvalidation_0-mae:5.87900\n",
      "[2]\tvalidation_0-mae:6.15812\n",
      "[3]\tvalidation_0-mae:6.35703\n",
      "[4]\tvalidation_0-mae:6.55981\n",
      "[0]\tvalidation_0-mae:5.59720\n",
      "[1]\tvalidation_0-mae:5.79736\n",
      "[2]\tvalidation_0-mae:5.97727\n",
      "[3]\tvalidation_0-mae:6.15928\n",
      "[4]\tvalidation_0-mae:6.37210\n"
     ]
    },
    {
     "name": "stderr",
     "output_type": "stream",
     "text": [
      "D:\\Anaconda3\\lib\\site-packages\\xgboost\\sklearn.py:793: UserWarning: `early_stopping_rounds` in `fit` method is deprecated for better compatibility with scikit-learn, use `early_stopping_rounds` in constructor or`set_params` instead.\n",
      "  warnings.warn(\n",
      "D:\\Anaconda3\\lib\\site-packages\\xgboost\\sklearn.py:793: UserWarning: `early_stopping_rounds` in `fit` method is deprecated for better compatibility with scikit-learn, use `early_stopping_rounds` in constructor or`set_params` instead.\n",
      "  warnings.warn(\n"
     ]
    },
    {
     "name": "stdout",
     "output_type": "stream",
     "text": [
      "[0]\tvalidation_0-mae:5.69836\n",
      "[1]\tvalidation_0-mae:5.87863\n",
      "[2]\tvalidation_0-mae:6.05444\n",
      "[3]\tvalidation_0-mae:6.29265\n",
      "[4]\tvalidation_0-mae:6.50857\n",
      "[5]\tvalidation_0-mae:6.67075\n",
      "[0]\tvalidation_0-mae:5.59724\n",
      "[1]\tvalidation_0-mae:5.77581\n",
      "[2]\tvalidation_0-mae:5.95471\n",
      "[3]\tvalidation_0-mae:6.14412\n"
     ]
    },
    {
     "name": "stderr",
     "output_type": "stream",
     "text": [
      "D:\\Anaconda3\\lib\\site-packages\\xgboost\\sklearn.py:793: UserWarning: `early_stopping_rounds` in `fit` method is deprecated for better compatibility with scikit-learn, use `early_stopping_rounds` in constructor or`set_params` instead.\n",
      "  warnings.warn(\n",
      "D:\\Anaconda3\\lib\\site-packages\\xgboost\\sklearn.py:793: UserWarning: `early_stopping_rounds` in `fit` method is deprecated for better compatibility with scikit-learn, use `early_stopping_rounds` in constructor or`set_params` instead.\n",
      "  warnings.warn(\n"
     ]
    },
    {
     "name": "stdout",
     "output_type": "stream",
     "text": [
      "[4]\tvalidation_0-mae:6.33962\n",
      "[0]\tvalidation_0-mae:5.64724\n",
      "[1]\tvalidation_0-mae:5.83942\n",
      "[2]\tvalidation_0-mae:6.04130\n",
      "[3]\tvalidation_0-mae:6.22623\n",
      "[4]\tvalidation_0-mae:6.41189\n",
      "[0]\tvalidation_0-mae:5.59330\n",
      "[1]\tvalidation_0-mae:5.75979\n",
      "[2]\tvalidation_0-mae:5.96084\n"
     ]
    },
    {
     "name": "stderr",
     "output_type": "stream",
     "text": [
      "D:\\Anaconda3\\lib\\site-packages\\xgboost\\sklearn.py:793: UserWarning: `early_stopping_rounds` in `fit` method is deprecated for better compatibility with scikit-learn, use `early_stopping_rounds` in constructor or`set_params` instead.\n",
      "  warnings.warn(\n",
      "D:\\Anaconda3\\lib\\site-packages\\xgboost\\sklearn.py:793: UserWarning: `early_stopping_rounds` in `fit` method is deprecated for better compatibility with scikit-learn, use `early_stopping_rounds` in constructor or`set_params` instead.\n",
      "  warnings.warn(\n"
     ]
    },
    {
     "name": "stdout",
     "output_type": "stream",
     "text": [
      "[3]\tvalidation_0-mae:6.14462\n",
      "[4]\tvalidation_0-mae:6.30346\n",
      "[0]\tvalidation_0-mae:5.62846\n",
      "[1]\tvalidation_0-mae:5.82993\n",
      "[2]\tvalidation_0-mae:6.05606\n",
      "[3]\tvalidation_0-mae:6.25253\n",
      "[4]\tvalidation_0-mae:6.43907\n",
      "[5]\tvalidation_0-mae:6.64182\n",
      "[0]\tvalidation_0-mae:5.59720\n",
      "[1]\tvalidation_0-mae:5.79736\n",
      "[2]\tvalidation_0-mae:5.97727\n"
     ]
    },
    {
     "name": "stderr",
     "output_type": "stream",
     "text": [
      "D:\\Anaconda3\\lib\\site-packages\\xgboost\\sklearn.py:793: UserWarning: `early_stopping_rounds` in `fit` method is deprecated for better compatibility with scikit-learn, use `early_stopping_rounds` in constructor or`set_params` instead.\n",
      "  warnings.warn(\n",
      "D:\\Anaconda3\\lib\\site-packages\\xgboost\\sklearn.py:793: UserWarning: `early_stopping_rounds` in `fit` method is deprecated for better compatibility with scikit-learn, use `early_stopping_rounds` in constructor or`set_params` instead.\n",
      "  warnings.warn(\n"
     ]
    },
    {
     "name": "stdout",
     "output_type": "stream",
     "text": [
      "[3]\tvalidation_0-mae:6.15928\n",
      "[4]\tvalidation_0-mae:6.37210\n",
      "[0]\tvalidation_0-mae:5.69836\n",
      "[1]\tvalidation_0-mae:5.87863\n",
      "[2]\tvalidation_0-mae:6.05444\n",
      "[3]\tvalidation_0-mae:6.29265\n",
      "[4]\tvalidation_0-mae:6.50857\n",
      "[0]\tvalidation_0-mae:5.59724\n",
      "[1]\tvalidation_0-mae:5.77581\n",
      "[2]\tvalidation_0-mae:5.95471\n",
      "[3]\tvalidation_0-mae:6.14412\n"
     ]
    },
    {
     "name": "stderr",
     "output_type": "stream",
     "text": [
      "D:\\Anaconda3\\lib\\site-packages\\xgboost\\sklearn.py:793: UserWarning: `early_stopping_rounds` in `fit` method is deprecated for better compatibility with scikit-learn, use `early_stopping_rounds` in constructor or`set_params` instead.\n",
      "  warnings.warn(\n",
      "D:\\Anaconda3\\lib\\site-packages\\xgboost\\sklearn.py:793: UserWarning: `early_stopping_rounds` in `fit` method is deprecated for better compatibility with scikit-learn, use `early_stopping_rounds` in constructor or`set_params` instead.\n",
      "  warnings.warn(\n"
     ]
    },
    {
     "name": "stdout",
     "output_type": "stream",
     "text": [
      "[4]\tvalidation_0-mae:6.33962\n",
      "[0]\tvalidation_0-mae:5.64724\n",
      "[1]\tvalidation_0-mae:5.83942\n",
      "[2]\tvalidation_0-mae:6.04130\n",
      "[3]\tvalidation_0-mae:6.22623\n",
      "[4]\tvalidation_0-mae:6.41189\n",
      "[5]\tvalidation_0-mae:6.61490\n",
      "[0]\tvalidation_0-mae:5.59330\n",
      "[1]\tvalidation_0-mae:5.75979\n",
      "[2]\tvalidation_0-mae:5.96084\n"
     ]
    },
    {
     "name": "stderr",
     "output_type": "stream",
     "text": [
      "D:\\Anaconda3\\lib\\site-packages\\xgboost\\sklearn.py:793: UserWarning: `early_stopping_rounds` in `fit` method is deprecated for better compatibility with scikit-learn, use `early_stopping_rounds` in constructor or`set_params` instead.\n",
      "  warnings.warn(\n",
      "D:\\Anaconda3\\lib\\site-packages\\xgboost\\sklearn.py:793: UserWarning: `early_stopping_rounds` in `fit` method is deprecated for better compatibility with scikit-learn, use `early_stopping_rounds` in constructor or`set_params` instead.\n",
      "  warnings.warn(\n"
     ]
    },
    {
     "name": "stdout",
     "output_type": "stream",
     "text": [
      "[3]\tvalidation_0-mae:6.14462\n",
      "[4]\tvalidation_0-mae:6.30346\n",
      "[0]\tvalidation_0-mae:5.62846\n",
      "[1]\tvalidation_0-mae:5.82993\n",
      "[2]\tvalidation_0-mae:6.05606\n",
      "[3]\tvalidation_0-mae:6.25253\n",
      "[4]\tvalidation_0-mae:6.43907\n",
      "[0]\tvalidation_0-mae:5.59720\n",
      "[1]\tvalidation_0-mae:5.79736\n",
      "[2]\tvalidation_0-mae:5.97727\n",
      "[3]\tvalidation_0-mae:6.15928\n"
     ]
    },
    {
     "name": "stderr",
     "output_type": "stream",
     "text": [
      "D:\\Anaconda3\\lib\\site-packages\\xgboost\\sklearn.py:793: UserWarning: `early_stopping_rounds` in `fit` method is deprecated for better compatibility with scikit-learn, use `early_stopping_rounds` in constructor or`set_params` instead.\n",
      "  warnings.warn(\n",
      "D:\\Anaconda3\\lib\\site-packages\\xgboost\\sklearn.py:793: UserWarning: `early_stopping_rounds` in `fit` method is deprecated for better compatibility with scikit-learn, use `early_stopping_rounds` in constructor or`set_params` instead.\n",
      "  warnings.warn(\n"
     ]
    },
    {
     "name": "stdout",
     "output_type": "stream",
     "text": [
      "[4]\tvalidation_0-mae:6.37210\n",
      "[5]\tvalidation_0-mae:6.50848\n",
      "[0]\tvalidation_0-mae:5.69836\n",
      "[1]\tvalidation_0-mae:5.87863\n",
      "[2]\tvalidation_0-mae:6.05444\n",
      "[3]\tvalidation_0-mae:6.29265\n",
      "[4]\tvalidation_0-mae:6.50857\n",
      "[5]\tvalidation_0-mae:6.67075\n",
      "[0]\tvalidation_0-mae:5.59724\n",
      "[1]\tvalidation_0-mae:5.77581\n",
      "[2]\tvalidation_0-mae:5.95471\n"
     ]
    },
    {
     "name": "stderr",
     "output_type": "stream",
     "text": [
      "D:\\Anaconda3\\lib\\site-packages\\xgboost\\sklearn.py:793: UserWarning: `early_stopping_rounds` in `fit` method is deprecated for better compatibility with scikit-learn, use `early_stopping_rounds` in constructor or`set_params` instead.\n",
      "  warnings.warn(\n",
      "D:\\Anaconda3\\lib\\site-packages\\xgboost\\sklearn.py:793: UserWarning: `early_stopping_rounds` in `fit` method is deprecated for better compatibility with scikit-learn, use `early_stopping_rounds` in constructor or`set_params` instead.\n",
      "  warnings.warn(\n"
     ]
    },
    {
     "name": "stdout",
     "output_type": "stream",
     "text": [
      "[3]\tvalidation_0-mae:6.14412\n",
      "[4]\tvalidation_0-mae:6.33962\n",
      "[0]\tvalidation_0-mae:5.64724\n",
      "[1]\tvalidation_0-mae:5.83942\n",
      "[2]\tvalidation_0-mae:6.04130\n",
      "[3]\tvalidation_0-mae:6.22623\n",
      "[4]\tvalidation_0-mae:6.41189\n",
      "[0]\tvalidation_0-mae:5.59330\n",
      "[1]\tvalidation_0-mae:5.75979\n",
      "[2]\tvalidation_0-mae:5.96084\n",
      "[3]\tvalidation_0-mae:6.14462\n"
     ]
    },
    {
     "name": "stderr",
     "output_type": "stream",
     "text": [
      "D:\\Anaconda3\\lib\\site-packages\\xgboost\\sklearn.py:793: UserWarning: `early_stopping_rounds` in `fit` method is deprecated for better compatibility with scikit-learn, use `early_stopping_rounds` in constructor or`set_params` instead.\n",
      "  warnings.warn(\n",
      "D:\\Anaconda3\\lib\\site-packages\\xgboost\\sklearn.py:793: UserWarning: `early_stopping_rounds` in `fit` method is deprecated for better compatibility with scikit-learn, use `early_stopping_rounds` in constructor or`set_params` instead.\n",
      "  warnings.warn(\n"
     ]
    },
    {
     "name": "stdout",
     "output_type": "stream",
     "text": [
      "[4]\tvalidation_0-mae:6.30346\n",
      "[0]\tvalidation_0-mae:5.62846\n",
      "[1]\tvalidation_0-mae:5.82993\n",
      "[2]\tvalidation_0-mae:6.05606\n",
      "[3]\tvalidation_0-mae:6.25253\n",
      "[4]\tvalidation_0-mae:6.43907\n",
      "[0]\tvalidation_0-mae:5.46419\n",
      "[1]\tvalidation_0-mae:5.47823\n",
      "[2]\tvalidation_0-mae:5.49157\n",
      "[3]\tvalidation_0-mae:5.50231\n",
      "[4]\tvalidation_0-mae:5.51791\n",
      "[5]\tvalidation_0-mae:5.53289\n"
     ]
    },
    {
     "name": "stderr",
     "output_type": "stream",
     "text": [
      "D:\\Anaconda3\\lib\\site-packages\\xgboost\\sklearn.py:793: UserWarning: `early_stopping_rounds` in `fit` method is deprecated for better compatibility with scikit-learn, use `early_stopping_rounds` in constructor or`set_params` instead.\n",
      "  warnings.warn(\n",
      "D:\\Anaconda3\\lib\\site-packages\\xgboost\\sklearn.py:793: UserWarning: `early_stopping_rounds` in `fit` method is deprecated for better compatibility with scikit-learn, use `early_stopping_rounds` in constructor or`set_params` instead.\n",
      "  warnings.warn(\n"
     ]
    },
    {
     "name": "stdout",
     "output_type": "stream",
     "text": [
      "[0]\tvalidation_0-mae:5.46663\n",
      "[1]\tvalidation_0-mae:5.47875\n",
      "[2]\tvalidation_0-mae:5.49145\n",
      "[3]\tvalidation_0-mae:5.50469\n",
      "[4]\tvalidation_0-mae:5.52399\n",
      "[0]\tvalidation_0-mae:5.46302\n",
      "[1]\tvalidation_0-mae:5.47309\n",
      "[2]\tvalidation_0-mae:5.48585\n",
      "[3]\tvalidation_0-mae:5.49798\n",
      "[4]\tvalidation_0-mae:5.51258\n"
     ]
    },
    {
     "name": "stderr",
     "output_type": "stream",
     "text": [
      "D:\\Anaconda3\\lib\\site-packages\\xgboost\\sklearn.py:793: UserWarning: `early_stopping_rounds` in `fit` method is deprecated for better compatibility with scikit-learn, use `early_stopping_rounds` in constructor or`set_params` instead.\n",
      "  warnings.warn(\n",
      "D:\\Anaconda3\\lib\\site-packages\\xgboost\\sklearn.py:793: UserWarning: `early_stopping_rounds` in `fit` method is deprecated for better compatibility with scikit-learn, use `early_stopping_rounds` in constructor or`set_params` instead.\n",
      "  warnings.warn(\n"
     ]
    },
    {
     "name": "stdout",
     "output_type": "stream",
     "text": [
      "[0]\tvalidation_0-mae:5.46570\n",
      "[1]\tvalidation_0-mae:5.47782\n",
      "[2]\tvalidation_0-mae:5.49445\n",
      "[3]\tvalidation_0-mae:5.51001\n",
      "[4]\tvalidation_0-mae:5.53029\n",
      "[5]\tvalidation_0-mae:5.55211\n",
      "[0]\tvalidation_0-mae:5.46259\n",
      "[1]\tvalidation_0-mae:5.47487\n",
      "[2]\tvalidation_0-mae:5.48702\n",
      "[3]\tvalidation_0-mae:5.49906\n"
     ]
    },
    {
     "name": "stderr",
     "output_type": "stream",
     "text": [
      "D:\\Anaconda3\\lib\\site-packages\\xgboost\\sklearn.py:793: UserWarning: `early_stopping_rounds` in `fit` method is deprecated for better compatibility with scikit-learn, use `early_stopping_rounds` in constructor or`set_params` instead.\n",
      "  warnings.warn(\n",
      "D:\\Anaconda3\\lib\\site-packages\\xgboost\\sklearn.py:793: UserWarning: `early_stopping_rounds` in `fit` method is deprecated for better compatibility with scikit-learn, use `early_stopping_rounds` in constructor or`set_params` instead.\n",
      "  warnings.warn(\n"
     ]
    },
    {
     "name": "stdout",
     "output_type": "stream",
     "text": [
      "[4]\tvalidation_0-mae:5.51431\n",
      "[0]\tvalidation_0-mae:5.46632\n",
      "[1]\tvalidation_0-mae:5.48285\n",
      "[2]\tvalidation_0-mae:5.49982\n",
      "[3]\tvalidation_0-mae:5.51821\n",
      "[4]\tvalidation_0-mae:5.53855\n",
      "[5]\tvalidation_0-mae:5.55951\n",
      "[0]\tvalidation_0-mae:5.46419\n",
      "[1]\tvalidation_0-mae:5.47823\n",
      "[2]\tvalidation_0-mae:5.49157\n",
      "[3]\tvalidation_0-mae:5.50231\n",
      "[4]\tvalidation_0-mae:5.51791\n",
      "[5]\tvalidation_0-mae:5.53289\n"
     ]
    },
    {
     "name": "stderr",
     "output_type": "stream",
     "text": [
      "D:\\Anaconda3\\lib\\site-packages\\xgboost\\sklearn.py:793: UserWarning: `early_stopping_rounds` in `fit` method is deprecated for better compatibility with scikit-learn, use `early_stopping_rounds` in constructor or`set_params` instead.\n",
      "  warnings.warn(\n",
      "D:\\Anaconda3\\lib\\site-packages\\xgboost\\sklearn.py:793: UserWarning: `early_stopping_rounds` in `fit` method is deprecated for better compatibility with scikit-learn, use `early_stopping_rounds` in constructor or`set_params` instead.\n",
      "  warnings.warn(\n"
     ]
    },
    {
     "name": "stdout",
     "output_type": "stream",
     "text": [
      "[0]\tvalidation_0-mae:5.46663\n",
      "[1]\tvalidation_0-mae:5.47875\n",
      "[2]\tvalidation_0-mae:5.49145\n",
      "[3]\tvalidation_0-mae:5.50469\n",
      "[4]\tvalidation_0-mae:5.52399\n",
      "[0]\tvalidation_0-mae:5.46302\n",
      "[1]\tvalidation_0-mae:5.47309\n",
      "[2]\tvalidation_0-mae:5.48585\n",
      "[3]\tvalidation_0-mae:5.49798\n",
      "[4]\tvalidation_0-mae:5.51258\n"
     ]
    },
    {
     "name": "stderr",
     "output_type": "stream",
     "text": [
      "D:\\Anaconda3\\lib\\site-packages\\xgboost\\sklearn.py:793: UserWarning: `early_stopping_rounds` in `fit` method is deprecated for better compatibility with scikit-learn, use `early_stopping_rounds` in constructor or`set_params` instead.\n",
      "  warnings.warn(\n",
      "D:\\Anaconda3\\lib\\site-packages\\xgboost\\sklearn.py:793: UserWarning: `early_stopping_rounds` in `fit` method is deprecated for better compatibility with scikit-learn, use `early_stopping_rounds` in constructor or`set_params` instead.\n",
      "  warnings.warn(\n"
     ]
    },
    {
     "name": "stdout",
     "output_type": "stream",
     "text": [
      "[0]\tvalidation_0-mae:5.46570\n",
      "[1]\tvalidation_0-mae:5.47782\n",
      "[2]\tvalidation_0-mae:5.49445\n",
      "[3]\tvalidation_0-mae:5.51001\n",
      "[4]\tvalidation_0-mae:5.53029\n",
      "[5]\tvalidation_0-mae:5.55211\n",
      "[0]\tvalidation_0-mae:5.46259\n",
      "[1]\tvalidation_0-mae:5.47487\n",
      "[2]\tvalidation_0-mae:5.48702\n",
      "[3]\tvalidation_0-mae:5.49906\n",
      "[4]\tvalidation_0-mae:5.51431\n"
     ]
    },
    {
     "name": "stderr",
     "output_type": "stream",
     "text": [
      "D:\\Anaconda3\\lib\\site-packages\\xgboost\\sklearn.py:793: UserWarning: `early_stopping_rounds` in `fit` method is deprecated for better compatibility with scikit-learn, use `early_stopping_rounds` in constructor or`set_params` instead.\n",
      "  warnings.warn(\n",
      "D:\\Anaconda3\\lib\\site-packages\\xgboost\\sklearn.py:793: UserWarning: `early_stopping_rounds` in `fit` method is deprecated for better compatibility with scikit-learn, use `early_stopping_rounds` in constructor or`set_params` instead.\n",
      "  warnings.warn(\n"
     ]
    },
    {
     "name": "stdout",
     "output_type": "stream",
     "text": [
      "[0]\tvalidation_0-mae:5.46632\n",
      "[1]\tvalidation_0-mae:5.48285\n",
      "[2]\tvalidation_0-mae:5.49982\n",
      "[3]\tvalidation_0-mae:5.51821\n",
      "[4]\tvalidation_0-mae:5.53855\n",
      "[0]\tvalidation_0-mae:5.46419\n",
      "[1]\tvalidation_0-mae:5.47823\n",
      "[2]\tvalidation_0-mae:5.49157\n",
      "[3]\tvalidation_0-mae:5.50231\n",
      "[4]\tvalidation_0-mae:5.51791\n",
      "[5]\tvalidation_0-mae:5.53289\n"
     ]
    },
    {
     "name": "stderr",
     "output_type": "stream",
     "text": [
      "D:\\Anaconda3\\lib\\site-packages\\xgboost\\sklearn.py:793: UserWarning: `early_stopping_rounds` in `fit` method is deprecated for better compatibility with scikit-learn, use `early_stopping_rounds` in constructor or`set_params` instead.\n",
      "  warnings.warn(\n",
      "D:\\Anaconda3\\lib\\site-packages\\xgboost\\sklearn.py:793: UserWarning: `early_stopping_rounds` in `fit` method is deprecated for better compatibility with scikit-learn, use `early_stopping_rounds` in constructor or`set_params` instead.\n",
      "  warnings.warn(\n"
     ]
    },
    {
     "name": "stdout",
     "output_type": "stream",
     "text": [
      "[0]\tvalidation_0-mae:5.46663\n",
      "[1]\tvalidation_0-mae:5.47875\n",
      "[2]\tvalidation_0-mae:5.49145\n",
      "[3]\tvalidation_0-mae:5.50469\n",
      "[4]\tvalidation_0-mae:5.52399\n",
      "[5]\tvalidation_0-mae:5.53913\n",
      "[0]\tvalidation_0-mae:5.46302\n",
      "[1]\tvalidation_0-mae:5.47309\n",
      "[2]\tvalidation_0-mae:5.48585\n",
      "[3]\tvalidation_0-mae:5.49798\n",
      "[4]\tvalidation_0-mae:5.51258\n",
      "[5]\tvalidation_0-mae:5.52746\n"
     ]
    },
    {
     "name": "stderr",
     "output_type": "stream",
     "text": [
      "D:\\Anaconda3\\lib\\site-packages\\xgboost\\sklearn.py:793: UserWarning: `early_stopping_rounds` in `fit` method is deprecated for better compatibility with scikit-learn, use `early_stopping_rounds` in constructor or`set_params` instead.\n",
      "  warnings.warn(\n",
      "D:\\Anaconda3\\lib\\site-packages\\xgboost\\sklearn.py:793: UserWarning: `early_stopping_rounds` in `fit` method is deprecated for better compatibility with scikit-learn, use `early_stopping_rounds` in constructor or`set_params` instead.\n",
      "  warnings.warn(\n"
     ]
    },
    {
     "name": "stdout",
     "output_type": "stream",
     "text": [
      "[0]\tvalidation_0-mae:5.46570\n",
      "[1]\tvalidation_0-mae:5.47782\n",
      "[2]\tvalidation_0-mae:5.49445\n",
      "[3]\tvalidation_0-mae:5.51001\n",
      "[4]\tvalidation_0-mae:5.53029\n",
      "[0]\tvalidation_0-mae:5.46259\n",
      "[1]\tvalidation_0-mae:5.47487\n",
      "[2]\tvalidation_0-mae:5.48702\n",
      "[3]\tvalidation_0-mae:5.49906\n",
      "[4]\tvalidation_0-mae:5.51431\n"
     ]
    },
    {
     "name": "stderr",
     "output_type": "stream",
     "text": [
      "D:\\Anaconda3\\lib\\site-packages\\xgboost\\sklearn.py:793: UserWarning: `early_stopping_rounds` in `fit` method is deprecated for better compatibility with scikit-learn, use `early_stopping_rounds` in constructor or`set_params` instead.\n",
      "  warnings.warn(\n",
      "D:\\Anaconda3\\lib\\site-packages\\xgboost\\sklearn.py:793: UserWarning: `early_stopping_rounds` in `fit` method is deprecated for better compatibility with scikit-learn, use `early_stopping_rounds` in constructor or`set_params` instead.\n",
      "  warnings.warn(\n"
     ]
    },
    {
     "name": "stdout",
     "output_type": "stream",
     "text": [
      "[0]\tvalidation_0-mae:5.46632\n",
      "[1]\tvalidation_0-mae:5.48285\n",
      "[2]\tvalidation_0-mae:5.49982\n",
      "[3]\tvalidation_0-mae:5.51821\n",
      "[4]\tvalidation_0-mae:5.53855\n",
      "[5]\tvalidation_0-mae:5.55951\n",
      "[0]\tvalidation_0-mae:5.46316\n",
      "[1]\tvalidation_0-mae:5.47282\n",
      "[2]\tvalidation_0-mae:5.48540\n",
      "[3]\tvalidation_0-mae:5.49756\n",
      "[4]\tvalidation_0-mae:5.51206\n"
     ]
    },
    {
     "name": "stderr",
     "output_type": "stream",
     "text": [
      "D:\\Anaconda3\\lib\\site-packages\\xgboost\\sklearn.py:793: UserWarning: `early_stopping_rounds` in `fit` method is deprecated for better compatibility with scikit-learn, use `early_stopping_rounds` in constructor or`set_params` instead.\n",
      "  warnings.warn(\n",
      "D:\\Anaconda3\\lib\\site-packages\\xgboost\\sklearn.py:793: UserWarning: `early_stopping_rounds` in `fit` method is deprecated for better compatibility with scikit-learn, use `early_stopping_rounds` in constructor or`set_params` instead.\n",
      "  warnings.warn(\n"
     ]
    },
    {
     "name": "stdout",
     "output_type": "stream",
     "text": [
      "[0]\tvalidation_0-mae:5.46604\n",
      "[1]\tvalidation_0-mae:5.47877\n",
      "[2]\tvalidation_0-mae:5.49106\n",
      "[3]\tvalidation_0-mae:5.50580\n",
      "[4]\tvalidation_0-mae:5.52063\n",
      "[0]\tvalidation_0-mae:5.46063\n",
      "[1]\tvalidation_0-mae:5.47129\n",
      "[2]\tvalidation_0-mae:5.48364\n"
     ]
    },
    {
     "name": "stderr",
     "output_type": "stream",
     "text": [
      "D:\\Anaconda3\\lib\\site-packages\\xgboost\\sklearn.py:793: UserWarning: `early_stopping_rounds` in `fit` method is deprecated for better compatibility with scikit-learn, use `early_stopping_rounds` in constructor or`set_params` instead.\n",
      "  warnings.warn(\n",
      "D:\\Anaconda3\\lib\\site-packages\\xgboost\\sklearn.py:793: UserWarning: `early_stopping_rounds` in `fit` method is deprecated for better compatibility with scikit-learn, use `early_stopping_rounds` in constructor or`set_params` instead.\n",
      "  warnings.warn(\n"
     ]
    },
    {
     "name": "stdout",
     "output_type": "stream",
     "text": [
      "[3]\tvalidation_0-mae:5.49302\n",
      "[4]\tvalidation_0-mae:5.50427\n",
      "[0]\tvalidation_0-mae:5.46436\n",
      "[1]\tvalidation_0-mae:5.47667\n",
      "[2]\tvalidation_0-mae:5.49028\n",
      "[3]\tvalidation_0-mae:5.50646\n",
      "[4]\tvalidation_0-mae:5.52479\n",
      "[5]\tvalidation_0-mae:5.54416\n",
      "[0]\tvalidation_0-mae:5.45954\n",
      "[1]\tvalidation_0-mae:5.46906\n",
      "[2]\tvalidation_0-mae:5.47970\n",
      "[3]\tvalidation_0-mae:5.49022\n",
      "[4]\tvalidation_0-mae:5.50066\n"
     ]
    },
    {
     "name": "stderr",
     "output_type": "stream",
     "text": [
      "D:\\Anaconda3\\lib\\site-packages\\xgboost\\sklearn.py:793: UserWarning: `early_stopping_rounds` in `fit` method is deprecated for better compatibility with scikit-learn, use `early_stopping_rounds` in constructor or`set_params` instead.\n",
      "  warnings.warn(\n",
      "D:\\Anaconda3\\lib\\site-packages\\xgboost\\sklearn.py:793: UserWarning: `early_stopping_rounds` in `fit` method is deprecated for better compatibility with scikit-learn, use `early_stopping_rounds` in constructor or`set_params` instead.\n",
      "  warnings.warn(\n"
     ]
    },
    {
     "name": "stdout",
     "output_type": "stream",
     "text": [
      "[0]\tvalidation_0-mae:5.46198\n",
      "[1]\tvalidation_0-mae:5.47507\n",
      "[2]\tvalidation_0-mae:5.48908\n",
      "[3]\tvalidation_0-mae:5.50563\n",
      "[4]\tvalidation_0-mae:5.52270\n",
      "[0]\tvalidation_0-mae:5.46316\n",
      "[1]\tvalidation_0-mae:5.47282\n",
      "[2]\tvalidation_0-mae:5.48540\n",
      "[3]\tvalidation_0-mae:5.49756\n"
     ]
    },
    {
     "name": "stderr",
     "output_type": "stream",
     "text": [
      "D:\\Anaconda3\\lib\\site-packages\\xgboost\\sklearn.py:793: UserWarning: `early_stopping_rounds` in `fit` method is deprecated for better compatibility with scikit-learn, use `early_stopping_rounds` in constructor or`set_params` instead.\n",
      "  warnings.warn(\n",
      "D:\\Anaconda3\\lib\\site-packages\\xgboost\\sklearn.py:793: UserWarning: `early_stopping_rounds` in `fit` method is deprecated for better compatibility with scikit-learn, use `early_stopping_rounds` in constructor or`set_params` instead.\n",
      "  warnings.warn(\n"
     ]
    },
    {
     "name": "stdout",
     "output_type": "stream",
     "text": [
      "[4]\tvalidation_0-mae:5.51206\n",
      "[0]\tvalidation_0-mae:5.46604\n",
      "[1]\tvalidation_0-mae:5.47877\n",
      "[2]\tvalidation_0-mae:5.49106\n",
      "[3]\tvalidation_0-mae:5.50580\n",
      "[4]\tvalidation_0-mae:5.52063\n",
      "[5]\tvalidation_0-mae:5.53638\n",
      "[0]\tvalidation_0-mae:5.46063\n",
      "[1]\tvalidation_0-mae:5.47129\n",
      "[2]\tvalidation_0-mae:5.48364\n",
      "[3]\tvalidation_0-mae:5.49302\n"
     ]
    },
    {
     "name": "stderr",
     "output_type": "stream",
     "text": [
      "D:\\Anaconda3\\lib\\site-packages\\xgboost\\sklearn.py:793: UserWarning: `early_stopping_rounds` in `fit` method is deprecated for better compatibility with scikit-learn, use `early_stopping_rounds` in constructor or`set_params` instead.\n",
      "  warnings.warn(\n",
      "D:\\Anaconda3\\lib\\site-packages\\xgboost\\sklearn.py:793: UserWarning: `early_stopping_rounds` in `fit` method is deprecated for better compatibility with scikit-learn, use `early_stopping_rounds` in constructor or`set_params` instead.\n",
      "  warnings.warn(\n"
     ]
    },
    {
     "name": "stdout",
     "output_type": "stream",
     "text": [
      "[4]\tvalidation_0-mae:5.50427\n",
      "[0]\tvalidation_0-mae:5.46436\n",
      "[1]\tvalidation_0-mae:5.47667\n",
      "[2]\tvalidation_0-mae:5.49028\n",
      "[3]\tvalidation_0-mae:5.50646\n",
      "[4]\tvalidation_0-mae:5.52479\n",
      "[0]\tvalidation_0-mae:5.45954\n",
      "[1]\tvalidation_0-mae:5.46906\n",
      "[2]\tvalidation_0-mae:5.47970\n",
      "[3]\tvalidation_0-mae:5.49022\n",
      "[4]\tvalidation_0-mae:5.50066\n"
     ]
    },
    {
     "name": "stderr",
     "output_type": "stream",
     "text": [
      "D:\\Anaconda3\\lib\\site-packages\\xgboost\\sklearn.py:793: UserWarning: `early_stopping_rounds` in `fit` method is deprecated for better compatibility with scikit-learn, use `early_stopping_rounds` in constructor or`set_params` instead.\n",
      "  warnings.warn(\n",
      "D:\\Anaconda3\\lib\\site-packages\\xgboost\\sklearn.py:793: UserWarning: `early_stopping_rounds` in `fit` method is deprecated for better compatibility with scikit-learn, use `early_stopping_rounds` in constructor or`set_params` instead.\n",
      "  warnings.warn(\n"
     ]
    },
    {
     "name": "stdout",
     "output_type": "stream",
     "text": [
      "[0]\tvalidation_0-mae:5.46198\n",
      "[1]\tvalidation_0-mae:5.47507\n",
      "[2]\tvalidation_0-mae:5.48908\n",
      "[3]\tvalidation_0-mae:5.50563\n",
      "[4]\tvalidation_0-mae:5.52270\n",
      "[5]\tvalidation_0-mae:5.54109\n",
      "[0]\tvalidation_0-mae:5.46316\n",
      "[1]\tvalidation_0-mae:5.47282\n",
      "[2]\tvalidation_0-mae:5.48540\n",
      "[3]\tvalidation_0-mae:5.49756\n",
      "[4]\tvalidation_0-mae:5.51206\n"
     ]
    },
    {
     "name": "stderr",
     "output_type": "stream",
     "text": [
      "D:\\Anaconda3\\lib\\site-packages\\xgboost\\sklearn.py:793: UserWarning: `early_stopping_rounds` in `fit` method is deprecated for better compatibility with scikit-learn, use `early_stopping_rounds` in constructor or`set_params` instead.\n",
      "  warnings.warn(\n",
      "D:\\Anaconda3\\lib\\site-packages\\xgboost\\sklearn.py:793: UserWarning: `early_stopping_rounds` in `fit` method is deprecated for better compatibility with scikit-learn, use `early_stopping_rounds` in constructor or`set_params` instead.\n",
      "  warnings.warn(\n"
     ]
    },
    {
     "name": "stdout",
     "output_type": "stream",
     "text": [
      "[0]\tvalidation_0-mae:5.46604\n",
      "[1]\tvalidation_0-mae:5.47877\n",
      "[2]\tvalidation_0-mae:5.49106\n",
      "[3]\tvalidation_0-mae:5.50580\n",
      "[4]\tvalidation_0-mae:5.52063\n",
      "[0]\tvalidation_0-mae:5.46063\n",
      "[1]\tvalidation_0-mae:5.47129\n",
      "[2]\tvalidation_0-mae:5.48364\n",
      "[3]\tvalidation_0-mae:5.49302\n",
      "[4]\tvalidation_0-mae:5.50427\n"
     ]
    },
    {
     "name": "stderr",
     "output_type": "stream",
     "text": [
      "D:\\Anaconda3\\lib\\site-packages\\xgboost\\sklearn.py:793: UserWarning: `early_stopping_rounds` in `fit` method is deprecated for better compatibility with scikit-learn, use `early_stopping_rounds` in constructor or`set_params` instead.\n",
      "  warnings.warn(\n",
      "D:\\Anaconda3\\lib\\site-packages\\xgboost\\sklearn.py:793: UserWarning: `early_stopping_rounds` in `fit` method is deprecated for better compatibility with scikit-learn, use `early_stopping_rounds` in constructor or`set_params` instead.\n",
      "  warnings.warn(\n"
     ]
    },
    {
     "name": "stdout",
     "output_type": "stream",
     "text": [
      "[0]\tvalidation_0-mae:5.46436\n",
      "[1]\tvalidation_0-mae:5.47667\n",
      "[2]\tvalidation_0-mae:5.49028\n",
      "[3]\tvalidation_0-mae:5.50646\n",
      "[4]\tvalidation_0-mae:5.52479\n",
      "[5]\tvalidation_0-mae:5.54416\n",
      "[0]\tvalidation_0-mae:5.45954\n",
      "[1]\tvalidation_0-mae:5.46906\n",
      "[2]\tvalidation_0-mae:5.47970\n",
      "[3]\tvalidation_0-mae:5.49022\n",
      "[4]\tvalidation_0-mae:5.50066\n"
     ]
    },
    {
     "name": "stderr",
     "output_type": "stream",
     "text": [
      "D:\\Anaconda3\\lib\\site-packages\\xgboost\\sklearn.py:793: UserWarning: `early_stopping_rounds` in `fit` method is deprecated for better compatibility with scikit-learn, use `early_stopping_rounds` in constructor or`set_params` instead.\n",
      "  warnings.warn(\n",
      "D:\\Anaconda3\\lib\\site-packages\\xgboost\\sklearn.py:793: UserWarning: `early_stopping_rounds` in `fit` method is deprecated for better compatibility with scikit-learn, use `early_stopping_rounds` in constructor or`set_params` instead.\n",
      "  warnings.warn(\n"
     ]
    },
    {
     "name": "stdout",
     "output_type": "stream",
     "text": [
      "[0]\tvalidation_0-mae:5.46198\n",
      "[1]\tvalidation_0-mae:5.47507\n",
      "[2]\tvalidation_0-mae:5.48908\n",
      "[3]\tvalidation_0-mae:5.50563\n",
      "[4]\tvalidation_0-mae:5.52270\n",
      "[0]\tvalidation_0-mae:5.46020\n",
      "[1]\tvalidation_0-mae:5.47100\n",
      "[2]\tvalidation_0-mae:5.48246\n",
      "[3]\tvalidation_0-mae:5.49455\n",
      "[4]\tvalidation_0-mae:5.50848\n",
      "[5]\tvalidation_0-mae:5.52135\n"
     ]
    },
    {
     "name": "stderr",
     "output_type": "stream",
     "text": [
      "D:\\Anaconda3\\lib\\site-packages\\xgboost\\sklearn.py:793: UserWarning: `early_stopping_rounds` in `fit` method is deprecated for better compatibility with scikit-learn, use `early_stopping_rounds` in constructor or`set_params` instead.\n",
      "  warnings.warn(\n",
      "D:\\Anaconda3\\lib\\site-packages\\xgboost\\sklearn.py:793: UserWarning: `early_stopping_rounds` in `fit` method is deprecated for better compatibility with scikit-learn, use `early_stopping_rounds` in constructor or`set_params` instead.\n",
      "  warnings.warn(\n"
     ]
    },
    {
     "name": "stdout",
     "output_type": "stream",
     "text": [
      "[0]\tvalidation_0-mae:5.46725\n",
      "[1]\tvalidation_0-mae:5.47661\n",
      "[2]\tvalidation_0-mae:5.48795\n",
      "[3]\tvalidation_0-mae:5.50276\n",
      "[4]\tvalidation_0-mae:5.51794\n",
      "[5]\tvalidation_0-mae:5.53256\n",
      "[0]\tvalidation_0-mae:5.46028\n",
      "[1]\tvalidation_0-mae:5.47195\n",
      "[2]\tvalidation_0-mae:5.48414\n"
     ]
    },
    {
     "name": "stderr",
     "output_type": "stream",
     "text": [
      "D:\\Anaconda3\\lib\\site-packages\\xgboost\\sklearn.py:793: UserWarning: `early_stopping_rounds` in `fit` method is deprecated for better compatibility with scikit-learn, use `early_stopping_rounds` in constructor or`set_params` instead.\n",
      "  warnings.warn(\n",
      "D:\\Anaconda3\\lib\\site-packages\\xgboost\\sklearn.py:793: UserWarning: `early_stopping_rounds` in `fit` method is deprecated for better compatibility with scikit-learn, use `early_stopping_rounds` in constructor or`set_params` instead.\n",
      "  warnings.warn(\n"
     ]
    },
    {
     "name": "stdout",
     "output_type": "stream",
     "text": [
      "[3]\tvalidation_0-mae:5.49353\n",
      "[4]\tvalidation_0-mae:5.50516\n",
      "[0]\tvalidation_0-mae:5.46273\n",
      "[1]\tvalidation_0-mae:5.47545\n",
      "[2]\tvalidation_0-mae:5.49040\n",
      "[3]\tvalidation_0-mae:5.50817\n",
      "[4]\tvalidation_0-mae:5.52519\n",
      "[5]\tvalidation_0-mae:5.54268\n",
      "[0]\tvalidation_0-mae:5.46044\n",
      "[1]\tvalidation_0-mae:5.47084\n"
     ]
    },
    {
     "name": "stderr",
     "output_type": "stream",
     "text": [
      "D:\\Anaconda3\\lib\\site-packages\\xgboost\\sklearn.py:793: UserWarning: `early_stopping_rounds` in `fit` method is deprecated for better compatibility with scikit-learn, use `early_stopping_rounds` in constructor or`set_params` instead.\n",
      "  warnings.warn(\n",
      "D:\\Anaconda3\\lib\\site-packages\\xgboost\\sklearn.py:793: UserWarning: `early_stopping_rounds` in `fit` method is deprecated for better compatibility with scikit-learn, use `early_stopping_rounds` in constructor or`set_params` instead.\n",
      "  warnings.warn(\n"
     ]
    },
    {
     "name": "stdout",
     "output_type": "stream",
     "text": [
      "[2]\tvalidation_0-mae:5.48241\n",
      "[3]\tvalidation_0-mae:5.49393\n",
      "[4]\tvalidation_0-mae:5.50552\n",
      "[0]\tvalidation_0-mae:5.46188\n",
      "[1]\tvalidation_0-mae:5.47443\n",
      "[2]\tvalidation_0-mae:5.48920\n",
      "[3]\tvalidation_0-mae:5.50516\n",
      "[4]\tvalidation_0-mae:5.52365\n",
      "[5]\tvalidation_0-mae:5.54205\n",
      "[0]\tvalidation_0-mae:5.46020\n",
      "[1]\tvalidation_0-mae:5.47100\n",
      "[2]\tvalidation_0-mae:5.48246\n",
      "[3]\tvalidation_0-mae:5.49455\n"
     ]
    },
    {
     "name": "stderr",
     "output_type": "stream",
     "text": [
      "D:\\Anaconda3\\lib\\site-packages\\xgboost\\sklearn.py:793: UserWarning: `early_stopping_rounds` in `fit` method is deprecated for better compatibility with scikit-learn, use `early_stopping_rounds` in constructor or`set_params` instead.\n",
      "  warnings.warn(\n",
      "D:\\Anaconda3\\lib\\site-packages\\xgboost\\sklearn.py:793: UserWarning: `early_stopping_rounds` in `fit` method is deprecated for better compatibility with scikit-learn, use `early_stopping_rounds` in constructor or`set_params` instead.\n",
      "  warnings.warn(\n"
     ]
    },
    {
     "name": "stdout",
     "output_type": "stream",
     "text": [
      "[4]\tvalidation_0-mae:5.50848\n",
      "[5]\tvalidation_0-mae:5.52135\n",
      "[0]\tvalidation_0-mae:5.46725\n",
      "[1]\tvalidation_0-mae:5.47661\n",
      "[2]\tvalidation_0-mae:5.48795\n",
      "[3]\tvalidation_0-mae:5.50276\n",
      "[4]\tvalidation_0-mae:5.51794\n",
      "[5]\tvalidation_0-mae:5.53256\n",
      "[0]\tvalidation_0-mae:5.46028\n",
      "[1]\tvalidation_0-mae:5.47195\n",
      "[2]\tvalidation_0-mae:5.48414\n"
     ]
    },
    {
     "name": "stderr",
     "output_type": "stream",
     "text": [
      "D:\\Anaconda3\\lib\\site-packages\\xgboost\\sklearn.py:793: UserWarning: `early_stopping_rounds` in `fit` method is deprecated for better compatibility with scikit-learn, use `early_stopping_rounds` in constructor or`set_params` instead.\n",
      "  warnings.warn(\n",
      "D:\\Anaconda3\\lib\\site-packages\\xgboost\\sklearn.py:793: UserWarning: `early_stopping_rounds` in `fit` method is deprecated for better compatibility with scikit-learn, use `early_stopping_rounds` in constructor or`set_params` instead.\n",
      "  warnings.warn(\n"
     ]
    },
    {
     "name": "stdout",
     "output_type": "stream",
     "text": [
      "[3]\tvalidation_0-mae:5.49353\n",
      "[4]\tvalidation_0-mae:5.50516\n",
      "[5]\tvalidation_0-mae:5.51800\n",
      "[0]\tvalidation_0-mae:5.46273\n",
      "[1]\tvalidation_0-mae:5.47545\n",
      "[2]\tvalidation_0-mae:5.49040\n",
      "[3]\tvalidation_0-mae:5.50817\n",
      "[4]\tvalidation_0-mae:5.52519\n",
      "[5]\tvalidation_0-mae:5.54268\n",
      "[0]\tvalidation_0-mae:5.46044\n",
      "[1]\tvalidation_0-mae:5.47084\n",
      "[2]\tvalidation_0-mae:5.48241\n",
      "[3]\tvalidation_0-mae:5.49393\n",
      "[4]\tvalidation_0-mae:5.50552\n"
     ]
    },
    {
     "name": "stderr",
     "output_type": "stream",
     "text": [
      "D:\\Anaconda3\\lib\\site-packages\\xgboost\\sklearn.py:793: UserWarning: `early_stopping_rounds` in `fit` method is deprecated for better compatibility with scikit-learn, use `early_stopping_rounds` in constructor or`set_params` instead.\n",
      "  warnings.warn(\n",
      "D:\\Anaconda3\\lib\\site-packages\\xgboost\\sklearn.py:793: UserWarning: `early_stopping_rounds` in `fit` method is deprecated for better compatibility with scikit-learn, use `early_stopping_rounds` in constructor or`set_params` instead.\n",
      "  warnings.warn(\n"
     ]
    },
    {
     "name": "stdout",
     "output_type": "stream",
     "text": [
      "[5]\tvalidation_0-mae:5.51980\n",
      "[0]\tvalidation_0-mae:5.46188\n",
      "[1]\tvalidation_0-mae:5.47443\n",
      "[2]\tvalidation_0-mae:5.48920\n",
      "[3]\tvalidation_0-mae:5.50516\n",
      "[4]\tvalidation_0-mae:5.52365\n",
      "[0]\tvalidation_0-mae:5.46020\n",
      "[1]\tvalidation_0-mae:5.47100\n",
      "[2]\tvalidation_0-mae:5.48246\n",
      "[3]\tvalidation_0-mae:5.49455\n"
     ]
    },
    {
     "name": "stderr",
     "output_type": "stream",
     "text": [
      "D:\\Anaconda3\\lib\\site-packages\\xgboost\\sklearn.py:793: UserWarning: `early_stopping_rounds` in `fit` method is deprecated for better compatibility with scikit-learn, use `early_stopping_rounds` in constructor or`set_params` instead.\n",
      "  warnings.warn(\n",
      "D:\\Anaconda3\\lib\\site-packages\\xgboost\\sklearn.py:793: UserWarning: `early_stopping_rounds` in `fit` method is deprecated for better compatibility with scikit-learn, use `early_stopping_rounds` in constructor or`set_params` instead.\n",
      "  warnings.warn(\n"
     ]
    },
    {
     "name": "stdout",
     "output_type": "stream",
     "text": [
      "[4]\tvalidation_0-mae:5.50848\n",
      "[5]\tvalidation_0-mae:5.52135\n",
      "[0]\tvalidation_0-mae:5.46725\n",
      "[1]\tvalidation_0-mae:5.47661\n",
      "[2]\tvalidation_0-mae:5.48795\n",
      "[3]\tvalidation_0-mae:5.50276\n",
      "[4]\tvalidation_0-mae:5.51794\n",
      "[5]\tvalidation_0-mae:5.53256\n",
      "[0]\tvalidation_0-mae:5.46028\n",
      "[1]\tvalidation_0-mae:5.47195\n",
      "[2]\tvalidation_0-mae:5.48414\n"
     ]
    },
    {
     "name": "stderr",
     "output_type": "stream",
     "text": [
      "D:\\Anaconda3\\lib\\site-packages\\xgboost\\sklearn.py:793: UserWarning: `early_stopping_rounds` in `fit` method is deprecated for better compatibility with scikit-learn, use `early_stopping_rounds` in constructor or`set_params` instead.\n",
      "  warnings.warn(\n",
      "D:\\Anaconda3\\lib\\site-packages\\xgboost\\sklearn.py:793: UserWarning: `early_stopping_rounds` in `fit` method is deprecated for better compatibility with scikit-learn, use `early_stopping_rounds` in constructor or`set_params` instead.\n",
      "  warnings.warn(\n"
     ]
    },
    {
     "name": "stdout",
     "output_type": "stream",
     "text": [
      "[3]\tvalidation_0-mae:5.49353\n",
      "[4]\tvalidation_0-mae:5.50516\n",
      "[0]\tvalidation_0-mae:5.46273\n",
      "[1]\tvalidation_0-mae:5.47545\n",
      "[2]\tvalidation_0-mae:5.49040\n",
      "[3]\tvalidation_0-mae:5.50817\n",
      "[4]\tvalidation_0-mae:5.52519\n",
      "[5]\tvalidation_0-mae:5.54268\n",
      "[0]\tvalidation_0-mae:5.46044\n",
      "[1]\tvalidation_0-mae:5.47084\n",
      "[2]\tvalidation_0-mae:5.48241\n"
     ]
    },
    {
     "name": "stderr",
     "output_type": "stream",
     "text": [
      "D:\\Anaconda3\\lib\\site-packages\\xgboost\\sklearn.py:793: UserWarning: `early_stopping_rounds` in `fit` method is deprecated for better compatibility with scikit-learn, use `early_stopping_rounds` in constructor or`set_params` instead.\n",
      "  warnings.warn(\n",
      "D:\\Anaconda3\\lib\\site-packages\\xgboost\\sklearn.py:793: UserWarning: `early_stopping_rounds` in `fit` method is deprecated for better compatibility with scikit-learn, use `early_stopping_rounds` in constructor or`set_params` instead.\n",
      "  warnings.warn(\n"
     ]
    },
    {
     "name": "stdout",
     "output_type": "stream",
     "text": [
      "[3]\tvalidation_0-mae:5.49393\n",
      "[4]\tvalidation_0-mae:5.50552\n",
      "[0]\tvalidation_0-mae:5.46188\n",
      "[1]\tvalidation_0-mae:5.47443\n",
      "[2]\tvalidation_0-mae:5.48920\n",
      "[3]\tvalidation_0-mae:5.50516\n",
      "[4]\tvalidation_0-mae:5.52365\n",
      "[0]\tvalidation_0-mae:5.52386\n",
      "[1]\tvalidation_0-mae:5.61576\n",
      "[2]\tvalidation_0-mae:5.70387\n",
      "[3]\tvalidation_0-mae:5.78963\n",
      "[4]\tvalidation_0-mae:5.88719\n"
     ]
    },
    {
     "name": "stderr",
     "output_type": "stream",
     "text": [
      "D:\\Anaconda3\\lib\\site-packages\\xgboost\\sklearn.py:793: UserWarning: `early_stopping_rounds` in `fit` method is deprecated for better compatibility with scikit-learn, use `early_stopping_rounds` in constructor or`set_params` instead.\n",
      "  warnings.warn(\n",
      "D:\\Anaconda3\\lib\\site-packages\\xgboost\\sklearn.py:793: UserWarning: `early_stopping_rounds` in `fit` method is deprecated for better compatibility with scikit-learn, use `early_stopping_rounds` in constructor or`set_params` instead.\n",
      "  warnings.warn(\n"
     ]
    },
    {
     "name": "stdout",
     "output_type": "stream",
     "text": [
      "[0]\tvalidation_0-mae:5.54543\n",
      "[1]\tvalidation_0-mae:5.62496\n",
      "[2]\tvalidation_0-mae:5.71464\n",
      "[3]\tvalidation_0-mae:5.82172\n",
      "[4]\tvalidation_0-mae:5.93694\n",
      "[5]\tvalidation_0-mae:6.04079\n",
      "[0]\tvalidation_0-mae:5.51943\n",
      "[1]\tvalidation_0-mae:5.59137\n",
      "[2]\tvalidation_0-mae:5.66947\n",
      "[3]\tvalidation_0-mae:5.75223\n",
      "[4]\tvalidation_0-mae:5.84526\n",
      "[5]\tvalidation_0-mae:5.92886\n"
     ]
    },
    {
     "name": "stderr",
     "output_type": "stream",
     "text": [
      "D:\\Anaconda3\\lib\\site-packages\\xgboost\\sklearn.py:793: UserWarning: `early_stopping_rounds` in `fit` method is deprecated for better compatibility with scikit-learn, use `early_stopping_rounds` in constructor or`set_params` instead.\n",
      "  warnings.warn(\n",
      "D:\\Anaconda3\\lib\\site-packages\\xgboost\\sklearn.py:793: UserWarning: `early_stopping_rounds` in `fit` method is deprecated for better compatibility with scikit-learn, use `early_stopping_rounds` in constructor or`set_params` instead.\n",
      "  warnings.warn(\n"
     ]
    },
    {
     "name": "stdout",
     "output_type": "stream",
     "text": [
      "[0]\tvalidation_0-mae:5.53796\n",
      "[1]\tvalidation_0-mae:5.62667\n",
      "[2]\tvalidation_0-mae:5.73978\n",
      "[3]\tvalidation_0-mae:5.84884\n",
      "[4]\tvalidation_0-mae:5.96374\n",
      "[5]\tvalidation_0-mae:6.08403\n",
      "[0]\tvalidation_0-mae:5.51595\n",
      "[1]\tvalidation_0-mae:5.59596\n",
      "[2]\tvalidation_0-mae:5.68416\n",
      "[3]\tvalidation_0-mae:5.77407\n",
      "[4]\tvalidation_0-mae:5.86056\n"
     ]
    },
    {
     "name": "stderr",
     "output_type": "stream",
     "text": [
      "D:\\Anaconda3\\lib\\site-packages\\xgboost\\sklearn.py:793: UserWarning: `early_stopping_rounds` in `fit` method is deprecated for better compatibility with scikit-learn, use `early_stopping_rounds` in constructor or`set_params` instead.\n",
      "  warnings.warn(\n",
      "D:\\Anaconda3\\lib\\site-packages\\xgboost\\sklearn.py:793: UserWarning: `early_stopping_rounds` in `fit` method is deprecated for better compatibility with scikit-learn, use `early_stopping_rounds` in constructor or`set_params` instead.\n",
      "  warnings.warn(\n"
     ]
    },
    {
     "name": "stdout",
     "output_type": "stream",
     "text": [
      "[0]\tvalidation_0-mae:5.54072\n",
      "[1]\tvalidation_0-mae:5.64874\n",
      "[2]\tvalidation_0-mae:5.76145\n",
      "[3]\tvalidation_0-mae:5.87649\n",
      "[4]\tvalidation_0-mae:5.97430\n",
      "[5]\tvalidation_0-mae:6.09438\n",
      "[0]\tvalidation_0-mae:5.52386\n",
      "[1]\tvalidation_0-mae:5.61576\n",
      "[2]\tvalidation_0-mae:5.70387\n",
      "[3]\tvalidation_0-mae:5.78963\n",
      "[4]\tvalidation_0-mae:5.88719\n",
      "[5]\tvalidation_0-mae:5.97114\n"
     ]
    },
    {
     "name": "stderr",
     "output_type": "stream",
     "text": [
      "D:\\Anaconda3\\lib\\site-packages\\xgboost\\sklearn.py:793: UserWarning: `early_stopping_rounds` in `fit` method is deprecated for better compatibility with scikit-learn, use `early_stopping_rounds` in constructor or`set_params` instead.\n",
      "  warnings.warn(\n",
      "D:\\Anaconda3\\lib\\site-packages\\xgboost\\sklearn.py:793: UserWarning: `early_stopping_rounds` in `fit` method is deprecated for better compatibility with scikit-learn, use `early_stopping_rounds` in constructor or`set_params` instead.\n",
      "  warnings.warn(\n"
     ]
    },
    {
     "name": "stdout",
     "output_type": "stream",
     "text": [
      "[0]\tvalidation_0-mae:5.54543\n",
      "[1]\tvalidation_0-mae:5.62496\n",
      "[2]\tvalidation_0-mae:5.71464\n",
      "[3]\tvalidation_0-mae:5.82172\n",
      "[4]\tvalidation_0-mae:5.93694\n",
      "[0]\tvalidation_0-mae:5.51943\n",
      "[1]\tvalidation_0-mae:5.59137\n",
      "[2]\tvalidation_0-mae:5.66947\n",
      "[3]\tvalidation_0-mae:5.75223\n",
      "[4]\tvalidation_0-mae:5.84526\n"
     ]
    },
    {
     "name": "stderr",
     "output_type": "stream",
     "text": [
      "D:\\Anaconda3\\lib\\site-packages\\xgboost\\sklearn.py:793: UserWarning: `early_stopping_rounds` in `fit` method is deprecated for better compatibility with scikit-learn, use `early_stopping_rounds` in constructor or`set_params` instead.\n",
      "  warnings.warn(\n",
      "D:\\Anaconda3\\lib\\site-packages\\xgboost\\sklearn.py:793: UserWarning: `early_stopping_rounds` in `fit` method is deprecated for better compatibility with scikit-learn, use `early_stopping_rounds` in constructor or`set_params` instead.\n",
      "  warnings.warn(\n"
     ]
    },
    {
     "name": "stdout",
     "output_type": "stream",
     "text": [
      "[0]\tvalidation_0-mae:5.53796\n",
      "[1]\tvalidation_0-mae:5.62667\n",
      "[2]\tvalidation_0-mae:5.73978\n",
      "[3]\tvalidation_0-mae:5.84884\n",
      "[4]\tvalidation_0-mae:5.96374\n",
      "[5]\tvalidation_0-mae:6.08403\n",
      "[0]\tvalidation_0-mae:5.51595\n",
      "[1]\tvalidation_0-mae:5.59596\n",
      "[2]\tvalidation_0-mae:5.68416\n",
      "[3]\tvalidation_0-mae:5.77407\n",
      "[4]\tvalidation_0-mae:5.86056\n"
     ]
    },
    {
     "name": "stderr",
     "output_type": "stream",
     "text": [
      "D:\\Anaconda3\\lib\\site-packages\\xgboost\\sklearn.py:793: UserWarning: `early_stopping_rounds` in `fit` method is deprecated for better compatibility with scikit-learn, use `early_stopping_rounds` in constructor or`set_params` instead.\n",
      "  warnings.warn(\n",
      "D:\\Anaconda3\\lib\\site-packages\\xgboost\\sklearn.py:793: UserWarning: `early_stopping_rounds` in `fit` method is deprecated for better compatibility with scikit-learn, use `early_stopping_rounds` in constructor or`set_params` instead.\n",
      "  warnings.warn(\n"
     ]
    },
    {
     "name": "stdout",
     "output_type": "stream",
     "text": [
      "[0]\tvalidation_0-mae:5.54072\n",
      "[1]\tvalidation_0-mae:5.64874\n",
      "[2]\tvalidation_0-mae:5.76145\n",
      "[3]\tvalidation_0-mae:5.87649\n",
      "[4]\tvalidation_0-mae:5.97430\n",
      "[0]\tvalidation_0-mae:5.52386\n",
      "[1]\tvalidation_0-mae:5.61576\n",
      "[2]\tvalidation_0-mae:5.70387\n",
      "[3]\tvalidation_0-mae:5.78963\n",
      "[4]\tvalidation_0-mae:5.88719\n"
     ]
    },
    {
     "name": "stderr",
     "output_type": "stream",
     "text": [
      "D:\\Anaconda3\\lib\\site-packages\\xgboost\\sklearn.py:793: UserWarning: `early_stopping_rounds` in `fit` method is deprecated for better compatibility with scikit-learn, use `early_stopping_rounds` in constructor or`set_params` instead.\n",
      "  warnings.warn(\n",
      "D:\\Anaconda3\\lib\\site-packages\\xgboost\\sklearn.py:793: UserWarning: `early_stopping_rounds` in `fit` method is deprecated for better compatibility with scikit-learn, use `early_stopping_rounds` in constructor or`set_params` instead.\n",
      "  warnings.warn(\n"
     ]
    },
    {
     "name": "stdout",
     "output_type": "stream",
     "text": [
      "[0]\tvalidation_0-mae:5.54543\n",
      "[1]\tvalidation_0-mae:5.62496\n",
      "[2]\tvalidation_0-mae:5.71464\n",
      "[3]\tvalidation_0-mae:5.82172\n",
      "[4]\tvalidation_0-mae:5.93694\n",
      "[5]\tvalidation_0-mae:6.04079\n",
      "[0]\tvalidation_0-mae:5.51943\n",
      "[1]\tvalidation_0-mae:5.59137\n",
      "[2]\tvalidation_0-mae:5.66947\n",
      "[3]\tvalidation_0-mae:5.75223\n",
      "[4]\tvalidation_0-mae:5.84526\n"
     ]
    },
    {
     "name": "stderr",
     "output_type": "stream",
     "text": [
      "D:\\Anaconda3\\lib\\site-packages\\xgboost\\sklearn.py:793: UserWarning: `early_stopping_rounds` in `fit` method is deprecated for better compatibility with scikit-learn, use `early_stopping_rounds` in constructor or`set_params` instead.\n",
      "  warnings.warn(\n",
      "D:\\Anaconda3\\lib\\site-packages\\xgboost\\sklearn.py:793: UserWarning: `early_stopping_rounds` in `fit` method is deprecated for better compatibility with scikit-learn, use `early_stopping_rounds` in constructor or`set_params` instead.\n",
      "  warnings.warn(\n"
     ]
    },
    {
     "name": "stdout",
     "output_type": "stream",
     "text": [
      "[0]\tvalidation_0-mae:5.53796\n",
      "[1]\tvalidation_0-mae:5.62667\n",
      "[2]\tvalidation_0-mae:5.73978\n",
      "[3]\tvalidation_0-mae:5.84884\n",
      "[4]\tvalidation_0-mae:5.96374\n",
      "[0]\tvalidation_0-mae:5.51595\n",
      "[1]\tvalidation_0-mae:5.59596\n",
      "[2]\tvalidation_0-mae:5.68416\n",
      "[3]\tvalidation_0-mae:5.77407\n",
      "[4]\tvalidation_0-mae:5.86056\n"
     ]
    },
    {
     "name": "stderr",
     "output_type": "stream",
     "text": [
      "D:\\Anaconda3\\lib\\site-packages\\xgboost\\sklearn.py:793: UserWarning: `early_stopping_rounds` in `fit` method is deprecated for better compatibility with scikit-learn, use `early_stopping_rounds` in constructor or`set_params` instead.\n",
      "  warnings.warn(\n",
      "D:\\Anaconda3\\lib\\site-packages\\xgboost\\sklearn.py:793: UserWarning: `early_stopping_rounds` in `fit` method is deprecated for better compatibility with scikit-learn, use `early_stopping_rounds` in constructor or`set_params` instead.\n",
      "  warnings.warn(\n"
     ]
    },
    {
     "name": "stdout",
     "output_type": "stream",
     "text": [
      "[0]\tvalidation_0-mae:5.54072\n",
      "[1]\tvalidation_0-mae:5.64874\n",
      "[2]\tvalidation_0-mae:5.76145\n",
      "[3]\tvalidation_0-mae:5.87649\n",
      "[4]\tvalidation_0-mae:5.97430\n",
      "[5]\tvalidation_0-mae:6.09438\n",
      "[0]\tvalidation_0-mae:5.52204\n",
      "[1]\tvalidation_0-mae:5.60054\n",
      "[2]\tvalidation_0-mae:5.68787\n",
      "[3]\tvalidation_0-mae:5.77739\n",
      "[4]\tvalidation_0-mae:5.87396\n"
     ]
    },
    {
     "name": "stderr",
     "output_type": "stream",
     "text": [
      "D:\\Anaconda3\\lib\\site-packages\\xgboost\\sklearn.py:793: UserWarning: `early_stopping_rounds` in `fit` method is deprecated for better compatibility with scikit-learn, use `early_stopping_rounds` in constructor or`set_params` instead.\n",
      "  warnings.warn(\n",
      "D:\\Anaconda3\\lib\\site-packages\\xgboost\\sklearn.py:793: UserWarning: `early_stopping_rounds` in `fit` method is deprecated for better compatibility with scikit-learn, use `early_stopping_rounds` in constructor or`set_params` instead.\n",
      "  warnings.warn(\n"
     ]
    },
    {
     "name": "stdout",
     "output_type": "stream",
     "text": [
      "[0]\tvalidation_0-mae:5.54280\n",
      "[1]\tvalidation_0-mae:5.62932\n",
      "[2]\tvalidation_0-mae:5.71660\n",
      "[3]\tvalidation_0-mae:5.83149\n",
      "[4]\tvalidation_0-mae:5.93313\n",
      "[0]\tvalidation_0-mae:5.50958\n",
      "[1]\tvalidation_0-mae:5.58231\n",
      "[2]\tvalidation_0-mae:5.66609\n",
      "[3]\tvalidation_0-mae:5.75472\n",
      "[4]\tvalidation_0-mae:5.84742\n"
     ]
    },
    {
     "name": "stderr",
     "output_type": "stream",
     "text": [
      "D:\\Anaconda3\\lib\\site-packages\\xgboost\\sklearn.py:793: UserWarning: `early_stopping_rounds` in `fit` method is deprecated for better compatibility with scikit-learn, use `early_stopping_rounds` in constructor or`set_params` instead.\n",
      "  warnings.warn(\n",
      "D:\\Anaconda3\\lib\\site-packages\\xgboost\\sklearn.py:793: UserWarning: `early_stopping_rounds` in `fit` method is deprecated for better compatibility with scikit-learn, use `early_stopping_rounds` in constructor or`set_params` instead.\n",
      "  warnings.warn(\n"
     ]
    },
    {
     "name": "stdout",
     "output_type": "stream",
     "text": [
      "[0]\tvalidation_0-mae:5.53697\n",
      "[1]\tvalidation_0-mae:5.62916\n",
      "[2]\tvalidation_0-mae:5.72503\n",
      "[3]\tvalidation_0-mae:5.83477\n",
      "[4]\tvalidation_0-mae:5.95263\n",
      "[5]\tvalidation_0-mae:6.06350\n",
      "[0]\tvalidation_0-mae:5.50203\n",
      "[1]\tvalidation_0-mae:5.57835\n",
      "[2]\tvalidation_0-mae:5.65759\n",
      "[3]\tvalidation_0-mae:5.74401\n",
      "[4]\tvalidation_0-mae:5.82807\n"
     ]
    },
    {
     "name": "stderr",
     "output_type": "stream",
     "text": [
      "D:\\Anaconda3\\lib\\site-packages\\xgboost\\sklearn.py:793: UserWarning: `early_stopping_rounds` in `fit` method is deprecated for better compatibility with scikit-learn, use `early_stopping_rounds` in constructor or`set_params` instead.\n",
      "  warnings.warn(\n",
      "D:\\Anaconda3\\lib\\site-packages\\xgboost\\sklearn.py:793: UserWarning: `early_stopping_rounds` in `fit` method is deprecated for better compatibility with scikit-learn, use `early_stopping_rounds` in constructor or`set_params` instead.\n",
      "  warnings.warn(\n"
     ]
    },
    {
     "name": "stdout",
     "output_type": "stream",
     "text": [
      "[0]\tvalidation_0-mae:5.52423\n",
      "[1]\tvalidation_0-mae:5.62498\n",
      "[2]\tvalidation_0-mae:5.72971\n",
      "[3]\tvalidation_0-mae:5.85327\n",
      "[4]\tvalidation_0-mae:5.95033\n",
      "[0]\tvalidation_0-mae:5.52204\n",
      "[1]\tvalidation_0-mae:5.60054\n",
      "[2]\tvalidation_0-mae:5.68787\n",
      "[3]\tvalidation_0-mae:5.77739\n",
      "[4]\tvalidation_0-mae:5.87396\n",
      "[5]\tvalidation_0-mae:5.95243\n"
     ]
    },
    {
     "name": "stderr",
     "output_type": "stream",
     "text": [
      "D:\\Anaconda3\\lib\\site-packages\\xgboost\\sklearn.py:793: UserWarning: `early_stopping_rounds` in `fit` method is deprecated for better compatibility with scikit-learn, use `early_stopping_rounds` in constructor or`set_params` instead.\n",
      "  warnings.warn(\n",
      "D:\\Anaconda3\\lib\\site-packages\\xgboost\\sklearn.py:793: UserWarning: `early_stopping_rounds` in `fit` method is deprecated for better compatibility with scikit-learn, use `early_stopping_rounds` in constructor or`set_params` instead.\n",
      "  warnings.warn(\n"
     ]
    },
    {
     "name": "stdout",
     "output_type": "stream",
     "text": [
      "[0]\tvalidation_0-mae:5.54280\n",
      "[1]\tvalidation_0-mae:5.62932\n",
      "[2]\tvalidation_0-mae:5.71660\n",
      "[3]\tvalidation_0-mae:5.83149\n",
      "[4]\tvalidation_0-mae:5.93313\n",
      "[5]\tvalidation_0-mae:6.02708\n",
      "[0]\tvalidation_0-mae:5.50958\n",
      "[1]\tvalidation_0-mae:5.58231\n",
      "[2]\tvalidation_0-mae:5.66609\n",
      "[3]\tvalidation_0-mae:5.75472\n",
      "[4]\tvalidation_0-mae:5.84742\n"
     ]
    },
    {
     "name": "stderr",
     "output_type": "stream",
     "text": [
      "D:\\Anaconda3\\lib\\site-packages\\xgboost\\sklearn.py:793: UserWarning: `early_stopping_rounds` in `fit` method is deprecated for better compatibility with scikit-learn, use `early_stopping_rounds` in constructor or`set_params` instead.\n",
      "  warnings.warn(\n",
      "D:\\Anaconda3\\lib\\site-packages\\xgboost\\sklearn.py:793: UserWarning: `early_stopping_rounds` in `fit` method is deprecated for better compatibility with scikit-learn, use `early_stopping_rounds` in constructor or`set_params` instead.\n",
      "  warnings.warn(\n"
     ]
    },
    {
     "name": "stdout",
     "output_type": "stream",
     "text": [
      "[5]\tvalidation_0-mae:5.93664\n",
      "[0]\tvalidation_0-mae:5.53697\n",
      "[1]\tvalidation_0-mae:5.62916\n",
      "[2]\tvalidation_0-mae:5.72503\n",
      "[3]\tvalidation_0-mae:5.83477\n",
      "[4]\tvalidation_0-mae:5.95263\n",
      "[0]\tvalidation_0-mae:5.50203\n",
      "[1]\tvalidation_0-mae:5.57835\n",
      "[2]\tvalidation_0-mae:5.65759\n",
      "[3]\tvalidation_0-mae:5.74401\n",
      "[4]\tvalidation_0-mae:5.82807\n",
      "[5]\tvalidation_0-mae:5.91776\n"
     ]
    },
    {
     "name": "stderr",
     "output_type": "stream",
     "text": [
      "D:\\Anaconda3\\lib\\site-packages\\xgboost\\sklearn.py:793: UserWarning: `early_stopping_rounds` in `fit` method is deprecated for better compatibility with scikit-learn, use `early_stopping_rounds` in constructor or`set_params` instead.\n",
      "  warnings.warn(\n",
      "D:\\Anaconda3\\lib\\site-packages\\xgboost\\sklearn.py:793: UserWarning: `early_stopping_rounds` in `fit` method is deprecated for better compatibility with scikit-learn, use `early_stopping_rounds` in constructor or`set_params` instead.\n",
      "  warnings.warn(\n"
     ]
    },
    {
     "name": "stdout",
     "output_type": "stream",
     "text": [
      "[0]\tvalidation_0-mae:5.52423\n",
      "[1]\tvalidation_0-mae:5.62498\n",
      "[2]\tvalidation_0-mae:5.72971\n",
      "[3]\tvalidation_0-mae:5.85327\n",
      "[4]\tvalidation_0-mae:5.95033\n",
      "[0]\tvalidation_0-mae:5.52204\n",
      "[1]\tvalidation_0-mae:5.60054\n",
      "[2]\tvalidation_0-mae:5.68787\n",
      "[3]\tvalidation_0-mae:5.77739\n",
      "[4]\tvalidation_0-mae:5.87396\n"
     ]
    },
    {
     "name": "stderr",
     "output_type": "stream",
     "text": [
      "D:\\Anaconda3\\lib\\site-packages\\xgboost\\sklearn.py:793: UserWarning: `early_stopping_rounds` in `fit` method is deprecated for better compatibility with scikit-learn, use `early_stopping_rounds` in constructor or`set_params` instead.\n",
      "  warnings.warn(\n",
      "D:\\Anaconda3\\lib\\site-packages\\xgboost\\sklearn.py:793: UserWarning: `early_stopping_rounds` in `fit` method is deprecated for better compatibility with scikit-learn, use `early_stopping_rounds` in constructor or`set_params` instead.\n",
      "  warnings.warn(\n"
     ]
    },
    {
     "name": "stdout",
     "output_type": "stream",
     "text": [
      "[5]\tvalidation_0-mae:5.95243\n",
      "[0]\tvalidation_0-mae:5.54280\n",
      "[1]\tvalidation_0-mae:5.62932\n",
      "[2]\tvalidation_0-mae:5.71660\n",
      "[3]\tvalidation_0-mae:5.83149\n",
      "[4]\tvalidation_0-mae:5.93313\n",
      "[5]\tvalidation_0-mae:6.02708\n",
      "[0]\tvalidation_0-mae:5.50958\n",
      "[1]\tvalidation_0-mae:5.58231\n",
      "[2]\tvalidation_0-mae:5.66609\n",
      "[3]\tvalidation_0-mae:5.75472\n",
      "[4]\tvalidation_0-mae:5.84742\n"
     ]
    },
    {
     "name": "stderr",
     "output_type": "stream",
     "text": [
      "D:\\Anaconda3\\lib\\site-packages\\xgboost\\sklearn.py:793: UserWarning: `early_stopping_rounds` in `fit` method is deprecated for better compatibility with scikit-learn, use `early_stopping_rounds` in constructor or`set_params` instead.\n",
      "  warnings.warn(\n",
      "D:\\Anaconda3\\lib\\site-packages\\xgboost\\sklearn.py:793: UserWarning: `early_stopping_rounds` in `fit` method is deprecated for better compatibility with scikit-learn, use `early_stopping_rounds` in constructor or`set_params` instead.\n",
      "  warnings.warn(\n"
     ]
    },
    {
     "name": "stdout",
     "output_type": "stream",
     "text": [
      "[0]\tvalidation_0-mae:5.53697\n",
      "[1]\tvalidation_0-mae:5.62916\n",
      "[2]\tvalidation_0-mae:5.72503\n",
      "[3]\tvalidation_0-mae:5.83477\n",
      "[4]\tvalidation_0-mae:5.95263\n",
      "[5]\tvalidation_0-mae:6.06350\n",
      "[0]\tvalidation_0-mae:5.50203\n",
      "[1]\tvalidation_0-mae:5.57835\n",
      "[2]\tvalidation_0-mae:5.65759\n",
      "[3]\tvalidation_0-mae:5.74401\n",
      "[4]\tvalidation_0-mae:5.82807\n",
      "[5]\tvalidation_0-mae:5.91776\n"
     ]
    },
    {
     "name": "stderr",
     "output_type": "stream",
     "text": [
      "D:\\Anaconda3\\lib\\site-packages\\xgboost\\sklearn.py:793: UserWarning: `early_stopping_rounds` in `fit` method is deprecated for better compatibility with scikit-learn, use `early_stopping_rounds` in constructor or`set_params` instead.\n",
      "  warnings.warn(\n",
      "D:\\Anaconda3\\lib\\site-packages\\xgboost\\sklearn.py:793: UserWarning: `early_stopping_rounds` in `fit` method is deprecated for better compatibility with scikit-learn, use `early_stopping_rounds` in constructor or`set_params` instead.\n",
      "  warnings.warn(\n"
     ]
    },
    {
     "name": "stdout",
     "output_type": "stream",
     "text": [
      "[0]\tvalidation_0-mae:5.52423\n",
      "[1]\tvalidation_0-mae:5.62498\n",
      "[2]\tvalidation_0-mae:5.72971\n",
      "[3]\tvalidation_0-mae:5.85327\n",
      "[4]\tvalidation_0-mae:5.95033\n",
      "[5]\tvalidation_0-mae:6.07064\n",
      "[0]\tvalidation_0-mae:5.50890\n",
      "[1]\tvalidation_0-mae:5.59510\n",
      "[2]\tvalidation_0-mae:5.67888\n",
      "[3]\tvalidation_0-mae:5.76337\n",
      "[4]\tvalidation_0-mae:5.85762\n"
     ]
    },
    {
     "name": "stderr",
     "output_type": "stream",
     "text": [
      "D:\\Anaconda3\\lib\\site-packages\\xgboost\\sklearn.py:793: UserWarning: `early_stopping_rounds` in `fit` method is deprecated for better compatibility with scikit-learn, use `early_stopping_rounds` in constructor or`set_params` instead.\n",
      "  warnings.warn(\n",
      "D:\\Anaconda3\\lib\\site-packages\\xgboost\\sklearn.py:793: UserWarning: `early_stopping_rounds` in `fit` method is deprecated for better compatibility with scikit-learn, use `early_stopping_rounds` in constructor or`set_params` instead.\n",
      "  warnings.warn(\n"
     ]
    },
    {
     "name": "stdout",
     "output_type": "stream",
     "text": [
      "[5]\tvalidation_0-mae:5.93752\n",
      "[0]\tvalidation_0-mae:5.55260\n",
      "[1]\tvalidation_0-mae:5.62620\n",
      "[2]\tvalidation_0-mae:5.71129\n",
      "[3]\tvalidation_0-mae:5.81501\n",
      "[4]\tvalidation_0-mae:5.91093\n",
      "[5]\tvalidation_0-mae:6.00188\n",
      "[0]\tvalidation_0-mae:5.50850\n",
      "[1]\tvalidation_0-mae:5.58374\n",
      "[2]\tvalidation_0-mae:5.66699\n",
      "[3]\tvalidation_0-mae:5.75003\n"
     ]
    },
    {
     "name": "stderr",
     "output_type": "stream",
     "text": [
      "D:\\Anaconda3\\lib\\site-packages\\xgboost\\sklearn.py:793: UserWarning: `early_stopping_rounds` in `fit` method is deprecated for better compatibility with scikit-learn, use `early_stopping_rounds` in constructor or`set_params` instead.\n",
      "  warnings.warn(\n",
      "D:\\Anaconda3\\lib\\site-packages\\xgboost\\sklearn.py:793: UserWarning: `early_stopping_rounds` in `fit` method is deprecated for better compatibility with scikit-learn, use `early_stopping_rounds` in constructor or`set_params` instead.\n",
      "  warnings.warn(\n"
     ]
    },
    {
     "name": "stdout",
     "output_type": "stream",
     "text": [
      "[4]\tvalidation_0-mae:5.84316\n",
      "[0]\tvalidation_0-mae:5.53120\n",
      "[1]\tvalidation_0-mae:5.62477\n",
      "[2]\tvalidation_0-mae:5.72360\n",
      "[3]\tvalidation_0-mae:5.84533\n",
      "[4]\tvalidation_0-mae:5.95522\n",
      "[0]\tvalidation_0-mae:5.50679\n",
      "[1]\tvalidation_0-mae:5.58869\n",
      "[2]\tvalidation_0-mae:5.67003\n",
      "[3]\tvalidation_0-mae:5.75501\n",
      "[4]\tvalidation_0-mae:5.84631\n"
     ]
    },
    {
     "name": "stderr",
     "output_type": "stream",
     "text": [
      "D:\\Anaconda3\\lib\\site-packages\\xgboost\\sklearn.py:793: UserWarning: `early_stopping_rounds` in `fit` method is deprecated for better compatibility with scikit-learn, use `early_stopping_rounds` in constructor or`set_params` instead.\n",
      "  warnings.warn(\n",
      "D:\\Anaconda3\\lib\\site-packages\\xgboost\\sklearn.py:793: UserWarning: `early_stopping_rounds` in `fit` method is deprecated for better compatibility with scikit-learn, use `early_stopping_rounds` in constructor or`set_params` instead.\n",
      "  warnings.warn(\n"
     ]
    },
    {
     "name": "stdout",
     "output_type": "stream",
     "text": [
      "[5]\tvalidation_0-mae:5.93651\n",
      "[0]\tvalidation_0-mae:5.52886\n",
      "[1]\tvalidation_0-mae:5.62102\n",
      "[2]\tvalidation_0-mae:5.72548\n",
      "[3]\tvalidation_0-mae:5.83605\n",
      "[4]\tvalidation_0-mae:5.95278\n",
      "[0]\tvalidation_0-mae:5.50890\n",
      "[1]\tvalidation_0-mae:5.59510\n",
      "[2]\tvalidation_0-mae:5.67888\n",
      "[3]\tvalidation_0-mae:5.76337\n"
     ]
    },
    {
     "name": "stderr",
     "output_type": "stream",
     "text": [
      "D:\\Anaconda3\\lib\\site-packages\\xgboost\\sklearn.py:793: UserWarning: `early_stopping_rounds` in `fit` method is deprecated for better compatibility with scikit-learn, use `early_stopping_rounds` in constructor or`set_params` instead.\n",
      "  warnings.warn(\n",
      "D:\\Anaconda3\\lib\\site-packages\\xgboost\\sklearn.py:793: UserWarning: `early_stopping_rounds` in `fit` method is deprecated for better compatibility with scikit-learn, use `early_stopping_rounds` in constructor or`set_params` instead.\n",
      "  warnings.warn(\n"
     ]
    },
    {
     "name": "stdout",
     "output_type": "stream",
     "text": [
      "[4]\tvalidation_0-mae:5.85762\n",
      "[0]\tvalidation_0-mae:5.55260\n",
      "[1]\tvalidation_0-mae:5.62620\n",
      "[2]\tvalidation_0-mae:5.71129\n",
      "[3]\tvalidation_0-mae:5.81501\n",
      "[4]\tvalidation_0-mae:5.91093\n",
      "[5]\tvalidation_0-mae:6.00188\n",
      "[0]\tvalidation_0-mae:5.50850\n",
      "[1]\tvalidation_0-mae:5.58374\n",
      "[2]\tvalidation_0-mae:5.66699\n"
     ]
    },
    {
     "name": "stderr",
     "output_type": "stream",
     "text": [
      "D:\\Anaconda3\\lib\\site-packages\\xgboost\\sklearn.py:793: UserWarning: `early_stopping_rounds` in `fit` method is deprecated for better compatibility with scikit-learn, use `early_stopping_rounds` in constructor or`set_params` instead.\n",
      "  warnings.warn(\n",
      "D:\\Anaconda3\\lib\\site-packages\\xgboost\\sklearn.py:793: UserWarning: `early_stopping_rounds` in `fit` method is deprecated for better compatibility with scikit-learn, use `early_stopping_rounds` in constructor or`set_params` instead.\n",
      "  warnings.warn(\n"
     ]
    },
    {
     "name": "stdout",
     "output_type": "stream",
     "text": [
      "[3]\tvalidation_0-mae:5.75003\n",
      "[4]\tvalidation_0-mae:5.84316\n",
      "[5]\tvalidation_0-mae:5.93084\n",
      "[0]\tvalidation_0-mae:5.53120\n",
      "[1]\tvalidation_0-mae:5.62477\n",
      "[2]\tvalidation_0-mae:5.72360\n",
      "[3]\tvalidation_0-mae:5.84533\n",
      "[4]\tvalidation_0-mae:5.95522\n",
      "[0]\tvalidation_0-mae:5.50679\n",
      "[1]\tvalidation_0-mae:5.58869\n",
      "[2]\tvalidation_0-mae:5.67003\n"
     ]
    },
    {
     "name": "stderr",
     "output_type": "stream",
     "text": [
      "D:\\Anaconda3\\lib\\site-packages\\xgboost\\sklearn.py:793: UserWarning: `early_stopping_rounds` in `fit` method is deprecated for better compatibility with scikit-learn, use `early_stopping_rounds` in constructor or`set_params` instead.\n",
      "  warnings.warn(\n",
      "D:\\Anaconda3\\lib\\site-packages\\xgboost\\sklearn.py:793: UserWarning: `early_stopping_rounds` in `fit` method is deprecated for better compatibility with scikit-learn, use `early_stopping_rounds` in constructor or`set_params` instead.\n",
      "  warnings.warn(\n"
     ]
    },
    {
     "name": "stdout",
     "output_type": "stream",
     "text": [
      "[3]\tvalidation_0-mae:5.75501\n",
      "[4]\tvalidation_0-mae:5.84631\n",
      "[0]\tvalidation_0-mae:5.52886\n",
      "[1]\tvalidation_0-mae:5.62102\n",
      "[2]\tvalidation_0-mae:5.72548\n",
      "[3]\tvalidation_0-mae:5.83605\n",
      "[4]\tvalidation_0-mae:5.95278\n",
      "[5]\tvalidation_0-mae:6.06053\n",
      "[0]\tvalidation_0-mae:5.50890\n",
      "[1]\tvalidation_0-mae:5.59510\n",
      "[2]\tvalidation_0-mae:5.67888\n",
      "[3]\tvalidation_0-mae:5.76337\n",
      "[4]\tvalidation_0-mae:5.85762\n",
      "[5]\tvalidation_0-mae:5.93752\n"
     ]
    },
    {
     "name": "stderr",
     "output_type": "stream",
     "text": [
      "D:\\Anaconda3\\lib\\site-packages\\xgboost\\sklearn.py:793: UserWarning: `early_stopping_rounds` in `fit` method is deprecated for better compatibility with scikit-learn, use `early_stopping_rounds` in constructor or`set_params` instead.\n",
      "  warnings.warn(\n",
      "D:\\Anaconda3\\lib\\site-packages\\xgboost\\sklearn.py:793: UserWarning: `early_stopping_rounds` in `fit` method is deprecated for better compatibility with scikit-learn, use `early_stopping_rounds` in constructor or`set_params` instead.\n",
      "  warnings.warn(\n"
     ]
    },
    {
     "name": "stdout",
     "output_type": "stream",
     "text": [
      "[0]\tvalidation_0-mae:5.55260\n",
      "[1]\tvalidation_0-mae:5.62620\n",
      "[2]\tvalidation_0-mae:5.71129\n",
      "[3]\tvalidation_0-mae:5.81501\n",
      "[4]\tvalidation_0-mae:5.91093\n",
      "[0]\tvalidation_0-mae:5.50850\n",
      "[1]\tvalidation_0-mae:5.58374\n",
      "[2]\tvalidation_0-mae:5.66699\n",
      "[3]\tvalidation_0-mae:5.75003\n"
     ]
    },
    {
     "name": "stderr",
     "output_type": "stream",
     "text": [
      "D:\\Anaconda3\\lib\\site-packages\\xgboost\\sklearn.py:793: UserWarning: `early_stopping_rounds` in `fit` method is deprecated for better compatibility with scikit-learn, use `early_stopping_rounds` in constructor or`set_params` instead.\n",
      "  warnings.warn(\n",
      "D:\\Anaconda3\\lib\\site-packages\\xgboost\\sklearn.py:793: UserWarning: `early_stopping_rounds` in `fit` method is deprecated for better compatibility with scikit-learn, use `early_stopping_rounds` in constructor or`set_params` instead.\n",
      "  warnings.warn(\n"
     ]
    },
    {
     "name": "stdout",
     "output_type": "stream",
     "text": [
      "[4]\tvalidation_0-mae:5.84316\n",
      "[0]\tvalidation_0-mae:5.53120\n",
      "[1]\tvalidation_0-mae:5.62477\n",
      "[2]\tvalidation_0-mae:5.72360\n",
      "[3]\tvalidation_0-mae:5.84533\n",
      "[4]\tvalidation_0-mae:5.95522\n",
      "[5]\tvalidation_0-mae:6.06522\n",
      "[0]\tvalidation_0-mae:5.50679\n",
      "[1]\tvalidation_0-mae:5.58869\n",
      "[2]\tvalidation_0-mae:5.67003\n",
      "[3]\tvalidation_0-mae:5.75501\n"
     ]
    },
    {
     "name": "stderr",
     "output_type": "stream",
     "text": [
      "D:\\Anaconda3\\lib\\site-packages\\xgboost\\sklearn.py:793: UserWarning: `early_stopping_rounds` in `fit` method is deprecated for better compatibility with scikit-learn, use `early_stopping_rounds` in constructor or`set_params` instead.\n",
      "  warnings.warn(\n",
      "D:\\Anaconda3\\lib\\site-packages\\xgboost\\sklearn.py:793: UserWarning: `early_stopping_rounds` in `fit` method is deprecated for better compatibility with scikit-learn, use `early_stopping_rounds` in constructor or`set_params` instead.\n",
      "  warnings.warn(\n"
     ]
    },
    {
     "name": "stdout",
     "output_type": "stream",
     "text": [
      "[4]\tvalidation_0-mae:5.84631\n",
      "[0]\tvalidation_0-mae:5.52886\n",
      "[1]\tvalidation_0-mae:5.62102\n",
      "[2]\tvalidation_0-mae:5.72548\n",
      "[3]\tvalidation_0-mae:5.83605\n",
      "[4]\tvalidation_0-mae:5.95278\n",
      "[0]\tvalidation_0-mae:5.62978\n",
      "[1]\tvalidation_0-mae:5.82623\n",
      "[2]\tvalidation_0-mae:6.01204\n",
      "[3]\tvalidation_0-mae:6.18787\n",
      "[4]\tvalidation_0-mae:6.38294\n"
     ]
    },
    {
     "name": "stderr",
     "output_type": "stream",
     "text": [
      "D:\\Anaconda3\\lib\\site-packages\\xgboost\\sklearn.py:793: UserWarning: `early_stopping_rounds` in `fit` method is deprecated for better compatibility with scikit-learn, use `early_stopping_rounds` in constructor or`set_params` instead.\n",
      "  warnings.warn(\n",
      "D:\\Anaconda3\\lib\\site-packages\\xgboost\\sklearn.py:793: UserWarning: `early_stopping_rounds` in `fit` method is deprecated for better compatibility with scikit-learn, use `early_stopping_rounds` in constructor or`set_params` instead.\n",
      "  warnings.warn(\n"
     ]
    },
    {
     "name": "stdout",
     "output_type": "stream",
     "text": [
      "[0]\tvalidation_0-mae:5.66614\n",
      "[1]\tvalidation_0-mae:5.84227\n",
      "[2]\tvalidation_0-mae:6.03183\n",
      "[3]\tvalidation_0-mae:6.25560\n",
      "[4]\tvalidation_0-mae:6.48220\n",
      "[5]\tvalidation_0-mae:6.67236\n",
      "[0]\tvalidation_0-mae:5.61362\n",
      "[1]\tvalidation_0-mae:5.77594\n",
      "[2]\tvalidation_0-mae:5.95126\n",
      "[3]\tvalidation_0-mae:6.11069\n",
      "[4]\tvalidation_0-mae:6.29260\n"
     ]
    },
    {
     "name": "stderr",
     "output_type": "stream",
     "text": [
      "D:\\Anaconda3\\lib\\site-packages\\xgboost\\sklearn.py:793: UserWarning: `early_stopping_rounds` in `fit` method is deprecated for better compatibility with scikit-learn, use `early_stopping_rounds` in constructor or`set_params` instead.\n",
      "  warnings.warn(\n",
      "D:\\Anaconda3\\lib\\site-packages\\xgboost\\sklearn.py:793: UserWarning: `early_stopping_rounds` in `fit` method is deprecated for better compatibility with scikit-learn, use `early_stopping_rounds` in constructor or`set_params` instead.\n",
      "  warnings.warn(\n"
     ]
    },
    {
     "name": "stdout",
     "output_type": "stream",
     "text": [
      "[0]\tvalidation_0-mae:5.65018\n",
      "[1]\tvalidation_0-mae:5.85444\n",
      "[2]\tvalidation_0-mae:6.09238\n",
      "[3]\tvalidation_0-mae:6.30233\n",
      "[4]\tvalidation_0-mae:6.51792\n",
      "[0]\tvalidation_0-mae:5.60038\n",
      "[1]\tvalidation_0-mae:5.78333\n",
      "[2]\tvalidation_0-mae:5.96028\n",
      "[3]\tvalidation_0-mae:6.13766\n",
      "[4]\tvalidation_0-mae:6.28654\n"
     ]
    },
    {
     "name": "stderr",
     "output_type": "stream",
     "text": [
      "D:\\Anaconda3\\lib\\site-packages\\xgboost\\sklearn.py:793: UserWarning: `early_stopping_rounds` in `fit` method is deprecated for better compatibility with scikit-learn, use `early_stopping_rounds` in constructor or`set_params` instead.\n",
      "  warnings.warn(\n",
      "D:\\Anaconda3\\lib\\site-packages\\xgboost\\sklearn.py:793: UserWarning: `early_stopping_rounds` in `fit` method is deprecated for better compatibility with scikit-learn, use `early_stopping_rounds` in constructor or`set_params` instead.\n",
      "  warnings.warn(\n"
     ]
    },
    {
     "name": "stdout",
     "output_type": "stream",
     "text": [
      "[0]\tvalidation_0-mae:5.65470\n",
      "[1]\tvalidation_0-mae:5.88840\n",
      "[2]\tvalidation_0-mae:6.09751\n",
      "[3]\tvalidation_0-mae:6.33648\n",
      "[4]\tvalidation_0-mae:6.54012\n",
      "[5]\tvalidation_0-mae:6.73899\n",
      "[0]\tvalidation_0-mae:5.62978\n",
      "[1]\tvalidation_0-mae:5.82623\n",
      "[2]\tvalidation_0-mae:6.01204\n",
      "[3]\tvalidation_0-mae:6.18787\n",
      "[4]\tvalidation_0-mae:6.38294\n"
     ]
    },
    {
     "name": "stderr",
     "output_type": "stream",
     "text": [
      "D:\\Anaconda3\\lib\\site-packages\\xgboost\\sklearn.py:793: UserWarning: `early_stopping_rounds` in `fit` method is deprecated for better compatibility with scikit-learn, use `early_stopping_rounds` in constructor or`set_params` instead.\n",
      "  warnings.warn(\n",
      "D:\\Anaconda3\\lib\\site-packages\\xgboost\\sklearn.py:793: UserWarning: `early_stopping_rounds` in `fit` method is deprecated for better compatibility with scikit-learn, use `early_stopping_rounds` in constructor or`set_params` instead.\n",
      "  warnings.warn(\n"
     ]
    },
    {
     "name": "stdout",
     "output_type": "stream",
     "text": [
      "[0]\tvalidation_0-mae:5.66614\n",
      "[1]\tvalidation_0-mae:5.84227\n",
      "[2]\tvalidation_0-mae:6.03183\n",
      "[3]\tvalidation_0-mae:6.25560\n",
      "[4]\tvalidation_0-mae:6.48220\n",
      "[0]\tvalidation_0-mae:5.61362\n",
      "[1]\tvalidation_0-mae:5.77594\n",
      "[2]\tvalidation_0-mae:5.95126\n",
      "[3]\tvalidation_0-mae:6.11069\n",
      "[4]\tvalidation_0-mae:6.29260\n"
     ]
    },
    {
     "name": "stderr",
     "output_type": "stream",
     "text": [
      "D:\\Anaconda3\\lib\\site-packages\\xgboost\\sklearn.py:793: UserWarning: `early_stopping_rounds` in `fit` method is deprecated for better compatibility with scikit-learn, use `early_stopping_rounds` in constructor or`set_params` instead.\n",
      "  warnings.warn(\n",
      "D:\\Anaconda3\\lib\\site-packages\\xgboost\\sklearn.py:793: UserWarning: `early_stopping_rounds` in `fit` method is deprecated for better compatibility with scikit-learn, use `early_stopping_rounds` in constructor or`set_params` instead.\n",
      "  warnings.warn(\n"
     ]
    },
    {
     "name": "stdout",
     "output_type": "stream",
     "text": [
      "[0]\tvalidation_0-mae:5.65018\n",
      "[1]\tvalidation_0-mae:5.85444\n",
      "[2]\tvalidation_0-mae:6.09238\n",
      "[3]\tvalidation_0-mae:6.30233\n",
      "[4]\tvalidation_0-mae:6.51792\n",
      "[5]\tvalidation_0-mae:6.70448\n",
      "[0]\tvalidation_0-mae:5.60038\n",
      "[1]\tvalidation_0-mae:5.78333\n",
      "[2]\tvalidation_0-mae:5.96028\n",
      "[3]\tvalidation_0-mae:6.13766\n",
      "[4]\tvalidation_0-mae:6.28654\n"
     ]
    },
    {
     "name": "stderr",
     "output_type": "stream",
     "text": [
      "D:\\Anaconda3\\lib\\site-packages\\xgboost\\sklearn.py:793: UserWarning: `early_stopping_rounds` in `fit` method is deprecated for better compatibility with scikit-learn, use `early_stopping_rounds` in constructor or`set_params` instead.\n",
      "  warnings.warn(\n",
      "D:\\Anaconda3\\lib\\site-packages\\xgboost\\sklearn.py:793: UserWarning: `early_stopping_rounds` in `fit` method is deprecated for better compatibility with scikit-learn, use `early_stopping_rounds` in constructor or`set_params` instead.\n",
      "  warnings.warn(\n"
     ]
    },
    {
     "name": "stdout",
     "output_type": "stream",
     "text": [
      "[0]\tvalidation_0-mae:5.65470\n",
      "[1]\tvalidation_0-mae:5.88840\n",
      "[2]\tvalidation_0-mae:6.09751\n",
      "[3]\tvalidation_0-mae:6.33648\n",
      "[4]\tvalidation_0-mae:6.54012\n",
      "[0]\tvalidation_0-mae:5.62978\n",
      "[1]\tvalidation_0-mae:5.82623\n",
      "[2]\tvalidation_0-mae:6.01204\n",
      "[3]\tvalidation_0-mae:6.18787\n",
      "[4]\tvalidation_0-mae:6.38294\n",
      "[5]\tvalidation_0-mae:6.50946\n"
     ]
    },
    {
     "name": "stderr",
     "output_type": "stream",
     "text": [
      "D:\\Anaconda3\\lib\\site-packages\\xgboost\\sklearn.py:793: UserWarning: `early_stopping_rounds` in `fit` method is deprecated for better compatibility with scikit-learn, use `early_stopping_rounds` in constructor or`set_params` instead.\n",
      "  warnings.warn(\n",
      "D:\\Anaconda3\\lib\\site-packages\\xgboost\\sklearn.py:793: UserWarning: `early_stopping_rounds` in `fit` method is deprecated for better compatibility with scikit-learn, use `early_stopping_rounds` in constructor or`set_params` instead.\n",
      "  warnings.warn(\n"
     ]
    },
    {
     "name": "stdout",
     "output_type": "stream",
     "text": [
      "[0]\tvalidation_0-mae:5.66614\n",
      "[1]\tvalidation_0-mae:5.84227\n",
      "[2]\tvalidation_0-mae:6.03183\n",
      "[3]\tvalidation_0-mae:6.25560\n",
      "[4]\tvalidation_0-mae:6.48220\n",
      "[5]\tvalidation_0-mae:6.67236\n",
      "[0]\tvalidation_0-mae:5.61362\n",
      "[1]\tvalidation_0-mae:5.77594\n",
      "[2]\tvalidation_0-mae:5.95126\n",
      "[3]\tvalidation_0-mae:6.11069\n",
      "[4]\tvalidation_0-mae:6.29260\n",
      "[5]\tvalidation_0-mae:6.43544\n"
     ]
    },
    {
     "name": "stderr",
     "output_type": "stream",
     "text": [
      "D:\\Anaconda3\\lib\\site-packages\\xgboost\\sklearn.py:793: UserWarning: `early_stopping_rounds` in `fit` method is deprecated for better compatibility with scikit-learn, use `early_stopping_rounds` in constructor or`set_params` instead.\n",
      "  warnings.warn(\n",
      "D:\\Anaconda3\\lib\\site-packages\\xgboost\\sklearn.py:793: UserWarning: `early_stopping_rounds` in `fit` method is deprecated for better compatibility with scikit-learn, use `early_stopping_rounds` in constructor or`set_params` instead.\n",
      "  warnings.warn(\n"
     ]
    },
    {
     "name": "stdout",
     "output_type": "stream",
     "text": [
      "[0]\tvalidation_0-mae:5.65018\n",
      "[1]\tvalidation_0-mae:5.85444\n",
      "[2]\tvalidation_0-mae:6.09238\n",
      "[3]\tvalidation_0-mae:6.30233\n",
      "[4]\tvalidation_0-mae:6.51792\n",
      "[0]\tvalidation_0-mae:5.60038\n",
      "[1]\tvalidation_0-mae:5.78333\n",
      "[2]\tvalidation_0-mae:5.96028\n",
      "[3]\tvalidation_0-mae:6.13766\n",
      "[4]\tvalidation_0-mae:6.28654\n"
     ]
    },
    {
     "name": "stderr",
     "output_type": "stream",
     "text": [
      "D:\\Anaconda3\\lib\\site-packages\\xgboost\\sklearn.py:793: UserWarning: `early_stopping_rounds` in `fit` method is deprecated for better compatibility with scikit-learn, use `early_stopping_rounds` in constructor or`set_params` instead.\n",
      "  warnings.warn(\n",
      "D:\\Anaconda3\\lib\\site-packages\\xgboost\\sklearn.py:793: UserWarning: `early_stopping_rounds` in `fit` method is deprecated for better compatibility with scikit-learn, use `early_stopping_rounds` in constructor or`set_params` instead.\n",
      "  warnings.warn(\n"
     ]
    },
    {
     "name": "stdout",
     "output_type": "stream",
     "text": [
      "[0]\tvalidation_0-mae:5.65470\n",
      "[1]\tvalidation_0-mae:5.88840\n",
      "[2]\tvalidation_0-mae:6.09751\n",
      "[3]\tvalidation_0-mae:6.33648\n",
      "[4]\tvalidation_0-mae:6.54012\n",
      "[0]\tvalidation_0-mae:5.61828\n",
      "[1]\tvalidation_0-mae:5.79671\n",
      "[2]\tvalidation_0-mae:5.98112\n",
      "[3]\tvalidation_0-mae:6.16744\n",
      "[4]\tvalidation_0-mae:6.38060\n",
      "[5]\tvalidation_0-mae:6.51499\n"
     ]
    },
    {
     "name": "stderr",
     "output_type": "stream",
     "text": [
      "D:\\Anaconda3\\lib\\site-packages\\xgboost\\sklearn.py:793: UserWarning: `early_stopping_rounds` in `fit` method is deprecated for better compatibility with scikit-learn, use `early_stopping_rounds` in constructor or`set_params` instead.\n",
      "  warnings.warn(\n",
      "D:\\Anaconda3\\lib\\site-packages\\xgboost\\sklearn.py:793: UserWarning: `early_stopping_rounds` in `fit` method is deprecated for better compatibility with scikit-learn, use `early_stopping_rounds` in constructor or`set_params` instead.\n",
      "  warnings.warn(\n"
     ]
    },
    {
     "name": "stdout",
     "output_type": "stream",
     "text": [
      "[0]\tvalidation_0-mae:5.66486\n",
      "[1]\tvalidation_0-mae:5.84708\n",
      "[2]\tvalidation_0-mae:6.03662\n",
      "[3]\tvalidation_0-mae:6.30024\n",
      "[4]\tvalidation_0-mae:6.49370\n",
      "[0]\tvalidation_0-mae:5.59940\n",
      "[1]\tvalidation_0-mae:5.76385\n",
      "[2]\tvalidation_0-mae:5.95163\n",
      "[3]\tvalidation_0-mae:6.13199\n",
      "[4]\tvalidation_0-mae:6.30864\n"
     ]
    },
    {
     "name": "stderr",
     "output_type": "stream",
     "text": [
      "D:\\Anaconda3\\lib\\site-packages\\xgboost\\sklearn.py:793: UserWarning: `early_stopping_rounds` in `fit` method is deprecated for better compatibility with scikit-learn, use `early_stopping_rounds` in constructor or`set_params` instead.\n",
      "  warnings.warn(\n",
      "D:\\Anaconda3\\lib\\site-packages\\xgboost\\sklearn.py:793: UserWarning: `early_stopping_rounds` in `fit` method is deprecated for better compatibility with scikit-learn, use `early_stopping_rounds` in constructor or`set_params` instead.\n",
      "  warnings.warn(\n"
     ]
    },
    {
     "name": "stdout",
     "output_type": "stream",
     "text": [
      "[0]\tvalidation_0-mae:5.65525\n",
      "[1]\tvalidation_0-mae:5.85125\n",
      "[2]\tvalidation_0-mae:6.06273\n",
      "[3]\tvalidation_0-mae:6.31093\n",
      "[4]\tvalidation_0-mae:6.53347\n",
      "[5]\tvalidation_0-mae:6.71883\n",
      "[0]\tvalidation_0-mae:5.58262\n",
      "[1]\tvalidation_0-mae:5.75334\n",
      "[2]\tvalidation_0-mae:5.93007\n",
      "[3]\tvalidation_0-mae:6.10582\n",
      "[4]\tvalidation_0-mae:6.27128\n",
      "[5]\tvalidation_0-mae:6.42452\n"
     ]
    },
    {
     "name": "stderr",
     "output_type": "stream",
     "text": [
      "D:\\Anaconda3\\lib\\site-packages\\xgboost\\sklearn.py:793: UserWarning: `early_stopping_rounds` in `fit` method is deprecated for better compatibility with scikit-learn, use `early_stopping_rounds` in constructor or`set_params` instead.\n",
      "  warnings.warn(\n",
      "D:\\Anaconda3\\lib\\site-packages\\xgboost\\sklearn.py:793: UserWarning: `early_stopping_rounds` in `fit` method is deprecated for better compatibility with scikit-learn, use `early_stopping_rounds` in constructor or`set_params` instead.\n",
      "  warnings.warn(\n"
     ]
    },
    {
     "name": "stdout",
     "output_type": "stream",
     "text": [
      "[0]\tvalidation_0-mae:5.62906\n",
      "[1]\tvalidation_0-mae:5.88050\n",
      "[2]\tvalidation_0-mae:6.08632\n",
      "[3]\tvalidation_0-mae:6.32538\n",
      "[4]\tvalidation_0-mae:6.52609\n",
      "[5]\tvalidation_0-mae:6.74055\n",
      "[0]\tvalidation_0-mae:5.61828\n",
      "[1]\tvalidation_0-mae:5.79671\n",
      "[2]\tvalidation_0-mae:5.98112\n",
      "[3]\tvalidation_0-mae:6.16744\n",
      "[4]\tvalidation_0-mae:6.38060\n"
     ]
    },
    {
     "name": "stderr",
     "output_type": "stream",
     "text": [
      "D:\\Anaconda3\\lib\\site-packages\\xgboost\\sklearn.py:793: UserWarning: `early_stopping_rounds` in `fit` method is deprecated for better compatibility with scikit-learn, use `early_stopping_rounds` in constructor or`set_params` instead.\n",
      "  warnings.warn(\n",
      "D:\\Anaconda3\\lib\\site-packages\\xgboost\\sklearn.py:793: UserWarning: `early_stopping_rounds` in `fit` method is deprecated for better compatibility with scikit-learn, use `early_stopping_rounds` in constructor or`set_params` instead.\n",
      "  warnings.warn(\n"
     ]
    },
    {
     "name": "stdout",
     "output_type": "stream",
     "text": [
      "[5]\tvalidation_0-mae:6.51499\n",
      "[0]\tvalidation_0-mae:5.66486\n",
      "[1]\tvalidation_0-mae:5.84708\n",
      "[2]\tvalidation_0-mae:6.03662\n",
      "[3]\tvalidation_0-mae:6.30024\n",
      "[4]\tvalidation_0-mae:6.49370\n",
      "[0]\tvalidation_0-mae:5.59940\n",
      "[1]\tvalidation_0-mae:5.76385\n",
      "[2]\tvalidation_0-mae:5.95163\n",
      "[3]\tvalidation_0-mae:6.13199\n",
      "[4]\tvalidation_0-mae:6.30864\n",
      "[5]\tvalidation_0-mae:6.46202\n"
     ]
    },
    {
     "name": "stderr",
     "output_type": "stream",
     "text": [
      "D:\\Anaconda3\\lib\\site-packages\\xgboost\\sklearn.py:793: UserWarning: `early_stopping_rounds` in `fit` method is deprecated for better compatibility with scikit-learn, use `early_stopping_rounds` in constructor or`set_params` instead.\n",
      "  warnings.warn(\n",
      "D:\\Anaconda3\\lib\\site-packages\\xgboost\\sklearn.py:793: UserWarning: `early_stopping_rounds` in `fit` method is deprecated for better compatibility with scikit-learn, use `early_stopping_rounds` in constructor or`set_params` instead.\n",
      "  warnings.warn(\n"
     ]
    },
    {
     "name": "stdout",
     "output_type": "stream",
     "text": [
      "[0]\tvalidation_0-mae:5.65525\n",
      "[1]\tvalidation_0-mae:5.85125\n",
      "[2]\tvalidation_0-mae:6.06273\n",
      "[3]\tvalidation_0-mae:6.31093\n",
      "[4]\tvalidation_0-mae:6.53347\n",
      "[5]\tvalidation_0-mae:6.71883\n",
      "[0]\tvalidation_0-mae:5.58262\n",
      "[1]\tvalidation_0-mae:5.75334\n",
      "[2]\tvalidation_0-mae:5.93007\n",
      "[3]\tvalidation_0-mae:6.10582\n",
      "[4]\tvalidation_0-mae:6.27128\n",
      "[5]\tvalidation_0-mae:6.42452\n"
     ]
    },
    {
     "name": "stderr",
     "output_type": "stream",
     "text": [
      "D:\\Anaconda3\\lib\\site-packages\\xgboost\\sklearn.py:793: UserWarning: `early_stopping_rounds` in `fit` method is deprecated for better compatibility with scikit-learn, use `early_stopping_rounds` in constructor or`set_params` instead.\n",
      "  warnings.warn(\n",
      "D:\\Anaconda3\\lib\\site-packages\\xgboost\\sklearn.py:793: UserWarning: `early_stopping_rounds` in `fit` method is deprecated for better compatibility with scikit-learn, use `early_stopping_rounds` in constructor or`set_params` instead.\n",
      "  warnings.warn(\n"
     ]
    },
    {
     "name": "stdout",
     "output_type": "stream",
     "text": [
      "[0]\tvalidation_0-mae:5.62906\n",
      "[1]\tvalidation_0-mae:5.88050\n",
      "[2]\tvalidation_0-mae:6.08632\n",
      "[3]\tvalidation_0-mae:6.32538\n",
      "[4]\tvalidation_0-mae:6.52609\n",
      "[5]\tvalidation_0-mae:6.74055\n",
      "[0]\tvalidation_0-mae:5.61828\n",
      "[1]\tvalidation_0-mae:5.79671\n",
      "[2]\tvalidation_0-mae:5.98112\n",
      "[3]\tvalidation_0-mae:6.16744\n",
      "[4]\tvalidation_0-mae:6.38060\n"
     ]
    },
    {
     "name": "stderr",
     "output_type": "stream",
     "text": [
      "D:\\Anaconda3\\lib\\site-packages\\xgboost\\sklearn.py:793: UserWarning: `early_stopping_rounds` in `fit` method is deprecated for better compatibility with scikit-learn, use `early_stopping_rounds` in constructor or`set_params` instead.\n",
      "  warnings.warn(\n",
      "D:\\Anaconda3\\lib\\site-packages\\xgboost\\sklearn.py:793: UserWarning: `early_stopping_rounds` in `fit` method is deprecated for better compatibility with scikit-learn, use `early_stopping_rounds` in constructor or`set_params` instead.\n",
      "  warnings.warn(\n"
     ]
    },
    {
     "name": "stdout",
     "output_type": "stream",
     "text": [
      "[0]\tvalidation_0-mae:5.66486\n",
      "[1]\tvalidation_0-mae:5.84708\n",
      "[2]\tvalidation_0-mae:6.03662\n",
      "[3]\tvalidation_0-mae:6.30024\n",
      "[4]\tvalidation_0-mae:6.49370\n",
      "[0]\tvalidation_0-mae:5.59940\n",
      "[1]\tvalidation_0-mae:5.76385\n",
      "[2]\tvalidation_0-mae:5.95163\n",
      "[3]\tvalidation_0-mae:6.13199\n",
      "[4]\tvalidation_0-mae:6.30864\n",
      "[5]\tvalidation_0-mae:6.46202\n"
     ]
    },
    {
     "name": "stderr",
     "output_type": "stream",
     "text": [
      "D:\\Anaconda3\\lib\\site-packages\\xgboost\\sklearn.py:793: UserWarning: `early_stopping_rounds` in `fit` method is deprecated for better compatibility with scikit-learn, use `early_stopping_rounds` in constructor or`set_params` instead.\n",
      "  warnings.warn(\n",
      "D:\\Anaconda3\\lib\\site-packages\\xgboost\\sklearn.py:793: UserWarning: `early_stopping_rounds` in `fit` method is deprecated for better compatibility with scikit-learn, use `early_stopping_rounds` in constructor or`set_params` instead.\n",
      "  warnings.warn(\n"
     ]
    },
    {
     "name": "stdout",
     "output_type": "stream",
     "text": [
      "[0]\tvalidation_0-mae:5.65525\n",
      "[1]\tvalidation_0-mae:5.85125\n",
      "[2]\tvalidation_0-mae:6.06273\n",
      "[3]\tvalidation_0-mae:6.31093\n",
      "[4]\tvalidation_0-mae:6.53347\n",
      "[0]\tvalidation_0-mae:5.58262\n",
      "[1]\tvalidation_0-mae:5.75334\n",
      "[2]\tvalidation_0-mae:5.93007\n",
      "[3]\tvalidation_0-mae:6.10582\n",
      "[4]\tvalidation_0-mae:6.27128\n"
     ]
    },
    {
     "name": "stderr",
     "output_type": "stream",
     "text": [
      "D:\\Anaconda3\\lib\\site-packages\\xgboost\\sklearn.py:793: UserWarning: `early_stopping_rounds` in `fit` method is deprecated for better compatibility with scikit-learn, use `early_stopping_rounds` in constructor or`set_params` instead.\n",
      "  warnings.warn(\n",
      "D:\\Anaconda3\\lib\\site-packages\\xgboost\\sklearn.py:793: UserWarning: `early_stopping_rounds` in `fit` method is deprecated for better compatibility with scikit-learn, use `early_stopping_rounds` in constructor or`set_params` instead.\n",
      "  warnings.warn(\n"
     ]
    },
    {
     "name": "stdout",
     "output_type": "stream",
     "text": [
      "[0]\tvalidation_0-mae:5.62906\n",
      "[1]\tvalidation_0-mae:5.88050\n",
      "[2]\tvalidation_0-mae:6.08632\n",
      "[3]\tvalidation_0-mae:6.32538\n",
      "[4]\tvalidation_0-mae:6.52609\n",
      "[5]\tvalidation_0-mae:6.74055\n",
      "[0]\tvalidation_0-mae:5.59775\n",
      "[1]\tvalidation_0-mae:5.80345\n",
      "[2]\tvalidation_0-mae:5.98002\n",
      "[3]\tvalidation_0-mae:6.15470\n",
      "[4]\tvalidation_0-mae:6.37126\n"
     ]
    },
    {
     "name": "stderr",
     "output_type": "stream",
     "text": [
      "D:\\Anaconda3\\lib\\site-packages\\xgboost\\sklearn.py:793: UserWarning: `early_stopping_rounds` in `fit` method is deprecated for better compatibility with scikit-learn, use `early_stopping_rounds` in constructor or`set_params` instead.\n",
      "  warnings.warn(\n",
      "D:\\Anaconda3\\lib\\site-packages\\xgboost\\sklearn.py:793: UserWarning: `early_stopping_rounds` in `fit` method is deprecated for better compatibility with scikit-learn, use `early_stopping_rounds` in constructor or`set_params` instead.\n",
      "  warnings.warn(\n"
     ]
    },
    {
     "name": "stdout",
     "output_type": "stream",
     "text": [
      "[5]\tvalidation_0-mae:6.50628\n",
      "[0]\tvalidation_0-mae:5.68356\n",
      "[1]\tvalidation_0-mae:5.84987\n",
      "[2]\tvalidation_0-mae:6.03476\n",
      "[3]\tvalidation_0-mae:6.25696\n",
      "[4]\tvalidation_0-mae:6.42796\n",
      "[0]\tvalidation_0-mae:5.59724\n",
      "[1]\tvalidation_0-mae:5.76114\n",
      "[2]\tvalidation_0-mae:5.94837\n",
      "[3]\tvalidation_0-mae:6.13018\n",
      "[4]\tvalidation_0-mae:6.30081\n"
     ]
    },
    {
     "name": "stderr",
     "output_type": "stream",
     "text": [
      "D:\\Anaconda3\\lib\\site-packages\\xgboost\\sklearn.py:793: UserWarning: `early_stopping_rounds` in `fit` method is deprecated for better compatibility with scikit-learn, use `early_stopping_rounds` in constructor or`set_params` instead.\n",
      "  warnings.warn(\n",
      "D:\\Anaconda3\\lib\\site-packages\\xgboost\\sklearn.py:793: UserWarning: `early_stopping_rounds` in `fit` method is deprecated for better compatibility with scikit-learn, use `early_stopping_rounds` in constructor or`set_params` instead.\n",
      "  warnings.warn(\n"
     ]
    },
    {
     "name": "stdout",
     "output_type": "stream",
     "text": [
      "[0]\tvalidation_0-mae:5.63537\n",
      "[1]\tvalidation_0-mae:5.84620\n",
      "[2]\tvalidation_0-mae:6.06275\n",
      "[3]\tvalidation_0-mae:6.27229\n",
      "[4]\tvalidation_0-mae:6.47759\n",
      "[5]\tvalidation_0-mae:6.69107\n",
      "[0]\tvalidation_0-mae:5.59324\n",
      "[1]\tvalidation_0-mae:5.76653\n",
      "[2]\tvalidation_0-mae:5.94959\n",
      "[3]\tvalidation_0-mae:6.11870\n",
      "[4]\tvalidation_0-mae:6.28890\n"
     ]
    },
    {
     "name": "stderr",
     "output_type": "stream",
     "text": [
      "D:\\Anaconda3\\lib\\site-packages\\xgboost\\sklearn.py:793: UserWarning: `early_stopping_rounds` in `fit` method is deprecated for better compatibility with scikit-learn, use `early_stopping_rounds` in constructor or`set_params` instead.\n",
      "  warnings.warn(\n",
      "D:\\Anaconda3\\lib\\site-packages\\xgboost\\sklearn.py:793: UserWarning: `early_stopping_rounds` in `fit` method is deprecated for better compatibility with scikit-learn, use `early_stopping_rounds` in constructor or`set_params` instead.\n",
      "  warnings.warn(\n"
     ]
    },
    {
     "name": "stdout",
     "output_type": "stream",
     "text": [
      "[0]\tvalidation_0-mae:5.63447\n",
      "[1]\tvalidation_0-mae:5.84529\n",
      "[2]\tvalidation_0-mae:6.07259\n",
      "[3]\tvalidation_0-mae:6.29271\n",
      "[4]\tvalidation_0-mae:6.48552\n",
      "[0]\tvalidation_0-mae:5.59775\n",
      "[1]\tvalidation_0-mae:5.80345\n",
      "[2]\tvalidation_0-mae:5.98002\n",
      "[3]\tvalidation_0-mae:6.15470\n",
      "[4]\tvalidation_0-mae:6.37126\n"
     ]
    },
    {
     "name": "stderr",
     "output_type": "stream",
     "text": [
      "D:\\Anaconda3\\lib\\site-packages\\xgboost\\sklearn.py:793: UserWarning: `early_stopping_rounds` in `fit` method is deprecated for better compatibility with scikit-learn, use `early_stopping_rounds` in constructor or`set_params` instead.\n",
      "  warnings.warn(\n",
      "D:\\Anaconda3\\lib\\site-packages\\xgboost\\sklearn.py:793: UserWarning: `early_stopping_rounds` in `fit` method is deprecated for better compatibility with scikit-learn, use `early_stopping_rounds` in constructor or`set_params` instead.\n",
      "  warnings.warn(\n"
     ]
    },
    {
     "name": "stdout",
     "output_type": "stream",
     "text": [
      "[0]\tvalidation_0-mae:5.68356\n",
      "[1]\tvalidation_0-mae:5.84987\n",
      "[2]\tvalidation_0-mae:6.03476\n",
      "[3]\tvalidation_0-mae:6.25696\n",
      "[4]\tvalidation_0-mae:6.42796\n",
      "[5]\tvalidation_0-mae:6.58901\n",
      "[0]\tvalidation_0-mae:5.59724\n",
      "[1]\tvalidation_0-mae:5.76114\n",
      "[2]\tvalidation_0-mae:5.94837\n"
     ]
    },
    {
     "name": "stderr",
     "output_type": "stream",
     "text": [
      "D:\\Anaconda3\\lib\\site-packages\\xgboost\\sklearn.py:793: UserWarning: `early_stopping_rounds` in `fit` method is deprecated for better compatibility with scikit-learn, use `early_stopping_rounds` in constructor or`set_params` instead.\n",
      "  warnings.warn(\n",
      "D:\\Anaconda3\\lib\\site-packages\\xgboost\\sklearn.py:793: UserWarning: `early_stopping_rounds` in `fit` method is deprecated for better compatibility with scikit-learn, use `early_stopping_rounds` in constructor or`set_params` instead.\n",
      "  warnings.warn(\n"
     ]
    },
    {
     "name": "stdout",
     "output_type": "stream",
     "text": [
      "[3]\tvalidation_0-mae:6.13018\n",
      "[4]\tvalidation_0-mae:6.30081\n",
      "[0]\tvalidation_0-mae:5.63537\n",
      "[1]\tvalidation_0-mae:5.84620\n",
      "[2]\tvalidation_0-mae:6.06275\n",
      "[3]\tvalidation_0-mae:6.27229\n",
      "[4]\tvalidation_0-mae:6.47759\n",
      "[0]\tvalidation_0-mae:5.59324\n",
      "[1]\tvalidation_0-mae:5.76653\n",
      "[2]\tvalidation_0-mae:5.94959\n",
      "[3]\tvalidation_0-mae:6.11870\n"
     ]
    },
    {
     "name": "stderr",
     "output_type": "stream",
     "text": [
      "D:\\Anaconda3\\lib\\site-packages\\xgboost\\sklearn.py:793: UserWarning: `early_stopping_rounds` in `fit` method is deprecated for better compatibility with scikit-learn, use `early_stopping_rounds` in constructor or`set_params` instead.\n",
      "  warnings.warn(\n",
      "D:\\Anaconda3\\lib\\site-packages\\xgboost\\sklearn.py:793: UserWarning: `early_stopping_rounds` in `fit` method is deprecated for better compatibility with scikit-learn, use `early_stopping_rounds` in constructor or`set_params` instead.\n",
      "  warnings.warn(\n"
     ]
    },
    {
     "name": "stdout",
     "output_type": "stream",
     "text": [
      "[4]\tvalidation_0-mae:6.28890\n",
      "[0]\tvalidation_0-mae:5.63447\n",
      "[1]\tvalidation_0-mae:5.84529\n",
      "[2]\tvalidation_0-mae:6.07259\n",
      "[3]\tvalidation_0-mae:6.29271\n",
      "[4]\tvalidation_0-mae:6.48552\n",
      "[5]\tvalidation_0-mae:6.68151\n",
      "[0]\tvalidation_0-mae:5.59775\n",
      "[1]\tvalidation_0-mae:5.80345\n",
      "[2]\tvalidation_0-mae:5.98002\n",
      "[3]\tvalidation_0-mae:6.15470\n",
      "[4]\tvalidation_0-mae:6.37126\n"
     ]
    },
    {
     "name": "stderr",
     "output_type": "stream",
     "text": [
      "D:\\Anaconda3\\lib\\site-packages\\xgboost\\sklearn.py:793: UserWarning: `early_stopping_rounds` in `fit` method is deprecated for better compatibility with scikit-learn, use `early_stopping_rounds` in constructor or`set_params` instead.\n",
      "  warnings.warn(\n",
      "D:\\Anaconda3\\lib\\site-packages\\xgboost\\sklearn.py:793: UserWarning: `early_stopping_rounds` in `fit` method is deprecated for better compatibility with scikit-learn, use `early_stopping_rounds` in constructor or`set_params` instead.\n",
      "  warnings.warn(\n"
     ]
    },
    {
     "name": "stdout",
     "output_type": "stream",
     "text": [
      "[0]\tvalidation_0-mae:5.68356\n",
      "[1]\tvalidation_0-mae:5.84987\n",
      "[2]\tvalidation_0-mae:6.03476\n",
      "[3]\tvalidation_0-mae:6.25696\n",
      "[4]\tvalidation_0-mae:6.42796\n",
      "[0]\tvalidation_0-mae:5.59724\n",
      "[1]\tvalidation_0-mae:5.76114\n",
      "[2]\tvalidation_0-mae:5.94837\n",
      "[3]\tvalidation_0-mae:6.13018\n",
      "[4]\tvalidation_0-mae:6.30081\n"
     ]
    },
    {
     "name": "stderr",
     "output_type": "stream",
     "text": [
      "D:\\Anaconda3\\lib\\site-packages\\xgboost\\sklearn.py:793: UserWarning: `early_stopping_rounds` in `fit` method is deprecated for better compatibility with scikit-learn, use `early_stopping_rounds` in constructor or`set_params` instead.\n",
      "  warnings.warn(\n",
      "D:\\Anaconda3\\lib\\site-packages\\xgboost\\sklearn.py:793: UserWarning: `early_stopping_rounds` in `fit` method is deprecated for better compatibility with scikit-learn, use `early_stopping_rounds` in constructor or`set_params` instead.\n",
      "  warnings.warn(\n"
     ]
    },
    {
     "name": "stdout",
     "output_type": "stream",
     "text": [
      "[0]\tvalidation_0-mae:5.63537\n",
      "[1]\tvalidation_0-mae:5.84620\n",
      "[2]\tvalidation_0-mae:6.06275\n",
      "[3]\tvalidation_0-mae:6.27229\n",
      "[4]\tvalidation_0-mae:6.47759\n",
      "[5]\tvalidation_0-mae:6.69107\n",
      "[0]\tvalidation_0-mae:5.59324\n",
      "[1]\tvalidation_0-mae:5.76653\n",
      "[2]\tvalidation_0-mae:5.94959\n",
      "[3]\tvalidation_0-mae:6.11870\n"
     ]
    },
    {
     "name": "stderr",
     "output_type": "stream",
     "text": [
      "D:\\Anaconda3\\lib\\site-packages\\xgboost\\sklearn.py:793: UserWarning: `early_stopping_rounds` in `fit` method is deprecated for better compatibility with scikit-learn, use `early_stopping_rounds` in constructor or`set_params` instead.\n",
      "  warnings.warn(\n",
      "D:\\Anaconda3\\lib\\site-packages\\xgboost\\sklearn.py:793: UserWarning: `early_stopping_rounds` in `fit` method is deprecated for better compatibility with scikit-learn, use `early_stopping_rounds` in constructor or`set_params` instead.\n",
      "  warnings.warn(\n"
     ]
    },
    {
     "name": "stdout",
     "output_type": "stream",
     "text": [
      "[4]\tvalidation_0-mae:6.28890\n",
      "[0]\tvalidation_0-mae:5.63447\n",
      "[1]\tvalidation_0-mae:5.84529\n",
      "[2]\tvalidation_0-mae:6.07259\n",
      "[3]\tvalidation_0-mae:6.29271\n",
      "[4]\tvalidation_0-mae:6.48552\n",
      "[0]\tvalidation_0-mae:5.46110\n",
      "[1]\tvalidation_0-mae:5.47201\n"
     ]
    },
    {
     "name": "stderr",
     "output_type": "stream",
     "text": [
      "D:\\Anaconda3\\lib\\site-packages\\xgboost\\sklearn.py:793: UserWarning: `early_stopping_rounds` in `fit` method is deprecated for better compatibility with scikit-learn, use `early_stopping_rounds` in constructor or`set_params` instead.\n",
      "  warnings.warn(\n",
      "D:\\Anaconda3\\lib\\site-packages\\xgboost\\sklearn.py:793: UserWarning: `early_stopping_rounds` in `fit` method is deprecated for better compatibility with scikit-learn, use `early_stopping_rounds` in constructor or`set_params` instead.\n",
      "  warnings.warn(\n"
     ]
    },
    {
     "name": "stdout",
     "output_type": "stream",
     "text": [
      "[2]\tvalidation_0-mae:5.48431\n",
      "[3]\tvalidation_0-mae:5.49633\n",
      "[4]\tvalidation_0-mae:5.51049\n",
      "[5]\tvalidation_0-mae:5.52546\n"
     ]
    },
    {
     "data": {
      "text/plain": [
       "GridSearchCV(cv=2,\n",
       "             estimator=XGBRegressor(base_score=None, booster=None,\n",
       "                                    callbacks=None, colsample_bylevel=None,\n",
       "                                    colsample_bynode=None,\n",
       "                                    colsample_bytree=None,\n",
       "                                    early_stopping_rounds=None,\n",
       "                                    enable_categorical=False, eval_metric='mae',\n",
       "                                    gamma=None, gpu_id=None, grow_policy=None,\n",
       "                                    importance_type=None,\n",
       "                                    interaction_constraints=None,\n",
       "                                    learning_rate=None, max_bin=None,\n",
       "                                    max_ca...\n",
       "                                    monotone_constraints=None, n_estimators=100,\n",
       "                                    n_jobs=None, num_parallel_tree=None,\n",
       "                                    predictor=None, random_state=None,\n",
       "                                    reg_alpha=None, reg_lambda=None, ...),\n",
       "             param_grid={'colsample_bytree': [0.5, 0.8, 1.0],\n",
       "                         'learning_rate': [0.01, 0.05, 0.1],\n",
       "                         'max_depth': [3, 4, 5],\n",
       "                         'n_estimators': [500, 1000, 1500],\n",
       "                         'subsample': [0.5, 0.8, 1.0]},\n",
       "             return_train_score=True, scoring='neg_mean_absolute_error',\n",
       "             verbose=False)"
      ]
     },
     "execution_count": 32,
     "metadata": {},
     "output_type": "execute_result"
    }
   ],
   "source": [
    "# fit the model with grid search\n",
    "model_xgboost_hp = GridSearchCV(estimator=xgboost.XGBRegressor(eval_metric='mae',\n",
    "                                                                use_label_encoder=False),\n",
    "                                param_grid=params_dict,\n",
    "                                cv=2,\n",
    "                                scoring='neg_mean_absolute_error',\n",
    "                                return_train_score=True,\n",
    "                                verbose=False)\n",
    "\n",
    "model_xgboost_hp.fit( train_X, train_y,early_stopping_rounds=5, \n",
    "             eval_set=[(test_X, test_y)])"
   ]
  },
  {
   "cell_type": "code",
   "execution_count": 33,
   "id": "f9844066",
   "metadata": {},
   "outputs": [
    {
     "data": {
      "text/html": [
       "<div>\n",
       "<style scoped>\n",
       "    .dataframe tbody tr th:only-of-type {\n",
       "        vertical-align: middle;\n",
       "    }\n",
       "\n",
       "    .dataframe tbody tr th {\n",
       "        vertical-align: top;\n",
       "    }\n",
       "\n",
       "    .dataframe thead th {\n",
       "        text-align: right;\n",
       "    }\n",
       "</style>\n",
       "<table border=\"1\" class=\"dataframe\">\n",
       "  <thead>\n",
       "    <tr style=\"text-align: right;\">\n",
       "      <th></th>\n",
       "      <th>rank_test_score</th>\n",
       "      <th>mean_test_score</th>\n",
       "      <th>mean_train_score</th>\n",
       "      <th>param_learning_rate</th>\n",
       "      <th>param_max_depth</th>\n",
       "      <th>param_n_estimators</th>\n",
       "      <th>param_colsample_bytree</th>\n",
       "      <th>param_subsample</th>\n",
       "    </tr>\n",
       "  </thead>\n",
       "  <tbody>\n",
       "    <tr>\n",
       "      <th>181</th>\n",
       "      <td>1</td>\n",
       "      <td>-5.616071</td>\n",
       "      <td>-5.613846</td>\n",
       "      <td>0.01</td>\n",
       "      <td>5</td>\n",
       "      <td>500</td>\n",
       "      <td>1.0</td>\n",
       "      <td>0.8</td>\n",
       "    </tr>\n",
       "    <tr>\n",
       "      <th>184</th>\n",
       "      <td>1</td>\n",
       "      <td>-5.616071</td>\n",
       "      <td>-5.613846</td>\n",
       "      <td>0.01</td>\n",
       "      <td>5</td>\n",
       "      <td>1000</td>\n",
       "      <td>1.0</td>\n",
       "      <td>0.8</td>\n",
       "    </tr>\n",
       "    <tr>\n",
       "      <th>187</th>\n",
       "      <td>1</td>\n",
       "      <td>-5.616071</td>\n",
       "      <td>-5.613846</td>\n",
       "      <td>0.01</td>\n",
       "      <td>5</td>\n",
       "      <td>1500</td>\n",
       "      <td>1.0</td>\n",
       "      <td>0.8</td>\n",
       "    </tr>\n",
       "    <tr>\n",
       "      <th>176</th>\n",
       "      <td>4</td>\n",
       "      <td>-5.616427</td>\n",
       "      <td>-5.614905</td>\n",
       "      <td>0.01</td>\n",
       "      <td>4</td>\n",
       "      <td>1000</td>\n",
       "      <td>1.0</td>\n",
       "      <td>1.0</td>\n",
       "    </tr>\n",
       "    <tr>\n",
       "      <th>98</th>\n",
       "      <td>4</td>\n",
       "      <td>-5.616427</td>\n",
       "      <td>-5.614905</td>\n",
       "      <td>0.01</td>\n",
       "      <td>4</td>\n",
       "      <td>1500</td>\n",
       "      <td>0.8</td>\n",
       "      <td>1.0</td>\n",
       "    </tr>\n",
       "    <tr>\n",
       "      <th>...</th>\n",
       "      <td>...</td>\n",
       "      <td>...</td>\n",
       "      <td>...</td>\n",
       "      <td>...</td>\n",
       "      <td>...</td>\n",
       "      <td>...</td>\n",
       "      <td>...</td>\n",
       "      <td>...</td>\n",
       "    </tr>\n",
       "    <tr>\n",
       "      <th>156</th>\n",
       "      <td>238</td>\n",
       "      <td>-5.818670</td>\n",
       "      <td>-5.749834</td>\n",
       "      <td>0.1</td>\n",
       "      <td>5</td>\n",
       "      <td>1000</td>\n",
       "      <td>0.8</td>\n",
       "      <td>0.5</td>\n",
       "    </tr>\n",
       "    <tr>\n",
       "      <th>153</th>\n",
       "      <td>238</td>\n",
       "      <td>-5.818670</td>\n",
       "      <td>-5.749834</td>\n",
       "      <td>0.1</td>\n",
       "      <td>5</td>\n",
       "      <td>500</td>\n",
       "      <td>0.8</td>\n",
       "      <td>0.5</td>\n",
       "    </tr>\n",
       "    <tr>\n",
       "      <th>63</th>\n",
       "      <td>241</td>\n",
       "      <td>-5.824076</td>\n",
       "      <td>-5.810003</td>\n",
       "      <td>0.1</td>\n",
       "      <td>4</td>\n",
       "      <td>500</td>\n",
       "      <td>0.5</td>\n",
       "      <td>0.5</td>\n",
       "    </tr>\n",
       "    <tr>\n",
       "      <th>66</th>\n",
       "      <td>241</td>\n",
       "      <td>-5.824076</td>\n",
       "      <td>-5.810003</td>\n",
       "      <td>0.1</td>\n",
       "      <td>4</td>\n",
       "      <td>1000</td>\n",
       "      <td>0.5</td>\n",
       "      <td>0.5</td>\n",
       "    </tr>\n",
       "    <tr>\n",
       "      <th>69</th>\n",
       "      <td>241</td>\n",
       "      <td>-5.824076</td>\n",
       "      <td>-5.810003</td>\n",
       "      <td>0.1</td>\n",
       "      <td>4</td>\n",
       "      <td>1500</td>\n",
       "      <td>0.5</td>\n",
       "      <td>0.5</td>\n",
       "    </tr>\n",
       "  </tbody>\n",
       "</table>\n",
       "<p>243 rows × 8 columns</p>\n",
       "</div>"
      ],
      "text/plain": [
       "     rank_test_score  mean_test_score  mean_train_score param_learning_rate  \\\n",
       "181                1        -5.616071         -5.613846                0.01   \n",
       "184                1        -5.616071         -5.613846                0.01   \n",
       "187                1        -5.616071         -5.613846                0.01   \n",
       "176                4        -5.616427         -5.614905                0.01   \n",
       "98                 4        -5.616427         -5.614905                0.01   \n",
       "..               ...              ...               ...                 ...   \n",
       "156              238        -5.818670         -5.749834                 0.1   \n",
       "153              238        -5.818670         -5.749834                 0.1   \n",
       "63               241        -5.824076         -5.810003                 0.1   \n",
       "66               241        -5.824076         -5.810003                 0.1   \n",
       "69               241        -5.824076         -5.810003                 0.1   \n",
       "\n",
       "    param_max_depth param_n_estimators param_colsample_bytree param_subsample  \n",
       "181               5                500                    1.0             0.8  \n",
       "184               5               1000                    1.0             0.8  \n",
       "187               5               1500                    1.0             0.8  \n",
       "176               4               1000                    1.0             1.0  \n",
       "98                4               1500                    0.8             1.0  \n",
       "..              ...                ...                    ...             ...  \n",
       "156               5               1000                    0.8             0.5  \n",
       "153               5                500                    0.8             0.5  \n",
       "63                4                500                    0.5             0.5  \n",
       "66                4               1000                    0.5             0.5  \n",
       "69                4               1500                    0.5             0.5  \n",
       "\n",
       "[243 rows x 8 columns]"
      ]
     },
     "execution_count": 33,
     "metadata": {},
     "output_type": "execute_result"
    }
   ],
   "source": [
    "# showing the result table \n",
    "df_cv_results = pd.DataFrame(model_xgboost_hp.cv_results_)\n",
    "df_cv_results = df_cv_results[['rank_test_score','mean_test_score','mean_train_score',\n",
    "                               'param_learning_rate', 'param_max_depth', 'param_n_estimators','param_colsample_bytree','param_subsample']]\n",
    "df_cv_results.sort_values(by='rank_test_score', inplace=True)\n",
    "df_cv_results"
   ]
  },
  {
   "cell_type": "code",
   "execution_count": null,
   "id": "12051a52",
   "metadata": {},
   "outputs": [],
   "source": []
  }
 ],
 "metadata": {
  "kernelspec": {
   "display_name": "Python 3 (ipykernel)",
   "language": "python",
   "name": "python3"
  },
  "language_info": {
   "codemirror_mode": {
    "name": "ipython",
    "version": 3
   },
   "file_extension": ".py",
   "mimetype": "text/x-python",
   "name": "python",
   "nbconvert_exporter": "python",
   "pygments_lexer": "ipython3",
   "version": "3.9.12"
  }
 },
 "nbformat": 4,
 "nbformat_minor": 5
}
