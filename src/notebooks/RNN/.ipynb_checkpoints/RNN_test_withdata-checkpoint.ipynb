{
 "cells": [
  {
   "cell_type": "code",
   "execution_count": 1,
   "id": "888118d7",
   "metadata": {},
   "outputs": [],
   "source": [
    "from datetime import datetime\n",
    "import matplotlib.dates as mdates\n",
    "import pandas as pd\n",
    "import matplotlib.pyplot as plt\n",
    "import numpy as np\n",
    "import seaborn as sns\n",
    "import os\n",
    "import glob\n",
    "from numpy import genfromtxt\n",
    "import random\n",
    "import tensorflow as tf\n",
    "from tensorflow import keras\n",
    "from tensorflow.keras import layers\n",
    "from keras.layers import Masking\n",
    "from tqdm.notebook import tqdm\n",
    "from tensorflow.keras.models import Sequential\n",
    "from tensorflow.keras.layers import LSTM\n",
    "from tensorflow.keras.layers import Dense, Dropout\n",
    "from sklearn.preprocessing import StandardScaler\n",
    "from sklearn.metrics import mean_squared_error as mse"
   ]
  },
  {
   "cell_type": "code",
   "execution_count": 2,
   "id": "f5a4adc4",
   "metadata": {},
   "outputs": [],
   "source": [
    "random.seed(100)\n"
   ]
  },
  {
   "cell_type": "code",
   "execution_count": 3,
   "id": "d3a92ac2",
   "metadata": {},
   "outputs": [],
   "source": [
    "path = r'D:\\UCL\\Term3\\tbx-flaring-shihao\\src\\notebooks\\WIP_data\\RNN_v3' \n",
    "csv_files = glob.glob(os.path.join(path, \"*.csv\"))"
   ]
  },
  {
   "cell_type": "code",
   "execution_count": 4,
   "id": "b932b920",
   "metadata": {},
   "outputs": [
    {
     "data": {
      "application/vnd.jupyter.widget-view+json": {
       "model_id": "4eb21cbabe6d45d989440cdea21079ad",
       "version_major": 2,
       "version_minor": 0
      },
      "text/plain": [
       "  0%|          | 0/54134 [00:00<?, ?it/s]"
      ]
     },
     "metadata": {},
     "output_type": "display_data"
    },
    {
     "ename": "KeyboardInterrupt",
     "evalue": "",
     "output_type": "error",
     "traceback": [
      "\u001b[1;31m---------------------------------------------------------------------------\u001b[0m",
      "\u001b[1;31mKeyboardInterrupt\u001b[0m                         Traceback (most recent call last)",
      "Input \u001b[1;32mIn [4]\u001b[0m, in \u001b[0;36m<cell line: 3>\u001b[1;34m()\u001b[0m\n\u001b[0;32m      1\u001b[0m list_array\u001b[38;5;241m=\u001b[39m[]\n\u001b[0;32m      3\u001b[0m \u001b[38;5;28;01mfor\u001b[39;00m p \u001b[38;5;129;01min\u001b[39;00m tqdm(csv_files):\n\u001b[1;32m----> 4\u001b[0m     content \u001b[38;5;241m=\u001b[39m \u001b[43mgenfromtxt\u001b[49m\u001b[43m(\u001b[49m\u001b[43mp\u001b[49m\u001b[43m,\u001b[49m\u001b[43m \u001b[49m\u001b[43mdelimiter\u001b[49m\u001b[38;5;241;43m=\u001b[39;49m\u001b[38;5;124;43m'\u001b[39;49m\u001b[38;5;124;43m,\u001b[39;49m\u001b[38;5;124;43m'\u001b[39;49m\u001b[43m,\u001b[49m\u001b[43mskip_header\u001b[49m\u001b[38;5;241;43m=\u001b[39;49m\u001b[38;5;241;43m1\u001b[39;49m\u001b[43m,\u001b[49m\u001b[43musecols\u001b[49m\u001b[38;5;241;43m=\u001b[39;49m\u001b[38;5;28;43mrange\u001b[39;49m\u001b[43m(\u001b[49m\u001b[38;5;241;43m1\u001b[39;49m\u001b[43m,\u001b[49m\u001b[38;5;241;43m39\u001b[39;49m\u001b[43m)\u001b[49m\u001b[43m)\u001b[49m \u001b[38;5;66;03m#try39 or 14\u001b[39;00m\n\u001b[0;32m      5\u001b[0m     \u001b[38;5;28;01mif\u001b[39;00m content\u001b[38;5;241m.\u001b[39mndim  \u001b[38;5;241m!=\u001b[39m\u001b[38;5;241m1\u001b[39m \u001b[38;5;129;01mand\u001b[39;00m \u001b[38;5;28msum\u001b[39m(content[:,\u001b[38;5;241m11\u001b[39m])\u001b[38;5;241m>\u001b[39m\u001b[38;5;241m0\u001b[39m :\n\u001b[0;32m      6\u001b[0m         list_array\u001b[38;5;241m.\u001b[39mappend(content)\n",
      "File \u001b[1;32mD:\\Anaconda3\\lib\\site-packages\\numpy\\lib\\npyio.py:2059\u001b[0m, in \u001b[0;36mgenfromtxt\u001b[1;34m(fname, dtype, comments, delimiter, skip_header, skip_footer, converters, missing_values, filling_values, usecols, names, excludelist, deletechars, replace_space, autostrip, case_sensitive, defaultfmt, unpack, usemask, loose, invalid_raise, max_rows, encoding, like)\u001b[0m\n\u001b[0;32m   2056\u001b[0m append_to_invalid \u001b[38;5;241m=\u001b[39m invalid\u001b[38;5;241m.\u001b[39mappend\n\u001b[0;32m   2058\u001b[0m \u001b[38;5;66;03m# Parse each line\u001b[39;00m\n\u001b[1;32m-> 2059\u001b[0m \u001b[38;5;28;01mfor\u001b[39;00m (i, line) \u001b[38;5;129;01min\u001b[39;00m \u001b[38;5;28menumerate\u001b[39m(itertools\u001b[38;5;241m.\u001b[39mchain([first_line, ], fhd)):\n\u001b[0;32m   2060\u001b[0m     values \u001b[38;5;241m=\u001b[39m split_line(line)\n\u001b[0;32m   2061\u001b[0m     nbvalues \u001b[38;5;241m=\u001b[39m \u001b[38;5;28mlen\u001b[39m(values)\n",
      "\u001b[1;31mKeyboardInterrupt\u001b[0m: "
     ]
    }
   ],
   "source": [
    "list_array=[]\n",
    "\n",
    "for p in tqdm(csv_files):\n",
    "    content = genfromtxt(p, delimiter=',',skip_header=1,usecols=range(1,39)) #try39 or 14\n",
    "    if content.ndim  !=1 and sum(content[:,11])>0 :\n",
    "        list_array.append(content)"
   ]
  },
  {
   "cell_type": "code",
   "execution_count": null,
   "id": "43cf4efd",
   "metadata": {},
   "outputs": [],
   "source": [
    "random.shuffle(list_array)"
   ]
  },
  {
   "cell_type": "code",
   "execution_count": null,
   "id": "ebe05ce0",
   "metadata": {},
   "outputs": [],
   "source": [
    "# getting non-scaled_sampled_50_date \n",
    "df_emp = pd.DataFrame()\n",
    "df = pd.DataFrame()\n",
    "df_temp = pd.DataFrame()\n",
    "for i in tqdm(list_array):# getting 100 samples\n",
    "    df_temp = pd.DataFrame(i) # padding to 400 rows\n",
    "    df_temp = df_temp[df_temp.iloc[:,12]>0]\n",
    "    df = pd.concat([df_emp,df_temp])\n",
    "    df_emp = df\n",
    "    \n",
    "first_column = df.pop(12)\n",
    "first_column\n",
    "df.insert(0, 'gap', first_column)\n",
    "#df.to_csv('RNN_gap_morethan0_withoutTgroup.csv')"
   ]
  },
  {
   "cell_type": "code",
   "execution_count": 214,
   "id": "1d63c014",
   "metadata": {},
   "outputs": [],
   "source": [
    "df = pd.read_csv(r'D:\\UCL\\Term3\\tbx-flaring-shihao\\src\\notebooks\\RNN_gap_morethan0_withoutTgroup.csv',index_col=0)\n",
    "y = df['gap']\n",
    "df_copy = df\n",
    "#df= df.iloc[:,:12] # remove is flaring \n",
    "#df"
   ]
  },
  {
   "cell_type": "code",
   "execution_count": 215,
   "id": "2bbbb8d0",
   "metadata": {},
   "outputs": [
    {
     "data": {
      "text/html": [
       "<div>\n",
       "<style scoped>\n",
       "    .dataframe tbody tr th:only-of-type {\n",
       "        vertical-align: middle;\n",
       "    }\n",
       "\n",
       "    .dataframe tbody tr th {\n",
       "        vertical-align: top;\n",
       "    }\n",
       "\n",
       "    .dataframe thead th {\n",
       "        text-align: right;\n",
       "    }\n",
       "</style>\n",
       "<table border=\"1\" class=\"dataframe\">\n",
       "  <thead>\n",
       "    <tr style=\"text-align: right;\">\n",
       "      <th></th>\n",
       "      <th>gap</th>\n",
       "      <th>0</th>\n",
       "      <th>1</th>\n",
       "      <th>2</th>\n",
       "      <th>3</th>\n",
       "      <th>4</th>\n",
       "      <th>5</th>\n",
       "      <th>6</th>\n",
       "      <th>7</th>\n",
       "      <th>8</th>\n",
       "      <th>9</th>\n",
       "      <th>10</th>\n",
       "      <th>11</th>\n",
       "    </tr>\n",
       "  </thead>\n",
       "  <tbody>\n",
       "    <tr>\n",
       "      <th>388</th>\n",
       "      <td>389.0</td>\n",
       "      <td>389.0</td>\n",
       "      <td>1.0</td>\n",
       "      <td>19762.215</td>\n",
       "      <td>2.0</td>\n",
       "      <td>2015.0</td>\n",
       "      <td>1.0</td>\n",
       "      <td>0.99</td>\n",
       "      <td>0.99</td>\n",
       "      <td>2.0</td>\n",
       "      <td>70.0</td>\n",
       "      <td>348.0</td>\n",
       "      <td>1.0</td>\n",
       "    </tr>\n",
       "    <tr>\n",
       "      <th>389</th>\n",
       "      <td>1.0</td>\n",
       "      <td>390.0</td>\n",
       "      <td>1.0</td>\n",
       "      <td>19762.215</td>\n",
       "      <td>2.0</td>\n",
       "      <td>2015.0</td>\n",
       "      <td>3.0</td>\n",
       "      <td>0.99</td>\n",
       "      <td>5.31</td>\n",
       "      <td>2.0</td>\n",
       "      <td>71.0</td>\n",
       "      <td>349.0</td>\n",
       "      <td>1.0</td>\n",
       "    </tr>\n",
       "    <tr>\n",
       "      <th>390</th>\n",
       "      <td>1.0</td>\n",
       "      <td>391.0</td>\n",
       "      <td>1.0</td>\n",
       "      <td>19762.215</td>\n",
       "      <td>2.0</td>\n",
       "      <td>2015.0</td>\n",
       "      <td>10.0</td>\n",
       "      <td>0.99</td>\n",
       "      <td>17.91</td>\n",
       "      <td>2.0</td>\n",
       "      <td>72.0</td>\n",
       "      <td>350.0</td>\n",
       "      <td>1.0</td>\n",
       "    </tr>\n",
       "    <tr>\n",
       "      <th>391</th>\n",
       "      <td>1.0</td>\n",
       "      <td>392.0</td>\n",
       "      <td>1.0</td>\n",
       "      <td>19762.215</td>\n",
       "      <td>2.0</td>\n",
       "      <td>2015.0</td>\n",
       "      <td>11.0</td>\n",
       "      <td>0.99</td>\n",
       "      <td>19.91</td>\n",
       "      <td>2.0</td>\n",
       "      <td>73.0</td>\n",
       "      <td>351.0</td>\n",
       "      <td>1.0</td>\n",
       "    </tr>\n",
       "    <tr>\n",
       "      <th>392</th>\n",
       "      <td>1.0</td>\n",
       "      <td>393.0</td>\n",
       "      <td>1.0</td>\n",
       "      <td>19762.215</td>\n",
       "      <td>2.0</td>\n",
       "      <td>2015.0</td>\n",
       "      <td>12.0</td>\n",
       "      <td>0.99</td>\n",
       "      <td>21.11</td>\n",
       "      <td>2.0</td>\n",
       "      <td>74.0</td>\n",
       "      <td>352.0</td>\n",
       "      <td>1.0</td>\n",
       "    </tr>\n",
       "    <tr>\n",
       "      <th>...</th>\n",
       "      <td>...</td>\n",
       "      <td>...</td>\n",
       "      <td>...</td>\n",
       "      <td>...</td>\n",
       "      <td>...</td>\n",
       "      <td>...</td>\n",
       "      <td>...</td>\n",
       "      <td>...</td>\n",
       "      <td>...</td>\n",
       "      <td>...</td>\n",
       "      <td>...</td>\n",
       "      <td>...</td>\n",
       "      <td>...</td>\n",
       "    </tr>\n",
       "    <tr>\n",
       "      <th>280</th>\n",
       "      <td>1.0</td>\n",
       "      <td>281.0</td>\n",
       "      <td>1.0</td>\n",
       "      <td>24378.037</td>\n",
       "      <td>6.0</td>\n",
       "      <td>2015.0</td>\n",
       "      <td>3.0</td>\n",
       "      <td>0.56</td>\n",
       "      <td>1.52</td>\n",
       "      <td>3.0</td>\n",
       "      <td>84.0</td>\n",
       "      <td>212.0</td>\n",
       "      <td>1.0</td>\n",
       "    </tr>\n",
       "    <tr>\n",
       "      <th>294</th>\n",
       "      <td>14.0</td>\n",
       "      <td>295.0</td>\n",
       "      <td>1.0</td>\n",
       "      <td>24378.037</td>\n",
       "      <td>6.0</td>\n",
       "      <td>2015.0</td>\n",
       "      <td>4.0</td>\n",
       "      <td>0.56</td>\n",
       "      <td>1.84</td>\n",
       "      <td>3.0</td>\n",
       "      <td>98.0</td>\n",
       "      <td>226.0</td>\n",
       "      <td>1.0</td>\n",
       "    </tr>\n",
       "    <tr>\n",
       "      <th>299</th>\n",
       "      <td>5.0</td>\n",
       "      <td>300.0</td>\n",
       "      <td>1.0</td>\n",
       "      <td>24378.037</td>\n",
       "      <td>6.0</td>\n",
       "      <td>2015.0</td>\n",
       "      <td>5.0</td>\n",
       "      <td>0.56</td>\n",
       "      <td>2.23</td>\n",
       "      <td>3.0</td>\n",
       "      <td>103.0</td>\n",
       "      <td>231.0</td>\n",
       "      <td>1.0</td>\n",
       "    </tr>\n",
       "    <tr>\n",
       "      <th>300</th>\n",
       "      <td>1.0</td>\n",
       "      <td>301.0</td>\n",
       "      <td>1.0</td>\n",
       "      <td>24378.037</td>\n",
       "      <td>6.0</td>\n",
       "      <td>2015.0</td>\n",
       "      <td>6.0</td>\n",
       "      <td>0.56</td>\n",
       "      <td>2.96</td>\n",
       "      <td>3.0</td>\n",
       "      <td>104.0</td>\n",
       "      <td>232.0</td>\n",
       "      <td>1.0</td>\n",
       "    </tr>\n",
       "    <tr>\n",
       "      <th>320</th>\n",
       "      <td>20.0</td>\n",
       "      <td>321.0</td>\n",
       "      <td>1.0</td>\n",
       "      <td>24378.037</td>\n",
       "      <td>6.0</td>\n",
       "      <td>2015.0</td>\n",
       "      <td>7.0</td>\n",
       "      <td>0.56</td>\n",
       "      <td>3.49</td>\n",
       "      <td>3.0</td>\n",
       "      <td>124.0</td>\n",
       "      <td>252.0</td>\n",
       "      <td>1.0</td>\n",
       "    </tr>\n",
       "  </tbody>\n",
       "</table>\n",
       "<p>20262 rows × 13 columns</p>\n",
       "</div>"
      ],
      "text/plain": [
       "       gap      0    1          2    3       4     5     6      7    8      9  \\\n",
       "388  389.0  389.0  1.0  19762.215  2.0  2015.0   1.0  0.99   0.99  2.0   70.0   \n",
       "389    1.0  390.0  1.0  19762.215  2.0  2015.0   3.0  0.99   5.31  2.0   71.0   \n",
       "390    1.0  391.0  1.0  19762.215  2.0  2015.0  10.0  0.99  17.91  2.0   72.0   \n",
       "391    1.0  392.0  1.0  19762.215  2.0  2015.0  11.0  0.99  19.91  2.0   73.0   \n",
       "392    1.0  393.0  1.0  19762.215  2.0  2015.0  12.0  0.99  21.11  2.0   74.0   \n",
       "..     ...    ...  ...        ...  ...     ...   ...   ...    ...  ...    ...   \n",
       "280    1.0  281.0  1.0  24378.037  6.0  2015.0   3.0  0.56   1.52  3.0   84.0   \n",
       "294   14.0  295.0  1.0  24378.037  6.0  2015.0   4.0  0.56   1.84  3.0   98.0   \n",
       "299    5.0  300.0  1.0  24378.037  6.0  2015.0   5.0  0.56   2.23  3.0  103.0   \n",
       "300    1.0  301.0  1.0  24378.037  6.0  2015.0   6.0  0.56   2.96  3.0  104.0   \n",
       "320   20.0  321.0  1.0  24378.037  6.0  2015.0   7.0  0.56   3.49  3.0  124.0   \n",
       "\n",
       "        10   11  \n",
       "388  348.0  1.0  \n",
       "389  349.0  1.0  \n",
       "390  350.0  1.0  \n",
       "391  351.0  1.0  \n",
       "392  352.0  1.0  \n",
       "..     ...  ...  \n",
       "280  212.0  1.0  \n",
       "294  226.0  1.0  \n",
       "299  231.0  1.0  \n",
       "300  232.0  1.0  \n",
       "320  252.0  1.0  \n",
       "\n",
       "[20262 rows x 13 columns]"
      ]
     },
     "execution_count": 215,
     "metadata": {},
     "output_type": "execute_result"
    }
   ],
   "source": [
    "df_copy"
   ]
  },
  {
   "cell_type": "code",
   "execution_count": 216,
   "id": "1758a262",
   "metadata": {},
   "outputs": [],
   "source": [
    "# --------start testing ----\n",
    "group = df_copy.groupby(df_copy['2'])"
   ]
  },
  {
   "cell_type": "code",
   "execution_count": 217,
   "id": "9856e3a9",
   "metadata": {},
   "outputs": [
    {
     "data": {
      "text/plain": [
       "9092"
      ]
     },
     "execution_count": 217,
     "metadata": {},
     "output_type": "execute_result"
    }
   ],
   "source": [
    "\n",
    "df_test = pd.DataFrame()\n",
    "for i in group:\n",
    "    if len(i[1]) > 20:\n",
    "        df_test = pd.concat([df_test,i[1]])\n",
    "len(df_test)        "
   ]
  },
  {
   "cell_type": "code",
   "execution_count": 218,
   "id": "6b14ee10",
   "metadata": {},
   "outputs": [
    {
     "data": {
      "text/html": [
       "<div>\n",
       "<style scoped>\n",
       "    .dataframe tbody tr th:only-of-type {\n",
       "        vertical-align: middle;\n",
       "    }\n",
       "\n",
       "    .dataframe tbody tr th {\n",
       "        vertical-align: top;\n",
       "    }\n",
       "\n",
       "    .dataframe thead th {\n",
       "        text-align: right;\n",
       "    }\n",
       "</style>\n",
       "<table border=\"1\" class=\"dataframe\">\n",
       "  <thead>\n",
       "    <tr style=\"text-align: right;\">\n",
       "      <th></th>\n",
       "      <th>gap</th>\n",
       "      <th>0</th>\n",
       "      <th>1</th>\n",
       "      <th>2</th>\n",
       "      <th>3</th>\n",
       "      <th>4</th>\n",
       "      <th>5</th>\n",
       "      <th>6</th>\n",
       "      <th>7</th>\n",
       "      <th>8</th>\n",
       "      <th>9</th>\n",
       "      <th>10</th>\n",
       "      <th>11</th>\n",
       "    </tr>\n",
       "  </thead>\n",
       "  <tbody>\n",
       "    <tr>\n",
       "      <th>931</th>\n",
       "      <td>932.0</td>\n",
       "      <td>932.0</td>\n",
       "      <td>1.0</td>\n",
       "      <td>5239.8115</td>\n",
       "      <td>1.0</td>\n",
       "      <td>2014.0</td>\n",
       "      <td>3.0</td>\n",
       "      <td>2.06</td>\n",
       "      <td>7.57</td>\n",
       "      <td>1.0</td>\n",
       "      <td>30.0</td>\n",
       "      <td>818.0</td>\n",
       "      <td>1.0</td>\n",
       "    </tr>\n",
       "    <tr>\n",
       "      <th>938</th>\n",
       "      <td>7.0</td>\n",
       "      <td>939.0</td>\n",
       "      <td>1.0</td>\n",
       "      <td>5239.8115</td>\n",
       "      <td>1.0</td>\n",
       "      <td>2014.0</td>\n",
       "      <td>4.0</td>\n",
       "      <td>2.06</td>\n",
       "      <td>8.25</td>\n",
       "      <td>1.0</td>\n",
       "      <td>37.0</td>\n",
       "      <td>825.0</td>\n",
       "      <td>1.0</td>\n",
       "    </tr>\n",
       "    <tr>\n",
       "      <th>940</th>\n",
       "      <td>2.0</td>\n",
       "      <td>941.0</td>\n",
       "      <td>1.0</td>\n",
       "      <td>5239.8115</td>\n",
       "      <td>1.0</td>\n",
       "      <td>2014.0</td>\n",
       "      <td>5.0</td>\n",
       "      <td>2.06</td>\n",
       "      <td>8.88</td>\n",
       "      <td>1.0</td>\n",
       "      <td>39.0</td>\n",
       "      <td>827.0</td>\n",
       "      <td>1.0</td>\n",
       "    </tr>\n",
       "    <tr>\n",
       "      <th>971</th>\n",
       "      <td>31.0</td>\n",
       "      <td>972.0</td>\n",
       "      <td>1.0</td>\n",
       "      <td>5239.8115</td>\n",
       "      <td>1.0</td>\n",
       "      <td>2014.0</td>\n",
       "      <td>6.0</td>\n",
       "      <td>2.06</td>\n",
       "      <td>10.88</td>\n",
       "      <td>1.0</td>\n",
       "      <td>70.0</td>\n",
       "      <td>858.0</td>\n",
       "      <td>1.0</td>\n",
       "    </tr>\n",
       "    <tr>\n",
       "      <th>991</th>\n",
       "      <td>20.0</td>\n",
       "      <td>992.0</td>\n",
       "      <td>1.0</td>\n",
       "      <td>5239.8115</td>\n",
       "      <td>1.0</td>\n",
       "      <td>2014.0</td>\n",
       "      <td>8.0</td>\n",
       "      <td>2.06</td>\n",
       "      <td>14.09</td>\n",
       "      <td>1.0</td>\n",
       "      <td>90.0</td>\n",
       "      <td>878.0</td>\n",
       "      <td>1.0</td>\n",
       "    </tr>\n",
       "    <tr>\n",
       "      <th>...</th>\n",
       "      <td>...</td>\n",
       "      <td>...</td>\n",
       "      <td>...</td>\n",
       "      <td>...</td>\n",
       "      <td>...</td>\n",
       "      <td>...</td>\n",
       "      <td>...</td>\n",
       "      <td>...</td>\n",
       "      <td>...</td>\n",
       "      <td>...</td>\n",
       "      <td>...</td>\n",
       "      <td>...</td>\n",
       "      <td>...</td>\n",
       "    </tr>\n",
       "    <tr>\n",
       "      <th>555</th>\n",
       "      <td>8.0</td>\n",
       "      <td>556.0</td>\n",
       "      <td>1.0</td>\n",
       "      <td>87701.7200</td>\n",
       "      <td>2.0</td>\n",
       "      <td>2018.0</td>\n",
       "      <td>31.0</td>\n",
       "      <td>0.42</td>\n",
       "      <td>21.22</td>\n",
       "      <td>2.0</td>\n",
       "      <td>388.0</td>\n",
       "      <td>458.0</td>\n",
       "      <td>1.0</td>\n",
       "    </tr>\n",
       "    <tr>\n",
       "      <th>576</th>\n",
       "      <td>21.0</td>\n",
       "      <td>577.0</td>\n",
       "      <td>1.0</td>\n",
       "      <td>87701.7200</td>\n",
       "      <td>2.0</td>\n",
       "      <td>2018.0</td>\n",
       "      <td>32.0</td>\n",
       "      <td>0.42</td>\n",
       "      <td>24.05</td>\n",
       "      <td>2.0</td>\n",
       "      <td>409.0</td>\n",
       "      <td>479.0</td>\n",
       "      <td>1.0</td>\n",
       "    </tr>\n",
       "    <tr>\n",
       "      <th>585</th>\n",
       "      <td>9.0</td>\n",
       "      <td>586.0</td>\n",
       "      <td>1.0</td>\n",
       "      <td>87701.7200</td>\n",
       "      <td>2.0</td>\n",
       "      <td>2018.0</td>\n",
       "      <td>33.0</td>\n",
       "      <td>0.42</td>\n",
       "      <td>24.69</td>\n",
       "      <td>2.0</td>\n",
       "      <td>418.0</td>\n",
       "      <td>488.0</td>\n",
       "      <td>1.0</td>\n",
       "    </tr>\n",
       "    <tr>\n",
       "      <th>619</th>\n",
       "      <td>34.0</td>\n",
       "      <td>620.0</td>\n",
       "      <td>1.0</td>\n",
       "      <td>87701.7200</td>\n",
       "      <td>2.0</td>\n",
       "      <td>2018.0</td>\n",
       "      <td>35.0</td>\n",
       "      <td>0.42</td>\n",
       "      <td>26.15</td>\n",
       "      <td>2.0</td>\n",
       "      <td>452.0</td>\n",
       "      <td>522.0</td>\n",
       "      <td>1.0</td>\n",
       "    </tr>\n",
       "    <tr>\n",
       "      <th>646</th>\n",
       "      <td>27.0</td>\n",
       "      <td>647.0</td>\n",
       "      <td>1.0</td>\n",
       "      <td>87701.7200</td>\n",
       "      <td>2.0</td>\n",
       "      <td>2018.0</td>\n",
       "      <td>36.0</td>\n",
       "      <td>0.42</td>\n",
       "      <td>27.05</td>\n",
       "      <td>2.0</td>\n",
       "      <td>479.0</td>\n",
       "      <td>549.0</td>\n",
       "      <td>1.0</td>\n",
       "    </tr>\n",
       "  </tbody>\n",
       "</table>\n",
       "<p>9092 rows × 13 columns</p>\n",
       "</div>"
      ],
      "text/plain": [
       "       gap      0    1           2    3       4     5     6      7    8  \\\n",
       "931  932.0  932.0  1.0   5239.8115  1.0  2014.0   3.0  2.06   7.57  1.0   \n",
       "938    7.0  939.0  1.0   5239.8115  1.0  2014.0   4.0  2.06   8.25  1.0   \n",
       "940    2.0  941.0  1.0   5239.8115  1.0  2014.0   5.0  2.06   8.88  1.0   \n",
       "971   31.0  972.0  1.0   5239.8115  1.0  2014.0   6.0  2.06  10.88  1.0   \n",
       "991   20.0  992.0  1.0   5239.8115  1.0  2014.0   8.0  2.06  14.09  1.0   \n",
       "..     ...    ...  ...         ...  ...     ...   ...   ...    ...  ...   \n",
       "555    8.0  556.0  1.0  87701.7200  2.0  2018.0  31.0  0.42  21.22  2.0   \n",
       "576   21.0  577.0  1.0  87701.7200  2.0  2018.0  32.0  0.42  24.05  2.0   \n",
       "585    9.0  586.0  1.0  87701.7200  2.0  2018.0  33.0  0.42  24.69  2.0   \n",
       "619   34.0  620.0  1.0  87701.7200  2.0  2018.0  35.0  0.42  26.15  2.0   \n",
       "646   27.0  647.0  1.0  87701.7200  2.0  2018.0  36.0  0.42  27.05  2.0   \n",
       "\n",
       "         9     10   11  \n",
       "931   30.0  818.0  1.0  \n",
       "938   37.0  825.0  1.0  \n",
       "940   39.0  827.0  1.0  \n",
       "971   70.0  858.0  1.0  \n",
       "991   90.0  878.0  1.0  \n",
       "..     ...    ...  ...  \n",
       "555  388.0  458.0  1.0  \n",
       "576  409.0  479.0  1.0  \n",
       "585  418.0  488.0  1.0  \n",
       "619  452.0  522.0  1.0  \n",
       "646  479.0  549.0  1.0  \n",
       "\n",
       "[9092 rows x 13 columns]"
      ]
     },
     "execution_count": 218,
     "metadata": {},
     "output_type": "execute_result"
    }
   ],
   "source": [
    "df_test"
   ]
  },
  {
   "cell_type": "code",
   "execution_count": 196,
   "id": "62b4467b",
   "metadata": {},
   "outputs": [],
   "source": [
    "def freq(lst):\n",
    "    d = {}\n",
    "    for i in lst:\n",
    "        if d.get(i):\n",
    "            d[i] += 1\n",
    "        else:\n",
    "            d[i] = 1\n",
    "    return d"
   ]
  },
  {
   "cell_type": "code",
   "execution_count": 172,
   "id": "dd984d6f",
   "metadata": {},
   "outputs": [
    {
     "data": {
      "text/plain": [
       "{5239.8115: 59,\n",
       " 6814.548: 85,\n",
       " 6979.2324: 23,\n",
       " 8085.8364: 53,\n",
       " 8384.124: 46,\n",
       " 9260.131: 23,\n",
       " 9439.729: 41,\n",
       " 9612.163: 25,\n",
       " 9660.307: 28,\n",
       " 9748.6455: 50,\n",
       " 10024.814: 21,\n",
       " 10161.608: 25,\n",
       " 10704.753: 22,\n",
       " 10823.515: 82,\n",
       " 10847.297: 94,\n",
       " 10905.124: 32,\n",
       " 11667.971: 27,\n",
       " 11903.744: 35,\n",
       " 12275.455: 51,\n",
       " 12784.568: 23,\n",
       " 12855.411: 94,\n",
       " 12870.424: 94,\n",
       " 12919.441: 26,\n",
       " 13082.59: 26,\n",
       " 13182.168: 41,\n",
       " 13216.054: 33,\n",
       " 13235.62: 26,\n",
       " 13433.721: 35,\n",
       " 13776.829: 44,\n",
       " 13785.769: 67,\n",
       " 14299.589: 147,\n",
       " 14675.247: 23,\n",
       " 15185.078: 22,\n",
       " 15436.648: 51,\n",
       " 15673.876: 28,\n",
       " 15954.983: 348,\n",
       " 15972.315: 38,\n",
       " 16373.502: 27,\n",
       " 16457.152: 23,\n",
       " 16651.145: 32,\n",
       " 16776.746: 46,\n",
       " 16780.059: 21,\n",
       " 16940.268: 25,\n",
       " 17903.627: 125,\n",
       " 18102.357: 53,\n",
       " 18317.982: 121,\n",
       " 18369.395: 21,\n",
       " 18396.559: 203,\n",
       " 18481.432: 30,\n",
       " 19138.852: 57,\n",
       " 19649.246: 25,\n",
       " 19836.637: 27,\n",
       " 20729.969: 58,\n",
       " 20926.541: 110,\n",
       " 21053.19: 29,\n",
       " 21064.639: 120,\n",
       " 21456.006: 21,\n",
       " 21537.479: 25,\n",
       " 21654.992: 23,\n",
       " 21750.871: 49,\n",
       " 21852.357: 22,\n",
       " 22012.195: 43,\n",
       " 22018.598: 24,\n",
       " 22229.502: 42,\n",
       " 22290.922: 23,\n",
       " 22315.658: 78,\n",
       " 22435.73: 21,\n",
       " 22726.467: 28,\n",
       " 22737.504: 31,\n",
       " 22869.037: 28,\n",
       " 22896.555: 39,\n",
       " 23238.81: 21,\n",
       " 23458.791: 56,\n",
       " 23926.182: 26,\n",
       " 24097.646: 37,\n",
       " 24146.666: 49,\n",
       " 24338.244: 23,\n",
       " 24475.605: 35,\n",
       " 24496.848: 28,\n",
       " 24711.576: 42,\n",
       " 24742.104: 26,\n",
       " 24747.273: 27,\n",
       " 25117.578: 21,\n",
       " 25546.348: 71,\n",
       " 25824.87: 60,\n",
       " 25882.383: 38,\n",
       " 26060.594: 73,\n",
       " 26075.252: 24,\n",
       " 26096.047: 38,\n",
       " 26369.686: 21,\n",
       " 26661.031: 277,\n",
       " 26792.598: 24,\n",
       " 26820.848: 98,\n",
       " 27241.88: 23,\n",
       " 27398.38: 35,\n",
       " 27495.83: 34,\n",
       " 27920.4: 25,\n",
       " 27924.736: 29,\n",
       " 27966.273: 23,\n",
       " 28857.03: 25,\n",
       " 28965.143: 50,\n",
       " 29104.137: 25,\n",
       " 29276.986: 25,\n",
       " 30221.045: 21,\n",
       " 30359.889: 24,\n",
       " 30415.506: 32,\n",
       " 30562.512: 58,\n",
       " 30893.812: 24,\n",
       " 31441.18: 24,\n",
       " 31860.7: 26,\n",
       " 32105.02: 90,\n",
       " 32144.273: 34,\n",
       " 32178.377: 21,\n",
       " 32184.125: 22,\n",
       " 32300.25: 36,\n",
       " 32338.56: 63,\n",
       " 32408.41: 21,\n",
       " 32507.652: 67,\n",
       " 33429.6: 27,\n",
       " 33772.26: 54,\n",
       " 33946.79: 21,\n",
       " 34676.6: 33,\n",
       " 34921.504: 47,\n",
       " 34929.773: 43,\n",
       " 35104.812: 32,\n",
       " 35332.125: 63,\n",
       " 35834.297: 39,\n",
       " 35884.406: 25,\n",
       " 35934.094: 30,\n",
       " 35938.223: 57,\n",
       " 36702.29: 36,\n",
       " 36704.594: 21,\n",
       " 36974.707: 49,\n",
       " 37128.47: 52,\n",
       " 37187.562: 42,\n",
       " 38245.71: 57,\n",
       " 38271.953: 60,\n",
       " 38781.98: 34,\n",
       " 39203.203: 126,\n",
       " 39237.51: 37,\n",
       " 39850.97: 129,\n",
       " 39912.06: 21,\n",
       " 40003.004: 31,\n",
       " 40870.91: 100,\n",
       " 41077.047: 24,\n",
       " 41151.57: 55,\n",
       " 42211.656: 24,\n",
       " 42289.1: 25,\n",
       " 42883.516: 41,\n",
       " 43309.484: 39,\n",
       " 43364.16: 22,\n",
       " 43528.0: 64,\n",
       " 43741.176: 33,\n",
       " 44377.316: 22,\n",
       " 45109.95: 22,\n",
       " 45853.668: 26,\n",
       " 46350.0: 43,\n",
       " 46467.215: 61,\n",
       " 47307.86: 24,\n",
       " 47399.36: 46,\n",
       " 47537.855: 30,\n",
       " 47638.625: 28,\n",
       " 47808.684: 56,\n",
       " 48107.383: 31,\n",
       " 50678.844: 50,\n",
       " 50823.754: 85,\n",
       " 51368.86: 101,\n",
       " 51623.49: 53,\n",
       " 51896.184: 23,\n",
       " 53252.836: 42,\n",
       " 53408.324: 33,\n",
       " 54329.16: 36,\n",
       " 54476.695: 208,\n",
       " 55397.688: 31,\n",
       " 57531.594: 71,\n",
       " 57863.418: 35,\n",
       " 58144.13: 24,\n",
       " 59049.594: 68,\n",
       " 59768.523: 45,\n",
       " 64994.094: 37,\n",
       " 66682.57: 52,\n",
       " 66810.0: 34,\n",
       " 68217.44: 37,\n",
       " 70942.516: 27,\n",
       " 72748.55: 55,\n",
       " 74051.99: 23,\n",
       " 78692.85: 92,\n",
       " 80659.695: 206,\n",
       " 87701.72: 32}"
      ]
     },
     "execution_count": 172,
     "metadata": {},
     "output_type": "execute_result"
    }
   ],
   "source": [
    "freq(df_test['2'])"
   ]
  },
  {
   "cell_type": "code",
   "execution_count": 219,
   "id": "4e7f2781",
   "metadata": {},
   "outputs": [],
   "source": [
    "df = df_test\n",
    "y = df_test['gap']"
   ]
  },
  {
   "cell_type": "code",
   "execution_count": 198,
   "id": "be32c882",
   "metadata": {},
   "outputs": [],
   "source": [
    "# --------end testing ----"
   ]
  },
  {
   "cell_type": "code",
   "execution_count": 199,
   "id": "68bd89fb",
   "metadata": {},
   "outputs": [
    {
     "data": {
      "text/plain": [
       "15954.983    348\n",
       "26661.031    277\n",
       "54476.695    208\n",
       "80659.695    206\n",
       "18396.559    203\n",
       "            ... \n",
       "48756.438      1\n",
       "13397.524      1\n",
       "57855.800      1\n",
       "38858.055      1\n",
       "35713.625      1\n",
       "Name: 2, Length: 4006, dtype: int64"
      ]
     },
     "execution_count": 199,
     "metadata": {},
     "output_type": "execute_result"
    }
   ],
   "source": [
    "df_copy.iloc[:,3].value_counts()"
   ]
  },
  {
   "cell_type": "code",
   "execution_count": 220,
   "id": "1fac9bb2",
   "metadata": {},
   "outputs": [
    {
     "data": {
      "text/plain": [
       "[<matplotlib.lines.Line2D at 0x1bf9288ef10>]"
      ]
     },
     "execution_count": 220,
     "metadata": {},
     "output_type": "execute_result"
    },
    {
     "data": {
      "image/png": "[encoded data removed]",
      "text/plain": [
       "<Figure size 432x288 with 1 Axes>"
      ]
     },
     "metadata": {
      "needs_background": "light"
     },
     "output_type": "display_data"
    }
   ],
   "source": [
    "plt.plot(df_copy['gap'])"
   ]
  },
  {
   "cell_type": "code",
   "execution_count": 221,
   "id": "77d8aef2",
   "metadata": {},
   "outputs": [],
   "source": [
    "scaler = StandardScaler()\n",
    "scaler = scaler.fit(df)\n",
    "df = scaler.transform(df)"
   ]
  },
  {
   "cell_type": "code",
   "execution_count": 222,
   "id": "41b38ccb",
   "metadata": {},
   "outputs": [
    {
     "data": {
      "application/vnd.jupyter.widget-view+json": {
       "model_id": "7dfc3558cd624d9a8a7cee7b1cf6be4c",
       "version_major": 2,
       "version_minor": 0
      },
      "text/plain": [
       "  0%|          | 0/9002 [00:00<?, ?it/s]"
      ]
     },
     "metadata": {},
     "output_type": "display_data"
    }
   ],
   "source": [
    "n_future = 1\n",
    "n_past = 90\n",
    "trainX = []\n",
    "trainY = [] \n",
    "for i in tqdm(range(n_past, len(df) - n_future +1)):\n",
    "    trainX.append(df[i - n_past:i, 0:df.shape[1]])\n",
    "    trainY.append(df[i + n_future - 1:i + n_future, 0])\n",
    "    #trainX.append(df.iloc[i - n_past:i, 0:df.shape[1]])\n",
    "    #trainY.append(df.iloc[i + n_future - 1:i + n_future, 0])"
   ]
  },
  {
   "cell_type": "code",
   "execution_count": 223,
   "id": "9045a574",
   "metadata": {},
   "outputs": [],
   "source": [
    "trainX, trainY = np.array(trainX), np.array(trainY)"
   ]
  },
  {
   "cell_type": "code",
   "execution_count": 224,
   "id": "41d20cf2",
   "metadata": {},
   "outputs": [
    {
     "name": "stdout",
     "output_type": "stream",
     "text": [
      "trainX shape == (9002, 90, 13).\n",
      "trainY shape == (9002, 1).\n"
     ]
    }
   ],
   "source": [
    "print('trainX shape == {}.'.format(trainX.shape))\n",
    "print('trainY shape == {}.'.format(trainY.shape))"
   ]
  },
  {
   "cell_type": "code",
   "execution_count": 225,
   "id": "0f044189",
   "metadata": {},
   "outputs": [],
   "source": [
    "\n",
    "\n",
    "#optimizer = optimizers.Adam(learning_rate=0.001,clipvalue=0.5)\n",
    "\n",
    "\n",
    "#model.compile(optimizer=optimizer, loss='mse')#,metrics=['accuracy']) "
   ]
  },
  {
   "cell_type": "code",
   "execution_count": 226,
   "id": "3e2dc7c8",
   "metadata": {},
   "outputs": [],
   "source": [
    "\n",
    "# model = Sequential()\n",
    "# #model.add(Masking(mask_value=0, input_shape=(trainX.shape[1], trainX.shape[2])))\n",
    "# model.add(LSTM(16, activation='relu', input_shape=(trainX.shape[1], trainX.shape[2])))#, return_sequences=True))\n",
    "# #model.add(LSTM(32, activation='relu', return_sequences=False))\n",
    "# model.add(Dropout(0.3))\n",
    "# model.add(Dense(trainY.shape[1]))\n",
    "# model.compile(optimizer='adam', loss='mse')#,metrics=['accuracy']) \n",
    "# #model.compile(optimizer=optimizer, loss='mse')#,metrics=['accuracy']) \n",
    "# model.summary()"
   ]
  },
  {
   "cell_type": "code",
   "execution_count": 242,
   "id": "ef43d14b",
   "metadata": {},
   "outputs": [
    {
     "name": "stdout",
     "output_type": "stream",
     "text": [
      "Model: \"sequential_16\"\n",
      "_________________________________________________________________\n",
      " Layer (type)                Output Shape              Param #   \n",
      "=================================================================\n",
      " lstm_19 (LSTM)              (None, 64)                19968     \n",
      "                                                                 \n",
      " dropout_14 (Dropout)        (None, 64)                0         \n",
      "                                                                 \n",
      " dense_14 (Dense)            (None, 1)                 65        \n",
      "                                                                 \n",
      "=================================================================\n",
      "Total params: 20,033\n",
      "Trainable params: 20,033\n",
      "Non-trainable params: 0\n",
      "_________________________________________________________________\n"
     ]
    }
   ],
   "source": [
    "optimizer = tf.keras.optimizers.Adam(learning_rate=0.0001)\n",
    "model = Sequential()\n",
    "#model.add(Masking(mask_value=0, input_shape=(trainX.shape[1], trainX.shape[2])))\n",
    "model.add(LSTM(64, activation='relu', input_shape=(trainX.shape[1], trainX.shape[2])))#, return_sequences=True))\n",
    "#model.add(LSTM(32, activation='relu', return_sequences=False))\n",
    "model.add(Dropout(0.2))\n",
    "model.add(Dense(trainY.shape[1]))\n",
    "#model.compile(optimizer='adam', loss='mse')#,metrics=['accuracy']) \n",
    "model.compile(optimizer=optimizer, loss='mae')#,metrics=['accuracy']) \n",
    "model.summary()"
   ]
  },
  {
   "cell_type": "code",
   "execution_count": 243,
   "id": "a2e14c4c",
   "metadata": {},
   "outputs": [
    {
     "name": "stdout",
     "output_type": "stream",
     "text": [
      "Epoch 1/20\n",
      "113/113 [==============================] - 4s 28ms/step - loss: 0.2725 - val_loss: 0.6144\n",
      "Epoch 2/20\n",
      "113/113 [==============================] - 3s 28ms/step - loss: 0.2203 - val_loss: 0.4234\n",
      "Epoch 3/20\n",
      "113/113 [==============================] - 3s 28ms/step - loss: 0.2095 - val_loss: 0.3292\n",
      "Epoch 4/20\n",
      "113/113 [==============================] - 3s 28ms/step - loss: 0.2007 - val_loss: 0.2941\n",
      "Epoch 5/20\n",
      "113/113 [==============================] - 3s 28ms/step - loss: 0.1958 - val_loss: 0.2701\n",
      "Epoch 6/20\n",
      "113/113 [==============================] - 3s 27ms/step - loss: 0.1907 - val_loss: 0.2474\n",
      "Epoch 7/20\n",
      "113/113 [==============================] - 3s 28ms/step - loss: 0.1885 - val_loss: 0.2344\n",
      "Epoch 8/20\n",
      "113/113 [==============================] - 3s 28ms/step - loss: 0.1866 - val_loss: 0.2198\n",
      "Epoch 9/20\n",
      "113/113 [==============================] - 3s 28ms/step - loss: 0.1821 - val_loss: 0.2143\n",
      "Epoch 10/20\n",
      "113/113 [==============================] - 3s 28ms/step - loss: 0.1812 - val_loss: 0.2032\n",
      "Epoch 11/20\n",
      "113/113 [==============================] - 3s 29ms/step - loss: 0.1795 - val_loss: 0.1932\n",
      "Epoch 12/20\n",
      "113/113 [==============================] - 3s 28ms/step - loss: 0.1777 - val_loss: 0.1898\n",
      "Epoch 13/20\n",
      "113/113 [==============================] - 3s 27ms/step - loss: 0.1766 - val_loss: 0.1845\n",
      "Epoch 14/20\n",
      "113/113 [==============================] - 3s 28ms/step - loss: 0.1754 - val_loss: 0.1829\n",
      "Epoch 15/20\n",
      "113/113 [==============================] - 3s 28ms/step - loss: 0.1743 - val_loss: 0.1834\n",
      "Epoch 16/20\n",
      "113/113 [==============================] - 3s 27ms/step - loss: 0.1728 - val_loss: 0.1784\n",
      "Epoch 17/20\n",
      "113/113 [==============================] - 3s 27ms/step - loss: 0.1722 - val_loss: 0.1748\n",
      "Epoch 18/20\n",
      "113/113 [==============================] - 3s 27ms/step - loss: 0.1713 - val_loss: 0.1679\n",
      "Epoch 19/20\n",
      "113/113 [==============================] - 3s 27ms/step - loss: 0.1706 - val_loss: 0.1708\n",
      "Epoch 20/20\n",
      "113/113 [==============================] - 3s 28ms/step - loss: 0.1698 - val_loss: 0.1673\n"
     ]
    },
    {
     "data": {
      "text/plain": [
       "<matplotlib.legend.Legend at 0x1bfa43136d0>"
      ]
     },
     "execution_count": 243,
     "metadata": {},
     "output_type": "execute_result"
    },
    {
     "data": {
      "image/png": "[encoded data removed]",
      "text/plain": [
       "<Figure size 432x288 with 1 Axes>"
      ]
     },
     "metadata": {
      "needs_background": "light"
     },
     "output_type": "display_data"
    }
   ],
   "source": [
    "history = model.fit(trainX, trainY, epochs=20, batch_size=64, validation_split=0.2)#,verbose=1)\n",
    "plt.plot(history.history['loss'], label='Training loss')\n",
    "plt.plot(history.history['val_loss'], label='Validation loss')\n",
    "plt.legend()"
   ]
  },
  {
   "cell_type": "code",
   "execution_count": 244,
   "id": "5915d089",
   "metadata": {},
   "outputs": [
    {
     "data": {
      "text/plain": [
       "9087"
      ]
     },
     "execution_count": 244,
     "metadata": {},
     "output_type": "execute_result"
    }
   ],
   "source": [
    "len(y[5:])"
   ]
  },
  {
   "cell_type": "code",
   "execution_count": 245,
   "id": "3632f958",
   "metadata": {},
   "outputs": [
    {
     "name": "stdout",
     "output_type": "stream",
     "text": [
      "282/282 [==============================] - 3s 10ms/step\n"
     ]
    }
   ],
   "source": [
    "predictions = model.predict(trainX)\n",
    "prediction_copies = np.repeat(predictions, df.shape[1], axis=-1)\n",
    "y_pred_future = scaler.inverse_transform(prediction_copies)[:,0].flatten()\n",
    "\n",
    "\n",
    "def plot_predictions1(model, X, y, start=0, end=500):\n",
    "\n",
    "    df = pd.DataFrame(data={'Predictions':y_pred_future, 'Actuals':y[90:]})\n",
    "    plt.scatter(df['Predictions'][start:end],df.index[start:end])\n",
    "    plt.scatter(df['Actuals'][start:end],df.index[start:end])\n",
    "    #return df\n"
   ]
  },
  {
   "cell_type": "code",
   "execution_count": 246,
   "id": "5a765b52",
   "metadata": {},
   "outputs": [
    {
     "data": {
      "image/png": "[encoded data removed]",
      "text/plain": [
       "<Figure size 432x288 with 1 Axes>"
      ]
     },
     "metadata": {
      "needs_background": "light"
     },
     "output_type": "display_data"
    }
   ],
   "source": [
    "\n",
    "y_pred_future[y_pred_future<0] = 0\n",
    "plot_predictions1(model, trainX, y)"
   ]
  },
  {
   "cell_type": "code",
   "execution_count": 247,
   "id": "0a88ee30",
   "metadata": {},
   "outputs": [
    {
     "name": "stdout",
     "output_type": "stream",
     "text": [
      "Mean Absolute Error : 9.786172626395018\n"
     ]
    }
   ],
   "source": [
    "from sklearn.metrics import mean_absolute_error\n",
    "\n",
    "\n",
    "\n",
    "print(\"Mean Absolute Error : \" + str(mean_absolute_error(y_pred_future, y[90:])))"
   ]
  },
  {
   "cell_type": "code",
   "execution_count": 248,
   "id": "f793b28b",
   "metadata": {},
   "outputs": [
    {
     "data": {
      "text/plain": [
       "array([ 1.4169527,  1.4171673,  1.4198662, ..., 23.054409 , 33.46829  ,\n",
       "       45.87479  ], dtype=float32)"
      ]
     },
     "execution_count": 248,
     "metadata": {},
     "output_type": "execute_result"
    }
   ],
   "source": [
    "y_pred_future"
   ]
  },
  {
   "cell_type": "code",
   "execution_count": null,
   "id": "4879bc00",
   "metadata": {},
   "outputs": [],
   "source": []
  }
 ],
 "metadata": {
  "kernelspec": {
   "display_name": "Python 3 (ipykernel)",
   "language": "python",
   "name": "python3"
  },
  "language_info": {
   "codemirror_mode": {
    "name": "ipython",
    "version": 3
   },
   "file_extension": ".py",
   "mimetype": "text/x-python",
   "name": "python",
   "nbconvert_exporter": "python",
   "pygments_lexer": "ipython3",
   "version": "3.9.12"
  }
 },
 "nbformat": 4,
 "nbformat_minor": 5
}
